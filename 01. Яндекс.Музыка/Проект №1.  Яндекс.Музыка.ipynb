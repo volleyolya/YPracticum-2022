{
 "cells": [
  {
   "cell_type": "markdown",
   "metadata": {
    "id": "E0vqbgi9ay0H"
   },
   "source": [
    "# Яндекс.Музыка"
   ]
  },
  {
   "cell_type": "markdown",
   "metadata": {
    "id": "VUC88oWjTJw2"
   },
   "source": [
    "Сравнение Москвы и Петербурга окружено мифами. Например:\n",
    " * Москва — мегаполис, подчинённый жёсткому ритму рабочей недели;\n",
    " * Петербург — культурная столица, со своими вкусами.\n",
    "\n",
    "На данных Яндекс.Музыки я сравню поведение пользователей двух столиц.\n",
    "\n",
    "**Цель исследования** — проверить три гипотезы:\n",
    "1. Активность пользователей зависит от дня недели. Причём в Москве и Петербурге это проявляется по-разному.\n",
    "2. В понедельник утром в Москве преобладают одни жанры, а в Петербурге — другие. Так же и вечером пятницы преобладают разные жанры — в зависимости от города. \n",
    "3. Москва и Петербург предпочитают разные жанры музыки. В Москве чаще слушают поп-музыку, в Петербурге — русский рэп.\n",
    "\n",
    "**Ход исследования**\n",
    "\n",
    "Данные о поведении пользователей получены из файла `yandex_music_project.csv`. О качестве данных ничего не известно. Поэтому перед проверкой гипотез понадобится обзор данных. \n",
    "\n",
    "Необходимо проверить данные на ошибки и оцените их влияние на исследование. Затем, на этапе предобработки исправить самые критичные ошибки данных.\n",
    " \n",
    "Таким образом, исследование пройдёт в три этапа:\n",
    " 1. Обзор данных.\n",
    " 2. Предобработка данных.\n",
    " 3. Проверка гипотез.\n",
    "\n"
   ]
  },
  {
   "cell_type": "markdown",
   "metadata": {
    "id": "Ml1hmfXC_Zcs"
   },
   "source": [
    "## Обзор данных\n",
    "\n",
    "Первое представление о данных Яндекс.Музыки."
   ]
  },
  {
   "cell_type": "code",
   "execution_count": 1,
   "metadata": {
    "id": "AXN7PHPN_Zcs"
   },
   "outputs": [],
   "source": [
    "import pandas as pd # импорт библиотеки pandas"
   ]
  },
  {
   "cell_type": "code",
   "execution_count": 2,
   "metadata": {
    "id": "fFVu7vqh_Zct"
   },
   "outputs": [],
   "source": [
    "df = pd.read_csv('/datasets/yandex_music_project.csv') # чтение файла с данными и сохранение в df"
   ]
  },
  {
   "cell_type": "code",
   "execution_count": 3,
   "metadata": {
    "id": "oWTVX3gW_Zct"
   },
   "outputs": [
    {
     "data": {
      "text/html": [
       "<div>\n",
       "<style scoped>\n",
       "    .dataframe tbody tr th:only-of-type {\n",
       "        vertical-align: middle;\n",
       "    }\n",
       "\n",
       "    .dataframe tbody tr th {\n",
       "        vertical-align: top;\n",
       "    }\n",
       "\n",
       "    .dataframe thead th {\n",
       "        text-align: right;\n",
       "    }\n",
       "</style>\n",
       "<table border=\"1\" class=\"dataframe\">\n",
       "  <thead>\n",
       "    <tr style=\"text-align: right;\">\n",
       "      <th></th>\n",
       "      <th>userID</th>\n",
       "      <th>Track</th>\n",
       "      <th>artist</th>\n",
       "      <th>genre</th>\n",
       "      <th>City</th>\n",
       "      <th>time</th>\n",
       "      <th>Day</th>\n",
       "    </tr>\n",
       "  </thead>\n",
       "  <tbody>\n",
       "    <tr>\n",
       "      <th>0</th>\n",
       "      <td>FFB692EC</td>\n",
       "      <td>Kamigata To Boots</td>\n",
       "      <td>The Mass Missile</td>\n",
       "      <td>rock</td>\n",
       "      <td>Saint-Petersburg</td>\n",
       "      <td>20:28:33</td>\n",
       "      <td>Wednesday</td>\n",
       "    </tr>\n",
       "    <tr>\n",
       "      <th>1</th>\n",
       "      <td>55204538</td>\n",
       "      <td>Delayed Because of Accident</td>\n",
       "      <td>Andreas Rönnberg</td>\n",
       "      <td>rock</td>\n",
       "      <td>Moscow</td>\n",
       "      <td>14:07:09</td>\n",
       "      <td>Friday</td>\n",
       "    </tr>\n",
       "    <tr>\n",
       "      <th>2</th>\n",
       "      <td>20EC38</td>\n",
       "      <td>Funiculì funiculà</td>\n",
       "      <td>Mario Lanza</td>\n",
       "      <td>pop</td>\n",
       "      <td>Saint-Petersburg</td>\n",
       "      <td>20:58:07</td>\n",
       "      <td>Wednesday</td>\n",
       "    </tr>\n",
       "    <tr>\n",
       "      <th>3</th>\n",
       "      <td>A3DD03C9</td>\n",
       "      <td>Dragons in the Sunset</td>\n",
       "      <td>Fire + Ice</td>\n",
       "      <td>folk</td>\n",
       "      <td>Saint-Petersburg</td>\n",
       "      <td>08:37:09</td>\n",
       "      <td>Monday</td>\n",
       "    </tr>\n",
       "    <tr>\n",
       "      <th>4</th>\n",
       "      <td>E2DC1FAE</td>\n",
       "      <td>Soul People</td>\n",
       "      <td>Space Echo</td>\n",
       "      <td>dance</td>\n",
       "      <td>Moscow</td>\n",
       "      <td>08:34:34</td>\n",
       "      <td>Monday</td>\n",
       "    </tr>\n",
       "    <tr>\n",
       "      <th>5</th>\n",
       "      <td>842029A1</td>\n",
       "      <td>Преданная</td>\n",
       "      <td>IMPERVTOR</td>\n",
       "      <td>rusrap</td>\n",
       "      <td>Saint-Petersburg</td>\n",
       "      <td>13:09:41</td>\n",
       "      <td>Friday</td>\n",
       "    </tr>\n",
       "    <tr>\n",
       "      <th>6</th>\n",
       "      <td>4CB90AA5</td>\n",
       "      <td>True</td>\n",
       "      <td>Roman Messer</td>\n",
       "      <td>dance</td>\n",
       "      <td>Moscow</td>\n",
       "      <td>13:00:07</td>\n",
       "      <td>Wednesday</td>\n",
       "    </tr>\n",
       "    <tr>\n",
       "      <th>7</th>\n",
       "      <td>F03E1C1F</td>\n",
       "      <td>Feeling This Way</td>\n",
       "      <td>Polina Griffith</td>\n",
       "      <td>dance</td>\n",
       "      <td>Moscow</td>\n",
       "      <td>20:47:49</td>\n",
       "      <td>Wednesday</td>\n",
       "    </tr>\n",
       "    <tr>\n",
       "      <th>8</th>\n",
       "      <td>8FA1D3BE</td>\n",
       "      <td>И вновь продолжается бой</td>\n",
       "      <td>NaN</td>\n",
       "      <td>ruspop</td>\n",
       "      <td>Moscow</td>\n",
       "      <td>09:17:40</td>\n",
       "      <td>Friday</td>\n",
       "    </tr>\n",
       "    <tr>\n",
       "      <th>9</th>\n",
       "      <td>E772D5C0</td>\n",
       "      <td>Pessimist</td>\n",
       "      <td>NaN</td>\n",
       "      <td>dance</td>\n",
       "      <td>Saint-Petersburg</td>\n",
       "      <td>21:20:49</td>\n",
       "      <td>Wednesday</td>\n",
       "    </tr>\n",
       "  </tbody>\n",
       "</table>\n",
       "</div>"
      ],
      "text/plain": [
       "     userID                        Track            artist   genre  \\\n",
       "0  FFB692EC            Kamigata To Boots  The Mass Missile    rock   \n",
       "1  55204538  Delayed Because of Accident  Andreas Rönnberg    rock   \n",
       "2    20EC38            Funiculì funiculà       Mario Lanza     pop   \n",
       "3  A3DD03C9        Dragons in the Sunset        Fire + Ice    folk   \n",
       "4  E2DC1FAE                  Soul People        Space Echo   dance   \n",
       "5  842029A1                    Преданная         IMPERVTOR  rusrap   \n",
       "6  4CB90AA5                         True      Roman Messer   dance   \n",
       "7  F03E1C1F             Feeling This Way   Polina Griffith   dance   \n",
       "8  8FA1D3BE     И вновь продолжается бой               NaN  ruspop   \n",
       "9  E772D5C0                    Pessimist               NaN   dance   \n",
       "\n",
       "             City        time        Day  \n",
       "0  Saint-Petersburg  20:28:33  Wednesday  \n",
       "1            Moscow  14:07:09     Friday  \n",
       "2  Saint-Petersburg  20:58:07  Wednesday  \n",
       "3  Saint-Petersburg  08:37:09     Monday  \n",
       "4            Moscow  08:34:34     Monday  \n",
       "5  Saint-Petersburg  13:09:41     Friday  \n",
       "6            Moscow  13:00:07  Wednesday  \n",
       "7            Moscow  20:47:49  Wednesday  \n",
       "8            Moscow  09:17:40     Friday  \n",
       "9  Saint-Petersburg  21:20:49  Wednesday  "
      ]
     },
     "execution_count": 3,
     "metadata": {},
     "output_type": "execute_result"
    }
   ],
   "source": [
    "df.head(10) # получение первых 10 строк таблицы df"
   ]
  },
  {
   "cell_type": "code",
   "execution_count": 4,
   "metadata": {
    "id": "DSf2kIb-_Zct"
   },
   "outputs": [
    {
     "name": "stdout",
     "output_type": "stream",
     "text": [
      "<class 'pandas.core.frame.DataFrame'>\n",
      "RangeIndex: 65079 entries, 0 to 65078\n",
      "Data columns (total 7 columns):\n",
      " #   Column    Non-Null Count  Dtype \n",
      "---  ------    --------------  ----- \n",
      " 0     userID  65079 non-null  object\n",
      " 1   Track     63848 non-null  object\n",
      " 2   artist    57876 non-null  object\n",
      " 3   genre     63881 non-null  object\n",
      " 4     City    65079 non-null  object\n",
      " 5   time      65079 non-null  object\n",
      " 6   Day       65079 non-null  object\n",
      "dtypes: object(7)\n",
      "memory usage: 3.5+ MB\n"
     ]
    }
   ],
   "source": [
    "df.info() # получение общей информации о данных в таблице df"
   ]
  },
  {
   "cell_type": "markdown",
   "metadata": {
    "id": "MCB6-dXG_Zct"
   },
   "source": [
    "**Выводы**\n",
    "\n",
    "В таблице 7 столбцов. Тип данных во всех столбцах — `object`.\n",
    "\n",
    "Согласно документации к данным:\n",
    "* `userID` — идентификатор пользователя;\n",
    "* `Track` — название трека;  \n",
    "* `artist` — имя исполнителя;\n",
    "* `genre` — название жанра;\n",
    "* `City` — город пользователя;\n",
    "* `time` — время начала прослушивания;\n",
    "* `Day` — день недели.\n",
    "\n",
    "В названиях колонок видны три нарушения стиля:\n",
    "1. Строчные буквы сочетаются с прописными.\n",
    "2. Встречаются пробелы.\n",
    "3. Использован регистр CamelCase вместо предпочтительного snake_case.\n",
    "\n",
    "\n",
    "\n",
    "Количество значений в столбцах различается. Значит, в данных есть пропущенные значения.\n",
    "\n",
    "\n",
    "В каждой строке таблицы — данные о прослушанном треке. Часть колонок описывает саму композицию: название, исполнителя и жанр. Остальные данные рассказывают о пользователе: из какого он города, когда он слушал музыку. \n",
    "\n",
    "Предварительно можно утверждать, что, данных достаточно для проверки гипотез. Но встречаются пропуски в данных, а в названиях колонок — расхождения с хорошим стилем.\n",
    "\n",
    "Чтобы двигаться дальше, необходимо устранить проблемы в данных."
   ]
  },
  {
   "cell_type": "markdown",
   "metadata": {
    "id": "SjYF6Ub9_Zct"
   },
   "source": [
    "## Предобработка данных\n",
    "\n",
    "Задача: \n",
    "- исправить стиль в заголовках столбцов\n",
    "- исключить пропуски \n",
    "- проверить данные на дубликаты"
   ]
  },
  {
   "cell_type": "markdown",
   "metadata": {
    "id": "dIaKXr29_Zct"
   },
   "source": [
    "### Стиль заголовков"
   ]
  },
  {
   "cell_type": "code",
   "execution_count": 5,
   "metadata": {
    "id": "oKOTdF_Q_Zct"
   },
   "outputs": [
    {
     "data": {
      "text/plain": [
       "Index(['  userID', 'Track', 'artist', 'genre', '  City  ', 'time', 'Day'], dtype='object')"
      ]
     },
     "execution_count": 5,
     "metadata": {},
     "output_type": "execute_result"
    }
   ],
   "source": [
    "df.columns # перечень названий столбцов таблицы df"
   ]
  },
  {
   "cell_type": "markdown",
   "metadata": {
    "id": "zj5534cv_Zct"
   },
   "source": [
    "Приведем названия в соответствие с хорошим стилем:\n",
    "* переведем в «змеином_регистре»,\n",
    "* все символы сделаем строчными,\n",
    "* устраним пробелы."
   ]
  },
  {
   "cell_type": "code",
   "execution_count": 6,
   "metadata": {
    "id": "ISlFqs5y_Zct"
   },
   "outputs": [],
   "source": [
    "df = df.rename(columns={'  userID':'user_id', 'Track':'track', '  City  ':'city', 'Day':'day'}) # переименование столбцов"
   ]
  },
  {
   "cell_type": "code",
   "execution_count": 7,
   "metadata": {
    "id": "d4NOAmTW_Zct"
   },
   "outputs": [
    {
     "data": {
      "text/plain": [
       "Index(['user_id', 'track', 'artist', 'genre', 'city', 'time', 'day'], dtype='object')"
      ]
     },
     "execution_count": 7,
     "metadata": {},
     "output_type": "execute_result"
    }
   ],
   "source": [
    "df.columns # проверка результатов - перечень названий столбцов"
   ]
  },
  {
   "cell_type": "markdown",
   "metadata": {
    "id": "5ISfbcfY_Zct"
   },
   "source": [
    "### Пропуски значений"
   ]
  },
  {
   "cell_type": "code",
   "execution_count": 8,
   "metadata": {
    "id": "RskX29qr_Zct"
   },
   "outputs": [
    {
     "data": {
      "text/plain": [
       "user_id       0\n",
       "track      1231\n",
       "artist     7203\n",
       "genre      1198\n",
       "city          0\n",
       "time          0\n",
       "day           0\n",
       "dtype: int64"
      ]
     },
     "execution_count": 8,
     "metadata": {},
     "output_type": "execute_result"
    }
   ],
   "source": [
    "df.isna().sum() # подсчёт пропусков"
   ]
  },
  {
   "cell_type": "markdown",
   "metadata": {
    "id": "qubhgnlO_Zct"
   },
   "source": [
    "Не все пропущенные значения влияют на исследование. Так в `track` и `artist` пропуски не важны для работы. Достаточно заменить их явными обозначениями.\n",
    "\n",
    "Но пропуски в `genre` могут помешать сравнению музыкальных вкусов в Москве и Санкт-Петербурге. На практике было бы правильно установить причину пропусков и восстановить данные. Такой возможности нет в учебном проекте. Придётся:\n",
    "* заполнить и эти пропуски явными обозначениями,\n",
    "* оценить, насколько они повредят расчётам. "
   ]
  },
  {
   "cell_type": "markdown",
   "metadata": {
    "id": "fSv2laPA_Zct"
   },
   "source": [
    "Заменю пропущенные значения в столбцах `track`, `artist` и `genre` на строку `'unknown'`. Для этого создадим список `columns_to_replace`, переберем его элементы циклом `for` и для каждого столбца выполним замену пропущенных значений:"
   ]
  },
  {
   "cell_type": "code",
   "execution_count": 9,
   "metadata": {
    "id": "KplB5qWs_Zct"
   },
   "outputs": [],
   "source": [
    "columns_to_replace = ['track', 'artist', 'genre']\n",
    "for column in columns_to_replace:\n",
    "    df[column] = df[column].fillna('unknown') # перебор названий столбцов в цикле и замена пропущенных значений на 'unknown'"
   ]
  },
  {
   "cell_type": "code",
   "execution_count": 10,
   "metadata": {
    "id": "Tq4nYRX4_Zct"
   },
   "outputs": [
    {
     "data": {
      "text/plain": [
       "user_id    0\n",
       "track      0\n",
       "artist     0\n",
       "genre      0\n",
       "city       0\n",
       "time       0\n",
       "day        0\n",
       "dtype: int64"
      ]
     },
     "execution_count": 10,
     "metadata": {},
     "output_type": "execute_result"
    }
   ],
   "source": [
    "df.isna().sum() # проверка метода, подсчёт пропусков"
   ]
  },
  {
   "cell_type": "markdown",
   "metadata": {
    "id": "BWKRtBJ3_Zct"
   },
   "source": [
    "### Дубликаты"
   ]
  },
  {
   "cell_type": "code",
   "execution_count": 11,
   "metadata": {
    "id": "36eES_S0_Zct"
   },
   "outputs": [
    {
     "data": {
      "text/plain": [
       "3826"
      ]
     },
     "execution_count": 11,
     "metadata": {},
     "output_type": "execute_result"
    }
   ],
   "source": [
    "df.duplicated().sum() # подсчёт явных дубликатов"
   ]
  },
  {
   "cell_type": "code",
   "execution_count": 12,
   "metadata": {
    "id": "exFHq6tt_Zct"
   },
   "outputs": [],
   "source": [
    "df = df.drop_duplicates().reset_index(drop=True) # удаление явных дубликатов (с удалением старых индексов и формированием новых)"
   ]
  },
  {
   "cell_type": "code",
   "execution_count": 13,
   "metadata": {
    "id": "-8PuNWQ0_Zct"
   },
   "outputs": [
    {
     "data": {
      "text/plain": [
       "0"
      ]
     },
     "execution_count": 13,
     "metadata": {},
     "output_type": "execute_result"
    }
   ],
   "source": [
    "df.duplicated().sum() # проверка на отсутствие дубликатов"
   ]
  },
  {
   "cell_type": "markdown",
   "metadata": {
    "id": "QlFBsxAr_Zct"
   },
   "source": [
    "Избавимся от неявных дубликатов в колонке `genre`. Например, название одного и того же жанра может быть записано немного по-разному. Такие ошибки тоже повлияют на результат исследования."
   ]
  },
  {
   "cell_type": "code",
   "execution_count": 14,
   "metadata": {
    "id": "JIUcqzZN_Zct"
   },
   "outputs": [
    {
     "data": {
      "text/plain": [
       "['acid',\n",
       " 'acoustic',\n",
       " 'action',\n",
       " 'adult',\n",
       " 'africa',\n",
       " 'afrikaans',\n",
       " 'alternative',\n",
       " 'alternativepunk',\n",
       " 'ambient',\n",
       " 'americana',\n",
       " 'animated',\n",
       " 'anime',\n",
       " 'arabesk',\n",
       " 'arabic',\n",
       " 'arena',\n",
       " 'argentinetango',\n",
       " 'art',\n",
       " 'audiobook',\n",
       " 'author',\n",
       " 'avantgarde',\n",
       " 'axé',\n",
       " 'baile',\n",
       " 'balkan',\n",
       " 'beats',\n",
       " 'bigroom',\n",
       " 'black',\n",
       " 'bluegrass',\n",
       " 'blues',\n",
       " 'bollywood',\n",
       " 'bossa',\n",
       " 'brazilian',\n",
       " 'breakbeat',\n",
       " 'breaks',\n",
       " 'broadway',\n",
       " 'cantautori',\n",
       " 'cantopop',\n",
       " 'canzone',\n",
       " 'caribbean',\n",
       " 'caucasian',\n",
       " 'celtic',\n",
       " 'chamber',\n",
       " 'chanson',\n",
       " 'children',\n",
       " 'chill',\n",
       " 'chinese',\n",
       " 'choral',\n",
       " 'christian',\n",
       " 'christmas',\n",
       " 'classical',\n",
       " 'classicmetal',\n",
       " 'club',\n",
       " 'colombian',\n",
       " 'comedy',\n",
       " 'conjazz',\n",
       " 'contemporary',\n",
       " 'country',\n",
       " 'cuban',\n",
       " 'dance',\n",
       " 'dancehall',\n",
       " 'dancepop',\n",
       " 'dark',\n",
       " 'death',\n",
       " 'deep',\n",
       " 'deutschrock',\n",
       " 'deutschspr',\n",
       " 'dirty',\n",
       " 'disco',\n",
       " 'dnb',\n",
       " 'documentary',\n",
       " 'downbeat',\n",
       " 'downtempo',\n",
       " 'drum',\n",
       " 'dub',\n",
       " 'dubstep',\n",
       " 'eastern',\n",
       " 'easy',\n",
       " 'electronic',\n",
       " 'electropop',\n",
       " 'emo',\n",
       " 'entehno',\n",
       " 'epicmetal',\n",
       " 'estrada',\n",
       " 'ethnic',\n",
       " 'eurofolk',\n",
       " 'european',\n",
       " 'experimental',\n",
       " 'extrememetal',\n",
       " 'fado',\n",
       " 'fairytail',\n",
       " 'film',\n",
       " 'fitness',\n",
       " 'flamenco',\n",
       " 'folk',\n",
       " 'folklore',\n",
       " 'folkmetal',\n",
       " 'folkrock',\n",
       " 'folktronica',\n",
       " 'forró',\n",
       " 'frankreich',\n",
       " 'französisch',\n",
       " 'french',\n",
       " 'funk',\n",
       " 'future',\n",
       " 'gangsta',\n",
       " 'garage',\n",
       " 'german',\n",
       " 'ghazal',\n",
       " 'gitarre',\n",
       " 'glitch',\n",
       " 'gospel',\n",
       " 'gothic',\n",
       " 'grime',\n",
       " 'grunge',\n",
       " 'gypsy',\n",
       " 'handsup',\n",
       " \"hard'n'heavy\",\n",
       " 'hardcore',\n",
       " 'hardstyle',\n",
       " 'hardtechno',\n",
       " 'hip',\n",
       " 'hip-hop',\n",
       " 'hiphop',\n",
       " 'historisch',\n",
       " 'holiday',\n",
       " 'hop',\n",
       " 'horror',\n",
       " 'house',\n",
       " 'hymn',\n",
       " 'idm',\n",
       " 'independent',\n",
       " 'indian',\n",
       " 'indie',\n",
       " 'indipop',\n",
       " 'industrial',\n",
       " 'inspirational',\n",
       " 'instrumental',\n",
       " 'international',\n",
       " 'irish',\n",
       " 'jam',\n",
       " 'japanese',\n",
       " 'jazz',\n",
       " 'jewish',\n",
       " 'jpop',\n",
       " 'jungle',\n",
       " 'k-pop',\n",
       " 'karadeniz',\n",
       " 'karaoke',\n",
       " 'kayokyoku',\n",
       " 'korean',\n",
       " 'laiko',\n",
       " 'latin',\n",
       " 'latino',\n",
       " 'leftfield',\n",
       " 'local',\n",
       " 'lounge',\n",
       " 'loungeelectronic',\n",
       " 'lovers',\n",
       " 'malaysian',\n",
       " 'mandopop',\n",
       " 'marschmusik',\n",
       " 'meditative',\n",
       " 'mediterranean',\n",
       " 'melodic',\n",
       " 'metal',\n",
       " 'metalcore',\n",
       " 'mexican',\n",
       " 'middle',\n",
       " 'minimal',\n",
       " 'miscellaneous',\n",
       " 'modern',\n",
       " 'mood',\n",
       " 'mpb',\n",
       " 'muslim',\n",
       " 'native',\n",
       " 'neoklassik',\n",
       " 'neue',\n",
       " 'new',\n",
       " 'newage',\n",
       " 'newwave',\n",
       " 'nu',\n",
       " 'nujazz',\n",
       " 'numetal',\n",
       " 'oceania',\n",
       " 'old',\n",
       " 'opera',\n",
       " 'orchestral',\n",
       " 'other',\n",
       " 'piano',\n",
       " 'podcasts',\n",
       " 'pop',\n",
       " 'popdance',\n",
       " 'popelectronic',\n",
       " 'popeurodance',\n",
       " 'poprussian',\n",
       " 'post',\n",
       " 'posthardcore',\n",
       " 'postrock',\n",
       " 'power',\n",
       " 'progmetal',\n",
       " 'progressive',\n",
       " 'psychedelic',\n",
       " 'punjabi',\n",
       " 'punk',\n",
       " 'quebecois',\n",
       " 'ragga',\n",
       " 'ram',\n",
       " 'rancheras',\n",
       " 'rap',\n",
       " 'rave',\n",
       " 'reggae',\n",
       " 'reggaeton',\n",
       " 'regional',\n",
       " 'relax',\n",
       " 'religious',\n",
       " 'retro',\n",
       " 'rhythm',\n",
       " 'rnb',\n",
       " 'rnr',\n",
       " 'rock',\n",
       " 'rockabilly',\n",
       " 'rockalternative',\n",
       " 'rockindie',\n",
       " 'rockother',\n",
       " 'romance',\n",
       " 'roots',\n",
       " 'ruspop',\n",
       " 'rusrap',\n",
       " 'rusrock',\n",
       " 'russian',\n",
       " 'salsa',\n",
       " 'samba',\n",
       " 'scenic',\n",
       " 'schlager',\n",
       " 'self',\n",
       " 'sertanejo',\n",
       " 'shanson',\n",
       " 'shoegazing',\n",
       " 'showtunes',\n",
       " 'singer',\n",
       " 'ska',\n",
       " 'skarock',\n",
       " 'slow',\n",
       " 'smooth',\n",
       " 'soft',\n",
       " 'soul',\n",
       " 'soulful',\n",
       " 'sound',\n",
       " 'soundtrack',\n",
       " 'southern',\n",
       " 'specialty',\n",
       " 'speech',\n",
       " 'spiritual',\n",
       " 'sport',\n",
       " 'stonerrock',\n",
       " 'surf',\n",
       " 'swing',\n",
       " 'synthpop',\n",
       " 'synthrock',\n",
       " 'sängerportrait',\n",
       " 'tango',\n",
       " 'tanzorchester',\n",
       " 'taraftar',\n",
       " 'tatar',\n",
       " 'tech',\n",
       " 'techno',\n",
       " 'teen',\n",
       " 'thrash',\n",
       " 'top',\n",
       " 'traditional',\n",
       " 'tradjazz',\n",
       " 'trance',\n",
       " 'tribal',\n",
       " 'trip',\n",
       " 'triphop',\n",
       " 'tropical',\n",
       " 'türk',\n",
       " 'türkçe',\n",
       " 'ukrrock',\n",
       " 'unknown',\n",
       " 'urban',\n",
       " 'uzbek',\n",
       " 'variété',\n",
       " 'vi',\n",
       " 'videogame',\n",
       " 'vocal',\n",
       " 'western',\n",
       " 'world',\n",
       " 'worldbeat',\n",
       " 'ïîï',\n",
       " 'электроника']"
      ]
     },
     "execution_count": 14,
     "metadata": {},
     "output_type": "execute_result"
    }
   ],
   "source": [
    "sorted(df['genre'].unique()) # Просмотр уникальных названий жанров"
   ]
  },
  {
   "cell_type": "markdown",
   "metadata": {
    "id": "qej-Qmuo_Zct"
   },
   "source": [
    "Мы видим следующие неявные дубликаты:\n",
    "* *hip*,\n",
    "* *hop*,\n",
    "* *hip-hop*.\n",
    "\n",
    "Чтобы очистить от них таблицу, напишем функцию `replace_wrong_genres()` с двумя параметрами: \n",
    "* `wrong_genres` — список дубликатов,\n",
    "* `correct_genre` — строка с правильным значением.\n",
    "\n",
    "Функция должна исправить колонку `genre` в таблице `df`: заменить каждое значение из списка `wrong_genres` на значение из `correct_genre`."
   ]
  },
  {
   "cell_type": "code",
   "execution_count": 15,
   "metadata": {
    "id": "ErNDkmns_Zct"
   },
   "outputs": [],
   "source": [
    "def replace_wrong_genres(wrong_genres, correct_genre):\n",
    "    for wrong_genre in wrong_genres:\n",
    "        df['genre'] = df['genre'].replace(wrong_genres, correct_genre) # Функция для замены неявных дубликатов"
   ]
  },
  {
   "cell_type": "markdown",
   "metadata": {
    "id": "aDoBJxbA_Zct"
   },
   "source": [
    "Вызовем `replace_wrong_genres()`. Необходимо передайть фунции такие аргументы, чтобы она устранила неявные дубликаты: вместо `hip`, `hop` и `hip-hop` в таблице должно быть значение `hiphop`:"
   ]
  },
  {
   "cell_type": "code",
   "execution_count": 16,
   "metadata": {
    "id": "YN5i2hpmSo09"
   },
   "outputs": [],
   "source": [
    "duplicates = ['hip', 'hop', 'hip-hop'] \n",
    "name = 'hiphop' \n",
    "replace_wrong_genres(duplicates, name) # Устранение неявных дубликатов"
   ]
  },
  {
   "cell_type": "code",
   "execution_count": 17,
   "metadata": {
    "id": "wvixALnFG15m"
   },
   "outputs": [
    {
     "data": {
      "text/plain": [
       "['acid',\n",
       " 'acoustic',\n",
       " 'action',\n",
       " 'adult',\n",
       " 'africa',\n",
       " 'afrikaans',\n",
       " 'alternative',\n",
       " 'alternativepunk',\n",
       " 'ambient',\n",
       " 'americana',\n",
       " 'animated',\n",
       " 'anime',\n",
       " 'arabesk',\n",
       " 'arabic',\n",
       " 'arena',\n",
       " 'argentinetango',\n",
       " 'art',\n",
       " 'audiobook',\n",
       " 'author',\n",
       " 'avantgarde',\n",
       " 'axé',\n",
       " 'baile',\n",
       " 'balkan',\n",
       " 'beats',\n",
       " 'bigroom',\n",
       " 'black',\n",
       " 'bluegrass',\n",
       " 'blues',\n",
       " 'bollywood',\n",
       " 'bossa',\n",
       " 'brazilian',\n",
       " 'breakbeat',\n",
       " 'breaks',\n",
       " 'broadway',\n",
       " 'cantautori',\n",
       " 'cantopop',\n",
       " 'canzone',\n",
       " 'caribbean',\n",
       " 'caucasian',\n",
       " 'celtic',\n",
       " 'chamber',\n",
       " 'chanson',\n",
       " 'children',\n",
       " 'chill',\n",
       " 'chinese',\n",
       " 'choral',\n",
       " 'christian',\n",
       " 'christmas',\n",
       " 'classical',\n",
       " 'classicmetal',\n",
       " 'club',\n",
       " 'colombian',\n",
       " 'comedy',\n",
       " 'conjazz',\n",
       " 'contemporary',\n",
       " 'country',\n",
       " 'cuban',\n",
       " 'dance',\n",
       " 'dancehall',\n",
       " 'dancepop',\n",
       " 'dark',\n",
       " 'death',\n",
       " 'deep',\n",
       " 'deutschrock',\n",
       " 'deutschspr',\n",
       " 'dirty',\n",
       " 'disco',\n",
       " 'dnb',\n",
       " 'documentary',\n",
       " 'downbeat',\n",
       " 'downtempo',\n",
       " 'drum',\n",
       " 'dub',\n",
       " 'dubstep',\n",
       " 'eastern',\n",
       " 'easy',\n",
       " 'electronic',\n",
       " 'electropop',\n",
       " 'emo',\n",
       " 'entehno',\n",
       " 'epicmetal',\n",
       " 'estrada',\n",
       " 'ethnic',\n",
       " 'eurofolk',\n",
       " 'european',\n",
       " 'experimental',\n",
       " 'extrememetal',\n",
       " 'fado',\n",
       " 'fairytail',\n",
       " 'film',\n",
       " 'fitness',\n",
       " 'flamenco',\n",
       " 'folk',\n",
       " 'folklore',\n",
       " 'folkmetal',\n",
       " 'folkrock',\n",
       " 'folktronica',\n",
       " 'forró',\n",
       " 'frankreich',\n",
       " 'französisch',\n",
       " 'french',\n",
       " 'funk',\n",
       " 'future',\n",
       " 'gangsta',\n",
       " 'garage',\n",
       " 'german',\n",
       " 'ghazal',\n",
       " 'gitarre',\n",
       " 'glitch',\n",
       " 'gospel',\n",
       " 'gothic',\n",
       " 'grime',\n",
       " 'grunge',\n",
       " 'gypsy',\n",
       " 'handsup',\n",
       " \"hard'n'heavy\",\n",
       " 'hardcore',\n",
       " 'hardstyle',\n",
       " 'hardtechno',\n",
       " 'hiphop',\n",
       " 'historisch',\n",
       " 'holiday',\n",
       " 'horror',\n",
       " 'house',\n",
       " 'hymn',\n",
       " 'idm',\n",
       " 'independent',\n",
       " 'indian',\n",
       " 'indie',\n",
       " 'indipop',\n",
       " 'industrial',\n",
       " 'inspirational',\n",
       " 'instrumental',\n",
       " 'international',\n",
       " 'irish',\n",
       " 'jam',\n",
       " 'japanese',\n",
       " 'jazz',\n",
       " 'jewish',\n",
       " 'jpop',\n",
       " 'jungle',\n",
       " 'k-pop',\n",
       " 'karadeniz',\n",
       " 'karaoke',\n",
       " 'kayokyoku',\n",
       " 'korean',\n",
       " 'laiko',\n",
       " 'latin',\n",
       " 'latino',\n",
       " 'leftfield',\n",
       " 'local',\n",
       " 'lounge',\n",
       " 'loungeelectronic',\n",
       " 'lovers',\n",
       " 'malaysian',\n",
       " 'mandopop',\n",
       " 'marschmusik',\n",
       " 'meditative',\n",
       " 'mediterranean',\n",
       " 'melodic',\n",
       " 'metal',\n",
       " 'metalcore',\n",
       " 'mexican',\n",
       " 'middle',\n",
       " 'minimal',\n",
       " 'miscellaneous',\n",
       " 'modern',\n",
       " 'mood',\n",
       " 'mpb',\n",
       " 'muslim',\n",
       " 'native',\n",
       " 'neoklassik',\n",
       " 'neue',\n",
       " 'new',\n",
       " 'newage',\n",
       " 'newwave',\n",
       " 'nu',\n",
       " 'nujazz',\n",
       " 'numetal',\n",
       " 'oceania',\n",
       " 'old',\n",
       " 'opera',\n",
       " 'orchestral',\n",
       " 'other',\n",
       " 'piano',\n",
       " 'podcasts',\n",
       " 'pop',\n",
       " 'popdance',\n",
       " 'popelectronic',\n",
       " 'popeurodance',\n",
       " 'poprussian',\n",
       " 'post',\n",
       " 'posthardcore',\n",
       " 'postrock',\n",
       " 'power',\n",
       " 'progmetal',\n",
       " 'progressive',\n",
       " 'psychedelic',\n",
       " 'punjabi',\n",
       " 'punk',\n",
       " 'quebecois',\n",
       " 'ragga',\n",
       " 'ram',\n",
       " 'rancheras',\n",
       " 'rap',\n",
       " 'rave',\n",
       " 'reggae',\n",
       " 'reggaeton',\n",
       " 'regional',\n",
       " 'relax',\n",
       " 'religious',\n",
       " 'retro',\n",
       " 'rhythm',\n",
       " 'rnb',\n",
       " 'rnr',\n",
       " 'rock',\n",
       " 'rockabilly',\n",
       " 'rockalternative',\n",
       " 'rockindie',\n",
       " 'rockother',\n",
       " 'romance',\n",
       " 'roots',\n",
       " 'ruspop',\n",
       " 'rusrap',\n",
       " 'rusrock',\n",
       " 'russian',\n",
       " 'salsa',\n",
       " 'samba',\n",
       " 'scenic',\n",
       " 'schlager',\n",
       " 'self',\n",
       " 'sertanejo',\n",
       " 'shanson',\n",
       " 'shoegazing',\n",
       " 'showtunes',\n",
       " 'singer',\n",
       " 'ska',\n",
       " 'skarock',\n",
       " 'slow',\n",
       " 'smooth',\n",
       " 'soft',\n",
       " 'soul',\n",
       " 'soulful',\n",
       " 'sound',\n",
       " 'soundtrack',\n",
       " 'southern',\n",
       " 'specialty',\n",
       " 'speech',\n",
       " 'spiritual',\n",
       " 'sport',\n",
       " 'stonerrock',\n",
       " 'surf',\n",
       " 'swing',\n",
       " 'synthpop',\n",
       " 'synthrock',\n",
       " 'sängerportrait',\n",
       " 'tango',\n",
       " 'tanzorchester',\n",
       " 'taraftar',\n",
       " 'tatar',\n",
       " 'tech',\n",
       " 'techno',\n",
       " 'teen',\n",
       " 'thrash',\n",
       " 'top',\n",
       " 'traditional',\n",
       " 'tradjazz',\n",
       " 'trance',\n",
       " 'tribal',\n",
       " 'trip',\n",
       " 'triphop',\n",
       " 'tropical',\n",
       " 'türk',\n",
       " 'türkçe',\n",
       " 'ukrrock',\n",
       " 'unknown',\n",
       " 'urban',\n",
       " 'uzbek',\n",
       " 'variété',\n",
       " 'vi',\n",
       " 'videogame',\n",
       " 'vocal',\n",
       " 'western',\n",
       " 'world',\n",
       " 'worldbeat',\n",
       " 'ïîï',\n",
       " 'электроника']"
      ]
     },
     "execution_count": 17,
     "metadata": {},
     "output_type": "execute_result"
    }
   ],
   "source": [
    "sorted(df['genre'].unique()) # Проверка на неявные дубликаты"
   ]
  },
  {
   "cell_type": "markdown",
   "metadata": {
    "id": "jz6a9-7HQUDd"
   },
   "source": [
    "**Выводы**\n",
    "\n",
    "Предобработка обнаружила три проблемы в данных:\n",
    "\n",
    "- нарушения в стиле заголовков,\n",
    "- пропущенные значения,\n",
    "- дубликаты — явные и неявные.\n",
    "\n",
    "Я исправила заголовки, чтобы упростить работу с таблицей. Без дубликатов исследование станет более точным.\n",
    "\n",
    "Пропущенные значения я заменила на `'unknown'`. Ещё предстоит увидеть, не повредят ли исследованию пропуски в колонке `genre`.\n",
    "\n",
    "Теперь можно перейти к проверке гипотез. "
   ]
  },
  {
   "cell_type": "markdown",
   "metadata": {
    "id": "WttZHXH0SqKk"
   },
   "source": [
    "## Проверка гипотез"
   ]
  },
  {
   "cell_type": "markdown",
   "metadata": {
    "id": "Im936VVi_Zcu"
   },
   "source": [
    "### Сравнение поведения пользователей двух столиц"
   ]
  },
  {
   "cell_type": "markdown",
   "metadata": {
    "id": "nwt_MuaL_Zcu"
   },
   "source": [
    "Первая гипотеза утверждает, что пользователи по-разному слушают музыку в Москве и Санкт-Петербурге. Проверем это предположение по данным о трёх днях недели — понедельнике, среде и пятнице. Для этого:\n",
    "\n",
    "* Разделим пользователей Москвы и Санкт-Петербурга\n",
    "* Сравним, сколько треков послушала каждая группа пользователей в понедельник, среду и пятницу.\n"
   ]
  },
  {
   "cell_type": "markdown",
   "metadata": {
    "id": "8Dw_YMmT_Zcu"
   },
   "source": [
    "Оценим активность пользователей в каждом городе. Сгруппируем данные по городу и посчитаем прослушивания в каждой группе."
   ]
  },
  {
   "cell_type": "code",
   "execution_count": 18,
   "metadata": {
    "id": "0_Qs96oh_Zcu"
   },
   "outputs": [
    {
     "data": {
      "text/plain": [
       "city\n",
       "Moscow              42741\n",
       "Saint-Petersburg    18512\n",
       "Name: user_id, dtype: int64"
      ]
     },
     "execution_count": 18,
     "metadata": {},
     "output_type": "execute_result"
    }
   ],
   "source": [
    "df.groupby('city')['user_id'].count() # Подсчёт прослушиваний в каждом городе"
   ]
  },
  {
   "cell_type": "markdown",
   "metadata": {
    "id": "dzli3w8o_Zcu"
   },
   "source": [
    "В Москве прослушиваний больше, чем в Петербурге. Из этого не следует, что московские пользователи чаще слушают музыку. Просто самих пользователей в Москве больше.\n",
    "\n",
    "Теперь сгруппируем данные по дню недели и подсчитаем прослушивания в понедельник, среду и пятницу. Учитывая, что в данных есть информация о прослушиваниях только за эти дни."
   ]
  },
  {
   "cell_type": "code",
   "execution_count": 19,
   "metadata": {
    "id": "uZMKjiJz_Zcu"
   },
   "outputs": [
    {
     "data": {
      "text/plain": [
       "day\n",
       "Friday       21840\n",
       "Monday       21354\n",
       "Wednesday    18059\n",
       "Name: user_id, dtype: int64"
      ]
     },
     "execution_count": 19,
     "metadata": {},
     "output_type": "execute_result"
    }
   ],
   "source": [
    "df.groupby('day')['user_id'].count() # Подсчёт прослушиваний в каждый из трёх дней"
   ]
  },
  {
   "cell_type": "markdown",
   "metadata": {
    "id": "cC2tNrlL_Zcu"
   },
   "source": [
    "В среднем пользователи из двух городов менее активны по средам. Но картина может измениться, если рассмотреть каждый город в отдельности."
   ]
  },
  {
   "cell_type": "markdown",
   "metadata": {
    "id": "POzs8bGa_Zcu"
   },
   "source": [
    "Напишем функцию, которая объединит два расчёта.\n",
    "\n",
    "Создадим функцию `number_tracks()`, которая посчитает прослушивания для заданного дня и города. Ей понадобятся два параметра:\n",
    "* день недели,\n",
    "* название города.\n",
    "\n",
    "В функции сохраним в переменную строки исходной таблицы, у которых значение:\n",
    "  * в колонке `day` равно параметру `day`,\n",
    "  * в колонке `city` равно параметру `city`.\n",
    "\n",
    "Для этого применим последовательную фильтрацию с логической индексацией.\n",
    "\n",
    "Затем посчитаем значения в столбце `user_id` получившейся таблицы. Результат сохраним в новую переменную. Вернем эту переменную из функции."
   ]
  },
  {
   "cell_type": "code",
   "execution_count": 20,
   "metadata": {
    "id": "Nz3GdQB1_Zcu"
   },
   "outputs": [],
   "source": [
    "# <создание функции number_tracks()>\n",
    "\n",
    "def number_tracks(day, city): # Объявляется функция с двумя параметрами: day, city.\n",
    "    track_list = df[df['day'] == day]\n",
    "    track_list = track_list[track_list['city'] == city] # В переменной track_list сохраняются те строки таблицы df, для которых \n",
    "# значение в столбце 'day' равно параметру day и одновременно значение\n",
    "# в столбце 'city' равно параметру city (используем последовательную фильтрацию\n",
    "# с помощью логической индексации).\n",
    "    track_list_count = track_list['user_id'].count()# В переменной track_list_count сохраняется число значений столбца 'user_id',\n",
    "# рассчитанное методом count() для таблицы track_list.\n",
    "    return track_list_count # Функция возвращает число - значение track_list_count.\n",
    "\n",
    "# Функция для подсчёта прослушиваний для конкретного города и дня.\n",
    "# С помощью последовательной фильтрации с логической индексацией она \n",
    "# сначала получит из исходной таблицы строки с нужным днём,\n",
    "# затем из результата отфильтрует строки с нужным городом,\n",
    "# методом count() посчитает количество значений в колонке user_id. \n",
    "# Это количество функция вернёт в качестве результата"
   ]
  },
  {
   "cell_type": "markdown",
   "metadata": {
    "id": "ytf7xFrFJQ2r"
   },
   "source": [
    "Вызовим `number_tracks()` шесть раз, меняя значение параметров — так, чтобы получить данные для каждого города в каждый из трёх дней."
   ]
  },
  {
   "cell_type": "code",
   "execution_count": 21,
   "metadata": {
    "id": "rJcRATNQ_Zcu"
   },
   "outputs": [
    {
     "data": {
      "text/plain": [
       "15740"
      ]
     },
     "execution_count": 21,
     "metadata": {},
     "output_type": "execute_result"
    }
   ],
   "source": [
    "number_tracks('Monday', 'Moscow') # количество прослушиваний в Москве по понедельникам"
   ]
  },
  {
   "cell_type": "code",
   "execution_count": 22,
   "metadata": {
    "id": "hq_ncZ5T_Zcu"
   },
   "outputs": [
    {
     "data": {
      "text/plain": [
       "5614"
      ]
     },
     "execution_count": 22,
     "metadata": {},
     "output_type": "execute_result"
    }
   ],
   "source": [
    "number_tracks('Monday', 'Saint-Petersburg') # количество прослушиваний в Санкт-Петербурге по понедельникам"
   ]
  },
  {
   "cell_type": "code",
   "execution_count": 23,
   "metadata": {
    "id": "_NTy2VPU_Zcu"
   },
   "outputs": [
    {
     "data": {
      "text/plain": [
       "11056"
      ]
     },
     "execution_count": 23,
     "metadata": {},
     "output_type": "execute_result"
    }
   ],
   "source": [
    "number_tracks('Wednesday', 'Moscow') # количество прослушиваний в Москве по средам"
   ]
  },
  {
   "cell_type": "code",
   "execution_count": 24,
   "metadata": {
    "id": "j2y3TAwo_Zcu"
   },
   "outputs": [
    {
     "data": {
      "text/plain": [
       "7003"
      ]
     },
     "execution_count": 24,
     "metadata": {},
     "output_type": "execute_result"
    }
   ],
   "source": [
    "number_tracks('Wednesday', 'Saint-Petersburg') # количество прослушиваний в Санкт-Петербурге по средам"
   ]
  },
  {
   "cell_type": "code",
   "execution_count": 25,
   "metadata": {
    "id": "vYDw5u_K_Zcu"
   },
   "outputs": [
    {
     "data": {
      "text/plain": [
       "15945"
      ]
     },
     "execution_count": 25,
     "metadata": {},
     "output_type": "execute_result"
    }
   ],
   "source": [
    "number_tracks('Friday', 'Moscow') # количество прослушиваний в Москве по пятницам"
   ]
  },
  {
   "cell_type": "code",
   "execution_count": 26,
   "metadata": {
    "id": "8_yzFtW3_Zcu"
   },
   "outputs": [
    {
     "data": {
      "text/plain": [
       "5895"
      ]
     },
     "execution_count": 26,
     "metadata": {},
     "output_type": "execute_result"
    }
   ],
   "source": [
    "number_tracks('Friday', 'Saint-Petersburg') # количество прослушиваний в Санкт-Петербурге по пятницам"
   ]
  },
  {
   "cell_type": "markdown",
   "metadata": {
    "id": "7QXffbO-_Zcu"
   },
   "source": [
    "Создадим c помощью конструктора `pd.DataFrame` таблицу, где\n",
    "* названия колонок — `['city', 'monday', 'wednesday', 'friday']`;\n",
    "* данные — результаты, которые вы получили с помощью `number_tracks`."
   ]
  },
  {
   "cell_type": "code",
   "execution_count": 27,
   "metadata": {
    "id": "APAcLpOr_Zcu"
   },
   "outputs": [
    {
     "data": {
      "text/html": [
       "<div>\n",
       "<style scoped>\n",
       "    .dataframe tbody tr th:only-of-type {\n",
       "        vertical-align: middle;\n",
       "    }\n",
       "\n",
       "    .dataframe tbody tr th {\n",
       "        vertical-align: top;\n",
       "    }\n",
       "\n",
       "    .dataframe thead th {\n",
       "        text-align: right;\n",
       "    }\n",
       "</style>\n",
       "<table border=\"1\" class=\"dataframe\">\n",
       "  <thead>\n",
       "    <tr style=\"text-align: right;\">\n",
       "      <th></th>\n",
       "      <th>city</th>\n",
       "      <th>monday</th>\n",
       "      <th>wednesday</th>\n",
       "      <th>friday</th>\n",
       "    </tr>\n",
       "  </thead>\n",
       "  <tbody>\n",
       "    <tr>\n",
       "      <th>0</th>\n",
       "      <td>Moscow</td>\n",
       "      <td>15740</td>\n",
       "      <td>11056</td>\n",
       "      <td>15945</td>\n",
       "    </tr>\n",
       "    <tr>\n",
       "      <th>1</th>\n",
       "      <td>Saint-Petersburg</td>\n",
       "      <td>5614</td>\n",
       "      <td>7003</td>\n",
       "      <td>5895</td>\n",
       "    </tr>\n",
       "  </tbody>\n",
       "</table>\n",
       "</div>"
      ],
      "text/plain": [
       "               city  monday  wednesday  friday\n",
       "0            Moscow   15740      11056   15945\n",
       "1  Saint-Petersburg    5614       7003    5895"
      ]
     },
     "execution_count": 27,
     "metadata": {},
     "output_type": "execute_result"
    }
   ],
   "source": [
    "data = [['Moscow', 15740, 11056, 15945],\n",
    "       ['Saint-Petersburg', 5614, 7003, 5895]]\n",
    "columns = ['city', 'monday', 'wednesday', 'friday'] \n",
    "pd.DataFrame(data = data, columns = columns) # Таблица с результатами"
   ]
  },
  {
   "cell_type": "markdown",
   "metadata": {
    "id": "-EgPIHYu_Zcu"
   },
   "source": [
    "**Выводы**\n",
    "\n",
    "Данные показывают разницу поведения пользователей:\n",
    "\n",
    "- В Москве пик прослушиваний приходится на понедельник и пятницу, а в среду заметен спад.\n",
    "- В Петербурге, наоборот, больше слушают музыку по средам. Активность в понедельник и пятницу здесь почти в равной мере уступает среде.\n",
    "\n",
    "Значит, данные говорят в пользу первой гипотезы."
   ]
  },
  {
   "cell_type": "markdown",
   "metadata": {
    "id": "atZAxtq4_Zcu"
   },
   "source": [
    "### Музыка в начале и в конце недели"
   ]
  },
  {
   "cell_type": "markdown",
   "metadata": {
    "id": "eXrQqXFH_Zcu"
   },
   "source": [
    "Согласно второй гипотезе, утром в понедельник в Москве преобладают одни жанры, а в Петербурге — другие. Так же и вечером пятницы преобладают разные жанры — в зависимости от города."
   ]
  },
  {
   "cell_type": "markdown",
   "metadata": {
    "id": "S8UcW6Hw_Zcu"
   },
   "source": [
    "Сохраним таблицы с данными в две переменные:\n",
    "* по Москве — в `moscow_general`;\n",
    "* по Санкт-Петербургу — в `spb_general`."
   ]
  },
  {
   "cell_type": "code",
   "execution_count": 28,
   "metadata": {
    "id": "qeaFfM_P_Zcu"
   },
   "outputs": [],
   "source": [
    "moscow_general = df[df['city'] == 'Moscow'] \n",
    "# получение таблицы moscow_general из тех строк таблицы df, \n",
    "# для которых значение в столбце 'city' равно 'Moscow'\n"
   ]
  },
  {
   "cell_type": "code",
   "execution_count": 29,
   "metadata": {
    "id": "ORaVRKto_Zcu"
   },
   "outputs": [],
   "source": [
    "spb_general = df[df['city'] == 'Saint-Petersburg']\n",
    "# получение таблицы spb_general из тех строк таблицы df,\n",
    "# для которых значение в столбце 'city' равно 'Saint-Petersburg'\n"
   ]
  },
  {
   "cell_type": "markdown",
   "metadata": {
    "id": "MEJV-CX2_Zcu"
   },
   "source": [
    "Создадим функцию `genre_weekday()` с четырьмя параметрами:\n",
    "* таблица (датафрейм) с данными,\n",
    "* день недели,\n",
    "* начальная временная метка в формате 'hh:mm', \n",
    "* последняя временная метка в формате 'hh:mm'.\n",
    "\n",
    "Функция должна вернуть информацию о топ-10 жанров тех треков, которые прослушивали в указанный день, в промежутке между двумя отметками времени."
   ]
  },
  {
   "cell_type": "code",
   "execution_count": 30,
   "metadata": {
    "id": "laJT9BYl_Zcu"
   },
   "outputs": [],
   "source": [
    "def genre_weekday(table, day, time1, time2): # Объявление функции genre_weekday() с параметрами table, day, time1, time2,\n",
    "# которая возвращает информацию о самых популярных жанрах в указанный день в\n",
    "# заданное время:\n",
    "    genre_df = table[table['day'] == day]\n",
    "    genre_df = genre_df[genre_df['time'] > time1]\n",
    "    genre_df = genre_df[genre_df['time'] < time2] # 1) в переменную genre_df сохраняются те строки переданного датафрейма table, для\n",
    "#    которых одновременно:\n",
    "#    - значение в столбце day равно значению аргумента day\n",
    "#    - значение в столбце time больше значения аргумента time1\n",
    "#    - значение в столбце time меньше значения аргумента time2\n",
    "#    Используйте последовательную фильтрацию с помощью логической индексации.\n",
    "    genre_df_count = genre_df.groupby('genre')['genre'].count() # 2) сгруппировать датафрейм genre_df по столбцу genre, взять один из его\n",
    "#    столбцов и посчитать методом count() количество записей для каждого из\n",
    "#    присутствующих жанров, получившийся Series записать в переменную\n",
    "#    genre_df_count\n",
    "    genre_df_sorted = genre_df_count.sort_values(ascending=False) # 3) отсортировать genre_df_count по убыванию встречаемости и сохранить\n",
    "#    в переменную genre_df_sorted\n",
    "    return genre_df_sorted.head(10) # 4) вернуть Series из 10 первых значений genre_df_sorted, это будут топ-10\n",
    "#    популярных жанров (в указанный день, в заданное время)"
   ]
  },
  {
   "cell_type": "markdown",
   "metadata": {
    "id": "la2s2_PF_Zcu"
   },
   "source": [
    "Cравним результаты функции `genre_weekday()` для Москвы и Санкт-Петербурга в понедельник утром (с 7:00 до 11:00) и в пятницу вечером (с 17:00 до 23:00):"
   ]
  },
  {
   "cell_type": "code",
   "execution_count": 31,
   "metadata": {
    "id": "yz7itPUQ_Zcu"
   },
   "outputs": [
    {
     "data": {
      "text/plain": [
       "genre\n",
       "pop            781\n",
       "dance          549\n",
       "electronic     480\n",
       "rock           474\n",
       "hiphop         286\n",
       "ruspop         186\n",
       "world          181\n",
       "rusrap         175\n",
       "alternative    164\n",
       "unknown        161\n",
       "Name: genre, dtype: int64"
      ]
     },
     "execution_count": 31,
     "metadata": {},
     "output_type": "execute_result"
    }
   ],
   "source": [
    "genre_weekday(moscow_general, 'Monday', '07:00', '11:00') # вызов функции для утра понедельника в Москве (вместо df — таблица moscow_general)\n",
    "# объекты, хранящие время, являются строками и сравниваются как строки\n",
    "# пример вызова: genre_weekday(moscow_general, 'Monday', '07:00', '11:00')"
   ]
  },
  {
   "cell_type": "code",
   "execution_count": 32,
   "metadata": {
    "id": "kwUcHPdy_Zcu"
   },
   "outputs": [
    {
     "data": {
      "text/plain": [
       "genre\n",
       "pop            218\n",
       "dance          182\n",
       "rock           162\n",
       "electronic     147\n",
       "hiphop          80\n",
       "ruspop          64\n",
       "alternative     58\n",
       "rusrap          55\n",
       "jazz            44\n",
       "classical       40\n",
       "Name: genre, dtype: int64"
      ]
     },
     "execution_count": 32,
     "metadata": {},
     "output_type": "execute_result"
    }
   ],
   "source": [
    "genre_weekday(spb_general, 'Monday', '07:00', '11:00') # вызов функции для утра понедельника в Петербурге (вместо df — таблица spb_general)"
   ]
  },
  {
   "cell_type": "code",
   "execution_count": 33,
   "metadata": {
    "id": "EzXVRE1o_Zcu"
   },
   "outputs": [
    {
     "data": {
      "text/plain": [
       "genre\n",
       "pop            713\n",
       "rock           517\n",
       "dance          495\n",
       "electronic     482\n",
       "hiphop         273\n",
       "world          208\n",
       "ruspop         170\n",
       "alternative    163\n",
       "classical      163\n",
       "rusrap         142\n",
       "Name: genre, dtype: int64"
      ]
     },
     "execution_count": 33,
     "metadata": {},
     "output_type": "execute_result"
    }
   ],
   "source": [
    "genre_weekday(moscow_general, 'Friday', '17:00', '23:00') # вызов функции для вечера пятницы в Москве"
   ]
  },
  {
   "cell_type": "code",
   "execution_count": 34,
   "metadata": {
    "id": "JZaEKu5v_Zcu"
   },
   "outputs": [
    {
     "data": {
      "text/plain": [
       "genre\n",
       "pop            256\n",
       "electronic     216\n",
       "rock           216\n",
       "dance          210\n",
       "hiphop          97\n",
       "alternative     63\n",
       "jazz            61\n",
       "classical       60\n",
       "rusrap          59\n",
       "world           54\n",
       "Name: genre, dtype: int64"
      ]
     },
     "execution_count": 34,
     "metadata": {},
     "output_type": "execute_result"
    }
   ],
   "source": [
    "genre_weekday(spb_general, 'Friday', '17:00', '23:00') # вызов функции для вечера пятницы в Петербурге"
   ]
  },
  {
   "cell_type": "markdown",
   "metadata": {
    "id": "wrCe4MNX_Zcu"
   },
   "source": [
    "**Выводы**\n",
    "\n",
    "Если сравнить топ-10 жанров в понедельник утром, можно сделать такие выводы:\n",
    "\n",
    "1. В Москве и Петербурге слушают похожую музыку. Единственное отличие — в московский рейтинг вошёл жанр “world”, а в петербургский — джаз и классика.\n",
    "\n",
    "2. В Москве пропущенных значений оказалось так много, что значение `'unknown'` заняло десятое место среди самых популярных жанров. Значит, пропущенные значения занимают существенную долю в данных и угрожают достоверности исследования.\n",
    "\n",
    "Вечер пятницы не меняет эту картину. Некоторые жанры поднимаются немного выше, другие спускаются, но в целом топ-10 остаётся тем же самым.\n",
    "\n",
    "Таким образом, вторая гипотеза подтвердилась лишь частично:\n",
    "* Пользователи слушают похожую музыку в начале недели и в конце.\n",
    "* Разница между Москвой и Петербургом не слишком выражена. В Москве чаще слушают русскую популярную музыку, в Петербурге — джаз.\n",
    "\n",
    "Однако пропуски в данных ставят под сомнение этот результат. В Москве их так много, что рейтинг топ-10 мог бы выглядеть иначе, если бы не утерянные  данные о жанрах."
   ]
  },
  {
   "cell_type": "markdown",
   "metadata": {
    "id": "JolODAqr_Zcu"
   },
   "source": [
    "### Жанровые предпочтения в Москве и Петербурге\n",
    "\n",
    "Гипотеза: Петербург — столица рэпа, музыку этого жанра там слушают чаще, чем в Москве.  А Москва — город контрастов, в котором, тем не менее, преобладает поп-музыка."
   ]
  },
  {
   "cell_type": "markdown",
   "metadata": {
    "id": "DlegSvaT_Zcu"
   },
   "source": [
    "Сгруппируем таблицу `moscow_general` по жанру и посчитайте прослушивания треков каждого жанра методом `count()`. Затем отсортируйте результат в порядке убывания и сохраните его в таблице `moscow_genres`."
   ]
  },
  {
   "cell_type": "code",
   "execution_count": 35,
   "metadata": {
    "id": "r19lIPke_Zcu"
   },
   "outputs": [],
   "source": [
    "moscow_genres = moscow_general.groupby('genre').count().sort_values(by='track', ascending=False) # одной строкой: группировка таблицы moscow_general по столбцу 'genre', \n",
    "# подсчёт числа значений 'genre' в этой группировке методом count(), \n",
    "# сортировка получившегося Series в порядке убывания и сохранение в moscow_genres"
   ]
  },
  {
   "cell_type": "markdown",
   "metadata": {
    "id": "6kMuomxTiIr8"
   },
   "source": [
    "Выведем на экран первые десять строк `moscow_genres`:"
   ]
  },
  {
   "cell_type": "code",
   "execution_count": 36,
   "metadata": {
    "id": "WhCSooF8_Zcv"
   },
   "outputs": [
    {
     "data": {
      "text/plain": [
       "genre\n",
       "pop            5892\n",
       "dance          4435\n",
       "rock           3965\n",
       "electronic     3786\n",
       "hiphop         2096\n",
       "classical      1616\n",
       "world          1432\n",
       "alternative    1379\n",
       "ruspop         1372\n",
       "rusrap         1161\n",
       "Name: user_id, dtype: int64"
      ]
     },
     "execution_count": 36,
     "metadata": {},
     "output_type": "execute_result"
    }
   ],
   "source": [
    "moscow_genres['user_id'].head(10)# просмотр первых 10 строк moscow_genres"
   ]
  },
  {
   "cell_type": "markdown",
   "metadata": {
    "id": "cnPG2vnN_Zcv"
   },
   "source": [
    "Теперь повторим то же и для Петербурга.\n",
    "\n",
    "Сгруппируем таблицу `spb_general` по жанру. Посчитаем прослушивания треков каждого жанра. Результат отсортируем в порядке убывания и сохраним в таблице `spb_genres`:\n"
   ]
  },
  {
   "cell_type": "code",
   "execution_count": 37,
   "metadata": {
    "id": "gluLIpE7_Zcv"
   },
   "outputs": [],
   "source": [
    "spb_genres = spb_general.groupby('genre').count().sort_values(by='track', ascending=False) # одной строкой: группировка таблицы spb_general по столбцу 'genre', \n",
    "# подсчёт числа значений 'genre' в этой группировке методом count(), \n",
    "# сортировка получившегося Series в порядке убывания и сохранение в spb_genres"
   ]
  },
  {
   "cell_type": "markdown",
   "metadata": {
    "id": "5Doha_ODgyQ8"
   },
   "source": [
    "Выведем на экран первые десять строк `spb_genres`:"
   ]
  },
  {
   "cell_type": "code",
   "execution_count": 38,
   "metadata": {
    "id": "uaGJHjVU_Zcv"
   },
   "outputs": [
    {
     "data": {
      "text/plain": [
       "genre\n",
       "pop            2431\n",
       "dance          1932\n",
       "rock           1879\n",
       "electronic     1736\n",
       "hiphop          960\n",
       "alternative     649\n",
       "classical       646\n",
       "rusrap          564\n",
       "ruspop          538\n",
       "world           515\n",
       "Name: user_id, dtype: int64"
      ]
     },
     "execution_count": 38,
     "metadata": {},
     "output_type": "execute_result"
    }
   ],
   "source": [
    "spb_genres['user_id'].head(10) # просмотр первых 10 строк spb_genres"
   ]
  },
  {
   "cell_type": "markdown",
   "metadata": {
    "id": "RY51YJYu_Zcv"
   },
   "source": [
    "**Выводы**"
   ]
  },
  {
   "cell_type": "markdown",
   "metadata": {
    "id": "nVhnJEm__Zcv"
   },
   "source": [
    "Гипотеза частично подтвердилась:\n",
    "* Поп-музыка — самый популярный жанр в Москве, как и предполагала гипотеза. Более того, в топ-10 жанров встречается близкий жанр — русская популярная музыка.\n",
    "* Вопреки ожиданиям, рэп одинаково популярен в Москве и Петербурге. \n"
   ]
  },
  {
   "cell_type": "markdown",
   "metadata": {
    "id": "ykKQ0N65_Zcv"
   },
   "source": [
    "## Итоги исследования"
   ]
  },
  {
   "cell_type": "markdown",
   "metadata": {
    "id": "tjUwbHb3_Zcv"
   },
   "source": [
    "Я проверила три гипотезы и установила:\n",
    "\n",
    "1. День недели по-разному влияет на активность пользователей в Москве и Петербурге. \n",
    "\n",
    "Первая гипотеза полностью подтвердилась.\n",
    "\n",
    "2. Музыкальные предпочтения не сильно меняются в течение недели — будь то Москва или Петербург. Небольшие различия заметны в начале недели, по понедельникам:\n",
    "* в Москве слушают музыку жанра “world”,\n",
    "* в Петербурге — джаз и классику.\n",
    "\n",
    "Таким образом, вторая гипотеза подтвердилась лишь отчасти. Этот результат мог оказаться иным, если бы не пропуски в данных.\n",
    "\n",
    "3. Во вкусах пользователей Москвы и Петербурга больше общего чем различий. Вопреки ожиданиям, предпочтения жанров в Петербурге напоминают московские.\n",
    "\n",
    "Третья гипотеза не подтвердилась. Если различия в предпочтениях и существуют, на основной массе пользователей они незаметны.\n",
    "\n",
    "**На практике исследования содержат проверки статистических гипотез.**\n",
    "Из данных одного сервиса не всегда можно сделать вывод о всех жителях города.\n",
    "Проверки статистических гипотез покажут, насколько они достоверны, исходя из имеющихся данных. "
   ]
  },
  {
   "cell_type": "code",
   "execution_count": null,
   "metadata": {},
   "outputs": [],
   "source": []
  }
 ],
 "metadata": {
  "ExecuteTimeLog": [
   {
    "duration": 65,
    "start_time": "2022-03-17T14:27:37.329Z"
   },
   {
    "duration": 7,
    "start_time": "2022-03-17T14:28:03.808Z"
   },
   {
    "duration": 409,
    "start_time": "2022-03-17T14:28:17.818Z"
   },
   {
    "duration": 156,
    "start_time": "2022-03-17T14:28:25.669Z"
   },
   {
    "duration": 17,
    "start_time": "2022-03-17T14:28:29.287Z"
   },
   {
    "duration": 10,
    "start_time": "2022-03-17T14:28:59.424Z"
   },
   {
    "duration": 27,
    "start_time": "2022-03-17T14:32:34.453Z"
   },
   {
    "duration": 5,
    "start_time": "2022-03-17T14:59:37.754Z"
   },
   {
    "duration": 22,
    "start_time": "2022-03-17T15:05:51.253Z"
   },
   {
    "duration": 19,
    "start_time": "2022-03-17T15:07:28.871Z"
   },
   {
    "duration": 4,
    "start_time": "2022-03-17T15:17:58.051Z"
   },
   {
    "duration": 10,
    "start_time": "2022-03-17T15:18:46.342Z"
   },
   {
    "duration": 4,
    "start_time": "2022-03-17T15:18:57.011Z"
   },
   {
    "duration": 4,
    "start_time": "2022-03-17T15:19:01.626Z"
   },
   {
    "duration": 28,
    "start_time": "2022-03-17T15:19:18.125Z"
   },
   {
    "duration": 25,
    "start_time": "2022-03-17T16:07:59.596Z"
   },
   {
    "duration": 19,
    "start_time": "2022-03-17T16:15:41.342Z"
   },
   {
    "duration": 26,
    "start_time": "2022-03-17T16:16:09.740Z"
   },
   {
    "duration": 61,
    "start_time": "2022-03-17T16:18:43.540Z"
   },
   {
    "duration": 74,
    "start_time": "2022-03-17T16:20:39.600Z"
   },
   {
    "duration": 56,
    "start_time": "2022-03-17T16:20:57.447Z"
   },
   {
    "duration": 10,
    "start_time": "2022-03-17T16:26:17.529Z"
   },
   {
    "duration": 9,
    "start_time": "2022-03-17T16:28:06.637Z"
   },
   {
    "duration": 26,
    "start_time": "2022-03-17T16:39:54.684Z"
   },
   {
    "duration": 3,
    "start_time": "2022-03-17T16:39:59.632Z"
   },
   {
    "duration": 23,
    "start_time": "2022-03-17T16:40:03.236Z"
   },
   {
    "duration": 10,
    "start_time": "2022-03-17T16:41:47.082Z"
   },
   {
    "duration": 50,
    "start_time": "2022-03-18T07:57:08.887Z"
   },
   {
    "duration": 358,
    "start_time": "2022-03-18T07:57:37.681Z"
   },
   {
    "duration": 143,
    "start_time": "2022-03-18T07:57:38.041Z"
   },
   {
    "duration": 16,
    "start_time": "2022-03-18T07:57:38.185Z"
   },
   {
    "duration": 43,
    "start_time": "2022-03-18T07:57:38.203Z"
   },
   {
    "duration": 4,
    "start_time": "2022-03-18T07:57:38.247Z"
   },
   {
    "duration": 12,
    "start_time": "2022-03-18T07:57:38.253Z"
   },
   {
    "duration": 6,
    "start_time": "2022-03-18T07:57:38.267Z"
   },
   {
    "duration": 31,
    "start_time": "2022-03-18T07:57:38.274Z"
   },
   {
    "duration": 41,
    "start_time": "2022-03-18T07:57:38.306Z"
   },
   {
    "duration": 24,
    "start_time": "2022-03-18T07:57:38.349Z"
   },
   {
    "duration": 73,
    "start_time": "2022-03-18T07:57:38.375Z"
   },
   {
    "duration": 74,
    "start_time": "2022-03-18T07:57:38.450Z"
   },
   {
    "duration": 64,
    "start_time": "2022-03-18T07:57:38.526Z"
   },
   {
    "duration": 9,
    "start_time": "2022-03-18T07:57:38.592Z"
   },
   {
    "duration": 3,
    "start_time": "2022-03-18T07:57:38.602Z"
   },
   {
    "duration": 50,
    "start_time": "2022-03-18T07:57:38.607Z"
   },
   {
    "duration": 9,
    "start_time": "2022-03-18T07:57:38.658Z"
   },
   {
    "duration": 2,
    "start_time": "2022-03-18T07:57:51.729Z"
   },
   {
    "duration": 775,
    "start_time": "2022-03-18T07:57:51.757Z"
   },
   {
    "duration": 12,
    "start_time": "2022-03-18T07:57:52.534Z"
   },
   {
    "duration": 30,
    "start_time": "2022-03-18T07:57:52.548Z"
   },
   {
    "duration": 4,
    "start_time": "2022-03-18T07:57:52.581Z"
   },
   {
    "duration": 12,
    "start_time": "2022-03-18T07:57:52.587Z"
   },
   {
    "duration": 7,
    "start_time": "2022-03-18T07:57:52.601Z"
   },
   {
    "duration": 48,
    "start_time": "2022-03-18T07:57:52.609Z"
   },
   {
    "duration": 20,
    "start_time": "2022-03-18T07:57:52.658Z"
   },
   {
    "duration": 24,
    "start_time": "2022-03-18T07:57:52.680Z"
   },
   {
    "duration": 85,
    "start_time": "2022-03-18T07:57:52.707Z"
   },
   {
    "duration": 79,
    "start_time": "2022-03-18T07:57:52.794Z"
   },
   {
    "duration": 76,
    "start_time": "2022-03-18T07:57:52.875Z"
   },
   {
    "duration": 9,
    "start_time": "2022-03-18T07:57:52.953Z"
   },
   {
    "duration": 3,
    "start_time": "2022-03-18T07:57:52.963Z"
   },
   {
    "duration": 34,
    "start_time": "2022-03-18T07:57:52.967Z"
   },
   {
    "duration": 9,
    "start_time": "2022-03-18T07:57:53.003Z"
   },
   {
    "duration": 56,
    "start_time": "2022-03-18T07:57:53.014Z"
   },
   {
    "duration": 3,
    "start_time": "2022-03-18T07:57:53.071Z"
   },
   {
    "duration": 7,
    "start_time": "2022-03-18T07:57:53.075Z"
   },
   {
    "duration": 9,
    "start_time": "2022-03-18T07:57:53.084Z"
   },
   {
    "duration": 8,
    "start_time": "2022-03-18T07:57:53.094Z"
   },
   {
    "duration": 7,
    "start_time": "2022-03-18T07:57:53.103Z"
   },
   {
    "duration": 4,
    "start_time": "2022-03-18T07:57:53.112Z"
   },
   {
    "duration": 4,
    "start_time": "2022-03-18T07:57:53.117Z"
   },
   {
    "duration": 15,
    "start_time": "2022-03-18T07:57:53.123Z"
   },
   {
    "duration": 6,
    "start_time": "2022-03-18T07:57:53.140Z"
   },
   {
    "duration": 5,
    "start_time": "2022-03-18T07:57:53.147Z"
   },
   {
    "duration": 3,
    "start_time": "2022-03-18T07:57:53.156Z"
   },
   {
    "duration": 5,
    "start_time": "2022-03-18T07:57:53.161Z"
   },
   {
    "duration": 8,
    "start_time": "2022-03-18T07:57:53.167Z"
   },
   {
    "duration": 5,
    "start_time": "2022-03-18T07:57:53.176Z"
   },
   {
    "duration": 12,
    "start_time": "2022-03-18T07:57:53.183Z"
   },
   {
    "duration": 16,
    "start_time": "2022-03-18T07:57:53.196Z"
   },
   {
    "duration": 10,
    "start_time": "2022-03-18T07:57:53.214Z"
   },
   {
    "duration": 16,
    "start_time": "2022-03-18T07:57:53.226Z"
   },
   {
    "duration": 6,
    "start_time": "2022-03-18T07:57:53.244Z"
   },
   {
    "duration": 7,
    "start_time": "2022-03-18T07:57:53.252Z"
   },
   {
    "duration": 12,
    "start_time": "2022-03-18T08:00:02.360Z"
   },
   {
    "duration": 35,
    "start_time": "2022-03-18T08:00:25.688Z"
   },
   {
    "duration": 131,
    "start_time": "2022-03-18T08:34:43.494Z"
   },
   {
    "duration": 3,
    "start_time": "2022-03-18T08:35:27.782Z"
   },
   {
    "duration": 146,
    "start_time": "2022-03-18T08:35:27.786Z"
   },
   {
    "duration": 11,
    "start_time": "2022-03-18T08:35:27.934Z"
   },
   {
    "duration": 31,
    "start_time": "2022-03-18T08:35:27.946Z"
   },
   {
    "duration": 4,
    "start_time": "2022-03-18T08:35:27.979Z"
   },
   {
    "duration": 8,
    "start_time": "2022-03-18T08:35:27.985Z"
   },
   {
    "duration": 4,
    "start_time": "2022-03-18T08:35:27.995Z"
   },
   {
    "duration": 55,
    "start_time": "2022-03-18T08:35:28.001Z"
   },
   {
    "duration": 23,
    "start_time": "2022-03-18T08:35:28.058Z"
   },
   {
    "duration": 25,
    "start_time": "2022-03-18T08:35:28.082Z"
   },
   {
    "duration": 112,
    "start_time": "2022-03-18T08:35:28.111Z"
   },
   {
    "duration": 83,
    "start_time": "2022-03-18T08:35:28.226Z"
   },
   {
    "duration": 72,
    "start_time": "2022-03-18T08:35:28.311Z"
   },
   {
    "duration": 10,
    "start_time": "2022-03-18T08:35:28.385Z"
   },
   {
    "duration": 7,
    "start_time": "2022-03-18T08:35:28.397Z"
   },
   {
    "duration": 55,
    "start_time": "2022-03-18T08:35:28.406Z"
   },
   {
    "duration": 10,
    "start_time": "2022-03-18T08:35:28.462Z"
   },
   {
    "duration": 35,
    "start_time": "2022-03-18T08:35:28.474Z"
   },
   {
    "duration": 60,
    "start_time": "2022-03-18T08:35:28.512Z"
   },
   {
    "duration": 984,
    "start_time": "2022-03-18T08:35:28.574Z"
   },
   {
    "duration": 0,
    "start_time": "2022-03-18T08:35:29.560Z"
   },
   {
    "duration": 0,
    "start_time": "2022-03-18T08:35:29.560Z"
   },
   {
    "duration": 0,
    "start_time": "2022-03-18T08:35:29.562Z"
   },
   {
    "duration": 0,
    "start_time": "2022-03-18T08:35:29.563Z"
   },
   {
    "duration": 0,
    "start_time": "2022-03-18T08:35:29.565Z"
   },
   {
    "duration": 0,
    "start_time": "2022-03-18T08:35:29.566Z"
   },
   {
    "duration": 0,
    "start_time": "2022-03-18T08:35:29.568Z"
   },
   {
    "duration": 0,
    "start_time": "2022-03-18T08:35:29.569Z"
   },
   {
    "duration": 0,
    "start_time": "2022-03-18T08:35:29.570Z"
   },
   {
    "duration": 0,
    "start_time": "2022-03-18T08:35:29.571Z"
   },
   {
    "duration": 0,
    "start_time": "2022-03-18T08:35:29.572Z"
   },
   {
    "duration": 0,
    "start_time": "2022-03-18T08:35:29.573Z"
   },
   {
    "duration": 0,
    "start_time": "2022-03-18T08:35:29.574Z"
   },
   {
    "duration": 0,
    "start_time": "2022-03-18T08:35:29.575Z"
   },
   {
    "duration": 0,
    "start_time": "2022-03-18T08:35:29.576Z"
   },
   {
    "duration": 0,
    "start_time": "2022-03-18T08:35:29.577Z"
   },
   {
    "duration": 0,
    "start_time": "2022-03-18T08:35:29.578Z"
   },
   {
    "duration": 0,
    "start_time": "2022-03-18T08:35:29.579Z"
   },
   {
    "duration": 400,
    "start_time": "2022-03-18T08:36:03.063Z"
   },
   {
    "duration": 157,
    "start_time": "2022-03-18T08:36:03.465Z"
   },
   {
    "duration": 22,
    "start_time": "2022-03-18T08:36:03.624Z"
   },
   {
    "duration": 29,
    "start_time": "2022-03-18T08:36:03.648Z"
   },
   {
    "duration": 8,
    "start_time": "2022-03-18T08:36:03.679Z"
   },
   {
    "duration": 21,
    "start_time": "2022-03-18T08:36:03.688Z"
   },
   {
    "duration": 13,
    "start_time": "2022-03-18T08:36:03.711Z"
   },
   {
    "duration": 37,
    "start_time": "2022-03-18T08:36:03.726Z"
   },
   {
    "duration": 25,
    "start_time": "2022-03-18T08:36:03.765Z"
   },
   {
    "duration": 24,
    "start_time": "2022-03-18T08:36:03.793Z"
   },
   {
    "duration": 88,
    "start_time": "2022-03-18T08:36:03.819Z"
   },
   {
    "duration": 91,
    "start_time": "2022-03-18T08:36:03.909Z"
   },
   {
    "duration": 76,
    "start_time": "2022-03-18T08:36:04.001Z"
   },
   {
    "duration": 9,
    "start_time": "2022-03-18T08:36:04.079Z"
   },
   {
    "duration": 3,
    "start_time": "2022-03-18T08:36:04.090Z"
   },
   {
    "duration": 43,
    "start_time": "2022-03-18T08:36:04.095Z"
   },
   {
    "duration": 10,
    "start_time": "2022-03-18T08:36:04.139Z"
   },
   {
    "duration": 35,
    "start_time": "2022-03-18T08:36:04.151Z"
   },
   {
    "duration": 60,
    "start_time": "2022-03-18T08:36:04.188Z"
   },
   {
    "duration": 214,
    "start_time": "2022-03-18T08:36:04.249Z"
   },
   {
    "duration": 0,
    "start_time": "2022-03-18T08:36:04.466Z"
   },
   {
    "duration": 0,
    "start_time": "2022-03-18T08:36:04.467Z"
   },
   {
    "duration": 0,
    "start_time": "2022-03-18T08:36:04.468Z"
   },
   {
    "duration": 0,
    "start_time": "2022-03-18T08:36:04.469Z"
   },
   {
    "duration": 0,
    "start_time": "2022-03-18T08:36:04.470Z"
   },
   {
    "duration": 0,
    "start_time": "2022-03-18T08:36:04.472Z"
   },
   {
    "duration": 0,
    "start_time": "2022-03-18T08:36:04.473Z"
   },
   {
    "duration": 0,
    "start_time": "2022-03-18T08:36:04.473Z"
   },
   {
    "duration": 0,
    "start_time": "2022-03-18T08:36:04.475Z"
   },
   {
    "duration": 0,
    "start_time": "2022-03-18T08:36:04.475Z"
   },
   {
    "duration": 0,
    "start_time": "2022-03-18T08:36:04.477Z"
   },
   {
    "duration": 0,
    "start_time": "2022-03-18T08:36:04.478Z"
   },
   {
    "duration": 1,
    "start_time": "2022-03-18T08:36:04.478Z"
   },
   {
    "duration": 0,
    "start_time": "2022-03-18T08:36:04.479Z"
   },
   {
    "duration": 0,
    "start_time": "2022-03-18T08:36:04.481Z"
   },
   {
    "duration": 0,
    "start_time": "2022-03-18T08:36:04.482Z"
   },
   {
    "duration": 0,
    "start_time": "2022-03-18T08:36:04.483Z"
   },
   {
    "duration": 0,
    "start_time": "2022-03-18T08:36:04.484Z"
   },
   {
    "duration": 182,
    "start_time": "2022-03-18T08:37:44.675Z"
   },
   {
    "duration": 119,
    "start_time": "2022-03-18T08:38:50.047Z"
   },
   {
    "duration": 109,
    "start_time": "2022-03-18T08:44:47.124Z"
   },
   {
    "duration": 110,
    "start_time": "2022-03-18T08:45:22.570Z"
   },
   {
    "duration": 125,
    "start_time": "2022-03-18T08:45:45.957Z"
   },
   {
    "duration": 107,
    "start_time": "2022-03-18T08:48:45.563Z"
   },
   {
    "duration": 38,
    "start_time": "2022-03-18T09:01:08.734Z"
   },
   {
    "duration": 4,
    "start_time": "2022-03-18T09:07:07.228Z"
   },
   {
    "duration": 20,
    "start_time": "2022-03-18T09:09:28.031Z"
   },
   {
    "duration": 19,
    "start_time": "2022-03-18T09:10:23.883Z"
   },
   {
    "duration": 18,
    "start_time": "2022-03-18T09:12:53.334Z"
   },
   {
    "duration": 19,
    "start_time": "2022-03-18T09:16:03.331Z"
   },
   {
    "duration": 16,
    "start_time": "2022-03-18T09:16:04.758Z"
   },
   {
    "duration": 23,
    "start_time": "2022-03-18T09:16:05.380Z"
   },
   {
    "duration": 18,
    "start_time": "2022-03-18T09:16:05.904Z"
   },
   {
    "duration": 9,
    "start_time": "2022-03-18T09:20:33.009Z"
   },
   {
    "duration": 12,
    "start_time": "2022-03-18T09:26:19.564Z"
   },
   {
    "duration": 22,
    "start_time": "2022-03-18T09:28:18.356Z"
   },
   {
    "duration": 20,
    "start_time": "2022-03-18T09:29:40.749Z"
   },
   {
    "duration": 22,
    "start_time": "2022-03-18T09:30:13.176Z"
   },
   {
    "duration": 20,
    "start_time": "2022-03-18T09:31:45.074Z"
   },
   {
    "duration": 4,
    "start_time": "2022-03-18T09:38:08.019Z"
   },
   {
    "duration": 4,
    "start_time": "2022-03-18T09:49:40.496Z"
   },
   {
    "duration": 5,
    "start_time": "2022-03-18T09:53:31.903Z"
   },
   {
    "duration": 9,
    "start_time": "2022-03-18T09:54:03.515Z"
   },
   {
    "duration": 9,
    "start_time": "2022-03-18T09:54:37.594Z"
   },
   {
    "duration": 403,
    "start_time": "2022-03-18T09:55:04.986Z"
   },
   {
    "duration": 174,
    "start_time": "2022-03-18T09:55:05.391Z"
   },
   {
    "duration": 19,
    "start_time": "2022-03-18T09:55:05.567Z"
   },
   {
    "duration": 50,
    "start_time": "2022-03-18T09:55:05.588Z"
   },
   {
    "duration": 5,
    "start_time": "2022-03-18T09:55:05.640Z"
   },
   {
    "duration": 15,
    "start_time": "2022-03-18T09:55:05.647Z"
   },
   {
    "duration": 11,
    "start_time": "2022-03-18T09:55:05.664Z"
   },
   {
    "duration": 34,
    "start_time": "2022-03-18T09:55:05.677Z"
   },
   {
    "duration": 40,
    "start_time": "2022-03-18T09:55:05.713Z"
   },
   {
    "duration": 25,
    "start_time": "2022-03-18T09:55:05.756Z"
   },
   {
    "duration": 88,
    "start_time": "2022-03-18T09:55:05.783Z"
   },
   {
    "duration": 92,
    "start_time": "2022-03-18T09:55:05.873Z"
   },
   {
    "duration": 73,
    "start_time": "2022-03-18T09:55:05.967Z"
   },
   {
    "duration": 10,
    "start_time": "2022-03-18T09:55:06.042Z"
   },
   {
    "duration": 4,
    "start_time": "2022-03-18T09:55:06.054Z"
   },
   {
    "duration": 29,
    "start_time": "2022-03-18T09:55:06.059Z"
   },
   {
    "duration": 10,
    "start_time": "2022-03-18T09:55:06.090Z"
   },
   {
    "duration": 66,
    "start_time": "2022-03-18T09:55:06.102Z"
   },
   {
    "duration": 37,
    "start_time": "2022-03-18T09:55:06.170Z"
   },
   {
    "duration": 4,
    "start_time": "2022-03-18T09:55:06.208Z"
   },
   {
    "duration": 38,
    "start_time": "2022-03-18T09:55:06.214Z"
   },
   {
    "duration": 29,
    "start_time": "2022-03-18T09:55:06.254Z"
   },
   {
    "duration": 18,
    "start_time": "2022-03-18T09:55:06.285Z"
   },
   {
    "duration": 34,
    "start_time": "2022-03-18T09:55:06.304Z"
   },
   {
    "duration": 21,
    "start_time": "2022-03-18T09:55:06.340Z"
   },
   {
    "duration": 18,
    "start_time": "2022-03-18T09:55:06.363Z"
   },
   {
    "duration": 10,
    "start_time": "2022-03-18T09:55:06.382Z"
   },
   {
    "duration": 47,
    "start_time": "2022-03-18T09:55:06.395Z"
   },
   {
    "duration": 19,
    "start_time": "2022-03-18T09:55:06.444Z"
   },
   {
    "duration": 4,
    "start_time": "2022-03-18T09:55:06.465Z"
   },
   {
    "duration": 7,
    "start_time": "2022-03-18T09:55:06.471Z"
   },
   {
    "duration": 8,
    "start_time": "2022-03-18T09:55:06.479Z"
   },
   {
    "duration": 8,
    "start_time": "2022-03-18T09:55:06.488Z"
   },
   {
    "duration": 5,
    "start_time": "2022-03-18T09:55:06.497Z"
   },
   {
    "duration": 9,
    "start_time": "2022-03-18T09:55:06.504Z"
   },
   {
    "duration": 23,
    "start_time": "2022-03-18T09:55:06.515Z"
   },
   {
    "duration": 5,
    "start_time": "2022-03-18T09:55:06.540Z"
   },
   {
    "duration": 6,
    "start_time": "2022-03-18T09:55:06.547Z"
   },
   {
    "duration": 23,
    "start_time": "2022-03-18T09:57:19.262Z"
   },
   {
    "duration": 14,
    "start_time": "2022-03-18T09:58:41.574Z"
   },
   {
    "duration": 19,
    "start_time": "2022-03-18T09:59:53.894Z"
   },
   {
    "duration": 13,
    "start_time": "2022-03-18T09:59:55.376Z"
   },
   {
    "duration": 88,
    "start_time": "2022-03-18T10:04:41.170Z"
   },
   {
    "duration": 30,
    "start_time": "2022-03-18T10:05:30.416Z"
   },
   {
    "duration": 38,
    "start_time": "2022-03-18T10:09:05.419Z"
   },
   {
    "duration": 8,
    "start_time": "2022-03-18T10:09:48.932Z"
   },
   {
    "duration": 8,
    "start_time": "2022-03-18T10:14:33.618Z"
   },
   {
    "duration": 18,
    "start_time": "2022-03-18T10:15:05.424Z"
   },
   {
    "duration": 4,
    "start_time": "2022-03-18T10:21:07.874Z"
   },
   {
    "duration": 28,
    "start_time": "2022-03-18T10:21:11.062Z"
   },
   {
    "duration": 4,
    "start_time": "2022-03-18T10:21:23.882Z"
   },
   {
    "duration": 19,
    "start_time": "2022-03-18T10:21:25.415Z"
   },
   {
    "duration": 24,
    "start_time": "2022-03-18T10:28:35.232Z"
   },
   {
    "duration": 16,
    "start_time": "2022-03-18T10:29:01.004Z"
   },
   {
    "duration": 9,
    "start_time": "2022-03-18T10:29:24.666Z"
   },
   {
    "duration": 37,
    "start_time": "2022-03-18T10:33:00.931Z"
   },
   {
    "duration": 27,
    "start_time": "2022-03-18T10:33:11.301Z"
   },
   {
    "duration": 57,
    "start_time": "2022-03-18T10:35:42.568Z"
   },
   {
    "duration": 32,
    "start_time": "2022-03-18T10:36:09.548Z"
   },
   {
    "duration": 33,
    "start_time": "2022-03-18T10:36:18.189Z"
   },
   {
    "duration": 24,
    "start_time": "2022-03-18T10:36:25.527Z"
   },
   {
    "duration": 8,
    "start_time": "2022-03-18T10:36:37.399Z"
   },
   {
    "duration": 111,
    "start_time": "2022-03-18T10:38:01.915Z"
   },
   {
    "duration": 41,
    "start_time": "2022-03-18T10:38:14.125Z"
   },
   {
    "duration": 24,
    "start_time": "2022-03-18T10:38:43.954Z"
   },
   {
    "duration": 28,
    "start_time": "2022-03-18T10:40:50.105Z"
   },
   {
    "duration": 29,
    "start_time": "2022-03-18T10:41:12.622Z"
   },
   {
    "duration": 24,
    "start_time": "2022-03-18T10:41:35.418Z"
   },
   {
    "duration": 8,
    "start_time": "2022-03-18T10:41:38.808Z"
   },
   {
    "duration": 17,
    "start_time": "2022-03-18T10:42:13.772Z"
   },
   {
    "duration": 8,
    "start_time": "2022-03-18T10:42:15.821Z"
   },
   {
    "duration": 397,
    "start_time": "2022-03-18T10:44:41.866Z"
   },
   {
    "duration": 154,
    "start_time": "2022-03-18T10:44:42.265Z"
   },
   {
    "duration": 23,
    "start_time": "2022-03-18T10:44:42.420Z"
   },
   {
    "duration": 33,
    "start_time": "2022-03-18T10:44:42.445Z"
   },
   {
    "duration": 16,
    "start_time": "2022-03-18T10:44:42.479Z"
   },
   {
    "duration": 35,
    "start_time": "2022-03-18T10:44:42.497Z"
   },
   {
    "duration": 28,
    "start_time": "2022-03-18T10:44:42.534Z"
   },
   {
    "duration": 27,
    "start_time": "2022-03-18T10:44:42.564Z"
   },
   {
    "duration": 28,
    "start_time": "2022-03-18T10:44:42.593Z"
   },
   {
    "duration": 25,
    "start_time": "2022-03-18T10:44:42.623Z"
   },
   {
    "duration": 73,
    "start_time": "2022-03-18T10:44:42.649Z"
   },
   {
    "duration": 77,
    "start_time": "2022-03-18T10:44:42.723Z"
   },
   {
    "duration": 67,
    "start_time": "2022-03-18T10:44:42.802Z"
   },
   {
    "duration": 9,
    "start_time": "2022-03-18T10:44:42.871Z"
   },
   {
    "duration": 22,
    "start_time": "2022-03-18T10:44:42.882Z"
   },
   {
    "duration": 45,
    "start_time": "2022-03-18T10:44:42.906Z"
   },
   {
    "duration": 14,
    "start_time": "2022-03-18T10:44:42.953Z"
   },
   {
    "duration": 50,
    "start_time": "2022-03-18T10:44:42.968Z"
   },
   {
    "duration": 34,
    "start_time": "2022-03-18T10:44:43.020Z"
   },
   {
    "duration": 3,
    "start_time": "2022-03-18T10:44:43.056Z"
   },
   {
    "duration": 25,
    "start_time": "2022-03-18T10:44:43.060Z"
   },
   {
    "duration": 17,
    "start_time": "2022-03-18T10:44:43.086Z"
   },
   {
    "duration": 45,
    "start_time": "2022-03-18T10:44:43.104Z"
   },
   {
    "duration": 14,
    "start_time": "2022-03-18T10:44:43.151Z"
   },
   {
    "duration": 24,
    "start_time": "2022-03-18T10:44:43.167Z"
   },
   {
    "duration": 25,
    "start_time": "2022-03-18T10:44:43.193Z"
   },
   {
    "duration": 34,
    "start_time": "2022-03-18T10:44:43.219Z"
   },
   {
    "duration": 18,
    "start_time": "2022-03-18T10:44:43.256Z"
   },
   {
    "duration": 12,
    "start_time": "2022-03-18T10:44:43.276Z"
   },
   {
    "duration": 14,
    "start_time": "2022-03-18T10:44:43.290Z"
   },
   {
    "duration": 48,
    "start_time": "2022-03-18T10:44:43.305Z"
   },
   {
    "duration": 28,
    "start_time": "2022-03-18T10:44:43.355Z"
   },
   {
    "duration": 64,
    "start_time": "2022-03-18T10:44:43.385Z"
   },
   {
    "duration": 24,
    "start_time": "2022-03-18T10:44:43.451Z"
   },
   {
    "duration": 46,
    "start_time": "2022-03-18T10:44:43.476Z"
   },
   {
    "duration": 41,
    "start_time": "2022-03-18T10:44:43.524Z"
   },
   {
    "duration": 38,
    "start_time": "2022-03-18T10:44:43.566Z"
   },
   {
    "duration": 30,
    "start_time": "2022-03-18T10:44:43.606Z"
   },
   {
    "duration": 65,
    "start_time": "2022-03-18T11:07:49.773Z"
   },
   {
    "duration": 8,
    "start_time": "2022-03-18T11:07:58.462Z"
   },
   {
    "duration": 5,
    "start_time": "2022-03-18T11:08:05.370Z"
   },
   {
    "duration": 6,
    "start_time": "2022-03-18T11:08:28.979Z"
   },
   {
    "duration": 404,
    "start_time": "2022-03-24T20:51:18.654Z"
   },
   {
    "duration": 153,
    "start_time": "2022-03-24T20:51:19.060Z"
   },
   {
    "duration": 18,
    "start_time": "2022-03-24T20:51:19.215Z"
   },
   {
    "duration": 27,
    "start_time": "2022-03-24T20:51:19.235Z"
   },
   {
    "duration": 5,
    "start_time": "2022-03-24T20:51:19.281Z"
   },
   {
    "duration": 13,
    "start_time": "2022-03-24T20:51:19.287Z"
   },
   {
    "duration": 4,
    "start_time": "2022-03-24T20:51:19.302Z"
   },
   {
    "duration": 24,
    "start_time": "2022-03-24T20:51:19.308Z"
   },
   {
    "duration": 17,
    "start_time": "2022-03-24T20:51:19.334Z"
   },
   {
    "duration": 47,
    "start_time": "2022-03-24T20:51:19.354Z"
   },
   {
    "duration": 58,
    "start_time": "2022-03-24T20:51:19.403Z"
   },
   {
    "duration": 84,
    "start_time": "2022-03-24T20:51:19.463Z"
   },
   {
    "duration": 68,
    "start_time": "2022-03-24T20:51:19.549Z"
   },
   {
    "duration": 9,
    "start_time": "2022-03-24T20:51:19.619Z"
   },
   {
    "duration": 3,
    "start_time": "2022-03-24T20:51:19.630Z"
   },
   {
    "duration": 24,
    "start_time": "2022-03-24T20:51:19.634Z"
   },
   {
    "duration": 25,
    "start_time": "2022-03-24T20:51:19.659Z"
   },
   {
    "duration": 12,
    "start_time": "2022-03-24T20:51:19.685Z"
   },
   {
    "duration": 12,
    "start_time": "2022-03-24T20:51:19.698Z"
   },
   {
    "duration": 4,
    "start_time": "2022-03-24T20:51:19.712Z"
   },
   {
    "duration": 20,
    "start_time": "2022-03-24T20:51:19.717Z"
   },
   {
    "duration": 43,
    "start_time": "2022-03-24T20:51:19.738Z"
   },
   {
    "duration": 15,
    "start_time": "2022-03-24T20:51:19.783Z"
   },
   {
    "duration": 13,
    "start_time": "2022-03-24T20:51:19.799Z"
   },
   {
    "duration": 17,
    "start_time": "2022-03-24T20:51:19.814Z"
   },
   {
    "duration": 14,
    "start_time": "2022-03-24T20:51:19.832Z"
   },
   {
    "duration": 37,
    "start_time": "2022-03-24T20:51:19.847Z"
   },
   {
    "duration": 11,
    "start_time": "2022-03-24T20:51:19.887Z"
   },
   {
    "duration": 8,
    "start_time": "2022-03-24T20:51:19.900Z"
   },
   {
    "duration": 5,
    "start_time": "2022-03-24T20:51:19.910Z"
   },
   {
    "duration": 19,
    "start_time": "2022-03-24T20:51:19.917Z"
   },
   {
    "duration": 11,
    "start_time": "2022-03-24T20:51:19.938Z"
   },
   {
    "duration": 44,
    "start_time": "2022-03-24T20:51:19.950Z"
   },
   {
    "duration": 11,
    "start_time": "2022-03-24T20:51:19.995Z"
   },
   {
    "duration": 20,
    "start_time": "2022-03-24T20:51:20.008Z"
   },
   {
    "duration": 5,
    "start_time": "2022-03-24T20:51:20.029Z"
   },
   {
    "duration": 18,
    "start_time": "2022-03-24T20:51:20.035Z"
   },
   {
    "duration": 30,
    "start_time": "2022-03-24T20:51:20.054Z"
   },
   {
    "duration": 179,
    "start_time": "2022-03-24T20:55:21.804Z"
   },
   {
    "duration": 180,
    "start_time": "2022-03-24T20:55:54.174Z"
   },
   {
    "duration": 9,
    "start_time": "2023-01-14T12:08:40.251Z"
   },
   {
    "duration": 417,
    "start_time": "2023-01-14T12:14:42.606Z"
   },
   {
    "duration": 218,
    "start_time": "2023-01-14T12:14:43.025Z"
   },
   {
    "duration": 19,
    "start_time": "2023-01-14T12:14:43.245Z"
   },
   {
    "duration": 38,
    "start_time": "2023-01-14T12:14:43.266Z"
   },
   {
    "duration": 4,
    "start_time": "2023-01-14T12:14:43.306Z"
   },
   {
    "duration": 168,
    "start_time": "2023-01-14T12:14:43.312Z"
   },
   {
    "duration": 7,
    "start_time": "2023-01-14T12:14:43.482Z"
   },
   {
    "duration": 25,
    "start_time": "2023-01-14T12:14:43.490Z"
   },
   {
    "duration": 17,
    "start_time": "2023-01-14T12:14:43.517Z"
   },
   {
    "duration": 23,
    "start_time": "2023-01-14T12:14:43.537Z"
   },
   {
    "duration": 84,
    "start_time": "2023-01-14T12:14:43.561Z"
   },
   {
    "duration": 84,
    "start_time": "2023-01-14T12:14:43.647Z"
   },
   {
    "duration": 64,
    "start_time": "2023-01-14T12:14:43.733Z"
   },
   {
    "duration": 10,
    "start_time": "2023-01-14T12:14:43.799Z"
   },
   {
    "duration": 15,
    "start_time": "2023-01-14T12:14:43.810Z"
   },
   {
    "duration": 26,
    "start_time": "2023-01-14T12:14:43.826Z"
   },
   {
    "duration": 9,
    "start_time": "2023-01-14T12:14:43.854Z"
   },
   {
    "duration": 33,
    "start_time": "2023-01-14T12:14:43.864Z"
   },
   {
    "duration": 13,
    "start_time": "2023-01-14T12:14:43.899Z"
   },
   {
    "duration": 15,
    "start_time": "2023-01-14T12:14:43.914Z"
   },
   {
    "duration": 40,
    "start_time": "2023-01-14T12:14:43.931Z"
   },
   {
    "duration": 14,
    "start_time": "2023-01-14T12:14:43.973Z"
   },
   {
    "duration": 15,
    "start_time": "2023-01-14T12:14:43.989Z"
   },
   {
    "duration": 13,
    "start_time": "2023-01-14T12:14:44.006Z"
   },
   {
    "duration": 16,
    "start_time": "2023-01-14T12:14:44.021Z"
   },
   {
    "duration": 16,
    "start_time": "2023-01-14T12:14:44.039Z"
   },
   {
    "duration": 8,
    "start_time": "2023-01-14T12:14:44.057Z"
   },
   {
    "duration": 10,
    "start_time": "2023-01-14T12:14:44.098Z"
   },
   {
    "duration": 9,
    "start_time": "2023-01-14T12:14:44.110Z"
   },
   {
    "duration": 4,
    "start_time": "2023-01-14T12:14:44.121Z"
   },
   {
    "duration": 23,
    "start_time": "2023-01-14T12:14:44.127Z"
   },
   {
    "duration": 34,
    "start_time": "2023-01-14T12:14:44.152Z"
   },
   {
    "duration": 35,
    "start_time": "2023-01-14T12:14:44.187Z"
   },
   {
    "duration": 13,
    "start_time": "2023-01-14T12:14:44.224Z"
   },
   {
    "duration": 33,
    "start_time": "2023-01-14T12:14:44.239Z"
   },
   {
    "duration": 5,
    "start_time": "2023-01-14T12:14:44.275Z"
   },
   {
    "duration": 19,
    "start_time": "2023-01-14T12:14:44.282Z"
   },
   {
    "duration": 14,
    "start_time": "2023-01-14T12:14:44.302Z"
   },
   {
    "duration": 441,
    "start_time": "2023-01-14T12:19:40.889Z"
   },
   {
    "duration": 179,
    "start_time": "2023-01-14T12:19:41.332Z"
   },
   {
    "duration": 18,
    "start_time": "2023-01-14T12:19:41.512Z"
   },
   {
    "duration": 28,
    "start_time": "2023-01-14T12:19:41.532Z"
   },
   {
    "duration": 4,
    "start_time": "2023-01-14T12:19:41.563Z"
   },
   {
    "duration": 37,
    "start_time": "2023-01-14T12:19:41.569Z"
   },
   {
    "duration": 9,
    "start_time": "2023-01-14T12:19:41.608Z"
   },
   {
    "duration": 41,
    "start_time": "2023-01-14T12:19:41.619Z"
   },
   {
    "duration": 34,
    "start_time": "2023-01-14T12:19:41.663Z"
   },
   {
    "duration": 24,
    "start_time": "2023-01-14T12:19:41.699Z"
   },
   {
    "duration": 84,
    "start_time": "2023-01-14T12:19:41.725Z"
   },
   {
    "duration": 100,
    "start_time": "2023-01-14T12:19:41.811Z"
   },
   {
    "duration": 67,
    "start_time": "2023-01-14T12:19:41.914Z"
   },
   {
    "duration": 10,
    "start_time": "2023-01-14T12:19:41.996Z"
   },
   {
    "duration": 3,
    "start_time": "2023-01-14T12:19:42.008Z"
   },
   {
    "duration": 29,
    "start_time": "2023-01-14T12:19:42.012Z"
   },
   {
    "duration": 9,
    "start_time": "2023-01-14T12:19:42.043Z"
   },
   {
    "duration": 12,
    "start_time": "2023-01-14T12:19:42.054Z"
   },
   {
    "duration": 17,
    "start_time": "2023-01-14T12:19:42.097Z"
   },
   {
    "duration": 5,
    "start_time": "2023-01-14T12:19:42.116Z"
   },
   {
    "duration": 23,
    "start_time": "2023-01-14T12:19:42.123Z"
   },
   {
    "duration": 17,
    "start_time": "2023-01-14T12:19:42.148Z"
   },
   {
    "duration": 48,
    "start_time": "2023-01-14T12:19:42.167Z"
   },
   {
    "duration": 17,
    "start_time": "2023-01-14T12:19:42.216Z"
   },
   {
    "duration": 16,
    "start_time": "2023-01-14T12:19:42.235Z"
   },
   {
    "duration": 14,
    "start_time": "2023-01-14T12:19:42.253Z"
   },
   {
    "duration": 35,
    "start_time": "2023-01-14T12:19:42.268Z"
   },
   {
    "duration": 13,
    "start_time": "2023-01-14T12:19:42.305Z"
   },
   {
    "duration": 14,
    "start_time": "2023-01-14T12:19:42.320Z"
   },
   {
    "duration": 5,
    "start_time": "2023-01-14T12:19:42.337Z"
   },
   {
    "duration": 57,
    "start_time": "2023-01-14T12:19:42.345Z"
   },
   {
    "duration": 11,
    "start_time": "2023-01-14T12:19:42.404Z"
   },
   {
    "duration": 21,
    "start_time": "2023-01-14T12:19:42.417Z"
   },
   {
    "duration": 16,
    "start_time": "2023-01-14T12:19:42.440Z"
   },
   {
    "duration": 71,
    "start_time": "2023-01-14T12:19:42.458Z"
   },
   {
    "duration": 7,
    "start_time": "2023-01-14T12:19:42.531Z"
   },
   {
    "duration": 19,
    "start_time": "2023-01-14T12:19:42.540Z"
   },
   {
    "duration": 5,
    "start_time": "2023-01-14T12:19:42.561Z"
   }
  ],
  "colab": {
   "collapsed_sections": [
    "E0vqbgi9ay0H",
    "VUC88oWjTJw2"
   ],
   "name": "yandex_music_project_2021.2.ipynb",
   "provenance": []
  },
  "kernelspec": {
   "display_name": "Python 3 (ipykernel)",
   "language": "python",
   "name": "python3"
  },
  "language_info": {
   "codemirror_mode": {
    "name": "ipython",
    "version": 3
   },
   "file_extension": ".py",
   "mimetype": "text/x-python",
   "name": "python",
   "nbconvert_exporter": "python",
   "pygments_lexer": "ipython3",
   "version": "3.9.5"
  },
  "toc": {
   "base_numbering": 1,
   "nav_menu": {},
   "number_sections": true,
   "sideBar": true,
   "skip_h1_title": true,
   "title_cell": "Table of Contents",
   "title_sidebar": "Contents",
   "toc_cell": false,
   "toc_position": {},
   "toc_section_display": true,
   "toc_window_display": false
  }
 },
 "nbformat": 4,
 "nbformat_minor": 1
}
