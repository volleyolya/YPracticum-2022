{
 "cells": [
  {
   "cell_type": "markdown",
   "metadata": {},
   "source": [
    "# Принятие решений в бизнесе. Анализ результатов A/B теста"
   ]
  },
  {
   "cell_type": "markdown",
   "metadata": {},
   "source": [
    "**Описание проекта**\n",
    "\n",
    "Вместе с отделом маркетинга аналитик крупного интернет-магазина подготовили список гипотез для увеличения выручки.\n",
    "Задача: приоритизировать гипотезы, запустить A/B-тест и проанализировать результаты.\n",
    "\n",
    "**Цель исследования:**\n",
    "Увеличение выручки интернет-магазина\n",
    "\n",
    "**Ход исследования:**\n",
    "* с помощью фреймворков ICE и RICE приоритизовать гипотезы\n",
    "* загрузить и подготовить данные к анализу\n",
    "* провести исследовательский анализ данных\n",
    "* сделать выводы"
   ]
  },
  {
   "cell_type": "markdown",
   "metadata": {},
   "source": [
    "**Описание данных**\n",
    "_______\n",
    "Данные для первой части\n",
    "Файл /datasets/hypothesis.csv\n",
    "- **Hypothesis** — краткое описание гипотезы;\n",
    "- **Reach** — охват пользователей по 10-балльной шкале;\n",
    "- **Impact** — влияние на пользователей по 10-балльной шкале;\n",
    "- **Confidence** — уверенность в гипотезе по 10-балльной шкале;\n",
    "- **Efforts** — затраты ресурсов на проверку гипотезы по 10-балльной шкале. Чем больше значение Efforts, тем дороже проверка гипотезы.\n",
    "____________\n",
    "\n",
    "Данные для второй части\n",
    "Файл /datasets/orders.csv\n",
    "- **transactionId** — идентификатор заказа;\n",
    "- **visitorId** — идентификатор пользователя, совершившего заказ;\n",
    "- **date** — дата, когда был совершён заказ;\n",
    "- **revenue** — выручка заказа;\n",
    "- **group** — группа A/B-теста, в которую попал заказ.\n",
    "Файл /datasets/visitors.csv\n",
    "- **date** — дата;\n",
    "- **group** — группа A/B-теста;\n",
    "- **visitors** — количество пользователей в указанную дату в указанной группе A/B-теста"
   ]
  },
  {
   "cell_type": "markdown",
   "metadata": {},
   "source": [
    "## Часть 1. Приоритизация гипотез."
   ]
  },
  {
   "cell_type": "code",
   "execution_count": 1,
   "metadata": {},
   "outputs": [],
   "source": [
    "# импорт библиотек\n",
    "import pandas as pd\n",
    "from scipy import stats as st\n",
    "import datetime as dt\n",
    "import numpy as np\n",
    "import matplotlib.pyplot as plt\n",
    "from pandas.plotting import register_matplotlib_converters\n",
    "import warnings\n",
    "import math as mth"
   ]
  },
  {
   "cell_type": "markdown",
   "metadata": {},
   "source": [
    "В файле **/datasets/hypothesis.csv** 9 гипотез по увеличению выручки интернет-магазина с указанными параметрами Reach, Impact, Confidence, Effort."
   ]
  },
  {
   "cell_type": "code",
   "execution_count": 2,
   "metadata": {},
   "outputs": [
    {
     "data": {
      "text/html": [
       "<div>\n",
       "<style scoped>\n",
       "    .dataframe tbody tr th:only-of-type {\n",
       "        vertical-align: middle;\n",
       "    }\n",
       "\n",
       "    .dataframe tbody tr th {\n",
       "        vertical-align: top;\n",
       "    }\n",
       "\n",
       "    .dataframe thead th {\n",
       "        text-align: right;\n",
       "    }\n",
       "</style>\n",
       "<table border=\"1\" class=\"dataframe\">\n",
       "  <thead>\n",
       "    <tr style=\"text-align: right;\">\n",
       "      <th></th>\n",
       "      <th>Hypothesis</th>\n",
       "      <th>Reach</th>\n",
       "      <th>Impact</th>\n",
       "      <th>Confidence</th>\n",
       "      <th>Efforts</th>\n",
       "    </tr>\n",
       "  </thead>\n",
       "  <tbody>\n",
       "    <tr>\n",
       "      <th>0</th>\n",
       "      <td>Добавить два новых канала привлечения трафика, что позволит привлекать на 30% больше пользователей</td>\n",
       "      <td>3</td>\n",
       "      <td>10</td>\n",
       "      <td>8</td>\n",
       "      <td>6</td>\n",
       "    </tr>\n",
       "    <tr>\n",
       "      <th>1</th>\n",
       "      <td>Запустить собственную службу доставки, что сократит срок доставки заказов</td>\n",
       "      <td>2</td>\n",
       "      <td>5</td>\n",
       "      <td>4</td>\n",
       "      <td>10</td>\n",
       "    </tr>\n",
       "    <tr>\n",
       "      <th>2</th>\n",
       "      <td>Добавить блоки рекомендаций товаров на сайт интернет магазина, чтобы повысить конверсию и средний чек заказа</td>\n",
       "      <td>8</td>\n",
       "      <td>3</td>\n",
       "      <td>7</td>\n",
       "      <td>3</td>\n",
       "    </tr>\n",
       "    <tr>\n",
       "      <th>3</th>\n",
       "      <td>Изменить структура категорий, что увеличит конверсию, т.к. пользователи быстрее найдут нужный товар</td>\n",
       "      <td>8</td>\n",
       "      <td>3</td>\n",
       "      <td>3</td>\n",
       "      <td>8</td>\n",
       "    </tr>\n",
       "    <tr>\n",
       "      <th>4</th>\n",
       "      <td>Изменить цвет фона главной страницы, чтобы увеличить вовлеченность пользователей</td>\n",
       "      <td>3</td>\n",
       "      <td>1</td>\n",
       "      <td>1</td>\n",
       "      <td>1</td>\n",
       "    </tr>\n",
       "    <tr>\n",
       "      <th>5</th>\n",
       "      <td>Добавить страницу отзывов клиентов о магазине, что позволит увеличить количество заказов</td>\n",
       "      <td>3</td>\n",
       "      <td>2</td>\n",
       "      <td>2</td>\n",
       "      <td>3</td>\n",
       "    </tr>\n",
       "    <tr>\n",
       "      <th>6</th>\n",
       "      <td>Показать на главной странице баннеры с актуальными акциями и распродажами, чтобы увеличить конверсию</td>\n",
       "      <td>5</td>\n",
       "      <td>3</td>\n",
       "      <td>8</td>\n",
       "      <td>3</td>\n",
       "    </tr>\n",
       "    <tr>\n",
       "      <th>7</th>\n",
       "      <td>Добавить форму подписки на все основные страницы, чтобы собрать базу клиентов для email-рассылок</td>\n",
       "      <td>10</td>\n",
       "      <td>7</td>\n",
       "      <td>8</td>\n",
       "      <td>5</td>\n",
       "    </tr>\n",
       "    <tr>\n",
       "      <th>8</th>\n",
       "      <td>Запустить акцию, дающую скидку на товар в день рождения</td>\n",
       "      <td>1</td>\n",
       "      <td>9</td>\n",
       "      <td>9</td>\n",
       "      <td>5</td>\n",
       "    </tr>\n",
       "  </tbody>\n",
       "</table>\n",
       "</div>"
      ],
      "text/plain": [
       "                                                                                                     Hypothesis  \\\n",
       "0  Добавить два новых канала привлечения трафика, что позволит привлекать на 30% больше пользователей             \n",
       "1  Запустить собственную службу доставки, что сократит срок доставки заказов                                      \n",
       "2  Добавить блоки рекомендаций товаров на сайт интернет магазина, чтобы повысить конверсию и средний чек заказа   \n",
       "3  Изменить структура категорий, что увеличит конверсию, т.к. пользователи быстрее найдут нужный товар            \n",
       "4  Изменить цвет фона главной страницы, чтобы увеличить вовлеченность пользователей                               \n",
       "5  Добавить страницу отзывов клиентов о магазине, что позволит увеличить количество заказов                       \n",
       "6  Показать на главной странице баннеры с актуальными акциями и распродажами, чтобы увеличить конверсию           \n",
       "7  Добавить форму подписки на все основные страницы, чтобы собрать базу клиентов для email-рассылок               \n",
       "8  Запустить акцию, дающую скидку на товар в день рождения                                                        \n",
       "\n",
       "   Reach  Impact  Confidence  Efforts  \n",
       "0  3      10      8           6        \n",
       "1  2      5       4           10       \n",
       "2  8      3       7           3        \n",
       "3  8      3       3           8        \n",
       "4  3      1       1           1        \n",
       "5  3      2       2           3        \n",
       "6  5      3       8           3        \n",
       "7  10     7       8           5        \n",
       "8  1      9       9           5        "
      ]
     },
     "execution_count": 2,
     "metadata": {},
     "output_type": "execute_result"
    }
   ],
   "source": [
    "# чтение файла\n",
    "hypothesis = pd.read_csv('/datasets/hypothesis.csv')\n",
    "pd.set_option('display.max_colwidth', 0)\n",
    "hypothesis"
   ]
  },
  {
   "cell_type": "code",
   "execution_count": 3,
   "metadata": {},
   "outputs": [
    {
     "data": {
      "text/html": [
       "<div>\n",
       "<style scoped>\n",
       "    .dataframe tbody tr th:only-of-type {\n",
       "        vertical-align: middle;\n",
       "    }\n",
       "\n",
       "    .dataframe tbody tr th {\n",
       "        vertical-align: top;\n",
       "    }\n",
       "\n",
       "    .dataframe thead th {\n",
       "        text-align: right;\n",
       "    }\n",
       "</style>\n",
       "<table border=\"1\" class=\"dataframe\">\n",
       "  <thead>\n",
       "    <tr style=\"text-align: right;\">\n",
       "      <th></th>\n",
       "      <th>Hypothesis</th>\n",
       "      <th>Reach</th>\n",
       "      <th>Impact</th>\n",
       "      <th>Confidence</th>\n",
       "      <th>Efforts</th>\n",
       "      <th>ICE</th>\n",
       "      <th>RICE</th>\n",
       "    </tr>\n",
       "  </thead>\n",
       "  <tbody>\n",
       "    <tr>\n",
       "      <th>0</th>\n",
       "      <td>Добавить два новых канала привлечения трафика, что позволит привлекать на 30% больше пользователей</td>\n",
       "      <td>3</td>\n",
       "      <td>10</td>\n",
       "      <td>8</td>\n",
       "      <td>6</td>\n",
       "      <td>13.333333</td>\n",
       "      <td>40.0</td>\n",
       "    </tr>\n",
       "    <tr>\n",
       "      <th>1</th>\n",
       "      <td>Запустить собственную службу доставки, что сократит срок доставки заказов</td>\n",
       "      <td>2</td>\n",
       "      <td>5</td>\n",
       "      <td>4</td>\n",
       "      <td>10</td>\n",
       "      <td>2.000000</td>\n",
       "      <td>4.0</td>\n",
       "    </tr>\n",
       "    <tr>\n",
       "      <th>2</th>\n",
       "      <td>Добавить блоки рекомендаций товаров на сайт интернет магазина, чтобы повысить конверсию и средний чек заказа</td>\n",
       "      <td>8</td>\n",
       "      <td>3</td>\n",
       "      <td>7</td>\n",
       "      <td>3</td>\n",
       "      <td>7.000000</td>\n",
       "      <td>56.0</td>\n",
       "    </tr>\n",
       "    <tr>\n",
       "      <th>3</th>\n",
       "      <td>Изменить структура категорий, что увеличит конверсию, т.к. пользователи быстрее найдут нужный товар</td>\n",
       "      <td>8</td>\n",
       "      <td>3</td>\n",
       "      <td>3</td>\n",
       "      <td>8</td>\n",
       "      <td>1.125000</td>\n",
       "      <td>9.0</td>\n",
       "    </tr>\n",
       "    <tr>\n",
       "      <th>4</th>\n",
       "      <td>Изменить цвет фона главной страницы, чтобы увеличить вовлеченность пользователей</td>\n",
       "      <td>3</td>\n",
       "      <td>1</td>\n",
       "      <td>1</td>\n",
       "      <td>1</td>\n",
       "      <td>1.000000</td>\n",
       "      <td>3.0</td>\n",
       "    </tr>\n",
       "    <tr>\n",
       "      <th>5</th>\n",
       "      <td>Добавить страницу отзывов клиентов о магазине, что позволит увеличить количество заказов</td>\n",
       "      <td>3</td>\n",
       "      <td>2</td>\n",
       "      <td>2</td>\n",
       "      <td>3</td>\n",
       "      <td>1.333333</td>\n",
       "      <td>4.0</td>\n",
       "    </tr>\n",
       "    <tr>\n",
       "      <th>6</th>\n",
       "      <td>Показать на главной странице баннеры с актуальными акциями и распродажами, чтобы увеличить конверсию</td>\n",
       "      <td>5</td>\n",
       "      <td>3</td>\n",
       "      <td>8</td>\n",
       "      <td>3</td>\n",
       "      <td>8.000000</td>\n",
       "      <td>40.0</td>\n",
       "    </tr>\n",
       "    <tr>\n",
       "      <th>7</th>\n",
       "      <td>Добавить форму подписки на все основные страницы, чтобы собрать базу клиентов для email-рассылок</td>\n",
       "      <td>10</td>\n",
       "      <td>7</td>\n",
       "      <td>8</td>\n",
       "      <td>5</td>\n",
       "      <td>11.200000</td>\n",
       "      <td>112.0</td>\n",
       "    </tr>\n",
       "    <tr>\n",
       "      <th>8</th>\n",
       "      <td>Запустить акцию, дающую скидку на товар в день рождения</td>\n",
       "      <td>1</td>\n",
       "      <td>9</td>\n",
       "      <td>9</td>\n",
       "      <td>5</td>\n",
       "      <td>16.200000</td>\n",
       "      <td>16.2</td>\n",
       "    </tr>\n",
       "  </tbody>\n",
       "</table>\n",
       "</div>"
      ],
      "text/plain": [
       "                                                                                                     Hypothesis  \\\n",
       "0  Добавить два новых канала привлечения трафика, что позволит привлекать на 30% больше пользователей             \n",
       "1  Запустить собственную службу доставки, что сократит срок доставки заказов                                      \n",
       "2  Добавить блоки рекомендаций товаров на сайт интернет магазина, чтобы повысить конверсию и средний чек заказа   \n",
       "3  Изменить структура категорий, что увеличит конверсию, т.к. пользователи быстрее найдут нужный товар            \n",
       "4  Изменить цвет фона главной страницы, чтобы увеличить вовлеченность пользователей                               \n",
       "5  Добавить страницу отзывов клиентов о магазине, что позволит увеличить количество заказов                       \n",
       "6  Показать на главной странице баннеры с актуальными акциями и распродажами, чтобы увеличить конверсию           \n",
       "7  Добавить форму подписки на все основные страницы, чтобы собрать базу клиентов для email-рассылок               \n",
       "8  Запустить акцию, дающую скидку на товар в день рождения                                                        \n",
       "\n",
       "   Reach  Impact  Confidence  Efforts        ICE   RICE  \n",
       "0  3      10      8           6        13.333333  40.0   \n",
       "1  2      5       4           10       2.000000   4.0    \n",
       "2  8      3       7           3        7.000000   56.0   \n",
       "3  8      3       3           8        1.125000   9.0    \n",
       "4  3      1       1           1        1.000000   3.0    \n",
       "5  3      2       2           3        1.333333   4.0    \n",
       "6  5      3       8           3        8.000000   40.0   \n",
       "7  10     7       8           5        11.200000  112.0  \n",
       "8  1      9       9           5        16.200000  16.2   "
      ]
     },
     "execution_count": 3,
     "metadata": {},
     "output_type": "execute_result"
    }
   ],
   "source": [
    "# Применим фреймворк ICE и RICE для приоритизации гипотез, добавим столбцы\n",
    "hypothesis['ICE'] = hypothesis['Impact'] * hypothesis['Confidence'] / hypothesis['Efforts']\n",
    "hypothesis['RICE'] = hypothesis['Reach'] * hypothesis['Impact'] * hypothesis['Confidence'] / hypothesis['Efforts']\n",
    "hypothesis"
   ]
  },
  {
   "cell_type": "code",
   "execution_count": 4,
   "metadata": {},
   "outputs": [
    {
     "data": {
      "text/html": [
       "<div>\n",
       "<style scoped>\n",
       "    .dataframe tbody tr th:only-of-type {\n",
       "        vertical-align: middle;\n",
       "    }\n",
       "\n",
       "    .dataframe tbody tr th {\n",
       "        vertical-align: top;\n",
       "    }\n",
       "\n",
       "    .dataframe thead th {\n",
       "        text-align: right;\n",
       "    }\n",
       "</style>\n",
       "<table border=\"1\" class=\"dataframe\">\n",
       "  <thead>\n",
       "    <tr style=\"text-align: right;\">\n",
       "      <th></th>\n",
       "      <th>Hypothesis</th>\n",
       "      <th>ICE</th>\n",
       "    </tr>\n",
       "  </thead>\n",
       "  <tbody>\n",
       "    <tr>\n",
       "      <th>8</th>\n",
       "      <td>Запустить акцию, дающую скидку на товар в день рождения</td>\n",
       "      <td>16.20</td>\n",
       "    </tr>\n",
       "    <tr>\n",
       "      <th>0</th>\n",
       "      <td>Добавить два новых канала привлечения трафика, что позволит привлекать на 30% больше пользователей</td>\n",
       "      <td>13.33</td>\n",
       "    </tr>\n",
       "    <tr>\n",
       "      <th>7</th>\n",
       "      <td>Добавить форму подписки на все основные страницы, чтобы собрать базу клиентов для email-рассылок</td>\n",
       "      <td>11.20</td>\n",
       "    </tr>\n",
       "    <tr>\n",
       "      <th>6</th>\n",
       "      <td>Показать на главной странице баннеры с актуальными акциями и распродажами, чтобы увеличить конверсию</td>\n",
       "      <td>8.00</td>\n",
       "    </tr>\n",
       "    <tr>\n",
       "      <th>2</th>\n",
       "      <td>Добавить блоки рекомендаций товаров на сайт интернет магазина, чтобы повысить конверсию и средний чек заказа</td>\n",
       "      <td>7.00</td>\n",
       "    </tr>\n",
       "    <tr>\n",
       "      <th>1</th>\n",
       "      <td>Запустить собственную службу доставки, что сократит срок доставки заказов</td>\n",
       "      <td>2.00</td>\n",
       "    </tr>\n",
       "    <tr>\n",
       "      <th>5</th>\n",
       "      <td>Добавить страницу отзывов клиентов о магазине, что позволит увеличить количество заказов</td>\n",
       "      <td>1.33</td>\n",
       "    </tr>\n",
       "    <tr>\n",
       "      <th>3</th>\n",
       "      <td>Изменить структура категорий, что увеличит конверсию, т.к. пользователи быстрее найдут нужный товар</td>\n",
       "      <td>1.12</td>\n",
       "    </tr>\n",
       "    <tr>\n",
       "      <th>4</th>\n",
       "      <td>Изменить цвет фона главной страницы, чтобы увеличить вовлеченность пользователей</td>\n",
       "      <td>1.00</td>\n",
       "    </tr>\n",
       "  </tbody>\n",
       "</table>\n",
       "</div>"
      ],
      "text/plain": [
       "                                                                                                     Hypothesis  \\\n",
       "8  Запустить акцию, дающую скидку на товар в день рождения                                                        \n",
       "0  Добавить два новых канала привлечения трафика, что позволит привлекать на 30% больше пользователей             \n",
       "7  Добавить форму подписки на все основные страницы, чтобы собрать базу клиентов для email-рассылок               \n",
       "6  Показать на главной странице баннеры с актуальными акциями и распродажами, чтобы увеличить конверсию           \n",
       "2  Добавить блоки рекомендаций товаров на сайт интернет магазина, чтобы повысить конверсию и средний чек заказа   \n",
       "1  Запустить собственную службу доставки, что сократит срок доставки заказов                                      \n",
       "5  Добавить страницу отзывов клиентов о магазине, что позволит увеличить количество заказов                       \n",
       "3  Изменить структура категорий, что увеличит конверсию, т.к. пользователи быстрее найдут нужный товар            \n",
       "4  Изменить цвет фона главной страницы, чтобы увеличить вовлеченность пользователей                               \n",
       "\n",
       "     ICE  \n",
       "8  16.20  \n",
       "0  13.33  \n",
       "7  11.20  \n",
       "6  8.00   \n",
       "2  7.00   \n",
       "1  2.00   \n",
       "5  1.33   \n",
       "3  1.12   \n",
       "4  1.00   "
      ]
     },
     "execution_count": 4,
     "metadata": {},
     "output_type": "execute_result"
    }
   ],
   "source": [
    "# Отсортируем по убыванию приоритета и посмотрим на результаты ICE\n",
    "hypothesis_ICE = hypothesis[['Hypothesis', 'ICE']].sort_values(by='ICE', ascending=False).round(2)\n",
    "hypothesis_ICE"
   ]
  },
  {
   "cell_type": "code",
   "execution_count": 5,
   "metadata": {},
   "outputs": [
    {
     "data": {
      "text/html": [
       "<div>\n",
       "<style scoped>\n",
       "    .dataframe tbody tr th:only-of-type {\n",
       "        vertical-align: middle;\n",
       "    }\n",
       "\n",
       "    .dataframe tbody tr th {\n",
       "        vertical-align: top;\n",
       "    }\n",
       "\n",
       "    .dataframe thead th {\n",
       "        text-align: right;\n",
       "    }\n",
       "</style>\n",
       "<table border=\"1\" class=\"dataframe\">\n",
       "  <thead>\n",
       "    <tr style=\"text-align: right;\">\n",
       "      <th></th>\n",
       "      <th>Hypothesis</th>\n",
       "      <th>RICE</th>\n",
       "    </tr>\n",
       "  </thead>\n",
       "  <tbody>\n",
       "    <tr>\n",
       "      <th>7</th>\n",
       "      <td>Добавить форму подписки на все основные страницы, чтобы собрать базу клиентов для email-рассылок</td>\n",
       "      <td>112.0</td>\n",
       "    </tr>\n",
       "    <tr>\n",
       "      <th>2</th>\n",
       "      <td>Добавить блоки рекомендаций товаров на сайт интернет магазина, чтобы повысить конверсию и средний чек заказа</td>\n",
       "      <td>56.0</td>\n",
       "    </tr>\n",
       "    <tr>\n",
       "      <th>0</th>\n",
       "      <td>Добавить два новых канала привлечения трафика, что позволит привлекать на 30% больше пользователей</td>\n",
       "      <td>40.0</td>\n",
       "    </tr>\n",
       "    <tr>\n",
       "      <th>6</th>\n",
       "      <td>Показать на главной странице баннеры с актуальными акциями и распродажами, чтобы увеличить конверсию</td>\n",
       "      <td>40.0</td>\n",
       "    </tr>\n",
       "    <tr>\n",
       "      <th>8</th>\n",
       "      <td>Запустить акцию, дающую скидку на товар в день рождения</td>\n",
       "      <td>16.2</td>\n",
       "    </tr>\n",
       "    <tr>\n",
       "      <th>3</th>\n",
       "      <td>Изменить структура категорий, что увеличит конверсию, т.к. пользователи быстрее найдут нужный товар</td>\n",
       "      <td>9.0</td>\n",
       "    </tr>\n",
       "    <tr>\n",
       "      <th>1</th>\n",
       "      <td>Запустить собственную службу доставки, что сократит срок доставки заказов</td>\n",
       "      <td>4.0</td>\n",
       "    </tr>\n",
       "    <tr>\n",
       "      <th>5</th>\n",
       "      <td>Добавить страницу отзывов клиентов о магазине, что позволит увеличить количество заказов</td>\n",
       "      <td>4.0</td>\n",
       "    </tr>\n",
       "    <tr>\n",
       "      <th>4</th>\n",
       "      <td>Изменить цвет фона главной страницы, чтобы увеличить вовлеченность пользователей</td>\n",
       "      <td>3.0</td>\n",
       "    </tr>\n",
       "  </tbody>\n",
       "</table>\n",
       "</div>"
      ],
      "text/plain": [
       "                                                                                                     Hypothesis  \\\n",
       "7  Добавить форму подписки на все основные страницы, чтобы собрать базу клиентов для email-рассылок               \n",
       "2  Добавить блоки рекомендаций товаров на сайт интернет магазина, чтобы повысить конверсию и средний чек заказа   \n",
       "0  Добавить два новых канала привлечения трафика, что позволит привлекать на 30% больше пользователей             \n",
       "6  Показать на главной странице баннеры с актуальными акциями и распродажами, чтобы увеличить конверсию           \n",
       "8  Запустить акцию, дающую скидку на товар в день рождения                                                        \n",
       "3  Изменить структура категорий, что увеличит конверсию, т.к. пользователи быстрее найдут нужный товар            \n",
       "1  Запустить собственную службу доставки, что сократит срок доставки заказов                                      \n",
       "5  Добавить страницу отзывов клиентов о магазине, что позволит увеличить количество заказов                       \n",
       "4  Изменить цвет фона главной страницы, чтобы увеличить вовлеченность пользователей                               \n",
       "\n",
       "    RICE  \n",
       "7  112.0  \n",
       "2  56.0   \n",
       "0  40.0   \n",
       "6  40.0   \n",
       "8  16.2   \n",
       "3  9.0    \n",
       "1  4.0    \n",
       "5  4.0    \n",
       "4  3.0    "
      ]
     },
     "execution_count": 5,
     "metadata": {},
     "output_type": "execute_result"
    }
   ],
   "source": [
    "# Отсортируем по убыванию приоритета и посмотрим на результаты RICE \n",
    "hypothesis_RICE = hypothesis[['Hypothesis', 'RICE']].sort_values(by='RICE', ascending=False).round(2)\n",
    "hypothesis_RICE"
   ]
  },
  {
   "cell_type": "markdown",
   "metadata": {},
   "source": [
    "<a id='hip'></a>"
   ]
  },
  {
   "cell_type": "markdown",
   "metadata": {},
   "source": [
    "**Выводы:**\n",
    "\n",
    "Применив фреймворк ICE, можно выделить следующую тройку лидеров гипотез\n",
    "- 8. Запустить акцию, дающую скидку на товар в день рождения\n",
    "- 0. Добавить два новых канала привлечения трафика, что позволит привлекать на 30% больше пользователей\n",
    "- 7. Добавить форму подписки на все основные страницы, чтобы собрать базу клиентов для email-рассылок\n",
    "\n",
    "тройка лидеров с применением фреймворка RICE отличается:\n",
    "- 7. Добавить форму подписки на все основные страницы, чтобы собрать базу клиентов для email-рассылок\n",
    "- 2. Добавить блоки рекомендаций товаров на сайт интернет магазина, чтобы повысить конверсию и средний чек заказа\n",
    "- 0. Добавить два новых канала привлечения трафика, что позволит привлекать на 30% больше пользователей\n",
    "\n",
    "Списки лидеров отличаются и лидер ICE - гипотеза 8 - сильно устапает в фреймворке RICE. Аналогично в обратную сторону с гипотезой 2. Это объясняется тем, что в случае фреймворка ICE в отличие от RICE мы не учитывали охват изменений. Это важный критерий оценки гипотез.\n",
    "Две гипотезы - 7 и 0 встречаются в обоих списках-лидерах. Стоит обратить на них внимание, как наиболее приоритетные гипотезы."
   ]
  },
  {
   "cell_type": "markdown",
   "metadata": {},
   "source": [
    "## Часть 2.  Анализ A/B-теста"
   ]
  },
  {
   "cell_type": "markdown",
   "metadata": {},
   "source": [
    "После проведения A/B теста, получили результаты, которые описаны в файлах /datasets/orders.csv и /datasets/visitors.csv.\n",
    "_________"
   ]
  },
  {
   "cell_type": "code",
   "execution_count": 6,
   "metadata": {},
   "outputs": [
    {
     "data": {
      "text/html": [
       "<div>\n",
       "<style scoped>\n",
       "    .dataframe tbody tr th:only-of-type {\n",
       "        vertical-align: middle;\n",
       "    }\n",
       "\n",
       "    .dataframe tbody tr th {\n",
       "        vertical-align: top;\n",
       "    }\n",
       "\n",
       "    .dataframe thead th {\n",
       "        text-align: right;\n",
       "    }\n",
       "</style>\n",
       "<table border=\"1\" class=\"dataframe\">\n",
       "  <thead>\n",
       "    <tr style=\"text-align: right;\">\n",
       "      <th></th>\n",
       "      <th>transactionId</th>\n",
       "      <th>visitorId</th>\n",
       "      <th>date</th>\n",
       "      <th>revenue</th>\n",
       "      <th>group</th>\n",
       "    </tr>\n",
       "  </thead>\n",
       "  <tbody>\n",
       "    <tr>\n",
       "      <th>0</th>\n",
       "      <td>3667963787</td>\n",
       "      <td>3312258926</td>\n",
       "      <td>2019-08-15</td>\n",
       "      <td>1650</td>\n",
       "      <td>B</td>\n",
       "    </tr>\n",
       "    <tr>\n",
       "      <th>1</th>\n",
       "      <td>2804400009</td>\n",
       "      <td>3642806036</td>\n",
       "      <td>2019-08-15</td>\n",
       "      <td>730</td>\n",
       "      <td>B</td>\n",
       "    </tr>\n",
       "    <tr>\n",
       "      <th>2</th>\n",
       "      <td>2961555356</td>\n",
       "      <td>4069496402</td>\n",
       "      <td>2019-08-15</td>\n",
       "      <td>400</td>\n",
       "      <td>A</td>\n",
       "    </tr>\n",
       "    <tr>\n",
       "      <th>3</th>\n",
       "      <td>3797467345</td>\n",
       "      <td>1196621759</td>\n",
       "      <td>2019-08-15</td>\n",
       "      <td>9759</td>\n",
       "      <td>B</td>\n",
       "    </tr>\n",
       "    <tr>\n",
       "      <th>4</th>\n",
       "      <td>2282983706</td>\n",
       "      <td>2322279887</td>\n",
       "      <td>2019-08-15</td>\n",
       "      <td>2308</td>\n",
       "      <td>B</td>\n",
       "    </tr>\n",
       "  </tbody>\n",
       "</table>\n",
       "</div>"
      ],
      "text/plain": [
       "   transactionId   visitorId        date  revenue group\n",
       "0  3667963787     3312258926  2019-08-15  1650     B   \n",
       "1  2804400009     3642806036  2019-08-15  730      B   \n",
       "2  2961555356     4069496402  2019-08-15  400      A   \n",
       "3  3797467345     1196621759  2019-08-15  9759     B   \n",
       "4  2282983706     2322279887  2019-08-15  2308     B   "
      ]
     },
     "execution_count": 6,
     "metadata": {},
     "output_type": "execute_result"
    }
   ],
   "source": [
    "orders = pd.read_csv('/datasets/orders.csv') # чтение файла\n",
    "orders.head() # обзор данных"
   ]
  },
  {
   "cell_type": "code",
   "execution_count": 7,
   "metadata": {},
   "outputs": [
    {
     "name": "stdout",
     "output_type": "stream",
     "text": [
      "<class 'pandas.core.frame.DataFrame'>\n",
      "RangeIndex: 1197 entries, 0 to 1196\n",
      "Data columns (total 5 columns):\n",
      " #   Column         Non-Null Count  Dtype \n",
      "---  ------         --------------  ----- \n",
      " 0   transactionId  1197 non-null   int64 \n",
      " 1   visitorId      1197 non-null   int64 \n",
      " 2   date           1197 non-null   object\n",
      " 3   revenue        1197 non-null   int64 \n",
      " 4   group          1197 non-null   object\n",
      "dtypes: int64(3), object(2)\n",
      "memory usage: 46.9+ KB\n",
      "None\n",
      "\n",
      "\n",
      "0\n"
     ]
    }
   ],
   "source": [
    "# Изучение общей информации. Проверка на наличие дубликатов. Таблица orders\n",
    "print(orders.info())\n",
    "print()\n",
    "print()\n",
    "print(orders.duplicated().sum())"
   ]
  },
  {
   "cell_type": "code",
   "execution_count": 8,
   "metadata": {},
   "outputs": [
    {
     "data": {
      "text/html": [
       "<div>\n",
       "<style scoped>\n",
       "    .dataframe tbody tr th:only-of-type {\n",
       "        vertical-align: middle;\n",
       "    }\n",
       "\n",
       "    .dataframe tbody tr th {\n",
       "        vertical-align: top;\n",
       "    }\n",
       "\n",
       "    .dataframe thead th {\n",
       "        text-align: right;\n",
       "    }\n",
       "</style>\n",
       "<table border=\"1\" class=\"dataframe\">\n",
       "  <thead>\n",
       "    <tr style=\"text-align: right;\">\n",
       "      <th></th>\n",
       "      <th>date</th>\n",
       "      <th>group</th>\n",
       "      <th>visitors</th>\n",
       "    </tr>\n",
       "  </thead>\n",
       "  <tbody>\n",
       "    <tr>\n",
       "      <th>0</th>\n",
       "      <td>2019-08-01</td>\n",
       "      <td>A</td>\n",
       "      <td>719</td>\n",
       "    </tr>\n",
       "    <tr>\n",
       "      <th>1</th>\n",
       "      <td>2019-08-02</td>\n",
       "      <td>A</td>\n",
       "      <td>619</td>\n",
       "    </tr>\n",
       "    <tr>\n",
       "      <th>2</th>\n",
       "      <td>2019-08-03</td>\n",
       "      <td>A</td>\n",
       "      <td>507</td>\n",
       "    </tr>\n",
       "    <tr>\n",
       "      <th>3</th>\n",
       "      <td>2019-08-04</td>\n",
       "      <td>A</td>\n",
       "      <td>717</td>\n",
       "    </tr>\n",
       "    <tr>\n",
       "      <th>4</th>\n",
       "      <td>2019-08-05</td>\n",
       "      <td>A</td>\n",
       "      <td>756</td>\n",
       "    </tr>\n",
       "  </tbody>\n",
       "</table>\n",
       "</div>"
      ],
      "text/plain": [
       "         date group  visitors\n",
       "0  2019-08-01  A     719     \n",
       "1  2019-08-02  A     619     \n",
       "2  2019-08-03  A     507     \n",
       "3  2019-08-04  A     717     \n",
       "4  2019-08-05  A     756     "
      ]
     },
     "execution_count": 8,
     "metadata": {},
     "output_type": "execute_result"
    }
   ],
   "source": [
    "visitors = pd.read_csv('/datasets/visitors.csv') # чтение файла\n",
    "visitors.head() # обзор данных"
   ]
  },
  {
   "cell_type": "code",
   "execution_count": 9,
   "metadata": {},
   "outputs": [
    {
     "name": "stdout",
     "output_type": "stream",
     "text": [
      "<class 'pandas.core.frame.DataFrame'>\n",
      "RangeIndex: 62 entries, 0 to 61\n",
      "Data columns (total 3 columns):\n",
      " #   Column    Non-Null Count  Dtype \n",
      "---  ------    --------------  ----- \n",
      " 0   date      62 non-null     object\n",
      " 1   group     62 non-null     object\n",
      " 2   visitors  62 non-null     int64 \n",
      "dtypes: int64(1), object(2)\n",
      "memory usage: 1.6+ KB\n",
      "None\n",
      "\n",
      "\n",
      "0\n",
      "\n",
      "\n",
      "         visitors\n",
      "count  62.000000 \n",
      "mean   607.290323\n",
      "std    114.400560\n",
      "min    361.000000\n",
      "25%    534.000000\n",
      "50%    624.500000\n",
      "75%    710.500000\n",
      "max    770.000000\n"
     ]
    }
   ],
   "source": [
    "# Проверим данные таблицы visitors на аномалии, выбросы, дубликаты\n",
    "print(visitors.info())\n",
    "print()\n",
    "print()\n",
    "print(visitors.duplicated().sum())\n",
    "print()\n",
    "print()\n",
    "print(visitors.describe())"
   ]
  },
  {
   "cell_type": "markdown",
   "metadata": {},
   "source": [
    "**Выводы:**\n",
    "\n",
    "В таблицах пропущенных значений нет. Дубликатов нет. Столбцы, где указано время необходимо переформатировать."
   ]
  },
  {
   "cell_type": "code",
   "execution_count": 10,
   "metadata": {},
   "outputs": [],
   "source": [
    "# Приведем столбцы с датами к формату дат\n",
    "orders['date'] = orders['date'].map(\n",
    "    lambda x: dt.datetime.strptime(x, '%Y-%m-%d')\n",
    ")\n",
    "\n",
    "visitors['date'] = visitors['date'].map(\n",
    "    lambda x: dt.datetime.strptime(x, '%Y-%m-%d')\n",
    ")"
   ]
  },
  {
   "cell_type": "code",
   "execution_count": 11,
   "metadata": {},
   "outputs": [
    {
     "name": "stdout",
     "output_type": "stream",
     "text": [
      "<class 'pandas.core.frame.DataFrame'>\n",
      "RangeIndex: 62 entries, 0 to 61\n",
      "Data columns (total 3 columns):\n",
      " #   Column    Non-Null Count  Dtype         \n",
      "---  ------    --------------  -----         \n",
      " 0   date      62 non-null     datetime64[ns]\n",
      " 1   group     62 non-null     object        \n",
      " 2   visitors  62 non-null     int64         \n",
      "dtypes: datetime64[ns](1), int64(1), object(1)\n",
      "memory usage: 1.6+ KB\n",
      "None\n",
      "\n",
      "\n",
      "<class 'pandas.core.frame.DataFrame'>\n",
      "RangeIndex: 1197 entries, 0 to 1196\n",
      "Data columns (total 5 columns):\n",
      " #   Column         Non-Null Count  Dtype         \n",
      "---  ------         --------------  -----         \n",
      " 0   transactionId  1197 non-null   int64         \n",
      " 1   visitorId      1197 non-null   int64         \n",
      " 2   date           1197 non-null   datetime64[ns]\n",
      " 3   revenue        1197 non-null   int64         \n",
      " 4   group          1197 non-null   object        \n",
      "dtypes: datetime64[ns](1), int64(3), object(1)\n",
      "memory usage: 46.9+ KB\n",
      "None\n"
     ]
    }
   ],
   "source": [
    "# проверим работу метода\n",
    "print(visitors.info())\n",
    "print()\n",
    "print()\n",
    "print(orders.info())"
   ]
  },
  {
   "cell_type": "code",
   "execution_count": 12,
   "metadata": {},
   "outputs": [
    {
     "name": "stdout",
     "output_type": "stream",
     "text": [
      "2019-08-01 00:00:00\n",
      "2019-08-01 00:00:00\n",
      "2019-08-31 00:00:00\n",
      "2019-08-31 00:00:00\n"
     ]
    }
   ],
   "source": [
    "# проверим корректность предоставленных данных относительно времени исследования \n",
    "print(orders['date'].min())\n",
    "print(visitors['date'].min())\n",
    "print(orders['date'].max())\n",
    "print(visitors['date'].max())"
   ]
  },
  {
   "cell_type": "markdown",
   "metadata": {},
   "source": [
    "Мы располагаем данными с 1 августа 2019 года по 31 августа 2019."
   ]
  },
  {
   "cell_type": "markdown",
   "metadata": {},
   "source": [
    "Проверим корректность распределения на группы."
   ]
  },
  {
   "cell_type": "code",
   "execution_count": 13,
   "metadata": {},
   "outputs": [
    {
     "name": "stdout",
     "output_type": "stream",
     "text": [
      "количество заказов в группе A: 557\n",
      "количество заказов в группе В: 640\n",
      "общее число заказо: 1197\n"
     ]
    }
   ],
   "source": [
    "print('количество заказов в группе A:', len(orders[orders['group']=='A']))\n",
    "print('количество заказов в группе В:', len(orders[orders['group']=='B']))\n",
    "print('общее число заказо:', orders['transactionId'].nunique())"
   ]
  },
  {
   "cell_type": "code",
   "execution_count": 14,
   "metadata": {},
   "outputs": [
    {
     "name": "stdout",
     "output_type": "stream",
     "text": [
      "количество посещений в группе А: 18736\n",
      "количество посещений в группе B: 18916\n",
      "\n",
      "общее число посещений: 37652\n"
     ]
    }
   ],
   "source": [
    "print('количество посещений в группе А:', visitors[visitors['group']=='A']['visitors'].sum())\n",
    "print('количество посещений в группе B:', visitors[visitors['group']=='B']['visitors'].sum())\n",
    "print()\n",
    "print('общее число посещений:', visitors['visitors'].sum())"
   ]
  },
  {
   "cell_type": "markdown",
   "metadata": {},
   "source": [
    "все в порядке"
   ]
  },
  {
   "cell_type": "markdown",
   "metadata": {},
   "source": [
    "Проверим, достаточно ли этого числа посещений для корректого A/B теста."
   ]
  },
  {
   "cell_type": "code",
   "execution_count": 15,
   "metadata": {},
   "outputs": [
    {
     "name": "stdout",
     "output_type": "stream",
     "text": [
      "Начальная конверсия: 2.97%\n",
      "Полученная после изменений конверсия: 3.38%\n",
      "Относительное изменение конверсии после изменений: 12.13%\n"
     ]
    }
   ],
   "source": [
    "initial_conversion = len(orders[orders['group']=='A']) / visitors[visitors['group']=='A']['visitors'].sum() \n",
    "result_conversion = len(orders[orders['group']=='B']) / visitors[visitors['group']=='B']['visitors'].sum()\n",
    "print('Начальная конверсия: {:.2%}'.format(initial_conversion))\n",
    "print('Полученная после изменений конверсия: {:.2%}'.format(result_conversion))\n",
    "print('Относительное изменение конверсии после изменений: {:.2%}'.format(1-(initial_conversion/result_conversion)))"
   ]
  },
  {
   "cell_type": "markdown",
   "metadata": {},
   "source": [
    "На сайте онлайн-калькулятора https://www.evanmiller.org/ab-testing/sample-size.html введем наши данные:\n",
    "- Baseline conversion rate: 3%\n",
    "- Minimum Detectable Effect: 12% (relative)\n",
    "- Significance level α: 5%\n",
    "- Statistical power 1−β: 80%\n",
    "\n",
    " **= Sample size: 35,855 per variation**"
   ]
  },
  {
   "cell_type": "markdown",
   "metadata": {},
   "source": [
    "**Вывод:**\n",
    "\n",
    "С помощью калькулятора я установила: рекомендованный размер выборки 35 тысяч посещений на одну группу.\n",
    "В нашем датасете данных недостаточно: общее число посещений: 37652"
   ]
  },
  {
   "cell_type": "markdown",
   "metadata": {},
   "source": [
    "Посчитаем необходимую продолжительнотсь A/B теста. Зададим наши параметры в онлайн-калькулятор\n",
    "\n",
    "https://vwo.com/tools/ab-test-duration-calculator/"
   ]
  },
  {
   "cell_type": "code",
   "execution_count": 16,
   "metadata": {},
   "outputs": [
    {
     "name": "stdout",
     "output_type": "stream",
     "text": [
      "среднее количество посещений в день в группе А: 604\n",
      "среднее количество посещений в день в группе В: 610\n",
      "среднее количество посещений в день: 607\n"
     ]
    }
   ],
   "source": [
    "daily_a = visitors[visitors['group'] == 'A'][['date', 'visitors']]\n",
    "daily_b = visitors[visitors['group'] == 'B'][['date', 'visitors']]\n",
    "print('среднее количество посещений в день в группе А:', round(daily_a['visitors'].mean()))\n",
    "print('среднее количество посещений в день в группе В:', round(daily_b['visitors'].mean()))\n",
    "print('среднее количество посещений в день:', round(visitors['visitors'].mean()))"
   ]
  },
  {
   "cell_type": "markdown",
   "metadata": {},
   "source": [
    "- Estimated existing conversion rate (%) 3%\n",
    "- Minimum improvement in conversion rate you want to detect (%) 12%\n",
    "- Number of variations/combinations (including control) 2\n",
    "- Average number of daily visitors 607\n",
    "- Percent visitors included in test 100%\n",
    "    - **Total number of days to run the test: 118 days**"
   ]
  },
  {
   "cell_type": "markdown",
   "metadata": {},
   "source": [
    "**Вывод:**\n",
    "\n",
    "Тест проходил 31 день, но для каждой группы считался отдельный день. 62 на две группы. Рекомендованное количество дней для такого теста 118"
   ]
  },
  {
   "cell_type": "code",
   "execution_count": 17,
   "metadata": {},
   "outputs": [],
   "source": [
    "group_a = orders[orders['group']=='A']\n",
    "group_b = orders[orders['group']=='B']"
   ]
  },
  {
   "cell_type": "code",
   "execution_count": 18,
   "metadata": {},
   "outputs": [
    {
     "name": "stdout",
     "output_type": "stream",
     "text": [
      "количество уникальных пользователей в группе A 503\n",
      "количество уникальных пользователей в группе В 586\n",
      "количество уникальных пользователей всего 1031\n"
     ]
    }
   ],
   "source": [
    "print('количество уникальных пользователей в группе A', group_a['visitorId'].nunique())\n",
    "print('количество уникальных пользователей в группе В', len(group_b['visitorId'].unique()))\n",
    "print('количество уникальных пользователей всего', orders['visitorId'].nunique())"
   ]
  },
  {
   "cell_type": "markdown",
   "metadata": {},
   "source": [
    "сумма уникальных пользователей в двух группах не сходится с общим числом уникальных пользователей. Возможно один и тот же пользователь попал в обе группы тестирования. Проверим это гипотезу"
   ]
  },
  {
   "cell_type": "code",
   "execution_count": 19,
   "metadata": {},
   "outputs": [
    {
     "data": {
      "text/plain": [
       "58"
      ]
     },
     "execution_count": 19,
     "metadata": {},
     "output_type": "execute_result"
    }
   ],
   "source": [
    "# создадим переменную, в которой будут хранится данные о пользователях, попавших в обе группы\n",
    "ab_visitors = orders.loc[orders[\"visitorId\"].isin(group_a['visitorId'])& orders['visitorId'].isin(group_b['visitorId'])]\n",
    "ab_visitors['visitorId'].nunique() # выведем число этих пользователей"
   ]
  },
  {
   "cell_type": "markdown",
   "metadata": {},
   "source": [
    "Действительно, 58 человек попали в обе группы"
   ]
  },
  {
   "cell_type": "markdown",
   "metadata": {},
   "source": [
    "Принимаю решение не удалять этих пользователей так как в данном исследовании я провожу веб-аналитику, а не событийную. Мне важно учесть именно сессии, а не идентифицировать каждого пользователя отдельно."
   ]
  },
  {
   "cell_type": "markdown",
   "metadata": {},
   "source": [
    "**Вывод:**\n",
    "\n",
    "На этапе предобработки данных я  \n",
    "- установила, что в данных нет дубликатов и пропусков\n",
    "- привела столбцы с датой к нужному формату дат\n",
    "- обнаружила пользователей, которые попали в обе группы. Приняла решение их не удалять\n",
    "______________\n",
    "    \n",
    "Если расчеты верны, то время и размер выборки не соответствуют требованиям. Чтобы исключить проблему подглядывания необходимо остановить анализ.\n",
    "_________________________\n",
    "    \n",
    "                                                но мы продолжаем :)    "
   ]
  },
  {
   "cell_type": "markdown",
   "metadata": {},
   "source": [
    "Приступим к анализу А/B теста"
   ]
  },
  {
   "cell_type": "markdown",
   "metadata": {},
   "source": [
    "### График кумулятивной выручки по группам"
   ]
  },
  {
   "cell_type": "markdown",
   "metadata": {},
   "source": [
    "Подготовим данные"
   ]
  },
  {
   "cell_type": "code",
   "execution_count": 20,
   "metadata": {},
   "outputs": [
    {
     "data": {
      "text/html": [
       "<div>\n",
       "<style scoped>\n",
       "    .dataframe tbody tr th:only-of-type {\n",
       "        vertical-align: middle;\n",
       "    }\n",
       "\n",
       "    .dataframe tbody tr th {\n",
       "        vertical-align: top;\n",
       "    }\n",
       "\n",
       "    .dataframe thead th {\n",
       "        text-align: right;\n",
       "    }\n",
       "</style>\n",
       "<table border=\"1\" class=\"dataframe\">\n",
       "  <thead>\n",
       "    <tr style=\"text-align: right;\">\n",
       "      <th></th>\n",
       "      <th>date</th>\n",
       "      <th>group</th>\n",
       "    </tr>\n",
       "  </thead>\n",
       "  <tbody>\n",
       "    <tr>\n",
       "      <th>0</th>\n",
       "      <td>2019-08-15</td>\n",
       "      <td>B</td>\n",
       "    </tr>\n",
       "    <tr>\n",
       "      <th>2</th>\n",
       "      <td>2019-08-15</td>\n",
       "      <td>A</td>\n",
       "    </tr>\n",
       "    <tr>\n",
       "      <th>45</th>\n",
       "      <td>2019-08-16</td>\n",
       "      <td>A</td>\n",
       "    </tr>\n",
       "    <tr>\n",
       "      <th>47</th>\n",
       "      <td>2019-08-16</td>\n",
       "      <td>B</td>\n",
       "    </tr>\n",
       "    <tr>\n",
       "      <th>55</th>\n",
       "      <td>2019-08-01</td>\n",
       "      <td>A</td>\n",
       "    </tr>\n",
       "  </tbody>\n",
       "</table>\n",
       "</div>"
      ],
      "text/plain": [
       "         date group\n",
       "0  2019-08-15  B   \n",
       "2  2019-08-15  A   \n",
       "45 2019-08-16  A   \n",
       "47 2019-08-16  B   \n",
       "55 2019-08-01  A   "
      ]
     },
     "execution_count": 20,
     "metadata": {},
     "output_type": "execute_result"
    }
   ],
   "source": [
    "# создаем массив уникальных пар значений дат и групп теста\n",
    "datesGroups = orders[['date','group']].drop_duplicates()\n",
    "datesGroups.head()"
   ]
  },
  {
   "cell_type": "markdown",
   "metadata": {},
   "source": [
    "Соберём агрегированные кумулятивные по дням данные о заказах"
   ]
  },
  {
   "cell_type": "code",
   "execution_count": 21,
   "metadata": {},
   "outputs": [],
   "source": [
    "# Вычислим максимальную дату.\n",
    "# чтобы столбец 'group' не пропал из итогового вывода, расчитаем для него максимум\n",
    "# Найдём число уникальных ID заказов и пользователей \n",
    "# Подсчитаем сумму средних чеков\n",
    "ordersAggregated = datesGroups.apply(lambda x: orders[np.logical_and(orders['date'] <= x['date'], orders['group'] == x['group'])]\\\n",
    ".agg({'date':'max', 'group':'max', 'transactionId':'nunique', 'visitorId':'nunique', 'revenue':'sum'}), axis=1).sort_values(by=['date','group'])"
   ]
  },
  {
   "cell_type": "markdown",
   "metadata": {},
   "source": [
    "получаем агрегированные кумулятивные по дням данные о посетителях интернет-магазина "
   ]
  },
  {
   "cell_type": "code",
   "execution_count": 22,
   "metadata": {},
   "outputs": [],
   "source": [
    "visitorsAggregated = datesGroups.apply(lambda x: visitors[np.logical_and(visitors['date'] <= x['date'], visitors['group'] == x['group'])]\n",
    "                                       .agg({'date' : 'max', 'group' : 'max', 'visitors' : 'sum'}), axis=1).sort_values(by=['date','group'])"
   ]
  },
  {
   "cell_type": "code",
   "execution_count": 23,
   "metadata": {},
   "outputs": [
    {
     "name": "stdout",
     "output_type": "stream",
     "text": [
      "        date group  orders  buyers  revenue  visitors\n",
      "0 2019-08-01  A     24      20      148579   719     \n",
      "1 2019-08-01  B     21      20      101217   713     \n",
      "2 2019-08-02  A     44      38      242401   1338    \n",
      "3 2019-08-02  B     45      43      266748   1294    \n",
      "4 2019-08-03  A     68      62      354874   1845    \n"
     ]
    }
   ],
   "source": [
    "# объединяем кумулятивные данные в одной таблице и присваиваем ее столбцам понятные названия\n",
    "cumulativeData = ordersAggregated.merge(visitorsAggregated, left_on=['date', 'group'], right_on=['date', 'group'])\n",
    "cumulativeData.columns = ['date', 'group', 'orders', 'buyers', 'revenue', 'visitors']\n",
    "\n",
    "print(cumulativeData.head(5))"
   ]
  },
  {
   "cell_type": "code",
   "execution_count": 24,
   "metadata": {},
   "outputs": [],
   "source": [
    "# датафрейм с кумулятивным количеством заказов и кумулятивной выручкой по дням в группе А\n",
    "cumulativeRevenueA = cumulativeData[cumulativeData['group']=='A'][['date','revenue', 'orders']]\n",
    "\n",
    "# датафрейм с кумулятивным количеством заказов и кумулятивной выручкой по дням в группе B\n",
    "cumulativeRevenueB = cumulativeData[cumulativeData['group']=='B'][['date','revenue', 'orders']]"
   ]
  },
  {
   "cell_type": "code",
   "execution_count": 25,
   "metadata": {},
   "outputs": [
    {
     "data": {
      "image/png": "[encoded data removed]",
      "text/plain": [
       "<Figure size 864x360 with 1 Axes>"
      ]
     },
     "metadata": {
      "needs_background": "light"
     },
     "output_type": "display_data"
    }
   ],
   "source": [
    "plt.figure(figsize=(12,5)) # задаем размер графика\n",
    "\n",
    "# Строим график выручки группы А\n",
    "plt.plot(cumulativeRevenueA['date'], cumulativeRevenueA['revenue'], label='A')\n",
    "\n",
    "# Строим график выручки группы B\n",
    "plt.plot(cumulativeRevenueB['date'], cumulativeRevenueB['revenue'], label='B')\n",
    "\n",
    "plt.ylabel('Выручка')\n",
    "plt.xlabel('Дата')\n",
    "plt.title('График кумулятивной выручки по группам')\n",
    "plt.legend()\n",
    "plt.xticks(rotation = 45)\n",
    "plt.grid()\n",
    "plt.show();"
   ]
  },
  {
   "cell_type": "markdown",
   "metadata": {},
   "source": [
    "**Вывод:**\n",
    "\n",
    "- Выручка увеличивается в течение всего теста\n",
    "- Группа В показывает бОльшую выручку на протяжении всего изучаемого периода\n",
    "- График выручки группы В резко растет 18 августа. Вероятно в данных встречаются аномально большие заказы: это может сигнализировать о всплесках числа заказов, либо о появлении очень дорогих заказов в выборке"
   ]
  },
  {
   "cell_type": "markdown",
   "metadata": {},
   "source": [
    "### График кумулятивного среднего чека по группам"
   ]
  },
  {
   "cell_type": "code",
   "execution_count": 26,
   "metadata": {},
   "outputs": [
    {
     "data": {
      "image/png": "[encoded data removed]",
      "text/plain": [
       "<Figure size 864x360 with 1 Axes>"
      ]
     },
     "metadata": {
      "needs_background": "light"
     },
     "output_type": "display_data"
    }
   ],
   "source": [
    "plt.figure(figsize=(12,5)) # задаем размер графика\n",
    "\n",
    "plt.plot(cumulativeRevenueA['date'], cumulativeRevenueA['revenue']/cumulativeRevenueA['orders'], label='A')\n",
    "plt.plot(cumulativeRevenueB['date'], cumulativeRevenueB['revenue']/cumulativeRevenueB['orders'], label='B')\n",
    "\n",
    "plt.ylabel('Средний чек')\n",
    "plt.xlabel('Дата')\n",
    "plt.title('График кумулятивного среднего чека по группам')\n",
    "plt.legend()\n",
    "plt.xticks(rotation = 45)\n",
    "plt.grid()\n",
    "plt.show();"
   ]
  },
  {
   "cell_type": "markdown",
   "metadata": {},
   "source": [
    "<a id='proof'></a>"
   ]
  },
  {
   "cell_type": "markdown",
   "metadata": {},
   "source": [
    "**Вывод:**\n",
    "\n",
    "- Группа В опять показывает стабильно высокие результаты. Скачок 18-19 августа сохраняется\n",
    "- Группе B нужно больше данных, чтобы прийти к реальному среднему чеку и установиться на его уровне\n",
    "- Для группы A ближе к концу теста средний чек становится равномерным"
   ]
  },
  {
   "cell_type": "markdown",
   "metadata": {},
   "source": [
    "### График относительного изменения кумулятивного среднего чека группы B к группе A."
   ]
  },
  {
   "cell_type": "code",
   "execution_count": 27,
   "metadata": {},
   "outputs": [
    {
     "data": {
      "image/png": "[encoded data removed]",
      "text/plain": [
       "<Figure size 792x360 with 1 Axes>"
      ]
     },
     "metadata": {
      "needs_background": "light"
     },
     "output_type": "display_data"
    }
   ],
   "source": [
    "plt.figure(figsize=(11,5)) # задаем размер графика\n",
    "\n",
    "# собираем данные в одном датафрейме\n",
    "mergedCumulativeRevenue = cumulativeRevenueA.merge(cumulativeRevenueB, left_on='date', right_on='date', how='left', suffixes=['A', 'B'])\n",
    "\n",
    "# cтроим отношение средних чеков\n",
    "plt.plot(mergedCumulativeRevenue['date'], (mergedCumulativeRevenue['revenueB']/mergedCumulativeRevenue['ordersB'])/(mergedCumulativeRevenue['revenueA']/mergedCumulativeRevenue['ordersA'])-1)\n",
    "\n",
    "# добавляем ось X\n",
    "plt.axhline(y=0, color='black', linestyle='--')\n",
    "plt.xticks(rotation = 45)\n",
    "plt.title('График относительного изменения кумулятивного среднего чека группы B к группе A')\n",
    "plt.xlabel('Дата');"
   ]
  },
  {
   "cell_type": "markdown",
   "metadata": {},
   "source": [
    "**Выводы:**\n",
    "\n",
    "Определенной тенденции относительного изменения кумулятивного среднего чека группы B к группе A - нет. График колеблется, данные сырые. Необходимо проверить данные на наличие аномальных пользователей."
   ]
  },
  {
   "cell_type": "markdown",
   "metadata": {},
   "source": [
    "### График кумулятивной конверсии по группам."
   ]
  },
  {
   "cell_type": "markdown",
   "metadata": {},
   "source": [
    "<a id='intro'></a>"
   ]
  },
  {
   "cell_type": "code",
   "execution_count": 28,
   "metadata": {},
   "outputs": [
    {
     "data": {
      "image/png": "[encoded data removed]",
      "text/plain": [
       "<Figure size 1080x360 with 1 Axes>"
      ]
     },
     "metadata": {
      "needs_background": "light"
     },
     "output_type": "display_data"
    }
   ],
   "source": [
    "# считаем кумулятивную конверсию\n",
    "cumulativeData['conversion'] = cumulativeData['orders']/cumulativeData['visitors']\n",
    "\n",
    "# отделяем данные по группе A\n",
    "cumulativeDataA = cumulativeData[cumulativeData['group']=='A']\n",
    "\n",
    "# отделяем данные по группе B\n",
    "cumulativeDataB = cumulativeData[cumulativeData['group']=='B']\n",
    "\n",
    "plt.figure(figsize=(15,5)) # задаем размер графика\n",
    "\n",
    "# строим графики\n",
    "plt.plot(cumulativeDataA['date'], cumulativeDataA['conversion'], label='A')\n",
    "plt.plot(cumulativeDataB['date'], cumulativeDataB['conversion'], label='B')\n",
    "\n",
    "plt.title('График кумулятивной конверсии по группам')\n",
    "plt.xlabel('Дата')\n",
    "plt.ylabel('Конверсия')\n",
    "plt.legend()\n",
    "plt.grid()\n",
    "plt.show();"
   ]
  },
  {
   "cell_type": "markdown",
   "metadata": {},
   "source": [
    "**Вывод:**\n",
    "\n",
    "- До 10 августа конверсия колеблется, но после конверсия обеих групп стабилизировалась\n",
    "- Конверсия группы В выше конверсии группы А\n",
    "- Конверсия группы А сильно просела после первых дней теста, в отличае от конверсии группы В, которая выросла и зафиксировалась"
   ]
  },
  {
   "cell_type": "markdown",
   "metadata": {},
   "source": [
    "### График относительного изменения кумулятивной конверсии группы B к группе A"
   ]
  },
  {
   "cell_type": "code",
   "execution_count": 29,
   "metadata": {},
   "outputs": [
    {
     "data": {
      "image/png": "[encoded data removed]",
      "text/plain": [
       "<Figure size 864x360 with 1 Axes>"
      ]
     },
     "metadata": {
      "needs_background": "light"
     },
     "output_type": "display_data"
    }
   ],
   "source": [
    "plt.figure(figsize=(12,5)) # задаем размер графика\n",
    "\n",
    "mergedCumulativeConversions = cumulativeDataA[['date','conversion']].merge(cumulativeDataB[['date','conversion']], left_on='date', right_on='date', how='left', suffixes=['A', 'B'])\n",
    "\n",
    "plt.plot(mergedCumulativeConversions['date'], mergedCumulativeConversions['conversionB']/mergedCumulativeConversions['conversionA']-1, label=\"Относительный прирост конверсии группы B относительно группы A\")\n",
    "plt.legend()\n",
    "\n",
    "plt.axhline(y=0, color='black', linestyle='--')\n",
    "plt.title('График относительного изменения кумулятивной конверсии группы B к группе A')\n",
    "plt.xlabel('Дата')\n",
    "plt.xticks(rotation = 25)\n",
    "plt.legend()\n",
    "plt.show();"
   ]
  },
  {
   "cell_type": "markdown",
   "metadata": {},
   "source": [
    "**Вывод:**\n",
    "\n",
    "- В начале теста группа B проигрывала группе A, но после 5 августа стала расти и с 6 августа вырвалась вперёд\n",
    "- После 10 августа конверсия установилась - конверсия группы В выигрывает по отношению к группе А"
   ]
  },
  {
   "cell_type": "markdown",
   "metadata": {},
   "source": [
    "### Точечный график количества заказов по пользователям"
   ]
  },
  {
   "cell_type": "markdown",
   "metadata": {},
   "source": [
    "Создадим переменные с пользователями и количеством заказов"
   ]
  },
  {
   "cell_type": "code",
   "execution_count": 30,
   "metadata": {},
   "outputs": [
    {
     "name": "stdout",
     "output_type": "stream",
     "text": [
      "          userId  orders\n",
      "1023  4256040402  11    \n",
      "591   2458001652  11    \n",
      "569   2378935119  9     \n",
      "487   2038680547  8     \n",
      "44    199603092   5     \n",
      "744   3062433592  5     \n",
      "55    237748145   5     \n",
      "917   3803269165  5     \n",
      "299   1230306981  5     \n",
      "897   3717692402  5     \n"
     ]
    }
   ],
   "source": [
    "ordersByUsers = (\n",
    "    orders.groupby('visitorId', as_index=False)\n",
    "    .agg({'transactionId': 'nunique'})\n",
    ")\n",
    "\n",
    "ordersByUsers.columns = ['userId', 'orders']\n",
    "print(ordersByUsers.sort_values(by='orders', ascending=False).head(10)) "
   ]
  },
  {
   "cell_type": "code",
   "execution_count": 31,
   "metadata": {},
   "outputs": [
    {
     "data": {
      "image/png": "[encoded data removed]",
      "text/plain": [
       "<Figure size 720x360 with 1 Axes>"
      ]
     },
     "metadata": {
      "needs_background": "light"
     },
     "output_type": "display_data"
    }
   ],
   "source": [
    "plt.figure(figsize=(10,5))\n",
    "plt.hist(ordersByUsers['orders'])\n",
    "plt.title('Гистрограмма распределения количества заказов по пользователям')\n",
    "plt.xlabel('Количество заказов')\n",
    "plt.ylabel('Количество пользователей')\n",
    "plt.show();"
   ]
  },
  {
   "cell_type": "code",
   "execution_count": 32,
   "metadata": {},
   "outputs": [
    {
     "data": {
      "image/png": "[encoded data removed]",
      "text/plain": [
       "<Figure size 720x360 with 1 Axes>"
      ]
     },
     "metadata": {
      "needs_background": "light"
     },
     "output_type": "display_data"
    }
   ],
   "source": [
    "x_values = pd.Series(range(0,len(ordersByUsers)))\n",
    "plt.figure(figsize=(10,5))\n",
    "plt.scatter(x_values, ordersByUsers['orders'])\n",
    "plt.title('Точечная диаграмма количества заказов по пользователям')\n",
    "plt.xlabel('Пользователи')\n",
    "plt.ylabel('Количество заказов')\n",
    "plt.show();"
   ]
  },
  {
   "cell_type": "markdown",
   "metadata": {},
   "source": [
    "**Вывод:**\n",
    "\n",
    "- Большинство пользователей имеют небольшое количество заказов - до двух\n",
    "- в данных есть пользователи, имеющие 4, 5 и даже 10 заказов"
   ]
  },
  {
   "cell_type": "markdown",
   "metadata": {},
   "source": [
    "### 95-й и 99-й перцентили количества заказов на пользователя. Граница для определения аномальных пользователей"
   ]
  },
  {
   "cell_type": "markdown",
   "metadata": {},
   "source": [
    "Найдем границу для определения аномальных пользователей по количеству заказов на пользователя с помощью метода percentile() библиотеки Numpy"
   ]
  },
  {
   "cell_type": "code",
   "execution_count": 33,
   "metadata": {},
   "outputs": [
    {
     "data": {
      "text/plain": [
       "array([2., 4.])"
      ]
     },
     "execution_count": 33,
     "metadata": {},
     "output_type": "execute_result"
    }
   ],
   "source": [
    "np.percentile(ordersByUsers['orders'], [95, 99])"
   ]
  },
  {
   "cell_type": "markdown",
   "metadata": {},
   "source": [
    "**Вывод:**\n",
    "\n",
    "- 95% пользователей имеют не более 2 заказов\n",
    "- 99% пользователей имеют не более 4 заказов\n",
    "___________\n",
    "Отсеим не более 5% аномальных значения: **Установим границу в 2 заказа**"
   ]
  },
  {
   "cell_type": "markdown",
   "metadata": {},
   "source": [
    "### Точечный график стоимостей заказов"
   ]
  },
  {
   "cell_type": "code",
   "execution_count": 34,
   "metadata": {},
   "outputs": [
    {
     "data": {
      "image/png": "[encoded data removed]",
      "text/plain": [
       "<Figure size 576x360 with 1 Axes>"
      ]
     },
     "metadata": {
      "needs_background": "light"
     },
     "output_type": "display_data"
    }
   ],
   "source": [
    "plt.figure(figsize=(8,5))\n",
    "plt.hist(orders['revenue'], range=(0,80000), bins = 80)\n",
    "plt.title('Гистрограмма распределения стоимости заказов на одного пользователя')\n",
    "plt.xlabel('Стоимость заказов')\n",
    "plt.ylabel('Количество пользователей')\n",
    "plt.show();"
   ]
  },
  {
   "cell_type": "code",
   "execution_count": 35,
   "metadata": {},
   "outputs": [
    {
     "data": {
      "image/png": "[encoded data removed]",
      "text/plain": [
       "<Figure size 432x288 with 1 Axes>"
      ]
     },
     "metadata": {
      "needs_background": "light"
     },
     "output_type": "display_data"
    }
   ],
   "source": [
    "x_values = pd.Series(range(0,len(orders['revenue'])))\n",
    "plt.xlabel('Пользователи')\n",
    "plt.ylabel('Стоимость заказов')\n",
    "plt.scatter(x_values, orders['revenue']);"
   ]
  },
  {
   "cell_type": "markdown",
   "metadata": {},
   "source": [
    "Посмотрим на график более детально, исключив выбросы\n"
   ]
  },
  {
   "cell_type": "code",
   "execution_count": 36,
   "metadata": {},
   "outputs": [
    {
     "data": {
      "image/png": "[encoded data removed]",
      "text/plain": [
       "<Figure size 576x288 with 1 Axes>"
      ]
     },
     "metadata": {
      "needs_background": "light"
     },
     "output_type": "display_data"
    }
   ],
   "source": [
    "x_values = pd.Series(range(0, len(orders)))\n",
    "plt.figure(figsize=(8,4))\n",
    "plt.scatter(x_values, orders['revenue'])\n",
    "plt.xlabel('Пользователи')\n",
    "plt.ylabel('Стоимость заказов')\n",
    "plt.title('Точечная диаграмма стоимости заказов на одного пользователя')\n",
    "plt.axis([0, 1200, 0, 120000])\n",
    "plt.show();"
   ]
  },
  {
   "cell_type": "markdown",
   "metadata": {},
   "source": [
    "**Вывод:**\n",
    "\n",
    "- Судя по графикам большая часть пользователей делает заказы на сумму до 10 тысяч рублей\n",
    "- небольшая часть от 10 до 20 тысяч рублей\n",
    "- свыше 20 тысяч рыблей заказы уже редки\n",
    "- тем не менее встречаются аномально дорогостоящие заказы по 80 и 100 тысяч рублей. Даже один заказ более миллиона рублей"
   ]
  },
  {
   "cell_type": "markdown",
   "metadata": {},
   "source": [
    "### 95-й и 99-й перцентили стоимости заказов. Граница для определения аномальных заказов."
   ]
  },
  {
   "cell_type": "code",
   "execution_count": 37,
   "metadata": {},
   "outputs": [
    {
     "name": "stdout",
     "output_type": "stream",
     "text": [
      "[28000.  58233.2]\n"
     ]
    }
   ],
   "source": [
    "print(np.percentile(orders['revenue'], [95, 99]))"
   ]
  },
  {
   "cell_type": "markdown",
   "metadata": {},
   "source": [
    "**Вывод:**\n",
    "\n",
    "- 95% покупателей тратят до 28 тысяч рублей\n",
    "- 99% покупателей тратят до 58 тысяч рублей\n",
    "\n",
    "___________\n",
    "Отсеим не более 5% аномальных значения: **Установим границу в 28 тысяч рублей**"
   ]
  },
  {
   "cell_type": "markdown",
   "metadata": {},
   "source": [
    "### Статистическая значимость различий в конверсии между группами по «сырым» данным."
   ]
  },
  {
   "cell_type": "markdown",
   "metadata": {},
   "source": [
    "Подготовим данные"
   ]
  },
  {
   "cell_type": "code",
   "execution_count": 38,
   "metadata": {},
   "outputs": [
    {
     "name": "stdout",
     "output_type": "stream",
     "text": [
      "        date  ordersPerDateA  revenuePerDateA  ordersPerDateB  \\\n",
      "0 2019-08-01  24              148579           21               \n",
      "1 2019-08-02  20              93822            24               \n",
      "2 2019-08-03  24              112473           16               \n",
      "3 2019-08-04  16              70825            17               \n",
      "4 2019-08-05  25              124218           23               \n",
      "\n",
      "   revenuePerDateB  ordersCummulativeA  revenueCummulativeA  \\\n",
      "0  101217           24                  148579                \n",
      "1  165531           44                  242401                \n",
      "2  114248           68                  354874                \n",
      "3  108571           84                  425699                \n",
      "4  92428            109                 549917                \n",
      "\n",
      "   ordersCummulativeB  revenueCummulativeB  visitorsPerDateA  \\\n",
      "0  21                  101217               719                \n",
      "1  45                  266748               619                \n",
      "2  61                  380996               507                \n",
      "3  78                  489567               717                \n",
      "4  101                 581995               756                \n",
      "\n",
      "   visitorsPerDateB  visitorsCummulativeA  visitorsCummulativeB  \n",
      "0  713               719                   713                   \n",
      "1  581               1338                  1294                  \n",
      "2  509               1845                  1803                  \n",
      "3  770               2562                  2573                  \n",
      "4  707               3318                  3280                  \n"
     ]
    }
   ],
   "source": [
    "visitorsADaily = visitors[visitors['group'] == 'A'][['date', 'visitors']]\n",
    "visitorsADaily.columns = ['date', 'visitorsPerDateA']\n",
    "\n",
    "visitorsACummulative = visitorsADaily.apply(\n",
    "    lambda x: visitorsADaily[visitorsADaily['date'] <= x['date']].agg(\n",
    "        {'date': 'max', 'visitorsPerDateA': 'sum'}\n",
    "    ),\n",
    "    axis=1,\n",
    ")\n",
    "visitorsACummulative.columns = ['date', 'visitorsCummulativeA']\n",
    "\n",
    "visitorsBDaily = visitors[visitors['group'] == 'B'][['date', 'visitors']]\n",
    "visitorsBDaily.columns = ['date', 'visitorsPerDateB']\n",
    "\n",
    "visitorsBCummulative = visitorsBDaily.apply(\n",
    "    lambda x: visitorsBDaily[visitorsBDaily['date'] <= x['date']].agg(\n",
    "        {'date': 'max', 'visitorsPerDateB': 'sum'}\n",
    "    ),\n",
    "    axis=1,\n",
    ")\n",
    "visitorsBCummulative.columns = ['date', 'visitorsCummulativeB']\n",
    "\n",
    "ordersADaily = (\n",
    "    orders[orders['group'] == 'A'][['date', 'transactionId', 'visitorId', 'revenue']]\n",
    "    .groupby('date', as_index=False)\n",
    "    .agg({'transactionId': pd.Series.nunique, 'revenue': 'sum'})\n",
    ")\n",
    "ordersADaily.columns = ['date', 'ordersPerDateA', 'revenuePerDateA']\n",
    "\n",
    "ordersACummulative = ordersADaily.apply(\n",
    "    lambda x: ordersADaily[ordersADaily['date'] <= x['date']].agg(\n",
    "        {'date': 'max', 'ordersPerDateA': 'sum', 'revenuePerDateA': 'sum'}\n",
    "    ),\n",
    "    axis=1,\n",
    ").sort_values(by=['date'])\n",
    "ordersACummulative.columns = [\n",
    "    'date',\n",
    "    'ordersCummulativeA',\n",
    "    'revenueCummulativeA',\n",
    "]\n",
    "\n",
    "ordersBDaily = (\n",
    "    orders[orders['group'] == 'B'][['date', 'transactionId', 'visitorId', 'revenue']]\n",
    "    .groupby('date', as_index=False)\n",
    "    .agg({'transactionId': pd.Series.nunique, 'revenue': 'sum'})\n",
    ")\n",
    "ordersBDaily.columns = ['date', 'ordersPerDateB', 'revenuePerDateB']\n",
    "\n",
    "ordersBCummulative = ordersBDaily.apply(\n",
    "    lambda x: ordersBDaily[ordersBDaily['date'] <= x['date']].agg(\n",
    "        {'date': 'max', 'ordersPerDateB': 'sum', 'revenuePerDateB': 'sum'}\n",
    "    ),\n",
    "    axis=1,\n",
    ").sort_values(by=['date'])\n",
    "ordersBCummulative.columns = [\n",
    "    'date',\n",
    "    'ordersCummulativeB',\n",
    "    'revenueCummulativeB',\n",
    "]\n",
    "\n",
    "data = (\n",
    "    ordersADaily.merge(\n",
    "        ordersBDaily, left_on='date', right_on='date', how='left'\n",
    "    )\n",
    "    .merge(ordersACummulative, left_on='date', right_on='date', how='left')\n",
    "    .merge(ordersBCummulative, left_on='date', right_on='date', how='left')\n",
    "    .merge(visitorsADaily, left_on='date', right_on='date', how='left')\n",
    "    .merge(visitorsBDaily, left_on='date', right_on='date', how='left')\n",
    "    .merge(visitorsACummulative, left_on='date', right_on='date', how='left')\n",
    "    .merge(visitorsBCummulative, left_on='date', right_on='date', how='left')\n",
    ")\n",
    "\n",
    "print(data.head(5)) "
   ]
  },
  {
   "cell_type": "markdown",
   "metadata": {},
   "source": [
    "Названия столбцов данных:\n",
    "- date — дата;\n",
    "- ordersPerDateA — количество заказов в выбранную дату в группе A;\n",
    "- revenuePerDateA — суммарная выручка в выбранную дату в группе A;\n",
    "- ordersPerDateB — количество заказов в выбранную дату в группе B;\n",
    "- revenuePerDateB — суммарная выручка в выбранную дату в группе B;\n",
    "- ordersCummulativeA — суммарное число заказов до выбранной даты включительно в группе A;\n",
    "- revenueCummulativeA — суммарная выручка до выбранной даты включительно в группе A;\n",
    "- ordersCummulativeB — суммарное количество заказов до выбранной даты включительно в группе B;\n",
    "- revenueCummulativeB — суммарная выручка до выбранной даты включительно в группе B;\n",
    "- visitorsPerDateA — количество пользователей в выбранную дату в группе A;\n",
    "- visitorsPerDateB — количество пользователей в выбранную дату в группе B;\n",
    "- visitorsCummulativeA — количество пользователей до выбранной даты включительно в группе A;\n",
    "- visitorsCummulativeB — количество пользователей до выбранной даты включительно в группе B."
   ]
  },
  {
   "cell_type": "markdown",
   "metadata": {},
   "source": [
    "Объявим переменные sampleA и sampleB, в которых пользователям из разных групп будет соответствовать количество заказов. Тем, кто ничего не заказал, будут соответствовать нули. Это нужно, чтобы подготовить выборки к проверке критерием Манна-Уитни."
   ]
  },
  {
   "cell_type": "code",
   "execution_count": 39,
   "metadata": {},
   "outputs": [],
   "source": [
    "ordersByUsersA = (\n",
    "    orders[orders['group'] == 'A']\n",
    "    .groupby('visitorId', as_index=False)\n",
    "    .agg({'transactionId': pd.Series.nunique})\n",
    ")\n",
    "ordersByUsersA.columns = ['userId', 'orders']\n",
    "\n",
    "ordersByUsersB = (\n",
    "    orders[orders['group'] == 'B']\n",
    "    .groupby('visitorId', as_index=False)\n",
    "    .agg({'transactionId': pd.Series.nunique})\n",
    ")\n",
    "ordersByUsersB.columns = ['userId', 'orders']\n",
    "\n",
    "sampleA = pd.concat(\n",
    "    [\n",
    "        ordersByUsersA['orders'],\n",
    "        pd.Series(\n",
    "            0,\n",
    "            index=np.arange(\n",
    "                data['visitorsPerDateA'].sum() - len(ordersByUsersA['orders'])\n",
    "            ),\n",
    "            name='orders',\n",
    "        ),\n",
    "    ],\n",
    "    axis=0,\n",
    ")\n",
    "\n",
    "sampleB = pd.concat(\n",
    "    [\n",
    "        ordersByUsersB['orders'],\n",
    "        pd.Series(\n",
    "            0,\n",
    "            index=np.arange(\n",
    "                data['visitorsPerDateB'].sum() - len(ordersByUsersB['orders'])\n",
    "            ),\n",
    "            name='orders',\n",
    "        ),\n",
    "    ],\n",
    "    axis=0,\n",
    ")\n"
   ]
  },
  {
   "cell_type": "markdown",
   "metadata": {},
   "source": [
    "Сформулируем гипотезы:\n",
    "\n",
    "**Нулевая:** различий в конверсии между группами нет.\n",
    "\n",
    "**Альтернативная:** различия в конверсии между группами есть."
   ]
  },
  {
   "cell_type": "code",
   "execution_count": 40,
   "metadata": {},
   "outputs": [
    {
     "name": "stdout",
     "output_type": "stream",
     "text": [
      "относительное различие конверсии между группами: 13.81%\n",
      "P-value: 0.0168\n",
      "Отвергаем нулевую гипотезу. По \"сырым\" данным в конверсии групп A и B разница статистически значима\n"
     ]
    }
   ],
   "source": [
    "alpha = 0.05  # критический уровень статистической значимости\n",
    "print('относительное различие конверсии между группами:', '{:.2%}'.format(sampleB.mean() / sampleA.mean() - 1))\n",
    "results = st.mannwhitneyu(sampleA, sampleB)\n",
    "print('P-value: {}'.format(round(results.pvalue, 4)))\n",
    "if results.pvalue < alpha:\n",
    "    print('Отвергаем нулевую гипотезу. По \"сырым\" данным в конверсии групп A и B разница статистически значима')\n",
    "else:\n",
    "    print('По \"сырым\" данным различий в конверсии групп A и B нет')"
   ]
  },
  {
   "cell_type": "markdown",
   "metadata": {},
   "source": [
    "- По \"сырым\" данным в конверсии групп A и B разница статистически **значима**\n",
    "- Относительный выигрыш группы B равен 13% "
   ]
  },
  {
   "cell_type": "markdown",
   "metadata": {},
   "source": [
    "### Статистическая значимость различий в среднем чеке заказа между группами по «сырым» данным"
   ]
  },
  {
   "cell_type": "markdown",
   "metadata": {},
   "source": [
    "Сформулируем гипотезы:\n",
    "\n",
    "**Нулевая:** различий в среднем чеке заказа между группами по «сырым» данным нет.\n",
    "\n",
    "**Альтернативная:** различия в среднем чеке заказа между группами по «сырым» данным есть."
   ]
  },
  {
   "cell_type": "code",
   "execution_count": 41,
   "metadata": {},
   "outputs": [
    {
     "name": "stdout",
     "output_type": "stream",
     "text": [
      "Относительное изменение среднего чека в группе B по отношению группы A: 25.87%\n",
      "P-value: 0.72929\n",
      "По сырым данным различий в среднем чеке в группах нет\n"
     ]
    }
   ],
   "source": [
    "alpha = 0.05  # критический уровень статистической значимости\n",
    "print('Относительное изменение среднего чека в группе B по отношению группы A: {:.2%}'.format(\n",
    "orders[orders['group']=='B']['revenue'].mean()/orders[orders['group']=='A']['revenue'].mean()-1))\n",
    "results = st.mannwhitneyu(orders[orders['group']=='A']['revenue'], orders[orders['group']=='B']['revenue'])\n",
    "print('P-value: {}'.format(round(results.pvalue, 5)))\n",
    "if results.pvalue < alpha:\n",
    "    print('По сырым данным различий в среднем чеке в группах статистически значима')\n",
    "else:\n",
    "    print('По сырым данным различий в среднем чеке в группах нет')"
   ]
  },
  {
   "cell_type": "markdown",
   "metadata": {},
   "source": [
    "<div class=\"alert alert-info\">\n",
    "\n",
    "**Вывод:**\n",
    "\n",
    "- Средний чек группы B выше на 25% \n",
    "- несмотря на это наблюдаемое превышение среднего чека группы В на 25,9% не является значимым, получено случайно, как показал тест Манна-Уитни.\n",
    "\n",
    "    Это может быть связано с тем, что группе B нужно больше данных, чтобы прийти к реальному среднему чеку и установиться на его уровне [proof](#proof)\n",
    "\n",
    "    \n",
    "</div>"
   ]
  },
  {
   "cell_type": "markdown",
   "metadata": {},
   "source": [
    "### Статистическая значимость различий в конверсии между группами по «очищенным» данным."
   ]
  },
  {
   "cell_type": "markdown",
   "metadata": {},
   "source": [
    "Почистим данные. Сделаем срезы пользователей без аномальных значений"
   ]
  },
  {
   "cell_type": "markdown",
   "metadata": {},
   "source": [
    "Объявим переменные order_95 и revenue_95, в которых запишем значения для усечения датасета.\n"
   ]
  },
  {
   "cell_type": "code",
   "execution_count": 42,
   "metadata": {},
   "outputs": [],
   "source": [
    "order_95 = np.percentile(ordersByUsers['orders'], 95)\n",
    "revenue_95 = np.percentile(orders['revenue'], 95)"
   ]
  },
  {
   "cell_type": "code",
   "execution_count": 43,
   "metadata": {},
   "outputs": [
    {
     "name": "stdout",
     "output_type": "stream",
     "text": [
      "Всего пользователей с аномальными заказами: 74\n"
     ]
    }
   ],
   "source": [
    "usersWithManyOrders = pd.concat(\n",
    "    [\n",
    "        ordersByUsersA[ordersByUsersA['orders'] > order_95]['userId'],\n",
    "        ordersByUsersB[ordersByUsersB['orders'] > order_95]['userId'],\n",
    "    ],\n",
    "    axis=0,\n",
    ")\n",
    "usersWithExpensiveOrders = orders[orders['revenue'] > revenue_95]['visitorId']\n",
    "abnormalUsers = (\n",
    "    pd.concat([usersWithManyOrders, usersWithExpensiveOrders], axis=0)\n",
    "    .drop_duplicates()\n",
    "    .sort_values()\n",
    ")\n",
    "\n",
    "print('Всего пользователей с аномальными заказами:', abnormalUsers.shape[0])"
   ]
  },
  {
   "cell_type": "markdown",
   "metadata": {},
   "source": [
    "Посчитаем статистическую значимость различий в конверсии между группами по «очищенным» данным.\n",
    "\n",
    "Сформулируем гипотезы:\n",
    "\n",
    "**Нулевая:** различий в конверсии между группами по очищенным данным нет.\n",
    "\n",
    "**Альтернативная:** различия в конверсии между группами по очищенным данным есть."
   ]
  },
  {
   "cell_type": "code",
   "execution_count": 44,
   "metadata": {},
   "outputs": [],
   "source": [
    "sampleAFiltered = pd.concat(\n",
    "    [\n",
    "        ordersByUsersA[\n",
    "            np.logical_not(ordersByUsersA['userId'].isin(abnormalUsers))\n",
    "        ]['orders'],\n",
    "        pd.Series(\n",
    "            0,\n",
    "            index=np.arange(\n",
    "                data['visitorsPerDateA'].sum() - len(ordersByUsersA['orders'])\n",
    "            ),\n",
    "            name='orders',\n",
    "        ),\n",
    "    ],\n",
    "    axis=0,\n",
    ")\n",
    "\n",
    "sampleBFiltered = pd.concat(\n",
    "    [\n",
    "        ordersByUsersB[\n",
    "            np.logical_not(ordersByUsersB['userId'].isin(abnormalUsers))\n",
    "        ]['orders'],\n",
    "        pd.Series(\n",
    "            0,\n",
    "            index=np.arange(\n",
    "                data['visitorsPerDateB'].sum() - len(ordersByUsersB['orders'])\n",
    "            ),\n",
    "            name='orders',\n",
    "        ),\n",
    "    ],\n",
    "    axis=0,\n",
    ")"
   ]
  },
  {
   "cell_type": "code",
   "execution_count": 45,
   "metadata": {},
   "outputs": [
    {
     "name": "stdout",
     "output_type": "stream",
     "text": [
      "\n",
      "Относительный прирост конверсии группы B по отношению к группе A после очистки данных: 17.270%\n",
      "P-value: 0.013042592743036745\n",
      "По очищенным данным в конверсии групп разница статистически значима\n"
     ]
    }
   ],
   "source": [
    "print('\\nОтносительный прирост конверсии группы B по отношению к группе A после очистки данных: {:.3%}'.format(sampleBFiltered.mean()/sampleAFiltered.mean()-1))\n",
    "results = st.mannwhitneyu(sampleAFiltered, sampleBFiltered)\n",
    "print('P-value: {}'.format(results.pvalue))\n",
    "if results.pvalue < alpha:\n",
    "    print('По очищенным данным в конверсии групп разница статистически значима')\n",
    "else:\n",
    "    print('По очищенным данным различий в конверсии групп A и B нет')"
   ]
  },
  {
   "cell_type": "markdown",
   "metadata": {},
   "source": [
    "**Вывод:**\n",
    "- после очистки данных относительный прирост конверсии группы В по отношению к группе А составил 17% - больше, чем по сырым данным\n",
    "- общий вывод по результатам теста не изменился - разница статистически **значима**"
   ]
  },
  {
   "cell_type": "markdown",
   "metadata": {},
   "source": [
    "### Статистическуая значимость различий в среднем чеке заказа между группами по «очищенным» данным"
   ]
  },
  {
   "cell_type": "code",
   "execution_count": 46,
   "metadata": {},
   "outputs": [
    {
     "name": "stdout",
     "output_type": "stream",
     "text": [
      "Относительное изменение среднего чека в группе B по отношению группы A после очистки данных: -1.962%\n",
      "P-value: 0.738481751314565\n",
      "По очищенным данным различий в среднем чеке между группами нет\n"
     ]
    }
   ],
   "source": [
    "print('Относительное изменение среднего чека в группе B по отношению группы A после очистки данных: {:.3%}'.format(\n",
    "orders[np.logical_and(orders['group']=='B', np.logical_not(orders['visitorId'].isin(abnormalUsers)))]['revenue'].mean()\\\n",
    "/orders[np.logical_and(orders['group']=='A', np.logical_not(orders['visitorId'].isin(abnormalUsers)))]['revenue'].mean()-1))\n",
    "       \n",
    "       \n",
    "results = st.mannwhitneyu(orders[np.logical_and(orders['group']=='A', np.logical_not(orders['visitorId'].isin(abnormalUsers)))]['revenue'],\n",
    "                             orders[np.logical_and(orders['group']=='B', np.logical_not(orders['visitorId'].isin(abnormalUsers)))]['revenue'])\n",
    "print('P-value: {}'.format(results.pvalue))\n",
    "if results.pvalue < alpha:\n",
    "    print('По очищенным данным разница в среднем чеке между группами статистически значима')\n",
    "else:\n",
    "    print('По очищенным данным различий в среднем чеке между группами нет')"
   ]
  },
  {
   "cell_type": "markdown",
   "metadata": {},
   "source": [
    "**Вывод:**\n",
    "\n",
    "- после очистки данных средний чек в группе B по отношению к группе A  меньше на 2%\n",
    "- общий вывод по результатам теста не изменился - по очищенным данным в среднем чеке групп A и B разница статистически **не значима**"
   ]
  },
  {
   "cell_type": "markdown",
   "metadata": {},
   "source": [
    "### Решение по результатам теста"
   ]
  },
  {
   "cell_type": "markdown",
   "metadata": {},
   "source": [
    "- Статистического значимого различия по среднему чеку между группами по сырым данным и по очищенным данным - нет.\n",
    "\n",
    "поэтому в принятии решения по результатам теста я не буду ориентироваться на средний чек\n",
    "\n",
    "- Есть статистически значимое различие по конверсии между группами как по сырым данным, так и после фильтрации аномалий\n",
    "\n",
    "[График различия](#intro) конверсии между группами указывает, что результаты группы B лучше группы A: конверсия группы В зафиксировались выше конверсии группы А - это важный критерий в принятии решения.\n",
    "\n",
    "**Решение: осстановить тест и признать его успешным. Группа B показала лучшие метрики**"
   ]
  },
  {
   "cell_type": "markdown",
   "metadata": {},
   "source": [
    "## Общий вывод"
   ]
  },
  {
   "cell_type": "markdown",
   "metadata": {},
   "source": [
    "В данном исследовании было необходимо принять решение для бизнеса на основании проведенного A/B теста.\n",
    "\n",
    "Первой задачей было [приоритизация гипотез.](#hip) Чтобы максимизировать ожидаемое улучшение ключевых метрик бизнеса, я из 9 гипотез выбрала две наиболее подходящих.  \n",
    "\n",
    "Далее мы запустили A/B тест.\n",
    "\n",
    "Результаты тестирования были представлены в двух таблицах: таблица с заказами `/datasets/orders.csv` и таблица с посещениями `/datasets/visitors.csv`\n",
    "\n",
    " - изучила общую информацию\n",
    " - проверила данные на пропуски, выбросы и дубликаты\n",
    " - переформатировала данные с датой\n",
    " \n",
    " Чтобы провести анлиз тестирования я собрала агрегированные кумулятивные данные о заказах по дням и сохранила их в датафрейм `cumulativeData`\n",
    "  - График выручки, среднего чека и график относительного изменения кумулятивного среднего чека позволили мне сделать предположене, что в данных есть аномально большие заказы.\n",
    "  -  с помощью метода `percentile()` нашла границу для определения аномальных пользователей и установила ее на уровне 95%. То есть отфильровала данные, убрав из них 5% пользователей с аномальными заказами\n",
    "  \n",
    "Важной частью исследования был **подсчет статистической значимости различий ключевых метрик.**\n",
    "Именно на этот показатель я опиралась в принятии решений о завершении теста.\n",
    "\n",
    "Я установила, что относительные различия в конверсии между группами статистически значимы.\n",
    "\n",
    "График кумулятивной конверсии по группам и график относительного изменения кумулятивной конверсии группы B к группе A помог определить, что\n",
    "- **группа B имеет лучшую конверсию в покупателей, относительно группы A.**\n",
    "\n",
    "**Тест завершен и признан успешным**."
   ]
  }
 ],
 "metadata": {
  "ExecuteTimeLog": [
   {
    "duration": 1317,
    "start_time": "2022-09-22T08:27:08.092Z"
   },
   {
    "duration": 62,
    "start_time": "2022-09-22T08:29:50.041Z"
   },
   {
    "duration": 22,
    "start_time": "2022-09-22T08:29:58.603Z"
   },
   {
    "duration": 119,
    "start_time": "2022-09-22T08:30:43.780Z"
   },
   {
    "duration": 5,
    "start_time": "2022-09-22T08:30:58.115Z"
   },
   {
    "duration": 5,
    "start_time": "2022-09-22T08:31:25.231Z"
   },
   {
    "duration": 8,
    "start_time": "2022-09-22T08:34:50.857Z"
   },
   {
    "duration": 21,
    "start_time": "2022-09-22T08:37:05.303Z"
   },
   {
    "duration": 12,
    "start_time": "2022-09-22T08:38:04.659Z"
   },
   {
    "duration": 13,
    "start_time": "2022-09-22T08:39:37.741Z"
   },
   {
    "duration": 4,
    "start_time": "2022-09-22T08:39:47.246Z"
   },
   {
    "duration": 7,
    "start_time": "2022-09-22T08:40:18.793Z"
   },
   {
    "duration": 10,
    "start_time": "2022-09-22T08:40:28.334Z"
   },
   {
    "duration": 12,
    "start_time": "2022-09-22T08:41:18.734Z"
   },
   {
    "duration": 112,
    "start_time": "2022-09-22T08:43:34.432Z"
   },
   {
    "duration": 16,
    "start_time": "2022-09-22T08:43:38.836Z"
   },
   {
    "duration": 3,
    "start_time": "2022-09-22T09:22:21.306Z"
   },
   {
    "duration": 28,
    "start_time": "2022-09-22T09:22:21.800Z"
   },
   {
    "duration": 4,
    "start_time": "2022-09-22T09:22:22.263Z"
   },
   {
    "duration": 9,
    "start_time": "2022-09-22T09:22:22.804Z"
   },
   {
    "duration": 10,
    "start_time": "2022-09-22T09:22:23.152Z"
   },
   {
    "duration": 4,
    "start_time": "2022-09-22T09:22:23.484Z"
   },
   {
    "duration": 10,
    "start_time": "2022-09-22T09:22:23.769Z"
   },
   {
    "duration": 10,
    "start_time": "2022-09-22T09:22:24.051Z"
   },
   {
    "duration": 50,
    "start_time": "2022-09-22T09:22:24.628Z"
   },
   {
    "duration": 12,
    "start_time": "2022-09-22T09:22:24.949Z"
   },
   {
    "duration": 33,
    "start_time": "2022-09-22T09:24:09.988Z"
   },
   {
    "duration": 12,
    "start_time": "2022-09-22T09:35:06.676Z"
   },
   {
    "duration": 11,
    "start_time": "2022-09-22T09:36:33.076Z"
   },
   {
    "duration": 73,
    "start_time": "2022-09-22T09:47:31.684Z"
   },
   {
    "duration": 61,
    "start_time": "2022-09-22T09:47:33.611Z"
   },
   {
    "duration": 24,
    "start_time": "2022-09-22T09:50:16.919Z"
   },
   {
    "duration": 21,
    "start_time": "2022-09-22T09:50:29.449Z"
   },
   {
    "duration": 23,
    "start_time": "2022-09-22T09:50:45.706Z"
   },
   {
    "duration": 14,
    "start_time": "2022-09-22T09:51:42.320Z"
   },
   {
    "duration": 18,
    "start_time": "2022-09-22T09:52:34.819Z"
   },
   {
    "duration": 385,
    "start_time": "2022-09-22T12:00:14.570Z"
   },
   {
    "duration": 3,
    "start_time": "2022-09-22T12:00:45.115Z"
   },
   {
    "duration": 35,
    "start_time": "2022-09-22T12:00:46.118Z"
   },
   {
    "duration": 4,
    "start_time": "2022-09-22T12:00:46.638Z"
   },
   {
    "duration": 14,
    "start_time": "2022-09-22T12:00:47.123Z"
   },
   {
    "duration": 11,
    "start_time": "2022-09-22T12:00:47.607Z"
   },
   {
    "duration": 10,
    "start_time": "2022-09-22T12:00:48.076Z"
   },
   {
    "duration": 61,
    "start_time": "2022-09-22T12:00:50.168Z"
   },
   {
    "duration": 11,
    "start_time": "2022-09-22T12:00:50.881Z"
   },
   {
    "duration": 34,
    "start_time": "2022-09-22T12:00:51.450Z"
   },
   {
    "duration": 17,
    "start_time": "2022-09-22T12:00:51.984Z"
   },
   {
    "duration": 439,
    "start_time": "2022-09-22T12:00:52.628Z"
   },
   {
    "duration": 538,
    "start_time": "2022-09-22T12:01:28.415Z"
   },
   {
    "duration": 840,
    "start_time": "2022-09-22T12:02:44.118Z"
   },
   {
    "duration": 38,
    "start_time": "2022-09-22T12:02:44.960Z"
   },
   {
    "duration": 3,
    "start_time": "2022-09-22T12:02:45.000Z"
   },
   {
    "duration": 39,
    "start_time": "2022-09-22T12:02:45.005Z"
   },
   {
    "duration": 32,
    "start_time": "2022-09-22T12:02:45.046Z"
   },
   {
    "duration": 25,
    "start_time": "2022-09-22T12:02:45.079Z"
   },
   {
    "duration": 66,
    "start_time": "2022-09-22T12:02:45.106Z"
   },
   {
    "duration": 12,
    "start_time": "2022-09-22T12:02:45.173Z"
   },
   {
    "duration": 30,
    "start_time": "2022-09-22T12:02:45.186Z"
   },
   {
    "duration": 20,
    "start_time": "2022-09-22T12:02:45.218Z"
   },
   {
    "duration": 13,
    "start_time": "2022-09-22T12:02:45.239Z"
   },
   {
    "duration": 20,
    "start_time": "2022-09-22T12:03:26.322Z"
   },
   {
    "duration": 19,
    "start_time": "2022-09-22T12:04:42.548Z"
   },
   {
    "duration": 217,
    "start_time": "2022-09-22T12:13:45.813Z"
   },
   {
    "duration": 33,
    "start_time": "2022-09-22T12:15:16.983Z"
   },
   {
    "duration": 54,
    "start_time": "2022-09-22T12:15:31.326Z"
   },
   {
    "duration": 62,
    "start_time": "2022-09-22T12:16:07.318Z"
   },
   {
    "duration": 23,
    "start_time": "2022-09-22T12:16:20.159Z"
   },
   {
    "duration": 11,
    "start_time": "2022-09-22T12:16:40.067Z"
   },
   {
    "duration": 11,
    "start_time": "2022-09-22T12:34:19.910Z"
   },
   {
    "duration": 125,
    "start_time": "2022-09-22T12:35:14.011Z"
   },
   {
    "duration": 175,
    "start_time": "2022-09-22T12:35:51.862Z"
   },
   {
    "duration": 6,
    "start_time": "2022-09-22T12:36:54.124Z"
   },
   {
    "duration": 5,
    "start_time": "2022-09-22T12:37:04.162Z"
   },
   {
    "duration": 487,
    "start_time": "2022-09-22T12:40:42.840Z"
   },
   {
    "duration": 117,
    "start_time": "2022-09-22T12:41:15.660Z"
   },
   {
    "duration": 117,
    "start_time": "2022-09-22T12:41:23.662Z"
   },
   {
    "duration": 10,
    "start_time": "2022-09-22T12:42:12.641Z"
   },
   {
    "duration": 13,
    "start_time": "2022-09-22T12:42:42.130Z"
   },
   {
    "duration": 1043,
    "start_time": "2022-09-22T12:43:57.012Z"
   },
   {
    "duration": 4,
    "start_time": "2022-09-22T12:44:07.762Z"
   },
   {
    "duration": 244,
    "start_time": "2022-09-22T12:47:04.339Z"
   },
   {
    "duration": 5,
    "start_time": "2022-09-22T13:10:31.665Z"
   },
   {
    "duration": 12,
    "start_time": "2022-09-22T13:17:08.479Z"
   },
   {
    "duration": 5,
    "start_time": "2022-09-22T13:20:27.161Z"
   },
   {
    "duration": 11,
    "start_time": "2022-09-22T13:26:52.617Z"
   },
   {
    "duration": 1092,
    "start_time": "2022-09-24T10:59:01.045Z"
   },
   {
    "duration": 134,
    "start_time": "2022-09-24T10:59:02.139Z"
   },
   {
    "duration": 4,
    "start_time": "2022-09-24T10:59:02.275Z"
   },
   {
    "duration": 29,
    "start_time": "2022-09-24T10:59:02.280Z"
   },
   {
    "duration": 22,
    "start_time": "2022-09-24T10:59:02.310Z"
   },
   {
    "duration": 35,
    "start_time": "2022-09-24T10:59:02.333Z"
   },
   {
    "duration": 96,
    "start_time": "2022-09-24T10:59:02.369Z"
   },
   {
    "duration": 11,
    "start_time": "2022-09-24T10:59:02.467Z"
   },
   {
    "duration": 76,
    "start_time": "2022-09-24T10:59:02.479Z"
   },
   {
    "duration": 15,
    "start_time": "2022-09-24T10:59:02.557Z"
   },
   {
    "duration": 38,
    "start_time": "2022-09-24T10:59:02.573Z"
   },
   {
    "duration": 41,
    "start_time": "2022-09-24T10:59:02.613Z"
   },
   {
    "duration": 13,
    "start_time": "2022-09-24T10:59:02.655Z"
   },
   {
    "duration": 12,
    "start_time": "2022-09-24T10:59:02.670Z"
   },
   {
    "duration": 14,
    "start_time": "2022-09-24T10:59:02.683Z"
   },
   {
    "duration": 242,
    "start_time": "2022-09-24T10:59:02.698Z"
   },
   {
    "duration": 0,
    "start_time": "2022-09-24T10:59:02.942Z"
   },
   {
    "duration": 0,
    "start_time": "2022-09-24T10:59:02.943Z"
   },
   {
    "duration": 0,
    "start_time": "2022-09-24T10:59:02.943Z"
   },
   {
    "duration": 0,
    "start_time": "2022-09-24T10:59:02.944Z"
   },
   {
    "duration": 164,
    "start_time": "2022-09-24T10:59:19.347Z"
   },
   {
    "duration": 4,
    "start_time": "2022-09-24T10:59:57.117Z"
   },
   {
    "duration": 5,
    "start_time": "2022-09-24T11:01:03.086Z"
   },
   {
    "duration": 149,
    "start_time": "2022-09-24T11:01:36.141Z"
   },
   {
    "duration": 210,
    "start_time": "2022-09-24T11:01:49.595Z"
   },
   {
    "duration": 114,
    "start_time": "2022-09-24T11:01:54.301Z"
   },
   {
    "duration": 124,
    "start_time": "2022-09-24T11:01:59.077Z"
   },
   {
    "duration": 205,
    "start_time": "2022-09-24T11:04:24.007Z"
   },
   {
    "duration": 207,
    "start_time": "2022-09-24T11:05:49.502Z"
   },
   {
    "duration": 12,
    "start_time": "2022-09-24T11:29:13.076Z"
   },
   {
    "duration": 10,
    "start_time": "2022-09-24T11:29:38.840Z"
   },
   {
    "duration": 13,
    "start_time": "2022-09-24T11:30:01.228Z"
   },
   {
    "duration": 13,
    "start_time": "2022-09-24T11:30:48.522Z"
   },
   {
    "duration": 11,
    "start_time": "2022-09-24T11:43:19.652Z"
   },
   {
    "duration": 26,
    "start_time": "2022-09-24T11:44:45.859Z"
   },
   {
    "duration": 24,
    "start_time": "2022-09-24T11:44:59.276Z"
   },
   {
    "duration": 928,
    "start_time": "2022-09-24T11:45:14.269Z"
   },
   {
    "duration": 77,
    "start_time": "2022-09-24T11:45:15.199Z"
   },
   {
    "duration": 4,
    "start_time": "2022-09-24T11:45:15.277Z"
   },
   {
    "duration": 14,
    "start_time": "2022-09-24T11:45:15.283Z"
   },
   {
    "duration": 9,
    "start_time": "2022-09-24T11:45:15.298Z"
   },
   {
    "duration": 9,
    "start_time": "2022-09-24T11:45:15.321Z"
   },
   {
    "duration": 50,
    "start_time": "2022-09-24T11:45:15.332Z"
   },
   {
    "duration": 14,
    "start_time": "2022-09-24T11:45:15.384Z"
   },
   {
    "duration": 38,
    "start_time": "2022-09-24T11:45:15.399Z"
   },
   {
    "duration": 18,
    "start_time": "2022-09-24T11:45:15.439Z"
   },
   {
    "duration": 19,
    "start_time": "2022-09-24T11:45:15.458Z"
   },
   {
    "duration": 38,
    "start_time": "2022-09-24T11:45:15.479Z"
   },
   {
    "duration": 27,
    "start_time": "2022-09-24T11:45:15.519Z"
   },
   {
    "duration": 22,
    "start_time": "2022-09-24T11:45:15.547Z"
   },
   {
    "duration": 30,
    "start_time": "2022-09-24T11:45:15.570Z"
   },
   {
    "duration": 231,
    "start_time": "2022-09-24T11:45:15.601Z"
   },
   {
    "duration": 106,
    "start_time": "2022-09-24T11:45:15.833Z"
   },
   {
    "duration": 28,
    "start_time": "2022-09-24T11:45:20.888Z"
   },
   {
    "duration": 24,
    "start_time": "2022-09-24T11:47:48.911Z"
   },
   {
    "duration": 27,
    "start_time": "2022-09-24T11:48:19.376Z"
   },
   {
    "duration": 15,
    "start_time": "2022-09-24T11:49:25.237Z"
   },
   {
    "duration": 24,
    "start_time": "2022-09-24T11:49:40.408Z"
   },
   {
    "duration": 16,
    "start_time": "2022-09-24T11:49:55.825Z"
   },
   {
    "duration": 23,
    "start_time": "2022-09-24T11:50:01.651Z"
   },
   {
    "duration": 71,
    "start_time": "2022-09-24T11:51:02.843Z"
   },
   {
    "duration": 69,
    "start_time": "2022-09-24T11:51:05.453Z"
   },
   {
    "duration": 5,
    "start_time": "2022-09-24T11:54:48.269Z"
   },
   {
    "duration": 10,
    "start_time": "2022-09-24T11:54:55.752Z"
   },
   {
    "duration": 11,
    "start_time": "2022-09-24T11:55:16.507Z"
   },
   {
    "duration": 12,
    "start_time": "2022-09-24T11:55:33.963Z"
   },
   {
    "duration": 9,
    "start_time": "2022-09-24T11:56:40.178Z"
   },
   {
    "duration": 6,
    "start_time": "2022-09-24T11:57:00.916Z"
   },
   {
    "duration": 1540,
    "start_time": "2022-09-24T17:31:45.019Z"
   },
   {
    "duration": 148,
    "start_time": "2022-09-24T17:31:46.561Z"
   },
   {
    "duration": 4,
    "start_time": "2022-09-24T17:31:46.711Z"
   },
   {
    "duration": 16,
    "start_time": "2022-09-24T17:31:46.718Z"
   },
   {
    "duration": 11,
    "start_time": "2022-09-24T17:31:46.736Z"
   },
   {
    "duration": 12,
    "start_time": "2022-09-24T17:31:46.748Z"
   },
   {
    "duration": 83,
    "start_time": "2022-09-24T17:31:46.762Z"
   },
   {
    "duration": 13,
    "start_time": "2022-09-24T17:31:46.846Z"
   },
   {
    "duration": 62,
    "start_time": "2022-09-24T17:31:46.860Z"
   },
   {
    "duration": 24,
    "start_time": "2022-09-24T17:31:46.926Z"
   },
   {
    "duration": 15,
    "start_time": "2022-09-24T17:31:46.951Z"
   },
   {
    "duration": 24,
    "start_time": "2022-09-24T17:31:46.967Z"
   },
   {
    "duration": 30,
    "start_time": "2022-09-24T17:31:46.992Z"
   },
   {
    "duration": 10,
    "start_time": "2022-09-24T17:31:47.024Z"
   },
   {
    "duration": 11,
    "start_time": "2022-09-24T17:31:47.036Z"
   },
   {
    "duration": 261,
    "start_time": "2022-09-24T17:31:47.049Z"
   },
   {
    "duration": 17,
    "start_time": "2022-09-24T17:31:47.312Z"
   },
   {
    "duration": 14,
    "start_time": "2022-09-24T17:31:47.331Z"
   },
   {
    "duration": 11,
    "start_time": "2022-09-24T17:31:47.347Z"
   },
   {
    "duration": 16,
    "start_time": "2022-09-24T17:31:47.359Z"
   },
   {
    "duration": 175,
    "start_time": "2022-09-24T17:31:47.377Z"
   },
   {
    "duration": 122,
    "start_time": "2022-09-24T17:31:47.553Z"
   },
   {
    "duration": 5,
    "start_time": "2022-09-24T17:31:47.676Z"
   },
   {
    "duration": 112,
    "start_time": "2022-09-24T17:35:38.480Z"
   },
   {
    "duration": 8,
    "start_time": "2022-09-24T17:36:27.436Z"
   },
   {
    "duration": 88,
    "start_time": "2022-09-24T17:38:39.966Z"
   },
   {
    "duration": 97,
    "start_time": "2022-09-24T17:39:14.543Z"
   },
   {
    "duration": 9,
    "start_time": "2022-09-24T17:39:28.246Z"
   },
   {
    "duration": 9,
    "start_time": "2022-09-24T17:39:40.939Z"
   },
   {
    "duration": 10,
    "start_time": "2022-09-24T17:40:07.156Z"
   },
   {
    "duration": 9,
    "start_time": "2022-09-24T17:43:17.939Z"
   },
   {
    "duration": 7,
    "start_time": "2022-09-24T17:52:23.133Z"
   },
   {
    "duration": 9,
    "start_time": "2022-09-24T17:57:15.124Z"
   },
   {
    "duration": 3,
    "start_time": "2022-09-24T17:57:50.833Z"
   },
   {
    "duration": 4,
    "start_time": "2022-09-24T17:57:56.752Z"
   },
   {
    "duration": 5,
    "start_time": "2022-09-24T18:00:14.486Z"
   },
   {
    "duration": 35,
    "start_time": "2022-09-24T18:02:54.192Z"
   },
   {
    "duration": 11,
    "start_time": "2022-09-24T18:03:25.685Z"
   },
   {
    "duration": 14,
    "start_time": "2022-09-24T18:06:49.128Z"
   },
   {
    "duration": 12,
    "start_time": "2022-09-24T18:07:02.774Z"
   },
   {
    "duration": 10,
    "start_time": "2022-09-24T18:10:20.913Z"
   },
   {
    "duration": 11,
    "start_time": "2022-09-24T18:10:40.963Z"
   },
   {
    "duration": 11,
    "start_time": "2022-09-24T18:11:32.319Z"
   },
   {
    "duration": 11,
    "start_time": "2022-09-24T18:11:54.843Z"
   },
   {
    "duration": 11,
    "start_time": "2022-09-24T18:11:58.075Z"
   },
   {
    "duration": 13,
    "start_time": "2022-09-24T18:12:06.984Z"
   },
   {
    "duration": 15,
    "start_time": "2022-09-24T18:12:28.454Z"
   },
   {
    "duration": 10,
    "start_time": "2022-09-24T18:12:40.864Z"
   },
   {
    "duration": 228,
    "start_time": "2022-09-24T18:15:05.403Z"
   },
   {
    "duration": 9,
    "start_time": "2022-09-24T18:16:31.555Z"
   },
   {
    "duration": 22,
    "start_time": "2022-09-24T18:20:58.880Z"
   },
   {
    "duration": 8,
    "start_time": "2022-09-24T18:21:22.654Z"
   },
   {
    "duration": 54,
    "start_time": "2022-09-24T18:21:39.362Z"
   },
   {
    "duration": 992,
    "start_time": "2022-09-24T18:22:02.736Z"
   },
   {
    "duration": 85,
    "start_time": "2022-09-24T18:22:03.729Z"
   },
   {
    "duration": 5,
    "start_time": "2022-09-24T18:22:03.815Z"
   },
   {
    "duration": 13,
    "start_time": "2022-09-24T18:22:03.822Z"
   },
   {
    "duration": 11,
    "start_time": "2022-09-24T18:22:03.836Z"
   },
   {
    "duration": 13,
    "start_time": "2022-09-24T18:22:03.848Z"
   },
   {
    "duration": 44,
    "start_time": "2022-09-24T18:22:03.862Z"
   },
   {
    "duration": 12,
    "start_time": "2022-09-24T18:22:03.907Z"
   },
   {
    "duration": 19,
    "start_time": "2022-09-24T18:22:03.920Z"
   },
   {
    "duration": 15,
    "start_time": "2022-09-24T18:22:03.942Z"
   },
   {
    "duration": 12,
    "start_time": "2022-09-24T18:22:03.958Z"
   },
   {
    "duration": 24,
    "start_time": "2022-09-24T18:22:03.971Z"
   },
   {
    "duration": 6,
    "start_time": "2022-09-24T18:22:03.996Z"
   },
   {
    "duration": 19,
    "start_time": "2022-09-24T18:22:04.003Z"
   },
   {
    "duration": 9,
    "start_time": "2022-09-24T18:22:04.024Z"
   },
   {
    "duration": 219,
    "start_time": "2022-09-24T18:22:04.035Z"
   },
   {
    "duration": 95,
    "start_time": "2022-09-24T18:22:04.255Z"
   },
   {
    "duration": 0,
    "start_time": "2022-09-24T18:22:04.351Z"
   },
   {
    "duration": 0,
    "start_time": "2022-09-24T18:22:04.352Z"
   },
   {
    "duration": 0,
    "start_time": "2022-09-24T18:22:04.353Z"
   },
   {
    "duration": 0,
    "start_time": "2022-09-24T18:22:04.355Z"
   },
   {
    "duration": 0,
    "start_time": "2022-09-24T18:22:04.356Z"
   },
   {
    "duration": 0,
    "start_time": "2022-09-24T18:22:04.357Z"
   },
   {
    "duration": 0,
    "start_time": "2022-09-24T18:22:04.358Z"
   },
   {
    "duration": 10,
    "start_time": "2022-09-24T18:22:12.014Z"
   },
   {
    "duration": 3,
    "start_time": "2022-09-24T18:23:47.103Z"
   },
   {
    "duration": 960,
    "start_time": "2022-09-24T18:23:51.755Z"
   },
   {
    "duration": 80,
    "start_time": "2022-09-24T18:23:52.717Z"
   },
   {
    "duration": 4,
    "start_time": "2022-09-24T18:23:52.799Z"
   },
   {
    "duration": 13,
    "start_time": "2022-09-24T18:23:52.805Z"
   },
   {
    "duration": 10,
    "start_time": "2022-09-24T18:23:52.820Z"
   },
   {
    "duration": 13,
    "start_time": "2022-09-24T18:23:52.831Z"
   },
   {
    "duration": 47,
    "start_time": "2022-09-24T18:23:52.846Z"
   },
   {
    "duration": 12,
    "start_time": "2022-09-24T18:23:52.895Z"
   },
   {
    "duration": 21,
    "start_time": "2022-09-24T18:23:52.908Z"
   },
   {
    "duration": 15,
    "start_time": "2022-09-24T18:23:52.932Z"
   },
   {
    "duration": 19,
    "start_time": "2022-09-24T18:23:52.948Z"
   },
   {
    "duration": 18,
    "start_time": "2022-09-24T18:23:52.968Z"
   },
   {
    "duration": 15,
    "start_time": "2022-09-24T18:23:52.987Z"
   },
   {
    "duration": 12,
    "start_time": "2022-09-24T18:23:53.004Z"
   },
   {
    "duration": 9,
    "start_time": "2022-09-24T18:23:53.018Z"
   },
   {
    "duration": 301,
    "start_time": "2022-09-24T18:23:53.028Z"
   },
   {
    "duration": 0,
    "start_time": "2022-09-24T18:23:53.330Z"
   },
   {
    "duration": 0,
    "start_time": "2022-09-24T18:23:53.332Z"
   },
   {
    "duration": 0,
    "start_time": "2022-09-24T18:23:53.332Z"
   },
   {
    "duration": 0,
    "start_time": "2022-09-24T18:23:53.334Z"
   },
   {
    "duration": 0,
    "start_time": "2022-09-24T18:23:53.335Z"
   },
   {
    "duration": 0,
    "start_time": "2022-09-24T18:23:53.336Z"
   },
   {
    "duration": 0,
    "start_time": "2022-09-24T18:23:53.336Z"
   },
   {
    "duration": 0,
    "start_time": "2022-09-24T18:23:53.337Z"
   },
   {
    "duration": 218,
    "start_time": "2022-09-24T18:24:06.581Z"
   },
   {
    "duration": 8,
    "start_time": "2022-09-24T18:24:07.862Z"
   },
   {
    "duration": 10,
    "start_time": "2022-09-24T18:24:09.258Z"
   },
   {
    "duration": 7,
    "start_time": "2022-09-24T18:24:10.400Z"
   },
   {
    "duration": 49,
    "start_time": "2022-09-24T18:24:12.654Z"
   },
   {
    "duration": 84,
    "start_time": "2022-09-24T18:27:48.438Z"
   },
   {
    "duration": 18,
    "start_time": "2022-09-24T18:33:08.769Z"
   },
   {
    "duration": 61,
    "start_time": "2022-09-24T18:33:17.998Z"
   },
   {
    "duration": 107,
    "start_time": "2022-09-24T18:34:57.621Z"
   },
   {
    "duration": 241,
    "start_time": "2022-09-24T18:39:57.836Z"
   },
   {
    "duration": 110,
    "start_time": "2022-09-24T18:46:06.247Z"
   },
   {
    "duration": 9,
    "start_time": "2022-09-24T18:55:32.006Z"
   },
   {
    "duration": 202,
    "start_time": "2022-09-24T18:57:33.368Z"
   },
   {
    "duration": 9,
    "start_time": "2022-09-24T19:01:42.589Z"
   },
   {
    "duration": 169,
    "start_time": "2022-09-24T19:02:57.874Z"
   },
   {
    "duration": 1170,
    "start_time": "2022-09-24T19:12:48.506Z"
   },
   {
    "duration": 256,
    "start_time": "2022-09-24T19:15:10.156Z"
   },
   {
    "duration": 2,
    "start_time": "2022-09-24T19:34:12.856Z"
   },
   {
    "duration": 8,
    "start_time": "2022-09-24T19:36:50.802Z"
   },
   {
    "duration": 11,
    "start_time": "2022-09-24T19:39:29.252Z"
   },
   {
    "duration": 11,
    "start_time": "2022-09-24T19:39:29.402Z"
   },
   {
    "duration": 12,
    "start_time": "2022-09-24T19:39:29.797Z"
   },
   {
    "duration": 9,
    "start_time": "2022-09-24T19:41:57.174Z"
   },
   {
    "duration": 327,
    "start_time": "2022-09-24T19:43:51.549Z"
   },
   {
    "duration": 111,
    "start_time": "2022-09-24T19:44:42.139Z"
   },
   {
    "duration": 9,
    "start_time": "2022-09-24T19:44:51.895Z"
   },
   {
    "duration": 109,
    "start_time": "2022-09-24T19:45:39.156Z"
   },
   {
    "duration": 11,
    "start_time": "2022-09-24T19:45:46.018Z"
   },
   {
    "duration": 1180,
    "start_time": "2022-09-25T07:07:24.037Z"
   },
   {
    "duration": 124,
    "start_time": "2022-09-25T07:07:25.219Z"
   },
   {
    "duration": 4,
    "start_time": "2022-09-25T07:07:25.344Z"
   },
   {
    "duration": 15,
    "start_time": "2022-09-25T07:07:25.350Z"
   },
   {
    "duration": 13,
    "start_time": "2022-09-25T07:07:25.367Z"
   },
   {
    "duration": 13,
    "start_time": "2022-09-25T07:07:25.381Z"
   },
   {
    "duration": 96,
    "start_time": "2022-09-25T07:07:25.396Z"
   },
   {
    "duration": 18,
    "start_time": "2022-09-25T07:07:25.493Z"
   },
   {
    "duration": 62,
    "start_time": "2022-09-25T07:07:25.513Z"
   },
   {
    "duration": 23,
    "start_time": "2022-09-25T07:07:25.578Z"
   },
   {
    "duration": 12,
    "start_time": "2022-09-25T07:07:25.603Z"
   },
   {
    "duration": 25,
    "start_time": "2022-09-25T07:07:25.617Z"
   },
   {
    "duration": 4,
    "start_time": "2022-09-25T07:07:25.644Z"
   },
   {
    "duration": 6,
    "start_time": "2022-09-25T07:07:25.650Z"
   },
   {
    "duration": 7,
    "start_time": "2022-09-25T07:07:25.658Z"
   },
   {
    "duration": 252,
    "start_time": "2022-09-25T07:07:25.667Z"
   },
   {
    "duration": 14,
    "start_time": "2022-09-25T07:07:25.920Z"
   },
   {
    "duration": 10,
    "start_time": "2022-09-25T07:07:25.935Z"
   },
   {
    "duration": 8,
    "start_time": "2022-09-25T07:07:25.946Z"
   },
   {
    "duration": 135,
    "start_time": "2022-09-25T07:07:25.955Z"
   },
   {
    "duration": 321,
    "start_time": "2022-09-25T07:07:26.092Z"
   },
   {
    "duration": 226,
    "start_time": "2022-09-25T07:07:26.416Z"
   },
   {
    "duration": 333,
    "start_time": "2022-09-25T07:07:26.643Z"
   },
   {
    "duration": 285,
    "start_time": "2022-09-25T07:07:29.071Z"
   },
   {
    "duration": 137,
    "start_time": "2022-09-25T07:18:21.725Z"
   },
   {
    "duration": 194,
    "start_time": "2022-09-25T07:18:29.893Z"
   },
   {
    "duration": 202,
    "start_time": "2022-09-25T07:18:31.992Z"
   },
   {
    "duration": 300,
    "start_time": "2022-09-25T07:18:33.893Z"
   },
   {
    "duration": 10,
    "start_time": "2022-09-25T07:18:40.233Z"
   },
   {
    "duration": 10,
    "start_time": "2022-09-25T07:18:52.850Z"
   },
   {
    "duration": 129,
    "start_time": "2022-09-25T07:21:12.178Z"
   },
   {
    "duration": 13,
    "start_time": "2022-09-25T07:21:28.326Z"
   },
   {
    "duration": 13,
    "start_time": "2022-09-25T07:21:37.490Z"
   },
   {
    "duration": 118,
    "start_time": "2022-09-25T07:24:18.852Z"
   },
   {
    "duration": 185,
    "start_time": "2022-09-25T07:24:23.005Z"
   },
   {
    "duration": 249,
    "start_time": "2022-09-25T07:24:24.813Z"
   },
   {
    "duration": 294,
    "start_time": "2022-09-25T07:24:26.813Z"
   },
   {
    "duration": 8,
    "start_time": "2022-09-25T07:24:29.219Z"
   },
   {
    "duration": 9,
    "start_time": "2022-09-25T07:24:33.374Z"
   },
   {
    "duration": 9,
    "start_time": "2022-09-25T07:24:37.272Z"
   },
   {
    "duration": 8,
    "start_time": "2022-09-25T07:24:37.959Z"
   },
   {
    "duration": 10,
    "start_time": "2022-09-25T07:24:39.002Z"
   },
   {
    "duration": 896,
    "start_time": "2022-09-25T07:27:42.566Z"
   },
   {
    "duration": 179,
    "start_time": "2022-09-25T07:29:50.343Z"
   },
   {
    "duration": 186,
    "start_time": "2022-09-25T07:30:08.562Z"
   },
   {
    "duration": 170,
    "start_time": "2022-09-25T07:30:16.733Z"
   },
   {
    "duration": 20,
    "start_time": "2022-09-25T07:34:15.439Z"
   },
   {
    "duration": 189,
    "start_time": "2022-09-25T07:35:10.454Z"
   },
   {
    "duration": 274,
    "start_time": "2022-09-25T07:38:47.024Z"
   },
   {
    "duration": 206,
    "start_time": "2022-09-25T07:39:13.269Z"
   },
   {
    "duration": 196,
    "start_time": "2022-09-25T07:39:31.947Z"
   },
   {
    "duration": 260,
    "start_time": "2022-09-25T07:39:51.076Z"
   },
   {
    "duration": 230,
    "start_time": "2022-09-25T07:42:27.098Z"
   },
   {
    "duration": 1057,
    "start_time": "2022-09-25T10:38:10.724Z"
   },
   {
    "duration": 78,
    "start_time": "2022-09-25T10:38:11.783Z"
   },
   {
    "duration": 4,
    "start_time": "2022-09-25T10:38:11.863Z"
   },
   {
    "duration": 14,
    "start_time": "2022-09-25T10:38:11.869Z"
   },
   {
    "duration": 11,
    "start_time": "2022-09-25T10:38:11.884Z"
   },
   {
    "duration": 10,
    "start_time": "2022-09-25T10:38:11.897Z"
   },
   {
    "duration": 71,
    "start_time": "2022-09-25T10:38:11.909Z"
   },
   {
    "duration": 12,
    "start_time": "2022-09-25T10:38:11.982Z"
   },
   {
    "duration": 24,
    "start_time": "2022-09-25T10:38:11.996Z"
   },
   {
    "duration": 16,
    "start_time": "2022-09-25T10:38:12.022Z"
   },
   {
    "duration": 13,
    "start_time": "2022-09-25T10:38:12.040Z"
   },
   {
    "duration": 18,
    "start_time": "2022-09-25T10:38:12.054Z"
   },
   {
    "duration": 4,
    "start_time": "2022-09-25T10:38:12.073Z"
   },
   {
    "duration": 8,
    "start_time": "2022-09-25T10:38:12.079Z"
   },
   {
    "duration": 6,
    "start_time": "2022-09-25T10:38:12.089Z"
   },
   {
    "duration": 319,
    "start_time": "2022-09-25T10:38:12.096Z"
   },
   {
    "duration": 17,
    "start_time": "2022-09-25T10:38:12.417Z"
   },
   {
    "duration": 10,
    "start_time": "2022-09-25T10:38:12.435Z"
   },
   {
    "duration": 9,
    "start_time": "2022-09-25T10:38:12.447Z"
   },
   {
    "duration": 6,
    "start_time": "2022-09-25T10:38:12.457Z"
   },
   {
    "duration": 10,
    "start_time": "2022-09-25T10:38:12.465Z"
   },
   {
    "duration": 189,
    "start_time": "2022-09-25T10:38:12.476Z"
   },
   {
    "duration": 128,
    "start_time": "2022-09-25T10:38:12.666Z"
   },
   {
    "duration": 92,
    "start_time": "2022-09-25T10:38:12.796Z"
   },
   {
    "duration": 0,
    "start_time": "2022-09-25T10:38:12.889Z"
   },
   {
    "duration": 0,
    "start_time": "2022-09-25T10:38:12.891Z"
   },
   {
    "duration": 0,
    "start_time": "2022-09-25T10:38:12.892Z"
   },
   {
    "duration": 0,
    "start_time": "2022-09-25T10:38:12.893Z"
   },
   {
    "duration": 0,
    "start_time": "2022-09-25T10:38:12.894Z"
   },
   {
    "duration": 0,
    "start_time": "2022-09-25T10:38:12.895Z"
   },
   {
    "duration": 0,
    "start_time": "2022-09-25T10:38:12.897Z"
   },
   {
    "duration": 1038,
    "start_time": "2022-09-25T10:39:39.238Z"
   },
   {
    "duration": 82,
    "start_time": "2022-09-25T10:39:40.277Z"
   },
   {
    "duration": 5,
    "start_time": "2022-09-25T10:39:40.361Z"
   },
   {
    "duration": 18,
    "start_time": "2022-09-25T10:39:40.368Z"
   },
   {
    "duration": 10,
    "start_time": "2022-09-25T10:39:40.388Z"
   },
   {
    "duration": 35,
    "start_time": "2022-09-25T10:39:40.400Z"
   },
   {
    "duration": 50,
    "start_time": "2022-09-25T10:39:40.437Z"
   },
   {
    "duration": 14,
    "start_time": "2022-09-25T10:39:40.489Z"
   },
   {
    "duration": 24,
    "start_time": "2022-09-25T10:39:40.506Z"
   },
   {
    "duration": 16,
    "start_time": "2022-09-25T10:39:40.532Z"
   },
   {
    "duration": 19,
    "start_time": "2022-09-25T10:39:40.549Z"
   },
   {
    "duration": 25,
    "start_time": "2022-09-25T10:39:40.569Z"
   },
   {
    "duration": 11,
    "start_time": "2022-09-25T10:39:40.596Z"
   },
   {
    "duration": 7,
    "start_time": "2022-09-25T10:39:40.609Z"
   },
   {
    "duration": 7,
    "start_time": "2022-09-25T10:39:40.633Z"
   },
   {
    "duration": 274,
    "start_time": "2022-09-25T10:39:40.642Z"
   },
   {
    "duration": 16,
    "start_time": "2022-09-25T10:39:40.918Z"
   },
   {
    "duration": 19,
    "start_time": "2022-09-25T10:39:40.936Z"
   },
   {
    "duration": 19,
    "start_time": "2022-09-25T10:39:40.957Z"
   },
   {
    "duration": 7,
    "start_time": "2022-09-25T10:39:40.978Z"
   },
   {
    "duration": 14,
    "start_time": "2022-09-25T10:39:40.987Z"
   },
   {
    "duration": 281,
    "start_time": "2022-09-25T10:39:41.002Z"
   },
   {
    "duration": 132,
    "start_time": "2022-09-25T10:39:41.285Z"
   },
   {
    "duration": 478,
    "start_time": "2022-09-25T10:39:41.419Z"
   },
   {
    "duration": 272,
    "start_time": "2022-09-25T10:39:41.898Z"
   },
   {
    "duration": 183,
    "start_time": "2022-09-25T10:39:42.172Z"
   },
   {
    "duration": 291,
    "start_time": "2022-09-25T10:39:42.358Z"
   },
   {
    "duration": 202,
    "start_time": "2022-09-25T10:39:42.652Z"
   },
   {
    "duration": 306,
    "start_time": "2022-09-25T10:39:42.856Z"
   },
   {
    "duration": 149,
    "start_time": "2022-09-25T10:39:43.164Z"
   },
   {
    "duration": 124,
    "start_time": "2022-09-25T10:39:43.315Z"
   },
   {
    "duration": 5,
    "start_time": "2022-09-25T10:39:43.441Z"
   },
   {
    "duration": 104,
    "start_time": "2022-09-25T10:47:48.866Z"
   },
   {
    "duration": 6,
    "start_time": "2022-09-25T10:47:51.160Z"
   },
   {
    "duration": 160,
    "start_time": "2022-09-25T10:48:25.605Z"
   },
   {
    "duration": 121,
    "start_time": "2022-09-25T10:49:44.833Z"
   },
   {
    "duration": 158,
    "start_time": "2022-09-25T10:50:38.134Z"
   },
   {
    "duration": 166,
    "start_time": "2022-09-25T10:50:42.047Z"
   },
   {
    "duration": 110,
    "start_time": "2022-09-25T10:50:47.190Z"
   },
   {
    "duration": 137,
    "start_time": "2022-09-25T10:50:51.387Z"
   },
   {
    "duration": 347,
    "start_time": "2022-09-25T10:50:55.812Z"
   },
   {
    "duration": 210,
    "start_time": "2022-09-25T10:51:05.437Z"
   },
   {
    "duration": 262,
    "start_time": "2022-09-25T10:51:11.107Z"
   },
   {
    "duration": 628,
    "start_time": "2022-09-25T10:51:21.259Z"
   },
   {
    "duration": 172,
    "start_time": "2022-09-25T10:51:29.648Z"
   },
   {
    "duration": 259,
    "start_time": "2022-09-25T10:52:11.475Z"
   },
   {
    "duration": 115,
    "start_time": "2022-09-25T10:52:43.910Z"
   },
   {
    "duration": 246,
    "start_time": "2022-09-25T10:53:08.970Z"
   },
   {
    "duration": 4,
    "start_time": "2022-09-25T10:54:23.776Z"
   },
   {
    "duration": 113,
    "start_time": "2022-09-25T11:04:59.250Z"
   },
   {
    "duration": 47,
    "start_time": "2022-09-25T11:05:09.918Z"
   },
   {
    "duration": 133,
    "start_time": "2022-09-25T11:09:54.157Z"
   },
   {
    "duration": 214,
    "start_time": "2022-09-25T11:14:05.602Z"
   },
   {
    "duration": 130,
    "start_time": "2022-09-25T11:15:37.619Z"
   },
   {
    "duration": 161,
    "start_time": "2022-09-25T11:15:44.242Z"
   },
   {
    "duration": 37,
    "start_time": "2022-09-25T11:19:34.573Z"
   },
   {
    "duration": 48,
    "start_time": "2022-09-25T11:19:40.258Z"
   },
   {
    "duration": 11,
    "start_time": "2022-09-25T11:21:06.336Z"
   },
   {
    "duration": 10,
    "start_time": "2022-09-25T11:21:18.631Z"
   },
   {
    "duration": 13,
    "start_time": "2022-09-25T11:21:49.956Z"
   },
   {
    "duration": 11,
    "start_time": "2022-09-25T11:21:54.901Z"
   },
   {
    "duration": 823,
    "start_time": "2022-09-25T11:24:15.157Z"
   },
   {
    "duration": 10,
    "start_time": "2022-09-25T11:24:36.903Z"
   },
   {
    "duration": 749,
    "start_time": "2022-09-25T11:25:39.808Z"
   },
   {
    "duration": 10,
    "start_time": "2022-09-25T11:26:50.545Z"
   },
   {
    "duration": 8,
    "start_time": "2022-09-25T11:27:08.656Z"
   },
   {
    "duration": 8,
    "start_time": "2022-09-25T11:27:22.122Z"
   },
   {
    "duration": 24,
    "start_time": "2022-09-25T11:27:27.552Z"
   },
   {
    "duration": 14,
    "start_time": "2022-09-25T11:30:06.687Z"
   },
   {
    "duration": 66,
    "start_time": "2022-09-25T11:46:01.013Z"
   },
   {
    "duration": 118,
    "start_time": "2022-09-25T11:46:17.490Z"
   },
   {
    "duration": 162,
    "start_time": "2022-09-25T11:48:48.187Z"
   },
   {
    "duration": 132,
    "start_time": "2022-09-25T11:48:57.217Z"
   },
   {
    "duration": 8,
    "start_time": "2022-09-25T11:49:01.472Z"
   },
   {
    "duration": 208,
    "start_time": "2022-09-25T11:51:50.259Z"
   },
   {
    "duration": 7,
    "start_time": "2022-09-25T11:52:33.158Z"
   },
   {
    "duration": 267,
    "start_time": "2022-09-25T11:52:34.762Z"
   },
   {
    "duration": 319,
    "start_time": "2022-09-25T11:52:58.964Z"
   },
   {
    "duration": 220,
    "start_time": "2022-09-25T11:53:29.772Z"
   },
   {
    "duration": 199,
    "start_time": "2022-09-25T11:53:43.006Z"
   },
   {
    "duration": 196,
    "start_time": "2022-09-25T11:56:01.903Z"
   },
   {
    "duration": 190,
    "start_time": "2022-09-25T11:56:34.799Z"
   },
   {
    "duration": 330,
    "start_time": "2022-09-25T12:05:27.516Z"
   },
   {
    "duration": 359,
    "start_time": "2022-09-25T12:05:52.021Z"
   },
   {
    "duration": 307,
    "start_time": "2022-09-25T12:06:02.360Z"
   },
   {
    "duration": 403,
    "start_time": "2022-09-25T12:06:14.156Z"
   },
   {
    "duration": 336,
    "start_time": "2022-09-25T12:06:34.632Z"
   },
   {
    "duration": 336,
    "start_time": "2022-09-25T12:06:52.610Z"
   },
   {
    "duration": 296,
    "start_time": "2022-09-25T12:07:05.806Z"
   },
   {
    "duration": 208,
    "start_time": "2022-09-25T12:09:37.723Z"
   },
   {
    "duration": 212,
    "start_time": "2022-09-25T12:09:47.246Z"
   },
   {
    "duration": 241,
    "start_time": "2022-09-25T12:09:56.577Z"
   },
   {
    "duration": 296,
    "start_time": "2022-09-25T12:19:55.902Z"
   },
   {
    "duration": 242,
    "start_time": "2022-09-25T12:21:42.059Z"
   },
   {
    "duration": 344,
    "start_time": "2022-09-25T12:22:45.959Z"
   },
   {
    "duration": 318,
    "start_time": "2022-09-25T12:22:55.545Z"
   },
   {
    "duration": 371,
    "start_time": "2022-09-25T12:24:17.504Z"
   },
   {
    "duration": 404,
    "start_time": "2022-09-25T12:24:34.656Z"
   },
   {
    "duration": 64,
    "start_time": "2022-09-25T12:29:44.158Z"
   },
   {
    "duration": 9,
    "start_time": "2022-09-25T12:35:36.262Z"
   },
   {
    "duration": 145,
    "start_time": "2022-09-25T12:36:43.652Z"
   },
   {
    "duration": 129,
    "start_time": "2022-09-25T12:37:44.973Z"
   },
   {
    "duration": 125,
    "start_time": "2022-09-25T12:37:56.928Z"
   },
   {
    "duration": 9,
    "start_time": "2022-09-25T12:38:12.364Z"
   },
   {
    "duration": 125,
    "start_time": "2022-09-25T12:38:13.726Z"
   },
   {
    "duration": 120,
    "start_time": "2022-09-25T12:38:22.701Z"
   },
   {
    "duration": 128,
    "start_time": "2022-09-25T12:38:34.521Z"
   },
   {
    "duration": 127,
    "start_time": "2022-09-25T12:38:39.399Z"
   },
   {
    "duration": 118,
    "start_time": "2022-09-25T12:40:01.076Z"
   },
   {
    "duration": 124,
    "start_time": "2022-09-25T12:40:18.995Z"
   },
   {
    "duration": 8,
    "start_time": "2022-09-25T12:49:22.011Z"
   },
   {
    "duration": 169,
    "start_time": "2022-09-25T12:49:37.341Z"
   },
   {
    "duration": 174,
    "start_time": "2022-09-25T12:49:42.498Z"
   },
   {
    "duration": 267,
    "start_time": "2022-09-25T12:49:48.693Z"
   },
   {
    "duration": 261,
    "start_time": "2022-09-25T12:50:49.192Z"
   },
   {
    "duration": 216,
    "start_time": "2022-09-25T12:50:53.544Z"
   },
   {
    "duration": 4,
    "start_time": "2022-09-25T12:51:12.035Z"
   },
   {
    "duration": 15,
    "start_time": "2022-09-25T12:52:13.698Z"
   },
   {
    "duration": 6,
    "start_time": "2022-09-25T12:53:01.305Z"
   },
   {
    "duration": 229,
    "start_time": "2022-09-25T12:53:19.388Z"
   },
   {
    "duration": 235,
    "start_time": "2022-09-25T12:53:23.548Z"
   },
   {
    "duration": 190,
    "start_time": "2022-09-25T12:53:35.769Z"
   },
   {
    "duration": 347,
    "start_time": "2022-09-25T12:53:43.095Z"
   },
   {
    "duration": 223,
    "start_time": "2022-09-25T12:53:47.674Z"
   },
   {
    "duration": 218,
    "start_time": "2022-09-25T12:53:52.041Z"
   },
   {
    "duration": 218,
    "start_time": "2022-09-25T12:53:55.743Z"
   },
   {
    "duration": 208,
    "start_time": "2022-09-25T12:54:04.416Z"
   },
   {
    "duration": 209,
    "start_time": "2022-09-25T12:54:12.607Z"
   },
   {
    "duration": 317,
    "start_time": "2022-09-25T12:54:18.965Z"
   },
   {
    "duration": 214,
    "start_time": "2022-09-25T12:54:24.349Z"
   },
   {
    "duration": 214,
    "start_time": "2022-09-25T12:54:38.945Z"
   },
   {
    "duration": 143,
    "start_time": "2022-09-25T12:55:20.202Z"
   },
   {
    "duration": 127,
    "start_time": "2022-09-25T12:55:44.659Z"
   },
   {
    "duration": 142,
    "start_time": "2022-09-25T12:55:50.977Z"
   },
   {
    "duration": 126,
    "start_time": "2022-09-25T12:55:58.747Z"
   },
   {
    "duration": 140,
    "start_time": "2022-09-25T12:56:48.872Z"
   },
   {
    "duration": 252,
    "start_time": "2022-09-25T12:56:58.172Z"
   },
   {
    "duration": 138,
    "start_time": "2022-09-25T12:57:04.924Z"
   },
   {
    "duration": 165,
    "start_time": "2022-09-25T13:10:41.454Z"
   },
   {
    "duration": 23,
    "start_time": "2022-09-25T13:19:18.575Z"
   },
   {
    "duration": 22,
    "start_time": "2022-09-25T13:19:20.290Z"
   },
   {
    "duration": 23,
    "start_time": "2022-09-25T13:19:52.228Z"
   },
   {
    "duration": 25,
    "start_time": "2022-09-25T13:20:05.075Z"
   },
   {
    "duration": 24,
    "start_time": "2022-09-25T13:20:13.185Z"
   },
   {
    "duration": 23,
    "start_time": "2022-09-25T13:21:44.284Z"
   },
   {
    "duration": 11,
    "start_time": "2022-09-25T13:26:21.375Z"
   },
   {
    "duration": 12,
    "start_time": "2022-09-25T13:26:26.744Z"
   },
   {
    "duration": 11,
    "start_time": "2022-09-25T13:27:29.281Z"
   },
   {
    "duration": 12,
    "start_time": "2022-09-25T13:29:04.840Z"
   },
   {
    "duration": 757,
    "start_time": "2022-09-25T13:34:56.106Z"
   },
   {
    "duration": 46,
    "start_time": "2022-09-25T13:38:28.614Z"
   },
   {
    "duration": 1029,
    "start_time": "2022-09-25T13:38:36.417Z"
   },
   {
    "duration": 81,
    "start_time": "2022-09-25T13:38:37.448Z"
   },
   {
    "duration": 5,
    "start_time": "2022-09-25T13:38:37.531Z"
   },
   {
    "duration": 15,
    "start_time": "2022-09-25T13:38:37.538Z"
   },
   {
    "duration": 10,
    "start_time": "2022-09-25T13:38:37.556Z"
   },
   {
    "duration": 12,
    "start_time": "2022-09-25T13:38:37.568Z"
   },
   {
    "duration": 48,
    "start_time": "2022-09-25T13:38:37.581Z"
   },
   {
    "duration": 11,
    "start_time": "2022-09-25T13:38:37.631Z"
   },
   {
    "duration": 33,
    "start_time": "2022-09-25T13:38:37.643Z"
   },
   {
    "duration": 17,
    "start_time": "2022-09-25T13:38:37.678Z"
   },
   {
    "duration": 12,
    "start_time": "2022-09-25T13:38:37.696Z"
   },
   {
    "duration": 22,
    "start_time": "2022-09-25T13:38:37.710Z"
   },
   {
    "duration": 4,
    "start_time": "2022-09-25T13:38:37.733Z"
   },
   {
    "duration": 9,
    "start_time": "2022-09-25T13:38:37.739Z"
   },
   {
    "duration": 14,
    "start_time": "2022-09-25T13:38:37.749Z"
   },
   {
    "duration": 228,
    "start_time": "2022-09-25T13:38:37.764Z"
   },
   {
    "duration": 8,
    "start_time": "2022-09-25T13:38:37.993Z"
   },
   {
    "duration": 10,
    "start_time": "2022-09-25T13:38:38.003Z"
   },
   {
    "duration": 25,
    "start_time": "2022-09-25T13:38:38.014Z"
   },
   {
    "duration": 15,
    "start_time": "2022-09-25T13:38:38.041Z"
   },
   {
    "duration": 170,
    "start_time": "2022-09-25T13:38:38.058Z"
   },
   {
    "duration": 120,
    "start_time": "2022-09-25T13:38:38.229Z"
   },
   {
    "duration": 8,
    "start_time": "2022-09-25T13:38:38.351Z"
   },
   {
    "duration": 8,
    "start_time": "2022-09-25T13:38:38.361Z"
   },
   {
    "duration": 258,
    "start_time": "2022-09-25T13:38:38.370Z"
   },
   {
    "duration": 192,
    "start_time": "2022-09-25T13:38:38.633Z"
   },
   {
    "duration": 286,
    "start_time": "2022-09-25T13:38:38.833Z"
   },
   {
    "duration": 220,
    "start_time": "2022-09-25T13:38:39.122Z"
   },
   {
    "duration": 302,
    "start_time": "2022-09-25T13:38:39.344Z"
   },
   {
    "duration": 9,
    "start_time": "2022-09-25T13:38:39.648Z"
   },
   {
    "duration": 143,
    "start_time": "2022-09-25T13:38:39.659Z"
   },
   {
    "duration": 122,
    "start_time": "2022-09-25T13:38:39.804Z"
   },
   {
    "duration": 4,
    "start_time": "2022-09-25T13:38:39.933Z"
   },
   {
    "duration": 306,
    "start_time": "2022-09-25T13:38:39.939Z"
   },
   {
    "duration": 113,
    "start_time": "2022-09-25T13:38:40.247Z"
   },
   {
    "duration": 127,
    "start_time": "2022-09-25T13:38:40.362Z"
   },
   {
    "duration": 4,
    "start_time": "2022-09-25T13:38:40.490Z"
   },
   {
    "duration": 223,
    "start_time": "2022-09-25T13:38:40.496Z"
   },
   {
    "duration": 149,
    "start_time": "2022-09-25T13:38:40.721Z"
   },
   {
    "duration": 26,
    "start_time": "2022-09-25T13:38:40.872Z"
   },
   {
    "duration": 11,
    "start_time": "2022-09-25T13:38:40.899Z"
   },
   {
    "duration": 801,
    "start_time": "2022-09-25T13:38:46.974Z"
   },
   {
    "duration": 7,
    "start_time": "2022-09-25T13:39:12.023Z"
   },
   {
    "duration": 7,
    "start_time": "2022-09-25T13:40:03.422Z"
   },
   {
    "duration": 7,
    "start_time": "2022-09-25T13:40:16.697Z"
   },
   {
    "duration": 9,
    "start_time": "2022-09-25T13:41:00.492Z"
   },
   {
    "duration": 706,
    "start_time": "2022-09-25T13:42:39.573Z"
   },
   {
    "duration": 8,
    "start_time": "2022-09-25T13:43:31.867Z"
   },
   {
    "duration": 12,
    "start_time": "2022-09-25T13:44:00.088Z"
   },
   {
    "duration": 8,
    "start_time": "2022-09-25T13:44:14.865Z"
   },
   {
    "duration": 8,
    "start_time": "2022-09-25T13:44:24.332Z"
   },
   {
    "duration": 12,
    "start_time": "2022-09-25T13:45:10.715Z"
   },
   {
    "duration": 909,
    "start_time": "2022-09-25T13:48:12.202Z"
   },
   {
    "duration": 732,
    "start_time": "2022-09-25T13:48:54.177Z"
   },
   {
    "duration": 8,
    "start_time": "2022-09-25T13:49:17.874Z"
   },
   {
    "duration": 21,
    "start_time": "2022-09-25T13:49:20.543Z"
   },
   {
    "duration": 10,
    "start_time": "2022-09-25T13:50:08.395Z"
   },
   {
    "duration": 42,
    "start_time": "2022-09-25T13:50:18.794Z"
   },
   {
    "duration": 24,
    "start_time": "2022-09-25T13:54:46.770Z"
   },
   {
    "duration": 14,
    "start_time": "2022-09-25T13:58:52.436Z"
   },
   {
    "duration": 15,
    "start_time": "2022-09-25T13:59:51.621Z"
   },
   {
    "duration": 13,
    "start_time": "2022-09-25T14:00:01.090Z"
   },
   {
    "duration": 13,
    "start_time": "2022-09-25T14:02:24.872Z"
   },
   {
    "duration": 1048,
    "start_time": "2022-09-25T14:02:39.859Z"
   },
   {
    "duration": 82,
    "start_time": "2022-09-25T14:02:40.909Z"
   },
   {
    "duration": 4,
    "start_time": "2022-09-25T14:02:40.993Z"
   },
   {
    "duration": 14,
    "start_time": "2022-09-25T14:02:40.999Z"
   },
   {
    "duration": 24,
    "start_time": "2022-09-25T14:02:41.014Z"
   },
   {
    "duration": 14,
    "start_time": "2022-09-25T14:02:41.040Z"
   },
   {
    "duration": 44,
    "start_time": "2022-09-25T14:02:41.056Z"
   },
   {
    "duration": 12,
    "start_time": "2022-09-25T14:02:41.103Z"
   },
   {
    "duration": 24,
    "start_time": "2022-09-25T14:02:41.117Z"
   },
   {
    "duration": 16,
    "start_time": "2022-09-25T14:02:41.145Z"
   },
   {
    "duration": 15,
    "start_time": "2022-09-25T14:02:41.162Z"
   },
   {
    "duration": 18,
    "start_time": "2022-09-25T14:02:41.178Z"
   },
   {
    "duration": 4,
    "start_time": "2022-09-25T14:02:41.198Z"
   },
   {
    "duration": 31,
    "start_time": "2022-09-25T14:02:41.203Z"
   },
   {
    "duration": 6,
    "start_time": "2022-09-25T14:02:41.236Z"
   },
   {
    "duration": 242,
    "start_time": "2022-09-25T14:02:41.243Z"
   },
   {
    "duration": 8,
    "start_time": "2022-09-25T14:02:41.487Z"
   },
   {
    "duration": 17,
    "start_time": "2022-09-25T14:02:41.497Z"
   },
   {
    "duration": 22,
    "start_time": "2022-09-25T14:02:41.516Z"
   },
   {
    "duration": 20,
    "start_time": "2022-09-25T14:02:41.539Z"
   },
   {
    "duration": 199,
    "start_time": "2022-09-25T14:02:41.561Z"
   },
   {
    "duration": 150,
    "start_time": "2022-09-25T14:02:41.762Z"
   },
   {
    "duration": 9,
    "start_time": "2022-09-25T14:02:41.914Z"
   },
   {
    "duration": 15,
    "start_time": "2022-09-25T14:02:41.924Z"
   },
   {
    "duration": 254,
    "start_time": "2022-09-25T14:02:41.941Z"
   },
   {
    "duration": 200,
    "start_time": "2022-09-25T14:02:42.197Z"
   },
   {
    "duration": 310,
    "start_time": "2022-09-25T14:02:42.398Z"
   },
   {
    "duration": 213,
    "start_time": "2022-09-25T14:02:42.711Z"
   },
   {
    "duration": 318,
    "start_time": "2022-09-25T14:02:42.926Z"
   },
   {
    "duration": 10,
    "start_time": "2022-09-25T14:02:43.245Z"
   },
   {
    "duration": 133,
    "start_time": "2022-09-25T14:02:43.256Z"
   },
   {
    "duration": 127,
    "start_time": "2022-09-25T14:02:43.391Z"
   },
   {
    "duration": 13,
    "start_time": "2022-09-25T14:02:43.520Z"
   },
   {
    "duration": 289,
    "start_time": "2022-09-25T14:02:43.535Z"
   },
   {
    "duration": 131,
    "start_time": "2022-09-25T14:02:43.826Z"
   },
   {
    "duration": 132,
    "start_time": "2022-09-25T14:02:43.959Z"
   },
   {
    "duration": 5,
    "start_time": "2022-09-25T14:02:44.093Z"
   },
   {
    "duration": 242,
    "start_time": "2022-09-25T14:02:44.100Z"
   },
   {
    "duration": 149,
    "start_time": "2022-09-25T14:02:44.343Z"
   },
   {
    "duration": 22,
    "start_time": "2022-09-25T14:02:44.494Z"
   },
   {
    "duration": 23,
    "start_time": "2022-09-25T14:02:44.517Z"
   },
   {
    "duration": 10,
    "start_time": "2022-09-25T14:02:44.541Z"
   },
   {
    "duration": 13,
    "start_time": "2022-09-25T14:02:44.553Z"
   },
   {
    "duration": 24,
    "start_time": "2022-09-25T14:02:44.567Z"
   },
   {
    "duration": 13,
    "start_time": "2022-09-25T14:02:48.308Z"
   },
   {
    "duration": 13,
    "start_time": "2022-09-25T14:06:57.433Z"
   },
   {
    "duration": 1118,
    "start_time": "2022-09-25T14:16:27.410Z"
   },
   {
    "duration": 91,
    "start_time": "2022-09-25T14:16:28.530Z"
   },
   {
    "duration": 5,
    "start_time": "2022-09-25T14:16:28.623Z"
   },
   {
    "duration": 21,
    "start_time": "2022-09-25T14:16:28.629Z"
   },
   {
    "duration": 14,
    "start_time": "2022-09-25T14:16:28.652Z"
   },
   {
    "duration": 17,
    "start_time": "2022-09-25T14:16:28.667Z"
   },
   {
    "duration": 46,
    "start_time": "2022-09-25T14:16:28.685Z"
   },
   {
    "duration": 15,
    "start_time": "2022-09-25T14:16:28.733Z"
   },
   {
    "duration": 26,
    "start_time": "2022-09-25T14:16:28.749Z"
   },
   {
    "duration": 17,
    "start_time": "2022-09-25T14:16:28.778Z"
   },
   {
    "duration": 14,
    "start_time": "2022-09-25T14:16:28.797Z"
   },
   {
    "duration": 30,
    "start_time": "2022-09-25T14:16:28.812Z"
   },
   {
    "duration": 5,
    "start_time": "2022-09-25T14:16:28.843Z"
   },
   {
    "duration": 15,
    "start_time": "2022-09-25T14:16:28.849Z"
   },
   {
    "duration": 170,
    "start_time": "2022-09-25T14:16:28.865Z"
   },
   {
    "duration": 120,
    "start_time": "2022-09-25T14:16:29.037Z"
   },
   {
    "duration": 12,
    "start_time": "2022-09-25T14:16:29.159Z"
   },
   {
    "duration": 8,
    "start_time": "2022-09-25T14:16:29.175Z"
   },
   {
    "duration": 290,
    "start_time": "2022-09-25T14:16:29.184Z"
   },
   {
    "duration": 209,
    "start_time": "2022-09-25T14:16:29.476Z"
   },
   {
    "duration": 347,
    "start_time": "2022-09-25T14:16:29.687Z"
   },
   {
    "duration": 237,
    "start_time": "2022-09-25T14:16:30.035Z"
   },
   {
    "duration": 286,
    "start_time": "2022-09-25T14:16:30.274Z"
   },
   {
    "duration": 8,
    "start_time": "2022-09-25T14:16:30.561Z"
   },
   {
    "duration": 124,
    "start_time": "2022-09-25T14:16:30.571Z"
   },
   {
    "duration": 141,
    "start_time": "2022-09-25T14:16:30.697Z"
   },
   {
    "duration": 5,
    "start_time": "2022-09-25T14:16:30.840Z"
   },
   {
    "duration": 234,
    "start_time": "2022-09-25T14:16:30.848Z"
   },
   {
    "duration": 213,
    "start_time": "2022-09-25T14:16:31.084Z"
   },
   {
    "duration": 136,
    "start_time": "2022-09-25T14:16:31.299Z"
   },
   {
    "duration": 5,
    "start_time": "2022-09-25T14:16:31.437Z"
   },
   {
    "duration": 219,
    "start_time": "2022-09-25T14:16:31.443Z"
   },
   {
    "duration": 177,
    "start_time": "2022-09-25T14:16:31.663Z"
   },
   {
    "duration": 24,
    "start_time": "2022-09-25T14:16:31.842Z"
   },
   {
    "duration": 10,
    "start_time": "2022-09-25T14:16:31.868Z"
   },
   {
    "duration": 14,
    "start_time": "2022-09-25T14:16:31.880Z"
   },
   {
    "duration": 10,
    "start_time": "2022-09-25T14:16:31.896Z"
   },
   {
    "duration": 46,
    "start_time": "2022-09-25T14:16:31.907Z"
   },
   {
    "duration": 13,
    "start_time": "2022-09-25T14:16:31.954Z"
   },
   {
    "duration": 982,
    "start_time": "2022-09-25T19:34:53.454Z"
   },
   {
    "duration": 81,
    "start_time": "2022-09-25T19:34:54.438Z"
   },
   {
    "duration": 5,
    "start_time": "2022-09-25T19:34:54.521Z"
   },
   {
    "duration": 13,
    "start_time": "2022-09-25T19:34:54.528Z"
   },
   {
    "duration": 16,
    "start_time": "2022-09-25T19:34:54.543Z"
   },
   {
    "duration": 20,
    "start_time": "2022-09-25T19:34:54.561Z"
   },
   {
    "duration": 45,
    "start_time": "2022-09-25T19:34:54.583Z"
   },
   {
    "duration": 12,
    "start_time": "2022-09-25T19:34:54.630Z"
   },
   {
    "duration": 21,
    "start_time": "2022-09-25T19:34:54.643Z"
   },
   {
    "duration": 16,
    "start_time": "2022-09-25T19:34:54.667Z"
   },
   {
    "duration": 18,
    "start_time": "2022-09-25T19:34:54.685Z"
   },
   {
    "duration": 24,
    "start_time": "2022-09-25T19:34:54.705Z"
   },
   {
    "duration": 5,
    "start_time": "2022-09-25T19:34:54.732Z"
   },
   {
    "duration": 15,
    "start_time": "2022-09-25T19:34:54.739Z"
   },
   {
    "duration": 164,
    "start_time": "2022-09-25T19:34:54.756Z"
   },
   {
    "duration": 120,
    "start_time": "2022-09-25T19:34:54.922Z"
   },
   {
    "duration": 8,
    "start_time": "2022-09-25T19:34:55.043Z"
   },
   {
    "duration": 11,
    "start_time": "2022-09-25T19:34:55.053Z"
   },
   {
    "duration": 270,
    "start_time": "2022-09-25T19:34:55.066Z"
   },
   {
    "duration": 196,
    "start_time": "2022-09-25T19:34:55.338Z"
   },
   {
    "duration": 299,
    "start_time": "2022-09-25T19:34:55.536Z"
   },
   {
    "duration": 219,
    "start_time": "2022-09-25T19:34:55.836Z"
   },
   {
    "duration": 376,
    "start_time": "2022-09-25T19:34:56.056Z"
   },
   {
    "duration": 12,
    "start_time": "2022-09-25T19:34:56.434Z"
   },
   {
    "duration": 153,
    "start_time": "2022-09-25T19:34:56.448Z"
   },
   {
    "duration": 129,
    "start_time": "2022-09-25T19:34:56.603Z"
   },
   {
    "duration": 6,
    "start_time": "2022-09-25T19:34:56.733Z"
   },
   {
    "duration": 224,
    "start_time": "2022-09-25T19:34:56.742Z"
   },
   {
    "duration": 184,
    "start_time": "2022-09-25T19:34:56.968Z"
   },
   {
    "duration": 133,
    "start_time": "2022-09-25T19:34:57.153Z"
   },
   {
    "duration": 4,
    "start_time": "2022-09-25T19:34:57.287Z"
   },
   {
    "duration": 210,
    "start_time": "2022-09-25T19:34:57.292Z"
   },
   {
    "duration": 144,
    "start_time": "2022-09-25T19:34:57.503Z"
   },
   {
    "duration": 23,
    "start_time": "2022-09-25T19:34:57.648Z"
   },
   {
    "duration": 10,
    "start_time": "2022-09-25T19:34:57.673Z"
   },
   {
    "duration": 14,
    "start_time": "2022-09-25T19:34:57.684Z"
   },
   {
    "duration": 7,
    "start_time": "2022-09-25T19:34:57.699Z"
   },
   {
    "duration": 45,
    "start_time": "2022-09-25T19:34:57.708Z"
   },
   {
    "duration": 12,
    "start_time": "2022-09-25T19:34:57.755Z"
   },
   {
    "duration": 1055,
    "start_time": "2022-09-25T20:30:22.516Z"
   },
   {
    "duration": 88,
    "start_time": "2022-09-25T20:30:23.572Z"
   },
   {
    "duration": 4,
    "start_time": "2022-09-25T20:30:23.662Z"
   },
   {
    "duration": 18,
    "start_time": "2022-09-25T20:30:23.668Z"
   },
   {
    "duration": 15,
    "start_time": "2022-09-25T20:30:23.688Z"
   },
   {
    "duration": 14,
    "start_time": "2022-09-25T20:30:23.705Z"
   },
   {
    "duration": 45,
    "start_time": "2022-09-25T20:30:23.720Z"
   },
   {
    "duration": 12,
    "start_time": "2022-09-25T20:30:23.767Z"
   },
   {
    "duration": 25,
    "start_time": "2022-09-25T20:30:23.780Z"
   },
   {
    "duration": 15,
    "start_time": "2022-09-25T20:30:23.807Z"
   },
   {
    "duration": 12,
    "start_time": "2022-09-25T20:30:23.823Z"
   },
   {
    "duration": 16,
    "start_time": "2022-09-25T20:30:23.837Z"
   },
   {
    "duration": 4,
    "start_time": "2022-09-25T20:30:23.855Z"
   },
   {
    "duration": 10,
    "start_time": "2022-09-25T20:30:23.861Z"
   },
   {
    "duration": 174,
    "start_time": "2022-09-25T20:30:23.873Z"
   },
   {
    "duration": 121,
    "start_time": "2022-09-25T20:30:24.048Z"
   },
   {
    "duration": 10,
    "start_time": "2022-09-25T20:30:24.171Z"
   },
   {
    "duration": 11,
    "start_time": "2022-09-25T20:30:24.183Z"
   },
   {
    "duration": 272,
    "start_time": "2022-09-25T20:30:24.196Z"
   },
   {
    "duration": 195,
    "start_time": "2022-09-25T20:30:24.469Z"
   },
   {
    "duration": 275,
    "start_time": "2022-09-25T20:30:24.665Z"
   },
   {
    "duration": 225,
    "start_time": "2022-09-25T20:30:24.941Z"
   },
   {
    "duration": 300,
    "start_time": "2022-09-25T20:30:25.169Z"
   },
   {
    "duration": 9,
    "start_time": "2022-09-25T20:30:25.470Z"
   },
   {
    "duration": 137,
    "start_time": "2022-09-25T20:30:25.481Z"
   },
   {
    "duration": 139,
    "start_time": "2022-09-25T20:30:25.620Z"
   },
   {
    "duration": 5,
    "start_time": "2022-09-25T20:30:25.760Z"
   },
   {
    "duration": 209,
    "start_time": "2022-09-25T20:30:25.768Z"
   },
   {
    "duration": 203,
    "start_time": "2022-09-25T20:30:25.979Z"
   },
   {
    "duration": 165,
    "start_time": "2022-09-25T20:30:26.184Z"
   },
   {
    "duration": 5,
    "start_time": "2022-09-25T20:30:26.350Z"
   },
   {
    "duration": 239,
    "start_time": "2022-09-25T20:30:26.357Z"
   },
   {
    "duration": 124,
    "start_time": "2022-09-25T20:30:26.598Z"
   },
   {
    "duration": 30,
    "start_time": "2022-09-25T20:30:26.724Z"
   },
   {
    "duration": 12,
    "start_time": "2022-09-25T20:30:26.756Z"
   },
   {
    "duration": 9,
    "start_time": "2022-09-25T20:30:26.769Z"
   },
   {
    "duration": 12,
    "start_time": "2022-09-25T20:30:26.780Z"
   },
   {
    "duration": 48,
    "start_time": "2022-09-25T20:30:26.793Z"
   },
   {
    "duration": 13,
    "start_time": "2022-09-25T20:30:26.842Z"
   },
   {
    "duration": 1076,
    "start_time": "2022-09-25T23:31:22.559Z"
   },
   {
    "duration": 85,
    "start_time": "2022-09-25T23:31:23.638Z"
   },
   {
    "duration": 5,
    "start_time": "2022-09-25T23:31:23.724Z"
   },
   {
    "duration": 22,
    "start_time": "2022-09-25T23:31:23.730Z"
   },
   {
    "duration": 14,
    "start_time": "2022-09-25T23:31:23.755Z"
   },
   {
    "duration": 9,
    "start_time": "2022-09-25T23:31:23.771Z"
   },
   {
    "duration": 44,
    "start_time": "2022-09-25T23:31:23.782Z"
   },
   {
    "duration": 12,
    "start_time": "2022-09-25T23:31:23.828Z"
   },
   {
    "duration": 21,
    "start_time": "2022-09-25T23:31:23.842Z"
   },
   {
    "duration": 21,
    "start_time": "2022-09-25T23:31:23.865Z"
   },
   {
    "duration": 23,
    "start_time": "2022-09-25T23:31:23.887Z"
   },
   {
    "duration": 19,
    "start_time": "2022-09-25T23:31:23.912Z"
   },
   {
    "duration": 8,
    "start_time": "2022-09-25T23:31:23.933Z"
   },
   {
    "duration": 11,
    "start_time": "2022-09-25T23:31:23.945Z"
   },
   {
    "duration": 174,
    "start_time": "2022-09-25T23:31:23.958Z"
   },
   {
    "duration": 121,
    "start_time": "2022-09-25T23:31:24.134Z"
   },
   {
    "duration": 8,
    "start_time": "2022-09-25T23:31:24.257Z"
   },
   {
    "duration": 10,
    "start_time": "2022-09-25T23:31:24.267Z"
   },
   {
    "duration": 339,
    "start_time": "2022-09-25T23:31:24.279Z"
   },
   {
    "duration": 207,
    "start_time": "2022-09-25T23:31:24.620Z"
   },
   {
    "duration": 280,
    "start_time": "2022-09-25T23:31:24.829Z"
   },
   {
    "duration": 225,
    "start_time": "2022-09-25T23:31:25.111Z"
   },
   {
    "duration": 310,
    "start_time": "2022-09-25T23:31:25.338Z"
   },
   {
    "duration": 11,
    "start_time": "2022-09-25T23:31:25.649Z"
   },
   {
    "duration": 150,
    "start_time": "2022-09-25T23:31:25.662Z"
   },
   {
    "duration": 128,
    "start_time": "2022-09-25T23:31:25.813Z"
   },
   {
    "duration": 6,
    "start_time": "2022-09-25T23:31:25.942Z"
   },
   {
    "duration": 273,
    "start_time": "2022-09-25T23:31:25.950Z"
   },
   {
    "duration": 189,
    "start_time": "2022-09-25T23:31:26.225Z"
   },
   {
    "duration": 143,
    "start_time": "2022-09-25T23:31:26.416Z"
   },
   {
    "duration": 5,
    "start_time": "2022-09-25T23:31:26.561Z"
   },
   {
    "duration": 262,
    "start_time": "2022-09-25T23:31:26.568Z"
   },
   {
    "duration": 146,
    "start_time": "2022-09-25T23:31:26.832Z"
   },
   {
    "duration": 31,
    "start_time": "2022-09-25T23:31:26.979Z"
   },
   {
    "duration": 10,
    "start_time": "2022-09-25T23:31:27.012Z"
   },
   {
    "duration": 8,
    "start_time": "2022-09-25T23:31:27.024Z"
   },
   {
    "duration": 8,
    "start_time": "2022-09-25T23:31:27.033Z"
   },
   {
    "duration": 22,
    "start_time": "2022-09-25T23:31:27.043Z"
   },
   {
    "duration": 49,
    "start_time": "2022-09-25T23:31:27.067Z"
   },
   {
    "duration": 996,
    "start_time": "2022-09-25T23:35:25.623Z"
   },
   {
    "duration": 73,
    "start_time": "2022-09-25T23:35:26.620Z"
   },
   {
    "duration": 4,
    "start_time": "2022-09-25T23:35:26.694Z"
   },
   {
    "duration": 14,
    "start_time": "2022-09-25T23:35:26.701Z"
   },
   {
    "duration": 10,
    "start_time": "2022-09-25T23:35:26.717Z"
   },
   {
    "duration": 13,
    "start_time": "2022-09-25T23:35:26.728Z"
   },
   {
    "duration": 44,
    "start_time": "2022-09-25T23:35:26.743Z"
   },
   {
    "duration": 12,
    "start_time": "2022-09-25T23:35:26.788Z"
   },
   {
    "duration": 27,
    "start_time": "2022-09-25T23:35:26.802Z"
   },
   {
    "duration": 21,
    "start_time": "2022-09-25T23:35:26.832Z"
   },
   {
    "duration": 19,
    "start_time": "2022-09-25T23:35:26.855Z"
   },
   {
    "duration": 17,
    "start_time": "2022-09-25T23:35:26.875Z"
   },
   {
    "duration": 17,
    "start_time": "2022-09-25T23:35:26.894Z"
   },
   {
    "duration": 14,
    "start_time": "2022-09-25T23:35:26.912Z"
   },
   {
    "duration": 158,
    "start_time": "2022-09-25T23:35:26.928Z"
   },
   {
    "duration": 124,
    "start_time": "2022-09-25T23:35:27.088Z"
   },
   {
    "duration": 10,
    "start_time": "2022-09-25T23:35:27.214Z"
   },
   {
    "duration": 10,
    "start_time": "2022-09-25T23:35:27.226Z"
   },
   {
    "duration": 309,
    "start_time": "2022-09-25T23:35:27.238Z"
   },
   {
    "duration": 201,
    "start_time": "2022-09-25T23:35:27.548Z"
   },
   {
    "duration": 276,
    "start_time": "2022-09-25T23:35:27.750Z"
   },
   {
    "duration": 208,
    "start_time": "2022-09-25T23:35:28.028Z"
   },
   {
    "duration": 337,
    "start_time": "2022-09-25T23:35:28.238Z"
   },
   {
    "duration": 11,
    "start_time": "2022-09-25T23:35:28.576Z"
   },
   {
    "duration": 129,
    "start_time": "2022-09-25T23:35:28.588Z"
   },
   {
    "duration": 129,
    "start_time": "2022-09-25T23:35:28.719Z"
   },
   {
    "duration": 5,
    "start_time": "2022-09-25T23:35:28.849Z"
   },
   {
    "duration": 221,
    "start_time": "2022-09-25T23:35:28.857Z"
   },
   {
    "duration": 175,
    "start_time": "2022-09-25T23:35:29.080Z"
   },
   {
    "duration": 154,
    "start_time": "2022-09-25T23:35:29.257Z"
   },
   {
    "duration": 5,
    "start_time": "2022-09-25T23:35:29.413Z"
   },
   {
    "duration": 219,
    "start_time": "2022-09-25T23:35:29.420Z"
   },
   {
    "duration": 144,
    "start_time": "2022-09-25T23:35:29.641Z"
   },
   {
    "duration": 30,
    "start_time": "2022-09-25T23:35:29.786Z"
   },
   {
    "duration": 11,
    "start_time": "2022-09-25T23:35:29.818Z"
   },
   {
    "duration": 9,
    "start_time": "2022-09-25T23:35:29.831Z"
   },
   {
    "duration": 9,
    "start_time": "2022-09-25T23:35:29.842Z"
   },
   {
    "duration": 21,
    "start_time": "2022-09-25T23:35:29.852Z"
   },
   {
    "duration": 43,
    "start_time": "2022-09-25T23:35:29.875Z"
   },
   {
    "duration": 1177,
    "start_time": "2022-09-26T05:24:11.506Z"
   },
   {
    "duration": 127,
    "start_time": "2022-09-26T05:24:12.685Z"
   },
   {
    "duration": 5,
    "start_time": "2022-09-26T05:24:12.813Z"
   },
   {
    "duration": 4,
    "start_time": "2022-09-26T05:24:16.840Z"
   },
   {
    "duration": 99,
    "start_time": "2022-09-26T05:24:18.165Z"
   },
   {
    "duration": 22,
    "start_time": "2022-09-26T05:24:38.024Z"
   },
   {
    "duration": 5,
    "start_time": "2022-09-26T05:25:17.999Z"
   },
   {
    "duration": 13,
    "start_time": "2022-09-26T05:25:29.138Z"
   },
   {
    "duration": 32,
    "start_time": "2022-09-26T05:25:58.333Z"
   },
   {
    "duration": 14,
    "start_time": "2022-09-26T05:28:22.815Z"
   },
   {
    "duration": 3,
    "start_time": "2022-09-26T05:28:29.105Z"
   },
   {
    "duration": 31,
    "start_time": "2022-09-26T05:28:29.114Z"
   },
   {
    "duration": 12,
    "start_time": "2022-09-26T05:28:29.146Z"
   },
   {
    "duration": 12,
    "start_time": "2022-09-26T05:28:29.159Z"
   },
   {
    "duration": 13,
    "start_time": "2022-09-26T05:28:29.173Z"
   },
   {
    "duration": 81,
    "start_time": "2022-09-26T05:28:29.216Z"
   },
   {
    "duration": 13,
    "start_time": "2022-09-26T05:28:29.299Z"
   },
   {
    "duration": 57,
    "start_time": "2022-09-26T05:28:29.313Z"
   },
   {
    "duration": 17,
    "start_time": "2022-09-26T05:28:29.372Z"
   },
   {
    "duration": 13,
    "start_time": "2022-09-26T05:28:29.391Z"
   },
   {
    "duration": 21,
    "start_time": "2022-09-26T05:28:29.406Z"
   },
   {
    "duration": 5,
    "start_time": "2022-09-26T05:28:29.429Z"
   },
   {
    "duration": 11,
    "start_time": "2022-09-26T05:28:29.435Z"
   },
   {
    "duration": 187,
    "start_time": "2022-09-26T05:28:29.448Z"
   },
   {
    "duration": 117,
    "start_time": "2022-09-26T05:28:29.636Z"
   },
   {
    "duration": 9,
    "start_time": "2022-09-26T05:28:29.754Z"
   },
   {
    "duration": 6,
    "start_time": "2022-09-26T05:28:29.776Z"
   },
   {
    "duration": 285,
    "start_time": "2022-09-26T05:28:29.783Z"
   },
   {
    "duration": 205,
    "start_time": "2022-09-26T05:28:32.440Z"
   },
   {
    "duration": 202,
    "start_time": "2022-09-26T05:30:12.809Z"
   },
   {
    "duration": 214,
    "start_time": "2022-09-26T05:36:40.386Z"
   },
   {
    "duration": 197,
    "start_time": "2022-09-26T05:37:07.963Z"
   },
   {
    "duration": 307,
    "start_time": "2022-09-26T05:37:20.917Z"
   },
   {
    "duration": 1019,
    "start_time": "2022-09-26T05:37:31.774Z"
   },
   {
    "duration": 86,
    "start_time": "2022-09-26T05:37:32.795Z"
   },
   {
    "duration": 14,
    "start_time": "2022-09-26T05:37:32.882Z"
   },
   {
    "duration": 11,
    "start_time": "2022-09-26T05:37:32.897Z"
   },
   {
    "duration": 14,
    "start_time": "2022-09-26T05:37:32.910Z"
   },
   {
    "duration": 48,
    "start_time": "2022-09-26T05:37:32.925Z"
   },
   {
    "duration": 14,
    "start_time": "2022-09-26T05:37:32.976Z"
   },
   {
    "duration": 19,
    "start_time": "2022-09-26T05:37:32.992Z"
   },
   {
    "duration": 16,
    "start_time": "2022-09-26T05:37:33.013Z"
   },
   {
    "duration": 15,
    "start_time": "2022-09-26T05:37:33.032Z"
   },
   {
    "duration": 35,
    "start_time": "2022-09-26T05:37:33.048Z"
   },
   {
    "duration": 5,
    "start_time": "2022-09-26T05:37:33.084Z"
   },
   {
    "duration": 17,
    "start_time": "2022-09-26T05:37:33.090Z"
   },
   {
    "duration": 164,
    "start_time": "2022-09-26T05:37:33.109Z"
   },
   {
    "duration": 120,
    "start_time": "2022-09-26T05:37:33.277Z"
   },
   {
    "duration": 8,
    "start_time": "2022-09-26T05:37:33.399Z"
   },
   {
    "duration": 10,
    "start_time": "2022-09-26T05:37:33.409Z"
   },
   {
    "duration": 281,
    "start_time": "2022-09-26T05:37:33.420Z"
   },
   {
    "duration": 207,
    "start_time": "2022-09-26T05:37:33.703Z"
   },
   {
    "duration": 281,
    "start_time": "2022-09-26T05:37:33.912Z"
   },
   {
    "duration": 221,
    "start_time": "2022-09-26T05:37:34.195Z"
   },
   {
    "duration": 289,
    "start_time": "2022-09-26T05:37:34.418Z"
   },
   {
    "duration": 9,
    "start_time": "2022-09-26T05:37:34.708Z"
   },
   {
    "duration": 129,
    "start_time": "2022-09-26T05:37:34.718Z"
   },
   {
    "duration": 130,
    "start_time": "2022-09-26T05:37:34.849Z"
   },
   {
    "duration": 5,
    "start_time": "2022-09-26T05:37:34.980Z"
   },
   {
    "duration": 249,
    "start_time": "2022-09-26T05:37:34.987Z"
   },
   {
    "duration": 222,
    "start_time": "2022-09-26T05:37:35.240Z"
   },
   {
    "duration": 133,
    "start_time": "2022-09-26T05:37:35.465Z"
   },
   {
    "duration": 5,
    "start_time": "2022-09-26T05:37:35.600Z"
   },
   {
    "duration": 215,
    "start_time": "2022-09-26T05:37:35.606Z"
   },
   {
    "duration": 134,
    "start_time": "2022-09-26T05:37:35.823Z"
   },
   {
    "duration": 25,
    "start_time": "2022-09-26T05:37:35.959Z"
   },
   {
    "duration": 10,
    "start_time": "2022-09-26T05:37:35.986Z"
   },
   {
    "duration": 8,
    "start_time": "2022-09-26T05:37:35.998Z"
   },
   {
    "duration": 13,
    "start_time": "2022-09-26T05:37:36.008Z"
   },
   {
    "duration": 34,
    "start_time": "2022-09-26T05:37:36.023Z"
   },
   {
    "duration": 24,
    "start_time": "2022-09-26T05:37:36.059Z"
   },
   {
    "duration": 212,
    "start_time": "2022-09-26T05:40:38.166Z"
   },
   {
    "duration": 347,
    "start_time": "2022-09-26T05:41:13.480Z"
   },
   {
    "duration": 302,
    "start_time": "2022-09-26T05:41:17.905Z"
   },
   {
    "duration": 156,
    "start_time": "2022-09-26T05:43:44.811Z"
   },
   {
    "duration": 134,
    "start_time": "2022-09-26T05:44:04.314Z"
   },
   {
    "duration": 159,
    "start_time": "2022-09-26T05:44:35.098Z"
   },
   {
    "duration": 138,
    "start_time": "2022-09-26T05:45:12.689Z"
   },
   {
    "duration": 132,
    "start_time": "2022-09-26T05:45:26.214Z"
   },
   {
    "duration": 314,
    "start_time": "2022-09-26T05:46:18.667Z"
   },
   {
    "duration": 129,
    "start_time": "2022-09-26T05:47:01.699Z"
   },
   {
    "duration": 141,
    "start_time": "2022-09-26T05:48:08.561Z"
   },
   {
    "duration": 22,
    "start_time": "2022-09-26T06:25:59.493Z"
   },
   {
    "duration": 22,
    "start_time": "2022-09-26T06:26:08.239Z"
   },
   {
    "duration": 22,
    "start_time": "2022-09-26T06:26:24.090Z"
   },
   {
    "duration": 92,
    "start_time": "2022-09-26T06:28:53.417Z"
   },
   {
    "duration": 21,
    "start_time": "2022-09-26T06:29:26.664Z"
   },
   {
    "duration": 21,
    "start_time": "2022-09-26T06:29:40.280Z"
   },
   {
    "duration": 12,
    "start_time": "2022-09-26T06:31:10.541Z"
   },
   {
    "duration": 26,
    "start_time": "2022-09-26T06:32:05.245Z"
   },
   {
    "duration": 10,
    "start_time": "2022-09-26T06:32:29.423Z"
   },
   {
    "duration": 27,
    "start_time": "2022-09-26T06:33:05.234Z"
   },
   {
    "duration": 13,
    "start_time": "2022-09-26T06:33:20.854Z"
   },
   {
    "duration": 14,
    "start_time": "2022-09-26T06:33:26.964Z"
   },
   {
    "duration": 13,
    "start_time": "2022-09-26T06:33:33.397Z"
   },
   {
    "duration": 15,
    "start_time": "2022-09-26T06:35:05.873Z"
   },
   {
    "duration": 15,
    "start_time": "2022-09-26T06:35:50.867Z"
   },
   {
    "duration": 4,
    "start_time": "2022-09-26T06:35:57.464Z"
   },
   {
    "duration": 5,
    "start_time": "2022-09-26T06:36:22.645Z"
   },
   {
    "duration": 43,
    "start_time": "2022-09-26T06:36:43.799Z"
   },
   {
    "duration": 9,
    "start_time": "2022-09-26T06:37:17.763Z"
   },
   {
    "duration": 5,
    "start_time": "2022-09-26T07:18:31.250Z"
   },
   {
    "duration": 14,
    "start_time": "2022-09-26T07:18:42.356Z"
   },
   {
    "duration": 4,
    "start_time": "2022-09-26T07:19:03.865Z"
   },
   {
    "duration": 9,
    "start_time": "2022-09-26T07:19:19.476Z"
   },
   {
    "duration": 9,
    "start_time": "2022-09-26T07:19:44.372Z"
   },
   {
    "duration": 4,
    "start_time": "2022-09-26T07:21:13.347Z"
   },
   {
    "duration": 6,
    "start_time": "2022-09-26T07:21:21.195Z"
   },
   {
    "duration": 7,
    "start_time": "2022-09-26T07:21:40.684Z"
   },
   {
    "duration": 4,
    "start_time": "2022-09-26T07:21:50.813Z"
   },
   {
    "duration": 8,
    "start_time": "2022-09-26T07:21:51.924Z"
   },
   {
    "duration": 15,
    "start_time": "2022-09-26T07:52:42.317Z"
   },
   {
    "duration": 13,
    "start_time": "2022-09-26T07:55:20.047Z"
   },
   {
    "duration": 10,
    "start_time": "2022-09-26T07:55:43.344Z"
   },
   {
    "duration": 16,
    "start_time": "2022-09-26T08:00:01.338Z"
   },
   {
    "duration": 8,
    "start_time": "2022-09-26T08:00:49.309Z"
   },
   {
    "duration": 20,
    "start_time": "2022-09-26T08:01:04.564Z"
   },
   {
    "duration": 11,
    "start_time": "2022-09-26T08:04:00.769Z"
   },
   {
    "duration": 7,
    "start_time": "2022-09-26T08:05:08.984Z"
   },
   {
    "duration": 7,
    "start_time": "2022-09-26T08:05:35.084Z"
   },
   {
    "duration": 13,
    "start_time": "2022-09-26T08:05:49.085Z"
   },
   {
    "duration": 11,
    "start_time": "2022-09-26T08:06:00.540Z"
   },
   {
    "duration": 8,
    "start_time": "2022-09-26T08:06:15.282Z"
   },
   {
    "duration": 15,
    "start_time": "2022-09-26T08:06:28.933Z"
   },
   {
    "duration": 8,
    "start_time": "2022-09-26T08:06:50.201Z"
   },
   {
    "duration": 7,
    "start_time": "2022-09-26T08:07:43.858Z"
   },
   {
    "duration": 9,
    "start_time": "2022-09-26T08:07:48.788Z"
   },
   {
    "duration": 69,
    "start_time": "2022-09-26T08:34:11.087Z"
   },
   {
    "duration": 69,
    "start_time": "2022-09-26T08:34:19.875Z"
   },
   {
    "duration": 51,
    "start_time": "2022-09-26T08:34:40.872Z"
   },
   {
    "duration": 38,
    "start_time": "2022-09-26T08:34:48.237Z"
   },
   {
    "duration": 47,
    "start_time": "2022-09-26T08:35:03.610Z"
   },
   {
    "duration": 10,
    "start_time": "2022-09-26T08:35:40.766Z"
   },
   {
    "duration": 5,
    "start_time": "2022-09-26T08:36:01.776Z"
   },
   {
    "duration": 14,
    "start_time": "2022-09-26T08:36:07.510Z"
   },
   {
    "duration": 5,
    "start_time": "2022-09-26T08:36:38.334Z"
   },
   {
    "duration": 72,
    "start_time": "2022-09-26T08:37:40.496Z"
   },
   {
    "duration": 12,
    "start_time": "2022-09-26T08:37:46.761Z"
   },
   {
    "duration": 13,
    "start_time": "2022-09-26T08:37:54.329Z"
   },
   {
    "duration": 45,
    "start_time": "2022-09-26T08:38:32.951Z"
   },
   {
    "duration": 22,
    "start_time": "2022-09-26T08:41:17.811Z"
   },
   {
    "duration": 14,
    "start_time": "2022-09-26T08:41:46.900Z"
   },
   {
    "duration": 84,
    "start_time": "2022-09-26T08:42:19.942Z"
   },
   {
    "duration": 63,
    "start_time": "2022-09-26T08:43:11.056Z"
   },
   {
    "duration": 21,
    "start_time": "2022-09-26T08:43:19.399Z"
   },
   {
    "duration": 13,
    "start_time": "2022-09-26T08:44:08.156Z"
   },
   {
    "duration": 12,
    "start_time": "2022-09-26T08:44:13.520Z"
   },
   {
    "duration": 62,
    "start_time": "2022-09-26T08:48:46.472Z"
   },
   {
    "duration": 23,
    "start_time": "2022-09-26T08:48:50.103Z"
   },
   {
    "duration": 22,
    "start_time": "2022-09-26T08:49:11.712Z"
   },
   {
    "duration": 12,
    "start_time": "2022-09-26T08:50:24.560Z"
   },
   {
    "duration": 13,
    "start_time": "2022-09-26T08:50:30.767Z"
   },
   {
    "duration": 55,
    "start_time": "2022-09-26T08:51:05.338Z"
   },
   {
    "duration": 59,
    "start_time": "2022-09-26T08:52:08.721Z"
   },
   {
    "duration": 23,
    "start_time": "2022-09-26T08:52:15.651Z"
   },
   {
    "duration": 21,
    "start_time": "2022-09-26T08:52:27.217Z"
   },
   {
    "duration": 20,
    "start_time": "2022-09-26T08:52:36.881Z"
   },
   {
    "duration": 23,
    "start_time": "2022-09-26T08:52:40.805Z"
   },
   {
    "duration": 11,
    "start_time": "2022-09-26T08:54:51.736Z"
   },
   {
    "duration": 540,
    "start_time": "2022-09-26T08:56:11.676Z"
   },
   {
    "duration": 542,
    "start_time": "2022-09-26T08:58:00.042Z"
   },
   {
    "duration": 4,
    "start_time": "2022-09-26T08:59:32.003Z"
   },
   {
    "duration": 489,
    "start_time": "2022-09-26T08:59:37.096Z"
   },
   {
    "duration": 17,
    "start_time": "2022-09-26T09:00:12.054Z"
   },
   {
    "duration": 72,
    "start_time": "2022-09-26T09:00:47.645Z"
   },
   {
    "duration": 72,
    "start_time": "2022-09-26T09:00:58.649Z"
   },
   {
    "duration": 14,
    "start_time": "2022-09-26T09:01:29.251Z"
   },
   {
    "duration": 4,
    "start_time": "2022-09-26T09:03:43.762Z"
   },
   {
    "duration": 4,
    "start_time": "2022-09-26T09:04:38.398Z"
   },
   {
    "duration": 13,
    "start_time": "2022-09-26T09:05:18.426Z"
   },
   {
    "duration": 11,
    "start_time": "2022-09-26T09:06:12.077Z"
   },
   {
    "duration": 6,
    "start_time": "2022-09-26T09:06:22.281Z"
   },
   {
    "duration": 10,
    "start_time": "2022-09-26T09:06:28.831Z"
   },
   {
    "duration": 11,
    "start_time": "2022-09-26T09:06:46.476Z"
   },
   {
    "duration": 8,
    "start_time": "2022-09-26T09:07:01.456Z"
   },
   {
    "duration": 14,
    "start_time": "2022-09-26T09:07:51.273Z"
   },
   {
    "duration": 19,
    "start_time": "2022-09-26T09:09:25.401Z"
   },
   {
    "duration": 10,
    "start_time": "2022-09-26T09:09:34.336Z"
   },
   {
    "duration": 10,
    "start_time": "2022-09-26T09:09:38.701Z"
   },
   {
    "duration": 19,
    "start_time": "2022-09-26T09:09:41.527Z"
   },
   {
    "duration": 13,
    "start_time": "2022-09-26T09:09:46.330Z"
   },
   {
    "duration": 12,
    "start_time": "2022-09-26T09:10:10.631Z"
   },
   {
    "duration": 12,
    "start_time": "2022-09-26T09:10:38.075Z"
   },
   {
    "duration": 12,
    "start_time": "2022-09-26T09:13:47.736Z"
   },
   {
    "duration": 71,
    "start_time": "2022-09-26T09:15:10.318Z"
   },
   {
    "duration": 15,
    "start_time": "2022-09-26T09:15:16.069Z"
   },
   {
    "duration": 14,
    "start_time": "2022-09-26T09:15:26.141Z"
   },
   {
    "duration": 6,
    "start_time": "2022-09-26T09:17:51.719Z"
   },
   {
    "duration": 10,
    "start_time": "2022-09-26T09:18:02.162Z"
   },
   {
    "duration": 7,
    "start_time": "2022-09-26T09:18:21.445Z"
   },
   {
    "duration": 8,
    "start_time": "2022-09-26T09:19:37.755Z"
   },
   {
    "duration": 5,
    "start_time": "2022-09-26T09:20:40.251Z"
   },
   {
    "duration": 5,
    "start_time": "2022-09-26T09:21:44.920Z"
   },
   {
    "duration": 12,
    "start_time": "2022-09-26T09:24:58.258Z"
   },
   {
    "duration": 8,
    "start_time": "2022-09-26T09:25:21.710Z"
   },
   {
    "duration": 4,
    "start_time": "2022-09-26T09:25:39.998Z"
   },
   {
    "duration": 4,
    "start_time": "2022-09-26T09:28:40.923Z"
   },
   {
    "duration": 21,
    "start_time": "2022-09-26T09:28:47.736Z"
   },
   {
    "duration": 26,
    "start_time": "2022-09-26T09:29:30.298Z"
   },
   {
    "duration": 20,
    "start_time": "2022-09-26T09:30:21.109Z"
   },
   {
    "duration": 15,
    "start_time": "2022-09-26T09:30:30.603Z"
   },
   {
    "duration": 4,
    "start_time": "2022-09-26T09:30:54.379Z"
   },
   {
    "duration": 19,
    "start_time": "2022-09-26T10:53:12.506Z"
   },
   {
    "duration": 7,
    "start_time": "2022-09-26T10:53:32.325Z"
   },
   {
    "duration": 12,
    "start_time": "2022-09-26T10:53:42.030Z"
   },
   {
    "duration": 7,
    "start_time": "2022-09-26T10:53:53.208Z"
   },
   {
    "duration": 14,
    "start_time": "2022-09-26T10:54:30.181Z"
   },
   {
    "duration": 18,
    "start_time": "2022-09-26T10:54:54.611Z"
   },
   {
    "duration": 17,
    "start_time": "2022-09-26T10:55:07.842Z"
   },
   {
    "duration": 18,
    "start_time": "2022-09-26T10:55:13.302Z"
   },
   {
    "duration": 13,
    "start_time": "2022-09-26T10:55:19.659Z"
   },
   {
    "duration": 13,
    "start_time": "2022-09-26T10:58:27.941Z"
   },
   {
    "duration": 11,
    "start_time": "2022-09-26T10:58:53.780Z"
   },
   {
    "duration": 6,
    "start_time": "2022-09-26T10:59:11.119Z"
   },
   {
    "duration": 16,
    "start_time": "2022-09-26T10:59:29.953Z"
   },
   {
    "duration": 20,
    "start_time": "2022-09-26T10:59:37.070Z"
   },
   {
    "duration": 22,
    "start_time": "2022-09-26T10:59:40.911Z"
   },
   {
    "duration": 6,
    "start_time": "2022-09-26T11:02:40.898Z"
   },
   {
    "duration": 7,
    "start_time": "2022-09-26T11:03:14.868Z"
   },
   {
    "duration": 6,
    "start_time": "2022-09-26T11:03:41.637Z"
   },
   {
    "duration": 5,
    "start_time": "2022-09-26T11:03:44.942Z"
   },
   {
    "duration": 6,
    "start_time": "2022-09-26T11:04:52.357Z"
   },
   {
    "duration": 8,
    "start_time": "2022-09-26T11:05:32.111Z"
   },
   {
    "duration": 6,
    "start_time": "2022-09-26T11:08:04.840Z"
   },
   {
    "duration": 10,
    "start_time": "2022-09-26T11:08:55.980Z"
   },
   {
    "duration": 153,
    "start_time": "2022-09-26T11:10:15.681Z"
   },
   {
    "duration": 6,
    "start_time": "2022-09-26T11:10:37.256Z"
   },
   {
    "duration": 6,
    "start_time": "2022-09-26T11:10:48.328Z"
   },
   {
    "duration": 8,
    "start_time": "2022-09-26T11:11:59.591Z"
   },
   {
    "duration": 6,
    "start_time": "2022-09-26T11:14:19.072Z"
   },
   {
    "duration": 7,
    "start_time": "2022-09-26T11:14:39.846Z"
   },
   {
    "duration": 9,
    "start_time": "2022-09-26T11:15:45.307Z"
   },
   {
    "duration": 6,
    "start_time": "2022-09-26T11:17:10.086Z"
   },
   {
    "duration": 1418,
    "start_time": "2022-09-26T11:17:50.690Z"
   },
   {
    "duration": 1427,
    "start_time": "2022-09-26T11:17:59.216Z"
   },
   {
    "duration": 6,
    "start_time": "2022-09-26T11:18:17.126Z"
   },
   {
    "duration": 4,
    "start_time": "2022-09-26T11:19:23.035Z"
   },
   {
    "duration": 13,
    "start_time": "2022-09-26T11:19:45.881Z"
   },
   {
    "duration": 13,
    "start_time": "2022-09-26T11:20:00.868Z"
   },
   {
    "duration": 6,
    "start_time": "2022-09-26T11:28:45.363Z"
   },
   {
    "duration": 4,
    "start_time": "2022-09-26T11:29:41.902Z"
   },
   {
    "duration": 5,
    "start_time": "2022-09-26T11:31:52.941Z"
   },
   {
    "duration": 6,
    "start_time": "2022-09-26T11:32:07.527Z"
   },
   {
    "duration": 1275,
    "start_time": "2022-09-26T14:14:52.993Z"
   },
   {
    "duration": 143,
    "start_time": "2022-09-26T14:14:54.272Z"
   },
   {
    "duration": 15,
    "start_time": "2022-09-26T14:14:54.416Z"
   },
   {
    "duration": 21,
    "start_time": "2022-09-26T14:14:54.433Z"
   },
   {
    "duration": 56,
    "start_time": "2022-09-26T14:14:54.456Z"
   },
   {
    "duration": 174,
    "start_time": "2022-09-26T14:14:54.513Z"
   },
   {
    "duration": 15,
    "start_time": "2022-09-26T14:14:54.689Z"
   },
   {
    "duration": 70,
    "start_time": "2022-09-26T14:14:54.705Z"
   },
   {
    "duration": 19,
    "start_time": "2022-09-26T14:14:54.777Z"
   },
   {
    "duration": 32,
    "start_time": "2022-09-26T14:14:54.799Z"
   },
   {
    "duration": 42,
    "start_time": "2022-09-26T14:14:54.833Z"
   },
   {
    "duration": 19,
    "start_time": "2022-09-26T14:14:54.877Z"
   },
   {
    "duration": 19,
    "start_time": "2022-09-26T14:14:54.898Z"
   },
   {
    "duration": 10,
    "start_time": "2022-09-26T14:14:54.920Z"
   },
   {
    "duration": 12,
    "start_time": "2022-09-26T14:14:54.932Z"
   },
   {
    "duration": 103,
    "start_time": "2022-09-26T14:14:54.945Z"
   },
   {
    "duration": 0,
    "start_time": "2022-09-26T14:14:55.050Z"
   },
   {
    "duration": 0,
    "start_time": "2022-09-26T14:14:55.052Z"
   },
   {
    "duration": 0,
    "start_time": "2022-09-26T14:14:55.053Z"
   },
   {
    "duration": 0,
    "start_time": "2022-09-26T14:14:55.054Z"
   },
   {
    "duration": 1,
    "start_time": "2022-09-26T14:14:55.055Z"
   },
   {
    "duration": 0,
    "start_time": "2022-09-26T14:14:55.057Z"
   },
   {
    "duration": 0,
    "start_time": "2022-09-26T14:14:55.058Z"
   },
   {
    "duration": 0,
    "start_time": "2022-09-26T14:14:55.060Z"
   },
   {
    "duration": 0,
    "start_time": "2022-09-26T14:14:55.061Z"
   },
   {
    "duration": 0,
    "start_time": "2022-09-26T14:14:55.062Z"
   },
   {
    "duration": 0,
    "start_time": "2022-09-26T14:14:55.077Z"
   },
   {
    "duration": 0,
    "start_time": "2022-09-26T14:14:55.079Z"
   },
   {
    "duration": 0,
    "start_time": "2022-09-26T14:14:55.080Z"
   },
   {
    "duration": 0,
    "start_time": "2022-09-26T14:14:55.081Z"
   },
   {
    "duration": 0,
    "start_time": "2022-09-26T14:14:55.082Z"
   },
   {
    "duration": 0,
    "start_time": "2022-09-26T14:14:55.083Z"
   },
   {
    "duration": 0,
    "start_time": "2022-09-26T14:14:55.085Z"
   },
   {
    "duration": 0,
    "start_time": "2022-09-26T14:14:55.086Z"
   },
   {
    "duration": 0,
    "start_time": "2022-09-26T14:14:55.087Z"
   },
   {
    "duration": 0,
    "start_time": "2022-09-26T14:14:55.089Z"
   },
   {
    "duration": 0,
    "start_time": "2022-09-26T14:14:55.090Z"
   },
   {
    "duration": 0,
    "start_time": "2022-09-26T14:14:55.093Z"
   },
   {
    "duration": 0,
    "start_time": "2022-09-26T14:14:55.094Z"
   },
   {
    "duration": 0,
    "start_time": "2022-09-26T14:14:55.095Z"
   },
   {
    "duration": 0,
    "start_time": "2022-09-26T14:14:55.097Z"
   },
   {
    "duration": 0,
    "start_time": "2022-09-26T14:14:55.099Z"
   },
   {
    "duration": 0,
    "start_time": "2022-09-26T14:14:55.101Z"
   },
   {
    "duration": 0,
    "start_time": "2022-09-26T14:14:55.102Z"
   },
   {
    "duration": 0,
    "start_time": "2022-09-26T14:14:55.104Z"
   },
   {
    "duration": 0,
    "start_time": "2022-09-26T14:14:55.106Z"
   },
   {
    "duration": 0,
    "start_time": "2022-09-26T14:14:55.108Z"
   },
   {
    "duration": 5,
    "start_time": "2022-09-26T14:21:25.857Z"
   },
   {
    "duration": 9,
    "start_time": "2022-09-26T14:22:53.725Z"
   },
   {
    "duration": 6,
    "start_time": "2022-09-26T14:23:16.545Z"
   },
   {
    "duration": 4,
    "start_time": "2022-09-26T14:23:17.337Z"
   },
   {
    "duration": 5,
    "start_time": "2022-09-26T14:23:26.207Z"
   },
   {
    "duration": 4,
    "start_time": "2022-09-26T14:57:17.912Z"
   },
   {
    "duration": 4,
    "start_time": "2022-09-26T14:57:20.512Z"
   },
   {
    "duration": 6,
    "start_time": "2022-09-26T14:57:41.284Z"
   },
   {
    "duration": 4,
    "start_time": "2022-09-26T14:58:42.894Z"
   },
   {
    "duration": 4,
    "start_time": "2022-09-26T14:59:21.269Z"
   },
   {
    "duration": 7,
    "start_time": "2022-09-26T14:59:39.856Z"
   },
   {
    "duration": 8,
    "start_time": "2022-09-26T15:00:17.070Z"
   },
   {
    "duration": 8,
    "start_time": "2022-09-26T15:00:26.620Z"
   },
   {
    "duration": 4,
    "start_time": "2022-09-26T15:00:43.192Z"
   },
   {
    "duration": 7,
    "start_time": "2022-09-26T15:00:49.338Z"
   },
   {
    "duration": 5,
    "start_time": "2022-09-26T15:01:00.940Z"
   },
   {
    "duration": 18,
    "start_time": "2022-09-26T15:10:05.200Z"
   },
   {
    "duration": 7,
    "start_time": "2022-09-26T15:10:11.195Z"
   },
   {
    "duration": 6,
    "start_time": "2022-09-26T15:13:32.200Z"
   },
   {
    "duration": 11,
    "start_time": "2022-09-26T15:20:16.713Z"
   },
   {
    "duration": 8,
    "start_time": "2022-09-26T15:20:25.072Z"
   },
   {
    "duration": 8,
    "start_time": "2022-09-26T15:20:45.863Z"
   },
   {
    "duration": 10,
    "start_time": "2022-09-26T15:33:15.831Z"
   },
   {
    "duration": 8,
    "start_time": "2022-09-26T15:33:37.161Z"
   },
   {
    "duration": 6,
    "start_time": "2022-09-26T15:34:26.656Z"
   },
   {
    "duration": 8,
    "start_time": "2022-09-26T15:35:46.327Z"
   },
   {
    "duration": 9,
    "start_time": "2022-09-26T15:35:51.179Z"
   },
   {
    "duration": 8,
    "start_time": "2022-09-26T15:35:59.101Z"
   },
   {
    "duration": 12,
    "start_time": "2022-09-26T15:36:37.027Z"
   },
   {
    "duration": 1127,
    "start_time": "2022-09-26T20:34:48.669Z"
   },
   {
    "duration": 137,
    "start_time": "2022-09-26T20:34:49.797Z"
   },
   {
    "duration": 12,
    "start_time": "2022-09-26T20:34:49.935Z"
   },
   {
    "duration": 9,
    "start_time": "2022-09-26T20:34:49.949Z"
   },
   {
    "duration": 10,
    "start_time": "2022-09-26T20:34:49.959Z"
   },
   {
    "duration": 87,
    "start_time": "2022-09-26T20:34:49.971Z"
   },
   {
    "duration": 13,
    "start_time": "2022-09-26T20:34:50.060Z"
   },
   {
    "duration": 69,
    "start_time": "2022-09-26T20:34:50.074Z"
   },
   {
    "duration": 16,
    "start_time": "2022-09-26T20:34:50.145Z"
   },
   {
    "duration": 12,
    "start_time": "2022-09-26T20:34:50.164Z"
   },
   {
    "duration": 18,
    "start_time": "2022-09-26T20:34:50.177Z"
   },
   {
    "duration": 4,
    "start_time": "2022-09-26T20:34:50.197Z"
   },
   {
    "duration": 18,
    "start_time": "2022-09-26T20:34:50.203Z"
   },
   {
    "duration": 6,
    "start_time": "2022-09-26T20:34:50.222Z"
   },
   {
    "duration": 92,
    "start_time": "2022-09-26T20:34:50.229Z"
   },
   {
    "duration": 0,
    "start_time": "2022-09-26T20:34:50.323Z"
   },
   {
    "duration": 0,
    "start_time": "2022-09-26T20:34:50.324Z"
   },
   {
    "duration": 0,
    "start_time": "2022-09-26T20:34:50.325Z"
   },
   {
    "duration": 0,
    "start_time": "2022-09-26T20:34:50.326Z"
   },
   {
    "duration": 0,
    "start_time": "2022-09-26T20:34:50.327Z"
   },
   {
    "duration": 0,
    "start_time": "2022-09-26T20:34:50.328Z"
   },
   {
    "duration": 0,
    "start_time": "2022-09-26T20:34:50.329Z"
   },
   {
    "duration": 0,
    "start_time": "2022-09-26T20:34:50.330Z"
   },
   {
    "duration": 0,
    "start_time": "2022-09-26T20:34:50.331Z"
   },
   {
    "duration": 0,
    "start_time": "2022-09-26T20:34:50.332Z"
   },
   {
    "duration": 0,
    "start_time": "2022-09-26T20:34:50.333Z"
   },
   {
    "duration": 0,
    "start_time": "2022-09-26T20:34:50.334Z"
   },
   {
    "duration": 0,
    "start_time": "2022-09-26T20:34:50.335Z"
   },
   {
    "duration": 0,
    "start_time": "2022-09-26T20:34:50.336Z"
   },
   {
    "duration": 0,
    "start_time": "2022-09-26T20:34:50.337Z"
   },
   {
    "duration": 0,
    "start_time": "2022-09-26T20:34:50.338Z"
   },
   {
    "duration": 0,
    "start_time": "2022-09-26T20:34:50.339Z"
   },
   {
    "duration": 0,
    "start_time": "2022-09-26T20:34:50.340Z"
   },
   {
    "duration": 0,
    "start_time": "2022-09-26T20:34:50.341Z"
   },
   {
    "duration": 0,
    "start_time": "2022-09-26T20:34:50.341Z"
   },
   {
    "duration": 0,
    "start_time": "2022-09-26T20:34:50.342Z"
   },
   {
    "duration": 0,
    "start_time": "2022-09-26T20:34:50.343Z"
   },
   {
    "duration": 0,
    "start_time": "2022-09-26T20:34:50.344Z"
   },
   {
    "duration": 0,
    "start_time": "2022-09-26T20:34:50.345Z"
   },
   {
    "duration": 0,
    "start_time": "2022-09-26T20:34:50.346Z"
   },
   {
    "duration": 0,
    "start_time": "2022-09-26T20:34:50.347Z"
   },
   {
    "duration": 0,
    "start_time": "2022-09-26T20:34:50.348Z"
   },
   {
    "duration": 0,
    "start_time": "2022-09-26T20:34:50.349Z"
   },
   {
    "duration": 0,
    "start_time": "2022-09-26T20:34:50.350Z"
   },
   {
    "duration": 0,
    "start_time": "2022-09-26T20:34:50.351Z"
   },
   {
    "duration": 0,
    "start_time": "2022-09-26T20:34:50.352Z"
   },
   {
    "duration": 6,
    "start_time": "2022-09-26T20:37:03.260Z"
   },
   {
    "duration": 6,
    "start_time": "2022-09-26T20:37:16.448Z"
   },
   {
    "duration": 6,
    "start_time": "2022-09-26T20:38:19.729Z"
   },
   {
    "duration": 7,
    "start_time": "2022-09-26T20:39:04.749Z"
   },
   {
    "duration": 7,
    "start_time": "2022-09-26T20:41:08.996Z"
   },
   {
    "duration": 8,
    "start_time": "2022-09-26T20:41:55.329Z"
   },
   {
    "duration": 9,
    "start_time": "2022-09-26T20:42:21.575Z"
   },
   {
    "duration": 6,
    "start_time": "2022-09-26T20:44:25.680Z"
   },
   {
    "duration": 4,
    "start_time": "2022-09-26T20:46:21.762Z"
   },
   {
    "duration": 5,
    "start_time": "2022-09-26T20:46:22.312Z"
   },
   {
    "duration": 6,
    "start_time": "2022-09-26T20:46:37.784Z"
   },
   {
    "duration": 10,
    "start_time": "2022-09-26T20:56:24.752Z"
   },
   {
    "duration": 1016,
    "start_time": "2022-09-26T20:56:31.999Z"
   },
   {
    "duration": 81,
    "start_time": "2022-09-26T20:56:33.017Z"
   },
   {
    "duration": 15,
    "start_time": "2022-09-26T20:56:33.099Z"
   },
   {
    "duration": 14,
    "start_time": "2022-09-26T20:56:33.116Z"
   },
   {
    "duration": 10,
    "start_time": "2022-09-26T20:56:33.131Z"
   },
   {
    "duration": 45,
    "start_time": "2022-09-26T20:56:33.143Z"
   },
   {
    "duration": 12,
    "start_time": "2022-09-26T20:56:33.189Z"
   },
   {
    "duration": 34,
    "start_time": "2022-09-26T20:56:33.202Z"
   },
   {
    "duration": 16,
    "start_time": "2022-09-26T20:56:33.238Z"
   },
   {
    "duration": 11,
    "start_time": "2022-09-26T20:56:33.256Z"
   },
   {
    "duration": 18,
    "start_time": "2022-09-26T20:56:33.269Z"
   },
   {
    "duration": 4,
    "start_time": "2022-09-26T20:56:33.288Z"
   },
   {
    "duration": 7,
    "start_time": "2022-09-26T20:56:33.294Z"
   },
   {
    "duration": 7,
    "start_time": "2022-09-26T20:56:33.302Z"
   },
   {
    "duration": 19,
    "start_time": "2022-09-26T20:56:33.311Z"
   },
   {
    "duration": 9,
    "start_time": "2022-09-26T20:56:33.332Z"
   },
   {
    "duration": 4,
    "start_time": "2022-09-26T20:56:33.342Z"
   },
   {
    "duration": 6,
    "start_time": "2022-09-26T20:56:33.347Z"
   },
   {
    "duration": 5,
    "start_time": "2022-09-26T20:56:33.354Z"
   },
   {
    "duration": 9,
    "start_time": "2022-09-26T20:56:33.360Z"
   },
   {
    "duration": 176,
    "start_time": "2022-09-26T20:56:33.370Z"
   },
   {
    "duration": 118,
    "start_time": "2022-09-26T20:56:33.548Z"
   },
   {
    "duration": 8,
    "start_time": "2022-09-26T20:56:33.667Z"
   },
   {
    "duration": 7,
    "start_time": "2022-09-26T20:56:33.677Z"
   },
   {
    "duration": 281,
    "start_time": "2022-09-26T20:56:33.685Z"
   },
   {
    "duration": 195,
    "start_time": "2022-09-26T20:56:33.968Z"
   },
   {
    "duration": 279,
    "start_time": "2022-09-26T20:56:34.165Z"
   },
   {
    "duration": 215,
    "start_time": "2022-09-26T20:56:34.447Z"
   },
   {
    "duration": 289,
    "start_time": "2022-09-26T20:56:34.663Z"
   },
   {
    "duration": 9,
    "start_time": "2022-09-26T20:56:34.953Z"
   },
   {
    "duration": 130,
    "start_time": "2022-09-26T20:56:34.963Z"
   },
   {
    "duration": 138,
    "start_time": "2022-09-26T20:56:35.095Z"
   },
   {
    "duration": 4,
    "start_time": "2022-09-26T20:56:35.235Z"
   },
   {
    "duration": 233,
    "start_time": "2022-09-26T20:56:35.240Z"
   },
   {
    "duration": 202,
    "start_time": "2022-09-26T20:56:35.475Z"
   },
   {
    "duration": 129,
    "start_time": "2022-09-26T20:56:35.678Z"
   },
   {
    "duration": 4,
    "start_time": "2022-09-26T20:56:35.809Z"
   },
   {
    "duration": 217,
    "start_time": "2022-09-26T20:56:35.814Z"
   },
   {
    "duration": 137,
    "start_time": "2022-09-26T20:56:36.033Z"
   },
   {
    "duration": 20,
    "start_time": "2022-09-26T20:56:36.171Z"
   },
   {
    "duration": 21,
    "start_time": "2022-09-26T20:56:36.193Z"
   },
   {
    "duration": 13,
    "start_time": "2022-09-26T20:56:36.215Z"
   },
   {
    "duration": 12,
    "start_time": "2022-09-26T20:56:36.229Z"
   },
   {
    "duration": 8,
    "start_time": "2022-09-26T20:56:36.243Z"
   },
   {
    "duration": 34,
    "start_time": "2022-09-26T20:56:36.252Z"
   },
   {
    "duration": 24,
    "start_time": "2022-09-26T20:56:36.287Z"
   },
   {
    "duration": 7,
    "start_time": "2022-09-26T20:57:44.343Z"
   },
   {
    "duration": 7,
    "start_time": "2022-09-26T20:58:00.843Z"
   },
   {
    "duration": 8,
    "start_time": "2022-09-26T20:58:17.191Z"
   },
   {
    "duration": 122,
    "start_time": "2022-09-26T21:00:23.935Z"
   },
   {
    "duration": 120,
    "start_time": "2022-09-26T21:00:45.365Z"
   },
   {
    "duration": 154,
    "start_time": "2022-09-26T21:01:18.036Z"
   },
   {
    "duration": 953,
    "start_time": "2022-09-26T21:02:21.467Z"
   },
   {
    "duration": 85,
    "start_time": "2022-09-26T21:02:22.422Z"
   },
   {
    "duration": 14,
    "start_time": "2022-09-26T21:02:22.509Z"
   },
   {
    "duration": 22,
    "start_time": "2022-09-26T21:02:22.525Z"
   },
   {
    "duration": 28,
    "start_time": "2022-09-26T21:02:22.549Z"
   },
   {
    "duration": 67,
    "start_time": "2022-09-26T21:02:22.578Z"
   },
   {
    "duration": 12,
    "start_time": "2022-09-26T21:02:22.647Z"
   },
   {
    "duration": 30,
    "start_time": "2022-09-26T21:02:22.661Z"
   },
   {
    "duration": 18,
    "start_time": "2022-09-26T21:02:22.692Z"
   },
   {
    "duration": 29,
    "start_time": "2022-09-26T21:02:22.712Z"
   },
   {
    "duration": 26,
    "start_time": "2022-09-26T21:02:22.743Z"
   },
   {
    "duration": 13,
    "start_time": "2022-09-26T21:02:22.771Z"
   },
   {
    "duration": 11,
    "start_time": "2022-09-26T21:02:22.786Z"
   },
   {
    "duration": 25,
    "start_time": "2022-09-26T21:02:22.800Z"
   },
   {
    "duration": 8,
    "start_time": "2022-09-26T21:02:22.826Z"
   },
   {
    "duration": 43,
    "start_time": "2022-09-26T21:02:22.835Z"
   },
   {
    "duration": 7,
    "start_time": "2022-09-26T21:02:22.880Z"
   },
   {
    "duration": 20,
    "start_time": "2022-09-26T21:02:22.888Z"
   },
   {
    "duration": 32,
    "start_time": "2022-09-26T21:02:22.909Z"
   },
   {
    "duration": 12,
    "start_time": "2022-09-26T21:02:22.943Z"
   },
   {
    "duration": 169,
    "start_time": "2022-09-26T21:02:22.956Z"
   },
   {
    "duration": 118,
    "start_time": "2022-09-26T21:02:23.126Z"
   },
   {
    "duration": 9,
    "start_time": "2022-09-26T21:02:23.245Z"
   },
   {
    "duration": 15,
    "start_time": "2022-09-26T21:02:23.255Z"
   },
   {
    "duration": 281,
    "start_time": "2022-09-26T21:02:23.271Z"
   },
   {
    "duration": 200,
    "start_time": "2022-09-26T21:02:23.553Z"
   },
   {
    "duration": 264,
    "start_time": "2022-09-26T21:02:23.754Z"
   },
   {
    "duration": 212,
    "start_time": "2022-09-26T21:02:24.020Z"
   },
   {
    "duration": 294,
    "start_time": "2022-09-26T21:02:24.234Z"
   },
   {
    "duration": 8,
    "start_time": "2022-09-26T21:02:24.530Z"
   },
   {
    "duration": 133,
    "start_time": "2022-09-26T21:02:24.543Z"
   },
   {
    "duration": 127,
    "start_time": "2022-09-26T21:02:24.678Z"
   },
   {
    "duration": 6,
    "start_time": "2022-09-26T21:02:24.807Z"
   },
   {
    "duration": 224,
    "start_time": "2022-09-26T21:02:24.814Z"
   },
   {
    "duration": 198,
    "start_time": "2022-09-26T21:02:25.039Z"
   },
   {
    "duration": 142,
    "start_time": "2022-09-26T21:02:25.238Z"
   },
   {
    "duration": 5,
    "start_time": "2022-09-26T21:02:25.382Z"
   },
   {
    "duration": 220,
    "start_time": "2022-09-26T21:02:25.389Z"
   },
   {
    "duration": 155,
    "start_time": "2022-09-26T21:02:25.611Z"
   },
   {
    "duration": 22,
    "start_time": "2022-09-26T21:02:25.767Z"
   },
   {
    "duration": 20,
    "start_time": "2022-09-26T21:02:25.792Z"
   },
   {
    "duration": 10,
    "start_time": "2022-09-26T21:02:25.815Z"
   },
   {
    "duration": 11,
    "start_time": "2022-09-26T21:02:25.827Z"
   },
   {
    "duration": 8,
    "start_time": "2022-09-26T21:02:25.840Z"
   },
   {
    "duration": 21,
    "start_time": "2022-09-26T21:02:25.850Z"
   },
   {
    "duration": 36,
    "start_time": "2022-09-26T21:02:25.873Z"
   },
   {
    "duration": 1262,
    "start_time": "2022-09-27T19:22:42.404Z"
   },
   {
    "duration": 146,
    "start_time": "2022-09-27T19:22:43.668Z"
   },
   {
    "duration": 15,
    "start_time": "2022-09-27T19:22:43.815Z"
   },
   {
    "duration": 12,
    "start_time": "2022-09-27T19:22:43.831Z"
   },
   {
    "duration": 16,
    "start_time": "2022-09-27T19:22:43.845Z"
   },
   {
    "duration": 99,
    "start_time": "2022-09-27T19:22:43.863Z"
   },
   {
    "duration": 14,
    "start_time": "2022-09-27T19:22:43.965Z"
   },
   {
    "duration": 68,
    "start_time": "2022-09-27T19:22:43.980Z"
   },
   {
    "duration": 24,
    "start_time": "2022-09-27T19:22:44.050Z"
   },
   {
    "duration": 13,
    "start_time": "2022-09-27T19:22:44.076Z"
   },
   {
    "duration": 22,
    "start_time": "2022-09-27T19:22:44.091Z"
   },
   {
    "duration": 4,
    "start_time": "2022-09-27T19:22:44.115Z"
   },
   {
    "duration": 14,
    "start_time": "2022-09-27T19:22:44.121Z"
   },
   {
    "duration": 23,
    "start_time": "2022-09-27T19:22:44.138Z"
   },
   {
    "duration": 16,
    "start_time": "2022-09-27T19:22:44.162Z"
   },
   {
    "duration": 9,
    "start_time": "2022-09-27T19:22:44.180Z"
   },
   {
    "duration": 10,
    "start_time": "2022-09-27T19:22:44.191Z"
   },
   {
    "duration": 9,
    "start_time": "2022-09-27T19:22:44.202Z"
   },
   {
    "duration": 6,
    "start_time": "2022-09-27T19:22:44.212Z"
   },
   {
    "duration": 9,
    "start_time": "2022-09-27T19:22:44.220Z"
   },
   {
    "duration": 174,
    "start_time": "2022-09-27T19:22:44.253Z"
   },
   {
    "duration": 141,
    "start_time": "2022-09-27T19:22:44.429Z"
   },
   {
    "duration": 9,
    "start_time": "2022-09-27T19:22:44.572Z"
   },
   {
    "duration": 10,
    "start_time": "2022-09-27T19:22:44.583Z"
   },
   {
    "duration": 322,
    "start_time": "2022-09-27T19:22:44.595Z"
   },
   {
    "duration": 244,
    "start_time": "2022-09-27T19:22:44.918Z"
   },
   {
    "duration": 356,
    "start_time": "2022-09-27T19:22:45.164Z"
   },
   {
    "duration": 284,
    "start_time": "2022-09-27T19:22:45.522Z"
   },
   {
    "duration": 342,
    "start_time": "2022-09-27T19:22:45.808Z"
   },
   {
    "duration": 10,
    "start_time": "2022-09-27T19:22:46.154Z"
   },
   {
    "duration": 152,
    "start_time": "2022-09-27T19:22:46.165Z"
   },
   {
    "duration": 153,
    "start_time": "2022-09-27T19:22:46.318Z"
   },
   {
    "duration": 6,
    "start_time": "2022-09-27T19:22:46.473Z"
   },
   {
    "duration": 291,
    "start_time": "2022-09-27T19:22:46.481Z"
   },
   {
    "duration": 332,
    "start_time": "2022-09-27T19:22:46.774Z"
   },
   {
    "duration": 153,
    "start_time": "2022-09-27T19:22:47.155Z"
   },
   {
    "duration": 4,
    "start_time": "2022-09-27T19:22:47.310Z"
   },
   {
    "duration": 257,
    "start_time": "2022-09-27T19:22:47.315Z"
   },
   {
    "duration": 143,
    "start_time": "2022-09-27T19:22:47.573Z"
   },
   {
    "duration": 24,
    "start_time": "2022-09-27T19:22:47.718Z"
   },
   {
    "duration": 12,
    "start_time": "2022-09-27T19:22:47.755Z"
   },
   {
    "duration": 4,
    "start_time": "2022-09-27T19:22:47.769Z"
   },
   {
    "duration": 11,
    "start_time": "2022-09-27T19:22:47.774Z"
   },
   {
    "duration": 12,
    "start_time": "2022-09-27T19:22:47.786Z"
   },
   {
    "duration": 24,
    "start_time": "2022-09-27T19:22:47.800Z"
   },
   {
    "duration": 15,
    "start_time": "2022-09-27T19:22:47.855Z"
   },
   {
    "duration": 1328,
    "start_time": "2022-09-27T21:27:11.811Z"
   },
   {
    "duration": 148,
    "start_time": "2022-09-27T21:27:13.141Z"
   },
   {
    "duration": 17,
    "start_time": "2022-09-27T21:27:13.291Z"
   },
   {
    "duration": 14,
    "start_time": "2022-09-27T21:27:13.310Z"
   },
   {
    "duration": 16,
    "start_time": "2022-09-27T21:27:13.326Z"
   },
   {
    "duration": 102,
    "start_time": "2022-09-27T21:27:13.346Z"
   },
   {
    "duration": 17,
    "start_time": "2022-09-27T21:27:13.450Z"
   },
   {
    "duration": 66,
    "start_time": "2022-09-27T21:27:13.469Z"
   },
   {
    "duration": 18,
    "start_time": "2022-09-27T21:27:13.537Z"
   },
   {
    "duration": 25,
    "start_time": "2022-09-27T21:27:13.557Z"
   },
   {
    "duration": 23,
    "start_time": "2022-09-27T21:27:13.583Z"
   },
   {
    "duration": 5,
    "start_time": "2022-09-27T21:27:13.608Z"
   },
   {
    "duration": 8,
    "start_time": "2022-09-27T21:27:13.614Z"
   },
   {
    "duration": 7,
    "start_time": "2022-09-27T21:27:13.624Z"
   },
   {
    "duration": 7,
    "start_time": "2022-09-27T21:27:13.633Z"
   },
   {
    "duration": 7,
    "start_time": "2022-09-27T21:27:13.642Z"
   },
   {
    "duration": 39,
    "start_time": "2022-09-27T21:27:13.651Z"
   },
   {
    "duration": 5,
    "start_time": "2022-09-27T21:27:13.692Z"
   },
   {
    "duration": 6,
    "start_time": "2022-09-27T21:27:13.699Z"
   },
   {
    "duration": 10,
    "start_time": "2022-09-27T21:27:13.706Z"
   },
   {
    "duration": 190,
    "start_time": "2022-09-27T21:27:13.718Z"
   },
   {
    "duration": 125,
    "start_time": "2022-09-27T21:27:13.910Z"
   },
   {
    "duration": 9,
    "start_time": "2022-09-27T21:27:14.037Z"
   },
   {
    "duration": 8,
    "start_time": "2022-09-27T21:27:14.048Z"
   },
   {
    "duration": 318,
    "start_time": "2022-09-27T21:27:14.058Z"
   },
   {
    "duration": 230,
    "start_time": "2022-09-27T21:27:14.377Z"
   },
   {
    "duration": 349,
    "start_time": "2022-09-27T21:27:14.609Z"
   },
   {
    "duration": 259,
    "start_time": "2022-09-27T21:27:14.961Z"
   },
   {
    "duration": 339,
    "start_time": "2022-09-27T21:27:15.222Z"
   },
   {
    "duration": 11,
    "start_time": "2022-09-27T21:27:15.563Z"
   },
   {
    "duration": 159,
    "start_time": "2022-09-27T21:27:15.576Z"
   },
   {
    "duration": 152,
    "start_time": "2022-09-27T21:27:15.737Z"
   },
   {
    "duration": 5,
    "start_time": "2022-09-27T21:27:15.891Z"
   },
   {
    "duration": 280,
    "start_time": "2022-09-27T21:27:15.898Z"
   },
   {
    "duration": 226,
    "start_time": "2022-09-27T21:27:16.180Z"
   },
   {
    "duration": 162,
    "start_time": "2022-09-27T21:27:16.408Z"
   },
   {
    "duration": 5,
    "start_time": "2022-09-27T21:27:16.572Z"
   },
   {
    "duration": 241,
    "start_time": "2022-09-27T21:27:16.578Z"
   },
   {
    "duration": 139,
    "start_time": "2022-09-27T21:27:16.820Z"
   },
   {
    "duration": 33,
    "start_time": "2022-09-27T21:27:16.961Z"
   },
   {
    "duration": 11,
    "start_time": "2022-09-27T21:27:16.996Z"
   },
   {
    "duration": 4,
    "start_time": "2022-09-27T21:27:17.009Z"
   },
   {
    "duration": 18,
    "start_time": "2022-09-27T21:27:17.014Z"
   },
   {
    "duration": 31,
    "start_time": "2022-09-27T21:27:17.034Z"
   },
   {
    "duration": 35,
    "start_time": "2022-09-27T21:27:17.066Z"
   },
   {
    "duration": 15,
    "start_time": "2022-09-27T21:27:17.103Z"
   },
   {
    "duration": 6,
    "start_time": "2022-09-27T21:28:01.294Z"
   },
   {
    "duration": 13,
    "start_time": "2022-09-27T21:28:12.621Z"
   },
   {
    "duration": 1077,
    "start_time": "2022-11-27T20:56:43.487Z"
   },
   {
    "duration": 133,
    "start_time": "2022-11-27T20:56:44.566Z"
   },
   {
    "duration": 15,
    "start_time": "2022-11-27T20:56:44.700Z"
   },
   {
    "duration": 14,
    "start_time": "2022-11-27T20:56:44.718Z"
   },
   {
    "duration": 14,
    "start_time": "2022-11-27T20:56:44.734Z"
   },
   {
    "duration": 82,
    "start_time": "2022-11-27T20:56:44.749Z"
   },
   {
    "duration": 13,
    "start_time": "2022-11-27T20:56:44.832Z"
   },
   {
    "duration": 64,
    "start_time": "2022-11-27T20:56:44.847Z"
   },
   {
    "duration": 20,
    "start_time": "2022-11-27T20:56:44.913Z"
   },
   {
    "duration": 16,
    "start_time": "2022-11-27T20:56:44.936Z"
   },
   {
    "duration": 17,
    "start_time": "2022-11-27T20:56:44.954Z"
   },
   {
    "duration": 5,
    "start_time": "2022-11-27T20:56:44.973Z"
   },
   {
    "duration": 8,
    "start_time": "2022-11-27T20:56:44.979Z"
   },
   {
    "duration": 35,
    "start_time": "2022-11-27T20:56:44.988Z"
   },
   {
    "duration": 10,
    "start_time": "2022-11-27T20:56:45.026Z"
   },
   {
    "duration": 45,
    "start_time": "2022-11-27T20:56:45.037Z"
   },
   {
    "duration": 31,
    "start_time": "2022-11-27T20:56:45.083Z"
   },
   {
    "duration": 21,
    "start_time": "2022-11-27T20:56:45.116Z"
   },
   {
    "duration": 21,
    "start_time": "2022-11-27T20:56:45.139Z"
   },
   {
    "duration": 26,
    "start_time": "2022-11-27T20:56:45.162Z"
   },
   {
    "duration": 172,
    "start_time": "2022-11-27T20:56:45.189Z"
   },
   {
    "duration": 126,
    "start_time": "2022-11-27T20:56:45.363Z"
   },
   {
    "duration": 10,
    "start_time": "2022-11-27T20:56:45.491Z"
   },
   {
    "duration": 7,
    "start_time": "2022-11-27T20:56:45.521Z"
   },
   {
    "duration": 301,
    "start_time": "2022-11-27T20:56:45.530Z"
   },
   {
    "duration": 219,
    "start_time": "2022-11-27T20:56:45.833Z"
   },
   {
    "duration": 272,
    "start_time": "2022-11-27T20:56:46.054Z"
   },
   {
    "duration": 219,
    "start_time": "2022-11-27T20:56:46.330Z"
   },
   {
    "duration": 316,
    "start_time": "2022-11-27T20:56:46.551Z"
   },
   {
    "duration": 9,
    "start_time": "2022-11-27T20:56:46.868Z"
   },
   {
    "duration": 145,
    "start_time": "2022-11-27T20:56:46.879Z"
   },
   {
    "duration": 135,
    "start_time": "2022-11-27T20:56:47.026Z"
   },
   {
    "duration": 5,
    "start_time": "2022-11-27T20:56:47.163Z"
   },
   {
    "duration": 244,
    "start_time": "2022-11-27T20:56:47.169Z"
   },
   {
    "duration": 214,
    "start_time": "2022-11-27T20:56:47.414Z"
   },
   {
    "duration": 143,
    "start_time": "2022-11-27T20:56:47.630Z"
   },
   {
    "duration": 4,
    "start_time": "2022-11-27T20:56:47.774Z"
   },
   {
    "duration": 246,
    "start_time": "2022-11-27T20:56:47.779Z"
   },
   {
    "duration": 153,
    "start_time": "2022-11-27T20:56:48.027Z"
   },
   {
    "duration": 52,
    "start_time": "2022-11-27T20:56:48.182Z"
   },
   {
    "duration": 11,
    "start_time": "2022-11-27T20:56:48.235Z"
   },
   {
    "duration": 5,
    "start_time": "2022-11-27T20:56:48.247Z"
   },
   {
    "duration": 9,
    "start_time": "2022-11-27T20:56:48.253Z"
   },
   {
    "duration": 7,
    "start_time": "2022-11-27T20:56:48.264Z"
   },
   {
    "duration": 21,
    "start_time": "2022-11-27T20:56:48.273Z"
   },
   {
    "duration": 26,
    "start_time": "2022-11-27T20:56:48.296Z"
   }
  ],
  "kernelspec": {
   "display_name": "Python 3 (ipykernel)",
   "language": "python",
   "name": "python3"
  },
  "language_info": {
   "codemirror_mode": {
    "name": "ipython",
    "version": 3
   },
   "file_extension": ".py",
   "mimetype": "text/x-python",
   "name": "python",
   "nbconvert_exporter": "python",
   "pygments_lexer": "ipython3",
   "version": "3.9.5"
  },
  "toc": {
   "base_numbering": 1,
   "nav_menu": {},
   "number_sections": true,
   "sideBar": true,
   "skip_h1_title": true,
   "title_cell": "Table of Contents",
   "title_sidebar": "Contents",
   "toc_cell": false,
   "toc_position": {
    "height": "calc(100% - 180px)",
    "left": "10px",
    "top": "150px",
    "width": "285.764px"
   },
   "toc_section_display": true,
   "toc_window_display": true
  }
 },
 "nbformat": 4,
 "nbformat_minor": 2
}
