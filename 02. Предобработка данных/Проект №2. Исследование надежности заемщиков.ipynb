{
 "cells": [
  {
   "cell_type": "markdown",
   "id": "ce3e8ddc",
   "metadata": {},
   "source": [
    "# Исследование надежности заемщиков - анализ банковских данных"
   ]
  },
  {
   "cell_type": "markdown",
   "id": "e4aa3ec7",
   "metadata": {},
   "source": [
    "**Цель исследования** - оценить влияние семейного положения, количества детей и уровня достатка клиента на факт погашения кредита в срок. Результаты исследования будут учтены при построении модели кредитного скоринга.\n",
    "\n",
    "**Ход исследования**\n",
    "Заказчик — кредитный отдел банка. Данные о клиентах я получаю из файла /datasets/data.csv. О качестве данных ничего не известно. Поэтому перед проверкой гипотез понадобится обзор данных.\n",
    "\n",
    "Таким образом, исследование пройдёт в три этапа:\n",
    "\n",
    " 1. Обзор данных.\n",
    " 2. Предобработка данных.\n",
    " 3. Проверка гипотез."
   ]
  },
  {
   "cell_type": "markdown",
   "id": "d212c18b",
   "metadata": {},
   "source": [
    "### Шаг 1. Обзор данных"
   ]
  },
  {
   "cell_type": "code",
   "execution_count": 1,
   "id": "eec1c352",
   "metadata": {},
   "outputs": [],
   "source": [
    "import pandas as pd # импорт библиотеки pandas"
   ]
  },
  {
   "cell_type": "code",
   "execution_count": 2,
   "id": "f347e073",
   "metadata": {},
   "outputs": [],
   "source": [
    "df = pd.read_csv('/datasets/data.csv')  # чтение файла с данными и сохранение в df"
   ]
  },
  {
   "cell_type": "code",
   "execution_count": 3,
   "id": "84a57eb1",
   "metadata": {},
   "outputs": [
    {
     "data": {
      "text/html": [
       "<div>\n",
       "<style scoped>\n",
       "    .dataframe tbody tr th:only-of-type {\n",
       "        vertical-align: middle;\n",
       "    }\n",
       "\n",
       "    .dataframe tbody tr th {\n",
       "        vertical-align: top;\n",
       "    }\n",
       "\n",
       "    .dataframe thead th {\n",
       "        text-align: right;\n",
       "    }\n",
       "</style>\n",
       "<table border=\"1\" class=\"dataframe\">\n",
       "  <thead>\n",
       "    <tr style=\"text-align: right;\">\n",
       "      <th></th>\n",
       "      <th>children</th>\n",
       "      <th>days_employed</th>\n",
       "      <th>dob_years</th>\n",
       "      <th>education</th>\n",
       "      <th>education_id</th>\n",
       "      <th>family_status</th>\n",
       "      <th>family_status_id</th>\n",
       "      <th>gender</th>\n",
       "      <th>income_type</th>\n",
       "      <th>debt</th>\n",
       "      <th>total_income</th>\n",
       "      <th>purpose</th>\n",
       "    </tr>\n",
       "  </thead>\n",
       "  <tbody>\n",
       "    <tr>\n",
       "      <th>0</th>\n",
       "      <td>1</td>\n",
       "      <td>-8437.673028</td>\n",
       "      <td>42</td>\n",
       "      <td>высшее</td>\n",
       "      <td>0</td>\n",
       "      <td>женат / замужем</td>\n",
       "      <td>0</td>\n",
       "      <td>F</td>\n",
       "      <td>сотрудник</td>\n",
       "      <td>0</td>\n",
       "      <td>253875.639453</td>\n",
       "      <td>покупка жилья</td>\n",
       "    </tr>\n",
       "    <tr>\n",
       "      <th>1</th>\n",
       "      <td>1</td>\n",
       "      <td>-4024.803754</td>\n",
       "      <td>36</td>\n",
       "      <td>среднее</td>\n",
       "      <td>1</td>\n",
       "      <td>женат / замужем</td>\n",
       "      <td>0</td>\n",
       "      <td>F</td>\n",
       "      <td>сотрудник</td>\n",
       "      <td>0</td>\n",
       "      <td>112080.014102</td>\n",
       "      <td>приобретение автомобиля</td>\n",
       "    </tr>\n",
       "    <tr>\n",
       "      <th>2</th>\n",
       "      <td>0</td>\n",
       "      <td>-5623.422610</td>\n",
       "      <td>33</td>\n",
       "      <td>Среднее</td>\n",
       "      <td>1</td>\n",
       "      <td>женат / замужем</td>\n",
       "      <td>0</td>\n",
       "      <td>M</td>\n",
       "      <td>сотрудник</td>\n",
       "      <td>0</td>\n",
       "      <td>145885.952297</td>\n",
       "      <td>покупка жилья</td>\n",
       "    </tr>\n",
       "    <tr>\n",
       "      <th>3</th>\n",
       "      <td>3</td>\n",
       "      <td>-4124.747207</td>\n",
       "      <td>32</td>\n",
       "      <td>среднее</td>\n",
       "      <td>1</td>\n",
       "      <td>женат / замужем</td>\n",
       "      <td>0</td>\n",
       "      <td>M</td>\n",
       "      <td>сотрудник</td>\n",
       "      <td>0</td>\n",
       "      <td>267628.550329</td>\n",
       "      <td>дополнительное образование</td>\n",
       "    </tr>\n",
       "    <tr>\n",
       "      <th>4</th>\n",
       "      <td>0</td>\n",
       "      <td>340266.072047</td>\n",
       "      <td>53</td>\n",
       "      <td>среднее</td>\n",
       "      <td>1</td>\n",
       "      <td>гражданский брак</td>\n",
       "      <td>1</td>\n",
       "      <td>F</td>\n",
       "      <td>пенсионер</td>\n",
       "      <td>0</td>\n",
       "      <td>158616.077870</td>\n",
       "      <td>сыграть свадьбу</td>\n",
       "    </tr>\n",
       "    <tr>\n",
       "      <th>5</th>\n",
       "      <td>0</td>\n",
       "      <td>-926.185831</td>\n",
       "      <td>27</td>\n",
       "      <td>высшее</td>\n",
       "      <td>0</td>\n",
       "      <td>гражданский брак</td>\n",
       "      <td>1</td>\n",
       "      <td>M</td>\n",
       "      <td>компаньон</td>\n",
       "      <td>0</td>\n",
       "      <td>255763.565419</td>\n",
       "      <td>покупка жилья</td>\n",
       "    </tr>\n",
       "    <tr>\n",
       "      <th>6</th>\n",
       "      <td>0</td>\n",
       "      <td>-2879.202052</td>\n",
       "      <td>43</td>\n",
       "      <td>высшее</td>\n",
       "      <td>0</td>\n",
       "      <td>женат / замужем</td>\n",
       "      <td>0</td>\n",
       "      <td>F</td>\n",
       "      <td>компаньон</td>\n",
       "      <td>0</td>\n",
       "      <td>240525.971920</td>\n",
       "      <td>операции с жильем</td>\n",
       "    </tr>\n",
       "    <tr>\n",
       "      <th>7</th>\n",
       "      <td>0</td>\n",
       "      <td>-152.779569</td>\n",
       "      <td>50</td>\n",
       "      <td>СРЕДНЕЕ</td>\n",
       "      <td>1</td>\n",
       "      <td>женат / замужем</td>\n",
       "      <td>0</td>\n",
       "      <td>M</td>\n",
       "      <td>сотрудник</td>\n",
       "      <td>0</td>\n",
       "      <td>135823.934197</td>\n",
       "      <td>образование</td>\n",
       "    </tr>\n",
       "    <tr>\n",
       "      <th>8</th>\n",
       "      <td>2</td>\n",
       "      <td>-6929.865299</td>\n",
       "      <td>35</td>\n",
       "      <td>ВЫСШЕЕ</td>\n",
       "      <td>0</td>\n",
       "      <td>гражданский брак</td>\n",
       "      <td>1</td>\n",
       "      <td>F</td>\n",
       "      <td>сотрудник</td>\n",
       "      <td>0</td>\n",
       "      <td>95856.832424</td>\n",
       "      <td>на проведение свадьбы</td>\n",
       "    </tr>\n",
       "    <tr>\n",
       "      <th>9</th>\n",
       "      <td>0</td>\n",
       "      <td>-2188.756445</td>\n",
       "      <td>41</td>\n",
       "      <td>среднее</td>\n",
       "      <td>1</td>\n",
       "      <td>женат / замужем</td>\n",
       "      <td>0</td>\n",
       "      <td>M</td>\n",
       "      <td>сотрудник</td>\n",
       "      <td>0</td>\n",
       "      <td>144425.938277</td>\n",
       "      <td>покупка жилья для семьи</td>\n",
       "    </tr>\n",
       "    <tr>\n",
       "      <th>10</th>\n",
       "      <td>2</td>\n",
       "      <td>-4171.483647</td>\n",
       "      <td>36</td>\n",
       "      <td>высшее</td>\n",
       "      <td>0</td>\n",
       "      <td>женат / замужем</td>\n",
       "      <td>0</td>\n",
       "      <td>M</td>\n",
       "      <td>компаньон</td>\n",
       "      <td>0</td>\n",
       "      <td>113943.491460</td>\n",
       "      <td>покупка недвижимости</td>\n",
       "    </tr>\n",
       "    <tr>\n",
       "      <th>11</th>\n",
       "      <td>0</td>\n",
       "      <td>-792.701887</td>\n",
       "      <td>40</td>\n",
       "      <td>среднее</td>\n",
       "      <td>1</td>\n",
       "      <td>женат / замужем</td>\n",
       "      <td>0</td>\n",
       "      <td>F</td>\n",
       "      <td>сотрудник</td>\n",
       "      <td>0</td>\n",
       "      <td>77069.234271</td>\n",
       "      <td>покупка коммерческой недвижимости</td>\n",
       "    </tr>\n",
       "    <tr>\n",
       "      <th>12</th>\n",
       "      <td>0</td>\n",
       "      <td>NaN</td>\n",
       "      <td>65</td>\n",
       "      <td>среднее</td>\n",
       "      <td>1</td>\n",
       "      <td>гражданский брак</td>\n",
       "      <td>1</td>\n",
       "      <td>M</td>\n",
       "      <td>пенсионер</td>\n",
       "      <td>0</td>\n",
       "      <td>NaN</td>\n",
       "      <td>сыграть свадьбу</td>\n",
       "    </tr>\n",
       "    <tr>\n",
       "      <th>13</th>\n",
       "      <td>0</td>\n",
       "      <td>-1846.641941</td>\n",
       "      <td>54</td>\n",
       "      <td>неоконченное высшее</td>\n",
       "      <td>2</td>\n",
       "      <td>женат / замужем</td>\n",
       "      <td>0</td>\n",
       "      <td>F</td>\n",
       "      <td>сотрудник</td>\n",
       "      <td>0</td>\n",
       "      <td>130458.228857</td>\n",
       "      <td>приобретение автомобиля</td>\n",
       "    </tr>\n",
       "    <tr>\n",
       "      <th>14</th>\n",
       "      <td>0</td>\n",
       "      <td>-1844.956182</td>\n",
       "      <td>56</td>\n",
       "      <td>высшее</td>\n",
       "      <td>0</td>\n",
       "      <td>гражданский брак</td>\n",
       "      <td>1</td>\n",
       "      <td>F</td>\n",
       "      <td>компаньон</td>\n",
       "      <td>1</td>\n",
       "      <td>165127.911772</td>\n",
       "      <td>покупка жилой недвижимости</td>\n",
       "    </tr>\n",
       "    <tr>\n",
       "      <th>15</th>\n",
       "      <td>1</td>\n",
       "      <td>-972.364419</td>\n",
       "      <td>26</td>\n",
       "      <td>среднее</td>\n",
       "      <td>1</td>\n",
       "      <td>женат / замужем</td>\n",
       "      <td>0</td>\n",
       "      <td>F</td>\n",
       "      <td>сотрудник</td>\n",
       "      <td>0</td>\n",
       "      <td>116820.904450</td>\n",
       "      <td>строительство собственной недвижимости</td>\n",
       "    </tr>\n",
       "    <tr>\n",
       "      <th>16</th>\n",
       "      <td>0</td>\n",
       "      <td>-1719.934226</td>\n",
       "      <td>35</td>\n",
       "      <td>среднее</td>\n",
       "      <td>1</td>\n",
       "      <td>женат / замужем</td>\n",
       "      <td>0</td>\n",
       "      <td>F</td>\n",
       "      <td>сотрудник</td>\n",
       "      <td>0</td>\n",
       "      <td>289202.704229</td>\n",
       "      <td>недвижимость</td>\n",
       "    </tr>\n",
       "    <tr>\n",
       "      <th>17</th>\n",
       "      <td>0</td>\n",
       "      <td>-2369.999720</td>\n",
       "      <td>33</td>\n",
       "      <td>высшее</td>\n",
       "      <td>0</td>\n",
       "      <td>гражданский брак</td>\n",
       "      <td>1</td>\n",
       "      <td>M</td>\n",
       "      <td>сотрудник</td>\n",
       "      <td>0</td>\n",
       "      <td>90410.586745</td>\n",
       "      <td>строительство недвижимости</td>\n",
       "    </tr>\n",
       "    <tr>\n",
       "      <th>18</th>\n",
       "      <td>0</td>\n",
       "      <td>400281.136913</td>\n",
       "      <td>53</td>\n",
       "      <td>среднее</td>\n",
       "      <td>1</td>\n",
       "      <td>вдовец / вдова</td>\n",
       "      <td>2</td>\n",
       "      <td>F</td>\n",
       "      <td>пенсионер</td>\n",
       "      <td>0</td>\n",
       "      <td>56823.777243</td>\n",
       "      <td>на покупку подержанного автомобиля</td>\n",
       "    </tr>\n",
       "    <tr>\n",
       "      <th>19</th>\n",
       "      <td>0</td>\n",
       "      <td>-10038.818549</td>\n",
       "      <td>48</td>\n",
       "      <td>СРЕДНЕЕ</td>\n",
       "      <td>1</td>\n",
       "      <td>в разводе</td>\n",
       "      <td>3</td>\n",
       "      <td>F</td>\n",
       "      <td>сотрудник</td>\n",
       "      <td>0</td>\n",
       "      <td>242831.107982</td>\n",
       "      <td>на покупку своего автомобиля</td>\n",
       "    </tr>\n",
       "  </tbody>\n",
       "</table>\n",
       "</div>"
      ],
      "text/plain": [
       "    children  days_employed  dob_years            education  education_id  \\\n",
       "0          1   -8437.673028         42               высшее             0   \n",
       "1          1   -4024.803754         36              среднее             1   \n",
       "2          0   -5623.422610         33              Среднее             1   \n",
       "3          3   -4124.747207         32              среднее             1   \n",
       "4          0  340266.072047         53              среднее             1   \n",
       "5          0    -926.185831         27               высшее             0   \n",
       "6          0   -2879.202052         43               высшее             0   \n",
       "7          0    -152.779569         50              СРЕДНЕЕ             1   \n",
       "8          2   -6929.865299         35               ВЫСШЕЕ             0   \n",
       "9          0   -2188.756445         41              среднее             1   \n",
       "10         2   -4171.483647         36               высшее             0   \n",
       "11         0    -792.701887         40              среднее             1   \n",
       "12         0            NaN         65              среднее             1   \n",
       "13         0   -1846.641941         54  неоконченное высшее             2   \n",
       "14         0   -1844.956182         56               высшее             0   \n",
       "15         1    -972.364419         26              среднее             1   \n",
       "16         0   -1719.934226         35              среднее             1   \n",
       "17         0   -2369.999720         33               высшее             0   \n",
       "18         0  400281.136913         53              среднее             1   \n",
       "19         0  -10038.818549         48              СРЕДНЕЕ             1   \n",
       "\n",
       "       family_status  family_status_id gender income_type  debt  \\\n",
       "0    женат / замужем                 0      F   сотрудник     0   \n",
       "1    женат / замужем                 0      F   сотрудник     0   \n",
       "2    женат / замужем                 0      M   сотрудник     0   \n",
       "3    женат / замужем                 0      M   сотрудник     0   \n",
       "4   гражданский брак                 1      F   пенсионер     0   \n",
       "5   гражданский брак                 1      M   компаньон     0   \n",
       "6    женат / замужем                 0      F   компаньон     0   \n",
       "7    женат / замужем                 0      M   сотрудник     0   \n",
       "8   гражданский брак                 1      F   сотрудник     0   \n",
       "9    женат / замужем                 0      M   сотрудник     0   \n",
       "10   женат / замужем                 0      M   компаньон     0   \n",
       "11   женат / замужем                 0      F   сотрудник     0   \n",
       "12  гражданский брак                 1      M   пенсионер     0   \n",
       "13   женат / замужем                 0      F   сотрудник     0   \n",
       "14  гражданский брак                 1      F   компаньон     1   \n",
       "15   женат / замужем                 0      F   сотрудник     0   \n",
       "16   женат / замужем                 0      F   сотрудник     0   \n",
       "17  гражданский брак                 1      M   сотрудник     0   \n",
       "18    вдовец / вдова                 2      F   пенсионер     0   \n",
       "19         в разводе                 3      F   сотрудник     0   \n",
       "\n",
       "     total_income                                 purpose  \n",
       "0   253875.639453                           покупка жилья  \n",
       "1   112080.014102                 приобретение автомобиля  \n",
       "2   145885.952297                           покупка жилья  \n",
       "3   267628.550329              дополнительное образование  \n",
       "4   158616.077870                         сыграть свадьбу  \n",
       "5   255763.565419                           покупка жилья  \n",
       "6   240525.971920                       операции с жильем  \n",
       "7   135823.934197                             образование  \n",
       "8    95856.832424                   на проведение свадьбы  \n",
       "9   144425.938277                 покупка жилья для семьи  \n",
       "10  113943.491460                    покупка недвижимости  \n",
       "11   77069.234271       покупка коммерческой недвижимости  \n",
       "12            NaN                         сыграть свадьбу  \n",
       "13  130458.228857                 приобретение автомобиля  \n",
       "14  165127.911772              покупка жилой недвижимости  \n",
       "15  116820.904450  строительство собственной недвижимости  \n",
       "16  289202.704229                            недвижимость  \n",
       "17   90410.586745              строительство недвижимости  \n",
       "18   56823.777243      на покупку подержанного автомобиля  \n",
       "19  242831.107982            на покупку своего автомобиля  "
      ]
     },
     "execution_count": 3,
     "metadata": {},
     "output_type": "execute_result"
    }
   ],
   "source": [
    "df.head(20)  # получение первых 20 строк таблицы df"
   ]
  },
  {
   "cell_type": "code",
   "execution_count": 4,
   "id": "8d1814b6",
   "metadata": {},
   "outputs": [
    {
     "name": "stdout",
     "output_type": "stream",
     "text": [
      "<class 'pandas.core.frame.DataFrame'>\n",
      "RangeIndex: 21525 entries, 0 to 21524\n",
      "Data columns (total 12 columns):\n",
      " #   Column            Non-Null Count  Dtype  \n",
      "---  ------            --------------  -----  \n",
      " 0   children          21525 non-null  int64  \n",
      " 1   days_employed     19351 non-null  float64\n",
      " 2   dob_years         21525 non-null  int64  \n",
      " 3   education         21525 non-null  object \n",
      " 4   education_id      21525 non-null  int64  \n",
      " 5   family_status     21525 non-null  object \n",
      " 6   family_status_id  21525 non-null  int64  \n",
      " 7   gender            21525 non-null  object \n",
      " 8   income_type       21525 non-null  object \n",
      " 9   debt              21525 non-null  int64  \n",
      " 10  total_income      19351 non-null  float64\n",
      " 11  purpose           21525 non-null  object \n",
      "dtypes: float64(2), int64(5), object(5)\n",
      "memory usage: 2.0+ MB\n"
     ]
    }
   ],
   "source": [
    "df.info() # получение общей информации о данных в таблице df"
   ]
  },
  {
   "cell_type": "markdown",
   "id": "c0b709ca",
   "metadata": {},
   "source": [
    "**Выводы**\n",
    "\n",
    "В таблице 12 столбцов.\n",
    "Согласно документации к данным:\n",
    "* children — количество детей в семье\n",
    "* days_employed — общий трудовой стаж в днях\n",
    "* dob_years — возраст клиента в годах\n",
    "* education — уровень образования клиента\n",
    "* education_id — идентификатор уровня образования\n",
    "* family_status — семейное положение\n",
    "* family_status_id — идентификатор семейного положения\n",
    "* gender — пол клиента\n",
    "* income_type — тип занятости\n",
    "* debt — имел ли задолженность по возврату кредитов\n",
    "* total_income — ежемесячный доход\n",
    "* purpose — цель получения кредита\n",
    "\n",
    "Количество значений в столбцах различается. Значит, в данных есть пропущенные значения.\n",
    "В каждой строке таблицы данные о клиенте банка.\n",
    "В данных встречаются пропуски (NaN), артефакты (трудовой стаж с минусовым значением, неправдопадобный трудовой стаж (340266.072047 = 932 года)) и расхождения с хорошим стилем.\n",
    "\n",
    "Чтобы двигаться дальше, нужно устранить проблемы в данных."
   ]
  },
  {
   "cell_type": "markdown",
   "id": "fcac67f9",
   "metadata": {},
   "source": [
    "### Шаг 2.1 Заполнение пропусков"
   ]
  },
  {
   "cell_type": "code",
   "execution_count": 5,
   "id": "29324129",
   "metadata": {},
   "outputs": [
    {
     "data": {
      "text/plain": [
       "children               0\n",
       "days_employed       2174\n",
       "dob_years              0\n",
       "education              0\n",
       "education_id           0\n",
       "family_status          0\n",
       "family_status_id       0\n",
       "gender                 0\n",
       "income_type            0\n",
       "debt                   0\n",
       "total_income        2174\n",
       "purpose                0\n",
       "dtype: int64"
      ]
     },
     "execution_count": 5,
     "metadata": {},
     "output_type": "execute_result"
    }
   ],
   "source": [
    "df.isna().sum() # находим количество пропусков в каждом столбце"
   ]
  },
  {
   "cell_type": "code",
   "execution_count": 6,
   "id": "5794cc05",
   "metadata": {},
   "outputs": [
    {
     "data": {
      "text/plain": [
       "'Значения отсутствуют в: 10.1%'"
      ]
     },
     "execution_count": 6,
     "metadata": {},
     "output_type": "execute_result"
    }
   ],
   "source": [
    "'Значения отсутствуют в: {:.1%}' .format(df['days_employed'].isna().sum() / len(df)) # посчитаем процент пропусков "
   ]
  },
  {
   "cell_type": "markdown",
   "id": "7c3298da",
   "metadata": {},
   "source": [
    "10% - доля пропущенных значений в столбце days_employed и total_income (так как количество пропущенных значений для двух столбцов одинаково)."
   ]
  },
  {
   "cell_type": "markdown",
   "id": "0dc50ca8",
   "metadata": {},
   "source": [
    "В таблице одинаковое количество пропусков в days_employed и total_income.  Можно предположить, что это связано с тем, что в столбце income_type будет \"безработный\". Тогда отсутствие значений в этих строках оправдано и заполнить пропуски следует нулем. Чтобы подтвердить эту гепотизу или опровергнуть выведем строки датафрейм, в столбцах которых встречаются пропуски. <a id='tab'></a>"
   ]
  },
  {
   "cell_type": "code",
   "execution_count": 7,
   "id": "b8f5cda2",
   "metadata": {},
   "outputs": [
    {
     "data": {
      "text/html": [
       "<div>\n",
       "<style scoped>\n",
       "    .dataframe tbody tr th:only-of-type {\n",
       "        vertical-align: middle;\n",
       "    }\n",
       "\n",
       "    .dataframe tbody tr th {\n",
       "        vertical-align: top;\n",
       "    }\n",
       "\n",
       "    .dataframe thead th {\n",
       "        text-align: right;\n",
       "    }\n",
       "</style>\n",
       "<table border=\"1\" class=\"dataframe\">\n",
       "  <thead>\n",
       "    <tr style=\"text-align: right;\">\n",
       "      <th></th>\n",
       "      <th>children</th>\n",
       "      <th>days_employed</th>\n",
       "      <th>dob_years</th>\n",
       "      <th>education</th>\n",
       "      <th>education_id</th>\n",
       "      <th>family_status</th>\n",
       "      <th>family_status_id</th>\n",
       "      <th>gender</th>\n",
       "      <th>income_type</th>\n",
       "      <th>debt</th>\n",
       "      <th>total_income</th>\n",
       "      <th>purpose</th>\n",
       "    </tr>\n",
       "  </thead>\n",
       "  <tbody>\n",
       "    <tr>\n",
       "      <th>12</th>\n",
       "      <td>0</td>\n",
       "      <td>NaN</td>\n",
       "      <td>65</td>\n",
       "      <td>среднее</td>\n",
       "      <td>1</td>\n",
       "      <td>гражданский брак</td>\n",
       "      <td>1</td>\n",
       "      <td>M</td>\n",
       "      <td>пенсионер</td>\n",
       "      <td>0</td>\n",
       "      <td>NaN</td>\n",
       "      <td>сыграть свадьбу</td>\n",
       "    </tr>\n",
       "    <tr>\n",
       "      <th>26</th>\n",
       "      <td>0</td>\n",
       "      <td>NaN</td>\n",
       "      <td>41</td>\n",
       "      <td>среднее</td>\n",
       "      <td>1</td>\n",
       "      <td>женат / замужем</td>\n",
       "      <td>0</td>\n",
       "      <td>M</td>\n",
       "      <td>госслужащий</td>\n",
       "      <td>0</td>\n",
       "      <td>NaN</td>\n",
       "      <td>образование</td>\n",
       "    </tr>\n",
       "    <tr>\n",
       "      <th>29</th>\n",
       "      <td>0</td>\n",
       "      <td>NaN</td>\n",
       "      <td>63</td>\n",
       "      <td>среднее</td>\n",
       "      <td>1</td>\n",
       "      <td>Не женат / не замужем</td>\n",
       "      <td>4</td>\n",
       "      <td>F</td>\n",
       "      <td>пенсионер</td>\n",
       "      <td>0</td>\n",
       "      <td>NaN</td>\n",
       "      <td>строительство жилой недвижимости</td>\n",
       "    </tr>\n",
       "    <tr>\n",
       "      <th>41</th>\n",
       "      <td>0</td>\n",
       "      <td>NaN</td>\n",
       "      <td>50</td>\n",
       "      <td>среднее</td>\n",
       "      <td>1</td>\n",
       "      <td>женат / замужем</td>\n",
       "      <td>0</td>\n",
       "      <td>F</td>\n",
       "      <td>госслужащий</td>\n",
       "      <td>0</td>\n",
       "      <td>NaN</td>\n",
       "      <td>сделка с подержанным автомобилем</td>\n",
       "    </tr>\n",
       "    <tr>\n",
       "      <th>55</th>\n",
       "      <td>0</td>\n",
       "      <td>NaN</td>\n",
       "      <td>54</td>\n",
       "      <td>среднее</td>\n",
       "      <td>1</td>\n",
       "      <td>гражданский брак</td>\n",
       "      <td>1</td>\n",
       "      <td>F</td>\n",
       "      <td>пенсионер</td>\n",
       "      <td>1</td>\n",
       "      <td>NaN</td>\n",
       "      <td>сыграть свадьбу</td>\n",
       "    </tr>\n",
       "    <tr>\n",
       "      <th>65</th>\n",
       "      <td>0</td>\n",
       "      <td>NaN</td>\n",
       "      <td>21</td>\n",
       "      <td>среднее</td>\n",
       "      <td>1</td>\n",
       "      <td>Не женат / не замужем</td>\n",
       "      <td>4</td>\n",
       "      <td>M</td>\n",
       "      <td>компаньон</td>\n",
       "      <td>0</td>\n",
       "      <td>NaN</td>\n",
       "      <td>операции с коммерческой недвижимостью</td>\n",
       "    </tr>\n",
       "    <tr>\n",
       "      <th>67</th>\n",
       "      <td>0</td>\n",
       "      <td>NaN</td>\n",
       "      <td>52</td>\n",
       "      <td>высшее</td>\n",
       "      <td>0</td>\n",
       "      <td>женат / замужем</td>\n",
       "      <td>0</td>\n",
       "      <td>F</td>\n",
       "      <td>пенсионер</td>\n",
       "      <td>0</td>\n",
       "      <td>NaN</td>\n",
       "      <td>покупка жилья для семьи</td>\n",
       "    </tr>\n",
       "    <tr>\n",
       "      <th>72</th>\n",
       "      <td>1</td>\n",
       "      <td>NaN</td>\n",
       "      <td>32</td>\n",
       "      <td>высшее</td>\n",
       "      <td>0</td>\n",
       "      <td>женат / замужем</td>\n",
       "      <td>0</td>\n",
       "      <td>M</td>\n",
       "      <td>госслужащий</td>\n",
       "      <td>0</td>\n",
       "      <td>NaN</td>\n",
       "      <td>операции с коммерческой недвижимостью</td>\n",
       "    </tr>\n",
       "    <tr>\n",
       "      <th>82</th>\n",
       "      <td>2</td>\n",
       "      <td>NaN</td>\n",
       "      <td>50</td>\n",
       "      <td>высшее</td>\n",
       "      <td>0</td>\n",
       "      <td>женат / замужем</td>\n",
       "      <td>0</td>\n",
       "      <td>F</td>\n",
       "      <td>сотрудник</td>\n",
       "      <td>0</td>\n",
       "      <td>NaN</td>\n",
       "      <td>жилье</td>\n",
       "    </tr>\n",
       "    <tr>\n",
       "      <th>83</th>\n",
       "      <td>0</td>\n",
       "      <td>NaN</td>\n",
       "      <td>52</td>\n",
       "      <td>среднее</td>\n",
       "      <td>1</td>\n",
       "      <td>женат / замужем</td>\n",
       "      <td>0</td>\n",
       "      <td>M</td>\n",
       "      <td>сотрудник</td>\n",
       "      <td>0</td>\n",
       "      <td>NaN</td>\n",
       "      <td>жилье</td>\n",
       "    </tr>\n",
       "    <tr>\n",
       "      <th>90</th>\n",
       "      <td>2</td>\n",
       "      <td>NaN</td>\n",
       "      <td>35</td>\n",
       "      <td>высшее</td>\n",
       "      <td>0</td>\n",
       "      <td>женат / замужем</td>\n",
       "      <td>0</td>\n",
       "      <td>F</td>\n",
       "      <td>сотрудник</td>\n",
       "      <td>0</td>\n",
       "      <td>NaN</td>\n",
       "      <td>операции с жильем</td>\n",
       "    </tr>\n",
       "    <tr>\n",
       "      <th>94</th>\n",
       "      <td>1</td>\n",
       "      <td>NaN</td>\n",
       "      <td>34</td>\n",
       "      <td>высшее</td>\n",
       "      <td>0</td>\n",
       "      <td>гражданский брак</td>\n",
       "      <td>1</td>\n",
       "      <td>F</td>\n",
       "      <td>компаньон</td>\n",
       "      <td>0</td>\n",
       "      <td>NaN</td>\n",
       "      <td>на проведение свадьбы</td>\n",
       "    </tr>\n",
       "    <tr>\n",
       "      <th>96</th>\n",
       "      <td>0</td>\n",
       "      <td>NaN</td>\n",
       "      <td>44</td>\n",
       "      <td>СРЕДНЕЕ</td>\n",
       "      <td>1</td>\n",
       "      <td>женат / замужем</td>\n",
       "      <td>0</td>\n",
       "      <td>F</td>\n",
       "      <td>сотрудник</td>\n",
       "      <td>0</td>\n",
       "      <td>NaN</td>\n",
       "      <td>покупка жилой недвижимости</td>\n",
       "    </tr>\n",
       "    <tr>\n",
       "      <th>97</th>\n",
       "      <td>0</td>\n",
       "      <td>NaN</td>\n",
       "      <td>47</td>\n",
       "      <td>высшее</td>\n",
       "      <td>0</td>\n",
       "      <td>женат / замужем</td>\n",
       "      <td>0</td>\n",
       "      <td>F</td>\n",
       "      <td>сотрудник</td>\n",
       "      <td>0</td>\n",
       "      <td>NaN</td>\n",
       "      <td>профильное образование</td>\n",
       "    </tr>\n",
       "    <tr>\n",
       "      <th>120</th>\n",
       "      <td>0</td>\n",
       "      <td>NaN</td>\n",
       "      <td>46</td>\n",
       "      <td>среднее</td>\n",
       "      <td>1</td>\n",
       "      <td>женат / замужем</td>\n",
       "      <td>0</td>\n",
       "      <td>F</td>\n",
       "      <td>сотрудник</td>\n",
       "      <td>0</td>\n",
       "      <td>NaN</td>\n",
       "      <td>высшее образование</td>\n",
       "    </tr>\n",
       "  </tbody>\n",
       "</table>\n",
       "</div>"
      ],
      "text/plain": [
       "     children  days_employed  dob_years education  education_id  \\\n",
       "12          0            NaN         65   среднее             1   \n",
       "26          0            NaN         41   среднее             1   \n",
       "29          0            NaN         63   среднее             1   \n",
       "41          0            NaN         50   среднее             1   \n",
       "55          0            NaN         54   среднее             1   \n",
       "65          0            NaN         21   среднее             1   \n",
       "67          0            NaN         52    высшее             0   \n",
       "72          1            NaN         32    высшее             0   \n",
       "82          2            NaN         50    высшее             0   \n",
       "83          0            NaN         52   среднее             1   \n",
       "90          2            NaN         35    высшее             0   \n",
       "94          1            NaN         34    высшее             0   \n",
       "96          0            NaN         44   СРЕДНЕЕ             1   \n",
       "97          0            NaN         47    высшее             0   \n",
       "120         0            NaN         46   среднее             1   \n",
       "\n",
       "             family_status  family_status_id gender  income_type  debt  \\\n",
       "12        гражданский брак                 1      M    пенсионер     0   \n",
       "26         женат / замужем                 0      M  госслужащий     0   \n",
       "29   Не женат / не замужем                 4      F    пенсионер     0   \n",
       "41         женат / замужем                 0      F  госслужащий     0   \n",
       "55        гражданский брак                 1      F    пенсионер     1   \n",
       "65   Не женат / не замужем                 4      M    компаньон     0   \n",
       "67         женат / замужем                 0      F    пенсионер     0   \n",
       "72         женат / замужем                 0      M  госслужащий     0   \n",
       "82         женат / замужем                 0      F    сотрудник     0   \n",
       "83         женат / замужем                 0      M    сотрудник     0   \n",
       "90         женат / замужем                 0      F    сотрудник     0   \n",
       "94        гражданский брак                 1      F    компаньон     0   \n",
       "96         женат / замужем                 0      F    сотрудник     0   \n",
       "97         женат / замужем                 0      F    сотрудник     0   \n",
       "120        женат / замужем                 0      F    сотрудник     0   \n",
       "\n",
       "     total_income                                purpose  \n",
       "12            NaN                        сыграть свадьбу  \n",
       "26            NaN                            образование  \n",
       "29            NaN       строительство жилой недвижимости  \n",
       "41            NaN       сделка с подержанным автомобилем  \n",
       "55            NaN                        сыграть свадьбу  \n",
       "65            NaN  операции с коммерческой недвижимостью  \n",
       "67            NaN                покупка жилья для семьи  \n",
       "72            NaN  операции с коммерческой недвижимостью  \n",
       "82            NaN                                  жилье  \n",
       "83            NaN                                  жилье  \n",
       "90            NaN                      операции с жильем  \n",
       "94            NaN                  на проведение свадьбы  \n",
       "96            NaN             покупка жилой недвижимости  \n",
       "97            NaN                 профильное образование  \n",
       "120           NaN                     высшее образование  "
      ]
     },
     "execution_count": 7,
     "metadata": {},
     "output_type": "execute_result"
    }
   ],
   "source": [
    "df[df['total_income'].isna() == True].head(15)"
   ]
  },
  {
   "cell_type": "markdown",
   "id": "1229122e",
   "metadata": {},
   "source": [
    "Гипотеза опровергнута, тк хоть пропуски данных со стажем совпадают с пропусками данных о доходе, тем не менее вполне вероятно, что эти пропуски вызваны не всегда неслучайно. В столбце income_type при пропущенных значениях много сотрудников и госслужащих. Тогда заменять пропущенные значения нулем некорректно"
   ]
  },
  {
   "cell_type": "code",
   "execution_count": 8,
   "id": "bb7217e5",
   "metadata": {},
   "outputs": [
    {
     "data": {
      "text/plain": [
       "145017.93753253992"
      ]
     },
     "execution_count": 8,
     "metadata": {},
     "output_type": "execute_result"
    }
   ],
   "source": [
    "df['total_income'].median() # найдем медиану общую для всех категорий total_income"
   ]
  },
  {
   "cell_type": "markdown",
   "id": "c47af33a",
   "metadata": {},
   "source": [
    "145017 - довольно большая сумма, возможно, медиана не подходит для некоторых категорий. Надо посмотреть на каждую категорию в разрезе income_type и проанализировать их медианы"
   ]
  },
  {
   "cell_type": "code",
   "execution_count": 9,
   "id": "db50394a",
   "metadata": {},
   "outputs": [
    {
     "data": {
      "text/html": [
       "<div>\n",
       "<style scoped>\n",
       "    .dataframe tbody tr th:only-of-type {\n",
       "        vertical-align: middle;\n",
       "    }\n",
       "\n",
       "    .dataframe tbody tr th {\n",
       "        vertical-align: top;\n",
       "    }\n",
       "\n",
       "    .dataframe thead tr th {\n",
       "        text-align: left;\n",
       "    }\n",
       "\n",
       "    .dataframe thead tr:last-of-type th {\n",
       "        text-align: right;\n",
       "    }\n",
       "</style>\n",
       "<table border=\"1\" class=\"dataframe\">\n",
       "  <thead>\n",
       "    <tr>\n",
       "      <th></th>\n",
       "      <th>total_income</th>\n",
       "    </tr>\n",
       "    <tr>\n",
       "      <th></th>\n",
       "      <th>median</th>\n",
       "    </tr>\n",
       "    <tr>\n",
       "      <th>income_type</th>\n",
       "      <th></th>\n",
       "    </tr>\n",
       "  </thead>\n",
       "  <tbody>\n",
       "    <tr>\n",
       "      <th>предприниматель</th>\n",
       "      <td>499163.144947</td>\n",
       "    </tr>\n",
       "    <tr>\n",
       "      <th>компаньон</th>\n",
       "      <td>172357.950966</td>\n",
       "    </tr>\n",
       "    <tr>\n",
       "      <th>госслужащий</th>\n",
       "      <td>150447.935283</td>\n",
       "    </tr>\n",
       "    <tr>\n",
       "      <th>сотрудник</th>\n",
       "      <td>142594.396847</td>\n",
       "    </tr>\n",
       "    <tr>\n",
       "      <th>безработный</th>\n",
       "      <td>131339.751676</td>\n",
       "    </tr>\n",
       "    <tr>\n",
       "      <th>пенсионер</th>\n",
       "      <td>118514.486412</td>\n",
       "    </tr>\n",
       "    <tr>\n",
       "      <th>студент</th>\n",
       "      <td>98201.625314</td>\n",
       "    </tr>\n",
       "    <tr>\n",
       "      <th>в декрете</th>\n",
       "      <td>53829.130729</td>\n",
       "    </tr>\n",
       "  </tbody>\n",
       "</table>\n",
       "</div>"
      ],
      "text/plain": [
       "                  total_income\n",
       "                        median\n",
       "income_type                   \n",
       "предприниматель  499163.144947\n",
       "компаньон        172357.950966\n",
       "госслужащий      150447.935283\n",
       "сотрудник        142594.396847\n",
       "безработный      131339.751676\n",
       "пенсионер        118514.486412\n",
       "студент           98201.625314\n",
       "в декрете         53829.130729"
      ]
     },
     "execution_count": 9,
     "metadata": {},
     "output_type": "execute_result"
    }
   ],
   "source": [
    "income_in_type = df.groupby('income_type').agg({'total_income': ['median']})\n",
    "income_in_type.sort_values([('total_income', 'median')], ascending=False)"
   ]
  },
  {
   "cell_type": "markdown",
   "id": "2e4fde3d",
   "metadata": {},
   "source": [
    "Чтобы результаты выглядели более объективно, заполню пропуски медианным значением по каждой категории внутри income_type:"
   ]
  },
  {
   "cell_type": "code",
   "execution_count": 10,
   "id": "d01edc9f",
   "metadata": {},
   "outputs": [],
   "source": [
    "data_transformed = df.groupby('income_type')['total_income'].transform('median')\n",
    "df['total_income'] = df['total_income'].fillna(data_transformed)"
   ]
  },
  {
   "cell_type": "markdown",
   "id": "133c1c79",
   "metadata": {},
   "source": [
    "Проверим работу метода с помощью строки, которую я вывела ранее [тут](#tab). Ранее total_income был nan, сейчас 118514, что соответствует типу \"пенсионер\""
   ]
  },
  {
   "cell_type": "code",
   "execution_count": 11,
   "id": "f5b33bcc",
   "metadata": {},
   "outputs": [
    {
     "data": {
      "text/html": [
       "<div>\n",
       "<style scoped>\n",
       "    .dataframe tbody tr th:only-of-type {\n",
       "        vertical-align: middle;\n",
       "    }\n",
       "\n",
       "    .dataframe tbody tr th {\n",
       "        vertical-align: top;\n",
       "    }\n",
       "\n",
       "    .dataframe thead th {\n",
       "        text-align: right;\n",
       "    }\n",
       "</style>\n",
       "<table border=\"1\" class=\"dataframe\">\n",
       "  <thead>\n",
       "    <tr style=\"text-align: right;\">\n",
       "      <th></th>\n",
       "      <th>children</th>\n",
       "      <th>days_employed</th>\n",
       "      <th>dob_years</th>\n",
       "      <th>education</th>\n",
       "      <th>education_id</th>\n",
       "      <th>family_status</th>\n",
       "      <th>family_status_id</th>\n",
       "      <th>gender</th>\n",
       "      <th>income_type</th>\n",
       "      <th>debt</th>\n",
       "      <th>total_income</th>\n",
       "      <th>purpose</th>\n",
       "    </tr>\n",
       "  </thead>\n",
       "  <tbody>\n",
       "    <tr>\n",
       "      <th>12</th>\n",
       "      <td>0</td>\n",
       "      <td>NaN</td>\n",
       "      <td>65</td>\n",
       "      <td>среднее</td>\n",
       "      <td>1</td>\n",
       "      <td>гражданский брак</td>\n",
       "      <td>1</td>\n",
       "      <td>M</td>\n",
       "      <td>пенсионер</td>\n",
       "      <td>0</td>\n",
       "      <td>118514.486412</td>\n",
       "      <td>сыграть свадьбу</td>\n",
       "    </tr>\n",
       "  </tbody>\n",
       "</table>\n",
       "</div>"
      ],
      "text/plain": [
       "    children  days_employed  dob_years education  education_id  \\\n",
       "12         0            NaN         65   среднее             1   \n",
       "\n",
       "       family_status  family_status_id gender income_type  debt  \\\n",
       "12  гражданский брак                 1      M   пенсионер     0   \n",
       "\n",
       "     total_income          purpose  \n",
       "12  118514.486412  сыграть свадьбу  "
      ]
     },
     "execution_count": 11,
     "metadata": {},
     "output_type": "execute_result"
    }
   ],
   "source": [
    "df.loc[[12]] "
   ]
  },
  {
   "cell_type": "code",
   "execution_count": 12,
   "id": "e03d3eda",
   "metadata": {},
   "outputs": [
    {
     "data": {
      "text/plain": [
       "children               0\n",
       "days_employed       2174\n",
       "dob_years              0\n",
       "education              0\n",
       "education_id           0\n",
       "family_status          0\n",
       "family_status_id       0\n",
       "gender                 0\n",
       "income_type            0\n",
       "debt                   0\n",
       "total_income           0\n",
       "purpose                0\n",
       "dtype: int64"
      ]
     },
     "execution_count": 12,
     "metadata": {},
     "output_type": "execute_result"
    }
   ],
   "source": [
    "df.isna().sum()"
   ]
  },
  {
   "cell_type": "markdown",
   "id": "b4aab9d3",
   "metadata": {},
   "source": [
    "Заменила пропуски в количественных переменных total_income медианным значением по каждому типу income_type, что в данном случае себя оправдывает и на результат исследования не повлияет. В следующем шаге заполню пропуски в столбце days_employed, но перед этим нужно исправить аномальные значения"
   ]
  },
  {
   "cell_type": "markdown",
   "id": "117695fe",
   "metadata": {},
   "source": [
    "### Шаг 2.2 Проверка данных на аномалии и исправления."
   ]
  },
  {
   "cell_type": "code",
   "execution_count": 13,
   "id": "50014347",
   "metadata": {},
   "outputs": [
    {
     "data": {
      "text/plain": [
       "35    617\n",
       "40    609\n",
       "41    607\n",
       "34    603\n",
       "38    598\n",
       "42    597\n",
       "33    581\n",
       "39    573\n",
       "31    560\n",
       "36    555\n",
       "44    547\n",
       "29    545\n",
       "30    540\n",
       "48    538\n",
       "37    537\n",
       "50    514\n",
       "43    513\n",
       "32    510\n",
       "49    508\n",
       "28    503\n",
       "45    497\n",
       "27    493\n",
       "56    487\n",
       "52    484\n",
       "47    480\n",
       "54    479\n",
       "46    475\n",
       "58    461\n",
       "57    460\n",
       "53    459\n",
       "51    448\n",
       "59    444\n",
       "55    443\n",
       "26    408\n",
       "60    377\n",
       "25    357\n",
       "61    355\n",
       "62    352\n",
       "63    269\n",
       "64    265\n",
       "24    264\n",
       "23    254\n",
       "65    194\n",
       "66    183\n",
       "22    183\n",
       "67    167\n",
       "21    111\n",
       "0     101\n",
       "68     99\n",
       "69     85\n",
       "70     65\n",
       "71     58\n",
       "20     51\n",
       "72     33\n",
       "19     14\n",
       "73      8\n",
       "74      6\n",
       "75      1\n",
       "Name: dob_years, dtype: int64"
      ]
     },
     "execution_count": 13,
     "metadata": {},
     "output_type": "execute_result"
    }
   ],
   "source": [
    "df['dob_years'].value_counts() # Проверим какого возраста клиенты"
   ]
  },
  {
   "cell_type": "markdown",
   "id": "bc3e943a",
   "metadata": {},
   "source": [
    "В столбце обнаружен артефакт: возраст более ста клиентов указан 0 лет. заменим эти значения медианным"
   ]
  },
  {
   "cell_type": "code",
   "execution_count": 14,
   "id": "e00e679b",
   "metadata": {},
   "outputs": [],
   "source": [
    "df.loc[df['dob_years'] == 0, 'dob_years'] = df['dob_years'].median()"
   ]
  },
  {
   "cell_type": "code",
   "execution_count": 15,
   "id": "280a0a18",
   "metadata": {},
   "outputs": [
    {
     "data": {
      "text/plain": [
       "F      14236\n",
       "M       7288\n",
       "XNA        1\n",
       "Name: gender, dtype: int64"
      ]
     },
     "execution_count": 15,
     "metadata": {},
     "output_type": "execute_result"
    }
   ],
   "source": [
    "df['gender'].value_counts() # также разберем столбец gender на аномалии"
   ]
  },
  {
   "cell_type": "markdown",
   "id": "fb6c2159",
   "metadata": {},
   "source": [
    "В столбце gender артефакт: XNA. но так как это всего одно значение, можем удалить строку из датафрейм"
   ]
  },
  {
   "cell_type": "code",
   "execution_count": 16,
   "id": "fde37d5b",
   "metadata": {},
   "outputs": [],
   "source": [
    "df = df.loc[df['gender'] != 'XNA'] # перезапишем датафрейм без аномальных значений"
   ]
  },
  {
   "cell_type": "code",
   "execution_count": 17,
   "id": "7e9815fe",
   "metadata": {},
   "outputs": [],
   "source": [
    "df['days_employed'] = df['days_employed'].abs() #  замена всех отрицательных значений столбца на положительные."
   ]
  },
  {
   "cell_type": "code",
   "execution_count": 18,
   "id": "0c3d6738",
   "metadata": {},
   "outputs": [
    {
     "data": {
      "text/plain": [
       "66918.06514084844"
      ]
     },
     "execution_count": 18,
     "metadata": {},
     "output_type": "execute_result"
    }
   ],
   "source": [
    "df['days_employed'].mean() # узнаем среднее значение трудового стажа"
   ]
  },
  {
   "cell_type": "markdown",
   "id": "d3f4e582",
   "metadata": {},
   "source": [
    "Среднее значение трудового стажа равно 172 годам (63046\\365). Данные сильно искажены и завышены."
   ]
  },
  {
   "cell_type": "markdown",
   "id": "3eb05229",
   "metadata": {},
   "source": [
    "Исходя из здравого смысла беру 12 тысяч дней трудового стажа за максимальное (32 года) \n",
    "Аномальные значения в столбце days_employed заменю на 12000 так как эти аномальные значения больше характерны для пенсионеров и людей старшего возраста.\n",
    "Проверим это, посчитав количество клиентов с аномальным трудовм стажем старше 50ти лет и общее количество клиентов с аномальным трудовым стажем."
   ]
  },
  {
   "cell_type": "code",
   "execution_count": 19,
   "id": "99e518f8",
   "metadata": {},
   "outputs": [
    {
     "data": {
      "text/html": [
       "<div>\n",
       "<style scoped>\n",
       "    .dataframe tbody tr th:only-of-type {\n",
       "        vertical-align: middle;\n",
       "    }\n",
       "\n",
       "    .dataframe tbody tr th {\n",
       "        vertical-align: top;\n",
       "    }\n",
       "\n",
       "    .dataframe thead th {\n",
       "        text-align: right;\n",
       "    }\n",
       "</style>\n",
       "<table border=\"1\" class=\"dataframe\">\n",
       "  <thead>\n",
       "    <tr style=\"text-align: right;\">\n",
       "      <th></th>\n",
       "      <th>children</th>\n",
       "      <th>days_employed</th>\n",
       "      <th>dob_years</th>\n",
       "      <th>education</th>\n",
       "      <th>education_id</th>\n",
       "      <th>family_status</th>\n",
       "      <th>family_status_id</th>\n",
       "      <th>gender</th>\n",
       "      <th>income_type</th>\n",
       "      <th>debt</th>\n",
       "      <th>total_income</th>\n",
       "      <th>purpose</th>\n",
       "    </tr>\n",
       "  </thead>\n",
       "  <tbody>\n",
       "    <tr>\n",
       "      <th>4</th>\n",
       "      <td>0</td>\n",
       "      <td>340266.072047</td>\n",
       "      <td>53.0</td>\n",
       "      <td>среднее</td>\n",
       "      <td>1</td>\n",
       "      <td>гражданский брак</td>\n",
       "      <td>1</td>\n",
       "      <td>F</td>\n",
       "      <td>пенсионер</td>\n",
       "      <td>0</td>\n",
       "      <td>158616.077870</td>\n",
       "      <td>сыграть свадьбу</td>\n",
       "    </tr>\n",
       "    <tr>\n",
       "      <th>18</th>\n",
       "      <td>0</td>\n",
       "      <td>400281.136913</td>\n",
       "      <td>53.0</td>\n",
       "      <td>среднее</td>\n",
       "      <td>1</td>\n",
       "      <td>вдовец / вдова</td>\n",
       "      <td>2</td>\n",
       "      <td>F</td>\n",
       "      <td>пенсионер</td>\n",
       "      <td>0</td>\n",
       "      <td>56823.777243</td>\n",
       "      <td>на покупку подержанного автомобиля</td>\n",
       "    </tr>\n",
       "    <tr>\n",
       "      <th>24</th>\n",
       "      <td>1</td>\n",
       "      <td>338551.952911</td>\n",
       "      <td>57.0</td>\n",
       "      <td>среднее</td>\n",
       "      <td>1</td>\n",
       "      <td>Не женат / не замужем</td>\n",
       "      <td>4</td>\n",
       "      <td>F</td>\n",
       "      <td>пенсионер</td>\n",
       "      <td>0</td>\n",
       "      <td>290547.235997</td>\n",
       "      <td>операции с коммерческой недвижимостью</td>\n",
       "    </tr>\n",
       "    <tr>\n",
       "      <th>25</th>\n",
       "      <td>0</td>\n",
       "      <td>363548.489348</td>\n",
       "      <td>67.0</td>\n",
       "      <td>среднее</td>\n",
       "      <td>1</td>\n",
       "      <td>женат / замужем</td>\n",
       "      <td>0</td>\n",
       "      <td>M</td>\n",
       "      <td>пенсионер</td>\n",
       "      <td>0</td>\n",
       "      <td>55112.757732</td>\n",
       "      <td>покупка недвижимости</td>\n",
       "    </tr>\n",
       "    <tr>\n",
       "      <th>30</th>\n",
       "      <td>1</td>\n",
       "      <td>335581.668515</td>\n",
       "      <td>62.0</td>\n",
       "      <td>среднее</td>\n",
       "      <td>1</td>\n",
       "      <td>женат / замужем</td>\n",
       "      <td>0</td>\n",
       "      <td>F</td>\n",
       "      <td>пенсионер</td>\n",
       "      <td>0</td>\n",
       "      <td>171456.067993</td>\n",
       "      <td>операции с коммерческой недвижимостью</td>\n",
       "    </tr>\n",
       "    <tr>\n",
       "      <th>...</th>\n",
       "      <td>...</td>\n",
       "      <td>...</td>\n",
       "      <td>...</td>\n",
       "      <td>...</td>\n",
       "      <td>...</td>\n",
       "      <td>...</td>\n",
       "      <td>...</td>\n",
       "      <td>...</td>\n",
       "      <td>...</td>\n",
       "      <td>...</td>\n",
       "      <td>...</td>\n",
       "      <td>...</td>\n",
       "    </tr>\n",
       "    <tr>\n",
       "      <th>21505</th>\n",
       "      <td>0</td>\n",
       "      <td>338904.866406</td>\n",
       "      <td>53.0</td>\n",
       "      <td>среднее</td>\n",
       "      <td>1</td>\n",
       "      <td>гражданский брак</td>\n",
       "      <td>1</td>\n",
       "      <td>M</td>\n",
       "      <td>пенсионер</td>\n",
       "      <td>0</td>\n",
       "      <td>75439.993167</td>\n",
       "      <td>сыграть свадьбу</td>\n",
       "    </tr>\n",
       "    <tr>\n",
       "      <th>21508</th>\n",
       "      <td>0</td>\n",
       "      <td>386497.714078</td>\n",
       "      <td>62.0</td>\n",
       "      <td>среднее</td>\n",
       "      <td>1</td>\n",
       "      <td>женат / замужем</td>\n",
       "      <td>0</td>\n",
       "      <td>M</td>\n",
       "      <td>пенсионер</td>\n",
       "      <td>0</td>\n",
       "      <td>72638.590915</td>\n",
       "      <td>недвижимость</td>\n",
       "    </tr>\n",
       "    <tr>\n",
       "      <th>21509</th>\n",
       "      <td>0</td>\n",
       "      <td>362161.054124</td>\n",
       "      <td>59.0</td>\n",
       "      <td>высшее</td>\n",
       "      <td>0</td>\n",
       "      <td>женат / замужем</td>\n",
       "      <td>0</td>\n",
       "      <td>M</td>\n",
       "      <td>пенсионер</td>\n",
       "      <td>0</td>\n",
       "      <td>73029.059379</td>\n",
       "      <td>операции с недвижимостью</td>\n",
       "    </tr>\n",
       "    <tr>\n",
       "      <th>21518</th>\n",
       "      <td>0</td>\n",
       "      <td>373995.710838</td>\n",
       "      <td>59.0</td>\n",
       "      <td>СРЕДНЕЕ</td>\n",
       "      <td>1</td>\n",
       "      <td>женат / замужем</td>\n",
       "      <td>0</td>\n",
       "      <td>F</td>\n",
       "      <td>пенсионер</td>\n",
       "      <td>0</td>\n",
       "      <td>153864.650328</td>\n",
       "      <td>сделка с автомобилем</td>\n",
       "    </tr>\n",
       "    <tr>\n",
       "      <th>21521</th>\n",
       "      <td>0</td>\n",
       "      <td>343937.404131</td>\n",
       "      <td>67.0</td>\n",
       "      <td>среднее</td>\n",
       "      <td>1</td>\n",
       "      <td>женат / замужем</td>\n",
       "      <td>0</td>\n",
       "      <td>F</td>\n",
       "      <td>пенсионер</td>\n",
       "      <td>0</td>\n",
       "      <td>155999.806512</td>\n",
       "      <td>сделка с автомобилем</td>\n",
       "    </tr>\n",
       "  </tbody>\n",
       "</table>\n",
       "<p>3348 rows × 12 columns</p>\n",
       "</div>"
      ],
      "text/plain": [
       "       children  days_employed  dob_years education  education_id  \\\n",
       "4             0  340266.072047       53.0   среднее             1   \n",
       "18            0  400281.136913       53.0   среднее             1   \n",
       "24            1  338551.952911       57.0   среднее             1   \n",
       "25            0  363548.489348       67.0   среднее             1   \n",
       "30            1  335581.668515       62.0   среднее             1   \n",
       "...         ...            ...        ...       ...           ...   \n",
       "21505         0  338904.866406       53.0   среднее             1   \n",
       "21508         0  386497.714078       62.0   среднее             1   \n",
       "21509         0  362161.054124       59.0    высшее             0   \n",
       "21518         0  373995.710838       59.0   СРЕДНЕЕ             1   \n",
       "21521         0  343937.404131       67.0   среднее             1   \n",
       "\n",
       "               family_status  family_status_id gender income_type  debt  \\\n",
       "4           гражданский брак                 1      F   пенсионер     0   \n",
       "18            вдовец / вдова                 2      F   пенсионер     0   \n",
       "24     Не женат / не замужем                 4      F   пенсионер     0   \n",
       "25           женат / замужем                 0      M   пенсионер     0   \n",
       "30           женат / замужем                 0      F   пенсионер     0   \n",
       "...                      ...               ...    ...         ...   ...   \n",
       "21505       гражданский брак                 1      M   пенсионер     0   \n",
       "21508        женат / замужем                 0      M   пенсионер     0   \n",
       "21509        женат / замужем                 0      M   пенсионер     0   \n",
       "21518        женат / замужем                 0      F   пенсионер     0   \n",
       "21521        женат / замужем                 0      F   пенсионер     0   \n",
       "\n",
       "        total_income                                purpose  \n",
       "4      158616.077870                        сыграть свадьбу  \n",
       "18      56823.777243     на покупку подержанного автомобиля  \n",
       "24     290547.235997  операции с коммерческой недвижимостью  \n",
       "25      55112.757732                   покупка недвижимости  \n",
       "30     171456.067993  операции с коммерческой недвижимостью  \n",
       "...              ...                                    ...  \n",
       "21505   75439.993167                        сыграть свадьбу  \n",
       "21508   72638.590915                           недвижимость  \n",
       "21509   73029.059379               операции с недвижимостью  \n",
       "21518  153864.650328                   сделка с автомобилем  \n",
       "21521  155999.806512                   сделка с автомобилем  \n",
       "\n",
       "[3348 rows x 12 columns]"
      ]
     },
     "execution_count": 19,
     "metadata": {},
     "output_type": "execute_result"
    }
   ],
   "source": [
    "df.loc[(df['days_employed'] > 12000) & (df['dob_years'] >= 50)]"
   ]
  },
  {
   "cell_type": "code",
   "execution_count": 20,
   "id": "1af86f41",
   "metadata": {},
   "outputs": [
    {
     "data": {
      "text/html": [
       "<div>\n",
       "<style scoped>\n",
       "    .dataframe tbody tr th:only-of-type {\n",
       "        vertical-align: middle;\n",
       "    }\n",
       "\n",
       "    .dataframe tbody tr th {\n",
       "        vertical-align: top;\n",
       "    }\n",
       "\n",
       "    .dataframe thead th {\n",
       "        text-align: right;\n",
       "    }\n",
       "</style>\n",
       "<table border=\"1\" class=\"dataframe\">\n",
       "  <thead>\n",
       "    <tr style=\"text-align: right;\">\n",
       "      <th></th>\n",
       "      <th>children</th>\n",
       "      <th>days_employed</th>\n",
       "      <th>dob_years</th>\n",
       "      <th>education</th>\n",
       "      <th>education_id</th>\n",
       "      <th>family_status</th>\n",
       "      <th>family_status_id</th>\n",
       "      <th>gender</th>\n",
       "      <th>income_type</th>\n",
       "      <th>debt</th>\n",
       "      <th>total_income</th>\n",
       "      <th>purpose</th>\n",
       "    </tr>\n",
       "  </thead>\n",
       "  <tbody>\n",
       "    <tr>\n",
       "      <th>4</th>\n",
       "      <td>0</td>\n",
       "      <td>340266.072047</td>\n",
       "      <td>53.0</td>\n",
       "      <td>среднее</td>\n",
       "      <td>1</td>\n",
       "      <td>гражданский брак</td>\n",
       "      <td>1</td>\n",
       "      <td>F</td>\n",
       "      <td>пенсионер</td>\n",
       "      <td>0</td>\n",
       "      <td>158616.077870</td>\n",
       "      <td>сыграть свадьбу</td>\n",
       "    </tr>\n",
       "    <tr>\n",
       "      <th>18</th>\n",
       "      <td>0</td>\n",
       "      <td>400281.136913</td>\n",
       "      <td>53.0</td>\n",
       "      <td>среднее</td>\n",
       "      <td>1</td>\n",
       "      <td>вдовец / вдова</td>\n",
       "      <td>2</td>\n",
       "      <td>F</td>\n",
       "      <td>пенсионер</td>\n",
       "      <td>0</td>\n",
       "      <td>56823.777243</td>\n",
       "      <td>на покупку подержанного автомобиля</td>\n",
       "    </tr>\n",
       "    <tr>\n",
       "      <th>24</th>\n",
       "      <td>1</td>\n",
       "      <td>338551.952911</td>\n",
       "      <td>57.0</td>\n",
       "      <td>среднее</td>\n",
       "      <td>1</td>\n",
       "      <td>Не женат / не замужем</td>\n",
       "      <td>4</td>\n",
       "      <td>F</td>\n",
       "      <td>пенсионер</td>\n",
       "      <td>0</td>\n",
       "      <td>290547.235997</td>\n",
       "      <td>операции с коммерческой недвижимостью</td>\n",
       "    </tr>\n",
       "    <tr>\n",
       "      <th>25</th>\n",
       "      <td>0</td>\n",
       "      <td>363548.489348</td>\n",
       "      <td>67.0</td>\n",
       "      <td>среднее</td>\n",
       "      <td>1</td>\n",
       "      <td>женат / замужем</td>\n",
       "      <td>0</td>\n",
       "      <td>M</td>\n",
       "      <td>пенсионер</td>\n",
       "      <td>0</td>\n",
       "      <td>55112.757732</td>\n",
       "      <td>покупка недвижимости</td>\n",
       "    </tr>\n",
       "    <tr>\n",
       "      <th>30</th>\n",
       "      <td>1</td>\n",
       "      <td>335581.668515</td>\n",
       "      <td>62.0</td>\n",
       "      <td>среднее</td>\n",
       "      <td>1</td>\n",
       "      <td>женат / замужем</td>\n",
       "      <td>0</td>\n",
       "      <td>F</td>\n",
       "      <td>пенсионер</td>\n",
       "      <td>0</td>\n",
       "      <td>171456.067993</td>\n",
       "      <td>операции с коммерческой недвижимостью</td>\n",
       "    </tr>\n",
       "    <tr>\n",
       "      <th>...</th>\n",
       "      <td>...</td>\n",
       "      <td>...</td>\n",
       "      <td>...</td>\n",
       "      <td>...</td>\n",
       "      <td>...</td>\n",
       "      <td>...</td>\n",
       "      <td>...</td>\n",
       "      <td>...</td>\n",
       "      <td>...</td>\n",
       "      <td>...</td>\n",
       "      <td>...</td>\n",
       "      <td>...</td>\n",
       "    </tr>\n",
       "    <tr>\n",
       "      <th>21505</th>\n",
       "      <td>0</td>\n",
       "      <td>338904.866406</td>\n",
       "      <td>53.0</td>\n",
       "      <td>среднее</td>\n",
       "      <td>1</td>\n",
       "      <td>гражданский брак</td>\n",
       "      <td>1</td>\n",
       "      <td>M</td>\n",
       "      <td>пенсионер</td>\n",
       "      <td>0</td>\n",
       "      <td>75439.993167</td>\n",
       "      <td>сыграть свадьбу</td>\n",
       "    </tr>\n",
       "    <tr>\n",
       "      <th>21508</th>\n",
       "      <td>0</td>\n",
       "      <td>386497.714078</td>\n",
       "      <td>62.0</td>\n",
       "      <td>среднее</td>\n",
       "      <td>1</td>\n",
       "      <td>женат / замужем</td>\n",
       "      <td>0</td>\n",
       "      <td>M</td>\n",
       "      <td>пенсионер</td>\n",
       "      <td>0</td>\n",
       "      <td>72638.590915</td>\n",
       "      <td>недвижимость</td>\n",
       "    </tr>\n",
       "    <tr>\n",
       "      <th>21509</th>\n",
       "      <td>0</td>\n",
       "      <td>362161.054124</td>\n",
       "      <td>59.0</td>\n",
       "      <td>высшее</td>\n",
       "      <td>0</td>\n",
       "      <td>женат / замужем</td>\n",
       "      <td>0</td>\n",
       "      <td>M</td>\n",
       "      <td>пенсионер</td>\n",
       "      <td>0</td>\n",
       "      <td>73029.059379</td>\n",
       "      <td>операции с недвижимостью</td>\n",
       "    </tr>\n",
       "    <tr>\n",
       "      <th>21518</th>\n",
       "      <td>0</td>\n",
       "      <td>373995.710838</td>\n",
       "      <td>59.0</td>\n",
       "      <td>СРЕДНЕЕ</td>\n",
       "      <td>1</td>\n",
       "      <td>женат / замужем</td>\n",
       "      <td>0</td>\n",
       "      <td>F</td>\n",
       "      <td>пенсионер</td>\n",
       "      <td>0</td>\n",
       "      <td>153864.650328</td>\n",
       "      <td>сделка с автомобилем</td>\n",
       "    </tr>\n",
       "    <tr>\n",
       "      <th>21521</th>\n",
       "      <td>0</td>\n",
       "      <td>343937.404131</td>\n",
       "      <td>67.0</td>\n",
       "      <td>среднее</td>\n",
       "      <td>1</td>\n",
       "      <td>женат / замужем</td>\n",
       "      <td>0</td>\n",
       "      <td>F</td>\n",
       "      <td>пенсионер</td>\n",
       "      <td>0</td>\n",
       "      <td>155999.806512</td>\n",
       "      <td>сделка с автомобилем</td>\n",
       "    </tr>\n",
       "  </tbody>\n",
       "</table>\n",
       "<p>3535 rows × 12 columns</p>\n",
       "</div>"
      ],
      "text/plain": [
       "       children  days_employed  dob_years education  education_id  \\\n",
       "4             0  340266.072047       53.0   среднее             1   \n",
       "18            0  400281.136913       53.0   среднее             1   \n",
       "24            1  338551.952911       57.0   среднее             1   \n",
       "25            0  363548.489348       67.0   среднее             1   \n",
       "30            1  335581.668515       62.0   среднее             1   \n",
       "...         ...            ...        ...       ...           ...   \n",
       "21505         0  338904.866406       53.0   среднее             1   \n",
       "21508         0  386497.714078       62.0   среднее             1   \n",
       "21509         0  362161.054124       59.0    высшее             0   \n",
       "21518         0  373995.710838       59.0   СРЕДНЕЕ             1   \n",
       "21521         0  343937.404131       67.0   среднее             1   \n",
       "\n",
       "               family_status  family_status_id gender income_type  debt  \\\n",
       "4           гражданский брак                 1      F   пенсионер     0   \n",
       "18            вдовец / вдова                 2      F   пенсионер     0   \n",
       "24     Не женат / не замужем                 4      F   пенсионер     0   \n",
       "25           женат / замужем                 0      M   пенсионер     0   \n",
       "30           женат / замужем                 0      F   пенсионер     0   \n",
       "...                      ...               ...    ...         ...   ...   \n",
       "21505       гражданский брак                 1      M   пенсионер     0   \n",
       "21508        женат / замужем                 0      M   пенсионер     0   \n",
       "21509        женат / замужем                 0      M   пенсионер     0   \n",
       "21518        женат / замужем                 0      F   пенсионер     0   \n",
       "21521        женат / замужем                 0      F   пенсионер     0   \n",
       "\n",
       "        total_income                                purpose  \n",
       "4      158616.077870                        сыграть свадьбу  \n",
       "18      56823.777243     на покупку подержанного автомобиля  \n",
       "24     290547.235997  операции с коммерческой недвижимостью  \n",
       "25      55112.757732                   покупка недвижимости  \n",
       "30     171456.067993  операции с коммерческой недвижимостью  \n",
       "...              ...                                    ...  \n",
       "21505   75439.993167                        сыграть свадьбу  \n",
       "21508   72638.590915                           недвижимость  \n",
       "21509   73029.059379               операции с недвижимостью  \n",
       "21518  153864.650328                   сделка с автомобилем  \n",
       "21521  155999.806512                   сделка с автомобилем  \n",
       "\n",
       "[3535 rows x 12 columns]"
      ]
     },
     "execution_count": 20,
     "metadata": {},
     "output_type": "execute_result"
    }
   ],
   "source": [
    "df.loc[df['days_employed'] > 12000] "
   ]
  },
  {
   "cell_type": "markdown",
   "id": "34b3651f",
   "metadata": {},
   "source": [
    "В условиях исследования заменить некоторые значения на условно максимальное допустимо - оно не повлияет на результат. В идеальных условиях я бы обратилась к разработчику, чтобы найти и по возможности устранить такие неточности"
   ]
  },
  {
   "cell_type": "code",
   "execution_count": 21,
   "id": "193e8fc5",
   "metadata": {},
   "outputs": [],
   "source": [
    "df.loc[df['days_employed'] > 12000, 'days_employed'] = 12000 # замена аномальных значений на условно максимальные"
   ]
  },
  {
   "cell_type": "code",
   "execution_count": 22,
   "id": "402273d6",
   "metadata": {},
   "outputs": [],
   "source": [
    "df['days_employed'] = df['days_employed'].fillna(value = df['days_employed'].median()) # заполнение пропущенных значений на медианное значение"
   ]
  },
  {
   "cell_type": "code",
   "execution_count": 23,
   "id": "99266c95",
   "metadata": {},
   "outputs": [
    {
     "data": {
      "text/plain": [
       "children            0\n",
       "days_employed       0\n",
       "dob_years           0\n",
       "education           0\n",
       "education_id        0\n",
       "family_status       0\n",
       "family_status_id    0\n",
       "gender              0\n",
       "income_type         0\n",
       "debt                0\n",
       "total_income        0\n",
       "purpose             0\n",
       "dtype: int64"
      ]
     },
     "execution_count": 23,
     "metadata": {},
     "output_type": "execute_result"
    }
   ],
   "source": [
    "df.isna().sum() #убедимся, что пропущенных значений не осталось"
   ]
  },
  {
   "cell_type": "code",
   "execution_count": 24,
   "id": "2e2f1d0a",
   "metadata": {},
   "outputs": [
    {
     "data": {
      "text/plain": [
       " 0     14148\n",
       " 1      4818\n",
       " 2      2055\n",
       " 3       330\n",
       " 20       76\n",
       "-1        47\n",
       " 4        41\n",
       " 5         9\n",
       "Name: children, dtype: int64"
      ]
     },
     "execution_count": 24,
     "metadata": {},
     "output_type": "execute_result"
    }
   ],
   "source": [
    "df['children'].value_counts() # оценим столбец children на артефакты"
   ]
  },
  {
   "cell_type": "code",
   "execution_count": 25,
   "id": "d0de764f",
   "metadata": {},
   "outputs": [
    {
     "data": {
      "text/plain": [
       "0    14148\n",
       "1     4865\n",
       "2     2131\n",
       "3      330\n",
       "4       41\n",
       "5        9\n",
       "Name: children, dtype: int64"
      ]
     },
     "execution_count": 25,
     "metadata": {},
     "output_type": "execute_result"
    }
   ],
   "source": [
    "df['children'] = df['children'].replace(20, 2) # заменим аномальные значения, вызванные скорее всего опечаткой на более реалестичные\n",
    "df['children'] = df['children'].abs() # уберем отрицательные значения \n",
    "df['children'].value_counts()"
   ]
  },
  {
   "cell_type": "markdown",
   "id": "80ac20ee",
   "metadata": {},
   "source": [
    "### Шаг 2.3. Изменение типов данных."
   ]
  },
  {
   "cell_type": "markdown",
   "id": "7d5dc3e9",
   "metadata": {},
   "source": [
    "Взглянем еще раз на информацию о датафрейме. Столбец children, dob_years и total_income имеют вещественный тип данных. Для удобства подсчетов переведем в целочисленный методом astype('int')"
   ]
  },
  {
   "cell_type": "code",
   "execution_count": 26,
   "id": "33a0347a",
   "metadata": {},
   "outputs": [],
   "source": [
    "df['total_income'] = df['total_income'].astype('int')\n",
    "df['days_employed'] = df['days_employed'].astype('int')\n",
    "df['dob_years'] = df['dob_years'].astype('int')"
   ]
  },
  {
   "cell_type": "code",
   "execution_count": 27,
   "id": "7dc2803b",
   "metadata": {},
   "outputs": [
    {
     "name": "stdout",
     "output_type": "stream",
     "text": [
      "<class 'pandas.core.frame.DataFrame'>\n",
      "Int64Index: 21524 entries, 0 to 21524\n",
      "Data columns (total 12 columns):\n",
      " #   Column            Non-Null Count  Dtype \n",
      "---  ------            --------------  ----- \n",
      " 0   children          21524 non-null  int64 \n",
      " 1   days_employed     21524 non-null  int64 \n",
      " 2   dob_years         21524 non-null  int64 \n",
      " 3   education         21524 non-null  object\n",
      " 4   education_id      21524 non-null  int64 \n",
      " 5   family_status     21524 non-null  object\n",
      " 6   family_status_id  21524 non-null  int64 \n",
      " 7   gender            21524 non-null  object\n",
      " 8   income_type       21524 non-null  object\n",
      " 9   debt              21524 non-null  int64 \n",
      " 10  total_income      21524 non-null  int64 \n",
      " 11  purpose           21524 non-null  object\n",
      "dtypes: int64(7), object(5)\n",
      "memory usage: 2.1+ MB\n"
     ]
    }
   ],
   "source": [
    "df.info() # проверим работу метода"
   ]
  },
  {
   "cell_type": "markdown",
   "id": "767311e3",
   "metadata": {},
   "source": [
    "### Шаг 2.4. Удаление дубликатов."
   ]
  },
  {
   "cell_type": "markdown",
   "id": "e1169302",
   "metadata": {},
   "source": [
    "В столбце education и family_status нарушение хорошего стиля - категориальные переменные записаны в разных регистрах. Хотя в столбце family_status это и не приведет к проблемам в исследовании, но в education это принципиально важно, чтобы найти дубликаты. Приведем все уникальные значения столбцов к нижнему регистру с помощью метода str.lower()"
   ]
  },
  {
   "cell_type": "code",
   "execution_count": 28,
   "id": "f3437cf0",
   "metadata": {},
   "outputs": [
    {
     "data": {
      "text/plain": [
       "array(['высшее', 'среднее', 'Среднее', 'СРЕДНЕЕ', 'ВЫСШЕЕ',\n",
       "       'неоконченное высшее', 'начальное', 'Высшее',\n",
       "       'НЕОКОНЧЕННОЕ ВЫСШЕЕ', 'Неоконченное высшее', 'НАЧАЛЬНОЕ',\n",
       "       'Начальное', 'Ученая степень', 'УЧЕНАЯ СТЕПЕНЬ', 'ученая степень'],\n",
       "      dtype=object)"
      ]
     },
     "execution_count": 28,
     "metadata": {},
     "output_type": "execute_result"
    }
   ],
   "source": [
    "df['education'].unique()"
   ]
  },
  {
   "cell_type": "code",
   "execution_count": 29,
   "id": "7e3f7485",
   "metadata": {},
   "outputs": [],
   "source": [
    "df['education'] = df['education'].str.lower()"
   ]
  },
  {
   "cell_type": "code",
   "execution_count": 30,
   "id": "a180de86",
   "metadata": {},
   "outputs": [
    {
     "data": {
      "text/plain": [
       "array(['высшее', 'среднее', 'неоконченное высшее', 'начальное',\n",
       "       'ученая степень'], dtype=object)"
      ]
     },
     "execution_count": 30,
     "metadata": {},
     "output_type": "execute_result"
    }
   ],
   "source": [
    "df['education'].unique() # проверим работу метода"
   ]
  },
  {
   "cell_type": "code",
   "execution_count": 31,
   "id": "913344c3",
   "metadata": {},
   "outputs": [
    {
     "data": {
      "text/plain": [
       "array(['женат / замужем', 'гражданский брак', 'вдовец / вдова',\n",
       "       'в разводе', 'Не женат / не замужем'], dtype=object)"
      ]
     },
     "metadata": {},
     "output_type": "display_data"
    },
    {
     "data": {
      "text/plain": [
       "array(['женат / замужем', 'гражданский брак', 'вдовец / вдова',\n",
       "       'в разводе', 'не женат / не замужем'], dtype=object)"
      ]
     },
     "execution_count": 31,
     "metadata": {},
     "output_type": "execute_result"
    }
   ],
   "source": [
    "display(df['family_status'].unique()) # сделаем то же самое для столбца family_status\n",
    "df['family_status'] = df['family_status'].str.lower()\n",
    "df['family_status'].unique()"
   ]
  },
  {
   "cell_type": "code",
   "execution_count": 32,
   "id": "3acdae3e",
   "metadata": {},
   "outputs": [
    {
     "data": {
      "text/plain": [
       "72"
      ]
     },
     "execution_count": 32,
     "metadata": {},
     "output_type": "execute_result"
    }
   ],
   "source": [
    "df.duplicated().sum() # узнаем сколько в таблице явных дубликатов"
   ]
  },
  {
   "cell_type": "code",
   "execution_count": 33,
   "id": "e92bc8c7",
   "metadata": {},
   "outputs": [],
   "source": [
    "df = df.drop_duplicates().reset_index(drop=True)"
   ]
  },
  {
   "cell_type": "markdown",
   "id": "bdc23aa8",
   "metadata": {},
   "source": [
    "Чтобы удалить все явные дубликаты использовала метод drop_duplicates()\n",
    "После удаления строчек обновила индексацию, чтобы в ней не осталось пропусков. Для этого вызвала метод reset_index(). Он создаст новый датафрейм, где все строки получат обычные индексы, уже без пропусков."
   ]
  },
  {
   "cell_type": "code",
   "execution_count": 34,
   "id": "d8f657dd",
   "metadata": {},
   "outputs": [
    {
     "data": {
      "text/plain": [
       "0"
      ]
     },
     "execution_count": 34,
     "metadata": {},
     "output_type": "execute_result"
    }
   ],
   "source": [
    "df.duplicated().sum() # проверка, что дубликатов не осталось"
   ]
  },
  {
   "cell_type": "markdown",
   "id": "9eb2095f",
   "metadata": {},
   "source": [
    "Обычный источник таких ошибок — человеческий фактор. Также вполне вероятна технологическая ошибка при выгрузке данных. В любом случае лучше поговорить с разработчиками, чтобы ошибки не повторялись и утвердить регламент выгрузки данных "
   ]
  },
  {
   "cell_type": "markdown",
   "id": "e837c683",
   "metadata": {},
   "source": [
    "### Шаг 2.5. Формирование дополнительных датафреймов словарей, декомпозиция исходного датафрейма."
   ]
  },
  {
   "cell_type": "code",
   "execution_count": 35,
   "id": "90bbbef0",
   "metadata": {},
   "outputs": [
    {
     "data": {
      "text/plain": [
       "среднее                15171\n",
       "высшее                  5250\n",
       "неоконченное высшее      743\n",
       "начальное                282\n",
       "ученая степень             6\n",
       "Name: education, dtype: int64"
      ]
     },
     "execution_count": 35,
     "metadata": {},
     "output_type": "execute_result"
    }
   ],
   "source": [
    "df['education'].value_counts() # посмотрим уникальные значения education, каждому значению столбца соответствует идентификатор"
   ]
  },
  {
   "cell_type": "code",
   "execution_count": 36,
   "id": "bba2b389",
   "metadata": {},
   "outputs": [
    {
     "data": {
      "text/html": [
       "<div>\n",
       "<style scoped>\n",
       "    .dataframe tbody tr th:only-of-type {\n",
       "        vertical-align: middle;\n",
       "    }\n",
       "\n",
       "    .dataframe tbody tr th {\n",
       "        vertical-align: top;\n",
       "    }\n",
       "\n",
       "    .dataframe thead th {\n",
       "        text-align: right;\n",
       "    }\n",
       "</style>\n",
       "<table border=\"1\" class=\"dataframe\">\n",
       "  <thead>\n",
       "    <tr style=\"text-align: right;\">\n",
       "      <th></th>\n",
       "      <th>education</th>\n",
       "      <th>education_id</th>\n",
       "    </tr>\n",
       "  </thead>\n",
       "  <tbody>\n",
       "    <tr>\n",
       "      <th>0</th>\n",
       "      <td>высшее</td>\n",
       "      <td>0</td>\n",
       "    </tr>\n",
       "    <tr>\n",
       "      <th>1</th>\n",
       "      <td>среднее</td>\n",
       "      <td>1</td>\n",
       "    </tr>\n",
       "    <tr>\n",
       "      <th>2</th>\n",
       "      <td>неоконченное высшее</td>\n",
       "      <td>2</td>\n",
       "    </tr>\n",
       "    <tr>\n",
       "      <th>3</th>\n",
       "      <td>начальное</td>\n",
       "      <td>3</td>\n",
       "    </tr>\n",
       "    <tr>\n",
       "      <th>4</th>\n",
       "      <td>ученая степень</td>\n",
       "      <td>4</td>\n",
       "    </tr>\n",
       "  </tbody>\n",
       "</table>\n",
       "</div>"
      ],
      "text/plain": [
       "             education  education_id\n",
       "0               высшее             0\n",
       "1              среднее             1\n",
       "2  неоконченное высшее             2\n",
       "3            начальное             3\n",
       "4       ученая степень             4"
      ]
     },
     "execution_count": 36,
     "metadata": {},
     "output_type": "execute_result"
    }
   ],
   "source": [
    "education_df = df[['education', 'education_id']] # создаем новый датафрейм\n",
    "education_df = education_df.drop_duplicates().reset_index(drop=True) # удаляем дубликаты, сохраняя уникальный словарь\n",
    "education_df.sort_values('education_id') # выводим на экран получившийся словарь"
   ]
  },
  {
   "cell_type": "code",
   "execution_count": 37,
   "id": "b04fda62",
   "metadata": {},
   "outputs": [
    {
     "data": {
      "text/html": [
       "<div>\n",
       "<style scoped>\n",
       "    .dataframe tbody tr th:only-of-type {\n",
       "        vertical-align: middle;\n",
       "    }\n",
       "\n",
       "    .dataframe tbody tr th {\n",
       "        vertical-align: top;\n",
       "    }\n",
       "\n",
       "    .dataframe thead th {\n",
       "        text-align: right;\n",
       "    }\n",
       "</style>\n",
       "<table border=\"1\" class=\"dataframe\">\n",
       "  <thead>\n",
       "    <tr style=\"text-align: right;\">\n",
       "      <th></th>\n",
       "      <th>family_status</th>\n",
       "      <th>family_status_id</th>\n",
       "    </tr>\n",
       "  </thead>\n",
       "  <tbody>\n",
       "    <tr>\n",
       "      <th>0</th>\n",
       "      <td>женат / замужем</td>\n",
       "      <td>0</td>\n",
       "    </tr>\n",
       "    <tr>\n",
       "      <th>1</th>\n",
       "      <td>гражданский брак</td>\n",
       "      <td>1</td>\n",
       "    </tr>\n",
       "    <tr>\n",
       "      <th>2</th>\n",
       "      <td>вдовец / вдова</td>\n",
       "      <td>2</td>\n",
       "    </tr>\n",
       "    <tr>\n",
       "      <th>3</th>\n",
       "      <td>в разводе</td>\n",
       "      <td>3</td>\n",
       "    </tr>\n",
       "    <tr>\n",
       "      <th>4</th>\n",
       "      <td>не женат / не замужем</td>\n",
       "      <td>4</td>\n",
       "    </tr>\n",
       "  </tbody>\n",
       "</table>\n",
       "</div>"
      ],
      "text/plain": [
       "           family_status  family_status_id\n",
       "0        женат / замужем                 0\n",
       "1       гражданский брак                 1\n",
       "2         вдовец / вдова                 2\n",
       "3              в разводе                 3\n",
       "4  не женат / не замужем                 4"
      ]
     },
     "execution_count": 37,
     "metadata": {},
     "output_type": "execute_result"
    }
   ],
   "source": [
    "family_status_df = df[['family_status', 'family_status_id']]\n",
    "family_status_df = family_status_df.drop_duplicates().reset_index(drop=True)\n",
    "family_status_df.sort_values('family_status_id')"
   ]
  },
  {
   "cell_type": "code",
   "execution_count": 38,
   "id": "80461b9f",
   "metadata": {},
   "outputs": [],
   "source": [
    "df.pop('family_status')\n",
    "df = df.drop(['education'], axis=1) # удаление из исходного датафрейм столбцов, занимающие много места и усложняющие работу с таблицей"
   ]
  },
  {
   "cell_type": "code",
   "execution_count": 39,
   "id": "f48cf154",
   "metadata": {},
   "outputs": [
    {
     "data": {
      "text/html": [
       "<div>\n",
       "<style scoped>\n",
       "    .dataframe tbody tr th:only-of-type {\n",
       "        vertical-align: middle;\n",
       "    }\n",
       "\n",
       "    .dataframe tbody tr th {\n",
       "        vertical-align: top;\n",
       "    }\n",
       "\n",
       "    .dataframe thead th {\n",
       "        text-align: right;\n",
       "    }\n",
       "</style>\n",
       "<table border=\"1\" class=\"dataframe\">\n",
       "  <thead>\n",
       "    <tr style=\"text-align: right;\">\n",
       "      <th></th>\n",
       "      <th>children</th>\n",
       "      <th>days_employed</th>\n",
       "      <th>dob_years</th>\n",
       "      <th>education_id</th>\n",
       "      <th>family_status_id</th>\n",
       "      <th>gender</th>\n",
       "      <th>income_type</th>\n",
       "      <th>debt</th>\n",
       "      <th>total_income</th>\n",
       "      <th>purpose</th>\n",
       "    </tr>\n",
       "  </thead>\n",
       "  <tbody>\n",
       "    <tr>\n",
       "      <th>0</th>\n",
       "      <td>1</td>\n",
       "      <td>8437</td>\n",
       "      <td>42</td>\n",
       "      <td>0</td>\n",
       "      <td>0</td>\n",
       "      <td>F</td>\n",
       "      <td>сотрудник</td>\n",
       "      <td>0</td>\n",
       "      <td>253875</td>\n",
       "      <td>покупка жилья</td>\n",
       "    </tr>\n",
       "    <tr>\n",
       "      <th>1</th>\n",
       "      <td>1</td>\n",
       "      <td>4024</td>\n",
       "      <td>36</td>\n",
       "      <td>1</td>\n",
       "      <td>0</td>\n",
       "      <td>F</td>\n",
       "      <td>сотрудник</td>\n",
       "      <td>0</td>\n",
       "      <td>112080</td>\n",
       "      <td>приобретение автомобиля</td>\n",
       "    </tr>\n",
       "    <tr>\n",
       "      <th>2</th>\n",
       "      <td>0</td>\n",
       "      <td>5623</td>\n",
       "      <td>33</td>\n",
       "      <td>1</td>\n",
       "      <td>0</td>\n",
       "      <td>M</td>\n",
       "      <td>сотрудник</td>\n",
       "      <td>0</td>\n",
       "      <td>145885</td>\n",
       "      <td>покупка жилья</td>\n",
       "    </tr>\n",
       "    <tr>\n",
       "      <th>3</th>\n",
       "      <td>3</td>\n",
       "      <td>4124</td>\n",
       "      <td>32</td>\n",
       "      <td>1</td>\n",
       "      <td>0</td>\n",
       "      <td>M</td>\n",
       "      <td>сотрудник</td>\n",
       "      <td>0</td>\n",
       "      <td>267628</td>\n",
       "      <td>дополнительное образование</td>\n",
       "    </tr>\n",
       "    <tr>\n",
       "      <th>4</th>\n",
       "      <td>0</td>\n",
       "      <td>12000</td>\n",
       "      <td>53</td>\n",
       "      <td>1</td>\n",
       "      <td>1</td>\n",
       "      <td>F</td>\n",
       "      <td>пенсионер</td>\n",
       "      <td>0</td>\n",
       "      <td>158616</td>\n",
       "      <td>сыграть свадьбу</td>\n",
       "    </tr>\n",
       "  </tbody>\n",
       "</table>\n",
       "</div>"
      ],
      "text/plain": [
       "   children  days_employed  dob_years  education_id  family_status_id gender  \\\n",
       "0         1           8437         42             0                 0      F   \n",
       "1         1           4024         36             1                 0      F   \n",
       "2         0           5623         33             1                 0      M   \n",
       "3         3           4124         32             1                 0      M   \n",
       "4         0          12000         53             1                 1      F   \n",
       "\n",
       "  income_type  debt  total_income                     purpose  \n",
       "0   сотрудник     0        253875               покупка жилья  \n",
       "1   сотрудник     0        112080     приобретение автомобиля  \n",
       "2   сотрудник     0        145885               покупка жилья  \n",
       "3   сотрудник     0        267628  дополнительное образование  \n",
       "4   пенсионер     0        158616             сыграть свадьбу  "
      ]
     },
     "execution_count": 39,
     "metadata": {},
     "output_type": "execute_result"
    }
   ],
   "source": [
    "df.head() # обзор получившейся таблицы"
   ]
  },
  {
   "cell_type": "markdown",
   "id": "5dd2c050",
   "metadata": {},
   "source": [
    "### Шаг 2.6. Категоризация дохода."
   ]
  },
  {
   "cell_type": "markdown",
   "id": "ae5e3041",
   "metadata": {},
   "source": [
    "Для оценки уровня дохода клиента категоризую данные в столбце total_income, где каждому достатку соответствует определенная буква-категория. Создадим функцию"
   ]
  },
  {
   "cell_type": "code",
   "execution_count": 40,
   "id": "cb8ff54d",
   "metadata": {},
   "outputs": [],
   "source": [
    "def income_category(total_income):\n",
    "    if 0 <= total_income <= 30000:\n",
    "        return 'E'\n",
    "    if 30001 <= total_income <= 50000:\n",
    "        return 'D'\n",
    "    if 50001 <= total_income <= 200000:\n",
    "        return 'C'\n",
    "    if 200001 <= total_income <= 1000000:\n",
    "        return 'B'\n",
    "    if total_income >= 1000001:\n",
    "        return 'A'"
   ]
  },
  {
   "cell_type": "code",
   "execution_count": 41,
   "id": "a6804cfc",
   "metadata": {},
   "outputs": [],
   "source": [
    "df['total_income_category'] = df['total_income'].apply(income_category) # применяю функцию к столбцу total_income и добавляю в датафрейм новый столбец - категория дохода"
   ]
  },
  {
   "cell_type": "code",
   "execution_count": 42,
   "id": "149c386a",
   "metadata": {},
   "outputs": [
    {
     "data": {
      "text/html": [
       "<div>\n",
       "<style scoped>\n",
       "    .dataframe tbody tr th:only-of-type {\n",
       "        vertical-align: middle;\n",
       "    }\n",
       "\n",
       "    .dataframe tbody tr th {\n",
       "        vertical-align: top;\n",
       "    }\n",
       "\n",
       "    .dataframe thead th {\n",
       "        text-align: right;\n",
       "    }\n",
       "</style>\n",
       "<table border=\"1\" class=\"dataframe\">\n",
       "  <thead>\n",
       "    <tr style=\"text-align: right;\">\n",
       "      <th></th>\n",
       "      <th>children</th>\n",
       "      <th>days_employed</th>\n",
       "      <th>dob_years</th>\n",
       "      <th>education_id</th>\n",
       "      <th>family_status_id</th>\n",
       "      <th>gender</th>\n",
       "      <th>income_type</th>\n",
       "      <th>debt</th>\n",
       "      <th>total_income</th>\n",
       "      <th>purpose</th>\n",
       "      <th>total_income_category</th>\n",
       "    </tr>\n",
       "  </thead>\n",
       "  <tbody>\n",
       "    <tr>\n",
       "      <th>0</th>\n",
       "      <td>1</td>\n",
       "      <td>8437</td>\n",
       "      <td>42</td>\n",
       "      <td>0</td>\n",
       "      <td>0</td>\n",
       "      <td>F</td>\n",
       "      <td>сотрудник</td>\n",
       "      <td>0</td>\n",
       "      <td>253875</td>\n",
       "      <td>покупка жилья</td>\n",
       "      <td>B</td>\n",
       "    </tr>\n",
       "    <tr>\n",
       "      <th>1</th>\n",
       "      <td>1</td>\n",
       "      <td>4024</td>\n",
       "      <td>36</td>\n",
       "      <td>1</td>\n",
       "      <td>0</td>\n",
       "      <td>F</td>\n",
       "      <td>сотрудник</td>\n",
       "      <td>0</td>\n",
       "      <td>112080</td>\n",
       "      <td>приобретение автомобиля</td>\n",
       "      <td>C</td>\n",
       "    </tr>\n",
       "    <tr>\n",
       "      <th>2</th>\n",
       "      <td>0</td>\n",
       "      <td>5623</td>\n",
       "      <td>33</td>\n",
       "      <td>1</td>\n",
       "      <td>0</td>\n",
       "      <td>M</td>\n",
       "      <td>сотрудник</td>\n",
       "      <td>0</td>\n",
       "      <td>145885</td>\n",
       "      <td>покупка жилья</td>\n",
       "      <td>C</td>\n",
       "    </tr>\n",
       "    <tr>\n",
       "      <th>3</th>\n",
       "      <td>3</td>\n",
       "      <td>4124</td>\n",
       "      <td>32</td>\n",
       "      <td>1</td>\n",
       "      <td>0</td>\n",
       "      <td>M</td>\n",
       "      <td>сотрудник</td>\n",
       "      <td>0</td>\n",
       "      <td>267628</td>\n",
       "      <td>дополнительное образование</td>\n",
       "      <td>B</td>\n",
       "    </tr>\n",
       "    <tr>\n",
       "      <th>4</th>\n",
       "      <td>0</td>\n",
       "      <td>12000</td>\n",
       "      <td>53</td>\n",
       "      <td>1</td>\n",
       "      <td>1</td>\n",
       "      <td>F</td>\n",
       "      <td>пенсионер</td>\n",
       "      <td>0</td>\n",
       "      <td>158616</td>\n",
       "      <td>сыграть свадьбу</td>\n",
       "      <td>C</td>\n",
       "    </tr>\n",
       "  </tbody>\n",
       "</table>\n",
       "</div>"
      ],
      "text/plain": [
       "   children  days_employed  dob_years  education_id  family_status_id gender  \\\n",
       "0         1           8437         42             0                 0      F   \n",
       "1         1           4024         36             1                 0      F   \n",
       "2         0           5623         33             1                 0      M   \n",
       "3         3           4124         32             1                 0      M   \n",
       "4         0          12000         53             1                 1      F   \n",
       "\n",
       "  income_type  debt  total_income                     purpose  \\\n",
       "0   сотрудник     0        253875               покупка жилья   \n",
       "1   сотрудник     0        112080     приобретение автомобиля   \n",
       "2   сотрудник     0        145885               покупка жилья   \n",
       "3   сотрудник     0        267628  дополнительное образование   \n",
       "4   пенсионер     0        158616             сыграть свадьбу   \n",
       "\n",
       "  total_income_category  \n",
       "0                     B  \n",
       "1                     C  \n",
       "2                     C  \n",
       "3                     B  \n",
       "4                     C  "
      ]
     },
     "execution_count": 42,
     "metadata": {},
     "output_type": "execute_result"
    }
   ],
   "source": [
    "df.head() # проверяем работу функции"
   ]
  },
  {
   "cell_type": "markdown",
   "id": "d0faf69d",
   "metadata": {},
   "source": [
    "### Шаг 2.7. Категоризация целей кредита."
   ]
  },
  {
   "cell_type": "code",
   "execution_count": 43,
   "id": "384fa310",
   "metadata": {},
   "outputs": [
    {
     "data": {
      "text/plain": [
       "свадьба                                   791\n",
       "на проведение свадьбы                     767\n",
       "сыграть свадьбу                           765\n",
       "операции с недвижимостью                  675\n",
       "покупка коммерческой недвижимости         661\n",
       "операции с жильем                         652\n",
       "покупка жилья для сдачи                   651\n",
       "операции с коммерческой недвижимостью     650\n",
       "покупка жилья                             646\n",
       "жилье                                     646\n",
       "покупка жилья для семьи                   638\n",
       "строительство собственной недвижимости    635\n",
       "недвижимость                              633\n",
       "операции со своей недвижимостью           627\n",
       "строительство жилой недвижимости          624\n",
       "покупка недвижимости                      620\n",
       "покупка своего жилья                      620\n",
       "строительство недвижимости                619\n",
       "ремонт жилью                              607\n",
       "покупка жилой недвижимости                606\n",
       "на покупку своего автомобиля              505\n",
       "заняться высшим образованием              496\n",
       "автомобиль                                494\n",
       "сделка с подержанным автомобилем          486\n",
       "автомобили                                478\n",
       "на покупку подержанного автомобиля        478\n",
       "свой автомобиль                           478\n",
       "на покупку автомобиля                     471\n",
       "приобретение автомобиля                   461\n",
       "дополнительное образование                460\n",
       "сделка с автомобилем                      455\n",
       "высшее образование                        452\n",
       "образование                               447\n",
       "получение дополнительного образования     446\n",
       "получение образования                     442\n",
       "профильное образование                    436\n",
       "получение высшего образования             426\n",
       "заняться образованием                     408\n",
       "Name: purpose, dtype: int64"
      ]
     },
     "execution_count": 43,
     "metadata": {},
     "output_type": "execute_result"
    }
   ],
   "source": [
    "df['purpose'].value_counts() # уточним какие есть цели получения кредита"
   ]
  },
  {
   "cell_type": "markdown",
   "id": "6b968801",
   "metadata": {},
   "source": [
    "Категоризуем цели получения кредита. Для этого создадим функцию и применим ее к новому столбцу датафрейм"
   ]
  },
  {
   "cell_type": "code",
   "execution_count": 44,
   "id": "9e9e238a",
   "metadata": {},
   "outputs": [],
   "source": [
    "def pur_category(pur):\n",
    "    if ('недвиж' in pur) or ('жил' in pur):\n",
    "        return 'операции с недвижимостью'\n",
    "    if 'свадьб' in pur:\n",
    "        return 'проведение свадьбы'\n",
    "    if 'авто' in pur:\n",
    "        return 'операции с автомобилем'\n",
    "    if 'образ' in pur:\n",
    "        return 'получение образования'"
   ]
  },
  {
   "cell_type": "code",
   "execution_count": 45,
   "id": "dac27f78",
   "metadata": {},
   "outputs": [],
   "source": [
    "try:\n",
    "    df['purpose_category'] = df['purpose'].apply(pur_category)\n",
    "except:\n",
    "    display('функция не сработала')"
   ]
  },
  {
   "cell_type": "code",
   "execution_count": 46,
   "id": "7ad28fd0",
   "metadata": {},
   "outputs": [
    {
     "data": {
      "text/html": [
       "<div>\n",
       "<style scoped>\n",
       "    .dataframe tbody tr th:only-of-type {\n",
       "        vertical-align: middle;\n",
       "    }\n",
       "\n",
       "    .dataframe tbody tr th {\n",
       "        vertical-align: top;\n",
       "    }\n",
       "\n",
       "    .dataframe thead th {\n",
       "        text-align: right;\n",
       "    }\n",
       "</style>\n",
       "<table border=\"1\" class=\"dataframe\">\n",
       "  <thead>\n",
       "    <tr style=\"text-align: right;\">\n",
       "      <th></th>\n",
       "      <th>children</th>\n",
       "      <th>days_employed</th>\n",
       "      <th>dob_years</th>\n",
       "      <th>education_id</th>\n",
       "      <th>family_status_id</th>\n",
       "      <th>gender</th>\n",
       "      <th>income_type</th>\n",
       "      <th>debt</th>\n",
       "      <th>total_income</th>\n",
       "      <th>purpose</th>\n",
       "      <th>total_income_category</th>\n",
       "      <th>purpose_category</th>\n",
       "    </tr>\n",
       "  </thead>\n",
       "  <tbody>\n",
       "    <tr>\n",
       "      <th>0</th>\n",
       "      <td>1</td>\n",
       "      <td>8437</td>\n",
       "      <td>42</td>\n",
       "      <td>0</td>\n",
       "      <td>0</td>\n",
       "      <td>F</td>\n",
       "      <td>сотрудник</td>\n",
       "      <td>0</td>\n",
       "      <td>253875</td>\n",
       "      <td>покупка жилья</td>\n",
       "      <td>B</td>\n",
       "      <td>операции с недвижимостью</td>\n",
       "    </tr>\n",
       "    <tr>\n",
       "      <th>1</th>\n",
       "      <td>1</td>\n",
       "      <td>4024</td>\n",
       "      <td>36</td>\n",
       "      <td>1</td>\n",
       "      <td>0</td>\n",
       "      <td>F</td>\n",
       "      <td>сотрудник</td>\n",
       "      <td>0</td>\n",
       "      <td>112080</td>\n",
       "      <td>приобретение автомобиля</td>\n",
       "      <td>C</td>\n",
       "      <td>операции с автомобилем</td>\n",
       "    </tr>\n",
       "    <tr>\n",
       "      <th>2</th>\n",
       "      <td>0</td>\n",
       "      <td>5623</td>\n",
       "      <td>33</td>\n",
       "      <td>1</td>\n",
       "      <td>0</td>\n",
       "      <td>M</td>\n",
       "      <td>сотрудник</td>\n",
       "      <td>0</td>\n",
       "      <td>145885</td>\n",
       "      <td>покупка жилья</td>\n",
       "      <td>C</td>\n",
       "      <td>операции с недвижимостью</td>\n",
       "    </tr>\n",
       "    <tr>\n",
       "      <th>3</th>\n",
       "      <td>3</td>\n",
       "      <td>4124</td>\n",
       "      <td>32</td>\n",
       "      <td>1</td>\n",
       "      <td>0</td>\n",
       "      <td>M</td>\n",
       "      <td>сотрудник</td>\n",
       "      <td>0</td>\n",
       "      <td>267628</td>\n",
       "      <td>дополнительное образование</td>\n",
       "      <td>B</td>\n",
       "      <td>получение образования</td>\n",
       "    </tr>\n",
       "    <tr>\n",
       "      <th>4</th>\n",
       "      <td>0</td>\n",
       "      <td>12000</td>\n",
       "      <td>53</td>\n",
       "      <td>1</td>\n",
       "      <td>1</td>\n",
       "      <td>F</td>\n",
       "      <td>пенсионер</td>\n",
       "      <td>0</td>\n",
       "      <td>158616</td>\n",
       "      <td>сыграть свадьбу</td>\n",
       "      <td>C</td>\n",
       "      <td>проведение свадьбы</td>\n",
       "    </tr>\n",
       "  </tbody>\n",
       "</table>\n",
       "</div>"
      ],
      "text/plain": [
       "   children  days_employed  dob_years  education_id  family_status_id gender  \\\n",
       "0         1           8437         42             0                 0      F   \n",
       "1         1           4024         36             1                 0      F   \n",
       "2         0           5623         33             1                 0      M   \n",
       "3         3           4124         32             1                 0      M   \n",
       "4         0          12000         53             1                 1      F   \n",
       "\n",
       "  income_type  debt  total_income                     purpose  \\\n",
       "0   сотрудник     0        253875               покупка жилья   \n",
       "1   сотрудник     0        112080     приобретение автомобиля   \n",
       "2   сотрудник     0        145885               покупка жилья   \n",
       "3   сотрудник     0        267628  дополнительное образование   \n",
       "4   пенсионер     0        158616             сыграть свадьбу   \n",
       "\n",
       "  total_income_category          purpose_category  \n",
       "0                     B  операции с недвижимостью  \n",
       "1                     C    операции с автомобилем  \n",
       "2                     C  операции с недвижимостью  \n",
       "3                     B     получение образования  \n",
       "4                     C        проведение свадьбы  "
      ]
     },
     "execution_count": 46,
     "metadata": {},
     "output_type": "execute_result"
    }
   ],
   "source": [
    "df.head()"
   ]
  },
  {
   "cell_type": "code",
   "execution_count": 47,
   "id": "12e0591d",
   "metadata": {},
   "outputs": [
    {
     "data": {
      "text/html": [
       "<div>\n",
       "<style scoped>\n",
       "    .dataframe tbody tr th:only-of-type {\n",
       "        vertical-align: middle;\n",
       "    }\n",
       "\n",
       "    .dataframe tbody tr th {\n",
       "        vertical-align: top;\n",
       "    }\n",
       "\n",
       "    .dataframe thead th {\n",
       "        text-align: right;\n",
       "    }\n",
       "</style>\n",
       "<table border=\"1\" class=\"dataframe\">\n",
       "  <thead>\n",
       "    <tr style=\"text-align: right;\">\n",
       "      <th></th>\n",
       "      <th>children</th>\n",
       "      <th>days_employed</th>\n",
       "      <th>dob_years</th>\n",
       "      <th>education_id</th>\n",
       "      <th>family_status_id</th>\n",
       "      <th>gender</th>\n",
       "      <th>income_type</th>\n",
       "      <th>debt</th>\n",
       "      <th>total_income</th>\n",
       "      <th>total_income_category</th>\n",
       "      <th>purpose_category</th>\n",
       "    </tr>\n",
       "  </thead>\n",
       "  <tbody>\n",
       "    <tr>\n",
       "      <th>0</th>\n",
       "      <td>1</td>\n",
       "      <td>8437</td>\n",
       "      <td>42</td>\n",
       "      <td>0</td>\n",
       "      <td>0</td>\n",
       "      <td>F</td>\n",
       "      <td>сотрудник</td>\n",
       "      <td>0</td>\n",
       "      <td>253875</td>\n",
       "      <td>B</td>\n",
       "      <td>операции с недвижимостью</td>\n",
       "    </tr>\n",
       "    <tr>\n",
       "      <th>1</th>\n",
       "      <td>1</td>\n",
       "      <td>4024</td>\n",
       "      <td>36</td>\n",
       "      <td>1</td>\n",
       "      <td>0</td>\n",
       "      <td>F</td>\n",
       "      <td>сотрудник</td>\n",
       "      <td>0</td>\n",
       "      <td>112080</td>\n",
       "      <td>C</td>\n",
       "      <td>операции с автомобилем</td>\n",
       "    </tr>\n",
       "    <tr>\n",
       "      <th>2</th>\n",
       "      <td>0</td>\n",
       "      <td>5623</td>\n",
       "      <td>33</td>\n",
       "      <td>1</td>\n",
       "      <td>0</td>\n",
       "      <td>M</td>\n",
       "      <td>сотрудник</td>\n",
       "      <td>0</td>\n",
       "      <td>145885</td>\n",
       "      <td>C</td>\n",
       "      <td>операции с недвижимостью</td>\n",
       "    </tr>\n",
       "    <tr>\n",
       "      <th>3</th>\n",
       "      <td>3</td>\n",
       "      <td>4124</td>\n",
       "      <td>32</td>\n",
       "      <td>1</td>\n",
       "      <td>0</td>\n",
       "      <td>M</td>\n",
       "      <td>сотрудник</td>\n",
       "      <td>0</td>\n",
       "      <td>267628</td>\n",
       "      <td>B</td>\n",
       "      <td>получение образования</td>\n",
       "    </tr>\n",
       "    <tr>\n",
       "      <th>4</th>\n",
       "      <td>0</td>\n",
       "      <td>12000</td>\n",
       "      <td>53</td>\n",
       "      <td>1</td>\n",
       "      <td>1</td>\n",
       "      <td>F</td>\n",
       "      <td>пенсионер</td>\n",
       "      <td>0</td>\n",
       "      <td>158616</td>\n",
       "      <td>C</td>\n",
       "      <td>проведение свадьбы</td>\n",
       "    </tr>\n",
       "  </tbody>\n",
       "</table>\n",
       "</div>"
      ],
      "text/plain": [
       "   children  days_employed  dob_years  education_id  family_status_id gender  \\\n",
       "0         1           8437         42             0                 0      F   \n",
       "1         1           4024         36             1                 0      F   \n",
       "2         0           5623         33             1                 0      M   \n",
       "3         3           4124         32             1                 0      M   \n",
       "4         0          12000         53             1                 1      F   \n",
       "\n",
       "  income_type  debt  total_income total_income_category  \\\n",
       "0   сотрудник     0        253875                     B   \n",
       "1   сотрудник     0        112080                     C   \n",
       "2   сотрудник     0        145885                     C   \n",
       "3   сотрудник     0        267628                     B   \n",
       "4   пенсионер     0        158616                     C   \n",
       "\n",
       "           purpose_category  \n",
       "0  операции с недвижимостью  \n",
       "1    операции с автомобилем  \n",
       "2  операции с недвижимостью  \n",
       "3     получение образования  \n",
       "4        проведение свадьбы  "
      ]
     },
     "execution_count": 47,
     "metadata": {},
     "output_type": "execute_result"
    }
   ],
   "source": [
    "df.pop('purpose') # удалим столбец purpose \n",
    "df.head()"
   ]
  },
  {
   "cell_type": "code",
   "execution_count": 48,
   "id": "5a550eb1",
   "metadata": {},
   "outputs": [
    {
     "data": {
      "text/plain": [
       "операции с недвижимостью    10810\n",
       "операции с автомобилем       4306\n",
       "получение образования        4013\n",
       "проведение свадьбы           2323\n",
       "Name: purpose_category, dtype: int64"
      ]
     },
     "execution_count": 48,
     "metadata": {},
     "output_type": "execute_result"
    }
   ],
   "source": [
    "df['purpose_category'].value_counts() # полочилось 4 категории целей"
   ]
  },
  {
   "cell_type": "markdown",
   "id": "991d5f65",
   "metadata": {},
   "source": [
    "### Ответы на вопросы."
   ]
  },
  {
   "cell_type": "code",
   "execution_count": 49,
   "id": "48f08c52",
   "metadata": {},
   "outputs": [
    {
     "data": {
      "text/plain": [
       "8.115793399216855"
      ]
     },
     "execution_count": 49,
     "metadata": {},
     "output_type": "execute_result"
    }
   ],
   "source": [
    "df['debt'].mean() * 100 # найдем отношение должников ко всем заемщикам"
   ]
  },
  {
   "cell_type": "markdown",
   "id": "44c26c7e",
   "metadata": {},
   "source": [
    "В 8 % случаях кредит не выплачивается в срок. Посмотрим как меняется это значение в зависимости от других факторов"
   ]
  },
  {
   "cell_type": "markdown",
   "id": "76a7732b",
   "metadata": {},
   "source": [
    "Чтобы ответить на поставленные банком вопросы о зависимости, выведу необходимую информацию в отдельные таблицы. \n",
    "##### Вопрос 1: Есть ли зависимость между количеством детей и возвратом кредита в срок? "
   ]
  },
  {
   "cell_type": "markdown",
   "id": "757380c1",
   "metadata": {},
   "source": [
    "<a id='intro'></a>"
   ]
  },
  {
   "cell_type": "code",
   "execution_count": 50,
   "id": "4086b1fa",
   "metadata": {},
   "outputs": [
    {
     "data": {
      "text/html": [
       "<div>\n",
       "<style scoped>\n",
       "    .dataframe tbody tr th:only-of-type {\n",
       "        vertical-align: middle;\n",
       "    }\n",
       "\n",
       "    .dataframe tbody tr th {\n",
       "        vertical-align: top;\n",
       "    }\n",
       "\n",
       "    .dataframe thead tr th {\n",
       "        text-align: left;\n",
       "    }\n",
       "\n",
       "    .dataframe thead tr:last-of-type th {\n",
       "        text-align: right;\n",
       "    }\n",
       "</style>\n",
       "<table border=\"1\" class=\"dataframe\">\n",
       "  <thead>\n",
       "    <tr>\n",
       "      <th></th>\n",
       "      <th colspan=\"3\" halign=\"left\">debt</th>\n",
       "      <th>процент возврата в срок</th>\n",
       "    </tr>\n",
       "    <tr>\n",
       "      <th></th>\n",
       "      <th>count</th>\n",
       "      <th>sum</th>\n",
       "      <th>mean</th>\n",
       "      <th></th>\n",
       "    </tr>\n",
       "    <tr>\n",
       "      <th>children</th>\n",
       "      <th></th>\n",
       "      <th></th>\n",
       "      <th></th>\n",
       "      <th></th>\n",
       "    </tr>\n",
       "  </thead>\n",
       "  <tbody>\n",
       "    <tr>\n",
       "      <th>5</th>\n",
       "      <td>9</td>\n",
       "      <td>0</td>\n",
       "      <td>0.000000</td>\n",
       "      <td>100.000000</td>\n",
       "    </tr>\n",
       "    <tr>\n",
       "      <th>0</th>\n",
       "      <td>14089</td>\n",
       "      <td>1063</td>\n",
       "      <td>0.075449</td>\n",
       "      <td>92.455107</td>\n",
       "    </tr>\n",
       "    <tr>\n",
       "      <th>3</th>\n",
       "      <td>330</td>\n",
       "      <td>27</td>\n",
       "      <td>0.081818</td>\n",
       "      <td>91.818182</td>\n",
       "    </tr>\n",
       "    <tr>\n",
       "      <th>1</th>\n",
       "      <td>4855</td>\n",
       "      <td>445</td>\n",
       "      <td>0.091658</td>\n",
       "      <td>90.834192</td>\n",
       "    </tr>\n",
       "    <tr>\n",
       "      <th>2</th>\n",
       "      <td>2128</td>\n",
       "      <td>202</td>\n",
       "      <td>0.094925</td>\n",
       "      <td>90.507519</td>\n",
       "    </tr>\n",
       "    <tr>\n",
       "      <th>4</th>\n",
       "      <td>41</td>\n",
       "      <td>4</td>\n",
       "      <td>0.097561</td>\n",
       "      <td>90.243902</td>\n",
       "    </tr>\n",
       "  </tbody>\n",
       "</table>\n",
       "</div>"
      ],
      "text/plain": [
       "           debt                 процент возврата в срок\n",
       "          count   sum      mean                        \n",
       "children                                               \n",
       "5             9     0  0.000000              100.000000\n",
       "0         14089  1063  0.075449               92.455107\n",
       "3           330    27  0.081818               91.818182\n",
       "1          4855   445  0.091658               90.834192\n",
       "2          2128   202  0.094925               90.507519\n",
       "4            41     4  0.097561               90.243902"
      ]
     },
     "execution_count": 50,
     "metadata": {},
     "output_type": "execute_result"
    }
   ],
   "source": [
    "children_debt = df.groupby('children').agg({'debt':['count','sum', 'mean']}) # группирую таблицу, в которой указано количество детей и наличие задолжности\n",
    "children_debt['процент возврата в срок'] = ((children_debt[('debt',  'mean')] - 1) * (-100)) # добавляю новый столбец\n",
    "children_debt.sort_values(by='процент возврата в срок', ascending=False) # вывожу таблицу на экран"
   ]
  },
  {
   "cell_type": "markdown",
   "id": "59acacab",
   "metadata": {},
   "source": [
    "##### Вывод 1: Данные неоднозначны, возможно, нужна бОльшая выборка. Тем не менее, клиенты, у которых 5 детей возвращают кредит в срок со сто процентной вероятностью. Далее необходимо обратить внимание на клиентов без детей - их процент выше, чем у остальных. Возможно, это связано с тем, что траты на семью возрастают с ростом количества детей. "
   ]
  },
  {
   "cell_type": "markdown",
   "id": "ff843f15",
   "metadata": {},
   "source": [
    "##### Вопрос 2: Есть ли зависимость между семейным положением и возвратом кредита в срок?"
   ]
  },
  {
   "cell_type": "code",
   "execution_count": 51,
   "id": "37862e57",
   "metadata": {},
   "outputs": [
    {
     "data": {
      "text/html": [
       "<div>\n",
       "<style scoped>\n",
       "    .dataframe tbody tr th:only-of-type {\n",
       "        vertical-align: middle;\n",
       "    }\n",
       "\n",
       "    .dataframe tbody tr th {\n",
       "        vertical-align: top;\n",
       "    }\n",
       "\n",
       "    .dataframe thead th {\n",
       "        text-align: right;\n",
       "    }\n",
       "</style>\n",
       "<table border=\"1\" class=\"dataframe\">\n",
       "  <thead>\n",
       "    <tr style=\"text-align: right;\">\n",
       "      <th>debt</th>\n",
       "      <th>0</th>\n",
       "      <th>1</th>\n",
       "      <th>процент возврата в срок</th>\n",
       "    </tr>\n",
       "    <tr>\n",
       "      <th>family_status_id</th>\n",
       "      <th></th>\n",
       "      <th></th>\n",
       "      <th></th>\n",
       "    </tr>\n",
       "  </thead>\n",
       "  <tbody>\n",
       "    <tr>\n",
       "      <th>2</th>\n",
       "      <td>896</td>\n",
       "      <td>63</td>\n",
       "      <td>93.430657</td>\n",
       "    </tr>\n",
       "    <tr>\n",
       "      <th>3</th>\n",
       "      <td>1110</td>\n",
       "      <td>85</td>\n",
       "      <td>92.887029</td>\n",
       "    </tr>\n",
       "    <tr>\n",
       "      <th>0</th>\n",
       "      <td>11408</td>\n",
       "      <td>931</td>\n",
       "      <td>92.454818</td>\n",
       "    </tr>\n",
       "    <tr>\n",
       "      <th>1</th>\n",
       "      <td>3761</td>\n",
       "      <td>388</td>\n",
       "      <td>90.648349</td>\n",
       "    </tr>\n",
       "    <tr>\n",
       "      <th>4</th>\n",
       "      <td>2536</td>\n",
       "      <td>274</td>\n",
       "      <td>90.249110</td>\n",
       "    </tr>\n",
       "  </tbody>\n",
       "</table>\n",
       "</div>"
      ],
      "text/plain": [
       "debt                  0    1  процент возврата в срок\n",
       "family_status_id                                     \n",
       "2                   896   63                93.430657\n",
       "3                  1110   85                92.887029\n",
       "0                 11408  931                92.454818\n",
       "1                  3761  388                90.648349\n",
       "4                  2536  274                90.249110"
      ]
     },
     "execution_count": 51,
     "metadata": {},
     "output_type": "execute_result"
    }
   ],
   "source": [
    "fam_status_debt = pd.pivot_table(df, values='gender', index=['family_status_id'], columns='debt', aggfunc='count', fill_value=0)\n",
    "fam_status_debt['процент возврата в срок'] = fam_status_debt[0] / (fam_status_debt[0] + fam_status_debt[1]) *100\n",
    "fam_status_debt.sort_values(by='процент возврата в срок', ascending=False)"
   ]
  },
  {
   "cell_type": "markdown",
   "id": "f3b73038",
   "metadata": {},
   "source": [
    "Из предложенной таблицы не видно фактического семейного положения, только идентификаторы. Обратимся к словарю и соединим необходимые датафреймы"
   ]
  },
  {
   "cell_type": "code",
   "execution_count": 52,
   "id": "6b02ba28",
   "metadata": {},
   "outputs": [
    {
     "data": {
      "text/html": [
       "<div>\n",
       "<style scoped>\n",
       "    .dataframe tbody tr th:only-of-type {\n",
       "        vertical-align: middle;\n",
       "    }\n",
       "\n",
       "    .dataframe tbody tr th {\n",
       "        vertical-align: top;\n",
       "    }\n",
       "\n",
       "    .dataframe thead th {\n",
       "        text-align: right;\n",
       "    }\n",
       "</style>\n",
       "<table border=\"1\" class=\"dataframe\">\n",
       "  <thead>\n",
       "    <tr style=\"text-align: right;\">\n",
       "      <th></th>\n",
       "      <th>family_status_id</th>\n",
       "      <th>0</th>\n",
       "      <th>1</th>\n",
       "      <th>процент возврата в срок</th>\n",
       "      <th>family_status</th>\n",
       "    </tr>\n",
       "  </thead>\n",
       "  <tbody>\n",
       "    <tr>\n",
       "      <th>2</th>\n",
       "      <td>2</td>\n",
       "      <td>896</td>\n",
       "      <td>63</td>\n",
       "      <td>93.430657</td>\n",
       "      <td>вдовец / вдова</td>\n",
       "    </tr>\n",
       "    <tr>\n",
       "      <th>3</th>\n",
       "      <td>3</td>\n",
       "      <td>1110</td>\n",
       "      <td>85</td>\n",
       "      <td>92.887029</td>\n",
       "      <td>в разводе</td>\n",
       "    </tr>\n",
       "    <tr>\n",
       "      <th>0</th>\n",
       "      <td>0</td>\n",
       "      <td>11408</td>\n",
       "      <td>931</td>\n",
       "      <td>92.454818</td>\n",
       "      <td>женат / замужем</td>\n",
       "    </tr>\n",
       "    <tr>\n",
       "      <th>1</th>\n",
       "      <td>1</td>\n",
       "      <td>3761</td>\n",
       "      <td>388</td>\n",
       "      <td>90.648349</td>\n",
       "      <td>гражданский брак</td>\n",
       "    </tr>\n",
       "    <tr>\n",
       "      <th>4</th>\n",
       "      <td>4</td>\n",
       "      <td>2536</td>\n",
       "      <td>274</td>\n",
       "      <td>90.249110</td>\n",
       "      <td>не женат / не замужем</td>\n",
       "    </tr>\n",
       "  </tbody>\n",
       "</table>\n",
       "</div>"
      ],
      "text/plain": [
       "   family_status_id      0    1  процент возврата в срок  \\\n",
       "2                 2    896   63                93.430657   \n",
       "3                 3   1110   85                92.887029   \n",
       "0                 0  11408  931                92.454818   \n",
       "1                 1   3761  388                90.648349   \n",
       "4                 4   2536  274                90.249110   \n",
       "\n",
       "           family_status  \n",
       "2         вдовец / вдова  \n",
       "3              в разводе  \n",
       "0        женат / замужем  \n",
       "1       гражданский брак  \n",
       "4  не женат / не замужем  "
      ]
     },
     "execution_count": 52,
     "metadata": {},
     "output_type": "execute_result"
    }
   ],
   "source": [
    "new_family_status_df = fam_status_debt.merge(family_status_df, on='family_status_id', how='left')\n",
    "new_family_status_df.sort_values(by='процент возврата в срок', ascending=False)"
   ]
  },
  {
   "cell_type": "markdown",
   "id": "518e2fd6",
   "metadata": {},
   "source": [
    "##### Вывод 2: В случае с семейным положением, зависимость более выражена: клиенты, которые в браке или были в нем возвращают кредит надежнее. Это может быть связано с уровнем ответственности, который повышается у людей в браке"
   ]
  },
  {
   "cell_type": "markdown",
   "id": "89d17850",
   "metadata": {},
   "source": [
    "##### Вопрос 3: Есть ли зависимость между уровнем дохода и возвратом кредита в срок?"
   ]
  },
  {
   "cell_type": "code",
   "execution_count": 53,
   "id": "4125b6e5",
   "metadata": {},
   "outputs": [
    {
     "data": {
      "text/html": [
       "<div>\n",
       "<style scoped>\n",
       "    .dataframe tbody tr th:only-of-type {\n",
       "        vertical-align: middle;\n",
       "    }\n",
       "\n",
       "    .dataframe tbody tr th {\n",
       "        vertical-align: top;\n",
       "    }\n",
       "\n",
       "    .dataframe thead th {\n",
       "        text-align: right;\n",
       "    }\n",
       "</style>\n",
       "<table border=\"1\" class=\"dataframe\">\n",
       "  <thead>\n",
       "    <tr style=\"text-align: right;\">\n",
       "      <th>debt</th>\n",
       "      <th>0</th>\n",
       "      <th>1</th>\n",
       "      <th>процент возврата в срок</th>\n",
       "    </tr>\n",
       "    <tr>\n",
       "      <th>total_income_category</th>\n",
       "      <th></th>\n",
       "      <th></th>\n",
       "      <th></th>\n",
       "    </tr>\n",
       "  </thead>\n",
       "  <tbody>\n",
       "    <tr>\n",
       "      <th>D</th>\n",
       "      <td>329</td>\n",
       "      <td>21</td>\n",
       "      <td>94.000000</td>\n",
       "    </tr>\n",
       "    <tr>\n",
       "      <th>B</th>\n",
       "      <td>4685</td>\n",
       "      <td>356</td>\n",
       "      <td>92.937909</td>\n",
       "    </tr>\n",
       "    <tr>\n",
       "      <th>A</th>\n",
       "      <td>23</td>\n",
       "      <td>2</td>\n",
       "      <td>92.000000</td>\n",
       "    </tr>\n",
       "    <tr>\n",
       "      <th>C</th>\n",
       "      <td>14654</td>\n",
       "      <td>1360</td>\n",
       "      <td>91.507431</td>\n",
       "    </tr>\n",
       "    <tr>\n",
       "      <th>E</th>\n",
       "      <td>20</td>\n",
       "      <td>2</td>\n",
       "      <td>90.909091</td>\n",
       "    </tr>\n",
       "  </tbody>\n",
       "</table>\n",
       "</div>"
      ],
      "text/plain": [
       "debt                       0     1  процент возврата в срок\n",
       "total_income_category                                      \n",
       "D                        329    21                94.000000\n",
       "B                       4685   356                92.937909\n",
       "A                         23     2                92.000000\n",
       "C                      14654  1360                91.507431\n",
       "E                         20     2                90.909091"
      ]
     },
     "execution_count": 53,
     "metadata": {},
     "output_type": "execute_result"
    }
   ],
   "source": [
    "income_debt = pd.pivot_table(df, values='gender', index=['total_income_category'], columns='debt', aggfunc='count', fill_value=0)\n",
    "income_debt['процент возврата в срок'] = income_debt[0] / (income_debt[0] + income_debt[1]) * 100\n",
    "income_debt.sort_values(by='процент возврата в срок', ascending=False)"
   ]
  },
  {
   "cell_type": "markdown",
   "id": "1371446b",
   "metadata": {},
   "source": [
    "##### Вывод 3: Очевидной зависимости тут нет. Примечательно, что люди с невысоким уровнем достатка возвращают кредит более надежно, чем клиенты с высоким доходом. Однако, группа Е - клиенты с низким уровнем дохода умеют меньший процент возврата кредита в срок"
   ]
  },
  {
   "cell_type": "markdown",
   "id": "59e2f246",
   "metadata": {},
   "source": [
    "##### Вопрос 4: Как разные цели кредита влияют на его возврат в срок?"
   ]
  },
  {
   "cell_type": "code",
   "execution_count": 54,
   "id": "2cee169e",
   "metadata": {},
   "outputs": [
    {
     "data": {
      "text/html": [
       "<div>\n",
       "<style scoped>\n",
       "    .dataframe tbody tr th:only-of-type {\n",
       "        vertical-align: middle;\n",
       "    }\n",
       "\n",
       "    .dataframe tbody tr th {\n",
       "        vertical-align: top;\n",
       "    }\n",
       "\n",
       "    .dataframe thead tr th {\n",
       "        text-align: left;\n",
       "    }\n",
       "\n",
       "    .dataframe thead tr:last-of-type th {\n",
       "        text-align: right;\n",
       "    }\n",
       "</style>\n",
       "<table border=\"1\" class=\"dataframe\">\n",
       "  <thead>\n",
       "    <tr>\n",
       "      <th></th>\n",
       "      <th colspan=\"3\" halign=\"left\">debt</th>\n",
       "      <th>процент возврата в срок</th>\n",
       "    </tr>\n",
       "    <tr>\n",
       "      <th></th>\n",
       "      <th>count</th>\n",
       "      <th>sum</th>\n",
       "      <th>mean</th>\n",
       "      <th></th>\n",
       "    </tr>\n",
       "    <tr>\n",
       "      <th>purpose_category</th>\n",
       "      <th></th>\n",
       "      <th></th>\n",
       "      <th></th>\n",
       "      <th></th>\n",
       "    </tr>\n",
       "  </thead>\n",
       "  <tbody>\n",
       "    <tr>\n",
       "      <th>операции с недвижимостью</th>\n",
       "      <td>10810</td>\n",
       "      <td>782</td>\n",
       "      <td>0.072340</td>\n",
       "      <td>92.765957</td>\n",
       "    </tr>\n",
       "    <tr>\n",
       "      <th>проведение свадьбы</th>\n",
       "      <td>2323</td>\n",
       "      <td>186</td>\n",
       "      <td>0.080069</td>\n",
       "      <td>91.993112</td>\n",
       "    </tr>\n",
       "    <tr>\n",
       "      <th>получение образования</th>\n",
       "      <td>4013</td>\n",
       "      <td>370</td>\n",
       "      <td>0.092200</td>\n",
       "      <td>90.779965</td>\n",
       "    </tr>\n",
       "    <tr>\n",
       "      <th>операции с автомобилем</th>\n",
       "      <td>4306</td>\n",
       "      <td>403</td>\n",
       "      <td>0.093590</td>\n",
       "      <td>90.640966</td>\n",
       "    </tr>\n",
       "  </tbody>\n",
       "</table>\n",
       "</div>"
      ],
      "text/plain": [
       "                           debt                процент возврата в срок\n",
       "                          count  sum      mean                        \n",
       "purpose_category                                                      \n",
       "операции с недвижимостью  10810  782  0.072340               92.765957\n",
       "проведение свадьбы         2323  186  0.080069               91.993112\n",
       "получение образования      4013  370  0.092200               90.779965\n",
       "операции с автомобилем     4306  403  0.093590               90.640966"
      ]
     },
     "execution_count": 54,
     "metadata": {},
     "output_type": "execute_result"
    }
   ],
   "source": [
    "purpose_debt = df.groupby('purpose_category').agg({'debt':['count','sum', 'mean']}) # группируем таблицу\n",
    "purpose_debt['процент возврата в срок'] = ((purpose_debt[('debt',  'mean')] - 1) * (-100)) # добавляем столбец с процентами\n",
    "purpose_debt.sort_values(by='процент возврата в срок', ascending=False) # выводим таблицу"
   ]
  },
  {
   "cell_type": "markdown",
   "id": "6972345d",
   "metadata": {},
   "source": [
    "##### Вывод 4: Люди с большей вероятностью выплачивают кредит если он взят на операции с жильем или недвижимостью или на свадьбу. Опять же, это может свидетельствовать об уровне ответственности тк эти цели прямо или косвенно связаны с семейным положением"
   ]
  },
  {
   "cell_type": "markdown",
   "id": "863aa659",
   "metadata": {},
   "source": [
    "## Общий вывод:"
   ]
  },
  {
   "cell_type": "markdown",
   "id": "9c8d27ae",
   "metadata": {},
   "source": [
    "В общем выводе хотела бы обратить внимание на очевидную зависимость - семейное положение и возврат кредита в срок. На основе проведенного исследования можно сделать вывод, что человек в браке (или человек, который был в браке) является более надежным заемщиком.\n",
    "Цели кредита подтверждают, что люди в браке более ответственны.\n",
    "Однако количество детей и уровень дохода - не дали каких то очевидных взаимосвязей. Предлагаю исследовать этот вопрос более подробно, а именно рассматривать клиента с трех позицей (ежемесячный доход, количество детей и наличие задолжности), тк один и тот же уровень дохода при разном количестве детей могут быть очень разными категориями достатка человека."
   ]
  },
  {
   "cell_type": "markdown",
   "id": "5da38dee",
   "metadata": {},
   "source": [
    "## Общий вывод:"
   ]
  },
  {
   "cell_type": "markdown",
   "id": "8fe463e4",
   "metadata": {},
   "source": [
    "В данном проекте я исследовала **зависимость семейного положения, уровня достатка, целей кредита на возврат кредита в срок.** Данные были сырыми, поэтому первым шагом был \n",
    "* обзор данных\n",
    "\n",
    "затем\n",
    "* предобработка данных\n",
    "\n",
    "Мною были использованы такие методы, как:`info()` собрала общую информацию `isna().sum()` нашла количество пропусков `duplicated().sum()` нашла количество дубликатов. Проанализировала и устранила аномальные значения, заполнила пропуски.\n",
    "Важным этапом моего исследования была \n",
    "* категоризация данных\n",
    "\n",
    "а именно целей и дохода заемщиков. С помощью полученных новых данных, я сосатавила сводные таблицы, которые помогли осуществить следующий шаг\n",
    "* ответить на поставленные бизнесом вопросы.\n",
    "\n",
    "Все необходимые зависимости данных можно отследить в следующих [таблицах](#intro).\n",
    "    ```\n",
    "    pd.pivot_table(df, values='gender', index=['total_income_category'], columns='debt', aggfunc='count', fill_value=0)\n",
    "    ```    \n",
    "\n",
    "Мною была выявлена очевидная зависимость - семейное положение и возврат кредита в срок. Таким образом самым **надежным** заемщиком оказался клиент с **пятью детьми или без детей,** который **был или находится сейчас в браке.**"
   ]
  }
 ],
 "metadata": {
  "ExecuteTimeLog": [
   {
    "duration": 509,
    "start_time": "2022-03-29T16:00:56.373Z"
   },
   {
    "duration": 83,
    "start_time": "2022-03-29T16:00:56.884Z"
   },
   {
    "duration": 30,
    "start_time": "2022-03-29T16:01:02.121Z"
   },
   {
    "duration": 21,
    "start_time": "2022-03-29T16:02:47.032Z"
   },
   {
    "duration": 49,
    "start_time": "2022-03-30T12:15:23.741Z"
   },
   {
    "duration": 378,
    "start_time": "2022-03-30T12:15:28.359Z"
   },
   {
    "duration": 58,
    "start_time": "2022-03-30T12:15:29.709Z"
   },
   {
    "duration": 21,
    "start_time": "2022-03-30T12:15:30.939Z"
   },
   {
    "duration": 4,
    "start_time": "2022-03-30T12:18:16.586Z"
   },
   {
    "duration": 4,
    "start_time": "2022-03-30T12:18:26.712Z"
   },
   {
    "duration": 29,
    "start_time": "2022-03-30T12:24:32.957Z"
   },
   {
    "duration": 4,
    "start_time": "2022-03-30T12:24:45.373Z"
   },
   {
    "duration": 5,
    "start_time": "2022-03-30T12:25:25.752Z"
   },
   {
    "duration": 6,
    "start_time": "2022-03-30T12:26:26.834Z"
   },
   {
    "duration": 8,
    "start_time": "2022-03-30T12:26:51.404Z"
   },
   {
    "duration": 7,
    "start_time": "2022-03-30T12:29:33.957Z"
   },
   {
    "duration": 18,
    "start_time": "2022-03-30T12:32:18.017Z"
   },
   {
    "duration": 15,
    "start_time": "2022-03-30T12:32:45.536Z"
   },
   {
    "duration": 6,
    "start_time": "2022-03-30T12:34:02.862Z"
   },
   {
    "duration": 19,
    "start_time": "2022-03-30T13:07:55.395Z"
   },
   {
    "duration": 5,
    "start_time": "2022-03-30T13:12:44.270Z"
   },
   {
    "duration": 6,
    "start_time": "2022-03-30T13:13:34.678Z"
   },
   {
    "duration": 69,
    "start_time": "2022-03-30T13:57:18.207Z"
   },
   {
    "duration": 483,
    "start_time": "2022-03-30T13:57:39.274Z"
   },
   {
    "duration": 87,
    "start_time": "2022-03-30T13:57:39.760Z"
   },
   {
    "duration": 34,
    "start_time": "2022-03-30T13:57:39.849Z"
   },
   {
    "duration": 22,
    "start_time": "2022-03-30T13:57:39.886Z"
   },
   {
    "duration": 5,
    "start_time": "2022-03-30T13:57:43.127Z"
   },
   {
    "duration": 4,
    "start_time": "2022-03-30T13:57:45.744Z"
   },
   {
    "duration": 5,
    "start_time": "2022-03-30T13:57:47.086Z"
   },
   {
    "duration": 6,
    "start_time": "2022-03-30T13:57:49.693Z"
   },
   {
    "duration": 5,
    "start_time": "2022-03-30T13:57:53.228Z"
   },
   {
    "duration": 6,
    "start_time": "2022-03-30T13:58:00.807Z"
   },
   {
    "duration": 7,
    "start_time": "2022-03-30T13:58:01.428Z"
   },
   {
    "duration": 42,
    "start_time": "2022-03-30T14:00:13.096Z"
   },
   {
    "duration": 26,
    "start_time": "2022-03-30T14:01:11.974Z"
   },
   {
    "duration": 23,
    "start_time": "2022-03-30T14:01:15.162Z"
   },
   {
    "duration": 28,
    "start_time": "2022-03-30T14:01:56.950Z"
   },
   {
    "duration": 6,
    "start_time": "2022-03-30T14:02:43.851Z"
   },
   {
    "duration": 8,
    "start_time": "2022-03-30T14:02:55.952Z"
   },
   {
    "duration": 8,
    "start_time": "2022-03-30T14:06:36.457Z"
   },
   {
    "duration": 6,
    "start_time": "2022-03-30T14:06:44.427Z"
   },
   {
    "duration": 12,
    "start_time": "2022-03-30T14:07:33.340Z"
   },
   {
    "duration": 564,
    "start_time": "2022-03-30T14:07:59.900Z"
   },
   {
    "duration": 78,
    "start_time": "2022-03-30T14:08:00.608Z"
   },
   {
    "duration": 34,
    "start_time": "2022-03-30T14:08:01.773Z"
   },
   {
    "duration": 25,
    "start_time": "2022-03-30T14:08:06.768Z"
   },
   {
    "duration": 18,
    "start_time": "2022-03-30T14:08:12.629Z"
   },
   {
    "duration": 5,
    "start_time": "2022-03-30T14:08:22.886Z"
   },
   {
    "duration": 7,
    "start_time": "2022-03-30T14:08:24.577Z"
   },
   {
    "duration": 31,
    "start_time": "2022-03-30T14:08:33.960Z"
   },
   {
    "duration": 19,
    "start_time": "2022-03-30T14:08:49.921Z"
   },
   {
    "duration": 6,
    "start_time": "2022-03-30T14:11:41.303Z"
   },
   {
    "duration": 5,
    "start_time": "2022-03-30T14:12:20.537Z"
   },
   {
    "duration": 7,
    "start_time": "2022-03-30T14:13:19.459Z"
   },
   {
    "duration": 7,
    "start_time": "2022-03-30T14:13:45.148Z"
   },
   {
    "duration": 8,
    "start_time": "2022-03-30T14:25:17.230Z"
   },
   {
    "duration": 201,
    "start_time": "2022-03-30T14:29:58.700Z"
   },
   {
    "duration": 7,
    "start_time": "2022-03-30T14:30:09.784Z"
   },
   {
    "duration": 9,
    "start_time": "2022-03-30T14:30:36.379Z"
   },
   {
    "duration": 7,
    "start_time": "2022-03-30T14:30:52.303Z"
   },
   {
    "duration": 14,
    "start_time": "2022-03-30T14:31:55.863Z"
   },
   {
    "duration": 13,
    "start_time": "2022-03-30T14:35:10.030Z"
   },
   {
    "duration": 6,
    "start_time": "2022-03-30T14:36:17.834Z"
   },
   {
    "duration": 506,
    "start_time": "2022-03-30T14:36:41.822Z"
   },
   {
    "duration": 85,
    "start_time": "2022-03-30T14:36:42.331Z"
   },
   {
    "duration": 33,
    "start_time": "2022-03-30T14:36:42.419Z"
   },
   {
    "duration": 22,
    "start_time": "2022-03-30T14:36:42.454Z"
   },
   {
    "duration": 13,
    "start_time": "2022-03-30T14:36:42.480Z"
   },
   {
    "duration": 8,
    "start_time": "2022-03-30T14:36:42.496Z"
   },
   {
    "duration": 46,
    "start_time": "2022-03-30T14:36:42.506Z"
   },
   {
    "duration": 3390,
    "start_time": "2022-03-30T14:39:17.757Z"
   },
   {
    "duration": 7,
    "start_time": "2022-03-30T14:39:40.636Z"
   },
   {
    "duration": 9,
    "start_time": "2022-03-30T14:40:53.586Z"
   },
   {
    "duration": 10,
    "start_time": "2022-03-30T14:41:01.393Z"
   },
   {
    "duration": 12,
    "start_time": "2022-03-30T14:41:09.929Z"
   },
   {
    "duration": 15,
    "start_time": "2022-03-30T14:41:22.029Z"
   },
   {
    "duration": 18,
    "start_time": "2022-03-30T15:30:38.587Z"
   },
   {
    "duration": 10,
    "start_time": "2022-03-30T15:30:47.003Z"
   },
   {
    "duration": 17,
    "start_time": "2022-03-30T15:31:57.998Z"
   },
   {
    "duration": 1682,
    "start_time": "2022-03-30T15:32:09.897Z"
   },
   {
    "duration": 1773,
    "start_time": "2022-03-30T15:32:25.430Z"
   },
   {
    "duration": 1814,
    "start_time": "2022-03-30T15:32:27.958Z"
   },
   {
    "duration": 17,
    "start_time": "2022-03-30T15:36:01.372Z"
   },
   {
    "duration": 35,
    "start_time": "2022-03-30T15:36:40.619Z"
   },
   {
    "duration": 28,
    "start_time": "2022-03-30T15:37:09.835Z"
   },
   {
    "duration": 23,
    "start_time": "2022-03-30T15:37:43.817Z"
   },
   {
    "duration": 6,
    "start_time": "2022-03-30T16:14:48.756Z"
   },
   {
    "duration": 7,
    "start_time": "2022-03-30T16:19:47.230Z"
   },
   {
    "duration": 6,
    "start_time": "2022-03-30T16:19:54.519Z"
   },
   {
    "duration": 22,
    "start_time": "2022-03-30T16:20:00.525Z"
   },
   {
    "duration": 37,
    "start_time": "2022-03-30T16:22:52.001Z"
   },
   {
    "duration": 32,
    "start_time": "2022-03-30T16:23:13.281Z"
   },
   {
    "duration": 7,
    "start_time": "2022-03-30T16:24:32.309Z"
   },
   {
    "duration": 7,
    "start_time": "2022-03-30T16:31:35.511Z"
   },
   {
    "duration": 16,
    "start_time": "2022-03-30T16:32:22.687Z"
   },
   {
    "duration": 16,
    "start_time": "2022-03-30T16:32:30.050Z"
   },
   {
    "duration": 16,
    "start_time": "2022-03-30T16:35:53.402Z"
   },
   {
    "duration": 4,
    "start_time": "2022-03-30T16:38:14.328Z"
   },
   {
    "duration": 32,
    "start_time": "2022-03-30T16:38:15.091Z"
   },
   {
    "duration": 4,
    "start_time": "2022-03-30T16:40:33.688Z"
   },
   {
    "duration": 31,
    "start_time": "2022-03-30T16:40:36.325Z"
   },
   {
    "duration": 1624,
    "start_time": "2022-03-30T16:41:35.669Z"
   },
   {
    "duration": 9,
    "start_time": "2022-03-30T16:41:54.379Z"
   },
   {
    "duration": 33,
    "start_time": "2022-03-30T16:43:58.843Z"
   },
   {
    "duration": 17,
    "start_time": "2022-03-30T16:47:17.471Z"
   },
   {
    "duration": 16,
    "start_time": "2022-03-30T16:48:08.692Z"
   },
   {
    "duration": 6,
    "start_time": "2022-03-30T16:50:12.679Z"
   },
   {
    "duration": 15,
    "start_time": "2022-03-30T16:50:33.636Z"
   },
   {
    "duration": 7,
    "start_time": "2022-03-30T16:51:00.311Z"
   },
   {
    "duration": 7,
    "start_time": "2022-03-30T16:51:05.242Z"
   },
   {
    "duration": 32,
    "start_time": "2022-03-30T16:51:16.188Z"
   },
   {
    "duration": 76,
    "start_time": "2022-03-30T17:11:29.490Z"
   },
   {
    "duration": 493,
    "start_time": "2022-03-30T17:11:36.771Z"
   },
   {
    "duration": 80,
    "start_time": "2022-03-30T17:11:37.267Z"
   },
   {
    "duration": 48,
    "start_time": "2022-03-30T17:11:37.349Z"
   },
   {
    "duration": 23,
    "start_time": "2022-03-30T17:11:37.399Z"
   },
   {
    "duration": 14,
    "start_time": "2022-03-30T17:11:37.425Z"
   },
   {
    "duration": 36,
    "start_time": "2022-03-30T17:11:37.441Z"
   },
   {
    "duration": 35,
    "start_time": "2022-03-30T17:11:37.480Z"
   },
   {
    "duration": 6,
    "start_time": "2022-03-30T17:11:37.517Z"
   },
   {
    "duration": 54,
    "start_time": "2022-03-30T17:11:37.525Z"
   },
   {
    "duration": 6,
    "start_time": "2022-03-30T17:11:37.581Z"
   },
   {
    "duration": 13,
    "start_time": "2022-03-30T17:11:37.589Z"
   },
   {
    "duration": 7,
    "start_time": "2022-03-30T17:11:37.604Z"
   },
   {
    "duration": 74,
    "start_time": "2022-03-30T17:11:37.613Z"
   },
   {
    "duration": 8,
    "start_time": "2022-03-30T17:11:47.933Z"
   },
   {
    "duration": 8,
    "start_time": "2022-03-30T17:12:34.564Z"
   },
   {
    "duration": 101,
    "start_time": "2022-03-30T17:15:20.140Z"
   },
   {
    "duration": 10,
    "start_time": "2022-03-30T17:15:31.019Z"
   },
   {
    "duration": 34,
    "start_time": "2022-03-30T17:15:42.194Z"
   },
   {
    "duration": 39,
    "start_time": "2022-03-30T17:15:52.445Z"
   },
   {
    "duration": 35,
    "start_time": "2022-03-30T17:15:58.338Z"
   },
   {
    "duration": 33,
    "start_time": "2022-03-30T17:16:04.027Z"
   },
   {
    "duration": 20,
    "start_time": "2022-03-30T17:24:20.746Z"
   },
   {
    "duration": 7,
    "start_time": "2022-03-30T17:25:26.451Z"
   },
   {
    "duration": 21,
    "start_time": "2022-03-30T17:25:40.708Z"
   },
   {
    "duration": 8,
    "start_time": "2022-03-30T17:26:05.552Z"
   },
   {
    "duration": 20,
    "start_time": "2022-03-30T17:33:27.152Z"
   },
   {
    "duration": 25,
    "start_time": "2022-03-30T17:33:40.330Z"
   },
   {
    "duration": 7,
    "start_time": "2022-03-30T17:34:15.517Z"
   },
   {
    "duration": 23,
    "start_time": "2022-03-30T17:34:16.249Z"
   },
   {
    "duration": 5,
    "start_time": "2022-03-30T17:35:05.776Z"
   },
   {
    "duration": 6,
    "start_time": "2022-03-30T17:35:06.385Z"
   },
   {
    "duration": 22,
    "start_time": "2022-03-30T17:35:07.162Z"
   },
   {
    "duration": 30,
    "start_time": "2022-03-30T17:35:39.391Z"
   },
   {
    "duration": 4,
    "start_time": "2022-03-30T17:35:56.563Z"
   },
   {
    "duration": 116,
    "start_time": "2022-03-30T17:35:56.576Z"
   },
   {
    "duration": 33,
    "start_time": "2022-03-30T17:35:56.696Z"
   },
   {
    "duration": 45,
    "start_time": "2022-03-30T17:35:56.731Z"
   },
   {
    "duration": 14,
    "start_time": "2022-03-30T17:35:56.780Z"
   },
   {
    "duration": 8,
    "start_time": "2022-03-30T17:35:56.797Z"
   },
   {
    "duration": 71,
    "start_time": "2022-03-30T17:35:56.807Z"
   },
   {
    "duration": 7,
    "start_time": "2022-03-30T17:35:56.881Z"
   },
   {
    "duration": 17,
    "start_time": "2022-03-30T17:35:56.890Z"
   },
   {
    "duration": 6,
    "start_time": "2022-03-30T17:35:56.909Z"
   },
   {
    "duration": 10,
    "start_time": "2022-03-30T17:35:56.921Z"
   },
   {
    "duration": 45,
    "start_time": "2022-03-30T17:35:56.933Z"
   },
   {
    "duration": 10,
    "start_time": "2022-03-30T17:35:56.981Z"
   },
   {
    "duration": 9,
    "start_time": "2022-03-30T17:35:56.993Z"
   },
   {
    "duration": 75,
    "start_time": "2022-03-30T17:35:57.005Z"
   },
   {
    "duration": 32,
    "start_time": "2022-03-30T17:35:57.083Z"
   },
   {
    "duration": 6,
    "start_time": "2022-03-30T17:35:57.117Z"
   },
   {
    "duration": 15,
    "start_time": "2022-03-30T17:35:57.126Z"
   },
   {
    "duration": 7,
    "start_time": "2022-03-30T17:35:57.174Z"
   },
   {
    "duration": 8,
    "start_time": "2022-03-30T17:35:57.183Z"
   },
   {
    "duration": 14,
    "start_time": "2022-03-30T17:35:57.194Z"
   },
   {
    "duration": 21,
    "start_time": "2022-03-30T17:35:57.210Z"
   },
   {
    "duration": 5,
    "start_time": "2022-03-30T17:35:57.274Z"
   },
   {
    "duration": 9,
    "start_time": "2022-03-30T17:35:57.282Z"
   },
   {
    "duration": 24,
    "start_time": "2022-03-30T17:35:57.293Z"
   },
   {
    "duration": 6,
    "start_time": "2022-03-30T17:36:14.277Z"
   },
   {
    "duration": 30,
    "start_time": "2022-03-30T17:36:46.846Z"
   },
   {
    "duration": 38,
    "start_time": "2022-03-30T17:37:07.296Z"
   },
   {
    "duration": 9,
    "start_time": "2022-03-30T17:39:58.413Z"
   },
   {
    "duration": 19,
    "start_time": "2022-03-30T17:41:27.416Z"
   },
   {
    "duration": 14,
    "start_time": "2022-03-30T17:41:46.925Z"
   },
   {
    "duration": 9,
    "start_time": "2022-03-30T17:42:00.125Z"
   },
   {
    "duration": 17,
    "start_time": "2022-03-30T17:42:01.600Z"
   },
   {
    "duration": 8,
    "start_time": "2022-03-30T17:42:02.242Z"
   },
   {
    "duration": 34,
    "start_time": "2022-03-30T17:43:43.819Z"
   },
   {
    "duration": 29,
    "start_time": "2022-03-30T17:44:34.097Z"
   },
   {
    "duration": 27,
    "start_time": "2022-03-30T17:44:45.923Z"
   },
   {
    "duration": 21,
    "start_time": "2022-03-30T17:45:41.439Z"
   },
   {
    "duration": 7,
    "start_time": "2022-03-30T17:46:42.035Z"
   },
   {
    "duration": 65,
    "start_time": "2022-03-30T18:51:22.971Z"
   },
   {
    "duration": 475,
    "start_time": "2022-03-30T18:51:42.811Z"
   },
   {
    "duration": 79,
    "start_time": "2022-03-30T18:51:43.289Z"
   },
   {
    "duration": 35,
    "start_time": "2022-03-30T18:51:43.370Z"
   },
   {
    "duration": 22,
    "start_time": "2022-03-30T18:51:43.408Z"
   },
   {
    "duration": 44,
    "start_time": "2022-03-30T18:51:43.433Z"
   },
   {
    "duration": 7,
    "start_time": "2022-03-30T18:51:43.480Z"
   },
   {
    "duration": 30,
    "start_time": "2022-03-30T18:51:43.489Z"
   },
   {
    "duration": 9,
    "start_time": "2022-03-30T18:51:43.522Z"
   },
   {
    "duration": 15,
    "start_time": "2022-03-30T18:51:43.568Z"
   },
   {
    "duration": 6,
    "start_time": "2022-03-30T18:51:43.587Z"
   },
   {
    "duration": 8,
    "start_time": "2022-03-30T18:51:43.595Z"
   },
   {
    "duration": 7,
    "start_time": "2022-03-30T18:51:43.605Z"
   },
   {
    "duration": 59,
    "start_time": "2022-03-30T18:51:43.614Z"
   },
   {
    "duration": 8,
    "start_time": "2022-03-30T18:51:43.675Z"
   },
   {
    "duration": 36,
    "start_time": "2022-03-30T18:51:43.685Z"
   },
   {
    "duration": 81,
    "start_time": "2022-03-30T18:51:43.724Z"
   },
   {
    "duration": 5,
    "start_time": "2022-03-30T18:51:43.808Z"
   },
   {
    "duration": 53,
    "start_time": "2022-03-30T18:51:43.816Z"
   },
   {
    "duration": 14,
    "start_time": "2022-03-30T18:51:43.871Z"
   },
   {
    "duration": 7,
    "start_time": "2022-03-30T18:51:43.887Z"
   },
   {
    "duration": 8,
    "start_time": "2022-03-30T18:51:43.896Z"
   },
   {
    "duration": 64,
    "start_time": "2022-03-30T18:51:43.906Z"
   },
   {
    "duration": 22,
    "start_time": "2022-03-30T18:51:43.973Z"
   },
   {
    "duration": 4,
    "start_time": "2022-03-30T18:51:43.997Z"
   },
   {
    "duration": 5,
    "start_time": "2022-03-30T18:51:44.004Z"
   },
   {
    "duration": 57,
    "start_time": "2022-03-30T18:51:44.011Z"
   },
   {
    "duration": 30,
    "start_time": "2022-03-30T18:51:44.070Z"
   },
   {
    "duration": 10,
    "start_time": "2022-03-30T18:51:44.105Z"
   },
   {
    "duration": 15,
    "start_time": "2022-03-30T18:51:44.118Z"
   },
   {
    "duration": 39,
    "start_time": "2022-03-30T18:51:44.135Z"
   },
   {
    "duration": 26,
    "start_time": "2022-03-30T18:51:44.176Z"
   },
   {
    "duration": 68,
    "start_time": "2022-03-30T18:51:44.205Z"
   },
   {
    "duration": 34,
    "start_time": "2022-03-30T18:51:44.276Z"
   },
   {
    "duration": 10,
    "start_time": "2022-03-30T18:51:44.313Z"
   },
   {
    "duration": 41,
    "start_time": "2022-03-30T18:51:44.326Z"
   },
   {
    "duration": 23,
    "start_time": "2022-03-30T18:51:44.370Z"
   },
   {
    "duration": 7,
    "start_time": "2022-03-30T18:53:40.524Z"
   },
   {
    "duration": 16,
    "start_time": "2022-03-30T18:53:41.264Z"
   },
   {
    "duration": 11,
    "start_time": "2022-03-30T18:53:41.877Z"
   },
   {
    "duration": 17,
    "start_time": "2022-03-30T18:57:02.490Z"
   },
   {
    "duration": 11,
    "start_time": "2022-03-30T18:57:35.415Z"
   },
   {
    "duration": 11,
    "start_time": "2022-03-30T18:57:59.925Z"
   },
   {
    "duration": 6,
    "start_time": "2022-03-30T19:22:41.314Z"
   },
   {
    "duration": 1749,
    "start_time": "2022-03-30T19:26:43.947Z"
   },
   {
    "duration": 6,
    "start_time": "2022-03-30T19:27:03.538Z"
   },
   {
    "duration": 13,
    "start_time": "2022-03-30T19:27:18.085Z"
   },
   {
    "duration": 6,
    "start_time": "2022-03-30T19:28:50.533Z"
   },
   {
    "duration": 13,
    "start_time": "2022-03-30T19:29:04.570Z"
   },
   {
    "duration": 8,
    "start_time": "2022-03-30T19:31:11.693Z"
   },
   {
    "duration": 11,
    "start_time": "2022-03-30T19:32:28.239Z"
   },
   {
    "duration": 758,
    "start_time": "2022-03-30T19:57:43.293Z"
   },
   {
    "duration": 9,
    "start_time": "2022-03-30T19:59:36.454Z"
   },
   {
    "duration": 888,
    "start_time": "2022-03-30T19:59:46.113Z"
   },
   {
    "duration": 92,
    "start_time": "2022-03-30T20:01:28.627Z"
   },
   {
    "duration": 8,
    "start_time": "2022-03-30T20:01:56.140Z"
   },
   {
    "duration": 5,
    "start_time": "2022-03-30T20:01:59.025Z"
   },
   {
    "duration": 4,
    "start_time": "2022-03-30T20:02:01.407Z"
   },
   {
    "duration": 5,
    "start_time": "2022-03-30T20:03:30.385Z"
   },
   {
    "duration": 6,
    "start_time": "2022-03-30T20:03:33.598Z"
   },
   {
    "duration": 5,
    "start_time": "2022-03-30T20:03:34.233Z"
   },
   {
    "duration": 482,
    "start_time": "2022-03-30T20:03:58.325Z"
   },
   {
    "duration": 77,
    "start_time": "2022-03-30T20:03:58.810Z"
   },
   {
    "duration": 35,
    "start_time": "2022-03-30T20:03:58.889Z"
   },
   {
    "duration": 41,
    "start_time": "2022-03-30T20:03:58.927Z"
   },
   {
    "duration": 15,
    "start_time": "2022-03-30T20:03:58.976Z"
   },
   {
    "duration": 13,
    "start_time": "2022-03-30T20:03:58.993Z"
   },
   {
    "duration": 33,
    "start_time": "2022-03-30T20:03:59.009Z"
   },
   {
    "duration": 33,
    "start_time": "2022-03-30T20:03:59.045Z"
   },
   {
    "duration": 15,
    "start_time": "2022-03-30T20:03:59.081Z"
   },
   {
    "duration": 5,
    "start_time": "2022-03-30T20:03:59.101Z"
   },
   {
    "duration": 14,
    "start_time": "2022-03-30T20:03:59.109Z"
   },
   {
    "duration": 10,
    "start_time": "2022-03-30T20:03:59.125Z"
   },
   {
    "duration": 41,
    "start_time": "2022-03-30T20:03:59.137Z"
   },
   {
    "duration": 7,
    "start_time": "2022-03-30T20:03:59.183Z"
   },
   {
    "duration": 62,
    "start_time": "2022-03-30T20:03:59.192Z"
   },
   {
    "duration": 35,
    "start_time": "2022-03-30T20:03:59.256Z"
   },
   {
    "duration": 5,
    "start_time": "2022-03-30T20:03:59.293Z"
   },
   {
    "duration": 40,
    "start_time": "2022-03-30T20:03:59.300Z"
   },
   {
    "duration": 35,
    "start_time": "2022-03-30T20:03:59.342Z"
   },
   {
    "duration": 6,
    "start_time": "2022-03-30T20:03:59.384Z"
   },
   {
    "duration": 10,
    "start_time": "2022-03-30T20:03:59.392Z"
   },
   {
    "duration": 14,
    "start_time": "2022-03-30T20:03:59.404Z"
   },
   {
    "duration": 56,
    "start_time": "2022-03-30T20:03:59.420Z"
   },
   {
    "duration": 5,
    "start_time": "2022-03-30T20:03:59.479Z"
   },
   {
    "duration": 6,
    "start_time": "2022-03-30T20:03:59.487Z"
   },
   {
    "duration": 23,
    "start_time": "2022-03-30T20:03:59.495Z"
   },
   {
    "duration": 59,
    "start_time": "2022-03-30T20:03:59.520Z"
   },
   {
    "duration": 6,
    "start_time": "2022-03-30T20:03:59.587Z"
   },
   {
    "duration": 14,
    "start_time": "2022-03-30T20:03:59.596Z"
   },
   {
    "duration": 9,
    "start_time": "2022-03-30T20:03:59.613Z"
   },
   {
    "duration": 7,
    "start_time": "2022-03-30T20:03:59.624Z"
   },
   {
    "duration": 24,
    "start_time": "2022-03-30T20:03:59.671Z"
   },
   {
    "duration": 12,
    "start_time": "2022-03-30T20:03:59.697Z"
   },
   {
    "duration": 26,
    "start_time": "2022-03-30T20:03:59.712Z"
   },
   {
    "duration": 57,
    "start_time": "2022-03-30T20:03:59.740Z"
   },
   {
    "duration": 25,
    "start_time": "2022-03-30T20:03:59.799Z"
   },
   {
    "duration": 5,
    "start_time": "2022-03-30T20:03:59.826Z"
   },
   {
    "duration": 52,
    "start_time": "2022-03-30T20:03:59.833Z"
   },
   {
    "duration": 5,
    "start_time": "2022-03-30T20:03:59.887Z"
   },
   {
    "duration": 7,
    "start_time": "2022-03-30T20:03:59.895Z"
   },
   {
    "duration": 4,
    "start_time": "2022-03-30T20:06:04.390Z"
   },
   {
    "duration": 4,
    "start_time": "2022-03-30T20:06:07.198Z"
   },
   {
    "duration": 5,
    "start_time": "2022-03-30T20:06:13.178Z"
   },
   {
    "duration": 5,
    "start_time": "2022-03-30T20:06:17.791Z"
   },
   {
    "duration": 4,
    "start_time": "2022-03-30T20:06:18.348Z"
   },
   {
    "duration": 4,
    "start_time": "2022-03-30T20:10:02.412Z"
   },
   {
    "duration": 6,
    "start_time": "2022-03-30T20:10:05.834Z"
   },
   {
    "duration": 7,
    "start_time": "2022-03-30T20:10:06.489Z"
   },
   {
    "duration": 14,
    "start_time": "2022-03-30T20:10:41.129Z"
   },
   {
    "duration": 11,
    "start_time": "2022-03-30T20:11:33.198Z"
   },
   {
    "duration": 12,
    "start_time": "2022-03-30T20:11:37.515Z"
   },
   {
    "duration": 111,
    "start_time": "2022-03-30T20:12:07.322Z"
   },
   {
    "duration": 5,
    "start_time": "2022-03-30T20:12:20.425Z"
   },
   {
    "duration": 5,
    "start_time": "2022-03-30T20:12:21.037Z"
   },
   {
    "duration": 13,
    "start_time": "2022-03-30T20:12:21.606Z"
   },
   {
    "duration": 9,
    "start_time": "2022-03-30T20:19:28.324Z"
   },
   {
    "duration": 17,
    "start_time": "2022-03-30T20:20:03.191Z"
   },
   {
    "duration": 10,
    "start_time": "2022-03-30T20:20:41.949Z"
   },
   {
    "duration": 1574,
    "start_time": "2022-03-30T20:20:57.247Z"
   },
   {
    "duration": 1543,
    "start_time": "2022-03-30T20:21:01.821Z"
   },
   {
    "duration": 0,
    "start_time": "2022-03-30T20:21:03.366Z"
   },
   {
    "duration": 565,
    "start_time": "2022-03-30T20:21:47.224Z"
   },
   {
    "duration": 76,
    "start_time": "2022-03-30T20:21:47.792Z"
   },
   {
    "duration": 38,
    "start_time": "2022-03-30T20:21:47.870Z"
   },
   {
    "duration": 20,
    "start_time": "2022-03-30T20:21:47.911Z"
   },
   {
    "duration": 41,
    "start_time": "2022-03-30T20:21:47.934Z"
   },
   {
    "duration": 6,
    "start_time": "2022-03-30T20:21:47.978Z"
   },
   {
    "duration": 27,
    "start_time": "2022-03-30T20:21:47.987Z"
   },
   {
    "duration": 6,
    "start_time": "2022-03-30T20:21:48.016Z"
   },
   {
    "duration": 50,
    "start_time": "2022-03-30T20:21:48.024Z"
   },
   {
    "duration": 5,
    "start_time": "2022-03-30T20:21:48.079Z"
   },
   {
    "duration": 8,
    "start_time": "2022-03-30T20:21:48.087Z"
   },
   {
    "duration": 8,
    "start_time": "2022-03-30T20:21:48.097Z"
   },
   {
    "duration": 9,
    "start_time": "2022-03-30T20:21:48.107Z"
   },
   {
    "duration": 8,
    "start_time": "2022-03-30T20:21:48.118Z"
   },
   {
    "duration": 32,
    "start_time": "2022-03-30T20:21:48.169Z"
   },
   {
    "duration": 34,
    "start_time": "2022-03-30T20:21:48.203Z"
   },
   {
    "duration": 31,
    "start_time": "2022-03-30T20:21:48.239Z"
   },
   {
    "duration": 47,
    "start_time": "2022-03-30T20:21:48.272Z"
   },
   {
    "duration": 17,
    "start_time": "2022-03-30T20:21:48.322Z"
   },
   {
    "duration": 6,
    "start_time": "2022-03-30T20:21:48.341Z"
   },
   {
    "duration": 25,
    "start_time": "2022-03-30T20:21:48.349Z"
   },
   {
    "duration": 21,
    "start_time": "2022-03-30T20:21:48.377Z"
   },
   {
    "duration": 23,
    "start_time": "2022-03-30T20:21:48.400Z"
   },
   {
    "duration": 5,
    "start_time": "2022-03-30T20:21:48.425Z"
   },
   {
    "duration": 38,
    "start_time": "2022-03-30T20:21:48.432Z"
   },
   {
    "duration": 22,
    "start_time": "2022-03-30T20:21:48.473Z"
   },
   {
    "duration": 31,
    "start_time": "2022-03-30T20:21:48.497Z"
   },
   {
    "duration": 42,
    "start_time": "2022-03-30T20:21:48.533Z"
   },
   {
    "duration": 15,
    "start_time": "2022-03-30T20:21:48.577Z"
   },
   {
    "duration": 8,
    "start_time": "2022-03-30T20:21:48.594Z"
   },
   {
    "duration": 8,
    "start_time": "2022-03-30T20:21:48.605Z"
   },
   {
    "duration": 55,
    "start_time": "2022-03-30T20:21:48.615Z"
   },
   {
    "duration": 12,
    "start_time": "2022-03-30T20:21:48.673Z"
   },
   {
    "duration": 29,
    "start_time": "2022-03-30T20:21:48.687Z"
   },
   {
    "duration": 59,
    "start_time": "2022-03-30T20:21:48.719Z"
   },
   {
    "duration": 25,
    "start_time": "2022-03-30T20:21:48.781Z"
   },
   {
    "duration": 5,
    "start_time": "2022-03-30T20:21:48.809Z"
   },
   {
    "duration": 16,
    "start_time": "2022-03-30T20:21:48.816Z"
   },
   {
    "duration": 35,
    "start_time": "2022-03-30T20:21:48.835Z"
   },
   {
    "duration": 4,
    "start_time": "2022-03-30T20:21:48.873Z"
   },
   {
    "duration": 5,
    "start_time": "2022-03-30T20:21:48.880Z"
   },
   {
    "duration": 12,
    "start_time": "2022-03-30T20:21:48.888Z"
   },
   {
    "duration": 10,
    "start_time": "2022-03-30T20:21:48.902Z"
   },
   {
    "duration": 55,
    "start_time": "2022-03-30T20:21:48.914Z"
   },
   {
    "duration": 9,
    "start_time": "2022-03-30T20:21:48.972Z"
   },
   {
    "duration": 20,
    "start_time": "2022-03-30T20:21:48.983Z"
   },
   {
    "duration": 14,
    "start_time": "2022-03-30T20:38:30.510Z"
   },
   {
    "duration": 563,
    "start_time": "2022-03-30T20:38:49.525Z"
   },
   {
    "duration": 104,
    "start_time": "2022-03-30T20:38:50.090Z"
   },
   {
    "duration": 36,
    "start_time": "2022-03-30T20:38:50.197Z"
   },
   {
    "duration": 44,
    "start_time": "2022-03-30T20:38:50.236Z"
   },
   {
    "duration": 13,
    "start_time": "2022-03-30T20:38:50.282Z"
   },
   {
    "duration": 6,
    "start_time": "2022-03-30T20:38:50.298Z"
   },
   {
    "duration": 67,
    "start_time": "2022-03-30T20:38:50.306Z"
   },
   {
    "duration": 6,
    "start_time": "2022-03-30T20:38:50.376Z"
   },
   {
    "duration": 14,
    "start_time": "2022-03-30T20:38:50.384Z"
   },
   {
    "duration": 6,
    "start_time": "2022-03-30T20:38:50.402Z"
   },
   {
    "duration": 9,
    "start_time": "2022-03-30T20:38:50.410Z"
   },
   {
    "duration": 48,
    "start_time": "2022-03-30T20:38:50.422Z"
   },
   {
    "duration": 9,
    "start_time": "2022-03-30T20:38:50.472Z"
   },
   {
    "duration": 9,
    "start_time": "2022-03-30T20:38:50.483Z"
   },
   {
    "duration": 34,
    "start_time": "2022-03-30T20:38:50.494Z"
   },
   {
    "duration": 35,
    "start_time": "2022-03-30T20:38:50.567Z"
   },
   {
    "duration": 8,
    "start_time": "2022-03-30T20:38:50.604Z"
   },
   {
    "duration": 64,
    "start_time": "2022-03-30T20:38:50.614Z"
   },
   {
    "duration": 21,
    "start_time": "2022-03-30T20:38:50.681Z"
   },
   {
    "duration": 9,
    "start_time": "2022-03-30T20:38:50.705Z"
   },
   {
    "duration": 10,
    "start_time": "2022-03-30T20:38:50.716Z"
   },
   {
    "duration": 43,
    "start_time": "2022-03-30T20:38:50.728Z"
   },
   {
    "duration": 26,
    "start_time": "2022-03-30T20:38:50.773Z"
   },
   {
    "duration": 6,
    "start_time": "2022-03-30T20:38:50.802Z"
   },
   {
    "duration": 12,
    "start_time": "2022-03-30T20:38:50.811Z"
   },
   {
    "duration": 54,
    "start_time": "2022-03-30T20:38:50.826Z"
   },
   {
    "duration": 35,
    "start_time": "2022-03-30T20:38:50.883Z"
   },
   {
    "duration": 10,
    "start_time": "2022-03-30T20:38:50.923Z"
   },
   {
    "duration": 44,
    "start_time": "2022-03-30T20:38:50.935Z"
   },
   {
    "duration": 11,
    "start_time": "2022-03-30T20:38:50.982Z"
   },
   {
    "duration": 16,
    "start_time": "2022-03-30T20:38:50.996Z"
   },
   {
    "duration": 53,
    "start_time": "2022-03-30T20:38:51.015Z"
   },
   {
    "duration": 16,
    "start_time": "2022-03-30T20:38:51.073Z"
   },
   {
    "duration": 44,
    "start_time": "2022-03-30T20:38:51.092Z"
   },
   {
    "duration": 54,
    "start_time": "2022-03-30T20:38:51.139Z"
   },
   {
    "duration": 32,
    "start_time": "2022-03-30T20:38:51.195Z"
   },
   {
    "duration": 7,
    "start_time": "2022-03-30T20:38:51.230Z"
   },
   {
    "duration": 22,
    "start_time": "2022-03-30T20:38:51.267Z"
   },
   {
    "duration": 7,
    "start_time": "2022-03-30T20:38:51.292Z"
   },
   {
    "duration": 6,
    "start_time": "2022-03-30T20:38:51.301Z"
   },
   {
    "duration": 7,
    "start_time": "2022-03-30T20:38:51.309Z"
   },
   {
    "duration": 20,
    "start_time": "2022-03-30T20:38:51.318Z"
   },
   {
    "duration": 38,
    "start_time": "2022-03-30T20:38:51.341Z"
   },
   {
    "duration": 9,
    "start_time": "2022-03-30T20:38:51.382Z"
   },
   {
    "duration": 12,
    "start_time": "2022-03-30T20:38:51.393Z"
   },
   {
    "duration": 22,
    "start_time": "2022-03-30T20:38:51.408Z"
   },
   {
    "duration": 8,
    "start_time": "2022-03-30T20:38:51.468Z"
   },
   {
    "duration": 21,
    "start_time": "2022-03-30T20:38:51.479Z"
   },
   {
    "duration": 21,
    "start_time": "2022-03-30T20:38:51.503Z"
   },
   {
    "duration": 8,
    "start_time": "2022-03-30T20:45:02.744Z"
   },
   {
    "duration": 35,
    "start_time": "2022-03-30T20:47:27.177Z"
   },
   {
    "duration": 22,
    "start_time": "2022-03-30T20:49:55.029Z"
   },
   {
    "duration": 33,
    "start_time": "2022-03-30T20:50:16.742Z"
   },
   {
    "duration": 10,
    "start_time": "2022-03-30T20:51:27.372Z"
   },
   {
    "duration": 4,
    "start_time": "2022-03-30T21:07:31.292Z"
   },
   {
    "duration": 14,
    "start_time": "2022-03-30T21:07:31.814Z"
   },
   {
    "duration": 16,
    "start_time": "2022-03-30T21:07:32.275Z"
   },
   {
    "duration": 116,
    "start_time": "2022-03-30T21:19:12.611Z"
   },
   {
    "duration": 567,
    "start_time": "2022-03-30T21:20:06.442Z"
   },
   {
    "duration": 88,
    "start_time": "2022-03-30T21:20:07.012Z"
   },
   {
    "duration": 34,
    "start_time": "2022-03-30T21:20:07.103Z"
   },
   {
    "duration": 43,
    "start_time": "2022-03-30T21:20:07.139Z"
   },
   {
    "duration": 13,
    "start_time": "2022-03-30T21:20:07.184Z"
   },
   {
    "duration": 6,
    "start_time": "2022-03-30T21:20:07.200Z"
   },
   {
    "duration": 25,
    "start_time": "2022-03-30T21:20:07.208Z"
   },
   {
    "duration": 8,
    "start_time": "2022-03-30T21:20:07.269Z"
   },
   {
    "duration": 19,
    "start_time": "2022-03-30T21:20:07.280Z"
   },
   {
    "duration": 6,
    "start_time": "2022-03-30T21:20:07.303Z"
   },
   {
    "duration": 7,
    "start_time": "2022-03-30T21:20:07.311Z"
   },
   {
    "duration": 5,
    "start_time": "2022-03-30T21:20:07.320Z"
   },
   {
    "duration": 11,
    "start_time": "2022-03-30T21:20:07.367Z"
   },
   {
    "duration": 16,
    "start_time": "2022-03-30T21:20:07.382Z"
   },
   {
    "duration": 34,
    "start_time": "2022-03-30T21:20:07.401Z"
   },
   {
    "duration": 62,
    "start_time": "2022-03-30T21:20:07.437Z"
   },
   {
    "duration": 5,
    "start_time": "2022-03-30T21:20:07.501Z"
   },
   {
    "duration": 60,
    "start_time": "2022-03-30T21:20:07.509Z"
   },
   {
    "duration": 26,
    "start_time": "2022-03-30T21:20:07.572Z"
   },
   {
    "duration": 6,
    "start_time": "2022-03-30T21:20:07.600Z"
   },
   {
    "duration": 7,
    "start_time": "2022-03-30T21:20:07.608Z"
   },
   {
    "duration": 13,
    "start_time": "2022-03-30T21:20:07.617Z"
   },
   {
    "duration": 52,
    "start_time": "2022-03-30T21:20:07.632Z"
   },
   {
    "duration": 5,
    "start_time": "2022-03-30T21:20:07.687Z"
   },
   {
    "duration": 6,
    "start_time": "2022-03-30T21:20:07.694Z"
   },
   {
    "duration": 23,
    "start_time": "2022-03-30T21:20:07.702Z"
   },
   {
    "duration": 68,
    "start_time": "2022-03-30T21:20:07.727Z"
   },
   {
    "duration": 8,
    "start_time": "2022-03-30T21:20:07.801Z"
   },
   {
    "duration": 27,
    "start_time": "2022-03-30T21:20:07.812Z"
   },
   {
    "duration": 32,
    "start_time": "2022-03-30T21:20:07.841Z"
   },
   {
    "duration": 20,
    "start_time": "2022-03-30T21:20:07.876Z"
   },
   {
    "duration": 17,
    "start_time": "2022-03-30T21:20:07.898Z"
   },
   {
    "duration": 14,
    "start_time": "2022-03-30T21:20:07.917Z"
   },
   {
    "duration": 65,
    "start_time": "2022-03-30T21:20:07.933Z"
   },
   {
    "duration": 30,
    "start_time": "2022-03-30T21:20:08.000Z"
   },
   {
    "duration": 53,
    "start_time": "2022-03-30T21:20:08.032Z"
   },
   {
    "duration": 5,
    "start_time": "2022-03-30T21:20:08.088Z"
   },
   {
    "duration": 25,
    "start_time": "2022-03-30T21:20:08.096Z"
   },
   {
    "duration": 6,
    "start_time": "2022-03-30T21:20:08.123Z"
   },
   {
    "duration": 7,
    "start_time": "2022-03-30T21:20:08.131Z"
   },
   {
    "duration": 28,
    "start_time": "2022-03-30T21:20:08.140Z"
   },
   {
    "duration": 27,
    "start_time": "2022-03-30T21:20:08.171Z"
   },
   {
    "duration": 15,
    "start_time": "2022-03-30T21:20:08.201Z"
   },
   {
    "duration": 9,
    "start_time": "2022-03-30T21:20:08.218Z"
   },
   {
    "duration": 40,
    "start_time": "2022-03-30T21:20:08.229Z"
   },
   {
    "duration": 19,
    "start_time": "2022-03-30T21:20:08.272Z"
   },
   {
    "duration": 5,
    "start_time": "2022-03-30T21:20:08.293Z"
   },
   {
    "duration": 16,
    "start_time": "2022-03-30T21:20:08.301Z"
   },
   {
    "duration": 57,
    "start_time": "2022-03-30T21:20:08.320Z"
   },
   {
    "duration": 15,
    "start_time": "2022-03-30T21:20:08.381Z"
   },
   {
    "duration": 27,
    "start_time": "2022-03-30T21:20:08.399Z"
   },
   {
    "duration": 41,
    "start_time": "2022-03-30T21:20:08.428Z"
   },
   {
    "duration": 7,
    "start_time": "2022-03-30T21:20:08.473Z"
   },
   {
    "duration": 17,
    "start_time": "2022-03-30T21:20:08.483Z"
   },
   {
    "duration": 18,
    "start_time": "2022-03-30T21:20:08.503Z"
   },
   {
    "duration": 143,
    "start_time": "2022-03-30T21:20:08.524Z"
   },
   {
    "duration": 8,
    "start_time": "2022-03-30T21:21:24.592Z"
   },
   {
    "duration": 8,
    "start_time": "2022-03-30T21:22:19.227Z"
   },
   {
    "duration": 8,
    "start_time": "2022-03-30T21:25:21.893Z"
   },
   {
    "duration": 6,
    "start_time": "2022-03-30T21:25:23.190Z"
   },
   {
    "duration": 5,
    "start_time": "2022-03-30T21:25:23.893Z"
   },
   {
    "duration": 9,
    "start_time": "2022-03-30T21:25:24.548Z"
   },
   {
    "duration": 10,
    "start_time": "2022-03-30T21:28:22.255Z"
   },
   {
    "duration": 17,
    "start_time": "2022-03-30T21:30:23.879Z"
   },
   {
    "duration": 5,
    "start_time": "2022-03-30T21:39:31.117Z"
   },
   {
    "duration": 1628,
    "start_time": "2022-03-30T21:39:32.763Z"
   },
   {
    "duration": 0,
    "start_time": "2022-03-30T21:39:34.393Z"
   },
   {
    "duration": 516,
    "start_time": "2022-03-30T21:40:02.514Z"
   },
   {
    "duration": 81,
    "start_time": "2022-03-30T21:40:03.032Z"
   },
   {
    "duration": 34,
    "start_time": "2022-03-30T21:40:03.115Z"
   },
   {
    "duration": 33,
    "start_time": "2022-03-30T21:40:03.152Z"
   },
   {
    "duration": 30,
    "start_time": "2022-03-30T21:40:03.188Z"
   },
   {
    "duration": 11,
    "start_time": "2022-03-30T21:40:03.221Z"
   },
   {
    "duration": 35,
    "start_time": "2022-03-30T21:40:03.235Z"
   },
   {
    "duration": 6,
    "start_time": "2022-03-30T21:40:03.273Z"
   },
   {
    "duration": 26,
    "start_time": "2022-03-30T21:40:03.281Z"
   },
   {
    "duration": 26,
    "start_time": "2022-03-30T21:40:03.311Z"
   },
   {
    "duration": 13,
    "start_time": "2022-03-30T21:40:03.339Z"
   },
   {
    "duration": 13,
    "start_time": "2022-03-30T21:40:03.354Z"
   },
   {
    "duration": 16,
    "start_time": "2022-03-30T21:40:03.369Z"
   },
   {
    "duration": 15,
    "start_time": "2022-03-30T21:40:03.387Z"
   },
   {
    "duration": 41,
    "start_time": "2022-03-30T21:40:03.404Z"
   },
   {
    "duration": 43,
    "start_time": "2022-03-30T21:40:03.447Z"
   },
   {
    "duration": 6,
    "start_time": "2022-03-30T21:40:03.492Z"
   },
   {
    "duration": 53,
    "start_time": "2022-03-30T21:40:03.500Z"
   },
   {
    "duration": 18,
    "start_time": "2022-03-30T21:40:03.555Z"
   },
   {
    "duration": 17,
    "start_time": "2022-03-30T21:40:03.575Z"
   },
   {
    "duration": 16,
    "start_time": "2022-03-30T21:40:03.595Z"
   },
   {
    "duration": 22,
    "start_time": "2022-03-30T21:40:03.613Z"
   },
   {
    "duration": 13,
    "start_time": "2022-03-30T21:40:03.637Z"
   },
   {
    "duration": 15,
    "start_time": "2022-03-30T21:40:03.652Z"
   },
   {
    "duration": 20,
    "start_time": "2022-03-30T21:40:03.669Z"
   },
   {
    "duration": 22,
    "start_time": "2022-03-30T21:40:03.691Z"
   },
   {
    "duration": 8,
    "start_time": "2022-03-30T21:40:03.715Z"
   },
   {
    "duration": 25,
    "start_time": "2022-03-30T21:40:03.728Z"
   },
   {
    "duration": 29,
    "start_time": "2022-03-30T21:40:03.755Z"
   },
   {
    "duration": 21,
    "start_time": "2022-03-30T21:40:03.786Z"
   },
   {
    "duration": 55,
    "start_time": "2022-03-30T21:40:03.809Z"
   },
   {
    "duration": 30,
    "start_time": "2022-03-30T21:40:03.867Z"
   },
   {
    "duration": 9,
    "start_time": "2022-03-30T21:40:03.899Z"
   },
   {
    "duration": 24,
    "start_time": "2022-03-30T21:40:03.910Z"
   },
   {
    "duration": 14,
    "start_time": "2022-03-30T21:40:03.936Z"
   },
   {
    "duration": 21,
    "start_time": "2022-03-30T21:40:03.951Z"
   },
   {
    "duration": 27,
    "start_time": "2022-03-30T21:40:03.974Z"
   },
   {
    "duration": 10,
    "start_time": "2022-03-30T21:40:04.004Z"
   },
   {
    "duration": 29,
    "start_time": "2022-03-30T21:40:04.016Z"
   },
   {
    "duration": 30,
    "start_time": "2022-03-30T21:40:04.068Z"
   },
   {
    "duration": 24,
    "start_time": "2022-03-30T21:40:04.100Z"
   },
   {
    "duration": 4,
    "start_time": "2022-03-30T21:40:04.127Z"
   },
   {
    "duration": 44,
    "start_time": "2022-03-30T21:40:04.133Z"
   },
   {
    "duration": 12,
    "start_time": "2022-03-30T21:40:04.179Z"
   },
   {
    "duration": 21,
    "start_time": "2022-03-30T21:40:04.193Z"
   },
   {
    "duration": 18,
    "start_time": "2022-03-30T21:40:04.216Z"
   },
   {
    "duration": 21,
    "start_time": "2022-03-30T21:40:04.236Z"
   },
   {
    "duration": 22,
    "start_time": "2022-03-30T21:40:04.259Z"
   },
   {
    "duration": 9,
    "start_time": "2022-03-30T21:40:04.284Z"
   },
   {
    "duration": 10,
    "start_time": "2022-03-30T21:40:04.295Z"
   },
   {
    "duration": 28,
    "start_time": "2022-03-30T21:40:04.308Z"
   },
   {
    "duration": 16,
    "start_time": "2022-03-30T21:40:04.339Z"
   },
   {
    "duration": 36,
    "start_time": "2022-03-30T21:40:04.357Z"
   },
   {
    "duration": 26,
    "start_time": "2022-03-30T21:40:04.395Z"
   },
   {
    "duration": 17,
    "start_time": "2022-03-30T21:40:04.424Z"
   },
   {
    "duration": 31,
    "start_time": "2022-03-30T21:40:04.443Z"
   },
   {
    "duration": 9,
    "start_time": "2022-03-30T21:40:04.476Z"
   },
   {
    "duration": 15,
    "start_time": "2022-03-30T21:40:04.487Z"
   },
   {
    "duration": 35,
    "start_time": "2022-03-30T21:40:04.505Z"
   },
   {
    "duration": 25,
    "start_time": "2022-03-30T21:40:04.542Z"
   },
   {
    "duration": 31,
    "start_time": "2022-03-30T21:40:04.570Z"
   },
   {
    "duration": 6,
    "start_time": "2022-03-30T21:45:18.818Z"
   },
   {
    "duration": 537,
    "start_time": "2022-03-30T21:45:38.518Z"
   },
   {
    "duration": 78,
    "start_time": "2022-03-30T21:45:39.057Z"
   },
   {
    "duration": 47,
    "start_time": "2022-03-30T21:45:39.138Z"
   },
   {
    "duration": 24,
    "start_time": "2022-03-30T21:45:39.189Z"
   },
   {
    "duration": 16,
    "start_time": "2022-03-30T21:45:39.216Z"
   },
   {
    "duration": 35,
    "start_time": "2022-03-30T21:45:39.235Z"
   },
   {
    "duration": 26,
    "start_time": "2022-03-30T21:45:39.273Z"
   },
   {
    "duration": 7,
    "start_time": "2022-03-30T21:45:39.301Z"
   },
   {
    "duration": 14,
    "start_time": "2022-03-30T21:45:39.310Z"
   },
   {
    "duration": 7,
    "start_time": "2022-03-30T21:45:39.369Z"
   },
   {
    "duration": 8,
    "start_time": "2022-03-30T21:45:39.378Z"
   },
   {
    "duration": 6,
    "start_time": "2022-03-30T21:45:39.388Z"
   },
   {
    "duration": 8,
    "start_time": "2022-03-30T21:45:39.396Z"
   },
   {
    "duration": 8,
    "start_time": "2022-03-30T21:45:39.406Z"
   },
   {
    "duration": 77,
    "start_time": "2022-03-30T21:45:39.416Z"
   },
   {
    "duration": 31,
    "start_time": "2022-03-30T21:45:39.496Z"
   },
   {
    "duration": 36,
    "start_time": "2022-03-30T21:45:39.531Z"
   },
   {
    "duration": 32,
    "start_time": "2022-03-30T21:45:39.570Z"
   },
   {
    "duration": 15,
    "start_time": "2022-03-30T21:45:39.605Z"
   },
   {
    "duration": 7,
    "start_time": "2022-03-30T21:45:39.623Z"
   },
   {
    "duration": 7,
    "start_time": "2022-03-30T21:45:39.668Z"
   },
   {
    "duration": 14,
    "start_time": "2022-03-30T21:45:39.679Z"
   },
   {
    "duration": 8,
    "start_time": "2022-03-30T21:45:39.696Z"
   },
   {
    "duration": 5,
    "start_time": "2022-03-30T21:45:39.706Z"
   },
   {
    "duration": 55,
    "start_time": "2022-03-30T21:45:39.713Z"
   },
   {
    "duration": 7,
    "start_time": "2022-03-30T21:45:39.770Z"
   },
   {
    "duration": 11,
    "start_time": "2022-03-30T21:45:39.779Z"
   },
   {
    "duration": 20,
    "start_time": "2022-03-30T21:45:39.796Z"
   },
   {
    "duration": 5,
    "start_time": "2022-03-30T21:45:39.818Z"
   },
   {
    "duration": 4,
    "start_time": "2022-03-30T21:45:39.870Z"
   },
   {
    "duration": 20,
    "start_time": "2022-03-30T21:45:39.878Z"
   },
   {
    "duration": 30,
    "start_time": "2022-03-30T21:45:39.900Z"
   },
   {
    "duration": 38,
    "start_time": "2022-03-30T21:45:39.932Z"
   },
   {
    "duration": 15,
    "start_time": "2022-03-30T21:45:39.972Z"
   },
   {
    "duration": 11,
    "start_time": "2022-03-30T21:45:39.989Z"
   },
   {
    "duration": 8,
    "start_time": "2022-03-30T21:45:40.002Z"
   },
   {
    "duration": 56,
    "start_time": "2022-03-30T21:45:40.012Z"
   },
   {
    "duration": 10,
    "start_time": "2022-03-30T21:45:40.070Z"
   },
   {
    "duration": 28,
    "start_time": "2022-03-30T21:45:40.082Z"
   },
   {
    "duration": 63,
    "start_time": "2022-03-30T21:45:40.113Z"
   },
   {
    "duration": 26,
    "start_time": "2022-03-30T21:45:40.179Z"
   },
   {
    "duration": 6,
    "start_time": "2022-03-30T21:45:40.207Z"
   },
   {
    "duration": 13,
    "start_time": "2022-03-30T21:45:40.215Z"
   },
   {
    "duration": 38,
    "start_time": "2022-03-30T21:45:40.230Z"
   },
   {
    "duration": 6,
    "start_time": "2022-03-30T21:45:40.270Z"
   },
   {
    "duration": 6,
    "start_time": "2022-03-30T21:45:40.278Z"
   },
   {
    "duration": 11,
    "start_time": "2022-03-30T21:45:40.286Z"
   },
   {
    "duration": 15,
    "start_time": "2022-03-30T21:45:40.299Z"
   },
   {
    "duration": 9,
    "start_time": "2022-03-30T21:45:40.316Z"
   },
   {
    "duration": 48,
    "start_time": "2022-03-30T21:45:40.327Z"
   },
   {
    "duration": 15,
    "start_time": "2022-03-30T21:45:40.377Z"
   },
   {
    "duration": 6,
    "start_time": "2022-03-30T21:45:40.394Z"
   },
   {
    "duration": 16,
    "start_time": "2022-03-30T21:45:40.402Z"
   },
   {
    "duration": 53,
    "start_time": "2022-03-30T21:45:40.421Z"
   },
   {
    "duration": 10,
    "start_time": "2022-03-30T21:45:40.476Z"
   },
   {
    "duration": 25,
    "start_time": "2022-03-30T21:45:40.488Z"
   },
   {
    "duration": 10,
    "start_time": "2022-03-30T21:45:40.515Z"
   },
   {
    "duration": 42,
    "start_time": "2022-03-30T21:45:40.528Z"
   },
   {
    "duration": 16,
    "start_time": "2022-03-30T21:45:40.572Z"
   },
   {
    "duration": 17,
    "start_time": "2022-03-30T21:45:40.590Z"
   },
   {
    "duration": 18,
    "start_time": "2022-03-30T21:45:40.610Z"
   },
   {
    "duration": 513,
    "start_time": "2022-03-30T21:46:12.815Z"
   },
   {
    "duration": 85,
    "start_time": "2022-03-30T21:46:13.331Z"
   },
   {
    "duration": 51,
    "start_time": "2022-03-30T21:46:13.418Z"
   },
   {
    "duration": 23,
    "start_time": "2022-03-30T21:46:13.472Z"
   },
   {
    "duration": 15,
    "start_time": "2022-03-30T21:46:13.497Z"
   },
   {
    "duration": 7,
    "start_time": "2022-03-30T21:46:13.514Z"
   },
   {
    "duration": 64,
    "start_time": "2022-03-30T21:46:13.523Z"
   },
   {
    "duration": 7,
    "start_time": "2022-03-30T21:46:13.589Z"
   },
   {
    "duration": 16,
    "start_time": "2022-03-30T21:46:13.599Z"
   },
   {
    "duration": 5,
    "start_time": "2022-03-30T21:46:13.621Z"
   },
   {
    "duration": 8,
    "start_time": "2022-03-30T21:46:13.628Z"
   },
   {
    "duration": 7,
    "start_time": "2022-03-30T21:46:13.667Z"
   },
   {
    "duration": 8,
    "start_time": "2022-03-30T21:46:13.677Z"
   },
   {
    "duration": 7,
    "start_time": "2022-03-30T21:46:13.687Z"
   },
   {
    "duration": 74,
    "start_time": "2022-03-30T21:46:13.696Z"
   },
   {
    "duration": 35,
    "start_time": "2022-03-30T21:46:13.773Z"
   },
   {
    "duration": 6,
    "start_time": "2022-03-30T21:46:13.811Z"
   },
   {
    "duration": 68,
    "start_time": "2022-03-30T21:46:13.820Z"
   },
   {
    "duration": 13,
    "start_time": "2022-03-30T21:46:13.890Z"
   },
   {
    "duration": 5,
    "start_time": "2022-03-30T21:46:13.905Z"
   },
   {
    "duration": 7,
    "start_time": "2022-03-30T21:46:13.912Z"
   },
   {
    "duration": 47,
    "start_time": "2022-03-30T21:46:13.920Z"
   },
   {
    "duration": 7,
    "start_time": "2022-03-30T21:46:13.969Z"
   },
   {
    "duration": 6,
    "start_time": "2022-03-30T21:46:13.978Z"
   },
   {
    "duration": 8,
    "start_time": "2022-03-30T21:46:13.986Z"
   },
   {
    "duration": 8,
    "start_time": "2022-03-30T21:46:13.995Z"
   },
   {
    "duration": 7,
    "start_time": "2022-03-30T21:46:14.006Z"
   },
   {
    "duration": 54,
    "start_time": "2022-03-30T21:46:14.019Z"
   },
   {
    "duration": 5,
    "start_time": "2022-03-30T21:46:14.075Z"
   },
   {
    "duration": 6,
    "start_time": "2022-03-30T21:46:14.083Z"
   },
   {
    "duration": 22,
    "start_time": "2022-03-30T21:46:14.091Z"
   },
   {
    "duration": 71,
    "start_time": "2022-03-30T21:46:14.116Z"
   },
   {
    "duration": 7,
    "start_time": "2022-03-30T21:46:14.189Z"
   },
   {
    "duration": 17,
    "start_time": "2022-03-30T21:46:14.198Z"
   },
   {
    "duration": 9,
    "start_time": "2022-03-30T21:46:14.217Z"
   },
   {
    "duration": 46,
    "start_time": "2022-03-30T21:46:14.228Z"
   },
   {
    "duration": 16,
    "start_time": "2022-03-30T21:46:14.277Z"
   },
   {
    "duration": 15,
    "start_time": "2022-03-30T21:46:14.295Z"
   },
   {
    "duration": 57,
    "start_time": "2022-03-30T21:46:14.312Z"
   },
   {
    "duration": 29,
    "start_time": "2022-03-30T21:46:14.371Z"
   },
   {
    "duration": 26,
    "start_time": "2022-03-30T21:46:14.403Z"
   },
   {
    "duration": 5,
    "start_time": "2022-03-30T21:46:14.431Z"
   },
   {
    "duration": 40,
    "start_time": "2022-03-30T21:46:14.438Z"
   },
   {
    "duration": 5,
    "start_time": "2022-03-30T21:46:14.481Z"
   },
   {
    "duration": 6,
    "start_time": "2022-03-30T21:46:14.488Z"
   },
   {
    "duration": 5,
    "start_time": "2022-03-30T21:46:14.497Z"
   },
   {
    "duration": 11,
    "start_time": "2022-03-30T21:46:14.504Z"
   },
   {
    "duration": 10,
    "start_time": "2022-03-30T21:46:14.517Z"
   },
   {
    "duration": 9,
    "start_time": "2022-03-30T21:46:14.568Z"
   },
   {
    "duration": 10,
    "start_time": "2022-03-30T21:46:14.579Z"
   },
   {
    "duration": 14,
    "start_time": "2022-03-30T21:46:14.591Z"
   },
   {
    "duration": 6,
    "start_time": "2022-03-30T21:46:14.608Z"
   },
   {
    "duration": 60,
    "start_time": "2022-03-30T21:46:14.616Z"
   },
   {
    "duration": 17,
    "start_time": "2022-03-30T21:46:14.679Z"
   },
   {
    "duration": 12,
    "start_time": "2022-03-30T21:46:14.699Z"
   },
   {
    "duration": 21,
    "start_time": "2022-03-30T21:46:14.713Z"
   },
   {
    "duration": 38,
    "start_time": "2022-03-30T21:46:14.737Z"
   },
   {
    "duration": 7,
    "start_time": "2022-03-30T21:46:14.778Z"
   },
   {
    "duration": 8,
    "start_time": "2022-03-30T21:46:14.788Z"
   },
   {
    "duration": 20,
    "start_time": "2022-03-30T21:46:14.798Z"
   },
   {
    "duration": 55,
    "start_time": "2022-03-30T21:46:14.821Z"
   },
   {
    "duration": 541,
    "start_time": "2022-03-30T21:47:44.261Z"
   },
   {
    "duration": 68,
    "start_time": "2022-03-30T21:47:44.804Z"
   },
   {
    "duration": 33,
    "start_time": "2022-03-30T21:47:44.874Z"
   },
   {
    "duration": 22,
    "start_time": "2022-03-30T21:47:44.910Z"
   },
   {
    "duration": 41,
    "start_time": "2022-03-30T21:47:44.934Z"
   },
   {
    "duration": 6,
    "start_time": "2022-03-30T21:47:44.977Z"
   },
   {
    "duration": 30,
    "start_time": "2022-03-30T21:47:44.986Z"
   },
   {
    "duration": 7,
    "start_time": "2022-03-30T21:47:45.018Z"
   },
   {
    "duration": 47,
    "start_time": "2022-03-30T21:47:45.027Z"
   },
   {
    "duration": 6,
    "start_time": "2022-03-30T21:47:45.078Z"
   },
   {
    "duration": 9,
    "start_time": "2022-03-30T21:47:45.086Z"
   },
   {
    "duration": 8,
    "start_time": "2022-03-30T21:47:45.096Z"
   },
   {
    "duration": 9,
    "start_time": "2022-03-30T21:47:45.106Z"
   },
   {
    "duration": 53,
    "start_time": "2022-03-30T21:47:45.118Z"
   },
   {
    "duration": 34,
    "start_time": "2022-03-30T21:47:45.173Z"
   },
   {
    "duration": 59,
    "start_time": "2022-03-30T21:47:45.210Z"
   },
   {
    "duration": 6,
    "start_time": "2022-03-30T21:47:45.271Z"
   },
   {
    "duration": 31,
    "start_time": "2022-03-30T21:47:45.279Z"
   },
   {
    "duration": 13,
    "start_time": "2022-03-30T21:47:45.313Z"
   },
   {
    "duration": 42,
    "start_time": "2022-03-30T21:47:45.328Z"
   },
   {
    "duration": 7,
    "start_time": "2022-03-30T21:47:45.372Z"
   },
   {
    "duration": 13,
    "start_time": "2022-03-30T21:47:45.381Z"
   },
   {
    "duration": 7,
    "start_time": "2022-03-30T21:47:45.396Z"
   },
   {
    "duration": 5,
    "start_time": "2022-03-30T21:47:45.405Z"
   },
   {
    "duration": 6,
    "start_time": "2022-03-30T21:47:45.412Z"
   },
   {
    "duration": 49,
    "start_time": "2022-03-30T21:47:45.420Z"
   },
   {
    "duration": 8,
    "start_time": "2022-03-30T21:47:45.471Z"
   },
   {
    "duration": 25,
    "start_time": "2022-03-30T21:47:45.485Z"
   },
   {
    "duration": 6,
    "start_time": "2022-03-30T21:47:45.512Z"
   },
   {
    "duration": 48,
    "start_time": "2022-03-30T21:47:45.520Z"
   },
   {
    "duration": 20,
    "start_time": "2022-03-30T21:47:45.570Z"
   },
   {
    "duration": 29,
    "start_time": "2022-03-30T21:47:45.592Z"
   },
   {
    "duration": 7,
    "start_time": "2022-03-30T21:47:45.624Z"
   },
   {
    "duration": 16,
    "start_time": "2022-03-30T21:47:45.669Z"
   },
   {
    "duration": 15,
    "start_time": "2022-03-30T21:47:45.687Z"
   },
   {
    "duration": 9,
    "start_time": "2022-03-30T21:47:45.704Z"
   },
   {
    "duration": 18,
    "start_time": "2022-03-30T21:47:45.715Z"
   },
   {
    "duration": 11,
    "start_time": "2022-03-30T21:47:45.768Z"
   },
   {
    "duration": 28,
    "start_time": "2022-03-30T21:47:45.781Z"
   },
   {
    "duration": 63,
    "start_time": "2022-03-30T21:47:45.811Z"
   },
   {
    "duration": 25,
    "start_time": "2022-03-30T21:47:45.876Z"
   },
   {
    "duration": 5,
    "start_time": "2022-03-30T21:47:45.903Z"
   },
   {
    "duration": 17,
    "start_time": "2022-03-30T21:47:45.910Z"
   },
   {
    "duration": 7,
    "start_time": "2022-03-30T21:47:45.929Z"
   },
   {
    "duration": 33,
    "start_time": "2022-03-30T21:47:45.938Z"
   },
   {
    "duration": 7,
    "start_time": "2022-03-30T21:47:45.973Z"
   },
   {
    "duration": 11,
    "start_time": "2022-03-30T21:47:45.982Z"
   },
   {
    "duration": 11,
    "start_time": "2022-03-30T21:47:45.996Z"
   },
   {
    "duration": 11,
    "start_time": "2022-03-30T21:47:46.010Z"
   },
   {
    "duration": 46,
    "start_time": "2022-03-30T21:47:46.024Z"
   },
   {
    "duration": 16,
    "start_time": "2022-03-30T21:47:46.073Z"
   },
   {
    "duration": 6,
    "start_time": "2022-03-30T21:47:46.092Z"
   },
   {
    "duration": 15,
    "start_time": "2022-03-30T21:47:46.101Z"
   },
   {
    "duration": 62,
    "start_time": "2022-03-30T21:47:46.119Z"
   },
   {
    "duration": 9,
    "start_time": "2022-03-30T21:47:46.184Z"
   },
   {
    "duration": 23,
    "start_time": "2022-03-30T21:47:46.196Z"
   },
   {
    "duration": 10,
    "start_time": "2022-03-30T21:47:46.221Z"
   },
   {
    "duration": 5,
    "start_time": "2022-03-30T21:47:46.268Z"
   },
   {
    "duration": 16,
    "start_time": "2022-03-30T21:47:46.276Z"
   },
   {
    "duration": 19,
    "start_time": "2022-03-30T21:47:46.294Z"
   },
   {
    "duration": 18,
    "start_time": "2022-03-30T21:47:46.315Z"
   },
   {
    "duration": 66,
    "start_time": "2022-03-31T10:18:31.475Z"
   },
   {
    "duration": 530,
    "start_time": "2022-03-31T10:18:58.858Z"
   },
   {
    "duration": 73,
    "start_time": "2022-03-31T10:18:59.391Z"
   },
   {
    "duration": 31,
    "start_time": "2022-03-31T10:18:59.467Z"
   },
   {
    "duration": 25,
    "start_time": "2022-03-31T10:18:59.500Z"
   },
   {
    "duration": 19,
    "start_time": "2022-03-31T10:18:59.528Z"
   },
   {
    "duration": 23,
    "start_time": "2022-03-31T10:18:59.549Z"
   },
   {
    "duration": 35,
    "start_time": "2022-03-31T10:18:59.574Z"
   },
   {
    "duration": 6,
    "start_time": "2022-03-31T10:18:59.612Z"
   },
   {
    "duration": 35,
    "start_time": "2022-03-31T10:18:59.620Z"
   },
   {
    "duration": 24,
    "start_time": "2022-03-31T10:18:59.659Z"
   },
   {
    "duration": 30,
    "start_time": "2022-03-31T10:18:59.685Z"
   },
   {
    "duration": 8,
    "start_time": "2022-03-31T10:18:59.717Z"
   },
   {
    "duration": 34,
    "start_time": "2022-03-31T10:18:59.727Z"
   },
   {
    "duration": 18,
    "start_time": "2022-03-31T10:18:59.763Z"
   },
   {
    "duration": 45,
    "start_time": "2022-03-31T10:18:59.783Z"
   },
   {
    "duration": 30,
    "start_time": "2022-03-31T10:18:59.830Z"
   },
   {
    "duration": 13,
    "start_time": "2022-03-31T10:18:59.862Z"
   },
   {
    "duration": 49,
    "start_time": "2022-03-31T10:18:59.877Z"
   },
   {
    "duration": 28,
    "start_time": "2022-03-31T10:18:59.928Z"
   },
   {
    "duration": 22,
    "start_time": "2022-03-31T10:18:59.958Z"
   },
   {
    "duration": 23,
    "start_time": "2022-03-31T10:18:59.981Z"
   },
   {
    "duration": 36,
    "start_time": "2022-03-31T10:19:00.006Z"
   },
   {
    "duration": 22,
    "start_time": "2022-03-31T10:19:00.044Z"
   },
   {
    "duration": 16,
    "start_time": "2022-03-31T10:19:00.068Z"
   },
   {
    "duration": 27,
    "start_time": "2022-03-31T10:19:00.086Z"
   },
   {
    "duration": 27,
    "start_time": "2022-03-31T10:19:00.115Z"
   },
   {
    "duration": 29,
    "start_time": "2022-03-31T10:19:00.144Z"
   },
   {
    "duration": 39,
    "start_time": "2022-03-31T10:19:00.179Z"
   },
   {
    "duration": 9,
    "start_time": "2022-03-31T10:19:00.220Z"
   },
   {
    "duration": 33,
    "start_time": "2022-03-31T10:19:00.231Z"
   },
   {
    "duration": 38,
    "start_time": "2022-03-31T10:19:00.266Z"
   },
   {
    "duration": 41,
    "start_time": "2022-03-31T10:19:00.306Z"
   },
   {
    "duration": 28,
    "start_time": "2022-03-31T10:19:00.349Z"
   },
   {
    "duration": 41,
    "start_time": "2022-03-31T10:19:00.379Z"
   },
   {
    "duration": 42,
    "start_time": "2022-03-31T10:19:00.422Z"
   },
   {
    "duration": 29,
    "start_time": "2022-03-31T10:19:00.466Z"
   },
   {
    "duration": 27,
    "start_time": "2022-03-31T10:19:00.497Z"
   },
   {
    "duration": 44,
    "start_time": "2022-03-31T10:19:00.526Z"
   },
   {
    "duration": 71,
    "start_time": "2022-03-31T10:19:00.572Z"
   },
   {
    "duration": 95,
    "start_time": "2022-03-31T10:19:00.645Z"
   },
   {
    "duration": 39,
    "start_time": "2022-03-31T10:19:00.743Z"
   },
   {
    "duration": 6,
    "start_time": "2022-03-31T10:19:00.785Z"
   },
   {
    "duration": 42,
    "start_time": "2022-03-31T10:19:00.794Z"
   },
   {
    "duration": 51,
    "start_time": "2022-03-31T10:19:00.839Z"
   },
   {
    "duration": 43,
    "start_time": "2022-03-31T10:19:00.892Z"
   },
   {
    "duration": 50,
    "start_time": "2022-03-31T10:19:00.937Z"
   },
   {
    "duration": 46,
    "start_time": "2022-03-31T10:19:00.989Z"
   },
   {
    "duration": 21,
    "start_time": "2022-03-31T10:19:01.037Z"
   },
   {
    "duration": 24,
    "start_time": "2022-03-31T10:19:01.061Z"
   },
   {
    "duration": 19,
    "start_time": "2022-03-31T10:19:01.088Z"
   },
   {
    "duration": 18,
    "start_time": "2022-03-31T10:19:01.110Z"
   },
   {
    "duration": 25,
    "start_time": "2022-03-31T10:19:01.130Z"
   },
   {
    "duration": 29,
    "start_time": "2022-03-31T10:19:01.157Z"
   },
   {
    "duration": 33,
    "start_time": "2022-03-31T10:19:01.189Z"
   },
   {
    "duration": 30,
    "start_time": "2022-03-31T10:19:01.224Z"
   },
   {
    "duration": 27,
    "start_time": "2022-03-31T10:19:01.256Z"
   },
   {
    "duration": 11,
    "start_time": "2022-03-31T10:19:01.285Z"
   },
   {
    "duration": 10,
    "start_time": "2022-03-31T10:19:01.298Z"
   },
   {
    "duration": 37,
    "start_time": "2022-03-31T10:19:01.310Z"
   },
   {
    "duration": 54,
    "start_time": "2022-03-31T10:19:01.349Z"
   },
   {
    "duration": 25,
    "start_time": "2022-03-31T10:19:01.405Z"
   },
   {
    "duration": 30,
    "start_time": "2022-03-31T10:19:01.432Z"
   },
   {
    "duration": 5,
    "start_time": "2022-03-31T10:36:53.308Z"
   },
   {
    "duration": 5,
    "start_time": "2022-03-31T10:39:23.930Z"
   },
   {
    "duration": 8,
    "start_time": "2022-03-31T10:39:24.477Z"
   },
   {
    "duration": 11,
    "start_time": "2022-03-31T10:40:05.465Z"
   },
   {
    "duration": 7,
    "start_time": "2022-03-31T10:41:12.987Z"
   },
   {
    "duration": 5,
    "start_time": "2022-03-31T10:41:34.149Z"
   },
   {
    "duration": 6,
    "start_time": "2022-03-31T10:41:34.788Z"
   },
   {
    "duration": 6,
    "start_time": "2022-03-31T10:41:35.427Z"
   },
   {
    "duration": 93,
    "start_time": "2022-03-31T10:42:53.110Z"
   },
   {
    "duration": 15,
    "start_time": "2022-03-31T10:42:58.209Z"
   },
   {
    "duration": 91,
    "start_time": "2022-03-31T10:43:39.369Z"
   },
   {
    "duration": 6,
    "start_time": "2022-03-31T10:43:44.890Z"
   },
   {
    "duration": 24,
    "start_time": "2022-03-31T10:44:12.579Z"
   },
   {
    "duration": 12,
    "start_time": "2022-03-31T10:45:38.032Z"
   },
   {
    "duration": 12,
    "start_time": "2022-03-31T10:46:04.833Z"
   },
   {
    "duration": 21,
    "start_time": "2022-03-31T10:46:12.740Z"
   },
   {
    "duration": 14,
    "start_time": "2022-03-31T11:06:29.340Z"
   },
   {
    "duration": 6,
    "start_time": "2022-03-31T11:06:53.147Z"
   },
   {
    "duration": 5,
    "start_time": "2022-03-31T11:07:06.408Z"
   },
   {
    "duration": 12,
    "start_time": "2022-03-31T11:08:09.167Z"
   },
   {
    "duration": 7,
    "start_time": "2022-03-31T11:10:00.397Z"
   },
   {
    "duration": 6,
    "start_time": "2022-03-31T11:10:11.826Z"
   },
   {
    "duration": 113,
    "start_time": "2022-03-31T11:13:41.364Z"
   },
   {
    "duration": 16,
    "start_time": "2022-03-31T11:19:18.420Z"
   },
   {
    "duration": 11,
    "start_time": "2022-03-31T11:19:29.750Z"
   },
   {
    "duration": 13,
    "start_time": "2022-03-31T11:19:36.680Z"
   },
   {
    "duration": 568,
    "start_time": "2022-03-31T11:19:57.550Z"
   },
   {
    "duration": 79,
    "start_time": "2022-03-31T11:19:58.121Z"
   },
   {
    "duration": 35,
    "start_time": "2022-03-31T11:19:58.202Z"
   },
   {
    "duration": 40,
    "start_time": "2022-03-31T11:19:58.240Z"
   },
   {
    "duration": 15,
    "start_time": "2022-03-31T11:19:58.282Z"
   },
   {
    "duration": 9,
    "start_time": "2022-03-31T11:19:58.299Z"
   },
   {
    "duration": 58,
    "start_time": "2022-03-31T11:19:58.310Z"
   },
   {
    "duration": 7,
    "start_time": "2022-03-31T11:19:58.370Z"
   },
   {
    "duration": 16,
    "start_time": "2022-03-31T11:19:58.380Z"
   },
   {
    "duration": 7,
    "start_time": "2022-03-31T11:19:58.402Z"
   },
   {
    "duration": 9,
    "start_time": "2022-03-31T11:19:58.411Z"
   },
   {
    "duration": 8,
    "start_time": "2022-03-31T11:19:58.469Z"
   },
   {
    "duration": 11,
    "start_time": "2022-03-31T11:19:58.480Z"
   },
   {
    "duration": 8,
    "start_time": "2022-03-31T11:19:58.493Z"
   },
   {
    "duration": 80,
    "start_time": "2022-03-31T11:19:58.503Z"
   },
   {
    "duration": 32,
    "start_time": "2022-03-31T11:19:58.585Z"
   },
   {
    "duration": 5,
    "start_time": "2022-03-31T11:19:58.620Z"
   },
   {
    "duration": 62,
    "start_time": "2022-03-31T11:19:58.627Z"
   },
   {
    "duration": 21,
    "start_time": "2022-03-31T11:19:58.692Z"
   },
   {
    "duration": 6,
    "start_time": "2022-03-31T11:19:58.715Z"
   },
   {
    "duration": 9,
    "start_time": "2022-03-31T11:19:58.723Z"
   },
   {
    "duration": 41,
    "start_time": "2022-03-31T11:19:58.735Z"
   },
   {
    "duration": 8,
    "start_time": "2022-03-31T11:19:58.779Z"
   },
   {
    "duration": 9,
    "start_time": "2022-03-31T11:19:58.789Z"
   },
   {
    "duration": 6,
    "start_time": "2022-03-31T11:19:58.801Z"
   },
   {
    "duration": 12,
    "start_time": "2022-03-31T11:19:58.810Z"
   },
   {
    "duration": 50,
    "start_time": "2022-03-31T11:19:58.824Z"
   },
   {
    "duration": 22,
    "start_time": "2022-03-31T11:19:58.882Z"
   },
   {
    "duration": 6,
    "start_time": "2022-03-31T11:19:58.906Z"
   },
   {
    "duration": 17,
    "start_time": "2022-03-31T11:19:58.915Z"
   },
   {
    "duration": 49,
    "start_time": "2022-03-31T11:19:58.934Z"
   },
   {
    "duration": 31,
    "start_time": "2022-03-31T11:19:58.985Z"
   },
   {
    "duration": 14,
    "start_time": "2022-03-31T11:19:59.018Z"
   },
   {
    "duration": 50,
    "start_time": "2022-03-31T11:19:59.034Z"
   },
   {
    "duration": 13,
    "start_time": "2022-03-31T11:19:59.087Z"
   },
   {
    "duration": 9,
    "start_time": "2022-03-31T11:19:59.103Z"
   },
   {
    "duration": 57,
    "start_time": "2022-03-31T11:19:59.114Z"
   },
   {
    "duration": 14,
    "start_time": "2022-03-31T11:19:59.173Z"
   },
   {
    "duration": 28,
    "start_time": "2022-03-31T11:19:59.190Z"
   },
   {
    "duration": 63,
    "start_time": "2022-03-31T11:19:59.221Z"
   },
   {
    "duration": 27,
    "start_time": "2022-03-31T11:19:59.287Z"
   },
   {
    "duration": 5,
    "start_time": "2022-03-31T11:19:59.317Z"
   },
   {
    "duration": 45,
    "start_time": "2022-03-31T11:19:59.324Z"
   },
   {
    "duration": 7,
    "start_time": "2022-03-31T11:19:59.372Z"
   },
   {
    "duration": 9,
    "start_time": "2022-03-31T11:19:59.382Z"
   },
   {
    "duration": 6,
    "start_time": "2022-03-31T11:19:59.394Z"
   },
   {
    "duration": 22,
    "start_time": "2022-03-31T11:19:59.403Z"
   },
   {
    "duration": 45,
    "start_time": "2022-03-31T11:19:59.427Z"
   },
   {
    "duration": 11,
    "start_time": "2022-03-31T11:19:59.475Z"
   },
   {
    "duration": 10,
    "start_time": "2022-03-31T11:19:59.488Z"
   },
   {
    "duration": 20,
    "start_time": "2022-03-31T11:19:59.501Z"
   },
   {
    "duration": 45,
    "start_time": "2022-03-31T11:19:59.523Z"
   },
   {
    "duration": 17,
    "start_time": "2022-03-31T11:19:59.571Z"
   },
   {
    "duration": 18,
    "start_time": "2022-03-31T11:19:59.591Z"
   },
   {
    "duration": 10,
    "start_time": "2022-03-31T11:19:59.612Z"
   },
   {
    "duration": 62,
    "start_time": "2022-03-31T11:19:59.624Z"
   },
   {
    "duration": 9,
    "start_time": "2022-03-31T11:19:59.688Z"
   },
   {
    "duration": 10,
    "start_time": "2022-03-31T11:19:59.699Z"
   },
   {
    "duration": 18,
    "start_time": "2022-03-31T11:19:59.711Z"
   },
   {
    "duration": 42,
    "start_time": "2022-03-31T11:19:59.731Z"
   },
   {
    "duration": 22,
    "start_time": "2022-03-31T11:19:59.775Z"
   },
   {
    "duration": 13,
    "start_time": "2022-03-31T11:19:59.799Z"
   },
   {
    "duration": 126,
    "start_time": "2022-03-31T11:19:59.813Z"
   },
   {
    "duration": 6,
    "start_time": "2022-03-31T11:33:15.803Z"
   },
   {
    "duration": 9,
    "start_time": "2022-03-31T11:34:01.666Z"
   },
   {
    "duration": 9,
    "start_time": "2022-03-31T11:34:15.080Z"
   },
   {
    "duration": 16,
    "start_time": "2022-03-31T11:34:20.227Z"
   },
   {
    "duration": 9,
    "start_time": "2022-03-31T11:34:20.855Z"
   },
   {
    "duration": 543,
    "start_time": "2022-03-31T11:34:36.034Z"
   },
   {
    "duration": 71,
    "start_time": "2022-03-31T11:34:36.580Z"
   },
   {
    "duration": 33,
    "start_time": "2022-03-31T11:34:36.668Z"
   },
   {
    "duration": 21,
    "start_time": "2022-03-31T11:34:36.704Z"
   },
   {
    "duration": 41,
    "start_time": "2022-03-31T11:34:36.728Z"
   },
   {
    "duration": 7,
    "start_time": "2022-03-31T11:34:36.771Z"
   },
   {
    "duration": 30,
    "start_time": "2022-03-31T11:34:36.780Z"
   },
   {
    "duration": 6,
    "start_time": "2022-03-31T11:34:36.812Z"
   },
   {
    "duration": 49,
    "start_time": "2022-03-31T11:34:36.820Z"
   },
   {
    "duration": 7,
    "start_time": "2022-03-31T11:34:36.872Z"
   },
   {
    "duration": 16,
    "start_time": "2022-03-31T11:34:36.880Z"
   },
   {
    "duration": 10,
    "start_time": "2022-03-31T11:34:36.898Z"
   },
   {
    "duration": 8,
    "start_time": "2022-03-31T11:34:36.910Z"
   },
   {
    "duration": 8,
    "start_time": "2022-03-31T11:34:36.920Z"
   },
   {
    "duration": 32,
    "start_time": "2022-03-31T11:34:36.967Z"
   },
   {
    "duration": 33,
    "start_time": "2022-03-31T11:34:37.001Z"
   },
   {
    "duration": 34,
    "start_time": "2022-03-31T11:34:37.036Z"
   },
   {
    "duration": 30,
    "start_time": "2022-03-31T11:34:37.072Z"
   },
   {
    "duration": 14,
    "start_time": "2022-03-31T11:34:37.105Z"
   },
   {
    "duration": 6,
    "start_time": "2022-03-31T11:34:37.121Z"
   },
   {
    "duration": 45,
    "start_time": "2022-03-31T11:34:37.129Z"
   },
   {
    "duration": 13,
    "start_time": "2022-03-31T11:34:37.176Z"
   },
   {
    "duration": 7,
    "start_time": "2022-03-31T11:34:37.192Z"
   },
   {
    "duration": 10,
    "start_time": "2022-03-31T11:34:37.200Z"
   },
   {
    "duration": 12,
    "start_time": "2022-03-31T11:34:37.212Z"
   },
   {
    "duration": 43,
    "start_time": "2022-03-31T11:34:37.226Z"
   },
   {
    "duration": 8,
    "start_time": "2022-03-31T11:34:37.271Z"
   },
   {
    "duration": 21,
    "start_time": "2022-03-31T11:34:37.285Z"
   },
   {
    "duration": 5,
    "start_time": "2022-03-31T11:34:37.308Z"
   },
   {
    "duration": 5,
    "start_time": "2022-03-31T11:34:37.315Z"
   },
   {
    "duration": 59,
    "start_time": "2022-03-31T11:34:37.322Z"
   },
   {
    "duration": 28,
    "start_time": "2022-03-31T11:34:37.383Z"
   },
   {
    "duration": 7,
    "start_time": "2022-03-31T11:34:37.414Z"
   },
   {
    "duration": 48,
    "start_time": "2022-03-31T11:34:37.423Z"
   },
   {
    "duration": 10,
    "start_time": "2022-03-31T11:34:37.474Z"
   },
   {
    "duration": 8,
    "start_time": "2022-03-31T11:34:37.486Z"
   },
   {
    "duration": 17,
    "start_time": "2022-03-31T11:34:37.496Z"
   },
   {
    "duration": 13,
    "start_time": "2022-03-31T11:34:37.515Z"
   },
   {
    "duration": 28,
    "start_time": "2022-03-31T11:34:37.567Z"
   },
   {
    "duration": 28,
    "start_time": "2022-03-31T11:34:37.598Z"
   },
   {
    "duration": 57,
    "start_time": "2022-03-31T11:34:37.629Z"
   },
   {
    "duration": 5,
    "start_time": "2022-03-31T11:34:37.690Z"
   },
   {
    "duration": 23,
    "start_time": "2022-03-31T11:34:37.698Z"
   },
   {
    "duration": 13,
    "start_time": "2022-03-31T11:34:37.723Z"
   },
   {
    "duration": 107,
    "start_time": "2022-03-31T11:34:37.738Z"
   },
   {
    "duration": 0,
    "start_time": "2022-03-31T11:34:37.849Z"
   },
   {
    "duration": 0,
    "start_time": "2022-03-31T11:34:37.850Z"
   },
   {
    "duration": 0,
    "start_time": "2022-03-31T11:34:37.852Z"
   },
   {
    "duration": 0,
    "start_time": "2022-03-31T11:34:37.854Z"
   },
   {
    "duration": 0,
    "start_time": "2022-03-31T11:34:37.868Z"
   },
   {
    "duration": 0,
    "start_time": "2022-03-31T11:34:37.870Z"
   },
   {
    "duration": 0,
    "start_time": "2022-03-31T11:34:37.873Z"
   },
   {
    "duration": 0,
    "start_time": "2022-03-31T11:34:37.875Z"
   },
   {
    "duration": 0,
    "start_time": "2022-03-31T11:34:37.877Z"
   },
   {
    "duration": 0,
    "start_time": "2022-03-31T11:34:37.880Z"
   },
   {
    "duration": 0,
    "start_time": "2022-03-31T11:34:37.882Z"
   },
   {
    "duration": 0,
    "start_time": "2022-03-31T11:34:37.884Z"
   },
   {
    "duration": 0,
    "start_time": "2022-03-31T11:34:37.886Z"
   },
   {
    "duration": 0,
    "start_time": "2022-03-31T11:34:37.889Z"
   },
   {
    "duration": 0,
    "start_time": "2022-03-31T11:34:37.891Z"
   },
   {
    "duration": 0,
    "start_time": "2022-03-31T11:34:37.893Z"
   },
   {
    "duration": 0,
    "start_time": "2022-03-31T11:34:37.896Z"
   },
   {
    "duration": 0,
    "start_time": "2022-03-31T11:34:37.898Z"
   },
   {
    "duration": 10,
    "start_time": "2022-03-31T11:35:23.331Z"
   },
   {
    "duration": 9,
    "start_time": "2022-03-31T11:36:08.305Z"
   },
   {
    "duration": 9,
    "start_time": "2022-03-31T11:36:19.128Z"
   },
   {
    "duration": 11,
    "start_time": "2022-03-31T11:45:03.501Z"
   },
   {
    "duration": 102,
    "start_time": "2022-03-31T11:45:33.982Z"
   },
   {
    "duration": 15,
    "start_time": "2022-03-31T11:45:51.025Z"
   },
   {
    "duration": 8,
    "start_time": "2022-03-31T11:45:57.545Z"
   },
   {
    "duration": 6,
    "start_time": "2022-03-31T11:48:26.209Z"
   },
   {
    "duration": 30,
    "start_time": "2022-03-31T11:48:40.637Z"
   },
   {
    "duration": 6,
    "start_time": "2022-03-31T11:49:39.783Z"
   },
   {
    "duration": 5,
    "start_time": "2022-03-31T11:50:24.335Z"
   },
   {
    "duration": 5,
    "start_time": "2022-03-31T11:52:56.319Z"
   },
   {
    "duration": 11,
    "start_time": "2022-03-31T11:54:00.822Z"
   },
   {
    "duration": 15,
    "start_time": "2022-03-31T12:16:38.149Z"
   },
   {
    "duration": 11,
    "start_time": "2022-03-31T12:19:27.668Z"
   },
   {
    "duration": 14,
    "start_time": "2022-03-31T12:21:31.091Z"
   },
   {
    "duration": 522,
    "start_time": "2022-03-31T12:33:59.268Z"
   },
   {
    "duration": 74,
    "start_time": "2022-03-31T12:33:59.793Z"
   },
   {
    "duration": 32,
    "start_time": "2022-03-31T12:33:59.870Z"
   },
   {
    "duration": 22,
    "start_time": "2022-03-31T12:33:59.905Z"
   },
   {
    "duration": 42,
    "start_time": "2022-03-31T12:33:59.929Z"
   },
   {
    "duration": 9,
    "start_time": "2022-03-31T12:33:59.973Z"
   },
   {
    "duration": 33,
    "start_time": "2022-03-31T12:33:59.985Z"
   },
   {
    "duration": 7,
    "start_time": "2022-03-31T12:34:00.022Z"
   },
   {
    "duration": 51,
    "start_time": "2022-03-31T12:34:00.032Z"
   },
   {
    "duration": 9,
    "start_time": "2022-03-31T12:34:00.089Z"
   },
   {
    "duration": 17,
    "start_time": "2022-03-31T12:34:00.100Z"
   },
   {
    "duration": 9,
    "start_time": "2022-03-31T12:34:00.119Z"
   },
   {
    "duration": 60,
    "start_time": "2022-03-31T12:34:00.130Z"
   },
   {
    "duration": 36,
    "start_time": "2022-03-31T12:34:00.193Z"
   },
   {
    "duration": 8,
    "start_time": "2022-03-31T12:34:00.232Z"
   },
   {
    "duration": 31,
    "start_time": "2022-03-31T12:34:00.243Z"
   },
   {
    "duration": 14,
    "start_time": "2022-03-31T12:34:00.277Z"
   },
   {
    "duration": 21,
    "start_time": "2022-03-31T12:34:00.294Z"
   },
   {
    "duration": 19,
    "start_time": "2022-03-31T12:34:00.317Z"
   },
   {
    "duration": 28,
    "start_time": "2022-03-31T12:34:00.339Z"
   },
   {
    "duration": 26,
    "start_time": "2022-03-31T12:34:00.370Z"
   },
   {
    "duration": 35,
    "start_time": "2022-03-31T12:34:00.399Z"
   },
   {
    "duration": 19,
    "start_time": "2022-03-31T12:34:00.436Z"
   },
   {
    "duration": 41,
    "start_time": "2022-03-31T12:34:00.457Z"
   },
   {
    "duration": 26,
    "start_time": "2022-03-31T12:34:00.500Z"
   },
   {
    "duration": 32,
    "start_time": "2022-03-31T12:34:00.529Z"
   },
   {
    "duration": 38,
    "start_time": "2022-03-31T12:34:00.564Z"
   },
   {
    "duration": 10,
    "start_time": "2022-03-31T12:34:00.608Z"
   },
   {
    "duration": 54,
    "start_time": "2022-03-31T12:34:00.620Z"
   },
   {
    "duration": 37,
    "start_time": "2022-03-31T12:34:00.676Z"
   },
   {
    "duration": 26,
    "start_time": "2022-03-31T12:34:00.715Z"
   },
   {
    "duration": 37,
    "start_time": "2022-03-31T12:34:00.744Z"
   },
   {
    "duration": 30,
    "start_time": "2022-03-31T12:34:00.784Z"
   },
   {
    "duration": 21,
    "start_time": "2022-03-31T12:34:00.817Z"
   },
   {
    "duration": 32,
    "start_time": "2022-03-31T12:34:00.840Z"
   },
   {
    "duration": 22,
    "start_time": "2022-03-31T12:34:06.160Z"
   },
   {
    "duration": 526,
    "start_time": "2022-03-31T12:34:39.992Z"
   },
   {
    "duration": 76,
    "start_time": "2022-03-31T12:34:40.521Z"
   },
   {
    "duration": 33,
    "start_time": "2022-03-31T12:34:40.599Z"
   },
   {
    "duration": 53,
    "start_time": "2022-03-31T12:34:40.635Z"
   },
   {
    "duration": 67,
    "start_time": "2022-03-31T12:34:40.690Z"
   },
   {
    "duration": 60,
    "start_time": "2022-03-31T12:34:40.760Z"
   },
   {
    "duration": 71,
    "start_time": "2022-03-31T12:34:40.822Z"
   },
   {
    "duration": 21,
    "start_time": "2022-03-31T12:34:40.895Z"
   },
   {
    "duration": 50,
    "start_time": "2022-03-31T12:34:40.918Z"
   },
   {
    "duration": 39,
    "start_time": "2022-03-31T12:34:40.975Z"
   },
   {
    "duration": 30,
    "start_time": "2022-03-31T12:34:41.016Z"
   },
   {
    "duration": 22,
    "start_time": "2022-03-31T12:34:41.048Z"
   },
   {
    "duration": 39,
    "start_time": "2022-03-31T12:34:41.073Z"
   },
   {
    "duration": 29,
    "start_time": "2022-03-31T12:34:41.114Z"
   },
   {
    "duration": 22,
    "start_time": "2022-03-31T12:34:41.146Z"
   },
   {
    "duration": 15,
    "start_time": "2022-03-31T12:34:41.170Z"
   },
   {
    "duration": 34,
    "start_time": "2022-03-31T12:34:41.188Z"
   },
   {
    "duration": 26,
    "start_time": "2022-03-31T12:34:41.224Z"
   },
   {
    "duration": 27,
    "start_time": "2022-03-31T12:34:41.252Z"
   },
   {
    "duration": 32,
    "start_time": "2022-03-31T12:34:41.282Z"
   },
   {
    "duration": 21,
    "start_time": "2022-03-31T12:34:41.316Z"
   },
   {
    "duration": 55,
    "start_time": "2022-03-31T12:34:41.339Z"
   },
   {
    "duration": 8,
    "start_time": "2022-03-31T12:34:41.396Z"
   },
   {
    "duration": 28,
    "start_time": "2022-03-31T12:34:41.406Z"
   },
   {
    "duration": 49,
    "start_time": "2022-03-31T12:34:41.436Z"
   },
   {
    "duration": 20,
    "start_time": "2022-03-31T12:34:41.487Z"
   },
   {
    "duration": 48,
    "start_time": "2022-03-31T12:34:41.509Z"
   },
   {
    "duration": 12,
    "start_time": "2022-03-31T12:34:41.561Z"
   },
   {
    "duration": 37,
    "start_time": "2022-03-31T12:34:41.575Z"
   },
   {
    "duration": 27,
    "start_time": "2022-03-31T12:34:41.614Z"
   },
   {
    "duration": 42,
    "start_time": "2022-03-31T12:34:41.643Z"
   },
   {
    "duration": 20,
    "start_time": "2022-03-31T12:34:41.687Z"
   },
   {
    "duration": 32,
    "start_time": "2022-03-31T12:34:41.709Z"
   },
   {
    "duration": 26,
    "start_time": "2022-03-31T12:34:41.743Z"
   },
   {
    "duration": 20,
    "start_time": "2022-03-31T12:34:41.771Z"
   },
   {
    "duration": 26,
    "start_time": "2022-03-31T12:34:41.793Z"
   },
   {
    "duration": 14,
    "start_time": "2022-03-31T12:34:47.548Z"
   },
   {
    "duration": 90,
    "start_time": "2022-03-31T12:37:33.794Z"
   },
   {
    "duration": 6,
    "start_time": "2022-03-31T12:38:54.451Z"
   },
   {
    "duration": 13,
    "start_time": "2022-03-31T12:39:09.907Z"
   },
   {
    "duration": 539,
    "start_time": "2022-03-31T12:40:26.123Z"
   },
   {
    "duration": 68,
    "start_time": "2022-03-31T12:40:26.665Z"
   },
   {
    "duration": 45,
    "start_time": "2022-03-31T12:40:26.736Z"
   },
   {
    "duration": 23,
    "start_time": "2022-03-31T12:40:26.785Z"
   },
   {
    "duration": 15,
    "start_time": "2022-03-31T12:40:26.810Z"
   },
   {
    "duration": 43,
    "start_time": "2022-03-31T12:40:26.827Z"
   },
   {
    "duration": 26,
    "start_time": "2022-03-31T12:40:26.873Z"
   },
   {
    "duration": 7,
    "start_time": "2022-03-31T12:40:26.901Z"
   },
   {
    "duration": 15,
    "start_time": "2022-03-31T12:40:26.911Z"
   },
   {
    "duration": 7,
    "start_time": "2022-03-31T12:40:26.970Z"
   },
   {
    "duration": 10,
    "start_time": "2022-03-31T12:40:26.979Z"
   },
   {
    "duration": 7,
    "start_time": "2022-03-31T12:40:26.992Z"
   },
   {
    "duration": 75,
    "start_time": "2022-03-31T12:40:27.001Z"
   },
   {
    "duration": 33,
    "start_time": "2022-03-31T12:40:27.078Z"
   },
   {
    "duration": 6,
    "start_time": "2022-03-31T12:40:27.114Z"
   },
   {
    "duration": 47,
    "start_time": "2022-03-31T12:40:27.122Z"
   },
   {
    "duration": 5,
    "start_time": "2022-03-31T12:40:27.171Z"
   },
   {
    "duration": 17,
    "start_time": "2022-03-31T12:40:27.178Z"
   },
   {
    "duration": 7,
    "start_time": "2022-03-31T12:40:27.198Z"
   },
   {
    "duration": 10,
    "start_time": "2022-03-31T12:40:27.208Z"
   },
   {
    "duration": 50,
    "start_time": "2022-03-31T12:40:27.220Z"
   },
   {
    "duration": 23,
    "start_time": "2022-03-31T12:40:27.272Z"
   },
   {
    "duration": 7,
    "start_time": "2022-03-31T12:40:27.297Z"
   },
   {
    "duration": 15,
    "start_time": "2022-03-31T12:40:27.306Z"
   },
   {
    "duration": 9,
    "start_time": "2022-03-31T12:40:27.323Z"
   },
   {
    "duration": 7,
    "start_time": "2022-03-31T12:40:27.368Z"
   },
   {
    "duration": 18,
    "start_time": "2022-03-31T12:40:27.377Z"
   },
   {
    "duration": 10,
    "start_time": "2022-03-31T12:40:27.400Z"
   },
   {
    "duration": 61,
    "start_time": "2022-03-31T12:40:27.413Z"
   },
   {
    "duration": 27,
    "start_time": "2022-03-31T12:40:27.476Z"
   },
   {
    "duration": 24,
    "start_time": "2022-03-31T12:40:27.505Z"
   },
   {
    "duration": 10,
    "start_time": "2022-03-31T12:40:27.531Z"
   },
   {
    "duration": 17,
    "start_time": "2022-03-31T12:40:27.567Z"
   },
   {
    "duration": 17,
    "start_time": "2022-03-31T12:40:27.586Z"
   },
   {
    "duration": 7,
    "start_time": "2022-03-31T12:40:27.605Z"
   },
   {
    "duration": 14,
    "start_time": "2022-03-31T12:40:27.614Z"
   },
   {
    "duration": 5,
    "start_time": "2022-03-31T12:40:27.667Z"
   },
   {
    "duration": 15,
    "start_time": "2022-03-31T12:40:27.674Z"
   },
   {
    "duration": 16,
    "start_time": "2022-03-31T12:40:27.691Z"
   },
   {
    "duration": 8,
    "start_time": "2022-03-31T12:40:27.709Z"
   },
   {
    "duration": 62,
    "start_time": "2022-03-31T12:40:27.718Z"
   },
   {
    "duration": 9,
    "start_time": "2022-03-31T12:40:27.782Z"
   },
   {
    "duration": 7,
    "start_time": "2022-03-31T12:40:27.793Z"
   },
   {
    "duration": 13,
    "start_time": "2022-03-31T12:40:27.802Z"
   },
   {
    "duration": 19,
    "start_time": "2022-03-31T12:40:27.818Z"
   },
   {
    "duration": 41,
    "start_time": "2022-03-31T12:40:27.839Z"
   },
   {
    "duration": 10,
    "start_time": "2022-03-31T12:47:20.394Z"
   },
   {
    "duration": 479,
    "start_time": "2022-03-31T12:52:26.612Z"
   },
   {
    "duration": 85,
    "start_time": "2022-03-31T12:52:27.095Z"
   },
   {
    "duration": 65,
    "start_time": "2022-03-31T12:52:27.182Z"
   },
   {
    "duration": 60,
    "start_time": "2022-03-31T12:52:27.252Z"
   },
   {
    "duration": 20,
    "start_time": "2022-03-31T12:52:27.314Z"
   },
   {
    "duration": 18,
    "start_time": "2022-03-31T12:52:27.336Z"
   },
   {
    "duration": 36,
    "start_time": "2022-03-31T12:52:27.356Z"
   },
   {
    "duration": 8,
    "start_time": "2022-03-31T12:52:27.395Z"
   },
   {
    "duration": 21,
    "start_time": "2022-03-31T12:52:27.405Z"
   },
   {
    "duration": 8,
    "start_time": "2022-03-31T12:52:27.432Z"
   },
   {
    "duration": 21,
    "start_time": "2022-03-31T12:52:27.467Z"
   },
   {
    "duration": 7,
    "start_time": "2022-03-31T12:52:27.490Z"
   },
   {
    "duration": 45,
    "start_time": "2022-03-31T12:52:27.500Z"
   },
   {
    "duration": 46,
    "start_time": "2022-03-31T12:52:27.547Z"
   },
   {
    "duration": 10,
    "start_time": "2022-03-31T12:52:27.596Z"
   },
   {
    "duration": 10,
    "start_time": "2022-03-31T12:52:27.608Z"
   },
   {
    "duration": 20,
    "start_time": "2022-03-31T12:52:27.621Z"
   },
   {
    "duration": 26,
    "start_time": "2022-03-31T12:52:27.643Z"
   },
   {
    "duration": 9,
    "start_time": "2022-03-31T12:52:27.673Z"
   },
   {
    "duration": 18,
    "start_time": "2022-03-31T12:52:27.685Z"
   },
   {
    "duration": 25,
    "start_time": "2022-03-31T12:52:27.706Z"
   },
   {
    "duration": 41,
    "start_time": "2022-03-31T12:52:27.734Z"
   },
   {
    "duration": 8,
    "start_time": "2022-03-31T12:52:27.778Z"
   },
   {
    "duration": 22,
    "start_time": "2022-03-31T12:52:27.789Z"
   },
   {
    "duration": 9,
    "start_time": "2022-03-31T12:52:27.813Z"
   },
   {
    "duration": 12,
    "start_time": "2022-03-31T12:52:27.824Z"
   },
   {
    "duration": 17,
    "start_time": "2022-03-31T12:52:27.868Z"
   },
   {
    "duration": 11,
    "start_time": "2022-03-31T12:52:27.890Z"
   },
   {
    "duration": 28,
    "start_time": "2022-03-31T12:52:27.903Z"
   },
   {
    "duration": 60,
    "start_time": "2022-03-31T12:52:27.933Z"
   },
   {
    "duration": 25,
    "start_time": "2022-03-31T12:52:27.996Z"
   },
   {
    "duration": 10,
    "start_time": "2022-03-31T12:52:28.023Z"
   },
   {
    "duration": 53,
    "start_time": "2022-03-31T12:52:28.035Z"
   },
   {
    "duration": 20,
    "start_time": "2022-03-31T12:52:28.090Z"
   },
   {
    "duration": 8,
    "start_time": "2022-03-31T12:52:28.113Z"
   },
   {
    "duration": 52,
    "start_time": "2022-03-31T12:52:28.124Z"
   },
   {
    "duration": 9,
    "start_time": "2022-03-31T12:52:28.178Z"
   },
   {
    "duration": 20,
    "start_time": "2022-03-31T12:52:28.189Z"
   },
   {
    "duration": 17,
    "start_time": "2022-03-31T12:52:28.212Z"
   },
   {
    "duration": 41,
    "start_time": "2022-03-31T12:52:28.232Z"
   },
   {
    "duration": 6,
    "start_time": "2022-03-31T12:52:28.276Z"
   },
   {
    "duration": 15,
    "start_time": "2022-03-31T12:52:28.284Z"
   },
   {
    "duration": 16,
    "start_time": "2022-03-31T12:52:28.301Z"
   },
   {
    "duration": 58,
    "start_time": "2022-03-31T12:52:28.320Z"
   },
   {
    "duration": 9,
    "start_time": "2022-03-31T12:52:28.381Z"
   },
   {
    "duration": 8,
    "start_time": "2022-03-31T12:58:57.066Z"
   },
   {
    "duration": 10,
    "start_time": "2022-03-31T12:59:30.166Z"
   },
   {
    "duration": 97,
    "start_time": "2022-03-31T12:59:54.875Z"
   },
   {
    "duration": 10,
    "start_time": "2022-03-31T13:00:06.269Z"
   },
   {
    "duration": 10,
    "start_time": "2022-03-31T13:06:45.472Z"
   },
   {
    "duration": 9,
    "start_time": "2022-03-31T13:10:14.998Z"
   },
   {
    "duration": 9,
    "start_time": "2022-03-31T13:10:30.188Z"
   },
   {
    "duration": 6,
    "start_time": "2022-03-31T13:11:03.749Z"
   },
   {
    "duration": 9,
    "start_time": "2022-03-31T13:11:21.517Z"
   },
   {
    "duration": 9,
    "start_time": "2022-03-31T13:19:01.305Z"
   },
   {
    "duration": 14,
    "start_time": "2022-03-31T13:24:41.678Z"
   },
   {
    "duration": 10,
    "start_time": "2022-03-31T13:24:42.286Z"
   },
   {
    "duration": 18,
    "start_time": "2022-03-31T13:29:00.284Z"
   },
   {
    "duration": 2105,
    "start_time": "2022-03-31T13:35:52.181Z"
   },
   {
    "duration": 20,
    "start_time": "2022-03-31T13:36:50.434Z"
   },
   {
    "duration": 19,
    "start_time": "2022-03-31T13:40:00.611Z"
   },
   {
    "duration": 18,
    "start_time": "2022-03-31T13:40:06.820Z"
   },
   {
    "duration": 25,
    "start_time": "2022-03-31T13:40:56.648Z"
   },
   {
    "duration": 31,
    "start_time": "2022-03-31T13:41:33.105Z"
   },
   {
    "duration": 0,
    "start_time": "2022-03-31T13:43:25.974Z"
   },
   {
    "duration": 12,
    "start_time": "2022-03-31T13:43:33.576Z"
   },
   {
    "duration": 3395,
    "start_time": "2022-03-31T13:43:36.047Z"
   },
   {
    "duration": 17,
    "start_time": "2022-03-31T13:45:11.492Z"
   },
   {
    "duration": 12,
    "start_time": "2022-03-31T13:47:18.842Z"
   },
   {
    "duration": 20,
    "start_time": "2022-03-31T13:53:45.022Z"
   },
   {
    "duration": 47,
    "start_time": "2022-03-31T14:06:03.441Z"
   },
   {
    "duration": 22,
    "start_time": "2022-03-31T14:07:02.809Z"
   },
   {
    "duration": 47,
    "start_time": "2022-03-31T14:07:46.605Z"
   },
   {
    "duration": 242,
    "start_time": "2022-03-31T14:09:01.926Z"
   },
   {
    "duration": 171,
    "start_time": "2022-03-31T14:09:09.308Z"
   },
   {
    "duration": 20,
    "start_time": "2022-03-31T14:09:26.865Z"
   },
   {
    "duration": 15,
    "start_time": "2022-03-31T14:09:53.351Z"
   },
   {
    "duration": 14,
    "start_time": "2022-03-31T14:10:04.398Z"
   },
   {
    "duration": 45,
    "start_time": "2022-03-31T14:10:11.237Z"
   },
   {
    "duration": 19,
    "start_time": "2022-03-31T14:11:24.630Z"
   },
   {
    "duration": 20,
    "start_time": "2022-03-31T14:12:09.562Z"
   },
   {
    "duration": 18,
    "start_time": "2022-03-31T14:12:25.223Z"
   },
   {
    "duration": 20,
    "start_time": "2022-03-31T14:12:30.820Z"
   },
   {
    "duration": 23,
    "start_time": "2022-03-31T14:15:11.136Z"
   },
   {
    "duration": 33,
    "start_time": "2022-03-31T14:15:46.814Z"
   },
   {
    "duration": 1607,
    "start_time": "2022-03-31T14:16:55.341Z"
   },
   {
    "duration": 19,
    "start_time": "2022-03-31T14:17:55.233Z"
   },
   {
    "duration": 19,
    "start_time": "2022-03-31T14:21:21.535Z"
   },
   {
    "duration": 27,
    "start_time": "2022-03-31T14:27:59.749Z"
   },
   {
    "duration": 153,
    "start_time": "2022-03-31T14:34:31.973Z"
   },
   {
    "duration": 27,
    "start_time": "2022-03-31T14:34:41.772Z"
   },
   {
    "duration": 22,
    "start_time": "2022-03-31T14:40:17.040Z"
   },
   {
    "duration": 46,
    "start_time": "2022-03-31T14:42:30.507Z"
   },
   {
    "duration": 1512,
    "start_time": "2022-03-31T14:42:49.223Z"
   },
   {
    "duration": 32,
    "start_time": "2022-03-31T14:43:23.156Z"
   },
   {
    "duration": 417,
    "start_time": "2022-03-31T18:29:30.012Z"
   },
   {
    "duration": 59,
    "start_time": "2022-03-31T18:29:30.431Z"
   },
   {
    "duration": 26,
    "start_time": "2022-03-31T18:29:30.492Z"
   },
   {
    "duration": 14,
    "start_time": "2022-03-31T18:29:30.520Z"
   },
   {
    "duration": 23,
    "start_time": "2022-03-31T18:29:30.535Z"
   },
   {
    "duration": 8,
    "start_time": "2022-03-31T18:29:30.560Z"
   },
   {
    "duration": 17,
    "start_time": "2022-03-31T18:29:30.569Z"
   },
   {
    "duration": 5,
    "start_time": "2022-03-31T18:29:30.601Z"
   },
   {
    "duration": 15,
    "start_time": "2022-03-31T18:29:30.608Z"
   },
   {
    "duration": 16,
    "start_time": "2022-03-31T18:29:30.625Z"
   },
   {
    "duration": 15,
    "start_time": "2022-03-31T18:29:30.643Z"
   },
   {
    "duration": 21,
    "start_time": "2022-03-31T18:29:30.660Z"
   },
   {
    "duration": 16,
    "start_time": "2022-03-31T18:29:30.682Z"
   },
   {
    "duration": 13,
    "start_time": "2022-03-31T18:29:30.700Z"
   },
   {
    "duration": 11,
    "start_time": "2022-03-31T18:29:30.715Z"
   },
   {
    "duration": 14,
    "start_time": "2022-03-31T18:29:30.727Z"
   },
   {
    "duration": 24,
    "start_time": "2022-03-31T18:29:30.743Z"
   },
   {
    "duration": 18,
    "start_time": "2022-03-31T18:29:30.768Z"
   },
   {
    "duration": 4,
    "start_time": "2022-03-31T18:29:30.787Z"
   },
   {
    "duration": 9,
    "start_time": "2022-03-31T18:29:30.792Z"
   },
   {
    "duration": 9,
    "start_time": "2022-03-31T18:29:30.802Z"
   },
   {
    "duration": 20,
    "start_time": "2022-03-31T18:29:30.812Z"
   },
   {
    "duration": 17,
    "start_time": "2022-03-31T18:29:30.834Z"
   },
   {
    "duration": 19,
    "start_time": "2022-03-31T18:29:30.852Z"
   },
   {
    "duration": 14,
    "start_time": "2022-03-31T18:29:30.872Z"
   },
   {
    "duration": 25,
    "start_time": "2022-03-31T18:29:30.887Z"
   },
   {
    "duration": 5,
    "start_time": "2022-03-31T18:29:30.914Z"
   },
   {
    "duration": 16,
    "start_time": "2022-03-31T18:29:30.923Z"
   },
   {
    "duration": 13,
    "start_time": "2022-03-31T18:29:30.940Z"
   },
   {
    "duration": 10,
    "start_time": "2022-03-31T18:29:30.955Z"
   },
   {
    "duration": 21,
    "start_time": "2022-03-31T18:29:30.967Z"
   },
   {
    "duration": 21,
    "start_time": "2022-03-31T18:29:30.990Z"
   },
   {
    "duration": 21,
    "start_time": "2022-03-31T18:29:31.013Z"
   },
   {
    "duration": 20,
    "start_time": "2022-03-31T18:29:31.036Z"
   },
   {
    "duration": 19,
    "start_time": "2022-03-31T18:29:31.057Z"
   },
   {
    "duration": 56,
    "start_time": "2022-03-31T18:29:31.078Z"
   },
   {
    "duration": 28,
    "start_time": "2022-03-31T18:29:31.135Z"
   },
   {
    "duration": 18,
    "start_time": "2022-03-31T18:29:31.165Z"
   },
   {
    "duration": 13,
    "start_time": "2022-03-31T18:29:31.184Z"
   },
   {
    "duration": 22,
    "start_time": "2022-03-31T18:29:31.199Z"
   },
   {
    "duration": 11,
    "start_time": "2022-03-31T18:29:31.222Z"
   },
   {
    "duration": 25,
    "start_time": "2022-03-31T18:29:31.234Z"
   },
   {
    "duration": 27,
    "start_time": "2022-03-31T18:29:31.261Z"
   },
   {
    "duration": 10,
    "start_time": "2022-03-31T18:29:31.290Z"
   },
   {
    "duration": 14,
    "start_time": "2022-03-31T18:29:31.301Z"
   },
   {
    "duration": 13,
    "start_time": "2022-03-31T18:29:31.317Z"
   },
   {
    "duration": 18,
    "start_time": "2022-03-31T18:29:31.331Z"
   },
   {
    "duration": 18,
    "start_time": "2022-03-31T18:29:31.351Z"
   },
   {
    "duration": 16,
    "start_time": "2022-03-31T18:29:31.371Z"
   },
   {
    "duration": 28,
    "start_time": "2022-03-31T18:29:31.389Z"
   },
   {
    "duration": 29,
    "start_time": "2022-03-31T18:29:31.419Z"
   },
   {
    "duration": 14,
    "start_time": "2022-03-31T18:29:31.449Z"
   },
   {
    "duration": 22,
    "start_time": "2022-03-31T18:29:31.465Z"
   },
   {
    "duration": 60,
    "start_time": "2022-03-31T18:30:58.689Z"
   },
   {
    "duration": 9,
    "start_time": "2022-03-31T18:31:15.653Z"
   },
   {
    "duration": 12,
    "start_time": "2022-03-31T18:31:23.582Z"
   },
   {
    "duration": 16,
    "start_time": "2022-03-31T18:32:26.378Z"
   },
   {
    "duration": 18,
    "start_time": "2022-03-31T18:33:19.099Z"
   },
   {
    "duration": 18,
    "start_time": "2022-03-31T18:33:19.211Z"
   },
   {
    "duration": 198,
    "start_time": "2022-03-31T18:34:24.942Z"
   },
   {
    "duration": 199,
    "start_time": "2022-03-31T18:34:55.617Z"
   },
   {
    "duration": 3177,
    "start_time": "2022-03-31T18:35:04.524Z"
   },
   {
    "duration": 13,
    "start_time": "2022-03-31T18:35:20.124Z"
   },
   {
    "duration": 13,
    "start_time": "2022-03-31T18:36:47.974Z"
   },
   {
    "duration": 14,
    "start_time": "2022-03-31T18:37:23.636Z"
   },
   {
    "duration": 13,
    "start_time": "2022-03-31T18:40:25.036Z"
   },
   {
    "duration": 15,
    "start_time": "2022-03-31T18:41:19.533Z"
   },
   {
    "duration": 16,
    "start_time": "2022-03-31T18:43:10.477Z"
   },
   {
    "duration": 18,
    "start_time": "2022-03-31T18:48:01.573Z"
   },
   {
    "duration": 191,
    "start_time": "2022-03-31T18:51:12.143Z"
   },
   {
    "duration": 218,
    "start_time": "2022-03-31T18:52:02.122Z"
   },
   {
    "duration": 191,
    "start_time": "2022-03-31T18:52:27.651Z"
   },
   {
    "duration": 209,
    "start_time": "2022-03-31T18:52:55.958Z"
   },
   {
    "duration": 18,
    "start_time": "2022-03-31T18:53:13.200Z"
   },
   {
    "duration": 20,
    "start_time": "2022-03-31T18:53:44.808Z"
   },
   {
    "duration": 17,
    "start_time": "2022-03-31T18:54:09.716Z"
   },
   {
    "duration": 19,
    "start_time": "2022-03-31T18:55:12.358Z"
   },
   {
    "duration": 20,
    "start_time": "2022-03-31T18:55:48.394Z"
   },
   {
    "duration": 17,
    "start_time": "2022-03-31T18:56:34.223Z"
   },
   {
    "duration": 18,
    "start_time": "2022-03-31T18:56:50.448Z"
   },
   {
    "duration": 18,
    "start_time": "2022-03-31T18:57:43.474Z"
   },
   {
    "duration": 185,
    "start_time": "2022-03-31T19:11:10.638Z"
   },
   {
    "duration": 30,
    "start_time": "2022-03-31T19:11:16.577Z"
   },
   {
    "duration": 3221,
    "start_time": "2022-03-31T19:14:11.091Z"
   },
   {
    "duration": 25,
    "start_time": "2022-03-31T19:15:20.974Z"
   },
   {
    "duration": 8,
    "start_time": "2022-03-31T19:15:38.097Z"
   },
   {
    "duration": 20,
    "start_time": "2022-03-31T19:16:06.498Z"
   },
   {
    "duration": 17,
    "start_time": "2022-03-31T19:19:42.329Z"
   },
   {
    "duration": 18,
    "start_time": "2022-03-31T19:20:26.354Z"
   },
   {
    "duration": 17,
    "start_time": "2022-03-31T19:20:34.687Z"
   },
   {
    "duration": 10,
    "start_time": "2022-03-31T19:28:42.430Z"
   },
   {
    "duration": 12,
    "start_time": "2022-03-31T19:29:06.724Z"
   },
   {
    "duration": 12,
    "start_time": "2022-03-31T19:34:46.104Z"
   },
   {
    "duration": 12,
    "start_time": "2022-03-31T19:35:28.200Z"
   },
   {
    "duration": 17,
    "start_time": "2022-03-31T19:35:34.442Z"
   },
   {
    "duration": 11,
    "start_time": "2022-03-31T19:35:52.714Z"
   },
   {
    "duration": 26,
    "start_time": "2022-03-31T19:40:20.552Z"
   },
   {
    "duration": 18,
    "start_time": "2022-03-31T19:41:13.444Z"
   },
   {
    "duration": 17,
    "start_time": "2022-03-31T19:43:40.411Z"
   },
   {
    "duration": 70,
    "start_time": "2022-04-01T08:09:52.258Z"
   },
   {
    "duration": 501,
    "start_time": "2022-04-01T08:42:36.400Z"
   },
   {
    "duration": 85,
    "start_time": "2022-04-01T08:42:36.903Z"
   },
   {
    "duration": 33,
    "start_time": "2022-04-01T08:42:36.990Z"
   },
   {
    "duration": 21,
    "start_time": "2022-04-01T08:42:37.026Z"
   },
   {
    "duration": 39,
    "start_time": "2022-04-01T08:42:37.049Z"
   },
   {
    "duration": 22,
    "start_time": "2022-04-01T08:42:37.090Z"
   },
   {
    "duration": 44,
    "start_time": "2022-04-01T08:42:37.114Z"
   },
   {
    "duration": 6,
    "start_time": "2022-04-01T08:42:37.160Z"
   },
   {
    "duration": 25,
    "start_time": "2022-04-01T08:42:37.168Z"
   },
   {
    "duration": 26,
    "start_time": "2022-04-01T08:42:37.197Z"
   },
   {
    "duration": 26,
    "start_time": "2022-04-01T08:42:37.225Z"
   },
   {
    "duration": 27,
    "start_time": "2022-04-01T08:42:37.254Z"
   },
   {
    "duration": 108,
    "start_time": "2022-04-01T08:42:37.284Z"
   },
   {
    "duration": 0,
    "start_time": "2022-04-01T08:42:37.396Z"
   },
   {
    "duration": 0,
    "start_time": "2022-04-01T08:42:37.397Z"
   },
   {
    "duration": 0,
    "start_time": "2022-04-01T08:42:37.399Z"
   },
   {
    "duration": 0,
    "start_time": "2022-04-01T08:42:37.400Z"
   },
   {
    "duration": 0,
    "start_time": "2022-04-01T08:42:37.402Z"
   },
   {
    "duration": 1,
    "start_time": "2022-04-01T08:42:37.403Z"
   },
   {
    "duration": 0,
    "start_time": "2022-04-01T08:42:37.405Z"
   },
   {
    "duration": 0,
    "start_time": "2022-04-01T08:42:37.406Z"
   },
   {
    "duration": 0,
    "start_time": "2022-04-01T08:42:37.408Z"
   },
   {
    "duration": 0,
    "start_time": "2022-04-01T08:42:37.409Z"
   },
   {
    "duration": 0,
    "start_time": "2022-04-01T08:42:37.411Z"
   },
   {
    "duration": 0,
    "start_time": "2022-04-01T08:42:37.412Z"
   },
   {
    "duration": 0,
    "start_time": "2022-04-01T08:42:37.414Z"
   },
   {
    "duration": 0,
    "start_time": "2022-04-01T08:42:37.415Z"
   },
   {
    "duration": 0,
    "start_time": "2022-04-01T08:42:37.417Z"
   },
   {
    "duration": 0,
    "start_time": "2022-04-01T08:42:37.418Z"
   },
   {
    "duration": 0,
    "start_time": "2022-04-01T08:42:37.419Z"
   },
   {
    "duration": 0,
    "start_time": "2022-04-01T08:42:37.421Z"
   },
   {
    "duration": 0,
    "start_time": "2022-04-01T08:42:37.422Z"
   },
   {
    "duration": 0,
    "start_time": "2022-04-01T08:42:37.424Z"
   },
   {
    "duration": 0,
    "start_time": "2022-04-01T08:42:37.425Z"
   },
   {
    "duration": 0,
    "start_time": "2022-04-01T08:42:37.427Z"
   },
   {
    "duration": 0,
    "start_time": "2022-04-01T08:42:37.429Z"
   },
   {
    "duration": 0,
    "start_time": "2022-04-01T08:42:37.431Z"
   },
   {
    "duration": 0,
    "start_time": "2022-04-01T08:42:37.484Z"
   },
   {
    "duration": 0,
    "start_time": "2022-04-01T08:42:37.486Z"
   },
   {
    "duration": 0,
    "start_time": "2022-04-01T08:42:37.487Z"
   },
   {
    "duration": 0,
    "start_time": "2022-04-01T08:42:37.489Z"
   },
   {
    "duration": 0,
    "start_time": "2022-04-01T08:42:37.490Z"
   },
   {
    "duration": 0,
    "start_time": "2022-04-01T08:42:37.491Z"
   },
   {
    "duration": 0,
    "start_time": "2022-04-01T08:42:37.493Z"
   },
   {
    "duration": 0,
    "start_time": "2022-04-01T08:42:37.494Z"
   },
   {
    "duration": 0,
    "start_time": "2022-04-01T08:42:37.495Z"
   },
   {
    "duration": 0,
    "start_time": "2022-04-01T08:42:37.497Z"
   },
   {
    "duration": 0,
    "start_time": "2022-04-01T08:42:37.498Z"
   },
   {
    "duration": 0,
    "start_time": "2022-04-01T08:42:37.500Z"
   },
   {
    "duration": 0,
    "start_time": "2022-04-01T08:42:37.501Z"
   },
   {
    "duration": 0,
    "start_time": "2022-04-01T08:42:37.503Z"
   },
   {
    "duration": 0,
    "start_time": "2022-04-01T08:42:37.504Z"
   },
   {
    "duration": 0,
    "start_time": "2022-04-01T08:42:37.505Z"
   },
   {
    "duration": 0,
    "start_time": "2022-04-01T08:42:37.507Z"
   },
   {
    "duration": 529,
    "start_time": "2022-04-01T08:43:22.130Z"
   },
   {
    "duration": 96,
    "start_time": "2022-04-01T08:43:22.662Z"
   },
   {
    "duration": 43,
    "start_time": "2022-04-01T08:43:22.760Z"
   },
   {
    "duration": 22,
    "start_time": "2022-04-01T08:43:22.805Z"
   },
   {
    "duration": 14,
    "start_time": "2022-04-01T08:43:22.830Z"
   },
   {
    "duration": 8,
    "start_time": "2022-04-01T08:43:22.846Z"
   },
   {
    "duration": 25,
    "start_time": "2022-04-01T08:43:22.884Z"
   },
   {
    "duration": 6,
    "start_time": "2022-04-01T08:43:22.911Z"
   },
   {
    "duration": 22,
    "start_time": "2022-04-01T08:43:22.919Z"
   },
   {
    "duration": 11,
    "start_time": "2022-04-01T08:43:22.943Z"
   },
   {
    "duration": 8,
    "start_time": "2022-04-01T08:43:22.984Z"
   },
   {
    "duration": 15,
    "start_time": "2022-04-01T08:43:22.995Z"
   },
   {
    "duration": 12,
    "start_time": "2022-04-01T08:43:23.012Z"
   },
   {
    "duration": 5,
    "start_time": "2022-04-01T08:43:23.029Z"
   },
   {
    "duration": 14,
    "start_time": "2022-04-01T08:43:23.036Z"
   },
   {
    "duration": 33,
    "start_time": "2022-04-01T08:43:23.052Z"
   },
   {
    "duration": 38,
    "start_time": "2022-04-01T08:43:23.087Z"
   },
   {
    "duration": 64,
    "start_time": "2022-04-01T08:43:23.127Z"
   },
   {
    "duration": 10,
    "start_time": "2022-04-01T08:43:23.193Z"
   },
   {
    "duration": 8,
    "start_time": "2022-04-01T08:43:23.205Z"
   },
   {
    "duration": 14,
    "start_time": "2022-04-01T08:43:23.215Z"
   },
   {
    "duration": 8,
    "start_time": "2022-04-01T08:43:23.232Z"
   },
   {
    "duration": 44,
    "start_time": "2022-04-01T08:43:23.243Z"
   },
   {
    "duration": 8,
    "start_time": "2022-04-01T08:43:23.290Z"
   },
   {
    "duration": 36,
    "start_time": "2022-04-01T08:43:23.301Z"
   },
   {
    "duration": 9,
    "start_time": "2022-04-01T08:43:23.339Z"
   },
   {
    "duration": 45,
    "start_time": "2022-04-01T08:43:23.351Z"
   },
   {
    "duration": 17,
    "start_time": "2022-04-01T08:43:23.399Z"
   },
   {
    "duration": 44,
    "start_time": "2022-04-01T08:43:23.418Z"
   },
   {
    "duration": 33,
    "start_time": "2022-04-01T08:43:23.463Z"
   },
   {
    "duration": 30,
    "start_time": "2022-04-01T08:43:23.498Z"
   },
   {
    "duration": 27,
    "start_time": "2022-04-01T08:43:23.531Z"
   },
   {
    "duration": 12,
    "start_time": "2022-04-01T08:43:23.583Z"
   },
   {
    "duration": 22,
    "start_time": "2022-04-01T08:43:23.597Z"
   },
   {
    "duration": 18,
    "start_time": "2022-04-01T08:43:23.621Z"
   },
   {
    "duration": 43,
    "start_time": "2022-04-01T08:43:23.641Z"
   },
   {
    "duration": 15,
    "start_time": "2022-04-01T08:43:23.687Z"
   },
   {
    "duration": 6,
    "start_time": "2022-04-01T08:43:23.704Z"
   },
   {
    "duration": 22,
    "start_time": "2022-04-01T08:43:23.712Z"
   },
   {
    "duration": 16,
    "start_time": "2022-04-01T08:43:23.736Z"
   },
   {
    "duration": 10,
    "start_time": "2022-04-01T08:43:23.787Z"
   },
   {
    "duration": 6,
    "start_time": "2022-04-01T08:43:23.800Z"
   },
   {
    "duration": 21,
    "start_time": "2022-04-01T08:43:23.809Z"
   },
   {
    "duration": 18,
    "start_time": "2022-04-01T08:43:23.833Z"
   },
   {
    "duration": 42,
    "start_time": "2022-04-01T08:43:23.854Z"
   },
   {
    "duration": 9,
    "start_time": "2022-04-01T08:43:23.899Z"
   },
   {
    "duration": 28,
    "start_time": "2022-04-01T08:43:23.910Z"
   },
   {
    "duration": 62,
    "start_time": "2022-04-01T08:43:23.940Z"
   },
   {
    "duration": 29,
    "start_time": "2022-04-01T08:43:24.004Z"
   },
   {
    "duration": 54,
    "start_time": "2022-04-01T08:43:24.035Z"
   },
   {
    "duration": 104,
    "start_time": "2022-04-01T08:43:24.091Z"
   },
   {
    "duration": 0,
    "start_time": "2022-04-01T08:43:24.197Z"
   },
   {
    "duration": 0,
    "start_time": "2022-04-01T08:43:24.199Z"
   },
   {
    "duration": 24,
    "start_time": "2022-04-01T08:44:27.943Z"
   },
   {
    "duration": 28,
    "start_time": "2022-04-01T08:45:08.298Z"
   },
   {
    "duration": 109,
    "start_time": "2022-04-01T09:14:48.091Z"
   },
   {
    "duration": 566,
    "start_time": "2022-04-01T09:15:10.433Z"
   },
   {
    "duration": 73,
    "start_time": "2022-04-01T09:15:11.002Z"
   },
   {
    "duration": 42,
    "start_time": "2022-04-01T09:15:11.078Z"
   },
   {
    "duration": 24,
    "start_time": "2022-04-01T09:15:11.123Z"
   },
   {
    "duration": 39,
    "start_time": "2022-04-01T09:15:11.150Z"
   },
   {
    "duration": 6,
    "start_time": "2022-04-01T09:15:11.191Z"
   },
   {
    "duration": 31,
    "start_time": "2022-04-01T09:15:11.199Z"
   },
   {
    "duration": 6,
    "start_time": "2022-04-01T09:15:11.232Z"
   },
   {
    "duration": 46,
    "start_time": "2022-04-01T09:15:11.240Z"
   },
   {
    "duration": 10,
    "start_time": "2022-04-01T09:15:11.290Z"
   },
   {
    "duration": 6,
    "start_time": "2022-04-01T09:15:11.302Z"
   },
   {
    "duration": 11,
    "start_time": "2022-04-01T09:15:11.311Z"
   },
   {
    "duration": 12,
    "start_time": "2022-04-01T09:15:11.325Z"
   },
   {
    "duration": 46,
    "start_time": "2022-04-01T09:15:11.340Z"
   },
   {
    "duration": 28,
    "start_time": "2022-04-01T09:15:11.389Z"
   },
   {
    "duration": 9,
    "start_time": "2022-04-01T09:15:11.420Z"
   },
   {
    "duration": 42,
    "start_time": "2022-04-01T09:15:11.431Z"
   },
   {
    "duration": 35,
    "start_time": "2022-04-01T09:15:11.483Z"
   },
   {
    "duration": 6,
    "start_time": "2022-04-01T09:15:11.521Z"
   },
   {
    "duration": 12,
    "start_time": "2022-04-01T09:15:11.530Z"
   },
   {
    "duration": 49,
    "start_time": "2022-04-01T09:15:11.544Z"
   },
   {
    "duration": 9,
    "start_time": "2022-04-01T09:15:11.595Z"
   },
   {
    "duration": 10,
    "start_time": "2022-04-01T09:15:11.607Z"
   },
   {
    "duration": 7,
    "start_time": "2022-04-01T09:15:11.619Z"
   },
   {
    "duration": 22,
    "start_time": "2022-04-01T09:15:11.628Z"
   },
   {
    "duration": 8,
    "start_time": "2022-04-01T09:15:11.684Z"
   },
   {
    "duration": 16,
    "start_time": "2022-04-01T09:15:11.694Z"
   },
   {
    "duration": 8,
    "start_time": "2022-04-01T09:15:11.715Z"
   },
   {
    "duration": 65,
    "start_time": "2022-04-01T09:15:11.725Z"
   },
   {
    "duration": 27,
    "start_time": "2022-04-01T09:15:11.792Z"
   },
   {
    "duration": 27,
    "start_time": "2022-04-01T09:15:11.821Z"
   },
   {
    "duration": 54,
    "start_time": "2022-04-01T09:15:11.851Z"
   },
   {
    "duration": 11,
    "start_time": "2022-04-01T09:15:11.907Z"
   },
   {
    "duration": 22,
    "start_time": "2022-04-01T09:15:11.920Z"
   },
   {
    "duration": 41,
    "start_time": "2022-04-01T09:15:11.944Z"
   },
   {
    "duration": 9,
    "start_time": "2022-04-01T09:15:11.987Z"
   },
   {
    "duration": 23,
    "start_time": "2022-04-01T09:15:11.998Z"
   },
   {
    "duration": 8,
    "start_time": "2022-04-01T09:15:12.023Z"
   },
   {
    "duration": 20,
    "start_time": "2022-04-01T09:15:12.033Z"
   },
   {
    "duration": 41,
    "start_time": "2022-04-01T09:15:12.055Z"
   },
   {
    "duration": 20,
    "start_time": "2022-04-01T09:15:12.098Z"
   },
   {
    "duration": 8,
    "start_time": "2022-04-01T09:15:12.121Z"
   },
   {
    "duration": 17,
    "start_time": "2022-04-01T09:15:12.131Z"
   },
   {
    "duration": 40,
    "start_time": "2022-04-01T09:15:12.151Z"
   },
   {
    "duration": 29,
    "start_time": "2022-04-01T09:15:12.194Z"
   },
   {
    "duration": 13,
    "start_time": "2022-04-01T09:15:12.226Z"
   },
   {
    "duration": 113,
    "start_time": "2022-04-01T09:15:12.241Z"
   },
   {
    "duration": 116,
    "start_time": "2022-04-01T09:15:59.135Z"
   },
   {
    "duration": 28,
    "start_time": "2022-04-01T09:16:36.059Z"
   },
   {
    "duration": 27,
    "start_time": "2022-04-01T09:16:50.094Z"
   },
   {
    "duration": 139,
    "start_time": "2022-04-01T09:16:59.699Z"
   },
   {
    "duration": 26,
    "start_time": "2022-04-01T09:17:15.705Z"
   },
   {
    "duration": 25,
    "start_time": "2022-04-01T09:17:41.715Z"
   },
   {
    "duration": 26,
    "start_time": "2022-04-01T09:18:17.848Z"
   },
   {
    "duration": 8,
    "start_time": "2022-04-01T09:33:09.454Z"
   },
   {
    "duration": 577,
    "start_time": "2022-04-01T09:33:32.353Z"
   },
   {
    "duration": 80,
    "start_time": "2022-04-01T09:33:32.933Z"
   },
   {
    "duration": 36,
    "start_time": "2022-04-01T09:33:33.015Z"
   },
   {
    "duration": 44,
    "start_time": "2022-04-01T09:33:33.054Z"
   },
   {
    "duration": 37,
    "start_time": "2022-04-01T09:33:33.100Z"
   },
   {
    "duration": 17,
    "start_time": "2022-04-01T09:33:33.139Z"
   },
   {
    "duration": 36,
    "start_time": "2022-04-01T09:33:33.158Z"
   },
   {
    "duration": 28,
    "start_time": "2022-04-01T09:33:33.196Z"
   },
   {
    "duration": 6,
    "start_time": "2022-04-01T09:33:33.226Z"
   },
   {
    "duration": 15,
    "start_time": "2022-04-01T09:33:33.236Z"
   },
   {
    "duration": 35,
    "start_time": "2022-04-01T09:33:33.253Z"
   },
   {
    "duration": 19,
    "start_time": "2022-04-01T09:33:33.290Z"
   },
   {
    "duration": 19,
    "start_time": "2022-04-01T09:33:33.311Z"
   },
   {
    "duration": 20,
    "start_time": "2022-04-01T09:33:33.332Z"
   },
   {
    "duration": 8,
    "start_time": "2022-04-01T09:33:33.354Z"
   },
   {
    "duration": 21,
    "start_time": "2022-04-01T09:33:33.365Z"
   },
   {
    "duration": 19,
    "start_time": "2022-04-01T09:33:33.388Z"
   },
   {
    "duration": 46,
    "start_time": "2022-04-01T09:33:33.409Z"
   },
   {
    "duration": 47,
    "start_time": "2022-04-01T09:33:33.458Z"
   },
   {
    "duration": 8,
    "start_time": "2022-04-01T09:33:33.508Z"
   },
   {
    "duration": 8,
    "start_time": "2022-04-01T09:33:33.519Z"
   },
   {
    "duration": 19,
    "start_time": "2022-04-01T09:33:33.529Z"
   },
   {
    "duration": 34,
    "start_time": "2022-04-01T09:33:33.551Z"
   },
   {
    "duration": 19,
    "start_time": "2022-04-01T09:33:33.589Z"
   },
   {
    "duration": 10,
    "start_time": "2022-04-01T09:33:33.610Z"
   },
   {
    "duration": 23,
    "start_time": "2022-04-01T09:33:33.622Z"
   },
   {
    "duration": 7,
    "start_time": "2022-04-01T09:33:33.647Z"
   },
   {
    "duration": 15,
    "start_time": "2022-04-01T09:33:33.688Z"
   },
   {
    "duration": 76,
    "start_time": "2022-04-01T09:33:33.706Z"
   },
   {
    "duration": 38,
    "start_time": "2022-04-01T09:33:33.784Z"
   },
   {
    "duration": 28,
    "start_time": "2022-04-01T09:33:33.824Z"
   },
   {
    "duration": 46,
    "start_time": "2022-04-01T09:33:33.854Z"
   },
   {
    "duration": 26,
    "start_time": "2022-04-01T09:33:33.902Z"
   },
   {
    "duration": 11,
    "start_time": "2022-04-01T09:33:33.930Z"
   },
   {
    "duration": 47,
    "start_time": "2022-04-01T09:33:33.943Z"
   },
   {
    "duration": 17,
    "start_time": "2022-04-01T09:33:33.992Z"
   },
   {
    "duration": 8,
    "start_time": "2022-04-01T09:33:34.012Z"
   },
   {
    "duration": 25,
    "start_time": "2022-04-01T09:33:34.022Z"
   },
   {
    "duration": 34,
    "start_time": "2022-04-01T09:33:34.050Z"
   },
   {
    "duration": 15,
    "start_time": "2022-04-01T09:33:34.086Z"
   },
   {
    "duration": 18,
    "start_time": "2022-04-01T09:33:34.104Z"
   },
   {
    "duration": 16,
    "start_time": "2022-04-01T09:33:34.125Z"
   },
   {
    "duration": 44,
    "start_time": "2022-04-01T09:33:34.143Z"
   },
   {
    "duration": 17,
    "start_time": "2022-04-01T09:33:34.189Z"
   },
   {
    "duration": 27,
    "start_time": "2022-04-01T09:33:34.208Z"
   },
   {
    "duration": 21,
    "start_time": "2022-04-01T09:33:34.237Z"
   },
   {
    "duration": 23,
    "start_time": "2022-04-01T09:33:34.260Z"
   },
   {
    "duration": 27,
    "start_time": "2022-04-01T09:33:34.286Z"
   },
   {
    "duration": 32,
    "start_time": "2022-04-01T09:33:34.314Z"
   },
   {
    "duration": 55,
    "start_time": "2022-04-01T09:33:34.348Z"
   },
   {
    "duration": 28,
    "start_time": "2022-04-01T09:33:34.405Z"
   },
   {
    "duration": 121,
    "start_time": "2022-04-01T09:33:34.435Z"
   },
   {
    "duration": 0,
    "start_time": "2022-04-01T09:33:34.558Z"
   },
   {
    "duration": 0,
    "start_time": "2022-04-01T09:33:34.559Z"
   },
   {
    "duration": 1940,
    "start_time": "2022-04-01T09:35:57.237Z"
   },
   {
    "duration": 6,
    "start_time": "2022-04-01T09:36:07.153Z"
   },
   {
    "duration": 514,
    "start_time": "2022-04-01T09:36:23.181Z"
   },
   {
    "duration": 74,
    "start_time": "2022-04-01T09:36:23.697Z"
   },
   {
    "duration": 34,
    "start_time": "2022-04-01T09:36:23.773Z"
   },
   {
    "duration": 22,
    "start_time": "2022-04-01T09:36:23.809Z"
   },
   {
    "duration": 13,
    "start_time": "2022-04-01T09:36:23.833Z"
   },
   {
    "duration": 42,
    "start_time": "2022-04-01T09:36:23.848Z"
   },
   {
    "duration": 2110,
    "start_time": "2022-04-01T09:36:33.306Z"
   },
   {
    "duration": 7,
    "start_time": "2022-04-01T09:36:41.345Z"
   },
   {
    "duration": 14,
    "start_time": "2022-04-01T09:36:55.519Z"
   },
   {
    "duration": 6,
    "start_time": "2022-04-01T09:37:08.751Z"
   },
   {
    "duration": 7,
    "start_time": "2022-04-01T09:37:52.574Z"
   },
   {
    "duration": 32,
    "start_time": "2022-04-01T09:45:05.054Z"
   },
   {
    "duration": 21,
    "start_time": "2022-04-01T09:54:07.836Z"
   },
   {
    "duration": 24,
    "start_time": "2022-04-01T09:54:22.387Z"
   },
   {
    "duration": 24,
    "start_time": "2022-04-01T09:54:46.305Z"
   },
   {
    "duration": 22,
    "start_time": "2022-04-01T09:55:04.563Z"
   },
   {
    "duration": 22,
    "start_time": "2022-04-01T09:55:38.933Z"
   },
   {
    "duration": 22,
    "start_time": "2022-04-01T09:55:52.798Z"
   },
   {
    "duration": 6,
    "start_time": "2022-04-01T09:58:49.867Z"
   },
   {
    "duration": 27,
    "start_time": "2022-04-01T09:59:40.274Z"
   },
   {
    "duration": 30,
    "start_time": "2022-04-01T10:00:41.616Z"
   },
   {
    "duration": 30,
    "start_time": "2022-04-01T10:00:52.139Z"
   },
   {
    "duration": 30,
    "start_time": "2022-04-01T10:01:02.768Z"
   },
   {
    "duration": 11,
    "start_time": "2022-04-01T10:02:17.970Z"
   },
   {
    "duration": 527,
    "start_time": "2022-04-01T10:02:27.529Z"
   },
   {
    "duration": 1555,
    "start_time": "2022-04-01T10:02:28.058Z"
   },
   {
    "duration": 34,
    "start_time": "2022-04-01T10:02:29.615Z"
   },
   {
    "duration": 37,
    "start_time": "2022-04-01T10:02:29.652Z"
   },
   {
    "duration": 13,
    "start_time": "2022-04-01T10:02:29.692Z"
   },
   {
    "duration": 10,
    "start_time": "2022-04-01T10:02:29.707Z"
   },
   {
    "duration": 29,
    "start_time": "2022-04-01T10:02:29.719Z"
   },
   {
    "duration": 37,
    "start_time": "2022-04-01T10:02:29.751Z"
   },
   {
    "duration": 22,
    "start_time": "2022-04-01T10:02:29.790Z"
   },
   {
    "duration": 10,
    "start_time": "2022-04-01T10:02:29.816Z"
   },
   {
    "duration": 18,
    "start_time": "2022-04-01T10:02:29.828Z"
   },
   {
    "duration": 21,
    "start_time": "2022-04-01T10:02:29.848Z"
   },
   {
    "duration": 20,
    "start_time": "2022-04-01T10:02:29.871Z"
   },
   {
    "duration": 25,
    "start_time": "2022-04-01T10:02:29.893Z"
   },
   {
    "duration": 40,
    "start_time": "2022-04-01T10:02:29.920Z"
   },
   {
    "duration": 26,
    "start_time": "2022-04-01T10:02:29.962Z"
   },
   {
    "duration": 41,
    "start_time": "2022-04-01T10:02:29.990Z"
   },
   {
    "duration": 33,
    "start_time": "2022-04-01T10:02:30.033Z"
   },
   {
    "duration": 18,
    "start_time": "2022-04-01T10:02:30.068Z"
   },
   {
    "duration": 17,
    "start_time": "2022-04-01T10:02:30.089Z"
   },
   {
    "duration": 27,
    "start_time": "2022-04-01T10:02:30.108Z"
   },
   {
    "duration": 24,
    "start_time": "2022-04-01T10:02:30.137Z"
   },
   {
    "duration": 27,
    "start_time": "2022-04-01T10:02:30.163Z"
   },
   {
    "duration": 18,
    "start_time": "2022-04-01T10:02:30.192Z"
   },
   {
    "duration": 58,
    "start_time": "2022-04-01T10:02:30.213Z"
   },
   {
    "duration": 19,
    "start_time": "2022-04-01T10:02:30.273Z"
   },
   {
    "duration": 31,
    "start_time": "2022-04-01T10:02:30.294Z"
   },
   {
    "duration": 17,
    "start_time": "2022-04-01T10:02:30.330Z"
   },
   {
    "duration": 53,
    "start_time": "2022-04-01T10:02:30.350Z"
   },
   {
    "duration": 37,
    "start_time": "2022-04-01T10:02:30.406Z"
   },
   {
    "duration": 39,
    "start_time": "2022-04-01T10:02:30.445Z"
   },
   {
    "duration": 26,
    "start_time": "2022-04-01T10:02:30.486Z"
   },
   {
    "duration": 12,
    "start_time": "2022-04-01T10:02:30.514Z"
   },
   {
    "duration": 39,
    "start_time": "2022-04-01T10:02:30.528Z"
   },
   {
    "duration": 33,
    "start_time": "2022-04-01T10:02:30.569Z"
   },
   {
    "duration": 12,
    "start_time": "2022-04-01T10:02:30.604Z"
   },
   {
    "duration": 31,
    "start_time": "2022-04-01T10:02:30.618Z"
   },
   {
    "duration": 23,
    "start_time": "2022-04-01T10:02:30.651Z"
   },
   {
    "duration": 31,
    "start_time": "2022-04-01T10:02:30.676Z"
   },
   {
    "duration": 37,
    "start_time": "2022-04-01T10:02:30.709Z"
   },
   {
    "duration": 28,
    "start_time": "2022-04-01T10:02:30.748Z"
   },
   {
    "duration": 19,
    "start_time": "2022-04-01T10:02:30.778Z"
   },
   {
    "duration": 29,
    "start_time": "2022-04-01T10:02:30.799Z"
   },
   {
    "duration": 39,
    "start_time": "2022-04-01T10:02:30.830Z"
   },
   {
    "duration": 34,
    "start_time": "2022-04-01T10:02:30.871Z"
   },
   {
    "duration": 25,
    "start_time": "2022-04-01T10:02:30.907Z"
   },
   {
    "duration": 24,
    "start_time": "2022-04-01T10:02:30.934Z"
   },
   {
    "duration": 60,
    "start_time": "2022-04-01T10:02:30.961Z"
   },
   {
    "duration": 42,
    "start_time": "2022-04-01T10:02:31.023Z"
   },
   {
    "duration": 21,
    "start_time": "2022-04-01T10:02:31.067Z"
   },
   {
    "duration": 112,
    "start_time": "2022-04-01T10:08:29.792Z"
   },
   {
    "duration": 29,
    "start_time": "2022-04-01T10:09:57.600Z"
   },
   {
    "duration": 533,
    "start_time": "2022-04-01T10:10:27.899Z"
   },
   {
    "duration": 82,
    "start_time": "2022-04-01T10:10:28.435Z"
   },
   {
    "duration": 34,
    "start_time": "2022-04-01T10:10:28.519Z"
   },
   {
    "duration": 41,
    "start_time": "2022-04-01T10:10:28.556Z"
   },
   {
    "duration": 14,
    "start_time": "2022-04-01T10:10:28.599Z"
   },
   {
    "duration": 26,
    "start_time": "2022-04-01T10:10:28.615Z"
   },
   {
    "duration": 47,
    "start_time": "2022-04-01T10:10:28.643Z"
   },
   {
    "duration": 7,
    "start_time": "2022-04-01T10:10:28.693Z"
   },
   {
    "duration": 43,
    "start_time": "2022-04-01T10:10:28.702Z"
   },
   {
    "duration": 12,
    "start_time": "2022-04-01T10:10:28.749Z"
   },
   {
    "duration": 32,
    "start_time": "2022-04-01T10:10:28.763Z"
   },
   {
    "duration": 37,
    "start_time": "2022-04-01T10:10:28.797Z"
   },
   {
    "duration": 21,
    "start_time": "2022-04-01T10:10:28.836Z"
   },
   {
    "duration": 13,
    "start_time": "2022-04-01T10:10:28.860Z"
   },
   {
    "duration": 22,
    "start_time": "2022-04-01T10:10:28.875Z"
   },
   {
    "duration": 21,
    "start_time": "2022-04-01T10:10:28.900Z"
   },
   {
    "duration": 55,
    "start_time": "2022-04-01T10:10:28.924Z"
   },
   {
    "duration": 34,
    "start_time": "2022-04-01T10:10:28.981Z"
   },
   {
    "duration": 5,
    "start_time": "2022-04-01T10:10:29.017Z"
   },
   {
    "duration": 28,
    "start_time": "2022-04-01T10:10:29.024Z"
   },
   {
    "duration": 17,
    "start_time": "2022-04-01T10:10:29.054Z"
   },
   {
    "duration": 8,
    "start_time": "2022-04-01T10:10:29.083Z"
   },
   {
    "duration": 21,
    "start_time": "2022-04-01T10:10:29.093Z"
   },
   {
    "duration": 15,
    "start_time": "2022-04-01T10:10:29.116Z"
   },
   {
    "duration": 42,
    "start_time": "2022-04-01T10:10:29.133Z"
   },
   {
    "duration": 12,
    "start_time": "2022-04-01T10:10:29.177Z"
   },
   {
    "duration": 43,
    "start_time": "2022-04-01T10:10:29.191Z"
   },
   {
    "duration": 28,
    "start_time": "2022-04-01T10:10:29.241Z"
   },
   {
    "duration": 44,
    "start_time": "2022-04-01T10:10:29.272Z"
   },
   {
    "duration": 30,
    "start_time": "2022-04-01T10:10:29.318Z"
   },
   {
    "duration": 52,
    "start_time": "2022-04-01T10:10:29.350Z"
   },
   {
    "duration": 28,
    "start_time": "2022-04-01T10:10:29.404Z"
   },
   {
    "duration": 11,
    "start_time": "2022-04-01T10:10:29.435Z"
   },
   {
    "duration": 48,
    "start_time": "2022-04-01T10:10:29.449Z"
   },
   {
    "duration": 20,
    "start_time": "2022-04-01T10:10:29.499Z"
   },
   {
    "duration": 10,
    "start_time": "2022-04-01T10:10:29.522Z"
   },
   {
    "duration": 49,
    "start_time": "2022-04-01T10:10:29.535Z"
   },
   {
    "duration": 30,
    "start_time": "2022-04-01T10:10:29.587Z"
   },
   {
    "duration": 44,
    "start_time": "2022-04-01T10:10:29.620Z"
   },
   {
    "duration": 33,
    "start_time": "2022-04-01T10:10:29.667Z"
   },
   {
    "duration": 21,
    "start_time": "2022-04-01T10:10:29.703Z"
   },
   {
    "duration": 25,
    "start_time": "2022-04-01T10:10:29.727Z"
   },
   {
    "duration": 26,
    "start_time": "2022-04-01T10:10:29.755Z"
   },
   {
    "duration": 30,
    "start_time": "2022-04-01T10:10:29.784Z"
   },
   {
    "duration": 36,
    "start_time": "2022-04-01T10:10:29.817Z"
   },
   {
    "duration": 21,
    "start_time": "2022-04-01T10:10:29.856Z"
   },
   {
    "duration": 23,
    "start_time": "2022-04-01T10:10:29.879Z"
   },
   {
    "duration": 36,
    "start_time": "2022-04-01T10:10:29.904Z"
   },
   {
    "duration": 29,
    "start_time": "2022-04-01T10:10:29.943Z"
   },
   {
    "duration": 28,
    "start_time": "2022-04-01T10:10:29.975Z"
   },
   {
    "duration": 30,
    "start_time": "2022-04-01T10:15:34.339Z"
   },
   {
    "duration": 30,
    "start_time": "2022-04-01T10:18:28.799Z"
   },
   {
    "duration": 570,
    "start_time": "2022-04-01T10:51:08.756Z"
   },
   {
    "duration": 80,
    "start_time": "2022-04-01T10:51:09.329Z"
   },
   {
    "duration": 34,
    "start_time": "2022-04-01T10:51:09.412Z"
   },
   {
    "duration": 41,
    "start_time": "2022-04-01T10:51:09.450Z"
   },
   {
    "duration": 20,
    "start_time": "2022-04-01T10:51:09.494Z"
   },
   {
    "duration": 20,
    "start_time": "2022-04-01T10:51:09.516Z"
   },
   {
    "duration": 45,
    "start_time": "2022-04-01T10:51:09.538Z"
   },
   {
    "duration": 5,
    "start_time": "2022-04-01T10:51:09.586Z"
   },
   {
    "duration": 48,
    "start_time": "2022-04-01T10:51:09.593Z"
   },
   {
    "duration": 21,
    "start_time": "2022-04-01T10:51:09.646Z"
   },
   {
    "duration": 12,
    "start_time": "2022-04-01T10:51:09.670Z"
   },
   {
    "duration": 18,
    "start_time": "2022-04-01T10:51:09.684Z"
   },
   {
    "duration": 42,
    "start_time": "2022-04-01T10:51:09.705Z"
   },
   {
    "duration": 13,
    "start_time": "2022-04-01T10:51:09.750Z"
   },
   {
    "duration": 29,
    "start_time": "2022-04-01T10:51:09.765Z"
   },
   {
    "duration": 20,
    "start_time": "2022-04-01T10:51:09.797Z"
   },
   {
    "duration": 48,
    "start_time": "2022-04-01T10:51:09.820Z"
   },
   {
    "duration": 44,
    "start_time": "2022-04-01T10:51:09.871Z"
   },
   {
    "duration": 7,
    "start_time": "2022-04-01T10:51:09.917Z"
   },
   {
    "duration": 37,
    "start_time": "2022-04-01T10:51:09.926Z"
   },
   {
    "duration": 21,
    "start_time": "2022-04-01T10:51:09.965Z"
   },
   {
    "duration": 15,
    "start_time": "2022-04-01T10:51:09.988Z"
   },
   {
    "duration": 32,
    "start_time": "2022-04-01T10:51:10.005Z"
   },
   {
    "duration": 39,
    "start_time": "2022-04-01T10:51:10.039Z"
   },
   {
    "duration": 41,
    "start_time": "2022-04-01T10:51:10.080Z"
   },
   {
    "duration": 20,
    "start_time": "2022-04-01T10:51:10.123Z"
   },
   {
    "duration": 26,
    "start_time": "2022-04-01T10:51:10.145Z"
   },
   {
    "duration": 21,
    "start_time": "2022-04-01T10:51:10.177Z"
   },
   {
    "duration": 46,
    "start_time": "2022-04-01T10:51:10.200Z"
   },
   {
    "duration": 27,
    "start_time": "2022-04-01T10:51:10.248Z"
   },
   {
    "duration": 32,
    "start_time": "2022-04-01T10:51:10.278Z"
   },
   {
    "duration": 25,
    "start_time": "2022-04-01T10:51:10.313Z"
   },
   {
    "duration": 11,
    "start_time": "2022-04-01T10:51:10.340Z"
   },
   {
    "duration": 47,
    "start_time": "2022-04-01T10:51:10.353Z"
   },
   {
    "duration": 35,
    "start_time": "2022-04-01T10:51:10.402Z"
   },
   {
    "duration": 13,
    "start_time": "2022-04-01T10:51:10.439Z"
   },
   {
    "duration": 35,
    "start_time": "2022-04-01T10:51:10.454Z"
   },
   {
    "duration": 28,
    "start_time": "2022-04-01T10:51:10.491Z"
   },
   {
    "duration": 48,
    "start_time": "2022-04-01T10:51:10.522Z"
   },
   {
    "duration": 51,
    "start_time": "2022-04-01T10:51:10.572Z"
   },
   {
    "duration": 23,
    "start_time": "2022-04-01T10:51:10.625Z"
   },
   {
    "duration": 70,
    "start_time": "2022-04-01T10:51:10.650Z"
   },
   {
    "duration": 33,
    "start_time": "2022-04-01T10:51:10.722Z"
   },
   {
    "duration": 27,
    "start_time": "2022-04-01T10:51:10.757Z"
   },
   {
    "duration": 38,
    "start_time": "2022-04-01T10:51:10.787Z"
   },
   {
    "duration": 25,
    "start_time": "2022-04-01T10:51:10.827Z"
   },
   {
    "duration": 34,
    "start_time": "2022-04-01T10:51:10.854Z"
   },
   {
    "duration": 60,
    "start_time": "2022-04-01T10:51:10.890Z"
   },
   {
    "duration": 41,
    "start_time": "2022-04-01T10:51:10.952Z"
   },
   {
    "duration": 21,
    "start_time": "2022-04-01T10:51:10.995Z"
   },
   {
    "duration": 43,
    "start_time": "2022-04-01T10:51:11.018Z"
   },
   {
    "duration": 135,
    "start_time": "2022-04-01T10:51:11.063Z"
   },
   {
    "duration": 27,
    "start_time": "2022-04-01T10:51:39.944Z"
   },
   {
    "duration": 24,
    "start_time": "2022-04-01T10:55:22.336Z"
   },
   {
    "duration": 779,
    "start_time": "2022-04-01T10:56:42.053Z"
   },
   {
    "duration": 123,
    "start_time": "2022-04-01T10:56:42.836Z"
   },
   {
    "duration": 60,
    "start_time": "2022-04-01T10:56:42.962Z"
   },
   {
    "duration": 34,
    "start_time": "2022-04-01T10:56:43.027Z"
   },
   {
    "duration": 40,
    "start_time": "2022-04-01T10:56:43.064Z"
   },
   {
    "duration": 8,
    "start_time": "2022-04-01T10:56:43.107Z"
   },
   {
    "duration": 73,
    "start_time": "2022-04-01T10:56:43.118Z"
   },
   {
    "duration": 8,
    "start_time": "2022-04-01T10:56:43.194Z"
   },
   {
    "duration": 50,
    "start_time": "2022-04-01T10:56:43.205Z"
   },
   {
    "duration": 16,
    "start_time": "2022-04-01T10:56:43.262Z"
   },
   {
    "duration": 20,
    "start_time": "2022-04-01T10:56:43.280Z"
   },
   {
    "duration": 30,
    "start_time": "2022-04-01T10:56:43.303Z"
   },
   {
    "duration": 22,
    "start_time": "2022-04-01T10:56:43.336Z"
   },
   {
    "duration": 25,
    "start_time": "2022-04-01T10:56:43.360Z"
   },
   {
    "duration": 25,
    "start_time": "2022-04-01T10:56:43.387Z"
   },
   {
    "duration": 49,
    "start_time": "2022-04-01T10:56:43.414Z"
   },
   {
    "duration": 33,
    "start_time": "2022-04-01T10:56:43.466Z"
   },
   {
    "duration": 11,
    "start_time": "2022-04-01T10:56:43.502Z"
   },
   {
    "duration": 10,
    "start_time": "2022-04-01T10:56:43.515Z"
   },
   {
    "duration": 23,
    "start_time": "2022-04-01T10:56:43.527Z"
   },
   {
    "duration": 32,
    "start_time": "2022-04-01T10:56:43.553Z"
   },
   {
    "duration": 27,
    "start_time": "2022-04-01T10:56:43.587Z"
   },
   {
    "duration": 25,
    "start_time": "2022-04-01T10:56:43.617Z"
   },
   {
    "duration": 46,
    "start_time": "2022-04-01T10:56:43.644Z"
   },
   {
    "duration": 18,
    "start_time": "2022-04-01T10:56:43.692Z"
   },
   {
    "duration": 30,
    "start_time": "2022-04-01T10:56:43.712Z"
   },
   {
    "duration": 27,
    "start_time": "2022-04-01T10:56:43.744Z"
   },
   {
    "duration": 42,
    "start_time": "2022-04-01T10:56:43.776Z"
   },
   {
    "duration": 28,
    "start_time": "2022-04-01T10:56:43.820Z"
   },
   {
    "duration": 46,
    "start_time": "2022-04-01T10:56:43.850Z"
   },
   {
    "duration": 26,
    "start_time": "2022-04-01T10:56:43.898Z"
   },
   {
    "duration": 12,
    "start_time": "2022-04-01T10:56:43.926Z"
   },
   {
    "duration": 45,
    "start_time": "2022-04-01T10:56:43.941Z"
   },
   {
    "duration": 21,
    "start_time": "2022-04-01T10:56:43.988Z"
   },
   {
    "duration": 16,
    "start_time": "2022-04-01T10:56:44.011Z"
   },
   {
    "duration": 22,
    "start_time": "2022-04-01T10:56:44.030Z"
   },
   {
    "duration": 17,
    "start_time": "2022-04-01T10:56:44.055Z"
   },
   {
    "duration": 24,
    "start_time": "2022-04-01T10:56:44.074Z"
   },
   {
    "duration": 20,
    "start_time": "2022-04-01T10:56:44.101Z"
   },
   {
    "duration": 16,
    "start_time": "2022-04-01T10:56:44.123Z"
   },
   {
    "duration": 7,
    "start_time": "2022-04-01T10:56:44.141Z"
   },
   {
    "duration": 48,
    "start_time": "2022-04-01T10:56:44.151Z"
   },
   {
    "duration": 25,
    "start_time": "2022-04-01T10:56:44.202Z"
   },
   {
    "duration": 28,
    "start_time": "2022-04-01T10:56:44.229Z"
   },
   {
    "duration": 35,
    "start_time": "2022-04-01T10:56:44.260Z"
   },
   {
    "duration": 19,
    "start_time": "2022-04-01T10:56:44.298Z"
   },
   {
    "duration": 33,
    "start_time": "2022-04-01T10:56:44.319Z"
   },
   {
    "duration": 45,
    "start_time": "2022-04-01T10:56:44.354Z"
   },
   {
    "duration": 19,
    "start_time": "2022-04-01T10:56:44.401Z"
   },
   {
    "duration": 39,
    "start_time": "2022-04-01T10:56:44.423Z"
   },
   {
    "duration": 29,
    "start_time": "2022-04-01T10:56:44.485Z"
   },
   {
    "duration": 362,
    "start_time": "2022-04-12T07:26:32.054Z"
   },
   {
    "duration": 61,
    "start_time": "2022-04-12T07:26:32.418Z"
   },
   {
    "duration": 23,
    "start_time": "2022-04-12T07:26:32.481Z"
   },
   {
    "duration": 24,
    "start_time": "2022-04-12T07:26:32.506Z"
   },
   {
    "duration": 10,
    "start_time": "2022-04-12T07:26:32.532Z"
   },
   {
    "duration": 5,
    "start_time": "2022-04-12T07:26:32.543Z"
   },
   {
    "duration": 17,
    "start_time": "2022-04-12T07:26:32.549Z"
   },
   {
    "duration": 4,
    "start_time": "2022-04-12T07:26:32.568Z"
   },
   {
    "duration": 17,
    "start_time": "2022-04-12T07:26:32.574Z"
   },
   {
    "duration": 10,
    "start_time": "2022-04-12T07:26:32.592Z"
   },
   {
    "duration": 6,
    "start_time": "2022-04-12T07:26:32.622Z"
   },
   {
    "duration": 9,
    "start_time": "2022-04-12T07:26:32.629Z"
   },
   {
    "duration": 14,
    "start_time": "2022-04-12T07:26:32.639Z"
   },
   {
    "duration": 4,
    "start_time": "2022-04-12T07:26:32.657Z"
   },
   {
    "duration": 11,
    "start_time": "2022-04-12T07:26:32.662Z"
   },
   {
    "duration": 26,
    "start_time": "2022-04-12T07:26:32.675Z"
   },
   {
    "duration": 32,
    "start_time": "2022-04-12T07:26:32.703Z"
   },
   {
    "duration": 4,
    "start_time": "2022-04-12T07:26:32.737Z"
   },
   {
    "duration": 14,
    "start_time": "2022-04-12T07:26:32.742Z"
   },
   {
    "duration": 14,
    "start_time": "2022-04-12T07:26:32.757Z"
   },
   {
    "duration": 7,
    "start_time": "2022-04-12T07:26:32.772Z"
   },
   {
    "duration": 11,
    "start_time": "2022-04-12T07:26:32.780Z"
   },
   {
    "duration": 6,
    "start_time": "2022-04-12T07:26:32.792Z"
   },
   {
    "duration": 34,
    "start_time": "2022-04-12T07:26:32.800Z"
   },
   {
    "duration": 5,
    "start_time": "2022-04-12T07:26:32.836Z"
   },
   {
    "duration": 14,
    "start_time": "2022-04-12T07:26:32.842Z"
   },
   {
    "duration": 12,
    "start_time": "2022-04-12T07:26:32.858Z"
   },
   {
    "duration": 24,
    "start_time": "2022-04-12T07:26:32.872Z"
   },
   {
    "duration": 33,
    "start_time": "2022-04-12T07:26:32.897Z"
   },
   {
    "duration": 19,
    "start_time": "2022-04-12T07:26:32.932Z"
   },
   {
    "duration": 15,
    "start_time": "2022-04-12T07:26:32.952Z"
   },
   {
    "duration": 7,
    "start_time": "2022-04-12T07:26:32.969Z"
   },
   {
    "duration": 17,
    "start_time": "2022-04-12T07:26:32.978Z"
   },
   {
    "duration": 32,
    "start_time": "2022-04-12T07:26:32.996Z"
   },
   {
    "duration": 5,
    "start_time": "2022-04-12T07:26:33.030Z"
   },
   {
    "duration": 13,
    "start_time": "2022-04-12T07:26:33.037Z"
   },
   {
    "duration": 9,
    "start_time": "2022-04-12T07:26:33.052Z"
   },
   {
    "duration": 15,
    "start_time": "2022-04-12T07:26:33.063Z"
   },
   {
    "duration": 9,
    "start_time": "2022-04-12T07:26:33.080Z"
   },
   {
    "duration": 11,
    "start_time": "2022-04-12T07:26:33.090Z"
   },
   {
    "duration": 19,
    "start_time": "2022-04-12T07:26:33.104Z"
   },
   {
    "duration": 15,
    "start_time": "2022-04-12T07:26:33.125Z"
   },
   {
    "duration": 10,
    "start_time": "2022-04-12T07:26:33.142Z"
   },
   {
    "duration": 14,
    "start_time": "2022-04-12T07:26:33.154Z"
   },
   {
    "duration": 11,
    "start_time": "2022-04-12T07:26:33.169Z"
   },
   {
    "duration": 7,
    "start_time": "2022-04-12T07:26:33.182Z"
   },
   {
    "duration": 32,
    "start_time": "2022-04-12T07:26:33.191Z"
   },
   {
    "duration": 21,
    "start_time": "2022-04-12T07:26:33.225Z"
   },
   {
    "duration": 11,
    "start_time": "2022-04-12T07:26:33.247Z"
   },
   {
    "duration": 19,
    "start_time": "2022-04-12T07:26:33.260Z"
   },
   {
    "duration": 48,
    "start_time": "2022-04-12T07:26:33.280Z"
   },
   {
    "duration": 437,
    "start_time": "2022-04-12T07:32:00.503Z"
   },
   {
    "duration": 73,
    "start_time": "2022-04-12T07:32:00.942Z"
   },
   {
    "duration": 21,
    "start_time": "2022-04-12T07:32:01.016Z"
   },
   {
    "duration": 18,
    "start_time": "2022-04-12T07:32:01.039Z"
   },
   {
    "duration": 15,
    "start_time": "2022-04-12T07:32:01.059Z"
   },
   {
    "duration": 8,
    "start_time": "2022-04-12T07:32:01.075Z"
   },
   {
    "duration": 27,
    "start_time": "2022-04-12T07:32:01.084Z"
   },
   {
    "duration": 28,
    "start_time": "2022-04-12T07:32:01.112Z"
   },
   {
    "duration": 43,
    "start_time": "2022-04-12T07:32:01.141Z"
   },
   {
    "duration": 55,
    "start_time": "2022-04-12T07:32:01.185Z"
   },
   {
    "duration": 49,
    "start_time": "2022-04-12T07:32:01.241Z"
   },
   {
    "duration": 31,
    "start_time": "2022-04-12T07:32:01.292Z"
   },
   {
    "duration": 32,
    "start_time": "2022-04-12T07:32:01.325Z"
   },
   {
    "duration": 3,
    "start_time": "2022-04-12T07:32:01.362Z"
   },
   {
    "duration": 22,
    "start_time": "2022-04-12T07:32:01.367Z"
   },
   {
    "duration": 54,
    "start_time": "2022-04-12T07:32:01.391Z"
   },
   {
    "duration": 32,
    "start_time": "2022-04-12T07:32:01.448Z"
   },
   {
    "duration": 3,
    "start_time": "2022-04-12T07:32:01.482Z"
   },
   {
    "duration": 22,
    "start_time": "2022-04-12T07:32:01.487Z"
   },
   {
    "duration": 29,
    "start_time": "2022-04-12T07:32:01.511Z"
   },
   {
    "duration": 9,
    "start_time": "2022-04-12T07:32:01.542Z"
   },
   {
    "duration": 25,
    "start_time": "2022-04-12T07:32:01.553Z"
   },
   {
    "duration": 10,
    "start_time": "2022-04-12T07:32:01.579Z"
   },
   {
    "duration": 21,
    "start_time": "2022-04-12T07:32:01.590Z"
   },
   {
    "duration": 8,
    "start_time": "2022-04-12T07:32:01.612Z"
   },
   {
    "duration": 12,
    "start_time": "2022-04-12T07:32:01.622Z"
   },
   {
    "duration": 13,
    "start_time": "2022-04-12T07:32:01.635Z"
   },
   {
    "duration": 21,
    "start_time": "2022-04-12T07:32:01.650Z"
   },
   {
    "duration": 18,
    "start_time": "2022-04-12T07:32:01.673Z"
   },
   {
    "duration": 42,
    "start_time": "2022-04-12T07:32:01.692Z"
   },
   {
    "duration": 18,
    "start_time": "2022-04-12T07:32:01.736Z"
   },
   {
    "duration": 8,
    "start_time": "2022-04-12T07:32:01.755Z"
   },
   {
    "duration": 26,
    "start_time": "2022-04-12T07:32:01.765Z"
   },
   {
    "duration": 30,
    "start_time": "2022-04-12T07:32:01.793Z"
   },
   {
    "duration": 31,
    "start_time": "2022-04-12T07:32:01.824Z"
   },
   {
    "duration": 15,
    "start_time": "2022-04-12T07:32:01.857Z"
   },
   {
    "duration": 19,
    "start_time": "2022-04-12T07:32:01.873Z"
   },
   {
    "duration": 29,
    "start_time": "2022-04-12T07:32:01.894Z"
   },
   {
    "duration": 17,
    "start_time": "2022-04-12T07:32:01.925Z"
   },
   {
    "duration": 29,
    "start_time": "2022-04-12T07:32:01.943Z"
   },
   {
    "duration": 3,
    "start_time": "2022-04-12T07:32:01.976Z"
   },
   {
    "duration": 33,
    "start_time": "2022-04-12T07:32:01.981Z"
   },
   {
    "duration": 31,
    "start_time": "2022-04-12T07:32:02.016Z"
   },
   {
    "duration": 21,
    "start_time": "2022-04-12T07:32:02.049Z"
   },
   {
    "duration": 25,
    "start_time": "2022-04-12T07:32:02.072Z"
   },
   {
    "duration": 8,
    "start_time": "2022-04-12T07:32:02.098Z"
   },
   {
    "duration": 23,
    "start_time": "2022-04-12T07:32:02.108Z"
   },
   {
    "duration": 20,
    "start_time": "2022-04-12T07:32:02.132Z"
   },
   {
    "duration": 11,
    "start_time": "2022-04-12T07:32:02.154Z"
   },
   {
    "duration": 28,
    "start_time": "2022-04-12T07:32:02.167Z"
   },
   {
    "duration": 35,
    "start_time": "2022-04-12T07:32:02.196Z"
   },
   {
    "duration": 49,
    "start_time": "2022-04-13T09:28:24.877Z"
   },
   {
    "duration": 412,
    "start_time": "2022-04-13T09:28:36.670Z"
   },
   {
    "duration": 76,
    "start_time": "2022-04-13T09:28:37.084Z"
   },
   {
    "duration": 24,
    "start_time": "2022-04-13T09:28:37.162Z"
   },
   {
    "duration": 43,
    "start_time": "2022-04-13T09:28:37.188Z"
   },
   {
    "duration": 11,
    "start_time": "2022-04-13T09:28:37.233Z"
   },
   {
    "duration": 27,
    "start_time": "2022-04-13T09:28:37.246Z"
   },
   {
    "duration": 53,
    "start_time": "2022-04-13T09:28:37.274Z"
   },
   {
    "duration": 18,
    "start_time": "2022-04-13T09:28:37.329Z"
   },
   {
    "duration": 21,
    "start_time": "2022-04-13T09:28:37.349Z"
   },
   {
    "duration": 18,
    "start_time": "2022-04-13T09:28:37.373Z"
   },
   {
    "duration": 11,
    "start_time": "2022-04-13T09:28:37.393Z"
   },
   {
    "duration": 10,
    "start_time": "2022-04-13T09:28:37.406Z"
   },
   {
    "duration": 12,
    "start_time": "2022-04-13T09:28:37.418Z"
   },
   {
    "duration": 13,
    "start_time": "2022-04-13T09:28:37.432Z"
   },
   {
    "duration": 10,
    "start_time": "2022-04-13T09:28:37.447Z"
   },
   {
    "duration": 22,
    "start_time": "2022-04-13T09:28:37.459Z"
   },
   {
    "duration": 27,
    "start_time": "2022-04-13T09:28:37.484Z"
   },
   {
    "duration": 21,
    "start_time": "2022-04-13T09:28:37.513Z"
   },
   {
    "duration": 8,
    "start_time": "2022-04-13T09:28:37.536Z"
   },
   {
    "duration": 10,
    "start_time": "2022-04-13T09:28:37.546Z"
   },
   {
    "duration": 29,
    "start_time": "2022-04-13T09:28:37.558Z"
   },
   {
    "duration": 13,
    "start_time": "2022-04-13T09:28:37.588Z"
   },
   {
    "duration": 23,
    "start_time": "2022-04-13T09:28:37.603Z"
   },
   {
    "duration": 14,
    "start_time": "2022-04-13T09:28:37.628Z"
   },
   {
    "duration": 28,
    "start_time": "2022-04-13T09:28:37.644Z"
   },
   {
    "duration": 8,
    "start_time": "2022-04-13T09:28:37.673Z"
   },
   {
    "duration": 25,
    "start_time": "2022-04-13T09:28:37.683Z"
   },
   {
    "duration": 16,
    "start_time": "2022-04-13T09:28:37.713Z"
   },
   {
    "duration": 37,
    "start_time": "2022-04-13T09:28:37.731Z"
   },
   {
    "duration": 21,
    "start_time": "2022-04-13T09:28:37.770Z"
   },
   {
    "duration": 34,
    "start_time": "2022-04-13T09:28:37.794Z"
   },
   {
    "duration": 19,
    "start_time": "2022-04-13T09:28:37.831Z"
   },
   {
    "duration": 9,
    "start_time": "2022-04-13T09:28:37.853Z"
   },
   {
    "duration": 17,
    "start_time": "2022-04-13T09:28:37.865Z"
   },
   {
    "duration": 42,
    "start_time": "2022-04-13T09:28:37.884Z"
   },
   {
    "duration": 8,
    "start_time": "2022-04-13T09:28:37.927Z"
   },
   {
    "duration": 18,
    "start_time": "2022-04-13T09:28:37.936Z"
   },
   {
    "duration": 12,
    "start_time": "2022-04-13T09:28:37.955Z"
   },
   {
    "duration": 20,
    "start_time": "2022-04-13T09:28:37.968Z"
   },
   {
    "duration": 21,
    "start_time": "2022-04-13T09:28:37.990Z"
   },
   {
    "duration": 25,
    "start_time": "2022-04-13T09:28:38.017Z"
   },
   {
    "duration": 14,
    "start_time": "2022-04-13T09:28:38.045Z"
   },
   {
    "duration": 19,
    "start_time": "2022-04-13T09:28:38.061Z"
   },
   {
    "duration": 22,
    "start_time": "2022-04-13T09:28:38.082Z"
   },
   {
    "duration": 20,
    "start_time": "2022-04-13T09:28:38.107Z"
   },
   {
    "duration": 15,
    "start_time": "2022-04-13T09:28:38.129Z"
   },
   {
    "duration": 22,
    "start_time": "2022-04-13T09:28:38.146Z"
   },
   {
    "duration": 29,
    "start_time": "2022-04-13T09:28:38.170Z"
   },
   {
    "duration": 29,
    "start_time": "2022-04-13T09:28:38.201Z"
   },
   {
    "duration": 14,
    "start_time": "2022-04-13T09:28:38.232Z"
   },
   {
    "duration": 34,
    "start_time": "2022-04-13T09:28:38.248Z"
   },
   {
    "duration": 40,
    "start_time": "2022-04-13T09:28:38.284Z"
   },
   {
    "duration": 8,
    "start_time": "2022-04-13T09:40:17.807Z"
   },
   {
    "duration": 14,
    "start_time": "2022-04-13T09:40:24.087Z"
   },
   {
    "duration": 12,
    "start_time": "2022-04-13T09:43:58.369Z"
   },
   {
    "duration": 76,
    "start_time": "2022-04-13T09:44:21.299Z"
   },
   {
    "duration": 14,
    "start_time": "2022-04-13T09:44:34.967Z"
   },
   {
    "duration": 14,
    "start_time": "2022-04-13T09:45:07.610Z"
   },
   {
    "duration": 18,
    "start_time": "2022-04-13T09:45:23.695Z"
   },
   {
    "duration": 14,
    "start_time": "2022-04-13T09:45:27.614Z"
   },
   {
    "duration": 13,
    "start_time": "2022-04-13T09:45:31.627Z"
   },
   {
    "duration": 15,
    "start_time": "2022-04-13T09:46:08.260Z"
   },
   {
    "duration": 171,
    "start_time": "2022-04-13T09:46:20.043Z"
   },
   {
    "duration": 16,
    "start_time": "2022-04-13T09:46:32.811Z"
   },
   {
    "duration": 14,
    "start_time": "2022-04-13T09:47:52.507Z"
   },
   {
    "duration": 13,
    "start_time": "2022-04-13T09:49:53.870Z"
   },
   {
    "duration": 2547,
    "start_time": "2022-04-13T09:50:20.614Z"
   },
   {
    "duration": 15,
    "start_time": "2022-04-13T09:50:33.410Z"
   },
   {
    "duration": 16,
    "start_time": "2022-04-13T09:50:56.691Z"
   },
   {
    "duration": 14,
    "start_time": "2022-04-13T09:51:12.490Z"
   },
   {
    "duration": 15,
    "start_time": "2022-04-13T09:51:30.240Z"
   },
   {
    "duration": 13,
    "start_time": "2022-04-13T09:51:39.441Z"
   },
   {
    "duration": 16,
    "start_time": "2022-04-13T09:52:05.786Z"
   },
   {
    "duration": 215,
    "start_time": "2022-04-13T09:52:14.079Z"
   },
   {
    "duration": 13,
    "start_time": "2022-04-13T09:52:37.959Z"
   },
   {
    "duration": 16,
    "start_time": "2022-04-13T09:55:13.429Z"
   },
   {
    "duration": 15,
    "start_time": "2022-04-13T09:55:26.641Z"
   },
   {
    "duration": 14,
    "start_time": "2022-04-13T09:55:33.226Z"
   },
   {
    "duration": 7,
    "start_time": "2022-04-13T10:00:12.653Z"
   },
   {
    "duration": 75,
    "start_time": "2022-04-13T14:14:48.144Z"
   },
   {
    "duration": 476,
    "start_time": "2022-04-13T14:18:40.185Z"
   },
   {
    "duration": 79,
    "start_time": "2022-04-13T14:18:40.662Z"
   },
   {
    "duration": 21,
    "start_time": "2022-04-13T14:18:40.742Z"
   },
   {
    "duration": 15,
    "start_time": "2022-04-13T14:18:40.765Z"
   },
   {
    "duration": 32,
    "start_time": "2022-04-13T14:18:40.782Z"
   },
   {
    "duration": 5,
    "start_time": "2022-04-13T14:18:40.816Z"
   },
   {
    "duration": 24,
    "start_time": "2022-04-13T14:18:40.823Z"
   },
   {
    "duration": 5,
    "start_time": "2022-04-13T14:18:40.849Z"
   },
   {
    "duration": 14,
    "start_time": "2022-04-13T14:18:40.855Z"
   },
   {
    "duration": 67,
    "start_time": "2022-04-13T14:18:40.909Z"
   },
   {
    "duration": 0,
    "start_time": "2022-04-13T14:18:40.979Z"
   },
   {
    "duration": 0,
    "start_time": "2022-04-13T14:18:40.980Z"
   },
   {
    "duration": 0,
    "start_time": "2022-04-13T14:18:40.980Z"
   },
   {
    "duration": 0,
    "start_time": "2022-04-13T14:18:40.982Z"
   },
   {
    "duration": 0,
    "start_time": "2022-04-13T14:18:40.983Z"
   },
   {
    "duration": 0,
    "start_time": "2022-04-13T14:18:40.984Z"
   },
   {
    "duration": 0,
    "start_time": "2022-04-13T14:18:40.986Z"
   },
   {
    "duration": 0,
    "start_time": "2022-04-13T14:18:40.986Z"
   },
   {
    "duration": 0,
    "start_time": "2022-04-13T14:18:40.987Z"
   },
   {
    "duration": 0,
    "start_time": "2022-04-13T14:18:40.988Z"
   },
   {
    "duration": 0,
    "start_time": "2022-04-13T14:18:40.989Z"
   },
   {
    "duration": 0,
    "start_time": "2022-04-13T14:18:40.990Z"
   },
   {
    "duration": 0,
    "start_time": "2022-04-13T14:18:40.991Z"
   },
   {
    "duration": 0,
    "start_time": "2022-04-13T14:18:40.992Z"
   },
   {
    "duration": 0,
    "start_time": "2022-04-13T14:18:40.993Z"
   },
   {
    "duration": 0,
    "start_time": "2022-04-13T14:18:40.994Z"
   },
   {
    "duration": 0,
    "start_time": "2022-04-13T14:18:40.995Z"
   },
   {
    "duration": 0,
    "start_time": "2022-04-13T14:18:40.996Z"
   },
   {
    "duration": 0,
    "start_time": "2022-04-13T14:18:40.997Z"
   },
   {
    "duration": 0,
    "start_time": "2022-04-13T14:18:40.998Z"
   },
   {
    "duration": 0,
    "start_time": "2022-04-13T14:18:40.999Z"
   },
   {
    "duration": 0,
    "start_time": "2022-04-13T14:18:41.000Z"
   },
   {
    "duration": 0,
    "start_time": "2022-04-13T14:18:41.001Z"
   },
   {
    "duration": 0,
    "start_time": "2022-04-13T14:18:41.003Z"
   },
   {
    "duration": 0,
    "start_time": "2022-04-13T14:18:41.004Z"
   },
   {
    "duration": 0,
    "start_time": "2022-04-13T14:18:41.005Z"
   },
   {
    "duration": 0,
    "start_time": "2022-04-13T14:18:41.006Z"
   },
   {
    "duration": 0,
    "start_time": "2022-04-13T14:18:41.011Z"
   },
   {
    "duration": 0,
    "start_time": "2022-04-13T14:18:41.012Z"
   },
   {
    "duration": 0,
    "start_time": "2022-04-13T14:18:41.015Z"
   },
   {
    "duration": 0,
    "start_time": "2022-04-13T14:18:41.017Z"
   },
   {
    "duration": 0,
    "start_time": "2022-04-13T14:18:41.019Z"
   },
   {
    "duration": 0,
    "start_time": "2022-04-13T14:18:41.021Z"
   },
   {
    "duration": 0,
    "start_time": "2022-04-13T14:18:41.024Z"
   },
   {
    "duration": 0,
    "start_time": "2022-04-13T14:18:41.026Z"
   },
   {
    "duration": 0,
    "start_time": "2022-04-13T14:18:41.027Z"
   },
   {
    "duration": 0,
    "start_time": "2022-04-13T14:18:41.029Z"
   },
   {
    "duration": 0,
    "start_time": "2022-04-13T14:18:41.031Z"
   },
   {
    "duration": 0,
    "start_time": "2022-04-13T14:18:41.032Z"
   },
   {
    "duration": 0,
    "start_time": "2022-04-13T14:18:41.033Z"
   },
   {
    "duration": 0,
    "start_time": "2022-04-13T14:18:41.034Z"
   },
   {
    "duration": 0,
    "start_time": "2022-04-13T14:18:41.035Z"
   },
   {
    "duration": 0,
    "start_time": "2022-04-13T14:18:41.036Z"
   },
   {
    "duration": 0,
    "start_time": "2022-04-13T14:18:41.037Z"
   },
   {
    "duration": 3,
    "start_time": "2022-04-14T06:55:43.211Z"
   },
   {
    "duration": 2,
    "start_time": "2022-04-14T06:56:05.524Z"
   },
   {
    "duration": 419,
    "start_time": "2022-04-14T07:43:36.276Z"
   },
   {
    "duration": 117,
    "start_time": "2022-04-14T07:43:36.697Z"
   },
   {
    "duration": 25,
    "start_time": "2022-04-14T07:43:36.816Z"
   },
   {
    "duration": 18,
    "start_time": "2022-04-14T07:43:36.843Z"
   },
   {
    "duration": 14,
    "start_time": "2022-04-14T07:43:36.863Z"
   },
   {
    "duration": 7,
    "start_time": "2022-04-14T07:43:36.879Z"
   },
   {
    "duration": 18,
    "start_time": "2022-04-14T07:43:36.888Z"
   },
   {
    "duration": 7,
    "start_time": "2022-04-14T07:43:36.934Z"
   },
   {
    "duration": 19,
    "start_time": "2022-04-14T07:43:36.943Z"
   },
   {
    "duration": 5,
    "start_time": "2022-04-14T07:43:36.965Z"
   },
   {
    "duration": 14,
    "start_time": "2022-04-14T07:43:36.972Z"
   },
   {
    "duration": 9,
    "start_time": "2022-04-14T07:43:36.988Z"
   },
   {
    "duration": 38,
    "start_time": "2022-04-14T07:43:36.999Z"
   },
   {
    "duration": 12,
    "start_time": "2022-04-14T07:43:37.039Z"
   },
   {
    "duration": 22,
    "start_time": "2022-04-14T07:43:37.053Z"
   },
   {
    "duration": 12,
    "start_time": "2022-04-14T07:43:37.077Z"
   },
   {
    "duration": 20,
    "start_time": "2022-04-14T07:43:37.090Z"
   },
   {
    "duration": 26,
    "start_time": "2022-04-14T07:43:37.112Z"
   },
   {
    "duration": 21,
    "start_time": "2022-04-14T07:43:37.140Z"
   },
   {
    "duration": 4,
    "start_time": "2022-04-14T07:43:37.163Z"
   },
   {
    "duration": 20,
    "start_time": "2022-04-14T07:43:37.169Z"
   },
   {
    "duration": 15,
    "start_time": "2022-04-14T07:43:37.191Z"
   },
   {
    "duration": 7,
    "start_time": "2022-04-14T07:43:37.208Z"
   },
   {
    "duration": 25,
    "start_time": "2022-04-14T07:43:37.217Z"
   },
   {
    "duration": 6,
    "start_time": "2022-04-14T07:43:37.243Z"
   },
   {
    "duration": 21,
    "start_time": "2022-04-14T07:43:37.251Z"
   },
   {
    "duration": 9,
    "start_time": "2022-04-14T07:43:37.274Z"
   },
   {
    "duration": 14,
    "start_time": "2022-04-14T07:43:37.287Z"
   },
   {
    "duration": 36,
    "start_time": "2022-04-14T07:43:37.303Z"
   },
   {
    "duration": 30,
    "start_time": "2022-04-14T07:43:37.341Z"
   },
   {
    "duration": 21,
    "start_time": "2022-04-14T07:43:37.373Z"
   },
   {
    "duration": 48,
    "start_time": "2022-04-14T07:43:37.395Z"
   },
   {
    "duration": 20,
    "start_time": "2022-04-14T07:43:37.445Z"
   },
   {
    "duration": 9,
    "start_time": "2022-04-14T07:43:37.467Z"
   },
   {
    "duration": 19,
    "start_time": "2022-04-14T07:43:37.478Z"
   },
   {
    "duration": 41,
    "start_time": "2022-04-14T07:43:37.499Z"
   },
   {
    "duration": 8,
    "start_time": "2022-04-14T07:43:37.542Z"
   },
   {
    "duration": 11,
    "start_time": "2022-04-14T07:43:37.552Z"
   },
   {
    "duration": 6,
    "start_time": "2022-04-14T07:43:37.566Z"
   },
   {
    "duration": 20,
    "start_time": "2022-04-14T07:43:37.574Z"
   },
   {
    "duration": 15,
    "start_time": "2022-04-14T07:43:37.596Z"
   },
   {
    "duration": 8,
    "start_time": "2022-04-14T07:43:37.635Z"
   },
   {
    "duration": 14,
    "start_time": "2022-04-14T07:43:37.645Z"
   },
   {
    "duration": 13,
    "start_time": "2022-04-14T07:43:37.661Z"
   },
   {
    "duration": 28,
    "start_time": "2022-04-14T07:43:37.676Z"
   },
   {
    "duration": 24,
    "start_time": "2022-04-14T07:43:37.706Z"
   },
   {
    "duration": 14,
    "start_time": "2022-04-14T07:43:37.731Z"
   },
   {
    "duration": 19,
    "start_time": "2022-04-14T07:43:37.747Z"
   },
   {
    "duration": 30,
    "start_time": "2022-04-14T07:43:37.768Z"
   },
   {
    "duration": 24,
    "start_time": "2022-04-14T07:43:37.800Z"
   },
   {
    "duration": 14,
    "start_time": "2022-04-14T07:43:37.825Z"
   },
   {
    "duration": 24,
    "start_time": "2022-04-14T07:43:37.840Z"
   },
   {
    "duration": 20,
    "start_time": "2022-04-14T07:43:37.866Z"
   },
   {
    "duration": 521,
    "start_time": "2022-04-14T09:44:32.174Z"
   },
   {
    "duration": 86,
    "start_time": "2022-04-14T09:44:32.697Z"
   },
   {
    "duration": 49,
    "start_time": "2022-04-14T09:44:32.785Z"
   },
   {
    "duration": 33,
    "start_time": "2022-04-14T09:44:32.854Z"
   },
   {
    "duration": 18,
    "start_time": "2022-04-14T09:44:32.890Z"
   },
   {
    "duration": 7,
    "start_time": "2022-04-14T09:44:32.911Z"
   },
   {
    "duration": 25,
    "start_time": "2022-04-14T09:44:32.953Z"
   },
   {
    "duration": 7,
    "start_time": "2022-04-14T09:44:32.981Z"
   },
   {
    "duration": 22,
    "start_time": "2022-04-14T09:44:32.990Z"
   },
   {
    "duration": 112,
    "start_time": "2022-04-14T09:44:33.055Z"
   },
   {
    "duration": 0,
    "start_time": "2022-04-14T09:44:33.172Z"
   },
   {
    "duration": 0,
    "start_time": "2022-04-14T09:44:33.174Z"
   },
   {
    "duration": 0,
    "start_time": "2022-04-14T09:44:33.176Z"
   },
   {
    "duration": 0,
    "start_time": "2022-04-14T09:44:33.178Z"
   },
   {
    "duration": 0,
    "start_time": "2022-04-14T09:44:33.180Z"
   },
   {
    "duration": 0,
    "start_time": "2022-04-14T09:44:33.182Z"
   },
   {
    "duration": 0,
    "start_time": "2022-04-14T09:44:33.184Z"
   },
   {
    "duration": 0,
    "start_time": "2022-04-14T09:44:33.185Z"
   },
   {
    "duration": 0,
    "start_time": "2022-04-14T09:44:33.188Z"
   },
   {
    "duration": 0,
    "start_time": "2022-04-14T09:44:33.189Z"
   },
   {
    "duration": 0,
    "start_time": "2022-04-14T09:44:33.191Z"
   },
   {
    "duration": 0,
    "start_time": "2022-04-14T09:44:33.193Z"
   },
   {
    "duration": 0,
    "start_time": "2022-04-14T09:44:33.195Z"
   },
   {
    "duration": 0,
    "start_time": "2022-04-14T09:44:33.197Z"
   },
   {
    "duration": 0,
    "start_time": "2022-04-14T09:44:33.199Z"
   },
   {
    "duration": 0,
    "start_time": "2022-04-14T09:44:33.200Z"
   },
   {
    "duration": 0,
    "start_time": "2022-04-14T09:44:33.202Z"
   },
   {
    "duration": 0,
    "start_time": "2022-04-14T09:44:33.204Z"
   },
   {
    "duration": 0,
    "start_time": "2022-04-14T09:44:33.253Z"
   },
   {
    "duration": 0,
    "start_time": "2022-04-14T09:44:33.254Z"
   },
   {
    "duration": 0,
    "start_time": "2022-04-14T09:44:33.256Z"
   },
   {
    "duration": 0,
    "start_time": "2022-04-14T09:44:33.259Z"
   },
   {
    "duration": 0,
    "start_time": "2022-04-14T09:44:33.261Z"
   },
   {
    "duration": 0,
    "start_time": "2022-04-14T09:44:33.263Z"
   },
   {
    "duration": 0,
    "start_time": "2022-04-14T09:44:33.265Z"
   },
   {
    "duration": 0,
    "start_time": "2022-04-14T09:44:33.267Z"
   },
   {
    "duration": 0,
    "start_time": "2022-04-14T09:44:33.270Z"
   },
   {
    "duration": 0,
    "start_time": "2022-04-14T09:44:33.271Z"
   },
   {
    "duration": 0,
    "start_time": "2022-04-14T09:44:33.272Z"
   },
   {
    "duration": 0,
    "start_time": "2022-04-14T09:44:33.273Z"
   },
   {
    "duration": 0,
    "start_time": "2022-04-14T09:44:33.274Z"
   },
   {
    "duration": 0,
    "start_time": "2022-04-14T09:44:33.276Z"
   },
   {
    "duration": 0,
    "start_time": "2022-04-14T09:44:33.278Z"
   },
   {
    "duration": 0,
    "start_time": "2022-04-14T09:44:33.279Z"
   },
   {
    "duration": 0,
    "start_time": "2022-04-14T09:44:33.280Z"
   },
   {
    "duration": 1,
    "start_time": "2022-04-14T09:44:33.281Z"
   },
   {
    "duration": 0,
    "start_time": "2022-04-14T09:44:33.283Z"
   },
   {
    "duration": 0,
    "start_time": "2022-04-14T09:44:33.284Z"
   },
   {
    "duration": 0,
    "start_time": "2022-04-14T09:44:33.285Z"
   },
   {
    "duration": 0,
    "start_time": "2022-04-14T09:44:33.286Z"
   },
   {
    "duration": 0,
    "start_time": "2022-04-14T09:44:33.287Z"
   },
   {
    "duration": 0,
    "start_time": "2022-04-14T09:44:33.288Z"
   },
   {
    "duration": 0,
    "start_time": "2022-04-14T09:44:33.291Z"
   },
   {
    "duration": 0,
    "start_time": "2022-04-14T09:44:33.365Z"
   },
   {
    "duration": 0,
    "start_time": "2022-04-14T09:44:33.366Z"
   },
   {
    "duration": 13,
    "start_time": "2022-04-14T09:45:09.344Z"
   },
   {
    "duration": 10,
    "start_time": "2022-04-14T09:45:09.360Z"
   },
   {
    "duration": 0,
    "start_time": "2022-04-14T09:45:09.373Z"
   },
   {
    "duration": 0,
    "start_time": "2022-04-14T09:45:09.374Z"
   },
   {
    "duration": 8,
    "start_time": "2022-04-14T09:45:09.387Z"
   },
   {
    "duration": 8,
    "start_time": "2022-04-14T09:45:09.397Z"
   },
   {
    "duration": 50,
    "start_time": "2022-04-14T09:45:09.410Z"
   },
   {
    "duration": 16,
    "start_time": "2022-04-14T09:45:09.463Z"
   },
   {
    "duration": 5,
    "start_time": "2022-04-14T09:45:09.482Z"
   },
   {
    "duration": 7,
    "start_time": "2022-04-14T09:45:09.490Z"
   },
   {
    "duration": 87,
    "start_time": "2022-04-14T09:45:09.500Z"
   },
   {
    "duration": 64,
    "start_time": "2022-04-14T09:45:09.589Z"
   },
   {
    "duration": 5,
    "start_time": "2022-04-14T09:45:09.655Z"
   },
   {
    "duration": 7,
    "start_time": "2022-04-14T09:45:09.662Z"
   },
   {
    "duration": 17,
    "start_time": "2022-04-14T09:45:09.671Z"
   },
   {
    "duration": 7,
    "start_time": "2022-04-14T09:45:09.692Z"
   },
   {
    "duration": 60,
    "start_time": "2022-04-14T09:45:09.702Z"
   },
   {
    "duration": 7,
    "start_time": "2022-04-14T09:45:09.764Z"
   },
   {
    "duration": 22,
    "start_time": "2022-04-14T09:45:09.773Z"
   },
   {
    "duration": 54,
    "start_time": "2022-04-14T09:45:09.797Z"
   },
   {
    "duration": 28,
    "start_time": "2022-04-14T09:45:09.854Z"
   },
   {
    "duration": 13,
    "start_time": "2022-04-14T09:45:09.884Z"
   },
   {
    "duration": 53,
    "start_time": "2022-04-14T09:45:09.900Z"
   },
   {
    "duration": 29,
    "start_time": "2022-04-14T09:45:09.955Z"
   },
   {
    "duration": 32,
    "start_time": "2022-04-14T09:45:09.987Z"
   },
   {
    "duration": 55,
    "start_time": "2022-04-14T09:45:10.021Z"
   },
   {
    "duration": 10,
    "start_time": "2022-04-14T09:45:10.078Z"
   },
   {
    "duration": 28,
    "start_time": "2022-04-14T09:45:10.091Z"
   },
   {
    "duration": 50,
    "start_time": "2022-04-14T09:45:10.121Z"
   },
   {
    "duration": 12,
    "start_time": "2022-04-14T09:45:10.173Z"
   },
   {
    "duration": 18,
    "start_time": "2022-04-14T09:45:10.187Z"
   },
   {
    "duration": 25,
    "start_time": "2022-04-14T09:45:10.208Z"
   },
   {
    "duration": 33,
    "start_time": "2022-04-14T09:45:10.240Z"
   },
   {
    "duration": 29,
    "start_time": "2022-04-14T09:45:10.276Z"
   },
   {
    "duration": 11,
    "start_time": "2022-04-14T09:45:10.307Z"
   },
   {
    "duration": 31,
    "start_time": "2022-04-14T09:45:10.321Z"
   },
   {
    "duration": 23,
    "start_time": "2022-04-14T09:45:10.354Z"
   },
   {
    "duration": 19,
    "start_time": "2022-04-14T09:45:10.380Z"
   },
   {
    "duration": 20,
    "start_time": "2022-04-14T09:45:10.401Z"
   },
   {
    "duration": 29,
    "start_time": "2022-04-14T09:45:10.423Z"
   },
   {
    "duration": 9,
    "start_time": "2022-04-14T09:45:10.455Z"
   },
   {
    "duration": 27,
    "start_time": "2022-04-14T09:45:10.466Z"
   },
   {
    "duration": 69,
    "start_time": "2022-04-14T09:45:10.496Z"
   },
   {
    "duration": 25,
    "start_time": "2022-04-14T09:45:10.567Z"
   },
   {
    "duration": 62,
    "start_time": "2022-04-14T09:45:10.595Z"
   },
   {
    "duration": 28,
    "start_time": "2022-04-14T09:45:10.659Z"
   },
   {
    "duration": 9,
    "start_time": "2022-04-14T09:45:31.293Z"
   },
   {
    "duration": 9,
    "start_time": "2022-04-14T09:45:32.177Z"
   },
   {
    "duration": 29,
    "start_time": "2022-04-14T09:45:46.408Z"
   },
   {
    "duration": 513,
    "start_time": "2022-04-14T09:46:28.582Z"
   },
   {
    "duration": 76,
    "start_time": "2022-04-14T09:46:29.097Z"
   },
   {
    "duration": 34,
    "start_time": "2022-04-14T09:46:29.175Z"
   },
   {
    "duration": 42,
    "start_time": "2022-04-14T09:46:29.212Z"
   },
   {
    "duration": 13,
    "start_time": "2022-04-14T09:46:29.256Z"
   },
   {
    "duration": 6,
    "start_time": "2022-04-14T09:46:29.271Z"
   },
   {
    "duration": 25,
    "start_time": "2022-04-14T09:46:29.280Z"
   },
   {
    "duration": 49,
    "start_time": "2022-04-14T09:46:29.307Z"
   },
   {
    "duration": 23,
    "start_time": "2022-04-14T09:46:29.359Z"
   },
   {
    "duration": 18,
    "start_time": "2022-04-14T09:46:29.387Z"
   },
   {
    "duration": 45,
    "start_time": "2022-04-14T09:46:29.407Z"
   },
   {
    "duration": 37,
    "start_time": "2022-04-14T09:46:29.454Z"
   },
   {
    "duration": 7,
    "start_time": "2022-04-14T09:46:29.494Z"
   },
   {
    "duration": 18,
    "start_time": "2022-04-14T09:46:29.503Z"
   },
   {
    "duration": 34,
    "start_time": "2022-04-14T09:46:29.523Z"
   },
   {
    "duration": 8,
    "start_time": "2022-04-14T09:46:29.559Z"
   },
   {
    "duration": 10,
    "start_time": "2022-04-14T09:46:29.569Z"
   },
   {
    "duration": 13,
    "start_time": "2022-04-14T09:46:29.581Z"
   },
   {
    "duration": 5,
    "start_time": "2022-04-14T09:46:29.596Z"
   },
   {
    "duration": 50,
    "start_time": "2022-04-14T09:46:29.604Z"
   },
   {
    "duration": 35,
    "start_time": "2022-04-14T09:46:29.656Z"
   },
   {
    "duration": 61,
    "start_time": "2022-04-14T09:46:29.693Z"
   },
   {
    "duration": 6,
    "start_time": "2022-04-14T09:46:29.756Z"
   },
   {
    "duration": 8,
    "start_time": "2022-04-14T09:46:29.764Z"
   },
   {
    "duration": 14,
    "start_time": "2022-04-14T09:46:29.775Z"
   },
   {
    "duration": 8,
    "start_time": "2022-04-14T09:46:29.791Z"
   },
   {
    "duration": 57,
    "start_time": "2022-04-14T09:46:29.801Z"
   },
   {
    "duration": 9,
    "start_time": "2022-04-14T09:46:29.864Z"
   },
   {
    "duration": 35,
    "start_time": "2022-04-14T09:46:29.876Z"
   },
   {
    "duration": 41,
    "start_time": "2022-04-14T09:46:29.913Z"
   },
   {
    "duration": 26,
    "start_time": "2022-04-14T09:46:29.957Z"
   },
   {
    "duration": 13,
    "start_time": "2022-04-14T09:46:29.986Z"
   },
   {
    "duration": 64,
    "start_time": "2022-04-14T09:46:30.005Z"
   },
   {
    "duration": 29,
    "start_time": "2022-04-14T09:46:30.071Z"
   },
   {
    "duration": 59,
    "start_time": "2022-04-14T09:46:30.102Z"
   },
   {
    "duration": 25,
    "start_time": "2022-04-14T09:46:30.163Z"
   },
   {
    "duration": 10,
    "start_time": "2022-04-14T09:46:30.191Z"
   },
   {
    "duration": 50,
    "start_time": "2022-04-14T09:46:30.203Z"
   },
   {
    "duration": 17,
    "start_time": "2022-04-14T09:46:30.255Z"
   },
   {
    "duration": 13,
    "start_time": "2022-04-14T09:46:30.274Z"
   },
   {
    "duration": 20,
    "start_time": "2022-04-14T09:46:30.289Z"
   },
   {
    "duration": 41,
    "start_time": "2022-04-14T09:46:30.311Z"
   },
   {
    "duration": 29,
    "start_time": "2022-04-14T09:46:30.354Z"
   },
   {
    "duration": 15,
    "start_time": "2022-04-14T09:46:30.385Z"
   },
   {
    "duration": 16,
    "start_time": "2022-04-14T09:46:30.402Z"
   },
   {
    "duration": 31,
    "start_time": "2022-04-14T09:46:30.420Z"
   },
   {
    "duration": 13,
    "start_time": "2022-04-14T09:46:30.454Z"
   },
   {
    "duration": 31,
    "start_time": "2022-04-14T09:46:30.468Z"
   },
   {
    "duration": 23,
    "start_time": "2022-04-14T09:46:30.501Z"
   },
   {
    "duration": 27,
    "start_time": "2022-04-14T09:46:30.526Z"
   },
   {
    "duration": 17,
    "start_time": "2022-04-14T09:46:30.555Z"
   },
   {
    "duration": 38,
    "start_time": "2022-04-14T09:46:30.574Z"
   },
   {
    "duration": 40,
    "start_time": "2022-04-14T09:46:30.613Z"
   },
   {
    "duration": 26,
    "start_time": "2022-04-14T09:46:30.656Z"
   },
   {
    "duration": 34,
    "start_time": "2022-04-14T09:46:30.684Z"
   },
   {
    "duration": 53,
    "start_time": "2022-04-14T09:46:30.720Z"
   },
   {
    "duration": 24,
    "start_time": "2022-04-14T09:48:45.760Z"
   },
   {
    "duration": 15,
    "start_time": "2022-04-14T09:52:05.237Z"
   },
   {
    "duration": 12,
    "start_time": "2022-04-14T09:57:27.326Z"
   },
   {
    "duration": 110,
    "start_time": "2022-04-14T09:57:48.129Z"
   },
   {
    "duration": 12,
    "start_time": "2022-04-14T09:57:55.998Z"
   },
   {
    "duration": 633,
    "start_time": "2022-04-14T10:01:49.372Z"
   },
   {
    "duration": 115,
    "start_time": "2022-04-14T10:01:50.008Z"
   },
   {
    "duration": 58,
    "start_time": "2022-04-14T10:01:50.125Z"
   },
   {
    "duration": 30,
    "start_time": "2022-04-14T10:01:50.186Z"
   },
   {
    "duration": 39,
    "start_time": "2022-04-14T10:01:50.218Z"
   },
   {
    "duration": 7,
    "start_time": "2022-04-14T10:01:50.259Z"
   },
   {
    "duration": 31,
    "start_time": "2022-04-14T10:01:50.268Z"
   },
   {
    "duration": 9,
    "start_time": "2022-04-14T10:01:50.302Z"
   },
   {
    "duration": 57,
    "start_time": "2022-04-14T10:01:50.314Z"
   },
   {
    "duration": 10,
    "start_time": "2022-04-14T10:01:50.377Z"
   },
   {
    "duration": 23,
    "start_time": "2022-04-14T10:01:50.389Z"
   },
   {
    "duration": 48,
    "start_time": "2022-04-14T10:01:50.414Z"
   },
   {
    "duration": 7,
    "start_time": "2022-04-14T10:01:50.465Z"
   },
   {
    "duration": 7,
    "start_time": "2022-04-14T10:01:50.475Z"
   },
   {
    "duration": 16,
    "start_time": "2022-04-14T10:01:50.484Z"
   },
   {
    "duration": 13,
    "start_time": "2022-04-14T10:01:50.502Z"
   },
   {
    "duration": 36,
    "start_time": "2022-04-14T10:01:50.517Z"
   },
   {
    "duration": 6,
    "start_time": "2022-04-14T10:01:50.556Z"
   },
   {
    "duration": 35,
    "start_time": "2022-04-14T10:01:50.564Z"
   },
   {
    "duration": 66,
    "start_time": "2022-04-14T10:01:50.601Z"
   },
   {
    "duration": 5,
    "start_time": "2022-04-14T10:01:50.669Z"
   },
   {
    "duration": 17,
    "start_time": "2022-04-14T10:01:50.676Z"
   },
   {
    "duration": 15,
    "start_time": "2022-04-14T10:01:50.695Z"
   },
   {
    "duration": 13,
    "start_time": "2022-04-14T10:01:50.712Z"
   },
   {
    "duration": 42,
    "start_time": "2022-04-14T10:01:50.727Z"
   },
   {
    "duration": 18,
    "start_time": "2022-04-14T10:01:50.771Z"
   },
   {
    "duration": 29,
    "start_time": "2022-04-14T10:01:50.791Z"
   },
   {
    "duration": 7,
    "start_time": "2022-04-14T10:01:50.826Z"
   },
   {
    "duration": 25,
    "start_time": "2022-04-14T10:01:50.835Z"
   },
   {
    "duration": 13,
    "start_time": "2022-04-14T10:01:50.863Z"
   },
   {
    "duration": 31,
    "start_time": "2022-04-14T10:01:50.878Z"
   },
   {
    "duration": 60,
    "start_time": "2022-04-14T10:01:50.912Z"
   },
   {
    "duration": 28,
    "start_time": "2022-04-14T10:01:50.974Z"
   },
   {
    "duration": 24,
    "start_time": "2022-04-14T10:01:51.005Z"
   },
   {
    "duration": 27,
    "start_time": "2022-04-14T10:01:51.031Z"
   },
   {
    "duration": 27,
    "start_time": "2022-04-14T10:01:51.061Z"
   },
   {
    "duration": 17,
    "start_time": "2022-04-14T10:01:51.090Z"
   },
   {
    "duration": 9,
    "start_time": "2022-04-14T10:01:51.109Z"
   },
   {
    "duration": 15,
    "start_time": "2022-04-14T10:01:51.152Z"
   },
   {
    "duration": 6,
    "start_time": "2022-04-14T10:01:51.169Z"
   },
   {
    "duration": 24,
    "start_time": "2022-04-14T10:01:51.177Z"
   },
   {
    "duration": 54,
    "start_time": "2022-04-14T10:01:51.204Z"
   },
   {
    "duration": 15,
    "start_time": "2022-04-14T10:01:51.260Z"
   },
   {
    "duration": 14,
    "start_time": "2022-04-14T10:01:51.278Z"
   },
   {
    "duration": 19,
    "start_time": "2022-04-14T10:01:51.294Z"
   },
   {
    "duration": 21,
    "start_time": "2022-04-14T10:01:51.315Z"
   },
   {
    "duration": 31,
    "start_time": "2022-04-14T10:01:51.339Z"
   },
   {
    "duration": 14,
    "start_time": "2022-04-14T10:01:51.373Z"
   },
   {
    "duration": 10,
    "start_time": "2022-04-14T10:01:51.389Z"
   },
   {
    "duration": 62,
    "start_time": "2022-04-14T10:01:51.401Z"
   },
   {
    "duration": 30,
    "start_time": "2022-04-14T10:01:51.466Z"
   },
   {
    "duration": 20,
    "start_time": "2022-04-14T10:01:51.499Z"
   },
   {
    "duration": 31,
    "start_time": "2022-04-14T10:01:51.553Z"
   },
   {
    "duration": 27,
    "start_time": "2022-04-14T10:01:51.587Z"
   },
   {
    "duration": 21,
    "start_time": "2022-04-14T10:03:18.676Z"
   },
   {
    "duration": 27,
    "start_time": "2022-04-14T10:03:42.856Z"
   },
   {
    "duration": 706,
    "start_time": "2022-04-14T10:13:45.043Z"
   },
   {
    "duration": 78,
    "start_time": "2022-04-14T10:13:45.753Z"
   },
   {
    "duration": 39,
    "start_time": "2022-04-14T10:13:45.834Z"
   },
   {
    "duration": 20,
    "start_time": "2022-04-14T10:13:45.876Z"
   },
   {
    "duration": 15,
    "start_time": "2022-04-14T10:13:45.898Z"
   },
   {
    "duration": 41,
    "start_time": "2022-04-14T10:13:45.915Z"
   },
   {
    "duration": 34,
    "start_time": "2022-04-14T10:13:45.960Z"
   },
   {
    "duration": 8,
    "start_time": "2022-04-14T10:13:45.997Z"
   },
   {
    "duration": 67,
    "start_time": "2022-04-14T10:13:46.008Z"
   },
   {
    "duration": 12,
    "start_time": "2022-04-14T10:13:46.080Z"
   },
   {
    "duration": 21,
    "start_time": "2022-04-14T10:13:46.094Z"
   },
   {
    "duration": 40,
    "start_time": "2022-04-14T10:13:46.118Z"
   },
   {
    "duration": 8,
    "start_time": "2022-04-14T10:13:46.160Z"
   },
   {
    "duration": 7,
    "start_time": "2022-04-14T10:13:46.170Z"
   },
   {
    "duration": 12,
    "start_time": "2022-04-14T10:13:46.179Z"
   },
   {
    "duration": 61,
    "start_time": "2022-04-14T10:13:46.194Z"
   },
   {
    "duration": 6,
    "start_time": "2022-04-14T10:13:46.257Z"
   },
   {
    "duration": 9,
    "start_time": "2022-04-14T10:13:46.266Z"
   },
   {
    "duration": 32,
    "start_time": "2022-04-14T10:13:46.278Z"
   },
   {
    "duration": 68,
    "start_time": "2022-04-14T10:13:46.312Z"
   },
   {
    "duration": 7,
    "start_time": "2022-04-14T10:13:46.383Z"
   },
   {
    "duration": 10,
    "start_time": "2022-04-14T10:13:46.392Z"
   },
   {
    "duration": 18,
    "start_time": "2022-04-14T10:13:46.404Z"
   },
   {
    "duration": 9,
    "start_time": "2022-04-14T10:13:46.451Z"
   },
   {
    "duration": 10,
    "start_time": "2022-04-14T10:13:46.462Z"
   },
   {
    "duration": 7,
    "start_time": "2022-04-14T10:13:46.474Z"
   },
   {
    "duration": 21,
    "start_time": "2022-04-14T10:13:46.483Z"
   },
   {
    "duration": 8,
    "start_time": "2022-04-14T10:13:46.554Z"
   },
   {
    "duration": 18,
    "start_time": "2022-04-14T10:13:46.564Z"
   },
   {
    "duration": 8,
    "start_time": "2022-04-14T10:13:46.585Z"
   },
   {
    "duration": 67,
    "start_time": "2022-04-14T10:13:46.595Z"
   },
   {
    "duration": 27,
    "start_time": "2022-04-14T10:13:46.664Z"
   },
   {
    "duration": 71,
    "start_time": "2022-04-14T10:13:46.693Z"
   },
   {
    "duration": 36,
    "start_time": "2022-04-14T10:13:46.767Z"
   },
   {
    "duration": 16,
    "start_time": "2022-04-14T10:13:46.806Z"
   },
   {
    "duration": 44,
    "start_time": "2022-04-14T10:13:46.824Z"
   },
   {
    "duration": 17,
    "start_time": "2022-04-14T10:13:46.870Z"
   },
   {
    "duration": 11,
    "start_time": "2022-04-14T10:13:46.890Z"
   },
   {
    "duration": 55,
    "start_time": "2022-04-14T10:13:46.903Z"
   },
   {
    "duration": 13,
    "start_time": "2022-04-14T10:13:46.961Z"
   },
   {
    "duration": 17,
    "start_time": "2022-04-14T10:13:46.976Z"
   },
   {
    "duration": 17,
    "start_time": "2022-04-14T10:13:46.995Z"
   },
   {
    "duration": 39,
    "start_time": "2022-04-14T10:13:47.015Z"
   },
   {
    "duration": 5,
    "start_time": "2022-04-14T10:13:47.058Z"
   },
   {
    "duration": 16,
    "start_time": "2022-04-14T10:13:47.065Z"
   },
   {
    "duration": 18,
    "start_time": "2022-04-14T10:13:47.083Z"
   },
   {
    "duration": 49,
    "start_time": "2022-04-14T10:13:47.104Z"
   },
   {
    "duration": 13,
    "start_time": "2022-04-14T10:13:47.156Z"
   },
   {
    "duration": 9,
    "start_time": "2022-04-14T10:13:47.172Z"
   },
   {
    "duration": 27,
    "start_time": "2022-04-14T10:13:47.183Z"
   },
   {
    "duration": 65,
    "start_time": "2022-04-14T10:13:47.212Z"
   },
   {
    "duration": 19,
    "start_time": "2022-04-14T10:13:47.279Z"
   },
   {
    "duration": 53,
    "start_time": "2022-04-14T10:13:47.300Z"
   },
   {
    "duration": 30,
    "start_time": "2022-04-14T10:13:47.355Z"
   },
   {
    "duration": 571,
    "start_time": "2022-04-14T10:26:01.833Z"
   },
   {
    "duration": 83,
    "start_time": "2022-04-14T10:26:02.407Z"
   },
   {
    "duration": 35,
    "start_time": "2022-04-14T10:26:02.492Z"
   },
   {
    "duration": 39,
    "start_time": "2022-04-14T10:26:02.531Z"
   },
   {
    "duration": 22,
    "start_time": "2022-04-14T10:26:02.572Z"
   },
   {
    "duration": 32,
    "start_time": "2022-04-14T10:26:02.596Z"
   },
   {
    "duration": 37,
    "start_time": "2022-04-14T10:26:02.630Z"
   },
   {
    "duration": 14,
    "start_time": "2022-04-14T10:26:02.669Z"
   },
   {
    "duration": 38,
    "start_time": "2022-04-14T10:26:02.685Z"
   },
   {
    "duration": 21,
    "start_time": "2022-04-14T10:26:02.729Z"
   },
   {
    "duration": 18,
    "start_time": "2022-04-14T10:26:02.753Z"
   },
   {
    "duration": 39,
    "start_time": "2022-04-14T10:26:02.773Z"
   },
   {
    "duration": 19,
    "start_time": "2022-04-14T10:26:02.814Z"
   },
   {
    "duration": 20,
    "start_time": "2022-04-14T10:26:02.835Z"
   },
   {
    "duration": 34,
    "start_time": "2022-04-14T10:26:02.857Z"
   },
   {
    "duration": 30,
    "start_time": "2022-04-14T10:26:02.894Z"
   },
   {
    "duration": 32,
    "start_time": "2022-04-14T10:26:02.931Z"
   },
   {
    "duration": 32,
    "start_time": "2022-04-14T10:26:02.972Z"
   },
   {
    "duration": 82,
    "start_time": "2022-04-14T10:26:03.006Z"
   },
   {
    "duration": 36,
    "start_time": "2022-04-14T10:26:03.090Z"
   },
   {
    "duration": 14,
    "start_time": "2022-04-14T10:26:03.129Z"
   },
   {
    "duration": 36,
    "start_time": "2022-04-14T10:26:03.145Z"
   },
   {
    "duration": 32,
    "start_time": "2022-04-14T10:26:03.183Z"
   },
   {
    "duration": 29,
    "start_time": "2022-04-14T10:26:03.217Z"
   },
   {
    "duration": 39,
    "start_time": "2022-04-14T10:26:03.248Z"
   },
   {
    "duration": 46,
    "start_time": "2022-04-14T10:26:03.289Z"
   },
   {
    "duration": 45,
    "start_time": "2022-04-14T10:26:03.337Z"
   },
   {
    "duration": 9,
    "start_time": "2022-04-14T10:26:03.389Z"
   },
   {
    "duration": 31,
    "start_time": "2022-04-14T10:26:03.401Z"
   },
   {
    "duration": 52,
    "start_time": "2022-04-14T10:26:03.434Z"
   },
   {
    "duration": 41,
    "start_time": "2022-04-14T10:26:03.488Z"
   },
   {
    "duration": 35,
    "start_time": "2022-04-14T10:26:03.531Z"
   },
   {
    "duration": 30,
    "start_time": "2022-04-14T10:26:03.568Z"
   },
   {
    "duration": 25,
    "start_time": "2022-04-14T10:26:03.600Z"
   },
   {
    "duration": 31,
    "start_time": "2022-04-14T10:26:03.627Z"
   },
   {
    "duration": 39,
    "start_time": "2022-04-14T10:26:03.660Z"
   },
   {
    "duration": 17,
    "start_time": "2022-04-14T10:26:03.701Z"
   },
   {
    "duration": 25,
    "start_time": "2022-04-14T10:26:03.720Z"
   },
   {
    "duration": 34,
    "start_time": "2022-04-14T10:26:03.747Z"
   },
   {
    "duration": 32,
    "start_time": "2022-04-14T10:26:03.783Z"
   },
   {
    "duration": 28,
    "start_time": "2022-04-14T10:26:03.818Z"
   },
   {
    "duration": 34,
    "start_time": "2022-04-14T10:26:03.849Z"
   },
   {
    "duration": 25,
    "start_time": "2022-04-14T10:26:03.885Z"
   },
   {
    "duration": 25,
    "start_time": "2022-04-14T10:26:03.912Z"
   },
   {
    "duration": 52,
    "start_time": "2022-04-14T10:26:03.939Z"
   },
   {
    "duration": 43,
    "start_time": "2022-04-14T10:26:03.994Z"
   },
   {
    "duration": 39,
    "start_time": "2022-04-14T10:26:04.039Z"
   },
   {
    "duration": 34,
    "start_time": "2022-04-14T10:26:04.080Z"
   },
   {
    "duration": 18,
    "start_time": "2022-04-14T10:26:04.117Z"
   },
   {
    "duration": 52,
    "start_time": "2022-04-14T10:26:04.137Z"
   },
   {
    "duration": 32,
    "start_time": "2022-04-14T10:26:04.191Z"
   },
   {
    "duration": 32,
    "start_time": "2022-04-14T10:26:04.225Z"
   },
   {
    "duration": 50,
    "start_time": "2022-04-14T10:26:04.259Z"
   },
   {
    "duration": 28,
    "start_time": "2022-04-14T10:26:04.311Z"
   },
   {
    "duration": 663,
    "start_time": "2022-04-14T15:25:36.564Z"
   },
   {
    "duration": 82,
    "start_time": "2022-04-14T15:25:37.230Z"
   },
   {
    "duration": 46,
    "start_time": "2022-04-14T15:25:37.316Z"
   },
   {
    "duration": 21,
    "start_time": "2022-04-14T15:25:37.365Z"
   },
   {
    "duration": 21,
    "start_time": "2022-04-14T15:25:37.389Z"
   },
   {
    "duration": 43,
    "start_time": "2022-04-14T15:25:37.412Z"
   },
   {
    "duration": 54,
    "start_time": "2022-04-14T15:25:37.510Z"
   },
   {
    "duration": 10,
    "start_time": "2022-04-14T15:25:37.568Z"
   },
   {
    "duration": 18,
    "start_time": "2022-04-14T15:25:37.581Z"
   },
   {
    "duration": 22,
    "start_time": "2022-04-14T15:25:37.602Z"
   },
   {
    "duration": 30,
    "start_time": "2022-04-14T15:25:37.627Z"
   },
   {
    "duration": 8,
    "start_time": "2022-04-14T15:25:37.659Z"
   },
   {
    "duration": 10,
    "start_time": "2022-04-14T15:25:37.669Z"
   },
   {
    "duration": 13,
    "start_time": "2022-04-14T15:25:37.681Z"
   },
   {
    "duration": 57,
    "start_time": "2022-04-14T15:25:37.696Z"
   },
   {
    "duration": 18,
    "start_time": "2022-04-14T15:25:37.755Z"
   },
   {
    "duration": 43,
    "start_time": "2022-04-14T15:25:37.775Z"
   },
   {
    "duration": 55,
    "start_time": "2022-04-14T15:25:37.821Z"
   },
   {
    "duration": 5,
    "start_time": "2022-04-14T15:25:37.879Z"
   },
   {
    "duration": 12,
    "start_time": "2022-04-14T15:25:37.886Z"
   },
   {
    "duration": 14,
    "start_time": "2022-04-14T15:25:37.901Z"
   },
   {
    "duration": 37,
    "start_time": "2022-04-14T15:25:37.917Z"
   },
   {
    "duration": 19,
    "start_time": "2022-04-14T15:25:37.956Z"
   },
   {
    "duration": 9,
    "start_time": "2022-04-14T15:25:37.977Z"
   },
   {
    "duration": 24,
    "start_time": "2022-04-14T15:25:37.988Z"
   },
   {
    "duration": 39,
    "start_time": "2022-04-14T15:25:38.017Z"
   },
   {
    "duration": 39,
    "start_time": "2022-04-14T15:25:38.058Z"
   },
   {
    "duration": 12,
    "start_time": "2022-04-14T15:25:38.100Z"
   },
   {
    "duration": 51,
    "start_time": "2022-04-14T15:25:38.115Z"
   },
   {
    "duration": 29,
    "start_time": "2022-04-14T15:25:38.168Z"
   },
   {
    "duration": 62,
    "start_time": "2022-04-14T15:25:38.200Z"
   },
   {
    "duration": 28,
    "start_time": "2022-04-14T15:25:38.265Z"
   },
   {
    "duration": 12,
    "start_time": "2022-04-14T15:25:38.295Z"
   },
   {
    "duration": 49,
    "start_time": "2022-04-14T15:25:38.310Z"
   },
   {
    "duration": 20,
    "start_time": "2022-04-14T15:25:38.362Z"
   },
   {
    "duration": 12,
    "start_time": "2022-04-14T15:25:38.384Z"
   },
   {
    "duration": 17,
    "start_time": "2022-04-14T15:25:38.399Z"
   },
   {
    "duration": 35,
    "start_time": "2022-04-14T15:25:38.419Z"
   },
   {
    "duration": 17,
    "start_time": "2022-04-14T15:25:38.457Z"
   },
   {
    "duration": 18,
    "start_time": "2022-04-14T15:25:38.476Z"
   },
   {
    "duration": 15,
    "start_time": "2022-04-14T15:25:38.496Z"
   },
   {
    "duration": 45,
    "start_time": "2022-04-14T15:25:38.514Z"
   },
   {
    "duration": 18,
    "start_time": "2022-04-14T15:25:38.562Z"
   },
   {
    "duration": 22,
    "start_time": "2022-04-14T15:25:38.582Z"
   },
   {
    "duration": 543,
    "start_time": "2022-04-14T15:25:40.431Z"
   },
   {
    "duration": 99,
    "start_time": "2022-04-14T15:25:40.977Z"
   },
   {
    "duration": 49,
    "start_time": "2022-04-14T15:25:41.078Z"
   },
   {
    "duration": 42,
    "start_time": "2022-04-14T15:25:41.131Z"
   },
   {
    "duration": 20,
    "start_time": "2022-04-14T15:25:41.176Z"
   },
   {
    "duration": 7,
    "start_time": "2022-04-14T15:25:41.199Z"
   },
   {
    "duration": 60,
    "start_time": "2022-04-14T15:25:41.209Z"
   },
   {
    "duration": 11,
    "start_time": "2022-04-14T15:25:41.271Z"
   },
   {
    "duration": 32,
    "start_time": "2022-04-14T15:25:41.284Z"
   },
   {
    "duration": 33,
    "start_time": "2022-04-14T15:25:41.321Z"
   },
   {
    "duration": 18,
    "start_time": "2022-04-14T15:25:41.357Z"
   },
   {
    "duration": 26,
    "start_time": "2022-04-14T15:25:41.377Z"
   },
   {
    "duration": 10,
    "start_time": "2022-04-14T15:25:41.406Z"
   },
   {
    "duration": 38,
    "start_time": "2022-04-14T15:25:41.418Z"
   },
   {
    "duration": 14,
    "start_time": "2022-04-14T15:25:41.458Z"
   },
   {
    "duration": 22,
    "start_time": "2022-04-14T15:25:41.474Z"
   },
   {
    "duration": 6,
    "start_time": "2022-04-14T15:25:41.498Z"
   },
   {
    "duration": 11,
    "start_time": "2022-04-14T15:25:41.507Z"
   },
   {
    "duration": 34,
    "start_time": "2022-04-14T15:25:41.553Z"
   },
   {
    "duration": 32,
    "start_time": "2022-04-14T15:25:41.590Z"
   },
   {
    "duration": 6,
    "start_time": "2022-04-14T15:25:41.653Z"
   },
   {
    "duration": 7,
    "start_time": "2022-04-14T15:25:41.661Z"
   },
   {
    "duration": 14,
    "start_time": "2022-04-14T15:25:41.670Z"
   },
   {
    "duration": 7,
    "start_time": "2022-04-14T15:25:41.687Z"
   },
   {
    "duration": 10,
    "start_time": "2022-04-14T15:25:41.696Z"
   },
   {
    "duration": 47,
    "start_time": "2022-04-14T15:25:41.709Z"
   },
   {
    "duration": 24,
    "start_time": "2022-04-14T15:25:41.759Z"
   },
   {
    "duration": 8,
    "start_time": "2022-04-14T15:25:41.791Z"
   },
   {
    "duration": 50,
    "start_time": "2022-04-14T15:25:41.802Z"
   },
   {
    "duration": 10,
    "start_time": "2022-04-14T15:25:41.854Z"
   },
   {
    "duration": 32,
    "start_time": "2022-04-14T15:25:41.867Z"
   },
   {
    "duration": 67,
    "start_time": "2022-04-14T15:25:41.901Z"
   },
   {
    "duration": 46,
    "start_time": "2022-04-14T15:25:41.971Z"
   },
   {
    "duration": 55,
    "start_time": "2022-04-14T15:25:42.020Z"
   },
   {
    "duration": 16,
    "start_time": "2022-04-14T15:25:42.078Z"
   },
   {
    "duration": 21,
    "start_time": "2022-04-14T15:25:42.096Z"
   },
   {
    "duration": 47,
    "start_time": "2022-04-14T15:25:42.119Z"
   },
   {
    "duration": 10,
    "start_time": "2022-04-14T15:25:42.169Z"
   },
   {
    "duration": 16,
    "start_time": "2022-04-14T15:25:42.183Z"
   },
   {
    "duration": 6,
    "start_time": "2022-04-14T15:25:42.202Z"
   },
   {
    "duration": 51,
    "start_time": "2022-04-14T15:25:42.211Z"
   },
   {
    "duration": 22,
    "start_time": "2022-04-14T15:25:42.264Z"
   },
   {
    "duration": 12,
    "start_time": "2022-04-14T15:25:42.289Z"
   },
   {
    "duration": 7,
    "start_time": "2022-04-14T15:25:42.303Z"
   },
   {
    "duration": 46,
    "start_time": "2022-04-14T15:25:42.312Z"
   },
   {
    "duration": 18,
    "start_time": "2022-04-14T15:25:42.361Z"
   },
   {
    "duration": 21,
    "start_time": "2022-04-14T15:25:42.382Z"
   },
   {
    "duration": 14,
    "start_time": "2022-04-14T15:25:42.405Z"
   },
   {
    "duration": 7,
    "start_time": "2022-04-14T15:25:42.452Z"
   },
   {
    "duration": 31,
    "start_time": "2022-04-14T15:25:42.461Z"
   },
   {
    "duration": 31,
    "start_time": "2022-04-14T15:25:42.494Z"
   },
   {
    "duration": 40,
    "start_time": "2022-04-14T15:25:42.527Z"
   },
   {
    "duration": 32,
    "start_time": "2022-04-14T15:25:42.569Z"
   },
   {
    "duration": 62,
    "start_time": "2022-04-14T15:25:42.603Z"
   },
   {
    "duration": 663,
    "start_time": "2022-04-14T15:26:37.300Z"
   },
   {
    "duration": 119,
    "start_time": "2022-04-14T15:26:37.967Z"
   },
   {
    "duration": 40,
    "start_time": "2022-04-14T15:26:38.089Z"
   },
   {
    "duration": 24,
    "start_time": "2022-04-14T15:26:38.152Z"
   },
   {
    "duration": 22,
    "start_time": "2022-04-14T15:26:38.180Z"
   },
   {
    "duration": 8,
    "start_time": "2022-04-14T15:26:38.205Z"
   },
   {
    "duration": 57,
    "start_time": "2022-04-14T15:26:38.216Z"
   },
   {
    "duration": 9,
    "start_time": "2022-04-14T15:26:38.276Z"
   },
   {
    "duration": 22,
    "start_time": "2022-04-14T15:26:38.288Z"
   },
   {
    "duration": 14,
    "start_time": "2022-04-14T15:26:38.351Z"
   },
   {
    "duration": 26,
    "start_time": "2022-04-14T15:26:38.368Z"
   },
   {
    "duration": 17,
    "start_time": "2022-04-14T15:26:38.397Z"
   },
   {
    "duration": 42,
    "start_time": "2022-04-14T15:26:38.416Z"
   },
   {
    "duration": 7,
    "start_time": "2022-04-14T15:26:38.461Z"
   },
   {
    "duration": 13,
    "start_time": "2022-04-14T15:26:38.470Z"
   },
   {
    "duration": 17,
    "start_time": "2022-04-14T15:26:38.486Z"
   },
   {
    "duration": 46,
    "start_time": "2022-04-14T15:26:38.506Z"
   },
   {
    "duration": 8,
    "start_time": "2022-04-14T15:26:38.555Z"
   },
   {
    "duration": 36,
    "start_time": "2022-04-14T15:26:38.565Z"
   },
   {
    "duration": 84,
    "start_time": "2022-04-14T15:26:38.604Z"
   },
   {
    "duration": 6,
    "start_time": "2022-04-14T15:26:38.691Z"
   },
   {
    "duration": 13,
    "start_time": "2022-04-14T15:26:38.700Z"
   },
   {
    "duration": 45,
    "start_time": "2022-04-14T15:26:38.716Z"
   },
   {
    "duration": 9,
    "start_time": "2022-04-14T15:26:38.764Z"
   },
   {
    "duration": 12,
    "start_time": "2022-04-14T15:26:38.776Z"
   },
   {
    "duration": 8,
    "start_time": "2022-04-14T15:26:38.792Z"
   },
   {
    "duration": 65,
    "start_time": "2022-04-14T15:26:38.805Z"
   },
   {
    "duration": 10,
    "start_time": "2022-04-14T15:26:38.878Z"
   },
   {
    "duration": 23,
    "start_time": "2022-04-14T15:26:38.891Z"
   },
   {
    "duration": 42,
    "start_time": "2022-04-14T15:26:38.917Z"
   },
   {
    "duration": 43,
    "start_time": "2022-04-14T15:26:38.962Z"
   },
   {
    "duration": 64,
    "start_time": "2022-04-14T15:26:39.007Z"
   },
   {
    "duration": 39,
    "start_time": "2022-04-14T15:26:39.073Z"
   },
   {
    "duration": 58,
    "start_time": "2022-04-14T15:26:39.115Z"
   },
   {
    "duration": 15,
    "start_time": "2022-04-14T15:26:39.175Z"
   },
   {
    "duration": 24,
    "start_time": "2022-04-14T15:26:39.193Z"
   },
   {
    "duration": 45,
    "start_time": "2022-04-14T15:26:39.220Z"
   },
   {
    "duration": 11,
    "start_time": "2022-04-14T15:26:39.268Z"
   },
   {
    "duration": 23,
    "start_time": "2022-04-14T15:26:39.281Z"
   },
   {
    "duration": 7,
    "start_time": "2022-04-14T15:26:39.306Z"
   },
   {
    "duration": 47,
    "start_time": "2022-04-14T15:26:39.317Z"
   },
   {
    "duration": 22,
    "start_time": "2022-04-14T15:26:39.367Z"
   },
   {
    "duration": 18,
    "start_time": "2022-04-14T15:26:39.392Z"
   },
   {
    "duration": 9,
    "start_time": "2022-04-14T15:26:39.412Z"
   },
   {
    "duration": 13,
    "start_time": "2022-04-14T15:26:39.451Z"
   },
   {
    "duration": 22,
    "start_time": "2022-04-14T15:26:39.466Z"
   },
   {
    "duration": 18,
    "start_time": "2022-04-14T15:26:39.492Z"
   },
   {
    "duration": 10,
    "start_time": "2022-04-14T15:26:39.513Z"
   },
   {
    "duration": 8,
    "start_time": "2022-04-14T15:26:39.551Z"
   },
   {
    "duration": 29,
    "start_time": "2022-04-14T15:26:39.561Z"
   },
   {
    "duration": 68,
    "start_time": "2022-04-14T15:26:39.593Z"
   },
   {
    "duration": 20,
    "start_time": "2022-04-14T15:26:39.663Z"
   },
   {
    "duration": 34,
    "start_time": "2022-04-14T15:26:39.685Z"
   },
   {
    "duration": 55,
    "start_time": "2022-04-14T15:26:39.722Z"
   },
   {
    "duration": 420,
    "start_time": "2023-01-14T12:38:47.192Z"
   },
   {
    "duration": 643,
    "start_time": "2023-01-14T12:38:47.613Z"
   },
   {
    "duration": 22,
    "start_time": "2023-01-14T12:38:48.261Z"
   },
   {
    "duration": 13,
    "start_time": "2023-01-14T12:38:48.284Z"
   },
   {
    "duration": 8,
    "start_time": "2023-01-14T12:38:48.299Z"
   },
   {
    "duration": 5,
    "start_time": "2023-01-14T12:38:48.309Z"
   },
   {
    "duration": 16,
    "start_time": "2023-01-14T12:38:48.315Z"
   },
   {
    "duration": 5,
    "start_time": "2023-01-14T12:38:48.333Z"
   },
   {
    "duration": 13,
    "start_time": "2023-01-14T12:38:48.340Z"
   },
   {
    "duration": 6,
    "start_time": "2023-01-14T12:38:48.355Z"
   },
   {
    "duration": 43,
    "start_time": "2023-01-14T12:38:48.362Z"
   },
   {
    "duration": 9,
    "start_time": "2023-01-14T12:38:48.407Z"
   },
   {
    "duration": 4,
    "start_time": "2023-01-14T12:38:48.418Z"
   },
   {
    "duration": 7,
    "start_time": "2023-01-14T12:38:48.424Z"
   },
   {
    "duration": 10,
    "start_time": "2023-01-14T12:38:48.433Z"
   },
   {
    "duration": 13,
    "start_time": "2023-01-14T12:38:48.444Z"
   },
   {
    "duration": 3,
    "start_time": "2023-01-14T12:38:48.459Z"
   },
   {
    "duration": 33,
    "start_time": "2023-01-14T12:38:48.464Z"
   },
   {
    "duration": 21,
    "start_time": "2023-01-14T12:38:48.498Z"
   },
   {
    "duration": 20,
    "start_time": "2023-01-14T12:38:48.520Z"
   },
   {
    "duration": 4,
    "start_time": "2023-01-14T12:38:48.541Z"
   },
   {
    "duration": 9,
    "start_time": "2023-01-14T12:38:48.546Z"
   },
   {
    "duration": 10,
    "start_time": "2023-01-14T12:38:48.557Z"
   },
   {
    "duration": 7,
    "start_time": "2023-01-14T12:38:48.595Z"
   },
   {
    "duration": 8,
    "start_time": "2023-01-14T12:38:48.604Z"
   },
   {
    "duration": 5,
    "start_time": "2023-01-14T12:38:48.614Z"
   },
   {
    "duration": 14,
    "start_time": "2023-01-14T12:38:48.624Z"
   },
   {
    "duration": 5,
    "start_time": "2023-01-14T12:38:48.640Z"
   },
   {
    "duration": 51,
    "start_time": "2023-01-14T12:38:48.647Z"
   },
   {
    "duration": 7,
    "start_time": "2023-01-14T12:38:48.700Z"
   },
   {
    "duration": 21,
    "start_time": "2023-01-14T12:38:48.709Z"
   },
   {
    "duration": 19,
    "start_time": "2023-01-14T12:38:48.732Z"
   },
   {
    "duration": 52,
    "start_time": "2023-01-14T12:38:48.752Z"
   },
   {
    "duration": 16,
    "start_time": "2023-01-14T12:38:48.806Z"
   },
   {
    "duration": 8,
    "start_time": "2023-01-14T12:38:48.824Z"
   },
   {
    "duration": 12,
    "start_time": "2023-01-14T12:38:48.834Z"
   },
   {
    "duration": 10,
    "start_time": "2023-01-14T12:38:48.848Z"
   },
   {
    "duration": 37,
    "start_time": "2023-01-14T12:38:48.859Z"
   },
   {
    "duration": 10,
    "start_time": "2023-01-14T12:38:48.898Z"
   },
   {
    "duration": 4,
    "start_time": "2023-01-14T12:38:48.910Z"
   },
   {
    "duration": 12,
    "start_time": "2023-01-14T12:38:48.915Z"
   },
   {
    "duration": 12,
    "start_time": "2023-01-14T12:38:48.929Z"
   },
   {
    "duration": 9,
    "start_time": "2023-01-14T12:38:48.943Z"
   },
   {
    "duration": 5,
    "start_time": "2023-01-14T12:38:48.954Z"
   },
   {
    "duration": 41,
    "start_time": "2023-01-14T12:38:48.961Z"
   },
   {
    "duration": 14,
    "start_time": "2023-01-14T12:38:49.004Z"
   },
   {
    "duration": 15,
    "start_time": "2023-01-14T12:38:49.020Z"
   },
   {
    "duration": 8,
    "start_time": "2023-01-14T12:38:49.037Z"
   },
   {
    "duration": 7,
    "start_time": "2023-01-14T12:38:49.047Z"
   },
   {
    "duration": 48,
    "start_time": "2023-01-14T12:38:49.056Z"
   },
   {
    "duration": 24,
    "start_time": "2023-01-14T12:38:49.106Z"
   },
   {
    "duration": 16,
    "start_time": "2023-01-14T12:38:49.132Z"
   },
   {
    "duration": 47,
    "start_time": "2023-01-14T12:38:49.150Z"
   },
   {
    "duration": 17,
    "start_time": "2023-01-14T12:38:49.199Z"
   }
  ],
  "kernelspec": {
   "display_name": "Python 3 (ipykernel)",
   "language": "python",
   "name": "python3"
  },
  "language_info": {
   "codemirror_mode": {
    "name": "ipython",
    "version": 3
   },
   "file_extension": ".py",
   "mimetype": "text/x-python",
   "name": "python",
   "nbconvert_exporter": "python",
   "pygments_lexer": "ipython3",
   "version": "3.9.5"
  },
  "toc": {
   "base_numbering": 1,
   "nav_menu": {},
   "number_sections": true,
   "sideBar": true,
   "skip_h1_title": true,
   "title_cell": "Table of Contents",
   "title_sidebar": "Contents",
   "toc_cell": false,
   "toc_position": {
    "height": "calc(100% - 180px)",
    "left": "10px",
    "top": "150px",
    "width": "226.594px"
   },
   "toc_section_display": true,
   "toc_window_display": false
  }
 },
 "nbformat": 4,
 "nbformat_minor": 5
}
