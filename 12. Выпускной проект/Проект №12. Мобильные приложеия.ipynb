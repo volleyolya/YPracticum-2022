{
 "cells": [
  {
   "cell_type": "markdown",
   "metadata": {},
   "source": [
    "# Мобильные приложения — Анализ поведения пользователей в мобильном приложении"
   ]
  },
  {
   "cell_type": "markdown",
   "metadata": {},
   "source": [
    "### Материалы:\n",
    "Презентация - https://disk.yandex.ru/i/goe1TlZnazMiDw"
   ]
  },
  {
   "cell_type": "markdown",
   "metadata": {},
   "source": [
    "**Описание проекта**\n",
    "\n",
    "Данные представлены в двух датасетах:\n",
    "\n",
    "[mobile_dataset.csv](https://disk.yandex.ru/d/KaN8Wffo4Q510Q)\n",
    "\n",
    "[mobile_sources.csv](https://disk.yandex.ru/d/RkfgQSEt-zD6Uw)\n",
    "\n",
    "\n",
    "В мобильном приложении \"Ненужные вещи\" пользователи продают свои ненужные вещи, размещая их на доске объявлений. Нужно разобраться, как ведут себя пользователи мобильного приложения. Выделить сценарии использования приложения, найти особенности и закономерности\n",
    "\n",
    "**Цель исследования:**\n",
    "\n",
    "Управление вовлеченностью аудитории, адаптировать приложение по целевой и смежной аудитории. На основе данных сформулировать гипотезы для оптимизации приложения.\n",
    "\n",
    "**Ход исследования:**\n",
    "\n",
    "- 1 Шаг\n",
    "\n",
    "  Открытие файла. Изучение общей информации\n",
    "\n",
    "\n",
    "- 2  Шаг\n",
    "\n",
    "  Подготовка данных\n",
    "    - проверить даные на корректность написания названия колонок\n",
    "    - привести к нужному формату, если это необходимо\n",
    "    - проверить данные на дубликаты и пропуски\n",
    "    - проверить, какие данные еще могут понадобится в анализе (столбец с датой)\n",
    "    \n",
    "    \n",
    "- 3  Шаг\n",
    "\n",
    "  Исследовательский анализ данных\n",
    "  Ответить на вопросы:\n",
    "    - Сколько всего событий в логе?\n",
    "    - Сколько всего пользователей в логе?\n",
    "    - Сколько в среднем событий приходится на пользователя?\n",
    "    - Данными за какой период мы располагаем? Максимальная и минимальная дата.\n",
    "    - Какие действия чаще совершают те пользователи, которые просматривают контакты?\n",
    "    - Выделить сессии пользователей\n",
    "     \n",
    "    \n",
    "- 4  Шаг\n",
    "\n",
    "  Изучение воронки событий\n",
    "\n",
    "- Построить воронку и проанализировать связь целевого события — просмотра контактов — и других действий пользователей.\n",
    "- Изучить коэффициент корреляции, построить графики и проанализировать влияние событий на совершение целевого события\n",
    "- Ответить на вопросы:\n",
    "    - Какие события влияют на конверсию в целевое действие?\n",
    "    - Какие сценарии использования приложения выделяются?\n",
    "    - Как различается время между распространенными событиями пользователей?\n",
    "    \n",
    "    \n",
    "- 5  Шаг\n",
    "\n",
    "\n",
    "- Проверка статистических гипотез\n",
    "  \n",
    "  Одни пользователи совершают действия tips_show и tips_click, другие — только tips_show. Проверьте гипотезу: конверсия в просмотры контактов различается у этих двух групп.\n",
    "  \n",
    "  Гипотеза: конверсия в целевое действие выше у пользователей, посмотревших фотографии.\n",
    "Нулевая гипотеза: нет статистически значимой разницы конверсии у двух групп\n",
    "Альтернативная: между группами есть статистически значимая разница\n",
    "\n",
    "\n",
    "- 6  Шаг\n",
    "\n",
    "  Выводы"
   ]
  },
  {
   "cell_type": "markdown",
   "metadata": {},
   "source": [
    "### **Описание данных:**\n",
    "\n",
    "Датасет содержит данные о событиях, совершенных в мобильном приложении \"Ненужные вещи\". В нем пользователи продают свои ненужные вещи, размещая их на доске объявлений.\n",
    "\n",
    "В датасете содержатся данные пользователей, впервые совершивших действия в приложении после 7 октября 2019 года.\n",
    "\n",
    "Колонки в *mobile_sources.csv*: \n",
    "\n",
    "- `userId` — идентификатор пользователя,\n",
    "- `source` — источник, с которого пользователь установил приложение.\n",
    "\n",
    "Колонки в mobile_dataset.csv: **\n",
    "\n",
    "- `event.time` — время совершения,\n",
    "- `user.id` — идентификатор пользователя,\n",
    "- `event.name` — действие пользователя.\n",
    "\n",
    "Виды действий:\n",
    "\n",
    "- `advert_open` — открыл карточки объявления,\n",
    "- `photos_show` — просмотрел фотографий в объявлении,\n",
    "- `tips_show` — увидел рекомендованные объявления,\n",
    "- `tips_click` — кликнул по рекомендованному объявлению,\n",
    "- `contacts_show` и `show_contacts` — посмотрел номер телефона,\n",
    "- `contacts_call` — позвонил по номеру из объявления,\n",
    "- `map` — открыл карту объявлений,\n",
    "- `search_1`—`search_7` — разные действия, связанные с поиском по сайту,\n",
    "- `favorites_add` — добавил объявление в избранное."
   ]
  },
  {
   "cell_type": "code",
   "execution_count": 1,
   "metadata": {},
   "outputs": [],
   "source": [
    "# импорт библиотек\n",
    "import pandas as pd\n",
    "from scipy import stats as st\n",
    "import datetime as dt\n",
    "import numpy as np\n",
    "import matplotlib.pyplot as plt\n",
    "from pandas.plotting import register_matplotlib_converters\n",
    "import warnings\n",
    "import math as mth\n",
    "from plotly import graph_objects as go"
   ]
  },
  {
   "cell_type": "code",
   "execution_count": 2,
   "metadata": {},
   "outputs": [
    {
     "name": "stdout",
     "output_type": "stream",
     "text": [
      "Note: you may need to restart the kernel to use updated packages.\n"
     ]
    }
   ],
   "source": [
    "%pip install -U kaleido -q\n",
    "\n",
    "import plotly.io as pio\n",
    "pio.renderers.default = \"png\""
   ]
  },
  {
   "cell_type": "code",
   "execution_count": 3,
   "metadata": {},
   "outputs": [
    {
     "data": {
      "application/javascript": [
       "IPython.notebook.set_autosave_interval(30000)"
      ]
     },
     "metadata": {},
     "output_type": "display_data"
    },
    {
     "name": "stdout",
     "output_type": "stream",
     "text": [
      "Autosaving every 30 seconds\n"
     ]
    }
   ],
   "source": [
    "%autosave 30"
   ]
  },
  {
   "cell_type": "markdown",
   "metadata": {},
   "source": [
    "## Открытие файла, изучение общей информации"
   ]
  },
  {
   "cell_type": "code",
   "execution_count": 4,
   "metadata": {},
   "outputs": [],
   "source": [
    "# чтение файлов\n",
    "mobile_sourсes = pd.read_csv('https://code.s3.yandex.net/datasets/mobile_sources.csv')\n",
    "mobile_dataset = pd.read_csv('https://code.s3.yandex.net/datasets/mobile_dataset.csv')"
   ]
  },
  {
   "cell_type": "code",
   "execution_count": 5,
   "metadata": {},
   "outputs": [
    {
     "data": {
      "text/html": [
       "<div>\n",
       "<style scoped>\n",
       "    .dataframe tbody tr th:only-of-type {\n",
       "        vertical-align: middle;\n",
       "    }\n",
       "\n",
       "    .dataframe tbody tr th {\n",
       "        vertical-align: top;\n",
       "    }\n",
       "\n",
       "    .dataframe thead th {\n",
       "        text-align: right;\n",
       "    }\n",
       "</style>\n",
       "<table border=\"1\" class=\"dataframe\">\n",
       "  <thead>\n",
       "    <tr style=\"text-align: right;\">\n",
       "      <th></th>\n",
       "      <th>userId</th>\n",
       "      <th>source</th>\n",
       "    </tr>\n",
       "  </thead>\n",
       "  <tbody>\n",
       "    <tr>\n",
       "      <th>0</th>\n",
       "      <td>020292ab-89bc-4156-9acf-68bc2783f894</td>\n",
       "      <td>other</td>\n",
       "    </tr>\n",
       "    <tr>\n",
       "      <th>1</th>\n",
       "      <td>cf7eda61-9349-469f-ac27-e5b6f5ec475c</td>\n",
       "      <td>yandex</td>\n",
       "    </tr>\n",
       "    <tr>\n",
       "      <th>2</th>\n",
       "      <td>8c356c42-3ba9-4cb6-80b8-3f868d0192c3</td>\n",
       "      <td>yandex</td>\n",
       "    </tr>\n",
       "    <tr>\n",
       "      <th>3</th>\n",
       "      <td>d9b06b47-0f36-419b-bbb0-3533e582a6cb</td>\n",
       "      <td>other</td>\n",
       "    </tr>\n",
       "    <tr>\n",
       "      <th>4</th>\n",
       "      <td>f32e1e2a-3027-4693-b793-b7b3ff274439</td>\n",
       "      <td>google</td>\n",
       "    </tr>\n",
       "  </tbody>\n",
       "</table>\n",
       "</div>"
      ],
      "text/plain": [
       "                                 userId  source\n",
       "0  020292ab-89bc-4156-9acf-68bc2783f894   other\n",
       "1  cf7eda61-9349-469f-ac27-e5b6f5ec475c  yandex\n",
       "2  8c356c42-3ba9-4cb6-80b8-3f868d0192c3  yandex\n",
       "3  d9b06b47-0f36-419b-bbb0-3533e582a6cb   other\n",
       "4  f32e1e2a-3027-4693-b793-b7b3ff274439  google"
      ]
     },
     "execution_count": 5,
     "metadata": {},
     "output_type": "execute_result"
    }
   ],
   "source": [
    "mobile_sourсes.head() # обзор данных mobile_sourсes"
   ]
  },
  {
   "cell_type": "markdown",
   "metadata": {},
   "source": [
    "В ближайшем анализе эти данные нам не пригодятся. Сосредоточимся на датасете mobile_dataset"
   ]
  },
  {
   "cell_type": "code",
   "execution_count": 6,
   "metadata": {},
   "outputs": [
    {
     "data": {
      "text/html": [
       "<div>\n",
       "<style scoped>\n",
       "    .dataframe tbody tr th:only-of-type {\n",
       "        vertical-align: middle;\n",
       "    }\n",
       "\n",
       "    .dataframe tbody tr th {\n",
       "        vertical-align: top;\n",
       "    }\n",
       "\n",
       "    .dataframe thead th {\n",
       "        text-align: right;\n",
       "    }\n",
       "</style>\n",
       "<table border=\"1\" class=\"dataframe\">\n",
       "  <thead>\n",
       "    <tr style=\"text-align: right;\">\n",
       "      <th></th>\n",
       "      <th>event.time</th>\n",
       "      <th>event.name</th>\n",
       "      <th>user.id</th>\n",
       "    </tr>\n",
       "  </thead>\n",
       "  <tbody>\n",
       "    <tr>\n",
       "      <th>0</th>\n",
       "      <td>2019-10-07 00:00:00.431357</td>\n",
       "      <td>advert_open</td>\n",
       "      <td>020292ab-89bc-4156-9acf-68bc2783f894</td>\n",
       "    </tr>\n",
       "    <tr>\n",
       "      <th>1</th>\n",
       "      <td>2019-10-07 00:00:01.236320</td>\n",
       "      <td>tips_show</td>\n",
       "      <td>020292ab-89bc-4156-9acf-68bc2783f894</td>\n",
       "    </tr>\n",
       "    <tr>\n",
       "      <th>2</th>\n",
       "      <td>2019-10-07 00:00:02.245341</td>\n",
       "      <td>tips_show</td>\n",
       "      <td>cf7eda61-9349-469f-ac27-e5b6f5ec475c</td>\n",
       "    </tr>\n",
       "    <tr>\n",
       "      <th>3</th>\n",
       "      <td>2019-10-07 00:00:07.039334</td>\n",
       "      <td>tips_show</td>\n",
       "      <td>020292ab-89bc-4156-9acf-68bc2783f894</td>\n",
       "    </tr>\n",
       "    <tr>\n",
       "      <th>4</th>\n",
       "      <td>2019-10-07 00:00:56.319813</td>\n",
       "      <td>advert_open</td>\n",
       "      <td>cf7eda61-9349-469f-ac27-e5b6f5ec475c</td>\n",
       "    </tr>\n",
       "    <tr>\n",
       "      <th>5</th>\n",
       "      <td>2019-10-07 00:01:19.993624</td>\n",
       "      <td>tips_show</td>\n",
       "      <td>cf7eda61-9349-469f-ac27-e5b6f5ec475c</td>\n",
       "    </tr>\n",
       "    <tr>\n",
       "      <th>6</th>\n",
       "      <td>2019-10-07 00:01:27.770232</td>\n",
       "      <td>advert_open</td>\n",
       "      <td>020292ab-89bc-4156-9acf-68bc2783f894</td>\n",
       "    </tr>\n",
       "    <tr>\n",
       "      <th>7</th>\n",
       "      <td>2019-10-07 00:01:34.804591</td>\n",
       "      <td>tips_show</td>\n",
       "      <td>020292ab-89bc-4156-9acf-68bc2783f894</td>\n",
       "    </tr>\n",
       "    <tr>\n",
       "      <th>8</th>\n",
       "      <td>2019-10-07 00:01:49.732803</td>\n",
       "      <td>advert_open</td>\n",
       "      <td>cf7eda61-9349-469f-ac27-e5b6f5ec475c</td>\n",
       "    </tr>\n",
       "    <tr>\n",
       "      <th>9</th>\n",
       "      <td>2019-10-07 00:01:54.958298</td>\n",
       "      <td>advert_open</td>\n",
       "      <td>020292ab-89bc-4156-9acf-68bc2783f894</td>\n",
       "    </tr>\n",
       "    <tr>\n",
       "      <th>10</th>\n",
       "      <td>2019-10-07 00:02:01.354436</td>\n",
       "      <td>tips_show</td>\n",
       "      <td>020292ab-89bc-4156-9acf-68bc2783f894</td>\n",
       "    </tr>\n",
       "    <tr>\n",
       "      <th>11</th>\n",
       "      <td>2019-10-07 00:02:06.225301</td>\n",
       "      <td>tips_show</td>\n",
       "      <td>cf7eda61-9349-469f-ac27-e5b6f5ec475c</td>\n",
       "    </tr>\n",
       "    <tr>\n",
       "      <th>12</th>\n",
       "      <td>2019-10-07 00:02:07.374346</td>\n",
       "      <td>tips_show</td>\n",
       "      <td>8c356c42-3ba9-4cb6-80b8-3f868d0192c3</td>\n",
       "    </tr>\n",
       "    <tr>\n",
       "      <th>13</th>\n",
       "      <td>2019-10-07 00:02:25.457498</td>\n",
       "      <td>advert_open</td>\n",
       "      <td>020292ab-89bc-4156-9acf-68bc2783f894</td>\n",
       "    </tr>\n",
       "    <tr>\n",
       "      <th>14</th>\n",
       "      <td>2019-10-07 00:02:30.856380</td>\n",
       "      <td>tips_show</td>\n",
       "      <td>020292ab-89bc-4156-9acf-68bc2783f894</td>\n",
       "    </tr>\n",
       "  </tbody>\n",
       "</table>\n",
       "</div>"
      ],
      "text/plain": [
       "                    event.time   event.name  \\\n",
       "0   2019-10-07 00:00:00.431357  advert_open   \n",
       "1   2019-10-07 00:00:01.236320    tips_show   \n",
       "2   2019-10-07 00:00:02.245341    tips_show   \n",
       "3   2019-10-07 00:00:07.039334    tips_show   \n",
       "4   2019-10-07 00:00:56.319813  advert_open   \n",
       "5   2019-10-07 00:01:19.993624    tips_show   \n",
       "6   2019-10-07 00:01:27.770232  advert_open   \n",
       "7   2019-10-07 00:01:34.804591    tips_show   \n",
       "8   2019-10-07 00:01:49.732803  advert_open   \n",
       "9   2019-10-07 00:01:54.958298  advert_open   \n",
       "10  2019-10-07 00:02:01.354436    tips_show   \n",
       "11  2019-10-07 00:02:06.225301    tips_show   \n",
       "12  2019-10-07 00:02:07.374346    tips_show   \n",
       "13  2019-10-07 00:02:25.457498  advert_open   \n",
       "14  2019-10-07 00:02:30.856380    tips_show   \n",
       "\n",
       "                                 user.id  \n",
       "0   020292ab-89bc-4156-9acf-68bc2783f894  \n",
       "1   020292ab-89bc-4156-9acf-68bc2783f894  \n",
       "2   cf7eda61-9349-469f-ac27-e5b6f5ec475c  \n",
       "3   020292ab-89bc-4156-9acf-68bc2783f894  \n",
       "4   cf7eda61-9349-469f-ac27-e5b6f5ec475c  \n",
       "5   cf7eda61-9349-469f-ac27-e5b6f5ec475c  \n",
       "6   020292ab-89bc-4156-9acf-68bc2783f894  \n",
       "7   020292ab-89bc-4156-9acf-68bc2783f894  \n",
       "8   cf7eda61-9349-469f-ac27-e5b6f5ec475c  \n",
       "9   020292ab-89bc-4156-9acf-68bc2783f894  \n",
       "10  020292ab-89bc-4156-9acf-68bc2783f894  \n",
       "11  cf7eda61-9349-469f-ac27-e5b6f5ec475c  \n",
       "12  8c356c42-3ba9-4cb6-80b8-3f868d0192c3  \n",
       "13  020292ab-89bc-4156-9acf-68bc2783f894  \n",
       "14  020292ab-89bc-4156-9acf-68bc2783f894  "
      ]
     },
     "execution_count": 6,
     "metadata": {},
     "output_type": "execute_result"
    }
   ],
   "source": [
    "mobile_dataset.head(15) # обзор данных mobile_dataset"
   ]
  },
  {
   "cell_type": "code",
   "execution_count": 7,
   "metadata": {},
   "outputs": [
    {
     "name": "stdout",
     "output_type": "stream",
     "text": [
      "<class 'pandas.core.frame.DataFrame'>\n",
      "RangeIndex: 74197 entries, 0 to 74196\n",
      "Data columns (total 3 columns):\n",
      " #   Column      Non-Null Count  Dtype \n",
      "---  ------      --------------  ----- \n",
      " 0   event.time  74197 non-null  object\n",
      " 1   event.name  74197 non-null  object\n",
      " 2   user.id     74197 non-null  object\n",
      "dtypes: object(3)\n",
      "memory usage: 1.7+ MB\n"
     ]
    }
   ],
   "source": [
    "mobile_dataset.info() # получение общей информации"
   ]
  },
  {
   "cell_type": "code",
   "execution_count": 8,
   "metadata": {},
   "outputs": [
    {
     "data": {
      "text/plain": [
       "0"
      ]
     },
     "execution_count": 8,
     "metadata": {},
     "output_type": "execute_result"
    }
   ],
   "source": [
    "mobile_dataset.duplicated().sum() # проверка данных на дубликаты"
   ]
  },
  {
   "cell_type": "markdown",
   "metadata": {},
   "source": [
    "**Выводы:**\n",
    "\n",
    " В блоке изучения информации я выяснила:\n",
    " \n",
    "   - В данных 74197 событий\n",
    "   - Пропусков не обнаружено \n",
    "   - Дубликатов не обнаружено\n",
    "   - Столбец со временем в формате object\n",
    "\n",
    "Приняла решение:\n",
    "\n",
    " Переформатировать столбец, где указано время. Переименую столбцы в соответствии с хорошим стилем."
   ]
  },
  {
   "cell_type": "markdown",
   "metadata": {},
   "source": [
    "## Подготовка данных"
   ]
  },
  {
   "cell_type": "code",
   "execution_count": 9,
   "metadata": {},
   "outputs": [],
   "source": [
    "mobile_dataset['event.time'] = pd.to_datetime(mobile_dataset['event.time']) # привела к формату даты и времени"
   ]
  },
  {
   "cell_type": "code",
   "execution_count": 10,
   "metadata": {},
   "outputs": [],
   "source": [
    "mobile_dataset.columns = ['event_time', 'event_name', 'user_id'] # Поменяла названия столбцов"
   ]
  },
  {
   "cell_type": "code",
   "execution_count": 11,
   "metadata": {},
   "outputs": [],
   "source": [
    "# добавим новый столбец, куда запишем отдельно дату\n",
    "mobile_dataset['date'] = mobile_dataset['event_time'].dt.date\n",
    "mobile_dataset['date'] = mobile_dataset['date'].astype('datetime64') # приведем к нужному формату"
   ]
  },
  {
   "cell_type": "code",
   "execution_count": 12,
   "metadata": {},
   "outputs": [
    {
     "name": "stdout",
     "output_type": "stream",
     "text": [
      "<class 'pandas.core.frame.DataFrame'>\n",
      "RangeIndex: 74197 entries, 0 to 74196\n",
      "Data columns (total 4 columns):\n",
      " #   Column      Non-Null Count  Dtype         \n",
      "---  ------      --------------  -----         \n",
      " 0   event_time  74197 non-null  datetime64[ns]\n",
      " 1   event_name  74197 non-null  object        \n",
      " 2   user_id     74197 non-null  object        \n",
      " 3   date        74197 non-null  datetime64[ns]\n",
      "dtypes: datetime64[ns](2), object(2)\n",
      "memory usage: 2.3+ MB\n"
     ]
    }
   ],
   "source": [
    "mobile_dataset.info() # Проверка метода"
   ]
  },
  {
   "cell_type": "markdown",
   "metadata": {},
   "source": [
    "По описанию данных вид действий `contacts_show` и `show_contacts` - это одно и тоже действие - посмотрел номер телефона. Переименую show_contacts, тем самым обёединив эти действия."
   ]
  },
  {
   "cell_type": "code",
   "execution_count": 13,
   "metadata": {},
   "outputs": [],
   "source": [
    "mobile_dataset['event_name'] = (mobile_dataset['event_name']\n",
    "                                .str.replace('show_contacts', 'contacts_show', regex = True))"
   ]
  },
  {
   "cell_type": "code",
   "execution_count": 14,
   "metadata": {},
   "outputs": [
    {
     "data": {
      "text/plain": [
       "tips_show        40055\n",
       "photos_show      10012\n",
       "advert_open       6164\n",
       "contacts_show     4529\n",
       "map               3881\n",
       "search_1          3506\n",
       "favorites_add     1417\n",
       "search_5          1049\n",
       "tips_click         814\n",
       "search_4           701\n",
       "contacts_call      541\n",
       "search_3           522\n",
       "search_6           460\n",
       "search_2           324\n",
       "search_7           222\n",
       "Name: event_name, dtype: int64"
      ]
     },
     "execution_count": 14,
     "metadata": {},
     "output_type": "execute_result"
    }
   ],
   "source": [
    "mobile_dataset['event_name'].value_counts() # Проверка метода"
   ]
  },
  {
   "cell_type": "markdown",
   "metadata": {},
   "source": [
    "В описании данных встречается 7 разных методов поиска `search_1—search_7`. Нам для анализа важно установить сам факт поиска, поэтому объеденю их в одно название `search`"
   ]
  },
  {
   "cell_type": "code",
   "execution_count": 15,
   "metadata": {},
   "outputs": [],
   "source": [
    "# функция для объединения search\n",
    "def replace_search(x):\n",
    "    if x in ['search_1', 'search_2', 'search_3', 'search_4', 'search_5', 'search_6', 'search_7']:\n",
    "        return 'search'\n",
    "    return x"
   ]
  },
  {
   "cell_type": "code",
   "execution_count": 16,
   "metadata": {},
   "outputs": [],
   "source": [
    "mobile_dataset['event_name'] = mobile_dataset['event_name'].apply(replace_search) # применим функцию к столбцу"
   ]
  },
  {
   "cell_type": "code",
   "execution_count": 17,
   "metadata": {},
   "outputs": [
    {
     "data": {
      "text/plain": [
       "tips_show        40055\n",
       "photos_show      10012\n",
       "search            6784\n",
       "advert_open       6164\n",
       "contacts_show     4529\n",
       "map               3881\n",
       "favorites_add     1417\n",
       "tips_click         814\n",
       "contacts_call      541\n",
       "Name: event_name, dtype: int64"
      ]
     },
     "execution_count": 17,
     "metadata": {},
     "output_type": "execute_result"
    }
   ],
   "source": [
    "mobile_dataset['event_name'].value_counts() # Проверка метода"
   ]
  },
  {
   "cell_type": "code",
   "execution_count": 18,
   "metadata": {},
   "outputs": [
    {
     "data": {
      "text/plain": [
       "0"
      ]
     },
     "execution_count": 18,
     "metadata": {},
     "output_type": "execute_result"
    }
   ],
   "source": [
    "mobile_dataset.duplicated().sum() # проверка данных на дубликаты"
   ]
  },
  {
   "cell_type": "markdown",
   "metadata": {},
   "source": [
    "**Выводы:**\n",
    "\n",
    "В блоке предобработки я \n",
    "- изменила названия колонок\n",
    "- переформатировала столбец с датой и временем\n",
    "- добавила новвый столбец отдельно с датой\n",
    "- объединила действие просмотра номера телефона\n",
    "- изменила названия поисковых действий"
   ]
  },
  {
   "cell_type": "markdown",
   "metadata": {},
   "source": [
    "## Исследовательский анализ данных"
   ]
  },
  {
   "cell_type": "markdown",
   "metadata": {},
   "source": [
    "Добавим информацию о пользовательских сессиях в столбец session_id"
   ]
  },
  {
   "cell_type": "code",
   "execution_count": 19,
   "metadata": {},
   "outputs": [
    {
     "data": {
      "text/html": [
       "<div>\n",
       "<style scoped>\n",
       "    .dataframe tbody tr th:only-of-type {\n",
       "        vertical-align: middle;\n",
       "    }\n",
       "\n",
       "    .dataframe tbody tr th {\n",
       "        vertical-align: top;\n",
       "    }\n",
       "\n",
       "    .dataframe thead th {\n",
       "        text-align: right;\n",
       "    }\n",
       "</style>\n",
       "<table border=\"1\" class=\"dataframe\">\n",
       "  <thead>\n",
       "    <tr style=\"text-align: right;\">\n",
       "      <th></th>\n",
       "      <th>event_time</th>\n",
       "      <th>event_name</th>\n",
       "      <th>user_id</th>\n",
       "      <th>date</th>\n",
       "      <th>session_id</th>\n",
       "    </tr>\n",
       "  </thead>\n",
       "  <tbody>\n",
       "    <tr>\n",
       "      <th>805</th>\n",
       "      <td>2019-10-07 13:39:45.989359</td>\n",
       "      <td>tips_show</td>\n",
       "      <td>0001b1d5-b74a-4cbf-aeb0-7df5947bf349</td>\n",
       "      <td>2019-10-07</td>\n",
       "      <td>1</td>\n",
       "    </tr>\n",
       "    <tr>\n",
       "      <th>806</th>\n",
       "      <td>2019-10-07 13:40:31.052909</td>\n",
       "      <td>tips_show</td>\n",
       "      <td>0001b1d5-b74a-4cbf-aeb0-7df5947bf349</td>\n",
       "      <td>2019-10-07</td>\n",
       "      <td>1</td>\n",
       "    </tr>\n",
       "    <tr>\n",
       "      <th>809</th>\n",
       "      <td>2019-10-07 13:41:05.722489</td>\n",
       "      <td>tips_show</td>\n",
       "      <td>0001b1d5-b74a-4cbf-aeb0-7df5947bf349</td>\n",
       "      <td>2019-10-07</td>\n",
       "      <td>1</td>\n",
       "    </tr>\n",
       "    <tr>\n",
       "      <th>820</th>\n",
       "      <td>2019-10-07 13:43:20.735461</td>\n",
       "      <td>tips_show</td>\n",
       "      <td>0001b1d5-b74a-4cbf-aeb0-7df5947bf349</td>\n",
       "      <td>2019-10-07</td>\n",
       "      <td>1</td>\n",
       "    </tr>\n",
       "    <tr>\n",
       "      <th>830</th>\n",
       "      <td>2019-10-07 13:45:30.917502</td>\n",
       "      <td>tips_show</td>\n",
       "      <td>0001b1d5-b74a-4cbf-aeb0-7df5947bf349</td>\n",
       "      <td>2019-10-07</td>\n",
       "      <td>1</td>\n",
       "    </tr>\n",
       "    <tr>\n",
       "      <th>...</th>\n",
       "      <td>...</td>\n",
       "      <td>...</td>\n",
       "      <td>...</td>\n",
       "      <td>...</td>\n",
       "      <td>...</td>\n",
       "    </tr>\n",
       "    <tr>\n",
       "      <th>72584</th>\n",
       "      <td>2019-11-03 15:51:23.959572</td>\n",
       "      <td>tips_show</td>\n",
       "      <td>fffb9e79-b927-4dbb-9b48-7fd09b23a62b</td>\n",
       "      <td>2019-11-03</td>\n",
       "      <td>10029</td>\n",
       "    </tr>\n",
       "    <tr>\n",
       "      <th>72589</th>\n",
       "      <td>2019-11-03 15:51:57.899997</td>\n",
       "      <td>contacts_show</td>\n",
       "      <td>fffb9e79-b927-4dbb-9b48-7fd09b23a62b</td>\n",
       "      <td>2019-11-03</td>\n",
       "      <td>10029</td>\n",
       "    </tr>\n",
       "    <tr>\n",
       "      <th>72684</th>\n",
       "      <td>2019-11-03 16:07:40.932077</td>\n",
       "      <td>tips_show</td>\n",
       "      <td>fffb9e79-b927-4dbb-9b48-7fd09b23a62b</td>\n",
       "      <td>2019-11-03</td>\n",
       "      <td>10029</td>\n",
       "    </tr>\n",
       "    <tr>\n",
       "      <th>72688</th>\n",
       "      <td>2019-11-03 16:08:18.202734</td>\n",
       "      <td>tips_show</td>\n",
       "      <td>fffb9e79-b927-4dbb-9b48-7fd09b23a62b</td>\n",
       "      <td>2019-11-03</td>\n",
       "      <td>10029</td>\n",
       "    </tr>\n",
       "    <tr>\n",
       "      <th>72689</th>\n",
       "      <td>2019-11-03 16:08:25.388712</td>\n",
       "      <td>tips_show</td>\n",
       "      <td>fffb9e79-b927-4dbb-9b48-7fd09b23a62b</td>\n",
       "      <td>2019-11-03</td>\n",
       "      <td>10029</td>\n",
       "    </tr>\n",
       "  </tbody>\n",
       "</table>\n",
       "<p>74197 rows × 5 columns</p>\n",
       "</div>"
      ],
      "text/plain": [
       "                      event_time     event_name  \\\n",
       "805   2019-10-07 13:39:45.989359      tips_show   \n",
       "806   2019-10-07 13:40:31.052909      tips_show   \n",
       "809   2019-10-07 13:41:05.722489      tips_show   \n",
       "820   2019-10-07 13:43:20.735461      tips_show   \n",
       "830   2019-10-07 13:45:30.917502      tips_show   \n",
       "...                          ...            ...   \n",
       "72584 2019-11-03 15:51:23.959572      tips_show   \n",
       "72589 2019-11-03 15:51:57.899997  contacts_show   \n",
       "72684 2019-11-03 16:07:40.932077      tips_show   \n",
       "72688 2019-11-03 16:08:18.202734      tips_show   \n",
       "72689 2019-11-03 16:08:25.388712      tips_show   \n",
       "\n",
       "                                    user_id       date  session_id  \n",
       "805    0001b1d5-b74a-4cbf-aeb0-7df5947bf349 2019-10-07           1  \n",
       "806    0001b1d5-b74a-4cbf-aeb0-7df5947bf349 2019-10-07           1  \n",
       "809    0001b1d5-b74a-4cbf-aeb0-7df5947bf349 2019-10-07           1  \n",
       "820    0001b1d5-b74a-4cbf-aeb0-7df5947bf349 2019-10-07           1  \n",
       "830    0001b1d5-b74a-4cbf-aeb0-7df5947bf349 2019-10-07           1  \n",
       "...                                     ...        ...         ...  \n",
       "72584  fffb9e79-b927-4dbb-9b48-7fd09b23a62b 2019-11-03       10029  \n",
       "72589  fffb9e79-b927-4dbb-9b48-7fd09b23a62b 2019-11-03       10029  \n",
       "72684  fffb9e79-b927-4dbb-9b48-7fd09b23a62b 2019-11-03       10029  \n",
       "72688  fffb9e79-b927-4dbb-9b48-7fd09b23a62b 2019-11-03       10029  \n",
       "72689  fffb9e79-b927-4dbb-9b48-7fd09b23a62b 2019-11-03       10029  \n",
       "\n",
       "[74197 rows x 5 columns]"
      ]
     },
     "execution_count": 19,
     "metadata": {},
     "output_type": "execute_result"
    }
   ],
   "source": [
    "mobile_dataset = mobile_dataset.sort_values(['user_id', 'event_time'])\n",
    "# разобьем на пользовательские сессии по 40 минут\n",
    "g = (mobile_dataset.groupby('user_id')['event_time'].diff() > pd.Timedelta('40Min')).cumsum()\n",
    "# запишем новые данные в столбец session_id\n",
    "mobile_dataset['session_id'] = mobile_dataset.groupby(['user_id', g], sort=False).ngroup() + 1\n",
    "mobile_dataset"
   ]
  },
  {
   "cell_type": "markdown",
   "metadata": {},
   "source": [
    "Посмотрим данными за какой период мы располагаем"
   ]
  },
  {
   "cell_type": "code",
   "execution_count": 20,
   "metadata": {},
   "outputs": [
    {
     "name": "stdout",
     "output_type": "stream",
     "text": [
      "2019-10-07 00:00:00\n",
      "2019-11-03 00:00:00\n"
     ]
    }
   ],
   "source": [
    "print(mobile_dataset['date'].min())\n",
    "print(mobile_dataset['date'].max())"
   ]
  },
  {
   "cell_type": "markdown",
   "metadata": {},
   "source": [
    "Мы располагаем данными с 7 октября по 3 ноября 2019 года.\n",
    "Посмотрим как распределены события по дате и времени\n",
    "\n",
    "Построим гистограмму "
   ]
  },
  {
   "cell_type": "code",
   "execution_count": 21,
   "metadata": {},
   "outputs": [
    {
     "data": {
      "image/png": "[encoded data removed]",
      "text/plain": [
       "<Figure size 720x360 with 1 Axes>"
      ]
     },
     "metadata": {
      "needs_background": "light"
     },
     "output_type": "display_data"
    }
   ],
   "source": [
    "# Построем гистограмму по дате и времени\n",
    "plt.figure(figsize=(10,5))\n",
    "plt.hist(mobile_dataset['event_time'], bins=100)\n",
    "plt.title('Гистрограмма распределения событий по дате и времени')\n",
    "plt.xlabel('Дата')\n",
    "plt.ylabel('Количество событий')\n",
    "plt.xticks(rotation = 25)\n",
    "plt.show();"
   ]
  },
  {
   "cell_type": "markdown",
   "metadata": {},
   "source": [
    "Данные распределены равномерно, заметны снижения активности вероятно в ночное время"
   ]
  },
  {
   "cell_type": "code",
   "execution_count": 22,
   "metadata": {},
   "outputs": [
    {
     "name": "stdout",
     "output_type": "stream",
     "text": [
      "всего событий в датасете: 74197\n"
     ]
    }
   ],
   "source": [
    "print('всего событий в датасете:', len(mobile_dataset)) # каждая запись в данных - событие"
   ]
  },
  {
   "cell_type": "code",
   "execution_count": 23,
   "metadata": {},
   "outputs": [
    {
     "name": "stdout",
     "output_type": "stream",
     "text": [
      "Количествово уникальных пользователей в логе: 4293\n"
     ]
    }
   ],
   "source": [
    "print('Количествово уникальных пользователей в логе:', mobile_dataset['user_id'].nunique())"
   ]
  },
  {
   "cell_type": "code",
   "execution_count": 24,
   "metadata": {},
   "outputs": [
    {
     "name": "stdout",
     "output_type": "stream",
     "text": [
      "среднее количество событий по всему датасету на одного пользователя: 17\n"
     ]
    }
   ],
   "source": [
    "print('среднее количество событий по всему датасету на одного пользователя:', round(len(mobile_dataset) / mobile_dataset['user_id'].nunique()))"
   ]
  },
  {
   "cell_type": "code",
   "execution_count": 25,
   "metadata": {},
   "outputs": [
    {
     "data": {
      "image/png": "[encoded data removed]",
      "text/plain": [
       "<Figure size 720x360 with 1 Axes>"
      ]
     },
     "metadata": {
      "needs_background": "light"
     },
     "output_type": "display_data"
    }
   ],
   "source": [
    "# Построем гистограмму распределения событий по пользователям\n",
    "plt.figure(figsize=(10,5))\n",
    "plt.hist(mobile_dataset.groupby('user_id').agg({'event_name':'count'}), bins=50, range=[0,200])\n",
    "plt.title('Гистрограмма распределения событий по пользователям')\n",
    "plt.xlabel('Количество событий')\n",
    "plt.ylabel('Количество пользователей')\n",
    "plt.xticks(rotation = 25)\n",
    "plt.show();"
   ]
  },
  {
   "cell_type": "code",
   "execution_count": 26,
   "metadata": {},
   "outputs": [
    {
     "data": {
      "text/html": [
       "<div>\n",
       "<style scoped>\n",
       "    .dataframe tbody tr th:only-of-type {\n",
       "        vertical-align: middle;\n",
       "    }\n",
       "\n",
       "    .dataframe tbody tr th {\n",
       "        vertical-align: top;\n",
       "    }\n",
       "\n",
       "    .dataframe thead th {\n",
       "        text-align: right;\n",
       "    }\n",
       "</style>\n",
       "<table border=\"1\" class=\"dataframe\">\n",
       "  <thead>\n",
       "    <tr style=\"text-align: right;\">\n",
       "      <th></th>\n",
       "      <th>event_name</th>\n",
       "    </tr>\n",
       "  </thead>\n",
       "  <tbody>\n",
       "    <tr>\n",
       "      <th>0</th>\n",
       "      <td>5</td>\n",
       "    </tr>\n",
       "  </tbody>\n",
       "</table>\n",
       "</div>"
      ],
      "text/plain": [
       "   event_name\n",
       "0           5"
      ]
     },
     "execution_count": 26,
     "metadata": {},
     "output_type": "execute_result"
    }
   ],
   "source": [
    "# наиболее часто встречающееся значение количества событий на пользователя \n",
    "(mobile_dataset.groupby('user_id').agg({'event_name':'count'})).mode()"
   ]
  },
  {
   "cell_type": "markdown",
   "metadata": {},
   "source": [
    "Обнаружены выбивающиеся значения. Чтобы не потерять данные я не буду удалять эти строки. Таких пользователей очень мало, но возможно, там скрываются интересные сессии."
   ]
  },
  {
   "cell_type": "markdown",
   "metadata": {},
   "source": [
    "Какие действия чаще совершают те пользователи, которые просматривают контакты?"
   ]
  },
  {
   "cell_type": "code",
   "execution_count": 27,
   "metadata": {},
   "outputs": [
    {
     "data": {
      "text/html": [
       "<div>\n",
       "<style scoped>\n",
       "    .dataframe tbody tr th:only-of-type {\n",
       "        vertical-align: middle;\n",
       "    }\n",
       "\n",
       "    .dataframe tbody tr th {\n",
       "        vertical-align: top;\n",
       "    }\n",
       "\n",
       "    .dataframe thead th {\n",
       "        text-align: right;\n",
       "    }\n",
       "</style>\n",
       "<table border=\"1\" class=\"dataframe\">\n",
       "  <thead>\n",
       "    <tr style=\"text-align: right;\">\n",
       "      <th></th>\n",
       "      <th>event_time</th>\n",
       "      <th>event_name</th>\n",
       "      <th>user_id</th>\n",
       "      <th>date</th>\n",
       "      <th>session_id</th>\n",
       "    </tr>\n",
       "  </thead>\n",
       "  <tbody>\n",
       "    <tr>\n",
       "      <th>33533</th>\n",
       "      <td>2019-10-20 19:17:18.659799</td>\n",
       "      <td>contacts_show</td>\n",
       "      <td>00157779-810c-4498-9e05-a1e9e3cedf93</td>\n",
       "      <td>2019-10-20</td>\n",
       "      <td>6</td>\n",
       "    </tr>\n",
       "    <tr>\n",
       "      <th>33544</th>\n",
       "      <td>2019-10-20 19:23:11.839947</td>\n",
       "      <td>contacts_show</td>\n",
       "      <td>00157779-810c-4498-9e05-a1e9e3cedf93</td>\n",
       "      <td>2019-10-20</td>\n",
       "      <td>6</td>\n",
       "    </tr>\n",
       "    <tr>\n",
       "      <th>33565</th>\n",
       "      <td>2019-10-20 19:30:31.912891</td>\n",
       "      <td>contacts_show</td>\n",
       "      <td>00157779-810c-4498-9e05-a1e9e3cedf93</td>\n",
       "      <td>2019-10-20</td>\n",
       "      <td>6</td>\n",
       "    </tr>\n",
       "    <tr>\n",
       "      <th>33616</th>\n",
       "      <td>2019-10-20 20:04:53.349091</td>\n",
       "      <td>contacts_show</td>\n",
       "      <td>00157779-810c-4498-9e05-a1e9e3cedf93</td>\n",
       "      <td>2019-10-20</td>\n",
       "      <td>6</td>\n",
       "    </tr>\n",
       "    <tr>\n",
       "      <th>60714</th>\n",
       "      <td>2019-10-29 21:26:40.258472</td>\n",
       "      <td>contacts_show</td>\n",
       "      <td>00157779-810c-4498-9e05-a1e9e3cedf93</td>\n",
       "      <td>2019-10-29</td>\n",
       "      <td>8</td>\n",
       "    </tr>\n",
       "    <tr>\n",
       "      <th>...</th>\n",
       "      <td>...</td>\n",
       "      <td>...</td>\n",
       "      <td>...</td>\n",
       "      <td>...</td>\n",
       "      <td>...</td>\n",
       "    </tr>\n",
       "    <tr>\n",
       "      <th>72342</th>\n",
       "      <td>2019-11-03 14:38:51.134084</td>\n",
       "      <td>contacts_show</td>\n",
       "      <td>fffb9e79-b927-4dbb-9b48-7fd09b23a62b</td>\n",
       "      <td>2019-11-03</td>\n",
       "      <td>10028</td>\n",
       "    </tr>\n",
       "    <tr>\n",
       "      <th>72349</th>\n",
       "      <td>2019-11-03 14:41:24.780546</td>\n",
       "      <td>contacts_show</td>\n",
       "      <td>fffb9e79-b927-4dbb-9b48-7fd09b23a62b</td>\n",
       "      <td>2019-11-03</td>\n",
       "      <td>10028</td>\n",
       "    </tr>\n",
       "    <tr>\n",
       "      <th>72353</th>\n",
       "      <td>2019-11-03 14:42:26.444553</td>\n",
       "      <td>contacts_show</td>\n",
       "      <td>fffb9e79-b927-4dbb-9b48-7fd09b23a62b</td>\n",
       "      <td>2019-11-03</td>\n",
       "      <td>10028</td>\n",
       "    </tr>\n",
       "    <tr>\n",
       "      <th>72552</th>\n",
       "      <td>2019-11-03 15:48:05.420247</td>\n",
       "      <td>contacts_show</td>\n",
       "      <td>fffb9e79-b927-4dbb-9b48-7fd09b23a62b</td>\n",
       "      <td>2019-11-03</td>\n",
       "      <td>10029</td>\n",
       "    </tr>\n",
       "    <tr>\n",
       "      <th>72589</th>\n",
       "      <td>2019-11-03 15:51:57.899997</td>\n",
       "      <td>contacts_show</td>\n",
       "      <td>fffb9e79-b927-4dbb-9b48-7fd09b23a62b</td>\n",
       "      <td>2019-11-03</td>\n",
       "      <td>10029</td>\n",
       "    </tr>\n",
       "  </tbody>\n",
       "</table>\n",
       "<p>4529 rows × 5 columns</p>\n",
       "</div>"
      ],
      "text/plain": [
       "                      event_time     event_name  \\\n",
       "33533 2019-10-20 19:17:18.659799  contacts_show   \n",
       "33544 2019-10-20 19:23:11.839947  contacts_show   \n",
       "33565 2019-10-20 19:30:31.912891  contacts_show   \n",
       "33616 2019-10-20 20:04:53.349091  contacts_show   \n",
       "60714 2019-10-29 21:26:40.258472  contacts_show   \n",
       "...                          ...            ...   \n",
       "72342 2019-11-03 14:38:51.134084  contacts_show   \n",
       "72349 2019-11-03 14:41:24.780546  contacts_show   \n",
       "72353 2019-11-03 14:42:26.444553  contacts_show   \n",
       "72552 2019-11-03 15:48:05.420247  contacts_show   \n",
       "72589 2019-11-03 15:51:57.899997  contacts_show   \n",
       "\n",
       "                                    user_id       date  session_id  \n",
       "33533  00157779-810c-4498-9e05-a1e9e3cedf93 2019-10-20           6  \n",
       "33544  00157779-810c-4498-9e05-a1e9e3cedf93 2019-10-20           6  \n",
       "33565  00157779-810c-4498-9e05-a1e9e3cedf93 2019-10-20           6  \n",
       "33616  00157779-810c-4498-9e05-a1e9e3cedf93 2019-10-20           6  \n",
       "60714  00157779-810c-4498-9e05-a1e9e3cedf93 2019-10-29           8  \n",
       "...                                     ...        ...         ...  \n",
       "72342  fffb9e79-b927-4dbb-9b48-7fd09b23a62b 2019-11-03       10028  \n",
       "72349  fffb9e79-b927-4dbb-9b48-7fd09b23a62b 2019-11-03       10028  \n",
       "72353  fffb9e79-b927-4dbb-9b48-7fd09b23a62b 2019-11-03       10028  \n",
       "72552  fffb9e79-b927-4dbb-9b48-7fd09b23a62b 2019-11-03       10029  \n",
       "72589  fffb9e79-b927-4dbb-9b48-7fd09b23a62b 2019-11-03       10029  \n",
       "\n",
       "[4529 rows x 5 columns]"
      ]
     },
     "execution_count": 27,
     "metadata": {},
     "output_type": "execute_result"
    }
   ],
   "source": [
    "# создадим отфильтрованную таблицу. оставим в ней только целевое действие contacts_show\n",
    "df_filtred = mobile_dataset[mobile_dataset['event_name'] == 'contacts_show']\n",
    "df_filtred"
   ]
  },
  {
   "cell_type": "code",
   "execution_count": 28,
   "metadata": {},
   "outputs": [
    {
     "data": {
      "text/html": [
       "<div>\n",
       "<style scoped>\n",
       "    .dataframe tbody tr th:only-of-type {\n",
       "        vertical-align: middle;\n",
       "    }\n",
       "\n",
       "    .dataframe tbody tr th {\n",
       "        vertical-align: top;\n",
       "    }\n",
       "\n",
       "    .dataframe thead th {\n",
       "        text-align: right;\n",
       "    }\n",
       "</style>\n",
       "<table border=\"1\" class=\"dataframe\">\n",
       "  <thead>\n",
       "    <tr style=\"text-align: right;\">\n",
       "      <th></th>\n",
       "      <th>event_time</th>\n",
       "      <th>event_name</th>\n",
       "      <th>user_id</th>\n",
       "      <th>date</th>\n",
       "      <th>session_id</th>\n",
       "    </tr>\n",
       "  </thead>\n",
       "  <tbody>\n",
       "    <tr>\n",
       "      <th>31632</th>\n",
       "      <td>2019-10-19 21:34:33.849769</td>\n",
       "      <td>search</td>\n",
       "      <td>00157779-810c-4498-9e05-a1e9e3cedf93</td>\n",
       "      <td>2019-10-19</td>\n",
       "      <td>5</td>\n",
       "    </tr>\n",
       "    <tr>\n",
       "      <th>31636</th>\n",
       "      <td>2019-10-19 21:35:19.296599</td>\n",
       "      <td>search</td>\n",
       "      <td>00157779-810c-4498-9e05-a1e9e3cedf93</td>\n",
       "      <td>2019-10-19</td>\n",
       "      <td>5</td>\n",
       "    </tr>\n",
       "    <tr>\n",
       "      <th>31640</th>\n",
       "      <td>2019-10-19 21:36:44.344691</td>\n",
       "      <td>search</td>\n",
       "      <td>00157779-810c-4498-9e05-a1e9e3cedf93</td>\n",
       "      <td>2019-10-19</td>\n",
       "      <td>5</td>\n",
       "    </tr>\n",
       "    <tr>\n",
       "      <th>31655</th>\n",
       "      <td>2019-10-19 21:40:38.990477</td>\n",
       "      <td>photos_show</td>\n",
       "      <td>00157779-810c-4498-9e05-a1e9e3cedf93</td>\n",
       "      <td>2019-10-19</td>\n",
       "      <td>5</td>\n",
       "    </tr>\n",
       "    <tr>\n",
       "      <th>31659</th>\n",
       "      <td>2019-10-19 21:42:13.837523</td>\n",
       "      <td>photos_show</td>\n",
       "      <td>00157779-810c-4498-9e05-a1e9e3cedf93</td>\n",
       "      <td>2019-10-19</td>\n",
       "      <td>5</td>\n",
       "    </tr>\n",
       "    <tr>\n",
       "      <th>...</th>\n",
       "      <td>...</td>\n",
       "      <td>...</td>\n",
       "      <td>...</td>\n",
       "      <td>...</td>\n",
       "      <td>...</td>\n",
       "    </tr>\n",
       "    <tr>\n",
       "      <th>72584</th>\n",
       "      <td>2019-11-03 15:51:23.959572</td>\n",
       "      <td>tips_show</td>\n",
       "      <td>fffb9e79-b927-4dbb-9b48-7fd09b23a62b</td>\n",
       "      <td>2019-11-03</td>\n",
       "      <td>10029</td>\n",
       "    </tr>\n",
       "    <tr>\n",
       "      <th>72589</th>\n",
       "      <td>2019-11-03 15:51:57.899997</td>\n",
       "      <td>contacts_show</td>\n",
       "      <td>fffb9e79-b927-4dbb-9b48-7fd09b23a62b</td>\n",
       "      <td>2019-11-03</td>\n",
       "      <td>10029</td>\n",
       "    </tr>\n",
       "    <tr>\n",
       "      <th>72684</th>\n",
       "      <td>2019-11-03 16:07:40.932077</td>\n",
       "      <td>tips_show</td>\n",
       "      <td>fffb9e79-b927-4dbb-9b48-7fd09b23a62b</td>\n",
       "      <td>2019-11-03</td>\n",
       "      <td>10029</td>\n",
       "    </tr>\n",
       "    <tr>\n",
       "      <th>72688</th>\n",
       "      <td>2019-11-03 16:08:18.202734</td>\n",
       "      <td>tips_show</td>\n",
       "      <td>fffb9e79-b927-4dbb-9b48-7fd09b23a62b</td>\n",
       "      <td>2019-11-03</td>\n",
       "      <td>10029</td>\n",
       "    </tr>\n",
       "    <tr>\n",
       "      <th>72689</th>\n",
       "      <td>2019-11-03 16:08:25.388712</td>\n",
       "      <td>tips_show</td>\n",
       "      <td>fffb9e79-b927-4dbb-9b48-7fd09b23a62b</td>\n",
       "      <td>2019-11-03</td>\n",
       "      <td>10029</td>\n",
       "    </tr>\n",
       "  </tbody>\n",
       "</table>\n",
       "<p>27197 rows × 5 columns</p>\n",
       "</div>"
      ],
      "text/plain": [
       "                      event_time     event_name  \\\n",
       "31632 2019-10-19 21:34:33.849769         search   \n",
       "31636 2019-10-19 21:35:19.296599         search   \n",
       "31640 2019-10-19 21:36:44.344691         search   \n",
       "31655 2019-10-19 21:40:38.990477    photos_show   \n",
       "31659 2019-10-19 21:42:13.837523    photos_show   \n",
       "...                          ...            ...   \n",
       "72584 2019-11-03 15:51:23.959572      tips_show   \n",
       "72589 2019-11-03 15:51:57.899997  contacts_show   \n",
       "72684 2019-11-03 16:07:40.932077      tips_show   \n",
       "72688 2019-11-03 16:08:18.202734      tips_show   \n",
       "72689 2019-11-03 16:08:25.388712      tips_show   \n",
       "\n",
       "                                    user_id       date  session_id  \n",
       "31632  00157779-810c-4498-9e05-a1e9e3cedf93 2019-10-19           5  \n",
       "31636  00157779-810c-4498-9e05-a1e9e3cedf93 2019-10-19           5  \n",
       "31640  00157779-810c-4498-9e05-a1e9e3cedf93 2019-10-19           5  \n",
       "31655  00157779-810c-4498-9e05-a1e9e3cedf93 2019-10-19           5  \n",
       "31659  00157779-810c-4498-9e05-a1e9e3cedf93 2019-10-19           5  \n",
       "...                                     ...        ...         ...  \n",
       "72584  fffb9e79-b927-4dbb-9b48-7fd09b23a62b 2019-11-03       10029  \n",
       "72589  fffb9e79-b927-4dbb-9b48-7fd09b23a62b 2019-11-03       10029  \n",
       "72684  fffb9e79-b927-4dbb-9b48-7fd09b23a62b 2019-11-03       10029  \n",
       "72688  fffb9e79-b927-4dbb-9b48-7fd09b23a62b 2019-11-03       10029  \n",
       "72689  fffb9e79-b927-4dbb-9b48-7fd09b23a62b 2019-11-03       10029  \n",
       "\n",
       "[27197 rows x 5 columns]"
      ]
     },
     "execution_count": 28,
     "metadata": {},
     "output_type": "execute_result"
    }
   ],
   "source": [
    "# подгрузим все данные из таблицы mobile_dataset только для тех пользователей, кто дошел до целевого действия\n",
    "df_filtred = mobile_dataset[mobile_dataset['user_id'].isin(df_filtred['user_id'])]\n",
    "df_filtred"
   ]
  },
  {
   "cell_type": "code",
   "execution_count": 29,
   "metadata": {},
   "outputs": [
    {
     "data": {
      "text/plain": [
       "981"
      ]
     },
     "execution_count": 29,
     "metadata": {},
     "output_type": "execute_result"
    }
   ],
   "source": [
    "# запишем количество уникальных пользователей, которые совершали целевое действие в переменную\n",
    "users_count = df_filtred['user_id'].nunique()\n",
    "users_count"
   ]
  },
  {
   "cell_type": "code",
   "execution_count": 30,
   "metadata": {},
   "outputs": [
    {
     "data": {
      "text/html": [
       "<div>\n",
       "<style scoped>\n",
       "    .dataframe tbody tr th:only-of-type {\n",
       "        vertical-align: middle;\n",
       "    }\n",
       "\n",
       "    .dataframe tbody tr th {\n",
       "        vertical-align: top;\n",
       "    }\n",
       "\n",
       "    .dataframe thead th {\n",
       "        text-align: right;\n",
       "    }\n",
       "</style>\n",
       "<table border=\"1\" class=\"dataframe\">\n",
       "  <thead>\n",
       "    <tr style=\"text-align: right;\">\n",
       "      <th></th>\n",
       "      <th>event_name</th>\n",
       "      <th>n_events</th>\n",
       "      <th>user_id</th>\n",
       "      <th>funnel</th>\n",
       "    </tr>\n",
       "  </thead>\n",
       "  <tbody>\n",
       "    <tr>\n",
       "      <th>1</th>\n",
       "      <td>tips_show</td>\n",
       "      <td>12768</td>\n",
       "      <td>516</td>\n",
       "      <td>52.6</td>\n",
       "    </tr>\n",
       "    <tr>\n",
       "      <th>0</th>\n",
       "      <td>contacts_show</td>\n",
       "      <td>4529</td>\n",
       "      <td>981</td>\n",
       "      <td>100.0</td>\n",
       "    </tr>\n",
       "    <tr>\n",
       "      <th>3</th>\n",
       "      <td>photos_show</td>\n",
       "      <td>3828</td>\n",
       "      <td>339</td>\n",
       "      <td>34.6</td>\n",
       "    </tr>\n",
       "    <tr>\n",
       "      <th>2</th>\n",
       "      <td>search</td>\n",
       "      <td>2084</td>\n",
       "      <td>377</td>\n",
       "      <td>38.4</td>\n",
       "    </tr>\n",
       "    <tr>\n",
       "      <th>6</th>\n",
       "      <td>advert_open</td>\n",
       "      <td>1589</td>\n",
       "      <td>138</td>\n",
       "      <td>14.1</td>\n",
       "    </tr>\n",
       "    <tr>\n",
       "      <th>4</th>\n",
       "      <td>map</td>\n",
       "      <td>1101</td>\n",
       "      <td>289</td>\n",
       "      <td>29.5</td>\n",
       "    </tr>\n",
       "    <tr>\n",
       "      <th>5</th>\n",
       "      <td>contacts_call</td>\n",
       "      <td>541</td>\n",
       "      <td>213</td>\n",
       "      <td>21.7</td>\n",
       "    </tr>\n",
       "    <tr>\n",
       "      <th>7</th>\n",
       "      <td>favorites_add</td>\n",
       "      <td>424</td>\n",
       "      <td>136</td>\n",
       "      <td>13.9</td>\n",
       "    </tr>\n",
       "    <tr>\n",
       "      <th>8</th>\n",
       "      <td>tips_click</td>\n",
       "      <td>333</td>\n",
       "      <td>100</td>\n",
       "      <td>10.2</td>\n",
       "    </tr>\n",
       "  </tbody>\n",
       "</table>\n",
       "</div>"
      ],
      "text/plain": [
       "      event_name  n_events  user_id  funnel\n",
       "1      tips_show     12768      516    52.6\n",
       "0  contacts_show      4529      981   100.0\n",
       "3    photos_show      3828      339    34.6\n",
       "2         search      2084      377    38.4\n",
       "6    advert_open      1589      138    14.1\n",
       "4            map      1101      289    29.5\n",
       "5  contacts_call       541      213    21.7\n",
       "7  favorites_add       424      136    13.9\n",
       "8     tips_click       333      100    10.2"
      ]
     },
     "execution_count": 30,
     "metadata": {},
     "output_type": "execute_result"
    }
   ],
   "source": [
    "target_grouped = (df_filtred.groupby('event_name')\n",
    "                  .agg({'event_name':'count', 'user_id':'nunique'})\n",
    "                  .sort_values(by='user_id', ascending=False))\n",
    "target_grouped.columns = ['n_events', 'user_id']\n",
    "target_grouped = target_grouped.reset_index()\n",
    "target_grouped['funnel'] = (target_grouped['user_id']/users_count * 100).round(1)\n",
    "target_grouped.sort_values(by='n_events', ascending=False)"
   ]
  },
  {
   "cell_type": "markdown",
   "metadata": {},
   "source": [
    "**Вывод:**\n",
    "\n",
    "В блоке исследовательский анализ данных я узнала, что:\n",
    "\n",
    "- Всего событий в данных 74197\n",
    "- Всего пользователей: 4293\n",
    "- Количество пользователей, которые совершили целевое действие: 981\n",
    "- В среднем на одного пользователя приходится 17 событий\n",
    "- Наиболее часто встречающееся значение количества событий на пользователя -5\n",
    "- были обнаружены выбивающиеся значения. Приняла решение оставить данные как есть\n",
    "- Мы располагаем данными с 7 октября по 3 ноября 2019 года.Данные распределены равномерно, заметны снижения активности вероятно в ночное время.\n",
    "- Пользователи, которые просматривают контакты, чаще всего видят рекомендованные объявления (`tips_show`). Но это действие генерируется автоматически. Если его не учитывать, то `contacts_show, photos_show, search` - наиболее популярные действия пользователей.\n",
    "\n",
    "\n",
    "- Добавила столбец session_id, в который записала уникальный идентификатор пользовательской сессии с разбивкой на интервал 40 минут"
   ]
  },
  {
   "cell_type": "markdown",
   "metadata": {},
   "source": [
    "## Изучение воронки событий"
   ]
  },
  {
   "cell_type": "markdown",
   "metadata": {},
   "source": [
    "Задача: построить воронку и проанализировать связь целевого события — просмотра контактов — и других действий пользователей."
   ]
  },
  {
   "cell_type": "code",
   "execution_count": 31,
   "metadata": {},
   "outputs": [
    {
     "data": {
      "text/html": [
       "<div>\n",
       "<style scoped>\n",
       "    .dataframe tbody tr th:only-of-type {\n",
       "        vertical-align: middle;\n",
       "    }\n",
       "\n",
       "    .dataframe tbody tr th {\n",
       "        vertical-align: top;\n",
       "    }\n",
       "\n",
       "    .dataframe thead th {\n",
       "        text-align: right;\n",
       "    }\n",
       "</style>\n",
       "<table border=\"1\" class=\"dataframe\">\n",
       "  <thead>\n",
       "    <tr style=\"text-align: right;\">\n",
       "      <th></th>\n",
       "      <th>event_name</th>\n",
       "      <th>n_events</th>\n",
       "      <th>user_id</th>\n",
       "      <th>funnel</th>\n",
       "    </tr>\n",
       "  </thead>\n",
       "  <tbody>\n",
       "    <tr>\n",
       "      <th>0</th>\n",
       "      <td>tips_show</td>\n",
       "      <td>40055</td>\n",
       "      <td>2801</td>\n",
       "      <td>65.2</td>\n",
       "    </tr>\n",
       "    <tr>\n",
       "      <th>1</th>\n",
       "      <td>search</td>\n",
       "      <td>6784</td>\n",
       "      <td>1666</td>\n",
       "      <td>38.8</td>\n",
       "    </tr>\n",
       "    <tr>\n",
       "      <th>2</th>\n",
       "      <td>map</td>\n",
       "      <td>3881</td>\n",
       "      <td>1456</td>\n",
       "      <td>33.9</td>\n",
       "    </tr>\n",
       "    <tr>\n",
       "      <th>3</th>\n",
       "      <td>photos_show</td>\n",
       "      <td>10012</td>\n",
       "      <td>1095</td>\n",
       "      <td>25.5</td>\n",
       "    </tr>\n",
       "    <tr>\n",
       "      <th>4</th>\n",
       "      <td>contacts_show</td>\n",
       "      <td>4529</td>\n",
       "      <td>981</td>\n",
       "      <td>22.9</td>\n",
       "    </tr>\n",
       "    <tr>\n",
       "      <th>5</th>\n",
       "      <td>advert_open</td>\n",
       "      <td>6164</td>\n",
       "      <td>751</td>\n",
       "      <td>17.5</td>\n",
       "    </tr>\n",
       "    <tr>\n",
       "      <th>6</th>\n",
       "      <td>favorites_add</td>\n",
       "      <td>1417</td>\n",
       "      <td>351</td>\n",
       "      <td>8.2</td>\n",
       "    </tr>\n",
       "    <tr>\n",
       "      <th>7</th>\n",
       "      <td>tips_click</td>\n",
       "      <td>814</td>\n",
       "      <td>322</td>\n",
       "      <td>7.5</td>\n",
       "    </tr>\n",
       "    <tr>\n",
       "      <th>8</th>\n",
       "      <td>contacts_call</td>\n",
       "      <td>541</td>\n",
       "      <td>213</td>\n",
       "      <td>5.0</td>\n",
       "    </tr>\n",
       "  </tbody>\n",
       "</table>\n",
       "</div>"
      ],
      "text/plain": [
       "      event_name  n_events  user_id  funnel\n",
       "0      tips_show     40055     2801    65.2\n",
       "1         search      6784     1666    38.8\n",
       "2            map      3881     1456    33.9\n",
       "3    photos_show     10012     1095    25.5\n",
       "4  contacts_show      4529      981    22.9\n",
       "5    advert_open      6164      751    17.5\n",
       "6  favorites_add      1417      351     8.2\n",
       "7     tips_click       814      322     7.5\n",
       "8  contacts_call       541      213     5.0"
      ]
     },
     "execution_count": 31,
     "metadata": {},
     "output_type": "execute_result"
    }
   ],
   "source": [
    "# Подготовим данные. Построим сводную таблицу по всем пользователям и событиям\n",
    "\n",
    "all_users = mobile_dataset['user_id'].nunique() # Количество всех уникальныз пользователей\n",
    "\n",
    "data_grouped = (mobile_dataset.groupby('event_name')\n",
    "                .agg({'event_name':'count', 'user_id':'nunique'})\n",
    "                .sort_values(by='user_id', ascending=False))\n",
    "data_grouped.columns = ['n_events', 'user_id']\n",
    "data_grouped = data_grouped.reset_index()\n",
    "data_grouped['funnel'] = (data_grouped['user_id']/all_users * 100).round(1)\n",
    "data_grouped"
   ]
  },
  {
   "cell_type": "code",
   "execution_count": 32,
   "metadata": {},
   "outputs": [
    {
     "data": {
      "image/png": "[encoded data removed]"
     },
     "metadata": {},
     "output_type": "display_data"
    }
   ],
   "source": [
    "fig = go.Figure(go.Funnel(x = data_grouped['user_id'], y = data_grouped['event_name'], textinfo = \"value+percent initial+percent previous\"))\n",
    "fig.show();"
   ]
  },
  {
   "cell_type": "markdown",
   "metadata": {},
   "source": [
    "Это воронка по всем событиям для всех польователей. Из нее можем сделать следующие выводы:\n",
    "\n",
    "- пользователей, совершивших событие advert_open меньше, чем contacts_show. это значит, что не обязтельно заходить в объявление для того чтобы посмотреть контакты. возможно кто-то заходит  по ссылке.\n",
    "- функцией `contacts_call` пользуются в 4,5 раза пользователей реже, чем `contacts_show`. Пользователи уходят с сайта и общаются дальше вне нашего приложения. Это может стать точкой роста - удержать пользователей до момента завершения сделки полезно как и пользователю (обеспечение безопасной сделки), так и бизнесу (сбор более детальной информации о каждом шаге перед сделкой).\n",
    "- `tips_click` не самое популярное действие среди всех пользователей. Возможно, алгоритм рекомендаций стоит пересмотреть\n",
    "- для пользователей важно просмотреть территориальное расположение объявления\n",
    "- для пользователей важно просмотреть фотографии объявления"
   ]
  },
  {
   "cell_type": "markdown",
   "metadata": {},
   "source": [
    "Построим воронку только для тех пользователей, которые совершили целевое действие"
   ]
  },
  {
   "cell_type": "code",
   "execution_count": 33,
   "metadata": {},
   "outputs": [
    {
     "data": {
      "text/html": [
       "<div>\n",
       "<style scoped>\n",
       "    .dataframe tbody tr th:only-of-type {\n",
       "        vertical-align: middle;\n",
       "    }\n",
       "\n",
       "    .dataframe tbody tr th {\n",
       "        vertical-align: top;\n",
       "    }\n",
       "\n",
       "    .dataframe thead th {\n",
       "        text-align: right;\n",
       "    }\n",
       "</style>\n",
       "<table border=\"1\" class=\"dataframe\">\n",
       "  <thead>\n",
       "    <tr style=\"text-align: right;\">\n",
       "      <th></th>\n",
       "      <th>event_name</th>\n",
       "      <th>n_events</th>\n",
       "      <th>user_id</th>\n",
       "      <th>funnel</th>\n",
       "    </tr>\n",
       "  </thead>\n",
       "  <tbody>\n",
       "    <tr>\n",
       "      <th>0</th>\n",
       "      <td>contacts_show</td>\n",
       "      <td>4529</td>\n",
       "      <td>981</td>\n",
       "      <td>22.9</td>\n",
       "    </tr>\n",
       "    <tr>\n",
       "      <th>1</th>\n",
       "      <td>tips_show</td>\n",
       "      <td>12768</td>\n",
       "      <td>516</td>\n",
       "      <td>12.0</td>\n",
       "    </tr>\n",
       "    <tr>\n",
       "      <th>2</th>\n",
       "      <td>search</td>\n",
       "      <td>2084</td>\n",
       "      <td>377</td>\n",
       "      <td>8.8</td>\n",
       "    </tr>\n",
       "    <tr>\n",
       "      <th>3</th>\n",
       "      <td>photos_show</td>\n",
       "      <td>3828</td>\n",
       "      <td>339</td>\n",
       "      <td>7.9</td>\n",
       "    </tr>\n",
       "    <tr>\n",
       "      <th>4</th>\n",
       "      <td>map</td>\n",
       "      <td>1101</td>\n",
       "      <td>289</td>\n",
       "      <td>6.7</td>\n",
       "    </tr>\n",
       "    <tr>\n",
       "      <th>5</th>\n",
       "      <td>contacts_call</td>\n",
       "      <td>541</td>\n",
       "      <td>213</td>\n",
       "      <td>5.0</td>\n",
       "    </tr>\n",
       "    <tr>\n",
       "      <th>6</th>\n",
       "      <td>advert_open</td>\n",
       "      <td>1589</td>\n",
       "      <td>138</td>\n",
       "      <td>3.2</td>\n",
       "    </tr>\n",
       "    <tr>\n",
       "      <th>7</th>\n",
       "      <td>favorites_add</td>\n",
       "      <td>424</td>\n",
       "      <td>136</td>\n",
       "      <td>3.2</td>\n",
       "    </tr>\n",
       "    <tr>\n",
       "      <th>8</th>\n",
       "      <td>tips_click</td>\n",
       "      <td>333</td>\n",
       "      <td>100</td>\n",
       "      <td>2.3</td>\n",
       "    </tr>\n",
       "  </tbody>\n",
       "</table>\n",
       "</div>"
      ],
      "text/plain": [
       "      event_name  n_events  user_id  funnel\n",
       "0  contacts_show      4529      981    22.9\n",
       "1      tips_show     12768      516    12.0\n",
       "2         search      2084      377     8.8\n",
       "3    photos_show      3828      339     7.9\n",
       "4            map      1101      289     6.7\n",
       "5  contacts_call       541      213     5.0\n",
       "6    advert_open      1589      138     3.2\n",
       "7  favorites_add       424      136     3.2\n",
       "8     tips_click       333      100     2.3"
      ]
     },
     "execution_count": 33,
     "metadata": {},
     "output_type": "execute_result"
    }
   ],
   "source": [
    "# Построим сводную таблицу по отфильтрованным пользователям\n",
    "\n",
    "target_users = mobile_dataset[mobile_dataset['event_name'] == 'contacts_show']['user_id'].unique()\n",
    "target_users_count = mobile_dataset[mobile_dataset['event_name'] == 'contacts_show']['user_id'].nunique() # Количество всех уникальныз пользователей\n",
    "\n",
    "\n",
    "grouped = (mobile_dataset.query('user_id in @target_users').groupby('event_name')\n",
    "                .agg({'event_name':'count', 'user_id':'nunique'})\n",
    "                .sort_values(by='user_id', ascending=False))\n",
    "grouped.columns = ['n_events', 'user_id']\n",
    "grouped = grouped.reset_index()\n",
    "grouped['funnel'] = (grouped['user_id']/all_users * 100).round(1)\n",
    "grouped"
   ]
  },
  {
   "cell_type": "markdown",
   "metadata": {},
   "source": [
    "<a id='pr'></a>"
   ]
  },
  {
   "cell_type": "markdown",
   "metadata": {},
   "source": [
    "**Вывод**\n",
    "\n",
    "Тут важно обратить внимание, что пользователи часто совершают целевое событие, минуя все другие шаги"
   ]
  },
  {
   "cell_type": "markdown",
   "metadata": {},
   "source": [
    "### Выделим характерные сценарии. Как пользователи доходят до целевого события"
   ]
  },
  {
   "cell_type": "markdown",
   "metadata": {},
   "source": [
    "События `tips_show` в датасете больше других. Так как оно генерируется автоматически и не совершается пользователем, посмотрим на сессии без этого события"
   ]
  },
  {
   "cell_type": "code",
   "execution_count": 34,
   "metadata": {},
   "outputs": [
    {
     "data": {
      "text/html": [
       "<div>\n",
       "<style scoped>\n",
       "    .dataframe tbody tr th:only-of-type {\n",
       "        vertical-align: middle;\n",
       "    }\n",
       "\n",
       "    .dataframe tbody tr th {\n",
       "        vertical-align: top;\n",
       "    }\n",
       "\n",
       "    .dataframe thead th {\n",
       "        text-align: right;\n",
       "    }\n",
       "</style>\n",
       "<table border=\"1\" class=\"dataframe\">\n",
       "  <thead>\n",
       "    <tr style=\"text-align: right;\">\n",
       "      <th></th>\n",
       "      <th>event_flow</th>\n",
       "    </tr>\n",
       "  </thead>\n",
       "  <tbody>\n",
       "    <tr>\n",
       "      <th>['photos_show']</th>\n",
       "      <td>1263</td>\n",
       "    </tr>\n",
       "    <tr>\n",
       "      <th>['search']</th>\n",
       "      <td>1161</td>\n",
       "    </tr>\n",
       "    <tr>\n",
       "      <th>['map']</th>\n",
       "      <td>867</td>\n",
       "    </tr>\n",
       "    <tr>\n",
       "      <th>['contacts_show']</th>\n",
       "      <td>584</td>\n",
       "    </tr>\n",
       "    <tr>\n",
       "      <th>['search' 'photos_show']</th>\n",
       "      <td>521</td>\n",
       "    </tr>\n",
       "    <tr>\n",
       "      <th>['advert_open']</th>\n",
       "      <td>307</td>\n",
       "    </tr>\n",
       "    <tr>\n",
       "      <th>['map' 'advert_open']</th>\n",
       "      <td>296</td>\n",
       "    </tr>\n",
       "    <tr>\n",
       "      <th>['search' 'map']</th>\n",
       "      <td>209</td>\n",
       "    </tr>\n",
       "    <tr>\n",
       "      <th>['tips_click']</th>\n",
       "      <td>189</td>\n",
       "    </tr>\n",
       "    <tr>\n",
       "      <th>['map' 'contacts_show']</th>\n",
       "      <td>147</td>\n",
       "    </tr>\n",
       "    <tr>\n",
       "      <th>['search' 'map' 'advert_open']</th>\n",
       "      <td>119</td>\n",
       "    </tr>\n",
       "    <tr>\n",
       "      <th>['contacts_show' 'contacts_call']</th>\n",
       "      <td>110</td>\n",
       "    </tr>\n",
       "    <tr>\n",
       "      <th>['photos_show' 'search']</th>\n",
       "      <td>106</td>\n",
       "    </tr>\n",
       "    <tr>\n",
       "      <th>['search' 'contacts_show']</th>\n",
       "      <td>100</td>\n",
       "    </tr>\n",
       "    <tr>\n",
       "      <th>['favorites_add']</th>\n",
       "      <td>85</td>\n",
       "    </tr>\n",
       "    <tr>\n",
       "      <th>['photos_show' 'contacts_show']</th>\n",
       "      <td>81</td>\n",
       "    </tr>\n",
       "    <tr>\n",
       "      <th>['map' 'search' 'advert_open']</th>\n",
       "      <td>69</td>\n",
       "    </tr>\n",
       "    <tr>\n",
       "      <th>['search' 'advert_open']</th>\n",
       "      <td>54</td>\n",
       "    </tr>\n",
       "    <tr>\n",
       "      <th>['search' 'contacts_show' 'contacts_call']</th>\n",
       "      <td>53</td>\n",
       "    </tr>\n",
       "    <tr>\n",
       "      <th>['photos_show' 'favorites_add']</th>\n",
       "      <td>51</td>\n",
       "    </tr>\n",
       "    <tr>\n",
       "      <th>['search' 'favorites_add']</th>\n",
       "      <td>49</td>\n",
       "    </tr>\n",
       "    <tr>\n",
       "      <th>['search' 'photos_show' 'contacts_show']</th>\n",
       "      <td>46</td>\n",
       "    </tr>\n",
       "    <tr>\n",
       "      <th>['map' 'tips_click']</th>\n",
       "      <td>43</td>\n",
       "    </tr>\n",
       "    <tr>\n",
       "      <th>['map' 'search']</th>\n",
       "      <td>40</td>\n",
       "    </tr>\n",
       "    <tr>\n",
       "      <th>['contacts_show' 'tips_click']</th>\n",
       "      <td>37</td>\n",
       "    </tr>\n",
       "    <tr>\n",
       "      <th>['photos_show' 'contacts_show' 'contacts_call']</th>\n",
       "      <td>37</td>\n",
       "    </tr>\n",
       "    <tr>\n",
       "      <th>['search' 'photos_show' 'favorites_add']</th>\n",
       "      <td>37</td>\n",
       "    </tr>\n",
       "    <tr>\n",
       "      <th>['contacts_show' 'photos_show']</th>\n",
       "      <td>36</td>\n",
       "    </tr>\n",
       "    <tr>\n",
       "      <th>['contacts_show' 'map']</th>\n",
       "      <td>35</td>\n",
       "    </tr>\n",
       "    <tr>\n",
       "      <th>['advert_open' 'map']</th>\n",
       "      <td>31</td>\n",
       "    </tr>\n",
       "  </tbody>\n",
       "</table>\n",
       "</div>"
      ],
      "text/plain": [
       "                                                 event_flow\n",
       "['photos_show']                                        1263\n",
       "['search']                                             1161\n",
       "['map']                                                 867\n",
       "['contacts_show']                                       584\n",
       "['search' 'photos_show']                                521\n",
       "['advert_open']                                         307\n",
       "['map' 'advert_open']                                   296\n",
       "['search' 'map']                                        209\n",
       "['tips_click']                                          189\n",
       "['map' 'contacts_show']                                 147\n",
       "['search' 'map' 'advert_open']                          119\n",
       "['contacts_show' 'contacts_call']                       110\n",
       "['photos_show' 'search']                                106\n",
       "['search' 'contacts_show']                              100\n",
       "['favorites_add']                                        85\n",
       "['photos_show' 'contacts_show']                          81\n",
       "['map' 'search' 'advert_open']                           69\n",
       "['search' 'advert_open']                                 54\n",
       "['search' 'contacts_show' 'contacts_call']               53\n",
       "['photos_show' 'favorites_add']                          51\n",
       "['search' 'favorites_add']                               49\n",
       "['search' 'photos_show' 'contacts_show']                 46\n",
       "['map' 'tips_click']                                     43\n",
       "['map' 'search']                                         40\n",
       "['contacts_show' 'tips_click']                           37\n",
       "['photos_show' 'contacts_show' 'contacts_call']          37\n",
       "['search' 'photos_show' 'favorites_add']                 37\n",
       "['contacts_show' 'photos_show']                          36\n",
       "['contacts_show' 'map']                                  35\n",
       "['advert_open' 'map']                                    31"
      ]
     },
     "execution_count": 34,
     "metadata": {},
     "output_type": "execute_result"
    }
   ],
   "source": [
    "pattern = (mobile_dataset[mobile_dataset['event_name'] != 'tips_show'].\n",
    "                        groupby('session_id', as_index=False)\n",
    "                        .agg(event_flow=('event_name', 'unique')))\n",
    "pattern['event_flow'] = pattern['event_flow'].astype(str)\n",
    "pattern['event_flow'].value_counts().to_frame().head(30)"
   ]
  },
  {
   "cell_type": "markdown",
   "metadata": {},
   "source": [
    "Несмотря на хаотичность паттернов поведения в таблице, все же можно выделить интересующие нас сценарии. Посмотрим на те, которые заканчиваются целевым событием. Это: \n",
    "- map -> contacts_show\n",
    "- search -> contacts_show\n",
    "- photos_show -> contacts_show\n",
    "- search -> photos_show -> contacts_show\n",
    "_________\n",
    "**Вывод:**\n",
    "\n",
    "В наиболее популярных сценариях пользователи игнорируют шаг `advert_open` и `tips_click`.\n",
    "В наиболее популярных сценариях пользователи попадают на целевое событие за одно действие или два."
   ]
  },
  {
   "cell_type": "markdown",
   "metadata": {},
   "source": [
    "### Построим воронки в целевое действие в разрезе выделенных сценариев"
   ]
  },
  {
   "cell_type": "code",
   "execution_count": 35,
   "metadata": {},
   "outputs": [],
   "source": [
    "# Функция для построения строгой воронки для двух действий\n",
    "def funnel_2 (data, event1, event2):\n",
    "    a = data[data['event_name'] == event1]\n",
    "    a_id = a['user_id'].unique()\n",
    "    a = a['user_id'].nunique()\n",
    " \n",
    "    b = data.query('user_id in @a_id')\n",
    "    b = b[b['event_name'] == event2]\n",
    "    b_id = b['user_id'].unique()\n",
    "    b = b['user_id'].nunique()\n",
    " \n",
    "    x = [a, b]\n",
    "    y = [event1, event2]\n",
    " \n",
    "    fig = go.Figure(go.Funnel(\n",
    "        y = y,\n",
    "        x = x,\n",
    "        textinfo = \"value+percent initial + percent previous\"))\n",
    "    fig.show()"
   ]
  },
  {
   "cell_type": "markdown",
   "metadata": {},
   "source": [
    "**Воронка для сценария map - contacts_show**"
   ]
  },
  {
   "cell_type": "code",
   "execution_count": 36,
   "metadata": {},
   "outputs": [
    {
     "data": {
      "image/png": "[encoded data removed]"
     },
     "metadata": {},
     "output_type": "display_data"
    }
   ],
   "source": [
    "funnel_2(mobile_dataset, 'map', 'contacts_show')"
   ]
  },
  {
   "cell_type": "markdown",
   "metadata": {},
   "source": [
    "**Воронка для сценария search - contacts_show**"
   ]
  },
  {
   "cell_type": "code",
   "execution_count": 37,
   "metadata": {},
   "outputs": [
    {
     "data": {
      "image/png": "[encoded data removed]"
     },
     "metadata": {},
     "output_type": "display_data"
    }
   ],
   "source": [
    "funnel_2(mobile_dataset, 'search', 'contacts_show')"
   ]
  },
  {
   "cell_type": "markdown",
   "metadata": {},
   "source": [
    "**Воронка для сценария photos_show - contacts_show**"
   ]
  },
  {
   "cell_type": "code",
   "execution_count": 38,
   "metadata": {},
   "outputs": [
    {
     "data": {
      "image/png": "[encoded data removed]"
     },
     "metadata": {},
     "output_type": "display_data"
    }
   ],
   "source": [
    "funnel_2(mobile_dataset, 'photos_show', 'contacts_show')"
   ]
  },
  {
   "cell_type": "code",
   "execution_count": 39,
   "metadata": {},
   "outputs": [],
   "source": [
    "# Функция для построения строгой воронки для трех действий\n",
    "def funnel_3 (data, event1, event2, event3):\n",
    "    a = data[data['event_name'] == event1]\n",
    "    a_id = a['user_id'].unique()\n",
    "    a = a['user_id'].nunique()\n",
    " \n",
    "    b = data.query('user_id in @a_id')\n",
    "    b = b[b['event_name'] == event2]\n",
    "    b_id = b['user_id'].unique()\n",
    "    b = b['user_id'].nunique()\n",
    " \n",
    "    c = data.query('user_id in @b_id')\n",
    "    c = c[c['event_name'] == event3]\n",
    "    c = c['user_id'].nunique()\n",
    " \n",
    "    x = [a, b, c]\n",
    "    y = [event1, event2, event3]\n",
    " \n",
    "    fig = go.Figure(go.Funnel(\n",
    "        y = y,\n",
    "        x = x,\n",
    "        textinfo = \"value+percent initial + percent previous\"))\n",
    "    fig.show()"
   ]
  },
  {
   "cell_type": "markdown",
   "metadata": {},
   "source": [
    "**Воронка для сценария search - photos_show - contacts_show**"
   ]
  },
  {
   "cell_type": "code",
   "execution_count": 40,
   "metadata": {},
   "outputs": [
    {
     "data": {
      "image/png": "[encoded data removed]"
     },
     "metadata": {},
     "output_type": "display_data"
    }
   ],
   "source": [
    "funnel_3(mobile_dataset, 'search', 'photos_show', 'contacts_show')"
   ]
  },
  {
   "cell_type": "markdown",
   "metadata": {},
   "source": [
    "**Вывод:**\n",
    "\n",
    "Из трех первых сценариев самым успешным с точки зрения таргета оказался 'photos_show' - 'contacts_show'. Более 30% пользователей переходят на шаг просмотра контактов после просмотра фотографий. Для сценариев map и search это 20 и 23 % соответственно. \n",
    "______\n",
    "За три шага воронка теряет 88% пользователей. Возможно стоит обратить внимание на конверсию пользователей после шага search. Находят ли они необходимые объявления"
   ]
  },
  {
   "cell_type": "markdown",
   "metadata": {},
   "source": [
    "Помимо основных сценариев, посмотрим на конверсию в целевое действие по всему функционалу приложения\n"
   ]
  },
  {
   "cell_type": "code",
   "execution_count": 41,
   "metadata": {},
   "outputs": [
    {
     "data": {
      "image/png": "[encoded data removed]"
     },
     "metadata": {},
     "output_type": "display_data"
    }
   ],
   "source": [
    "# показ объявления - целевое\n",
    "funnel_2(mobile_dataset, 'tips_show', 'contacts_show')"
   ]
  },
  {
   "cell_type": "code",
   "execution_count": 42,
   "metadata": {},
   "outputs": [
    {
     "data": {
      "image/png": "[encoded data removed]"
     },
     "metadata": {},
     "output_type": "display_data"
    }
   ],
   "source": [
    "# открытие объявления - целевое\n",
    "funnel_2(mobile_dataset, 'advert_open', 'contacts_show')"
   ]
  },
  {
   "cell_type": "code",
   "execution_count": 43,
   "metadata": {},
   "outputs": [
    {
     "data": {
      "image/png": "[encoded data removed]"
     },
     "metadata": {},
     "output_type": "display_data"
    }
   ],
   "source": [
    "# открытие рекламного объявления - целевое\n",
    "funnel_2(mobile_dataset, 'tips_click', 'contacts_show')"
   ]
  },
  {
   "cell_type": "code",
   "execution_count": 44,
   "metadata": {},
   "outputs": [
    {
     "data": {
      "image/png": "[encoded data removed]"
     },
     "metadata": {},
     "output_type": "display_data"
    }
   ],
   "source": [
    "# добавление в избранное - целевое\n",
    "funnel_2(mobile_dataset, 'favorites_add', 'contacts_show')"
   ]
  },
  {
   "cell_type": "markdown",
   "metadata": {},
   "source": [
    "  \n",
    "<div class=\"alert alert-block alert-info\">\n",
    "    \n",
    "**Выводы:**\n",
    "\n",
    "Какой функционал хорошо влияет на конверсию в просмотр контактов:\n",
    "    \n",
    "- `favorites_add` — `contacts_show` — `39%` конверсия\n",
    "    - лидер по конверсии. Объявление понравилось, пользователь не хочет его потерять, заинтересован в приобретении и связывается с владельцем объявления\n",
    "    \n",
    "- `photos_show` — `contacts_show` — `31%`\n",
    "    - просмотр фото показывает одну из лидирующих позиций по конверсии. Это может быть связано с тем, что фото дает больше информации о продукте и вызывает больше доверия\n",
    "- `tips_click` — `contacts_show` — `31%`\n",
    "    - просмотр рекомендованных объявлений показывает одну из лидирующих позиций по конверсии. Пользователи переходят на рекомендованные объявления куда чаще, чем после самостоятельного поиска\n",
    "- `search` — `contacts_show` — `23%`    \n",
    "- `advert_open` — `contacts_show` — `18%` \n",
    "- `map` — `contacts_show` — `20%`\n",
    "- `tips_show` — `contacts_show` — `18%`\n",
    "    \n",
    "    \n",
    "</div>"
   ]
  },
  {
   "cell_type": "markdown",
   "metadata": {},
   "source": [
    "### Как различается время между распространенными событиями пользователей"
   ]
  },
  {
   "cell_type": "code",
   "execution_count": 45,
   "metadata": {},
   "outputs": [
    {
     "data": {
      "text/html": [
       "<div>\n",
       "<style scoped>\n",
       "    .dataframe tbody tr th:only-of-type {\n",
       "        vertical-align: middle;\n",
       "    }\n",
       "\n",
       "    .dataframe tbody tr th {\n",
       "        vertical-align: top;\n",
       "    }\n",
       "\n",
       "    .dataframe thead th {\n",
       "        text-align: right;\n",
       "    }\n",
       "</style>\n",
       "<table border=\"1\" class=\"dataframe\">\n",
       "  <thead>\n",
       "    <tr style=\"text-align: right;\">\n",
       "      <th></th>\n",
       "      <th>event_time</th>\n",
       "      <th>event_name</th>\n",
       "      <th>user_id</th>\n",
       "      <th>date</th>\n",
       "      <th>session_id</th>\n",
       "    </tr>\n",
       "  </thead>\n",
       "  <tbody>\n",
       "    <tr>\n",
       "      <th>31632</th>\n",
       "      <td>2019-10-19 21:34:33.849769</td>\n",
       "      <td>search</td>\n",
       "      <td>00157779-810c-4498-9e05-a1e9e3cedf93</td>\n",
       "      <td>2019-10-19</td>\n",
       "      <td>5</td>\n",
       "    </tr>\n",
       "    <tr>\n",
       "      <th>31636</th>\n",
       "      <td>2019-10-19 21:35:19.296599</td>\n",
       "      <td>search</td>\n",
       "      <td>00157779-810c-4498-9e05-a1e9e3cedf93</td>\n",
       "      <td>2019-10-19</td>\n",
       "      <td>5</td>\n",
       "    </tr>\n",
       "    <tr>\n",
       "      <th>31640</th>\n",
       "      <td>2019-10-19 21:36:44.344691</td>\n",
       "      <td>search</td>\n",
       "      <td>00157779-810c-4498-9e05-a1e9e3cedf93</td>\n",
       "      <td>2019-10-19</td>\n",
       "      <td>5</td>\n",
       "    </tr>\n",
       "    <tr>\n",
       "      <th>31655</th>\n",
       "      <td>2019-10-19 21:40:38.990477</td>\n",
       "      <td>photos_show</td>\n",
       "      <td>00157779-810c-4498-9e05-a1e9e3cedf93</td>\n",
       "      <td>2019-10-19</td>\n",
       "      <td>5</td>\n",
       "    </tr>\n",
       "    <tr>\n",
       "      <th>31659</th>\n",
       "      <td>2019-10-19 21:42:13.837523</td>\n",
       "      <td>photos_show</td>\n",
       "      <td>00157779-810c-4498-9e05-a1e9e3cedf93</td>\n",
       "      <td>2019-10-19</td>\n",
       "      <td>5</td>\n",
       "    </tr>\n",
       "    <tr>\n",
       "      <th>...</th>\n",
       "      <td>...</td>\n",
       "      <td>...</td>\n",
       "      <td>...</td>\n",
       "      <td>...</td>\n",
       "      <td>...</td>\n",
       "    </tr>\n",
       "    <tr>\n",
       "      <th>54919</th>\n",
       "      <td>2019-10-28 07:08:57.160017</td>\n",
       "      <td>search</td>\n",
       "      <td>ffe68f10-e48e-470e-be9b-eeb93128ff1a</td>\n",
       "      <td>2019-10-28</td>\n",
       "      <td>9999</td>\n",
       "    </tr>\n",
       "    <tr>\n",
       "      <th>54920</th>\n",
       "      <td>2019-10-28 07:13:03.805332</td>\n",
       "      <td>search</td>\n",
       "      <td>ffe68f10-e48e-470e-be9b-eeb93128ff1a</td>\n",
       "      <td>2019-10-28</td>\n",
       "      <td>9999</td>\n",
       "    </tr>\n",
       "    <tr>\n",
       "      <th>54921</th>\n",
       "      <td>2019-10-28 07:14:21.177488</td>\n",
       "      <td>photos_show</td>\n",
       "      <td>ffe68f10-e48e-470e-be9b-eeb93128ff1a</td>\n",
       "      <td>2019-10-28</td>\n",
       "      <td>9999</td>\n",
       "    </tr>\n",
       "    <tr>\n",
       "      <th>54922</th>\n",
       "      <td>2019-10-28 07:15:10.094101</td>\n",
       "      <td>photos_show</td>\n",
       "      <td>ffe68f10-e48e-470e-be9b-eeb93128ff1a</td>\n",
       "      <td>2019-10-28</td>\n",
       "      <td>9999</td>\n",
       "    </tr>\n",
       "    <tr>\n",
       "      <th>54923</th>\n",
       "      <td>2019-10-28 07:17:52.646652</td>\n",
       "      <td>photos_show</td>\n",
       "      <td>ffe68f10-e48e-470e-be9b-eeb93128ff1a</td>\n",
       "      <td>2019-10-28</td>\n",
       "      <td>9999</td>\n",
       "    </tr>\n",
       "  </tbody>\n",
       "</table>\n",
       "<p>16796 rows × 5 columns</p>\n",
       "</div>"
      ],
      "text/plain": [
       "                      event_time   event_name  \\\n",
       "31632 2019-10-19 21:34:33.849769       search   \n",
       "31636 2019-10-19 21:35:19.296599       search   \n",
       "31640 2019-10-19 21:36:44.344691       search   \n",
       "31655 2019-10-19 21:40:38.990477  photos_show   \n",
       "31659 2019-10-19 21:42:13.837523  photos_show   \n",
       "...                          ...          ...   \n",
       "54919 2019-10-28 07:08:57.160017       search   \n",
       "54920 2019-10-28 07:13:03.805332       search   \n",
       "54921 2019-10-28 07:14:21.177488  photos_show   \n",
       "54922 2019-10-28 07:15:10.094101  photos_show   \n",
       "54923 2019-10-28 07:17:52.646652  photos_show   \n",
       "\n",
       "                                    user_id       date  session_id  \n",
       "31632  00157779-810c-4498-9e05-a1e9e3cedf93 2019-10-19           5  \n",
       "31636  00157779-810c-4498-9e05-a1e9e3cedf93 2019-10-19           5  \n",
       "31640  00157779-810c-4498-9e05-a1e9e3cedf93 2019-10-19           5  \n",
       "31655  00157779-810c-4498-9e05-a1e9e3cedf93 2019-10-19           5  \n",
       "31659  00157779-810c-4498-9e05-a1e9e3cedf93 2019-10-19           5  \n",
       "...                                     ...        ...         ...  \n",
       "54919  ffe68f10-e48e-470e-be9b-eeb93128ff1a 2019-10-28        9999  \n",
       "54920  ffe68f10-e48e-470e-be9b-eeb93128ff1a 2019-10-28        9999  \n",
       "54921  ffe68f10-e48e-470e-be9b-eeb93128ff1a 2019-10-28        9999  \n",
       "54922  ffe68f10-e48e-470e-be9b-eeb93128ff1a 2019-10-28        9999  \n",
       "54923  ffe68f10-e48e-470e-be9b-eeb93128ff1a 2019-10-28        9999  \n",
       "\n",
       "[16796 rows x 5 columns]"
      ]
     },
     "execution_count": 45,
     "metadata": {},
     "output_type": "execute_result"
    }
   ],
   "source": [
    "#отфильтруем датафрейм, сохраним в нем только события ['search' 'photos_show']\n",
    "\n",
    "search_photos = mobile_dataset.query('event_name == \"search\" or event_name == \"photos_show\"')\n",
    "search_photos"
   ]
  },
  {
   "cell_type": "code",
   "execution_count": 46,
   "metadata": {},
   "outputs": [
    {
     "data": {
      "text/html": [
       "<div>\n",
       "<style scoped>\n",
       "    .dataframe tbody tr th:only-of-type {\n",
       "        vertical-align: middle;\n",
       "    }\n",
       "\n",
       "    .dataframe tbody tr th {\n",
       "        vertical-align: top;\n",
       "    }\n",
       "\n",
       "    .dataframe thead th {\n",
       "        text-align: right;\n",
       "    }\n",
       "</style>\n",
       "<table border=\"1\" class=\"dataframe\">\n",
       "  <thead>\n",
       "    <tr style=\"text-align: right;\">\n",
       "      <th></th>\n",
       "      <th>session_id</th>\n",
       "      <th>event_name</th>\n",
       "      <th>time_event</th>\n",
       "    </tr>\n",
       "  </thead>\n",
       "  <tbody>\n",
       "    <tr>\n",
       "      <th>0</th>\n",
       "      <td>5</td>\n",
       "      <td>photos_show</td>\n",
       "      <td>2019-10-19 21:40:38.990477</td>\n",
       "    </tr>\n",
       "    <tr>\n",
       "      <th>1</th>\n",
       "      <td>5</td>\n",
       "      <td>search</td>\n",
       "      <td>2019-10-19 21:34:33.849769</td>\n",
       "    </tr>\n",
       "    <tr>\n",
       "      <th>2</th>\n",
       "      <td>6</td>\n",
       "      <td>photos_show</td>\n",
       "      <td>2019-10-20 18:59:22.541082</td>\n",
       "    </tr>\n",
       "    <tr>\n",
       "      <th>3</th>\n",
       "      <td>6</td>\n",
       "      <td>search</td>\n",
       "      <td>2019-10-20 18:49:24.115634</td>\n",
       "    </tr>\n",
       "    <tr>\n",
       "      <th>4</th>\n",
       "      <td>7</td>\n",
       "      <td>photos_show</td>\n",
       "      <td>2019-10-24 10:50:40.219833</td>\n",
       "    </tr>\n",
       "    <tr>\n",
       "      <th>...</th>\n",
       "      <td>...</td>\n",
       "      <td>...</td>\n",
       "      <td>...</td>\n",
       "    </tr>\n",
       "    <tr>\n",
       "      <th>5403</th>\n",
       "      <td>9997</td>\n",
       "      <td>photos_show</td>\n",
       "      <td>2019-10-21 16:49:57.103308</td>\n",
       "    </tr>\n",
       "    <tr>\n",
       "      <th>5404</th>\n",
       "      <td>9997</td>\n",
       "      <td>search</td>\n",
       "      <td>2019-10-21 16:39:33.867145</td>\n",
       "    </tr>\n",
       "    <tr>\n",
       "      <th>5405</th>\n",
       "      <td>9998</td>\n",
       "      <td>photos_show</td>\n",
       "      <td>2019-10-22 16:10:01.689369</td>\n",
       "    </tr>\n",
       "    <tr>\n",
       "      <th>5406</th>\n",
       "      <td>9999</td>\n",
       "      <td>photos_show</td>\n",
       "      <td>2019-10-28 07:02:12.857112</td>\n",
       "    </tr>\n",
       "    <tr>\n",
       "      <th>5407</th>\n",
       "      <td>9999</td>\n",
       "      <td>search</td>\n",
       "      <td>2019-10-28 07:01:58.772035</td>\n",
       "    </tr>\n",
       "  </tbody>\n",
       "</table>\n",
       "<p>5408 rows × 3 columns</p>\n",
       "</div>"
      ],
      "text/plain": [
       "      session_id   event_name                 time_event\n",
       "0              5  photos_show 2019-10-19 21:40:38.990477\n",
       "1              5       search 2019-10-19 21:34:33.849769\n",
       "2              6  photos_show 2019-10-20 18:59:22.541082\n",
       "3              6       search 2019-10-20 18:49:24.115634\n",
       "4              7  photos_show 2019-10-24 10:50:40.219833\n",
       "...          ...          ...                        ...\n",
       "5403        9997  photos_show 2019-10-21 16:49:57.103308\n",
       "5404        9997       search 2019-10-21 16:39:33.867145\n",
       "5405        9998  photos_show 2019-10-22 16:10:01.689369\n",
       "5406        9999  photos_show 2019-10-28 07:02:12.857112\n",
       "5407        9999       search 2019-10-28 07:01:58.772035\n",
       "\n",
       "[5408 rows x 3 columns]"
      ]
     },
     "execution_count": 46,
     "metadata": {},
     "output_type": "execute_result"
    }
   ],
   "source": [
    "# отоберем те сессии, где встречаются оба этих события в рамках одной сессии\n",
    "search_photos = search_photos.groupby(['session_id', 'event_name'], as_index=False).agg(time_event=('event_time', 'min'))\n",
    "search_photos"
   ]
  },
  {
   "cell_type": "code",
   "execution_count": 47,
   "metadata": {},
   "outputs": [],
   "source": [
    "search_photos = search_photos.sort_values(['session_id', 'time_event']) # отсортирую по времени"
   ]
  },
  {
   "cell_type": "code",
   "execution_count": 48,
   "metadata": {},
   "outputs": [
    {
     "name": "stdout",
     "output_type": "stream",
     "text": [
      "среднее время между событиями: 0 days 00:07:16.020435794\n",
      "медиана времени между событиями: 0 days 00:03:27.017361500\n"
     ]
    }
   ],
   "source": [
    "print('среднее время между событиями:', search_photos.groupby('session_id')['time_event'].diff().mean())\n",
    "print('медиана времени между событиями:', search_photos.groupby('session_id')['time_event'].diff().median())"
   ]
  },
  {
   "cell_type": "code",
   "execution_count": 49,
   "metadata": {},
   "outputs": [
    {
     "name": "stdout",
     "output_type": "stream",
     "text": [
      "среднее время между событиями: 0 days 00:06:01.215780092\n",
      "медиана времени между событиями: 0 days 00:01:50.356816\n"
     ]
    }
   ],
   "source": [
    "# узнаем среднее время между событиями просмотр карты и открытие объявления\n",
    "map_advert =  mobile_dataset.query('event_name == \"map\" or event_name == \"advert_open\"') # отфильтруем датасет\n",
    "map_advert = map_advert.groupby(['session_id', 'event_name'], as_index=False).agg(time_event=('event_time', 'min'))\n",
    "map_advert = map_advert.sort_values(['session_id', 'time_event'])\n",
    "print('среднее время между событиями:', map_advert.groupby('session_id')['time_event'].diff().mean())\n",
    "print('медиана времени между событиями:', map_advert.groupby('session_id')['time_event'].diff().median())"
   ]
  },
  {
   "cell_type": "code",
   "execution_count": 50,
   "metadata": {},
   "outputs": [
    {
     "name": "stdout",
     "output_type": "stream",
     "text": [
      "среднее время между событиями: 0 days 00:12:47.068361196\n",
      "медиана времени между событиями: 0 days 00:05:48.156634\n"
     ]
    }
   ],
   "source": [
    "# узнаем среднее время между событиями просмотр карты и просмотр контакта\n",
    "map_contacts_show =  mobile_dataset.query('event_name == \"map\" or event_name == \"contacts_show\"') # отфильтруем датасет\n",
    "map_contacts_show = (map_contacts_show\n",
    "                     .groupby(['session_id', 'event_name'], as_index=False).agg(time_event=('event_time', 'min')))\n",
    "map_contacts_show = map_contacts_show.sort_values(['session_id', 'time_event'])\n",
    "print('среднее время между событиями:', map_contacts_show.groupby('session_id')['time_event'].diff().mean())\n",
    "print('медиана времени между событиями:', map_contacts_show.groupby('session_id')['time_event'].diff().median())"
   ]
  },
  {
   "cell_type": "code",
   "execution_count": 51,
   "metadata": {},
   "outputs": [
    {
     "data": {
      "text/plain": [
       "<AxesSubplot:>"
      ]
     },
     "execution_count": 51,
     "metadata": {},
     "output_type": "execute_result"
    },
    {
     "data": {
      "image/png": "[encoded data removed]",
      "text/plain": [
       "<Figure size 432x288 with 1 Axes>"
      ]
     },
     "metadata": {
      "needs_background": "light"
     },
     "output_type": "display_data"
    }
   ],
   "source": [
    "map_contacts_show.groupby('session_id')['time_event'].diff().astype('timedelta64[m]').hist(bins=50, range=(1,50))"
   ]
  },
  {
   "cell_type": "markdown",
   "metadata": {},
   "source": [
    "**Выводы:**\n",
    "\n",
    "Время между событиями от 2 до 6 минут. "
   ]
  },
  {
   "cell_type": "markdown",
   "metadata": {},
   "source": [
    "**Выводы:**\n",
    "\n",
    "**Какие сценарии использования приложения выделяются?**\n",
    " В блоке визуализации я выделила несколько сценариев пользовательского поведения:\n",
    " \n",
    "- map -> contacts_show\n",
    "- search -> contacts_show\n",
    "- photos_show -> contacts_show\n",
    "- search -> photos_show -> contacts_show\n",
    "\n",
    "**Какие события влияют на конверсию в целевое действие?**\n",
    "\n",
    "Какой функционал хорошо влияет на конверсию в просмотр контактов:\n",
    "    \n",
    "- `favorites_add` — `contacts_show` — `39%` конверсия\n",
    "    - лидер по конверсии. Объявление понравилось, пользователь не хочет его потерять, пользователь заинтересован в приобретении и связывается с владельцем объявления\n",
    "    \n",
    "- `photos_show` — `contacts_show` — `31%`\n",
    "    - просмотр фото показывает одну из лидирующих позиций по конверсии. Это может быть связано с тем, что фото дает больше информации о продукте и вызывает больше доверия\n",
    "- `tips_click` — `contacts_show` — `31%`\n",
    "    - просмотр рекомендованных объявлений показывает одну из лидирующих позиций по конверсии. Пользователи переходят на рекомендованные объявления куда чаще, чем после самостоятельного поиска\n",
    "\n",
    "**Как различается время между распространенными событиями пользователей?**\n",
    "- Среднее время между разными событиями варьируется `от 2 до 6 минут`"
   ]
  },
  {
   "cell_type": "markdown",
   "metadata": {},
   "source": [
    "## Проверка статистических гипотез"
   ]
  },
  {
   "cell_type": "markdown",
   "metadata": {},
   "source": [
    "Одни пользователи совершают действия tips_show и tips_click, другие — только tips_show. Сформулируем гипотезу: конверсия в просмотры контактов различается у этих двух групп.\n",
    "\n",
    "Нулевая гипотеза: нет статистически значимой разницы конверсии у двух групп\n",
    "\n",
    "Альтернативная: между группами есть статистически значимая разница"
   ]
  },
  {
   "cell_type": "code",
   "execution_count": 52,
   "metadata": {},
   "outputs": [],
   "source": [
    "# разделим пользователей на две группы\n",
    " \n",
    "# только tips_show\n",
    "group1 = mobile_dataset[mobile_dataset['event_name'] == 'tips_show']\n",
    " \n",
    "group1_id = group1['user_id'].unique() # id пользователей первой группы \n",
    "group1_users = group1['user_id'].nunique() # количество уникальных пользователей\n",
    " \n",
    "# tips_show + tips_click\n",
    "group2 = mobile_dataset.query('user_id in @group1_id')\n",
    "group2 = group2[group2['event_name'] == 'tips_click'] \n",
    " \n",
    "group2_id = group2['user_id'].unique() # id пользователей второй группы \n",
    "group2_users = group2['user_id'].nunique()  # количество уникальных пользователей"
   ]
  },
  {
   "cell_type": "markdown",
   "metadata": {},
   "source": [
    "Проверим группы на пересечение пользователей\n"
   ]
  },
  {
   "cell_type": "code",
   "execution_count": 53,
   "metadata": {},
   "outputs": [
    {
     "data": {
      "text/plain": [
       "297"
      ]
     },
     "execution_count": 53,
     "metadata": {},
     "output_type": "execute_result"
    }
   ],
   "source": [
    "# посмотрим сколько пользователей попали в обе группы\n",
    "ab_users = (mobile_dataset.loc[mobile_dataset['user_id'].isin(group1['user_id']) \n",
    "                               & mobile_dataset['user_id'].isin(group2['user_id'])])\n",
    "ab_users['user_id'].nunique() # выведем число этих пользователей"
   ]
  },
  {
   "cell_type": "markdown",
   "metadata": {},
   "source": [
    "В первой группе присутствуют пользователи, которые используют функционал tips_click. Удалим их из этой группы"
   ]
  },
  {
   "cell_type": "code",
   "execution_count": 54,
   "metadata": {},
   "outputs": [
    {
     "name": "stdout",
     "output_type": "stream",
     "text": [
      "количество уникальных пользователей до фильтрации: 2801\n",
      "количество уникальных пользователей после фильтрации: 2504\n"
     ]
    }
   ],
   "source": [
    "print('количество уникальных пользователей до фильтрации:', group1_users)\n",
    "group1 = group1.query('user_id not in @group2_id') # фильтрация\n",
    "# обновим переменные\n",
    "group1_id = group1['user_id'].unique() # id пользователей первой группы \n",
    "group1_users = group1['user_id'].nunique() # количество уникальных пользователей\n",
    "print('количество уникальных пользователей после фильтрации:', group1_users)"
   ]
  },
  {
   "cell_type": "markdown",
   "metadata": {},
   "source": [
    "Нпишем функцию, возвращающую p-value"
   ]
  },
  {
   "cell_type": "code",
   "execution_count": 55,
   "metadata": {},
   "outputs": [],
   "source": [
    "def z_test(group1, group2, alpha):\n",
    "    # количество успехов в первой группе:\n",
    "    group1_conversion = mobile_dataset.query('user_id in @group1_id')\n",
    "    group1_conversion = group1_conversion[group1_conversion['event_name'] == 'contacts_show'] \n",
    "    p1 = group1_conversion['user_id'].nunique()\n",
    " \n",
    "    # количество успехов во второй группе:\n",
    "    group2_conversion = mobile_dataset.query('user_id in @group2_id')\n",
    "    group2_conversion = group2_conversion[group2_conversion['event_name'] == 'contacts_show'] \n",
    "    p2 = group2_conversion['user_id'].nunique()\n",
    "    \n",
    "    print(p1, p2, group1_users, group2_users) # КОД РЕВЬЮЕРА\n",
    " \n",
    "    # пропорция успехов в комбинированном датасете:\n",
    "    p_combined = ((p1 + p2) / (group1_users + group2_users))\n",
    " \n",
    "    # разница количества успехов в датасетах:\n",
    "    difference = p1 - p2 \n",
    " \n",
    "    # считаем статистику в ст.отклонениях стандартного нормального распределения\n",
    "    z_value = difference / mth.sqrt(p_combined * (1 - p_combined) * (1/group1_users + 1/group2_users))\n",
    " \n",
    "    # задаем стандартное нормальное распределение (среднее 0, ст.отклонение 1)\n",
    "    distr = st.norm(0, 1)  \n",
    "    p_value = (1 - distr.cdf(abs(z_value))) * 2\n",
    "    print('p-значение: ', p_value)\n",
    " \n",
    "    if p_value < alpha:\n",
    "        print('Отвергаем нулевую гипотезу: между долями есть значимая разница')\n",
    "    else:\n",
    "        print('Не получилось отвергнуть нулевую гипотезу, нет оснований считать доли разными') "
   ]
  },
  {
   "cell_type": "markdown",
   "metadata": {},
   "source": [
    "Применим функцию к двум контрольным группам"
   ]
  },
  {
   "cell_type": "code",
   "execution_count": 56,
   "metadata": {},
   "outputs": [
    {
     "name": "stdout",
     "output_type": "stream",
     "text": [
      "425 91 2504 297\n",
      "p-значение:  0.0\n",
      "Отвергаем нулевую гипотезу: между долями есть значимая разница\n"
     ]
    }
   ],
   "source": [
    "z_test(group1, group2, 0.05)"
   ]
  },
  {
   "cell_type": "markdown",
   "metadata": {},
   "source": [
    "**Вывод:**\n",
    "\n",
    "Тест показал различие между группами. Мы можем утверждать, что событие tips_click влияет на конверсию в целевое действие"
   ]
  },
  {
   "cell_type": "markdown",
   "metadata": {},
   "source": [
    "Гипотеза: конверсия в целевое действие выше у пользователей, посмотревших фотографии. Нулевая гипотеза: нет статистически значимой разницы конверсии у двух групп Альтернативная: между группами есть статистически значимая разница"
   ]
  },
  {
   "cell_type": "code",
   "execution_count": 57,
   "metadata": {},
   "outputs": [],
   "source": [
    "# разделим пользователей на две группы\n",
    " \n",
    "# просмотрел фотографии\n",
    "group1 = mobile_dataset[mobile_dataset['event_name'] == 'photos_show']\n",
    " \n",
    "group1_id = group1['user_id'].unique() # id пользователей первой группы \n",
    "group1_users = group1['user_id'].nunique() # количество уникальных пользователей\n",
    " \n",
    "# пользователи, не смотревшие фотографии\n",
    "group2 = mobile_dataset.query('user_id not in @group1_id')\n",
    " \n",
    "group2_id = group2['user_id'].unique() # id пользователей второй группы \n",
    "group2_users = group2['user_id'].nunique()  # количество уникальных пользователей"
   ]
  },
  {
   "cell_type": "code",
   "execution_count": 58,
   "metadata": {},
   "outputs": [
    {
     "name": "stdout",
     "output_type": "stream",
     "text": [
      "пользователей, попавших в обе группы: 0\n"
     ]
    }
   ],
   "source": [
    "# посмотрим сколько пользователей попали в обе группы\n",
    "ab_users = (mobile_dataset.loc[mobile_dataset['user_id'].isin(group1['user_id']) \n",
    "                               & mobile_dataset['user_id'].isin(group2['user_id'])])\n",
    "print('пользователей, попавших в обе группы:', ab_users['user_id'].nunique()) # выведем число этих пользователей"
   ]
  },
  {
   "cell_type": "code",
   "execution_count": 59,
   "metadata": {},
   "outputs": [
    {
     "name": "stdout",
     "output_type": "stream",
     "text": [
      "339 642 1095 3198\n",
      "p-значение:  0.0\n",
      "Отвергаем нулевую гипотезу: между долями есть значимая разница\n"
     ]
    }
   ],
   "source": [
    "z_test(group1, group2, 0.05)"
   ]
  },
  {
   "cell_type": "markdown",
   "metadata": {},
   "source": [
    "<a id='zt'></a>"
   ]
  },
  {
   "cell_type": "markdown",
   "metadata": {},
   "source": [
    "\n",
    "Тест показал различие между группами. Мы можем утверждать, что событие photos_show влияет на конверсию в целевое действие"
   ]
  },
  {
   "cell_type": "markdown",
   "metadata": {},
   "source": [
    "##  Общий вывод"
   ]
  },
  {
   "cell_type": "markdown",
   "metadata": {},
   "source": [
    "В данном иследование моя задача была изучить и проанализировать поведение пользователей в мобильном приложении. Выделить сценарии использования приложения, найти особенности и закономерности.\n",
    "Заказчик - отдел management - на основе результатов анализа планируется адаптировать приложение по целевой и смежной аудитории, оптимизировать приложение.\n",
    "\n",
    "Данные были предоставленны в таблице https://code.s3.yandex.net/datasets/mobile_dataset.csv\n",
    "\n",
    "- Первым шагом была подготовка данных. Я:\n",
    "\n",
    "  - изучила общую информацию\n",
    "  - проверила данные на пропуски и дубликаты\n",
    "  - переформатировала данные с датой\n",
    "  - добавила новый столбец с датой\n",
    "\n",
    "- Далее я провела исследовательский анализ данных:\n",
    "  - Всего событий в данных 74197\n",
    "  - Всего пользователей: 4293\n",
    "  - Количество пользователей, которые совершили целевое действие: 981\n",
    "  - Мы располагаем данными с 7 октября по 3 ноября 2019 года.\n",
    "  - Пользователи, которые просматривают контакты, чаще всего видят рекомендованные объявления (tips_show). Но это действие генерируется автоматически. Если его не учитывать, то contacts_show, photos_show, search - наиболее популярные действия пользователей.\n",
    "  - Добавила столбец session_id, в который записала уникальный идентификатор пользовательской сессии с разбивкой на интервал 40 минут\n",
    "\n",
    "- Изучила воронку событий и ответила на основные вопросы заказчика:\n",
    "\n",
    "  - Установила, что пользователь может перейти к целевому действию минуя другие шаги.  [proof](#pr)\n",
    "  - Среди популярных действий пользователей: поиск, просмотр карты, просмотр фотографий.\n",
    "_______\n",
    "\n",
    "**Частые сценарии поведения, которые заканчиваются целевым событием:**\n",
    "\n",
    "\n",
    "- map -> contacts_show\n",
    "- search -> contacts_show\n",
    "- photos_show -> contacts_show\n",
    "- search -> photos_show -> contacts_show\n",
    "__________\n",
    "\n",
    "**События, влияющие на конверсию в целевое действие**\n",
    "\n",
    "Событие 'photos_show' влияет на конверсию в целевое действие. Подтверждено [z-тестом](#zt). Более 30% пользователей переходят на шаг просмотра контактов после просмотра фотографий.\n",
    "\n",
    "favorites_add — contacts_show — 39% конверсия\n",
    "\n",
    "лидер по конверсии. Объявление понравилось, пользователь не хочет его потерять, пользователь заинтересован в приобретении и связывается с владельцем объявления\n",
    "\n",
    "tips_click — contacts_show — 31%\n",
    "\n",
    "просмотр рекомендованных объявлений показывает одну из лидирующих позиций по конверсии. Пользователи переходят на рекомендованные объявления куда чаще, чем после самостоятельного поиска\n",
    "Как различается время между распространенными событиями пользователей?\n",
    "___________\n",
    "**Время между распространенными событиями пользователей**\n",
    "\n",
    "Среднее время между разными событиями варьируется от 2 до 6 минут\n",
    "\n",
    "_________\n",
    "- Последним шагом моего исследования было проведение статистического теста на проверку гипотез:\n",
    "\n",
    "Оба теста опровергли нулевую гипотезу, между долями есть статистически значимая разница. Это говорит о том, что события tips_click и photos_show влияют на конверсию в целевое действие"
   ]
  },
  {
   "cell_type": "markdown",
   "metadata": {},
   "source": [
    "<div class=\"alert alert-block alert-info\">\n",
    "\n",
    "**Рекомендации**\n",
    "\n",
    "Точки роста для приложения\n",
    "    \n",
    "- Просмотр рекомендованных объявлений показал наивысшую конверсию в целевое действие. Однако, всего 3% пользуются этой функцией. Возможно, алгоритм рекомендаций стоит пересмотреть. Повысив этот показатель, при сохранении конверсии в 31%, численность пользователей, дошедших до целевого действия возрастет в разы.\n",
    "___________\n",
    "    \n",
    "- Функцией contacts_call пользуются в 4,5 раза пользователей реже, \n",
    "чем contacts_show. Пользователи уходят с сайта и общаются дальше вне \n",
    "нашего приложения. Это может стать точкой роста -удержать пользователей \n",
    "до момента завершения сделки полезно как и пользователю (обеспечение \n",
    "безопасной сделки), так и бизнесу (сбор более детальной информации о \n",
    "каждом шаге перед сделкой).\n",
    "__________\n",
    "    \n",
    "- Стимулировать пользователей добавлять в объявления качественные \n",
    "фотографии, так как это вызывает больше доверия и положительно \n",
    "сказывается на конверсии в целевое действие\n",
    "    \n",
    "</div>"
   ]
  }
 ],
 "metadata": {
  "ExecuteTimeLog": [
   {
    "duration": 43,
    "start_time": "2022-11-14T16:05:45.325Z"
   },
   {
    "duration": 1148,
    "start_time": "2022-11-14T16:07:45.164Z"
   },
   {
    "duration": 428,
    "start_time": "2022-11-14T16:07:46.314Z"
   },
   {
    "duration": 14,
    "start_time": "2022-11-14T16:07:46.744Z"
   },
   {
    "duration": 17,
    "start_time": "2022-11-14T16:07:46.761Z"
   },
   {
    "duration": 30,
    "start_time": "2022-11-14T16:07:46.779Z"
   },
   {
    "duration": 7,
    "start_time": "2022-11-14T16:20:27.935Z"
   },
   {
    "duration": 7,
    "start_time": "2022-11-14T16:20:33.129Z"
   },
   {
    "duration": 1108,
    "start_time": "2022-11-14T16:27:29.719Z"
   },
   {
    "duration": 358,
    "start_time": "2022-11-14T16:27:30.829Z"
   },
   {
    "duration": 13,
    "start_time": "2022-11-14T16:27:31.189Z"
   },
   {
    "duration": 9,
    "start_time": "2022-11-14T16:27:31.204Z"
   },
   {
    "duration": 44,
    "start_time": "2022-11-14T16:27:31.215Z"
   },
   {
    "duration": 32,
    "start_time": "2022-11-14T16:27:31.260Z"
   },
   {
    "duration": 1160,
    "start_time": "2022-11-15T20:45:46.610Z"
   },
   {
    "duration": 336,
    "start_time": "2022-11-15T20:45:47.772Z"
   },
   {
    "duration": 11,
    "start_time": "2022-11-15T20:45:48.110Z"
   },
   {
    "duration": 9,
    "start_time": "2022-11-15T20:45:48.124Z"
   },
   {
    "duration": 18,
    "start_time": "2022-11-15T20:45:48.135Z"
   },
   {
    "duration": 62,
    "start_time": "2022-11-15T20:45:48.155Z"
   },
   {
    "duration": 18,
    "start_time": "2022-11-15T20:45:48.219Z"
   },
   {
    "duration": 6,
    "start_time": "2022-11-15T20:45:48.239Z"
   },
   {
    "duration": 852,
    "start_time": "2022-11-15T20:45:48.247Z"
   },
   {
    "duration": 0,
    "start_time": "2022-11-15T20:45:49.102Z"
   },
   {
    "duration": 0,
    "start_time": "2022-11-15T20:45:49.103Z"
   },
   {
    "duration": 0,
    "start_time": "2022-11-15T20:45:49.104Z"
   },
   {
    "duration": 0,
    "start_time": "2022-11-15T20:45:49.106Z"
   },
   {
    "duration": 0,
    "start_time": "2022-11-15T20:45:49.108Z"
   },
   {
    "duration": 978,
    "start_time": "2022-11-15T20:46:23.332Z"
   },
   {
    "duration": 272,
    "start_time": "2022-11-15T20:46:24.312Z"
   },
   {
    "duration": 11,
    "start_time": "2022-11-15T20:46:24.586Z"
   },
   {
    "duration": 11,
    "start_time": "2022-11-15T20:46:24.599Z"
   },
   {
    "duration": 17,
    "start_time": "2022-11-15T20:46:24.612Z"
   },
   {
    "duration": 29,
    "start_time": "2022-11-15T20:46:24.631Z"
   },
   {
    "duration": 35,
    "start_time": "2022-11-15T20:46:24.662Z"
   },
   {
    "duration": 7,
    "start_time": "2022-11-15T20:46:24.699Z"
   },
   {
    "duration": 98,
    "start_time": "2022-11-15T20:46:24.708Z"
   },
   {
    "duration": 0,
    "start_time": "2022-11-15T20:46:24.808Z"
   },
   {
    "duration": 0,
    "start_time": "2022-11-15T20:46:24.809Z"
   },
   {
    "duration": 0,
    "start_time": "2022-11-15T20:46:24.810Z"
   },
   {
    "duration": 0,
    "start_time": "2022-11-15T20:46:24.811Z"
   },
   {
    "duration": 0,
    "start_time": "2022-11-15T20:46:24.812Z"
   },
   {
    "duration": 45,
    "start_time": "2022-11-15T20:46:54.713Z"
   },
   {
    "duration": 1006,
    "start_time": "2022-11-15T20:47:00.320Z"
   },
   {
    "duration": 330,
    "start_time": "2022-11-15T20:47:01.328Z"
   },
   {
    "duration": 10,
    "start_time": "2022-11-15T20:47:01.659Z"
   },
   {
    "duration": 8,
    "start_time": "2022-11-15T20:47:01.671Z"
   },
   {
    "duration": 26,
    "start_time": "2022-11-15T20:47:01.681Z"
   },
   {
    "duration": 32,
    "start_time": "2022-11-15T20:47:01.709Z"
   },
   {
    "duration": 17,
    "start_time": "2022-11-15T20:47:01.743Z"
   },
   {
    "duration": 6,
    "start_time": "2022-11-15T20:47:01.762Z"
   },
   {
    "duration": 63,
    "start_time": "2022-11-15T20:47:01.769Z"
   },
   {
    "duration": 14,
    "start_time": "2022-11-15T20:47:01.834Z"
   },
   {
    "duration": 50,
    "start_time": "2022-11-15T20:47:01.851Z"
   },
   {
    "duration": 15,
    "start_time": "2022-11-15T20:47:01.903Z"
   },
   {
    "duration": 248,
    "start_time": "2022-11-15T20:47:01.920Z"
   },
   {
    "duration": 10,
    "start_time": "2022-11-15T20:47:02.170Z"
   },
   {
    "duration": 56,
    "start_time": "2022-11-15T21:00:45.438Z"
   },
   {
    "duration": 102,
    "start_time": "2022-11-15T21:00:56.590Z"
   },
   {
    "duration": 1025,
    "start_time": "2022-11-15T21:01:44.796Z"
   },
   {
    "duration": 1750,
    "start_time": "2022-11-15T21:01:46.499Z"
   },
   {
    "duration": 3,
    "start_time": "2022-11-15T21:01:57.121Z"
   },
   {
    "duration": 37,
    "start_time": "2022-11-15T21:02:07.452Z"
   },
   {
    "duration": 236,
    "start_time": "2022-11-15T21:02:12.013Z"
   },
   {
    "duration": 799,
    "start_time": "2022-11-15T21:02:15.332Z"
   },
   {
    "duration": 768,
    "start_time": "2022-11-15T21:02:31.699Z"
   },
   {
    "duration": 763,
    "start_time": "2022-11-15T21:03:19.425Z"
   },
   {
    "duration": 754,
    "start_time": "2022-11-15T21:03:27.440Z"
   },
   {
    "duration": 781,
    "start_time": "2022-11-15T21:03:36.325Z"
   },
   {
    "duration": 774,
    "start_time": "2022-11-15T21:03:48.293Z"
   },
   {
    "duration": 733,
    "start_time": "2022-11-15T21:04:03.228Z"
   },
   {
    "duration": 11,
    "start_time": "2022-11-15T21:11:41.884Z"
   },
   {
    "duration": 9,
    "start_time": "2022-11-15T21:12:24.877Z"
   },
   {
    "duration": 483,
    "start_time": "2022-11-15T21:13:01.182Z"
   },
   {
    "duration": 255,
    "start_time": "2022-11-15T21:13:34.158Z"
   },
   {
    "duration": 281,
    "start_time": "2022-11-15T21:13:48.753Z"
   },
   {
    "duration": 252,
    "start_time": "2022-11-15T21:14:14.388Z"
   },
   {
    "duration": 292,
    "start_time": "2022-11-15T21:15:49.494Z"
   },
   {
    "duration": 1023,
    "start_time": "2022-11-15T21:17:35.548Z"
   },
   {
    "duration": 629,
    "start_time": "2022-11-15T21:17:36.573Z"
   },
   {
    "duration": 11,
    "start_time": "2022-11-15T21:17:37.203Z"
   },
   {
    "duration": 12,
    "start_time": "2022-11-15T21:17:37.216Z"
   },
   {
    "duration": 17,
    "start_time": "2022-11-15T21:17:37.230Z"
   },
   {
    "duration": 48,
    "start_time": "2022-11-15T21:17:37.249Z"
   },
   {
    "duration": 17,
    "start_time": "2022-11-15T21:17:37.299Z"
   },
   {
    "duration": 4,
    "start_time": "2022-11-15T21:17:37.318Z"
   },
   {
    "duration": 44,
    "start_time": "2022-11-15T21:17:37.324Z"
   },
   {
    "duration": 30,
    "start_time": "2022-11-15T21:17:37.369Z"
   },
   {
    "duration": 33,
    "start_time": "2022-11-15T21:17:37.401Z"
   },
   {
    "duration": 11,
    "start_time": "2022-11-15T21:17:37.435Z"
   },
   {
    "duration": 242,
    "start_time": "2022-11-15T21:17:37.447Z"
   },
   {
    "duration": 9,
    "start_time": "2022-11-15T21:17:37.691Z"
   },
   {
    "duration": 790,
    "start_time": "2022-11-15T21:17:37.702Z"
   },
   {
    "duration": 377,
    "start_time": "2022-11-15T21:17:38.493Z"
   },
   {
    "duration": 6,
    "start_time": "2022-11-15T21:18:13.576Z"
   },
   {
    "duration": 293,
    "start_time": "2022-11-15T21:20:37.624Z"
   },
   {
    "duration": 290,
    "start_time": "2022-11-15T21:20:45.375Z"
   },
   {
    "duration": 4,
    "start_time": "2022-11-15T21:26:01.905Z"
   },
   {
    "duration": 14,
    "start_time": "2022-11-15T21:26:02.521Z"
   },
   {
    "duration": 13,
    "start_time": "2022-11-15T21:26:02.993Z"
   },
   {
    "duration": 8,
    "start_time": "2022-11-15T21:28:38.995Z"
   },
   {
    "duration": 14,
    "start_time": "2022-11-15T21:28:45.030Z"
   },
   {
    "duration": 12,
    "start_time": "2022-11-15T21:32:22.627Z"
   },
   {
    "duration": 15,
    "start_time": "2022-11-15T21:32:31.843Z"
   },
   {
    "duration": 18,
    "start_time": "2022-11-15T21:32:57.993Z"
   },
   {
    "duration": 13,
    "start_time": "2022-11-15T21:33:49.568Z"
   },
   {
    "duration": 42,
    "start_time": "2022-11-15T21:35:35.310Z"
   },
   {
    "duration": 179,
    "start_time": "2022-11-15T21:36:07.218Z"
   },
   {
    "duration": 18,
    "start_time": "2022-11-15T21:39:07.335Z"
   },
   {
    "duration": 9,
    "start_time": "2022-11-15T21:39:39.042Z"
   },
   {
    "duration": 17,
    "start_time": "2022-11-15T21:40:15.262Z"
   },
   {
    "duration": 9,
    "start_time": "2022-11-15T21:40:17.482Z"
   },
   {
    "duration": 16,
    "start_time": "2022-11-15T21:45:56.973Z"
   },
   {
    "duration": 782,
    "start_time": "2022-11-15T21:47:53.875Z"
   },
   {
    "duration": 719,
    "start_time": "2022-11-15T21:48:05.649Z"
   },
   {
    "duration": 375,
    "start_time": "2022-11-15T21:48:14.998Z"
   },
   {
    "duration": 154,
    "start_time": "2022-11-15T21:48:24.620Z"
   },
   {
    "duration": 41,
    "start_time": "2022-11-15T21:48:57.864Z"
   },
   {
    "duration": 172,
    "start_time": "2022-11-15T21:49:08.736Z"
   },
   {
    "duration": 161,
    "start_time": "2022-11-15T21:49:40.479Z"
   },
   {
    "duration": 154,
    "start_time": "2022-11-15T21:49:50.559Z"
   },
   {
    "duration": 167,
    "start_time": "2022-11-15T21:50:20.163Z"
   },
   {
    "duration": 176,
    "start_time": "2022-11-15T21:51:09.004Z"
   },
   {
    "duration": 174,
    "start_time": "2022-11-15T21:54:26.613Z"
   },
   {
    "duration": 689,
    "start_time": "2022-11-15T21:55:09.065Z"
   },
   {
    "duration": 5,
    "start_time": "2022-11-15T21:55:39.040Z"
   },
   {
    "duration": 14,
    "start_time": "2022-11-15T21:57:13.817Z"
   },
   {
    "duration": 14,
    "start_time": "2022-11-15T21:57:28.650Z"
   },
   {
    "duration": 267,
    "start_time": "2022-11-15T21:57:39.454Z"
   },
   {
    "duration": 178,
    "start_time": "2022-11-15T21:57:53.697Z"
   },
   {
    "duration": 10,
    "start_time": "2022-11-15T21:57:59.699Z"
   },
   {
    "duration": 6,
    "start_time": "2022-11-15T21:58:07.268Z"
   },
   {
    "duration": 1453,
    "start_time": "2022-11-16T07:54:54.043Z"
   },
   {
    "duration": 900,
    "start_time": "2022-11-16T07:54:55.499Z"
   },
   {
    "duration": 13,
    "start_time": "2022-11-16T07:54:56.401Z"
   },
   {
    "duration": 12,
    "start_time": "2022-11-16T07:54:56.416Z"
   },
   {
    "duration": 51,
    "start_time": "2022-11-16T07:54:56.430Z"
   },
   {
    "duration": 35,
    "start_time": "2022-11-16T07:54:56.483Z"
   },
   {
    "duration": 34,
    "start_time": "2022-11-16T07:54:56.521Z"
   },
   {
    "duration": 16,
    "start_time": "2022-11-16T07:54:56.559Z"
   },
   {
    "duration": 55,
    "start_time": "2022-11-16T07:54:56.581Z"
   },
   {
    "duration": 32,
    "start_time": "2022-11-16T07:54:56.639Z"
   },
   {
    "duration": 51,
    "start_time": "2022-11-16T07:54:56.673Z"
   },
   {
    "duration": 13,
    "start_time": "2022-11-16T07:54:56.726Z"
   },
   {
    "duration": 327,
    "start_time": "2022-11-16T07:54:56.740Z"
   },
   {
    "duration": 22,
    "start_time": "2022-11-16T07:54:57.069Z"
   },
   {
    "duration": 993,
    "start_time": "2022-11-16T07:54:57.093Z"
   },
   {
    "duration": 4,
    "start_time": "2022-11-16T07:54:58.088Z"
   },
   {
    "duration": 505,
    "start_time": "2022-11-16T07:54:58.094Z"
   },
   {
    "duration": 4,
    "start_time": "2022-11-16T07:54:58.601Z"
   },
   {
    "duration": 21,
    "start_time": "2022-11-16T07:54:58.607Z"
   },
   {
    "duration": 52,
    "start_time": "2022-11-16T07:54:58.630Z"
   },
   {
    "duration": 33,
    "start_time": "2022-11-16T07:54:58.684Z"
   },
   {
    "duration": 18,
    "start_time": "2022-11-16T07:54:58.718Z"
   },
   {
    "duration": 67,
    "start_time": "2022-11-16T07:54:58.738Z"
   },
   {
    "duration": 204,
    "start_time": "2022-11-16T07:54:58.807Z"
   },
   {
    "duration": 45,
    "start_time": "2022-11-16T07:54:59.014Z"
   },
   {
    "duration": 15,
    "start_time": "2022-11-16T07:54:59.061Z"
   },
   {
    "duration": 339,
    "start_time": "2022-11-16T07:54:59.078Z"
   },
   {
    "duration": 10,
    "start_time": "2022-11-16T07:54:59.421Z"
   },
   {
    "duration": 23,
    "start_time": "2022-11-16T07:54:59.433Z"
   },
   {
    "duration": 15,
    "start_time": "2022-11-16T07:58:54.032Z"
   },
   {
    "duration": 23,
    "start_time": "2022-11-16T07:59:50.194Z"
   },
   {
    "duration": 16,
    "start_time": "2022-11-16T08:15:01.699Z"
   },
   {
    "duration": 21,
    "start_time": "2022-11-16T08:15:03.346Z"
   },
   {
    "duration": 130,
    "start_time": "2022-11-16T08:18:48.095Z"
   },
   {
    "duration": 12,
    "start_time": "2022-11-16T08:20:06.750Z"
   },
   {
    "duration": 4,
    "start_time": "2022-11-16T08:21:26.693Z"
   },
   {
    "duration": 6,
    "start_time": "2022-11-16T08:21:52.056Z"
   },
   {
    "duration": 17,
    "start_time": "2022-11-16T08:21:53.721Z"
   },
   {
    "duration": 12,
    "start_time": "2022-11-16T08:22:28.735Z"
   },
   {
    "duration": 10,
    "start_time": "2022-11-16T08:23:35.673Z"
   },
   {
    "duration": 11,
    "start_time": "2022-11-16T08:23:41.410Z"
   },
   {
    "duration": 12,
    "start_time": "2022-11-16T08:23:46.609Z"
   },
   {
    "duration": 4,
    "start_time": "2022-11-16T08:24:31.378Z"
   },
   {
    "duration": 8,
    "start_time": "2022-11-16T08:24:47.428Z"
   },
   {
    "duration": 1284,
    "start_time": "2022-11-16T08:24:51.968Z"
   },
   {
    "duration": 78,
    "start_time": "2022-11-16T08:35:58.305Z"
   },
   {
    "duration": 32,
    "start_time": "2022-11-16T08:36:20.773Z"
   },
   {
    "duration": 14,
    "start_time": "2022-11-16T08:36:40.577Z"
   },
   {
    "duration": 9,
    "start_time": "2022-11-16T08:38:53.229Z"
   },
   {
    "duration": 24,
    "start_time": "2022-11-16T08:39:15.369Z"
   },
   {
    "duration": 20,
    "start_time": "2022-11-16T08:40:49.324Z"
   },
   {
    "duration": 37,
    "start_time": "2022-11-16T08:40:58.075Z"
   },
   {
    "duration": 11,
    "start_time": "2022-11-16T08:44:11.427Z"
   },
   {
    "duration": 10,
    "start_time": "2022-11-16T08:44:12.560Z"
   },
   {
    "duration": 11,
    "start_time": "2022-11-16T08:44:13.485Z"
   },
   {
    "duration": 59,
    "start_time": "2022-11-16T08:44:16.860Z"
   },
   {
    "duration": 12,
    "start_time": "2022-11-16T09:09:40.605Z"
   },
   {
    "duration": 14,
    "start_time": "2022-11-16T09:10:27.102Z"
   },
   {
    "duration": 60,
    "start_time": "2022-11-16T09:10:40.052Z"
   },
   {
    "duration": 1559,
    "start_time": "2022-11-17T13:13:21.598Z"
   },
   {
    "duration": 452,
    "start_time": "2022-11-17T13:13:23.159Z"
   },
   {
    "duration": 12,
    "start_time": "2022-11-17T13:13:23.613Z"
   },
   {
    "duration": 19,
    "start_time": "2022-11-17T13:13:23.627Z"
   },
   {
    "duration": 43,
    "start_time": "2022-11-17T13:13:23.647Z"
   },
   {
    "duration": 42,
    "start_time": "2022-11-17T13:13:23.692Z"
   },
   {
    "duration": 20,
    "start_time": "2022-11-17T13:13:23.736Z"
   },
   {
    "duration": 23,
    "start_time": "2022-11-17T13:13:23.758Z"
   },
   {
    "duration": 58,
    "start_time": "2022-11-17T13:13:23.783Z"
   },
   {
    "duration": 16,
    "start_time": "2022-11-17T13:13:23.844Z"
   },
   {
    "duration": 37,
    "start_time": "2022-11-17T13:13:23.862Z"
   },
   {
    "duration": 12,
    "start_time": "2022-11-17T13:13:23.901Z"
   },
   {
    "duration": 341,
    "start_time": "2022-11-17T13:13:23.915Z"
   },
   {
    "duration": 11,
    "start_time": "2022-11-17T13:13:24.258Z"
   },
   {
    "duration": 872,
    "start_time": "2022-11-17T13:13:24.271Z"
   },
   {
    "duration": 5,
    "start_time": "2022-11-17T13:13:25.145Z"
   },
   {
    "duration": 414,
    "start_time": "2022-11-17T13:13:25.152Z"
   },
   {
    "duration": 3,
    "start_time": "2022-11-17T13:13:25.568Z"
   },
   {
    "duration": 17,
    "start_time": "2022-11-17T13:13:25.573Z"
   },
   {
    "duration": 14,
    "start_time": "2022-11-17T13:13:25.592Z"
   },
   {
    "duration": 20,
    "start_time": "2022-11-17T13:13:25.607Z"
   },
   {
    "duration": 21,
    "start_time": "2022-11-17T13:13:25.629Z"
   },
   {
    "duration": 66,
    "start_time": "2022-11-17T13:13:25.651Z"
   },
   {
    "duration": 186,
    "start_time": "2022-11-17T13:13:25.719Z"
   },
   {
    "duration": 28,
    "start_time": "2022-11-17T13:13:25.908Z"
   },
   {
    "duration": 40,
    "start_time": "2022-11-17T13:13:25.938Z"
   },
   {
    "duration": 260,
    "start_time": "2022-11-17T13:13:25.980Z"
   },
   {
    "duration": 9,
    "start_time": "2022-11-17T13:13:26.243Z"
   },
   {
    "duration": 26,
    "start_time": "2022-11-17T13:13:26.254Z"
   },
   {
    "duration": 16,
    "start_time": "2022-11-17T13:13:26.283Z"
   },
   {
    "duration": 20,
    "start_time": "2022-11-17T13:13:26.301Z"
   },
   {
    "duration": 27,
    "start_time": "2022-11-17T13:13:26.323Z"
   },
   {
    "duration": 35,
    "start_time": "2022-11-17T13:13:26.351Z"
   },
   {
    "duration": 31,
    "start_time": "2022-11-17T13:13:26.388Z"
   },
   {
    "duration": 10,
    "start_time": "2022-11-17T13:13:26.421Z"
   },
   {
    "duration": 9,
    "start_time": "2022-11-17T13:13:26.432Z"
   },
   {
    "duration": 8,
    "start_time": "2022-11-17T13:13:26.442Z"
   },
   {
    "duration": 170,
    "start_time": "2022-11-17T13:13:26.451Z"
   },
   {
    "duration": 195,
    "start_time": "2022-11-17T13:22:51.056Z"
   },
   {
    "duration": 20,
    "start_time": "2022-11-17T13:35:01.251Z"
   },
   {
    "duration": 10,
    "start_time": "2022-11-17T13:35:21.553Z"
   },
   {
    "duration": 18,
    "start_time": "2022-11-17T13:37:27.234Z"
   },
   {
    "duration": 25,
    "start_time": "2022-11-17T13:37:33.745Z"
   },
   {
    "duration": 16,
    "start_time": "2022-11-17T13:37:35.757Z"
   },
   {
    "duration": 10,
    "start_time": "2022-11-17T14:59:34.435Z"
   },
   {
    "duration": 15,
    "start_time": "2022-11-17T15:07:08.210Z"
   },
   {
    "duration": 4,
    "start_time": "2022-11-17T15:08:30.206Z"
   },
   {
    "duration": 29,
    "start_time": "2022-11-17T15:08:50.225Z"
   },
   {
    "duration": 15,
    "start_time": "2022-11-17T15:09:04.375Z"
   },
   {
    "duration": 77,
    "start_time": "2022-11-17T15:11:16.018Z"
   },
   {
    "duration": 71,
    "start_time": "2022-11-17T15:11:21.699Z"
   },
   {
    "duration": 69,
    "start_time": "2022-11-17T15:11:44.850Z"
   },
   {
    "duration": 589,
    "start_time": "2022-11-17T15:12:07.196Z"
   },
   {
    "duration": 11,
    "start_time": "2022-11-17T15:22:52.363Z"
   },
   {
    "duration": 22,
    "start_time": "2022-11-17T15:23:08.691Z"
   },
   {
    "duration": 5,
    "start_time": "2022-11-17T15:32:24.432Z"
   },
   {
    "duration": 13,
    "start_time": "2022-11-17T15:36:49.720Z"
   },
   {
    "duration": 21,
    "start_time": "2022-11-17T15:37:04.114Z"
   },
   {
    "duration": 36,
    "start_time": "2022-11-17T15:38:45.009Z"
   },
   {
    "duration": 34,
    "start_time": "2022-11-17T15:38:56.618Z"
   },
   {
    "duration": 52,
    "start_time": "2022-11-17T15:39:33.934Z"
   },
   {
    "duration": 9,
    "start_time": "2022-11-17T15:43:41.572Z"
   },
   {
    "duration": 5,
    "start_time": "2022-11-17T15:43:50.617Z"
   },
   {
    "duration": 32,
    "start_time": "2022-11-17T15:43:51.185Z"
   },
   {
    "duration": 31,
    "start_time": "2022-11-17T15:44:22.309Z"
   },
   {
    "duration": 10,
    "start_time": "2022-11-17T16:44:35.995Z"
   },
   {
    "duration": 23,
    "start_time": "2022-11-17T16:44:42.916Z"
   },
   {
    "duration": 14,
    "start_time": "2022-11-17T16:46:47.150Z"
   },
   {
    "duration": 31,
    "start_time": "2022-11-17T16:47:16.994Z"
   },
   {
    "duration": 25,
    "start_time": "2022-11-17T16:48:27.625Z"
   },
   {
    "duration": 564,
    "start_time": "2022-11-17T17:01:31.734Z"
   },
   {
    "duration": 588,
    "start_time": "2022-11-17T17:01:37.790Z"
   },
   {
    "duration": 14,
    "start_time": "2022-11-17T17:04:36.520Z"
   },
   {
    "duration": 557,
    "start_time": "2022-11-17T17:07:06.021Z"
   },
   {
    "duration": 149358,
    "start_time": "2022-11-17T17:32:49.114Z"
   },
   {
    "duration": 932,
    "start_time": "2022-11-17T17:38:14.616Z"
   },
   {
    "duration": 578,
    "start_time": "2022-11-17T17:39:06.715Z"
   },
   {
    "duration": 74,
    "start_time": "2022-11-17T17:39:12.913Z"
   },
   {
    "duration": 578,
    "start_time": "2022-11-17T17:39:16.334Z"
   },
   {
    "duration": 624,
    "start_time": "2022-11-17T17:39:23.642Z"
   },
   {
    "duration": 559,
    "start_time": "2022-11-17T17:39:28.729Z"
   },
   {
    "duration": 640,
    "start_time": "2022-11-17T17:39:32.005Z"
   },
   {
    "duration": 648,
    "start_time": "2022-11-17T17:39:34.602Z"
   },
   {
    "duration": 596,
    "start_time": "2022-11-17T17:39:41.042Z"
   },
   {
    "duration": 563,
    "start_time": "2022-11-17T17:39:46.436Z"
   },
   {
    "duration": 594,
    "start_time": "2022-11-17T17:40:00.849Z"
   },
   {
    "duration": 1360,
    "start_time": "2022-11-18T08:16:12.814Z"
   },
   {
    "duration": 407,
    "start_time": "2022-11-18T08:16:14.177Z"
   },
   {
    "duration": 12,
    "start_time": "2022-11-18T08:16:14.586Z"
   },
   {
    "duration": 9,
    "start_time": "2022-11-18T08:16:14.910Z"
   },
   {
    "duration": 20,
    "start_time": "2022-11-18T08:16:15.282Z"
   },
   {
    "duration": 36,
    "start_time": "2022-11-18T08:16:15.646Z"
   },
   {
    "duration": 18,
    "start_time": "2022-11-18T08:16:17.320Z"
   },
   {
    "duration": 3,
    "start_time": "2022-11-18T08:16:17.559Z"
   },
   {
    "duration": 42,
    "start_time": "2022-11-18T08:16:17.792Z"
   },
   {
    "duration": 16,
    "start_time": "2022-11-18T08:16:18.007Z"
   },
   {
    "duration": 40,
    "start_time": "2022-11-18T08:16:19.644Z"
   },
   {
    "duration": 12,
    "start_time": "2022-11-18T08:16:19.917Z"
   },
   {
    "duration": 266,
    "start_time": "2022-11-18T08:16:20.996Z"
   },
   {
    "duration": 16,
    "start_time": "2022-11-18T08:16:21.264Z"
   },
   {
    "duration": 825,
    "start_time": "2022-11-18T08:16:25.017Z"
   },
   {
    "duration": 5,
    "start_time": "2022-11-18T08:16:25.844Z"
   },
   {
    "duration": 393,
    "start_time": "2022-11-18T08:16:26.544Z"
   },
   {
    "duration": 3,
    "start_time": "2022-11-18T08:16:28.502Z"
   },
   {
    "duration": 16,
    "start_time": "2022-11-18T08:16:29.192Z"
   },
   {
    "duration": 16,
    "start_time": "2022-11-18T08:16:29.972Z"
   },
   {
    "duration": 15,
    "start_time": "2022-11-18T08:16:31.636Z"
   },
   {
    "duration": 19,
    "start_time": "2022-11-18T08:16:32.177Z"
   },
   {
    "duration": 20,
    "start_time": "2022-11-18T08:16:33.421Z"
   },
   {
    "duration": 18,
    "start_time": "2022-11-18T08:16:34.380Z"
   },
   {
    "duration": 28,
    "start_time": "2022-11-18T08:16:35.714Z"
   },
   {
    "duration": 176,
    "start_time": "2022-11-18T09:14:39.437Z"
   },
   {
    "duration": 4,
    "start_time": "2022-11-18T20:09:12.719Z"
   },
   {
    "duration": 6,
    "start_time": "2022-11-18T20:09:34.069Z"
   },
   {
    "duration": 8,
    "start_time": "2022-11-18T20:51:35.872Z"
   },
   {
    "duration": 99,
    "start_time": "2022-11-18T20:51:41.500Z"
   },
   {
    "duration": 13,
    "start_time": "2022-11-18T20:51:45.582Z"
   },
   {
    "duration": 8,
    "start_time": "2022-11-18T20:52:26.587Z"
   },
   {
    "duration": 1237,
    "start_time": "2022-11-21T14:47:24.137Z"
   },
   {
    "duration": 384,
    "start_time": "2022-11-21T14:47:25.376Z"
   },
   {
    "duration": 13,
    "start_time": "2022-11-21T14:47:25.762Z"
   },
   {
    "duration": 102,
    "start_time": "2022-11-21T14:47:39.175Z"
   },
   {
    "duration": 7,
    "start_time": "2022-11-21T14:47:58.616Z"
   },
   {
    "duration": 3008,
    "start_time": "2022-11-21T14:48:52.055Z"
   },
   {
    "duration": 39,
    "start_time": "2022-11-21T14:49:15.371Z"
   },
   {
    "duration": 50,
    "start_time": "2022-11-21T14:50:28.983Z"
   },
   {
    "duration": 1271,
    "start_time": "2022-11-21T14:50:50.560Z"
   },
   {
    "duration": 11,
    "start_time": "2022-11-21T14:53:24.240Z"
   },
   {
    "duration": 9,
    "start_time": "2022-11-21T14:53:46.855Z"
   },
   {
    "duration": 6,
    "start_time": "2022-11-21T14:54:01.807Z"
   },
   {
    "duration": 220,
    "start_time": "2022-11-21T14:54:02.649Z"
   },
   {
    "duration": 12,
    "start_time": "2022-11-21T14:54:03.065Z"
   },
   {
    "duration": 9,
    "start_time": "2022-11-21T14:54:03.910Z"
   },
   {
    "duration": 19,
    "start_time": "2022-11-21T14:54:04.306Z"
   },
   {
    "duration": 35,
    "start_time": "2022-11-21T14:54:04.700Z"
   },
   {
    "duration": 7,
    "start_time": "2022-11-21T14:54:11.406Z"
   },
   {
    "duration": 18,
    "start_time": "2022-11-21T14:57:55.626Z"
   },
   {
    "duration": 2218,
    "start_time": "2022-11-21T15:03:12.758Z"
   },
   {
    "duration": 93,
    "start_time": "2022-11-21T15:03:15.911Z"
   },
   {
    "duration": 49,
    "start_time": "2022-11-21T15:03:51.427Z"
   },
   {
    "duration": 1109,
    "start_time": "2022-11-21T15:04:01.273Z"
   },
   {
    "duration": 386,
    "start_time": "2022-11-21T15:04:02.384Z"
   },
   {
    "duration": 12,
    "start_time": "2022-11-21T15:04:02.771Z"
   },
   {
    "duration": 9,
    "start_time": "2022-11-21T15:04:03.055Z"
   },
   {
    "duration": 17,
    "start_time": "2022-11-21T15:04:03.385Z"
   },
   {
    "duration": 35,
    "start_time": "2022-11-21T15:04:03.907Z"
   },
   {
    "duration": 2152,
    "start_time": "2022-11-21T15:04:18.450Z"
   },
   {
    "duration": 78,
    "start_time": "2022-11-21T15:04:20.605Z"
   },
   {
    "duration": 50,
    "start_time": "2022-11-21T15:40:05.203Z"
   },
   {
    "duration": 1115,
    "start_time": "2022-11-21T15:40:15.184Z"
   },
   {
    "duration": 434,
    "start_time": "2022-11-21T15:40:16.301Z"
   },
   {
    "duration": 11,
    "start_time": "2022-11-21T15:40:16.737Z"
   },
   {
    "duration": 9,
    "start_time": "2022-11-21T15:40:16.876Z"
   },
   {
    "duration": 10,
    "start_time": "2022-11-21T15:40:23.073Z"
   },
   {
    "duration": 16,
    "start_time": "2022-11-21T15:41:02.176Z"
   },
   {
    "duration": 21,
    "start_time": "2022-11-21T15:43:34.222Z"
   },
   {
    "duration": 813,
    "start_time": "2022-11-21T15:44:03.209Z"
   },
   {
    "duration": 13,
    "start_time": "2022-11-21T15:44:07.144Z"
   },
   {
    "duration": 8,
    "start_time": "2022-11-21T15:44:13.738Z"
   },
   {
    "duration": 4,
    "start_time": "2022-11-21T18:49:45.378Z"
   },
   {
    "duration": 279,
    "start_time": "2022-11-21T18:49:45.386Z"
   },
   {
    "duration": 8,
    "start_time": "2022-11-21T18:49:45.667Z"
   },
   {
    "duration": 11,
    "start_time": "2022-11-21T18:49:45.676Z"
   },
   {
    "duration": 31,
    "start_time": "2022-11-21T18:49:45.689Z"
   },
   {
    "duration": 31,
    "start_time": "2022-11-21T18:49:45.721Z"
   },
   {
    "duration": 17,
    "start_time": "2022-11-21T18:49:45.754Z"
   },
   {
    "duration": 5,
    "start_time": "2022-11-21T18:49:45.772Z"
   },
   {
    "duration": 61,
    "start_time": "2022-11-21T18:49:45.778Z"
   },
   {
    "duration": 15,
    "start_time": "2022-11-21T18:49:45.841Z"
   },
   {
    "duration": 34,
    "start_time": "2022-11-21T18:49:45.858Z"
   },
   {
    "duration": 13,
    "start_time": "2022-11-21T18:49:45.911Z"
   },
   {
    "duration": 249,
    "start_time": "2022-11-21T18:49:45.926Z"
   },
   {
    "duration": 9,
    "start_time": "2022-11-21T18:49:46.177Z"
   },
   {
    "duration": 873,
    "start_time": "2022-11-21T18:49:46.187Z"
   },
   {
    "duration": 5,
    "start_time": "2022-11-21T18:49:47.061Z"
   },
   {
    "duration": 368,
    "start_time": "2022-11-21T18:49:47.067Z"
   },
   {
    "duration": 4,
    "start_time": "2022-11-21T18:49:47.436Z"
   },
   {
    "duration": 16,
    "start_time": "2022-11-21T18:49:47.442Z"
   },
   {
    "duration": 13,
    "start_time": "2022-11-21T18:49:47.460Z"
   },
   {
    "duration": 38,
    "start_time": "2022-11-21T18:49:47.475Z"
   },
   {
    "duration": 17,
    "start_time": "2022-11-21T18:49:47.515Z"
   },
   {
    "duration": 19,
    "start_time": "2022-11-21T18:49:47.534Z"
   },
   {
    "duration": 16,
    "start_time": "2022-11-21T18:49:47.554Z"
   },
   {
    "duration": 51,
    "start_time": "2022-11-21T18:49:47.572Z"
   },
   {
    "duration": 14,
    "start_time": "2022-11-21T18:49:47.624Z"
   },
   {
    "duration": 182,
    "start_time": "2022-11-21T18:49:47.639Z"
   },
   {
    "duration": 41,
    "start_time": "2022-11-21T18:49:47.822Z"
   },
   {
    "duration": 9,
    "start_time": "2022-11-21T18:49:47.914Z"
   },
   {
    "duration": 22,
    "start_time": "2022-11-21T18:49:47.925Z"
   },
   {
    "duration": 10,
    "start_time": "2022-11-21T18:49:47.949Z"
   },
   {
    "duration": 221,
    "start_time": "2022-11-21T18:49:47.961Z"
   },
   {
    "duration": 9,
    "start_time": "2022-11-21T18:49:48.183Z"
   },
   {
    "duration": 23,
    "start_time": "2022-11-21T18:49:48.193Z"
   },
   {
    "duration": 18,
    "start_time": "2022-11-21T18:49:48.218Z"
   },
   {
    "duration": 18,
    "start_time": "2022-11-21T18:49:48.237Z"
   },
   {
    "duration": 9,
    "start_time": "2022-11-21T18:49:48.256Z"
   },
   {
    "duration": 137,
    "start_time": "2022-11-21T18:49:48.267Z"
   },
   {
    "duration": 112,
    "start_time": "2022-11-21T18:51:01.453Z"
   },
   {
    "duration": 558,
    "start_time": "2022-11-21T18:51:07.379Z"
   },
   {
    "duration": 566,
    "start_time": "2022-11-21T18:54:12.947Z"
   },
   {
    "duration": 11,
    "start_time": "2022-11-21T18:54:25.066Z"
   },
   {
    "duration": 156,
    "start_time": "2022-11-21T18:54:49.487Z"
   },
   {
    "duration": 8,
    "start_time": "2022-11-21T18:57:04.898Z"
   },
   {
    "duration": 12,
    "start_time": "2022-11-21T18:57:29.068Z"
   },
   {
    "duration": 11,
    "start_time": "2022-11-21T18:57:46.523Z"
   },
   {
    "duration": 425,
    "start_time": "2022-11-21T19:09:52.399Z"
   },
   {
    "duration": 600,
    "start_time": "2022-11-21T19:10:46.367Z"
   },
   {
    "duration": 14,
    "start_time": "2022-11-21T20:39:28.488Z"
   },
   {
    "duration": 15,
    "start_time": "2022-11-21T20:39:40.622Z"
   },
   {
    "duration": 797,
    "start_time": "2022-11-21T20:40:43.212Z"
   },
   {
    "duration": 16,
    "start_time": "2022-11-21T20:40:50.472Z"
   },
   {
    "duration": 11,
    "start_time": "2022-11-21T20:41:36.674Z"
   },
   {
    "duration": 16,
    "start_time": "2022-11-21T20:45:43.729Z"
   },
   {
    "duration": 15,
    "start_time": "2022-11-21T20:48:18.606Z"
   },
   {
    "duration": 3279,
    "start_time": "2022-11-21T20:49:12.408Z"
   },
   {
    "duration": 10,
    "start_time": "2022-11-21T20:50:36.609Z"
   },
   {
    "duration": 5,
    "start_time": "2022-11-21T20:51:01.888Z"
   },
   {
    "duration": 11,
    "start_time": "2022-11-21T20:51:17.259Z"
   },
   {
    "duration": 15,
    "start_time": "2022-11-21T20:51:30.337Z"
   },
   {
    "duration": 9,
    "start_time": "2022-11-21T20:52:26.972Z"
   },
   {
    "duration": 3199,
    "start_time": "2022-11-21T20:52:58.415Z"
   },
   {
    "duration": 2136,
    "start_time": "2022-11-21T20:54:14.961Z"
   },
   {
    "duration": 98,
    "start_time": "2022-11-21T20:54:17.099Z"
   },
   {
    "duration": 1290,
    "start_time": "2022-11-22T12:57:35.847Z"
   },
   {
    "duration": 374,
    "start_time": "2022-11-22T12:57:37.140Z"
   },
   {
    "duration": 11,
    "start_time": "2022-11-22T12:57:37.827Z"
   },
   {
    "duration": 9,
    "start_time": "2022-11-22T12:57:41.197Z"
   },
   {
    "duration": 21,
    "start_time": "2022-11-22T12:57:57.346Z"
   },
   {
    "duration": 33,
    "start_time": "2022-11-22T12:58:26.188Z"
   },
   {
    "duration": 28,
    "start_time": "2022-11-22T13:08:27.091Z"
   },
   {
    "duration": 4,
    "start_time": "2022-11-22T13:08:27.807Z"
   },
   {
    "duration": 44,
    "start_time": "2022-11-22T13:08:28.466Z"
   },
   {
    "duration": 19,
    "start_time": "2022-11-22T13:08:35.275Z"
   },
   {
    "duration": 52,
    "start_time": "2022-11-22T13:09:01.108Z"
   },
   {
    "duration": 12,
    "start_time": "2022-11-22T13:09:18.901Z"
   },
   {
    "duration": 3,
    "start_time": "2022-11-22T13:16:53.393Z"
   },
   {
    "duration": 13,
    "start_time": "2022-11-22T13:17:00.765Z"
   },
   {
    "duration": 104,
    "start_time": "2022-11-22T13:18:38.056Z"
   },
   {
    "duration": 3,
    "start_time": "2022-11-22T13:20:39.820Z"
   },
   {
    "duration": 11,
    "start_time": "2022-11-22T13:20:44.772Z"
   },
   {
    "duration": 25,
    "start_time": "2022-11-22T13:20:53.946Z"
   },
   {
    "duration": 12,
    "start_time": "2022-11-22T13:20:56.644Z"
   },
   {
    "duration": 3,
    "start_time": "2022-11-22T13:25:04.668Z"
   },
   {
    "duration": 1173,
    "start_time": "2022-11-22T13:25:20.151Z"
   },
   {
    "duration": 316,
    "start_time": "2022-11-22T13:25:21.327Z"
   },
   {
    "duration": 13,
    "start_time": "2022-11-22T13:25:21.645Z"
   },
   {
    "duration": 21,
    "start_time": "2022-11-22T13:25:21.661Z"
   },
   {
    "duration": 47,
    "start_time": "2022-11-22T13:25:21.685Z"
   },
   {
    "duration": 51,
    "start_time": "2022-11-22T13:25:21.735Z"
   },
   {
    "duration": 18,
    "start_time": "2022-11-22T13:25:21.788Z"
   },
   {
    "duration": 19,
    "start_time": "2022-11-22T13:25:21.808Z"
   },
   {
    "duration": 57,
    "start_time": "2022-11-22T13:25:21.829Z"
   },
   {
    "duration": 18,
    "start_time": "2022-11-22T13:25:21.890Z"
   },
   {
    "duration": 53,
    "start_time": "2022-11-22T13:25:21.910Z"
   },
   {
    "duration": 18,
    "start_time": "2022-11-22T13:25:21.965Z"
   },
   {
    "duration": 19,
    "start_time": "2022-11-22T13:25:21.985Z"
   },
   {
    "duration": 400,
    "start_time": "2022-11-22T13:25:34.879Z"
   },
   {
    "duration": 3,
    "start_time": "2022-11-22T13:28:18.609Z"
   },
   {
    "duration": 12,
    "start_time": "2022-11-22T13:28:32.346Z"
   },
   {
    "duration": 3,
    "start_time": "2022-11-22T13:28:43.527Z"
   },
   {
    "duration": 10,
    "start_time": "2022-11-22T13:28:44.831Z"
   },
   {
    "duration": 1093,
    "start_time": "2022-11-22T13:36:04.953Z"
   },
   {
    "duration": 352,
    "start_time": "2022-11-22T13:36:06.049Z"
   },
   {
    "duration": 11,
    "start_time": "2022-11-22T13:36:06.403Z"
   },
   {
    "duration": 15,
    "start_time": "2022-11-22T13:36:06.417Z"
   },
   {
    "duration": 36,
    "start_time": "2022-11-22T13:36:06.434Z"
   },
   {
    "duration": 47,
    "start_time": "2022-11-22T13:36:06.472Z"
   },
   {
    "duration": 18,
    "start_time": "2022-11-22T13:36:06.521Z"
   },
   {
    "duration": 34,
    "start_time": "2022-11-22T13:36:06.541Z"
   },
   {
    "duration": 50,
    "start_time": "2022-11-22T13:36:06.577Z"
   },
   {
    "duration": 41,
    "start_time": "2022-11-22T13:36:06.629Z"
   },
   {
    "duration": 53,
    "start_time": "2022-11-22T13:36:06.671Z"
   },
   {
    "duration": 15,
    "start_time": "2022-11-22T13:36:06.727Z"
   },
   {
    "duration": 96,
    "start_time": "2022-11-22T13:36:21.990Z"
   },
   {
    "duration": 199,
    "start_time": "2022-11-22T13:36:31.370Z"
   },
   {
    "duration": 223,
    "start_time": "2022-11-22T13:36:45.327Z"
   },
   {
    "duration": 3,
    "start_time": "2022-11-22T13:38:53.804Z"
   },
   {
    "duration": 47,
    "start_time": "2022-11-22T13:39:03.478Z"
   },
   {
    "duration": 2,
    "start_time": "2022-11-22T13:39:11.405Z"
   },
   {
    "duration": 11,
    "start_time": "2022-11-22T13:39:14.211Z"
   },
   {
    "duration": 15,
    "start_time": "2022-11-22T13:39:49.534Z"
   },
   {
    "duration": 12,
    "start_time": "2022-11-22T13:39:55.460Z"
   },
   {
    "duration": 5,
    "start_time": "2022-11-22T13:40:32.401Z"
   },
   {
    "duration": 3,
    "start_time": "2022-11-22T13:40:51.599Z"
   },
   {
    "duration": 14,
    "start_time": "2022-11-22T13:40:53.280Z"
   },
   {
    "duration": 14,
    "start_time": "2022-11-22T13:40:54.875Z"
   },
   {
    "duration": 4,
    "start_time": "2022-11-22T13:41:30.704Z"
   },
   {
    "duration": 4,
    "start_time": "2022-11-22T13:41:38.591Z"
   },
   {
    "duration": 19,
    "start_time": "2022-11-22T13:41:39.108Z"
   },
   {
    "duration": 13,
    "start_time": "2022-11-22T13:41:43.434Z"
   },
   {
    "duration": 3,
    "start_time": "2022-11-22T13:43:06.239Z"
   },
   {
    "duration": 16,
    "start_time": "2022-11-22T13:43:06.625Z"
   },
   {
    "duration": 12,
    "start_time": "2022-11-22T13:43:06.953Z"
   },
   {
    "duration": 47,
    "start_time": "2022-11-22T13:46:34.043Z"
   },
   {
    "duration": 723,
    "start_time": "2022-11-22T13:46:45.237Z"
   },
   {
    "duration": 5,
    "start_time": "2022-11-22T13:46:57.595Z"
   },
   {
    "duration": 13,
    "start_time": "2022-11-22T13:47:11.052Z"
   },
   {
    "duration": 456,
    "start_time": "2022-11-22T13:47:19.082Z"
   },
   {
    "duration": 4,
    "start_time": "2022-11-22T13:47:33.605Z"
   },
   {
    "duration": 15,
    "start_time": "2022-11-22T13:47:37.988Z"
   },
   {
    "duration": 15,
    "start_time": "2022-11-22T13:47:50.216Z"
   },
   {
    "duration": 14,
    "start_time": "2022-11-22T13:48:03.909Z"
   },
   {
    "duration": 16,
    "start_time": "2022-11-22T13:49:22.203Z"
   },
   {
    "duration": 19,
    "start_time": "2022-11-22T13:49:49.499Z"
   },
   {
    "duration": 12,
    "start_time": "2022-11-22T13:52:26.558Z"
   },
   {
    "duration": 20,
    "start_time": "2022-11-22T13:52:35.078Z"
   },
   {
    "duration": 8,
    "start_time": "2022-11-22T13:52:42.155Z"
   },
   {
    "duration": 20,
    "start_time": "2022-11-22T13:55:19.754Z"
   },
   {
    "duration": 24,
    "start_time": "2022-11-22T13:56:51.935Z"
   },
   {
    "duration": 7,
    "start_time": "2022-11-22T13:58:06.986Z"
   },
   {
    "duration": 4,
    "start_time": "2022-11-22T13:58:15.033Z"
   },
   {
    "duration": 14,
    "start_time": "2022-11-22T13:58:42.337Z"
   },
   {
    "duration": 10,
    "start_time": "2022-11-22T14:00:11.072Z"
   },
   {
    "duration": 21,
    "start_time": "2022-11-22T14:01:04.238Z"
   },
   {
    "duration": 15,
    "start_time": "2022-11-22T14:12:18.108Z"
   },
   {
    "duration": 12,
    "start_time": "2022-11-22T14:16:34.141Z"
   },
   {
    "duration": 48,
    "start_time": "2022-11-22T14:16:54.074Z"
   },
   {
    "duration": 193,
    "start_time": "2022-11-22T14:17:43.107Z"
   },
   {
    "duration": 69,
    "start_time": "2022-11-22T14:23:29.846Z"
   },
   {
    "duration": 4,
    "start_time": "2022-11-22T14:23:36.906Z"
   },
   {
    "duration": 21,
    "start_time": "2022-11-22T14:42:01.422Z"
   },
   {
    "duration": 1031,
    "start_time": "2022-11-22T14:42:11.276Z"
   },
   {
    "duration": 351,
    "start_time": "2022-11-22T14:42:12.309Z"
   },
   {
    "duration": 10,
    "start_time": "2022-11-22T14:42:12.662Z"
   },
   {
    "duration": 13,
    "start_time": "2022-11-22T14:42:12.675Z"
   },
   {
    "duration": 22,
    "start_time": "2022-11-22T14:42:12.690Z"
   },
   {
    "duration": 45,
    "start_time": "2022-11-22T14:42:12.713Z"
   },
   {
    "duration": 18,
    "start_time": "2022-11-22T14:42:12.760Z"
   },
   {
    "duration": 4,
    "start_time": "2022-11-22T14:42:12.780Z"
   },
   {
    "duration": 41,
    "start_time": "2022-11-22T14:42:12.786Z"
   },
   {
    "duration": 18,
    "start_time": "2022-11-22T14:42:12.855Z"
   },
   {
    "duration": 53,
    "start_time": "2022-11-22T14:42:12.875Z"
   },
   {
    "duration": 13,
    "start_time": "2022-11-22T14:42:12.929Z"
   },
   {
    "duration": 11,
    "start_time": "2022-11-22T14:42:12.945Z"
   },
   {
    "duration": 30,
    "start_time": "2022-11-22T14:42:12.958Z"
   },
   {
    "duration": 13,
    "start_time": "2022-11-22T14:42:12.990Z"
   },
   {
    "duration": 841,
    "start_time": "2022-11-22T14:42:13.005Z"
   },
   {
    "duration": 9,
    "start_time": "2022-11-22T14:42:13.848Z"
   },
   {
    "duration": 502,
    "start_time": "2022-11-22T14:42:13.858Z"
   },
   {
    "duration": 4,
    "start_time": "2022-11-22T14:42:14.361Z"
   },
   {
    "duration": 35,
    "start_time": "2022-11-22T14:42:14.367Z"
   },
   {
    "duration": 41,
    "start_time": "2022-11-22T14:42:14.404Z"
   },
   {
    "duration": 66,
    "start_time": "2022-11-22T14:42:14.448Z"
   },
   {
    "duration": 41,
    "start_time": "2022-11-22T14:42:14.517Z"
   },
   {
    "duration": 26,
    "start_time": "2022-11-22T14:42:14.561Z"
   },
   {
    "duration": 53,
    "start_time": "2022-11-22T14:42:14.589Z"
   },
   {
    "duration": 75,
    "start_time": "2022-11-22T14:42:14.645Z"
   },
   {
    "duration": 178,
    "start_time": "2022-11-22T14:42:14.723Z"
   },
   {
    "duration": 276,
    "start_time": "2022-11-22T14:42:14.906Z"
   },
   {
    "duration": 21,
    "start_time": "2022-11-22T14:42:36.632Z"
   },
   {
    "duration": 10,
    "start_time": "2022-11-22T14:42:54.281Z"
   },
   {
    "duration": 14,
    "start_time": "2022-11-22T14:43:00.376Z"
   },
   {
    "duration": 30,
    "start_time": "2022-11-22T14:45:42.949Z"
   },
   {
    "duration": 178,
    "start_time": "2022-11-22T14:50:12.999Z"
   },
   {
    "duration": 176,
    "start_time": "2022-11-22T14:50:29.464Z"
   },
   {
    "duration": 247,
    "start_time": "2022-11-22T14:50:36.713Z"
   },
   {
    "duration": 237,
    "start_time": "2022-11-22T14:50:42.791Z"
   },
   {
    "duration": 235,
    "start_time": "2022-11-22T14:51:31.445Z"
   },
   {
    "duration": 25,
    "start_time": "2022-11-22T14:54:48.466Z"
   },
   {
    "duration": 22,
    "start_time": "2022-11-22T14:56:13.837Z"
   },
   {
    "duration": 31,
    "start_time": "2022-11-22T14:56:31.598Z"
   },
   {
    "duration": 27,
    "start_time": "2022-11-22T14:56:40.439Z"
   },
   {
    "duration": 27,
    "start_time": "2022-11-22T14:56:51.496Z"
   },
   {
    "duration": 22,
    "start_time": "2022-11-22T14:57:03.534Z"
   },
   {
    "duration": 91,
    "start_time": "2022-11-22T14:57:34.945Z"
   },
   {
    "duration": 22,
    "start_time": "2022-11-22T14:57:51.649Z"
   },
   {
    "duration": 52,
    "start_time": "2022-11-22T14:58:20.408Z"
   },
   {
    "duration": 48,
    "start_time": "2022-11-22T14:58:31.258Z"
   },
   {
    "duration": 109,
    "start_time": "2022-11-22T14:58:39.687Z"
   },
   {
    "duration": 46,
    "start_time": "2022-11-22T14:58:45.713Z"
   },
   {
    "duration": 21,
    "start_time": "2022-11-22T14:59:02.318Z"
   },
   {
    "duration": 9,
    "start_time": "2022-11-22T15:00:56.265Z"
   },
   {
    "duration": 15,
    "start_time": "2022-11-22T20:07:18.374Z"
   },
   {
    "duration": 62,
    "start_time": "2022-11-22T20:08:53.599Z"
   },
   {
    "duration": 47,
    "start_time": "2022-11-22T20:09:03.052Z"
   },
   {
    "duration": 16223,
    "start_time": "2022-11-22T20:09:22.102Z"
   },
   {
    "duration": 88,
    "start_time": "2022-11-22T20:21:17.812Z"
   },
   {
    "duration": 16609,
    "start_time": "2022-11-22T20:21:53.057Z"
   },
   {
    "duration": 11960,
    "start_time": "2022-11-22T20:23:02.370Z"
   },
   {
    "duration": 546,
    "start_time": "2022-11-22T20:43:45.957Z"
   },
   {
    "duration": 4,
    "start_time": "2022-11-22T20:47:14.659Z"
   },
   {
    "duration": 238,
    "start_time": "2022-11-22T20:47:14.721Z"
   },
   {
    "duration": 7,
    "start_time": "2022-11-22T20:47:14.983Z"
   },
   {
    "duration": 23,
    "start_time": "2022-11-22T20:47:15.003Z"
   },
   {
    "duration": 16,
    "start_time": "2022-11-22T20:47:15.083Z"
   },
   {
    "duration": 36,
    "start_time": "2022-11-22T20:47:15.130Z"
   },
   {
    "duration": 742,
    "start_time": "2022-11-22T20:47:15.205Z"
   },
   {
    "duration": 0,
    "start_time": "2022-11-22T20:47:15.953Z"
   },
   {
    "duration": 0,
    "start_time": "2022-11-22T20:47:15.958Z"
   },
   {
    "duration": 0,
    "start_time": "2022-11-22T20:47:15.962Z"
   },
   {
    "duration": 0,
    "start_time": "2022-11-22T20:47:15.966Z"
   },
   {
    "duration": 0,
    "start_time": "2022-11-22T20:47:15.970Z"
   },
   {
    "duration": 0,
    "start_time": "2022-11-22T20:47:15.975Z"
   },
   {
    "duration": 0,
    "start_time": "2022-11-22T20:47:15.978Z"
   },
   {
    "duration": 0,
    "start_time": "2022-11-22T20:47:15.983Z"
   },
   {
    "duration": 0,
    "start_time": "2022-11-22T20:47:15.989Z"
   },
   {
    "duration": 0,
    "start_time": "2022-11-22T20:47:15.994Z"
   },
   {
    "duration": 0,
    "start_time": "2022-11-22T20:47:16.060Z"
   },
   {
    "duration": 0,
    "start_time": "2022-11-22T20:47:16.065Z"
   },
   {
    "duration": 0,
    "start_time": "2022-11-22T20:47:16.070Z"
   },
   {
    "duration": 0,
    "start_time": "2022-11-22T20:47:16.074Z"
   },
   {
    "duration": 0,
    "start_time": "2022-11-22T20:47:16.078Z"
   },
   {
    "duration": 0,
    "start_time": "2022-11-22T20:47:16.082Z"
   },
   {
    "duration": 0,
    "start_time": "2022-11-22T20:47:16.086Z"
   },
   {
    "duration": 0,
    "start_time": "2022-11-22T20:47:16.090Z"
   },
   {
    "duration": 0,
    "start_time": "2022-11-22T20:47:16.094Z"
   },
   {
    "duration": 0,
    "start_time": "2022-11-22T20:47:16.159Z"
   },
   {
    "duration": 0,
    "start_time": "2022-11-22T20:47:16.163Z"
   },
   {
    "duration": 0,
    "start_time": "2022-11-22T20:47:16.164Z"
   },
   {
    "duration": 0,
    "start_time": "2022-11-22T20:47:16.167Z"
   },
   {
    "duration": 0,
    "start_time": "2022-11-22T20:47:16.169Z"
   },
   {
    "duration": 990,
    "start_time": "2022-11-22T20:47:41.201Z"
   },
   {
    "duration": 282,
    "start_time": "2022-11-22T20:47:42.193Z"
   },
   {
    "duration": 12,
    "start_time": "2022-11-22T20:47:43.212Z"
   },
   {
    "duration": 9,
    "start_time": "2022-11-22T20:47:44.313Z"
   },
   {
    "duration": 18,
    "start_time": "2022-11-22T20:47:44.720Z"
   },
   {
    "duration": 33,
    "start_time": "2022-11-22T20:47:45.544Z"
   },
   {
    "duration": 17,
    "start_time": "2022-11-22T20:47:47.472Z"
   },
   {
    "duration": 3,
    "start_time": "2022-11-22T20:47:50.028Z"
   },
   {
    "duration": 38,
    "start_time": "2022-11-22T20:47:51.050Z"
   },
   {
    "duration": 18,
    "start_time": "2022-11-22T20:47:51.590Z"
   },
   {
    "duration": 37,
    "start_time": "2022-11-22T20:47:53.041Z"
   },
   {
    "duration": 12,
    "start_time": "2022-11-22T20:47:53.518Z"
   },
   {
    "duration": 5,
    "start_time": "2022-11-22T20:47:54.487Z"
   },
   {
    "duration": 18,
    "start_time": "2022-11-22T20:47:55.000Z"
   },
   {
    "duration": 13,
    "start_time": "2022-11-22T20:47:55.474Z"
   },
   {
    "duration": 713,
    "start_time": "2022-11-22T20:47:57.277Z"
   },
   {
    "duration": 5,
    "start_time": "2022-11-22T20:47:58.116Z"
   },
   {
    "duration": 409,
    "start_time": "2022-11-22T20:47:59.986Z"
   },
   {
    "duration": 3,
    "start_time": "2022-11-22T20:48:01.142Z"
   },
   {
    "duration": 13,
    "start_time": "2022-11-22T20:48:01.848Z"
   },
   {
    "duration": 15,
    "start_time": "2022-11-22T20:48:02.474Z"
   },
   {
    "duration": 218,
    "start_time": "2022-11-22T20:48:02.986Z"
   },
   {
    "duration": 23,
    "start_time": "2022-11-22T20:48:03.579Z"
   },
   {
    "duration": 20,
    "start_time": "2022-11-22T20:48:05.209Z"
   },
   {
    "duration": 16,
    "start_time": "2022-11-22T20:48:05.630Z"
   },
   {
    "duration": 9,
    "start_time": "2022-11-22T20:48:06.686Z"
   },
   {
    "duration": 24,
    "start_time": "2022-11-22T20:48:06.939Z"
   },
   {
    "duration": 41,
    "start_time": "2022-11-22T20:48:08.688Z"
   },
   {
    "duration": 136,
    "start_time": "2022-11-22T20:48:09.416Z"
   },
   {
    "duration": 22,
    "start_time": "2022-11-22T20:48:14.407Z"
   },
   {
    "duration": 10,
    "start_time": "2022-11-22T20:48:15.374Z"
   },
   {
    "duration": 560,
    "start_time": "2022-11-22T20:48:20.704Z"
   },
   {
    "duration": 136389,
    "start_time": "2022-11-22T20:48:22.154Z"
   },
   {
    "duration": 520,
    "start_time": "2022-11-22T20:50:38.545Z"
   },
   {
    "duration": 739,
    "start_time": "2022-11-22T21:08:24.521Z"
   },
   {
    "duration": 587,
    "start_time": "2022-11-22T21:12:10.456Z"
   },
   {
    "duration": 12687,
    "start_time": "2022-11-22T21:13:36.107Z"
   },
   {
    "duration": 563,
    "start_time": "2022-11-22T21:14:32.543Z"
   },
   {
    "duration": 4,
    "start_time": "2022-11-22T22:04:10.058Z"
   },
   {
    "duration": 12,
    "start_time": "2022-11-22T22:04:26.964Z"
   },
   {
    "duration": 23,
    "start_time": "2022-11-22T22:04:50.907Z"
   },
   {
    "duration": 5,
    "start_time": "2022-11-22T22:06:22.847Z"
   },
   {
    "duration": 27,
    "start_time": "2022-11-22T22:06:23.517Z"
   },
   {
    "duration": 24,
    "start_time": "2022-11-22T22:06:30.436Z"
   },
   {
    "duration": 26,
    "start_time": "2022-11-22T22:06:48.733Z"
   },
   {
    "duration": 5,
    "start_time": "2022-11-22T22:06:58.123Z"
   },
   {
    "duration": 32,
    "start_time": "2022-11-22T22:07:49.943Z"
   },
   {
    "duration": 14,
    "start_time": "2022-11-22T22:42:04.196Z"
   },
   {
    "duration": 11,
    "start_time": "2022-11-22T22:43:33.494Z"
   },
   {
    "duration": 10,
    "start_time": "2022-11-22T22:43:54.036Z"
   },
   {
    "duration": 13,
    "start_time": "2022-11-22T22:45:20.539Z"
   },
   {
    "duration": 19,
    "start_time": "2022-11-22T22:45:28.332Z"
   },
   {
    "duration": 13,
    "start_time": "2022-11-22T22:45:59.498Z"
   },
   {
    "duration": 12,
    "start_time": "2022-11-22T22:46:11.152Z"
   },
   {
    "duration": 3,
    "start_time": "2022-11-22T22:46:31.181Z"
   },
   {
    "duration": 34,
    "start_time": "2022-11-22T22:49:22.665Z"
   },
   {
    "duration": 11,
    "start_time": "2022-11-22T22:50:56.207Z"
   },
   {
    "duration": 11,
    "start_time": "2022-11-22T22:54:50.809Z"
   },
   {
    "duration": 7,
    "start_time": "2022-11-22T22:55:08.925Z"
   },
   {
    "duration": 776,
    "start_time": "2022-11-22T22:56:48.549Z"
   },
   {
    "duration": 767,
    "start_time": "2022-11-22T22:58:53.532Z"
   },
   {
    "duration": 34,
    "start_time": "2022-11-22T23:03:12.137Z"
   },
   {
    "duration": 575,
    "start_time": "2022-11-22T23:03:56.360Z"
   },
   {
    "duration": 20,
    "start_time": "2022-11-22T23:05:21.571Z"
   },
   {
    "duration": 22,
    "start_time": "2022-11-22T23:05:39.781Z"
   },
   {
    "duration": 734,
    "start_time": "2022-11-22T23:09:07.341Z"
   },
   {
    "duration": 11,
    "start_time": "2022-11-22T23:31:51.484Z"
   },
   {
    "duration": 14,
    "start_time": "2022-11-22T23:33:23.217Z"
   },
   {
    "duration": 35,
    "start_time": "2022-11-22T23:35:14.287Z"
   },
   {
    "duration": 1225,
    "start_time": "2022-11-23T11:53:04.639Z"
   },
   {
    "duration": 426,
    "start_time": "2022-11-23T11:53:05.867Z"
   },
   {
    "duration": 10,
    "start_time": "2022-11-23T11:53:06.295Z"
   },
   {
    "duration": 8,
    "start_time": "2022-11-23T11:53:06.307Z"
   },
   {
    "duration": 41,
    "start_time": "2022-11-23T11:53:06.317Z"
   },
   {
    "duration": 41,
    "start_time": "2022-11-23T11:53:06.360Z"
   },
   {
    "duration": 16,
    "start_time": "2022-11-23T11:53:06.403Z"
   },
   {
    "duration": 4,
    "start_time": "2022-11-23T11:53:06.421Z"
   },
   {
    "duration": 65,
    "start_time": "2022-11-23T11:53:06.427Z"
   },
   {
    "duration": 14,
    "start_time": "2022-11-23T11:53:06.495Z"
   },
   {
    "duration": 43,
    "start_time": "2022-11-23T11:53:06.511Z"
   },
   {
    "duration": 14,
    "start_time": "2022-11-23T11:53:06.556Z"
   },
   {
    "duration": 3,
    "start_time": "2022-11-23T11:53:06.572Z"
   },
   {
    "duration": 18,
    "start_time": "2022-11-23T11:53:06.576Z"
   },
   {
    "duration": 9,
    "start_time": "2022-11-23T11:53:06.596Z"
   },
   {
    "duration": 822,
    "start_time": "2022-11-23T11:53:06.607Z"
   },
   {
    "duration": 4,
    "start_time": "2022-11-23T11:53:07.431Z"
   },
   {
    "duration": 451,
    "start_time": "2022-11-23T11:53:07.437Z"
   },
   {
    "duration": 3,
    "start_time": "2022-11-23T11:53:07.890Z"
   },
   {
    "duration": 18,
    "start_time": "2022-11-23T11:53:07.895Z"
   },
   {
    "duration": 13,
    "start_time": "2022-11-23T11:53:07.915Z"
   },
   {
    "duration": 227,
    "start_time": "2022-11-23T11:53:07.952Z"
   },
   {
    "duration": 20,
    "start_time": "2022-11-23T11:53:08.180Z"
   },
   {
    "duration": 18,
    "start_time": "2022-11-23T11:53:08.201Z"
   },
   {
    "duration": 36,
    "start_time": "2022-11-23T11:53:08.221Z"
   },
   {
    "duration": 10,
    "start_time": "2022-11-23T11:53:08.259Z"
   },
   {
    "duration": 20,
    "start_time": "2022-11-23T11:53:08.271Z"
   },
   {
    "duration": 59,
    "start_time": "2022-11-23T11:53:08.294Z"
   },
   {
    "duration": 165,
    "start_time": "2022-11-23T11:53:08.355Z"
   },
   {
    "duration": 567,
    "start_time": "2022-11-23T11:53:08.522Z"
   },
   {
    "duration": 5,
    "start_time": "2022-11-23T11:53:09.090Z"
   },
   {
    "duration": 24,
    "start_time": "2022-11-23T11:53:09.096Z"
   },
   {
    "duration": 39,
    "start_time": "2022-11-23T11:53:09.122Z"
   },
   {
    "duration": 29,
    "start_time": "2022-11-23T11:53:09.163Z"
   },
   {
    "duration": 5,
    "start_time": "2022-11-23T11:53:09.194Z"
   },
   {
    "duration": 51,
    "start_time": "2022-11-23T11:53:09.201Z"
   },
   {
    "duration": 26,
    "start_time": "2022-11-23T11:53:09.254Z"
   },
   {
    "duration": 29,
    "start_time": "2022-11-23T11:53:09.281Z"
   },
   {
    "duration": 6,
    "start_time": "2022-11-23T11:53:09.312Z"
   },
   {
    "duration": 815,
    "start_time": "2022-11-23T11:53:09.319Z"
   },
   {
    "duration": 492,
    "start_time": "2022-11-23T11:53:10.136Z"
   },
   {
    "duration": 541,
    "start_time": "2022-11-23T11:53:10.630Z"
   },
   {
    "duration": 29,
    "start_time": "2022-11-23T11:53:11.173Z"
   },
   {
    "duration": 12,
    "start_time": "2022-11-23T11:53:11.204Z"
   },
   {
    "duration": 11,
    "start_time": "2022-11-23T11:53:11.217Z"
   },
   {
    "duration": 119,
    "start_time": "2022-11-23T11:53:11.230Z"
   },
   {
    "duration": 0,
    "start_time": "2022-11-23T11:53:11.352Z"
   },
   {
    "duration": 0,
    "start_time": "2022-11-23T11:53:11.354Z"
   },
   {
    "duration": 1153,
    "start_time": "2022-11-23T14:53:36.972Z"
   },
   {
    "duration": 435,
    "start_time": "2022-11-23T14:53:38.127Z"
   },
   {
    "duration": 10,
    "start_time": "2022-11-23T14:53:38.564Z"
   },
   {
    "duration": 9,
    "start_time": "2022-11-23T14:53:39.477Z"
   },
   {
    "duration": 22,
    "start_time": "2022-11-23T14:53:39.952Z"
   },
   {
    "duration": 32,
    "start_time": "2022-11-23T14:53:40.224Z"
   },
   {
    "duration": 17,
    "start_time": "2022-11-23T14:53:41.165Z"
   },
   {
    "duration": 3,
    "start_time": "2022-11-23T14:53:41.247Z"
   },
   {
    "duration": 47,
    "start_time": "2022-11-23T14:53:41.323Z"
   },
   {
    "duration": 19,
    "start_time": "2022-11-23T14:53:41.406Z"
   },
   {
    "duration": 36,
    "start_time": "2022-11-23T14:53:41.545Z"
   },
   {
    "duration": 10,
    "start_time": "2022-11-23T14:53:41.623Z"
   },
   {
    "duration": 3,
    "start_time": "2022-11-23T14:53:41.758Z"
   },
   {
    "duration": 18,
    "start_time": "2022-11-23T14:53:41.831Z"
   },
   {
    "duration": 10,
    "start_time": "2022-11-23T14:53:41.932Z"
   },
   {
    "duration": 785,
    "start_time": "2022-11-23T14:53:43.184Z"
   },
   {
    "duration": 5,
    "start_time": "2022-11-23T14:53:43.970Z"
   },
   {
    "duration": 459,
    "start_time": "2022-11-23T14:53:45.137Z"
   },
   {
    "duration": 3,
    "start_time": "2022-11-23T14:53:46.927Z"
   },
   {
    "duration": 15,
    "start_time": "2022-11-23T14:53:48.076Z"
   },
   {
    "duration": 15,
    "start_time": "2022-11-23T14:53:48.526Z"
   },
   {
    "duration": 237,
    "start_time": "2022-11-23T14:53:48.799Z"
   },
   {
    "duration": 25,
    "start_time": "2022-11-23T14:53:49.067Z"
   },
   {
    "duration": 18,
    "start_time": "2022-11-23T14:53:49.903Z"
   },
   {
    "duration": 17,
    "start_time": "2022-11-23T14:53:50.199Z"
   },
   {
    "duration": 10,
    "start_time": "2022-11-23T14:53:50.448Z"
   },
   {
    "duration": 21,
    "start_time": "2022-11-23T14:53:50.663Z"
   },
   {
    "duration": 47,
    "start_time": "2022-11-23T14:53:51.628Z"
   },
   {
    "duration": 162,
    "start_time": "2022-11-23T14:53:51.898Z"
   },
   {
    "duration": 514,
    "start_time": "2022-11-23T14:53:52.867Z"
   },
   {
    "duration": 4,
    "start_time": "2022-11-23T14:53:53.705Z"
   },
   {
    "duration": 32,
    "start_time": "2022-11-23T14:53:54.257Z"
   },
   {
    "duration": 23,
    "start_time": "2022-11-23T14:53:58.676Z"
   },
   {
    "duration": 24,
    "start_time": "2022-11-23T14:54:00.600Z"
   },
   {
    "duration": 5,
    "start_time": "2022-11-23T14:54:01.388Z"
   },
   {
    "duration": 32,
    "start_time": "2022-11-23T14:54:02.548Z"
   },
   {
    "duration": 22,
    "start_time": "2022-11-23T14:54:04.052Z"
   },
   {
    "duration": 33,
    "start_time": "2022-11-23T14:54:04.610Z"
   },
   {
    "duration": 8,
    "start_time": "2022-11-23T14:54:05.112Z"
   },
   {
    "duration": 878,
    "start_time": "2022-11-23T14:54:05.645Z"
   },
   {
    "duration": 513,
    "start_time": "2022-11-23T14:54:06.525Z"
   },
   {
    "duration": 593,
    "start_time": "2022-11-23T14:54:07.724Z"
   },
   {
    "duration": 33,
    "start_time": "2022-11-23T14:54:11.296Z"
   },
   {
    "duration": 14,
    "start_time": "2022-11-23T14:54:12.487Z"
   },
   {
    "duration": 5,
    "start_time": "2022-11-23T14:54:13.226Z"
   },
   {
    "duration": 107,
    "start_time": "2022-11-23T14:54:13.922Z"
   },
   {
    "duration": 52,
    "start_time": "2022-11-23T15:05:56.116Z"
   },
   {
    "duration": 56,
    "start_time": "2022-11-23T15:06:15.960Z"
   },
   {
    "duration": 55,
    "start_time": "2022-11-23T15:07:00.580Z"
   },
   {
    "duration": 22,
    "start_time": "2022-11-23T15:16:29.236Z"
   },
   {
    "duration": 23,
    "start_time": "2022-11-23T15:17:30.920Z"
   },
   {
    "duration": 5,
    "start_time": "2022-11-23T15:17:35.236Z"
   },
   {
    "duration": 1048,
    "start_time": "2022-11-23T15:21:32.319Z"
   },
   {
    "duration": 643,
    "start_time": "2022-11-23T15:21:33.369Z"
   },
   {
    "duration": 11,
    "start_time": "2022-11-23T15:21:34.014Z"
   },
   {
    "duration": 9,
    "start_time": "2022-11-23T15:21:34.027Z"
   },
   {
    "duration": 32,
    "start_time": "2022-11-23T15:21:34.038Z"
   },
   {
    "duration": 60,
    "start_time": "2022-11-23T15:21:34.072Z"
   },
   {
    "duration": 22,
    "start_time": "2022-11-23T15:21:34.134Z"
   },
   {
    "duration": 6,
    "start_time": "2022-11-23T15:21:34.159Z"
   },
   {
    "duration": 65,
    "start_time": "2022-11-23T15:21:34.167Z"
   },
   {
    "duration": 27,
    "start_time": "2022-11-23T15:21:34.236Z"
   },
   {
    "duration": 41,
    "start_time": "2022-11-23T15:21:34.265Z"
   },
   {
    "duration": 18,
    "start_time": "2022-11-23T15:21:34.308Z"
   },
   {
    "duration": 4,
    "start_time": "2022-11-23T15:21:34.328Z"
   },
   {
    "duration": 24,
    "start_time": "2022-11-23T15:21:34.334Z"
   },
   {
    "duration": 12,
    "start_time": "2022-11-23T15:21:34.360Z"
   },
   {
    "duration": 785,
    "start_time": "2022-11-23T15:21:34.374Z"
   },
   {
    "duration": 4,
    "start_time": "2022-11-23T15:21:35.160Z"
   },
   {
    "duration": 459,
    "start_time": "2022-11-23T15:21:35.166Z"
   },
   {
    "duration": 3,
    "start_time": "2022-11-23T15:21:35.627Z"
   },
   {
    "duration": 24,
    "start_time": "2022-11-23T15:21:35.632Z"
   },
   {
    "duration": 24,
    "start_time": "2022-11-23T15:21:35.657Z"
   },
   {
    "duration": 257,
    "start_time": "2022-11-23T15:21:35.683Z"
   },
   {
    "duration": 23,
    "start_time": "2022-11-23T15:21:35.942Z"
   },
   {
    "duration": 32,
    "start_time": "2022-11-23T15:21:35.966Z"
   },
   {
    "duration": 39,
    "start_time": "2022-11-23T15:21:36.000Z"
   },
   {
    "duration": 35,
    "start_time": "2022-11-23T15:21:36.041Z"
   },
   {
    "duration": 45,
    "start_time": "2022-11-23T15:21:36.077Z"
   },
   {
    "duration": 53,
    "start_time": "2022-11-23T15:21:36.126Z"
   },
   {
    "duration": 188,
    "start_time": "2022-11-23T15:21:36.181Z"
   },
   {
    "duration": 580,
    "start_time": "2022-11-23T15:21:36.371Z"
   },
   {
    "duration": 4,
    "start_time": "2022-11-23T15:21:36.953Z"
   },
   {
    "duration": 109,
    "start_time": "2022-11-23T15:21:36.958Z"
   },
   {
    "duration": 0,
    "start_time": "2022-11-23T15:21:37.069Z"
   },
   {
    "duration": 0,
    "start_time": "2022-11-23T15:21:37.070Z"
   },
   {
    "duration": 0,
    "start_time": "2022-11-23T15:21:37.071Z"
   },
   {
    "duration": 0,
    "start_time": "2022-11-23T15:21:37.072Z"
   },
   {
    "duration": 0,
    "start_time": "2022-11-23T15:21:37.073Z"
   },
   {
    "duration": 0,
    "start_time": "2022-11-23T15:21:37.075Z"
   },
   {
    "duration": 0,
    "start_time": "2022-11-23T15:21:37.076Z"
   },
   {
    "duration": 0,
    "start_time": "2022-11-23T15:21:37.077Z"
   },
   {
    "duration": 0,
    "start_time": "2022-11-23T15:21:37.078Z"
   },
   {
    "duration": 0,
    "start_time": "2022-11-23T15:21:37.078Z"
   },
   {
    "duration": 0,
    "start_time": "2022-11-23T15:21:37.080Z"
   },
   {
    "duration": 1,
    "start_time": "2022-11-23T15:21:37.080Z"
   },
   {
    "duration": 0,
    "start_time": "2022-11-23T15:21:37.081Z"
   },
   {
    "duration": 0,
    "start_time": "2022-11-23T15:21:37.082Z"
   },
   {
    "duration": 0,
    "start_time": "2022-11-23T15:21:37.084Z"
   },
   {
    "duration": 1152,
    "start_time": "2022-11-23T15:22:29.558Z"
   },
   {
    "duration": 319,
    "start_time": "2022-11-23T15:22:30.712Z"
   },
   {
    "duration": 13,
    "start_time": "2022-11-23T15:22:31.034Z"
   },
   {
    "duration": 29,
    "start_time": "2022-11-23T15:22:31.049Z"
   },
   {
    "duration": 29,
    "start_time": "2022-11-23T15:22:31.080Z"
   },
   {
    "duration": 47,
    "start_time": "2022-11-23T15:22:31.111Z"
   },
   {
    "duration": 29,
    "start_time": "2022-11-23T15:22:31.160Z"
   },
   {
    "duration": 19,
    "start_time": "2022-11-23T15:22:31.192Z"
   },
   {
    "duration": 68,
    "start_time": "2022-11-23T15:22:31.213Z"
   },
   {
    "duration": 16,
    "start_time": "2022-11-23T15:22:31.284Z"
   },
   {
    "duration": 47,
    "start_time": "2022-11-23T15:22:31.302Z"
   },
   {
    "duration": 14,
    "start_time": "2022-11-23T15:22:31.351Z"
   },
   {
    "duration": 44,
    "start_time": "2022-11-23T15:22:31.367Z"
   },
   {
    "duration": 35,
    "start_time": "2022-11-23T15:22:31.412Z"
   },
   {
    "duration": 35,
    "start_time": "2022-11-23T15:22:31.449Z"
   },
   {
    "duration": 885,
    "start_time": "2022-11-23T15:22:31.486Z"
   },
   {
    "duration": 7,
    "start_time": "2022-11-23T15:22:32.373Z"
   },
   {
    "duration": 520,
    "start_time": "2022-11-23T15:22:32.382Z"
   },
   {
    "duration": 3,
    "start_time": "2022-11-23T15:22:32.904Z"
   },
   {
    "duration": 22,
    "start_time": "2022-11-23T15:22:32.909Z"
   },
   {
    "duration": 15,
    "start_time": "2022-11-23T15:22:32.933Z"
   },
   {
    "duration": 262,
    "start_time": "2022-11-23T15:22:32.950Z"
   },
   {
    "duration": 23,
    "start_time": "2022-11-23T15:22:33.214Z"
   },
   {
    "duration": 19,
    "start_time": "2022-11-23T15:22:33.239Z"
   },
   {
    "duration": 19,
    "start_time": "2022-11-23T15:22:33.260Z"
   },
   {
    "duration": 8,
    "start_time": "2022-11-23T15:22:33.281Z"
   },
   {
    "duration": 52,
    "start_time": "2022-11-23T15:22:33.290Z"
   },
   {
    "duration": 42,
    "start_time": "2022-11-23T15:22:33.346Z"
   },
   {
    "duration": 196,
    "start_time": "2022-11-23T15:22:33.390Z"
   },
   {
    "duration": 677,
    "start_time": "2022-11-23T15:22:33.588Z"
   },
   {
    "duration": 6,
    "start_time": "2022-11-23T15:22:34.267Z"
   },
   {
    "duration": 37,
    "start_time": "2022-11-23T15:22:34.275Z"
   },
   {
    "duration": 34,
    "start_time": "2022-11-23T15:22:34.314Z"
   },
   {
    "duration": 24,
    "start_time": "2022-11-23T15:22:34.349Z"
   },
   {
    "duration": 5,
    "start_time": "2022-11-23T15:22:34.375Z"
   },
   {
    "duration": 63,
    "start_time": "2022-11-23T15:22:34.382Z"
   },
   {
    "duration": 18,
    "start_time": "2022-11-23T15:22:34.447Z"
   },
   {
    "duration": 54,
    "start_time": "2022-11-23T15:22:34.468Z"
   },
   {
    "duration": 9,
    "start_time": "2022-11-23T15:22:34.524Z"
   },
   {
    "duration": 818,
    "start_time": "2022-11-23T15:22:34.535Z"
   },
   {
    "duration": 566,
    "start_time": "2022-11-23T15:22:35.356Z"
   },
   {
    "duration": 568,
    "start_time": "2022-11-23T15:22:35.924Z"
   },
   {
    "duration": 41,
    "start_time": "2022-11-23T15:22:36.493Z"
   },
   {
    "duration": 6,
    "start_time": "2022-11-23T15:22:36.535Z"
   },
   {
    "duration": 32,
    "start_time": "2022-11-23T15:22:36.543Z"
   },
   {
    "duration": 54,
    "start_time": "2022-11-23T15:22:36.577Z"
   },
   {
    "duration": 44,
    "start_time": "2022-11-23T15:22:36.633Z"
   },
   {
    "duration": 33,
    "start_time": "2022-11-23T15:26:57.785Z"
   },
   {
    "duration": 5,
    "start_time": "2022-11-23T15:27:14.095Z"
   },
   {
    "duration": 5,
    "start_time": "2022-11-23T15:27:14.611Z"
   },
   {
    "duration": 4,
    "start_time": "2022-11-23T15:27:31.143Z"
   },
   {
    "duration": 4,
    "start_time": "2022-11-23T15:27:33.700Z"
   },
   {
    "duration": 23,
    "start_time": "2022-11-23T15:28:47.766Z"
   },
   {
    "duration": 1119,
    "start_time": "2022-11-23T15:34:24.545Z"
   },
   {
    "duration": 341,
    "start_time": "2022-11-23T15:34:25.666Z"
   },
   {
    "duration": 20,
    "start_time": "2022-11-23T15:34:26.008Z"
   },
   {
    "duration": 9,
    "start_time": "2022-11-23T15:34:26.030Z"
   },
   {
    "duration": 20,
    "start_time": "2022-11-23T15:34:26.041Z"
   },
   {
    "duration": 34,
    "start_time": "2022-11-23T15:34:26.063Z"
   },
   {
    "duration": 42,
    "start_time": "2022-11-23T15:34:26.098Z"
   },
   {
    "duration": 7,
    "start_time": "2022-11-23T15:34:26.142Z"
   },
   {
    "duration": 44,
    "start_time": "2022-11-23T15:34:26.150Z"
   },
   {
    "duration": 43,
    "start_time": "2022-11-23T15:34:26.197Z"
   },
   {
    "duration": 52,
    "start_time": "2022-11-23T15:34:26.243Z"
   },
   {
    "duration": 25,
    "start_time": "2022-11-23T15:34:26.297Z"
   },
   {
    "duration": 5,
    "start_time": "2022-11-23T15:34:26.325Z"
   },
   {
    "duration": 28,
    "start_time": "2022-11-23T15:34:26.332Z"
   },
   {
    "duration": 18,
    "start_time": "2022-11-23T15:34:26.362Z"
   },
   {
    "duration": 841,
    "start_time": "2022-11-23T15:34:26.382Z"
   },
   {
    "duration": 6,
    "start_time": "2022-11-23T15:34:27.224Z"
   },
   {
    "duration": 499,
    "start_time": "2022-11-23T15:34:27.232Z"
   },
   {
    "duration": 3,
    "start_time": "2022-11-23T15:34:27.734Z"
   },
   {
    "duration": 19,
    "start_time": "2022-11-23T15:34:27.739Z"
   },
   {
    "duration": 15,
    "start_time": "2022-11-23T15:34:27.760Z"
   },
   {
    "duration": 347,
    "start_time": "2022-11-23T15:34:27.778Z"
   },
   {
    "duration": 25,
    "start_time": "2022-11-23T15:34:28.126Z"
   },
   {
    "duration": 23,
    "start_time": "2022-11-23T15:34:28.153Z"
   },
   {
    "duration": 47,
    "start_time": "2022-11-23T15:34:28.179Z"
   },
   {
    "duration": 9,
    "start_time": "2022-11-23T15:34:28.228Z"
   },
   {
    "duration": 28,
    "start_time": "2022-11-23T15:34:28.239Z"
   },
   {
    "duration": 69,
    "start_time": "2022-11-23T15:34:28.272Z"
   },
   {
    "duration": 187,
    "start_time": "2022-11-23T15:34:28.342Z"
   },
   {
    "duration": 706,
    "start_time": "2022-11-23T15:34:28.532Z"
   },
   {
    "duration": 5,
    "start_time": "2022-11-23T15:34:29.240Z"
   },
   {
    "duration": 33,
    "start_time": "2022-11-23T15:34:29.247Z"
   },
   {
    "duration": 43,
    "start_time": "2022-11-23T15:34:29.282Z"
   },
   {
    "duration": 36,
    "start_time": "2022-11-23T15:34:29.327Z"
   },
   {
    "duration": 6,
    "start_time": "2022-11-23T15:34:29.366Z"
   },
   {
    "duration": 82,
    "start_time": "2022-11-23T15:34:29.375Z"
   },
   {
    "duration": 32,
    "start_time": "2022-11-23T15:34:29.460Z"
   },
   {
    "duration": 70,
    "start_time": "2022-11-23T15:34:29.495Z"
   },
   {
    "duration": 10,
    "start_time": "2022-11-23T15:34:29.567Z"
   },
   {
    "duration": 848,
    "start_time": "2022-11-23T15:34:29.579Z"
   },
   {
    "duration": 569,
    "start_time": "2022-11-23T15:34:30.429Z"
   },
   {
    "duration": 766,
    "start_time": "2022-11-23T15:34:31.000Z"
   },
   {
    "duration": 36,
    "start_time": "2022-11-23T15:34:31.768Z"
   },
   {
    "duration": 20,
    "start_time": "2022-11-23T15:34:31.806Z"
   },
   {
    "duration": 54,
    "start_time": "2022-11-23T15:34:31.828Z"
   },
   {
    "duration": 50,
    "start_time": "2022-11-23T15:34:31.884Z"
   },
   {
    "duration": 38,
    "start_time": "2022-11-23T15:34:31.936Z"
   },
   {
    "duration": 3,
    "start_time": "2022-11-23T21:37:23.882Z"
   },
   {
    "duration": 1058,
    "start_time": "2022-11-23T21:37:30.241Z"
   },
   {
    "duration": 274,
    "start_time": "2022-11-23T21:37:31.301Z"
   },
   {
    "duration": 14,
    "start_time": "2022-11-23T21:37:31.577Z"
   },
   {
    "duration": 33,
    "start_time": "2022-11-23T21:37:31.593Z"
   },
   {
    "duration": 27,
    "start_time": "2022-11-23T21:37:31.627Z"
   },
   {
    "duration": 45,
    "start_time": "2022-11-23T21:37:31.656Z"
   },
   {
    "duration": 20,
    "start_time": "2022-11-23T21:37:31.703Z"
   },
   {
    "duration": 29,
    "start_time": "2022-11-23T21:37:31.724Z"
   },
   {
    "duration": 55,
    "start_time": "2022-11-23T21:37:31.755Z"
   },
   {
    "duration": 39,
    "start_time": "2022-11-23T21:37:31.813Z"
   },
   {
    "duration": 54,
    "start_time": "2022-11-23T21:37:31.854Z"
   },
   {
    "duration": 15,
    "start_time": "2022-11-23T21:37:31.910Z"
   },
   {
    "duration": 31,
    "start_time": "2022-11-23T21:37:31.926Z"
   },
   {
    "duration": 41,
    "start_time": "2022-11-23T21:37:31.959Z"
   },
   {
    "duration": 14,
    "start_time": "2022-11-23T21:37:32.002Z"
   },
   {
    "duration": 720,
    "start_time": "2022-11-23T21:37:32.018Z"
   },
   {
    "duration": 5,
    "start_time": "2022-11-23T21:37:32.740Z"
   },
   {
    "duration": 429,
    "start_time": "2022-11-23T21:37:32.747Z"
   },
   {
    "duration": 4,
    "start_time": "2022-11-23T21:37:33.178Z"
   },
   {
    "duration": 52,
    "start_time": "2022-11-23T21:37:33.183Z"
   },
   {
    "duration": 40,
    "start_time": "2022-11-23T21:37:33.237Z"
   },
   {
    "duration": 217,
    "start_time": "2022-11-23T21:37:33.279Z"
   },
   {
    "duration": 39,
    "start_time": "2022-11-23T21:37:33.498Z"
   },
   {
    "duration": 19,
    "start_time": "2022-11-23T21:37:33.539Z"
   },
   {
    "duration": 17,
    "start_time": "2022-11-23T21:37:33.560Z"
   },
   {
    "duration": 8,
    "start_time": "2022-11-23T21:37:33.579Z"
   },
   {
    "duration": 53,
    "start_time": "2022-11-23T21:37:33.589Z"
   },
   {
    "duration": 45,
    "start_time": "2022-11-23T21:37:33.645Z"
   },
   {
    "duration": 167,
    "start_time": "2022-11-23T21:37:33.692Z"
   },
   {
    "duration": 1068,
    "start_time": "2022-11-23T21:37:33.861Z"
   },
   {
    "duration": 7,
    "start_time": "2022-11-23T21:37:34.931Z"
   },
   {
    "duration": 88,
    "start_time": "2022-11-23T21:37:34.939Z"
   },
   {
    "duration": 26,
    "start_time": "2022-11-23T21:37:35.029Z"
   },
   {
    "duration": 77,
    "start_time": "2022-11-23T21:37:35.057Z"
   },
   {
    "duration": 4,
    "start_time": "2022-11-23T21:37:35.136Z"
   },
   {
    "duration": 91,
    "start_time": "2022-11-23T21:37:35.141Z"
   },
   {
    "duration": 21,
    "start_time": "2022-11-23T21:37:35.233Z"
   },
   {
    "duration": 93,
    "start_time": "2022-11-23T21:37:35.256Z"
   },
   {
    "duration": 7,
    "start_time": "2022-11-23T21:37:35.351Z"
   },
   {
    "duration": 1067,
    "start_time": "2022-11-23T21:37:35.361Z"
   },
   {
    "duration": 502,
    "start_time": "2022-11-23T21:37:36.430Z"
   },
   {
    "duration": 552,
    "start_time": "2022-11-23T21:37:36.933Z"
   },
   {
    "duration": 41,
    "start_time": "2022-11-23T21:37:37.487Z"
   },
   {
    "duration": 5,
    "start_time": "2022-11-23T21:37:37.529Z"
   },
   {
    "duration": 39,
    "start_time": "2022-11-23T21:37:37.536Z"
   },
   {
    "duration": 30,
    "start_time": "2022-11-23T21:37:37.576Z"
   },
   {
    "duration": 31,
    "start_time": "2022-11-23T21:37:37.608Z"
   },
   {
    "duration": 34,
    "start_time": "2022-11-23T22:11:04.704Z"
   },
   {
    "duration": 9,
    "start_time": "2022-11-23T22:11:34.453Z"
   },
   {
    "duration": 990,
    "start_time": "2022-11-23T22:29:25.336Z"
   },
   {
    "duration": 403,
    "start_time": "2022-11-23T22:29:26.328Z"
   },
   {
    "duration": 11,
    "start_time": "2022-11-23T22:29:26.733Z"
   },
   {
    "duration": 8,
    "start_time": "2022-11-23T22:29:26.746Z"
   },
   {
    "duration": 17,
    "start_time": "2022-11-23T22:29:26.755Z"
   },
   {
    "duration": 55,
    "start_time": "2022-11-23T22:29:26.774Z"
   },
   {
    "duration": 15,
    "start_time": "2022-11-23T22:29:26.831Z"
   },
   {
    "duration": 4,
    "start_time": "2022-11-23T22:29:26.848Z"
   },
   {
    "duration": 36,
    "start_time": "2022-11-23T22:29:26.854Z"
   },
   {
    "duration": 33,
    "start_time": "2022-11-23T22:29:26.893Z"
   },
   {
    "duration": 31,
    "start_time": "2022-11-23T22:29:26.928Z"
   },
   {
    "duration": 12,
    "start_time": "2022-11-23T22:29:26.961Z"
   },
   {
    "duration": 6,
    "start_time": "2022-11-23T22:29:26.975Z"
   },
   {
    "duration": 19,
    "start_time": "2022-11-23T22:29:26.982Z"
   },
   {
    "duration": 22,
    "start_time": "2022-11-23T22:29:27.003Z"
   },
   {
    "duration": 673,
    "start_time": "2022-11-23T22:29:27.027Z"
   },
   {
    "duration": 5,
    "start_time": "2022-11-23T22:29:27.701Z"
   },
   {
    "duration": 415,
    "start_time": "2022-11-23T22:29:27.707Z"
   },
   {
    "duration": 3,
    "start_time": "2022-11-23T22:29:28.123Z"
   },
   {
    "duration": 29,
    "start_time": "2022-11-23T22:29:28.128Z"
   },
   {
    "duration": 23,
    "start_time": "2022-11-23T22:29:28.159Z"
   },
   {
    "duration": 202,
    "start_time": "2022-11-23T22:29:28.184Z"
   },
   {
    "duration": 20,
    "start_time": "2022-11-23T22:29:28.388Z"
   },
   {
    "duration": 18,
    "start_time": "2022-11-23T22:29:28.421Z"
   },
   {
    "duration": 23,
    "start_time": "2022-11-23T22:29:28.440Z"
   },
   {
    "duration": 12,
    "start_time": "2022-11-23T22:29:28.465Z"
   },
   {
    "duration": 26,
    "start_time": "2022-11-23T22:29:28.478Z"
   },
   {
    "duration": 52,
    "start_time": "2022-11-23T22:29:28.507Z"
   },
   {
    "duration": 163,
    "start_time": "2022-11-23T22:29:28.561Z"
   },
   {
    "duration": 106,
    "start_time": "2022-11-23T22:29:28.726Z"
   },
   {
    "duration": 11,
    "start_time": "2022-11-23T22:29:28.834Z"
   },
   {
    "duration": 555,
    "start_time": "2022-11-23T22:29:28.846Z"
   },
   {
    "duration": 5,
    "start_time": "2022-11-23T22:29:29.403Z"
   },
   {
    "duration": 45,
    "start_time": "2022-11-23T22:29:29.410Z"
   },
   {
    "duration": 22,
    "start_time": "2022-11-23T22:29:29.457Z"
   },
   {
    "duration": 20,
    "start_time": "2022-11-23T22:29:29.481Z"
   },
   {
    "duration": 19,
    "start_time": "2022-11-23T22:29:29.503Z"
   },
   {
    "duration": 42,
    "start_time": "2022-11-23T22:29:29.524Z"
   },
   {
    "duration": 16,
    "start_time": "2022-11-23T22:29:29.568Z"
   },
   {
    "duration": 33,
    "start_time": "2022-11-23T22:29:29.586Z"
   },
   {
    "duration": 7,
    "start_time": "2022-11-23T22:29:29.622Z"
   },
   {
    "duration": 766,
    "start_time": "2022-11-23T22:29:29.631Z"
   },
   {
    "duration": 504,
    "start_time": "2022-11-23T22:29:30.399Z"
   },
   {
    "duration": 493,
    "start_time": "2022-11-23T22:29:30.905Z"
   },
   {
    "duration": 36,
    "start_time": "2022-11-23T22:29:31.400Z"
   },
   {
    "duration": 6,
    "start_time": "2022-11-23T22:29:31.437Z"
   },
   {
    "duration": 29,
    "start_time": "2022-11-23T22:29:31.445Z"
   },
   {
    "duration": 29,
    "start_time": "2022-11-23T22:29:31.476Z"
   },
   {
    "duration": 23,
    "start_time": "2022-11-23T22:29:31.521Z"
   },
   {
    "duration": 1057,
    "start_time": "2022-11-24T10:44:13.985Z"
   },
   {
    "duration": 314,
    "start_time": "2022-11-24T10:44:15.044Z"
   },
   {
    "duration": 11,
    "start_time": "2022-11-24T10:44:15.360Z"
   },
   {
    "duration": 28,
    "start_time": "2022-11-24T10:44:15.373Z"
   },
   {
    "duration": 27,
    "start_time": "2022-11-24T10:44:15.407Z"
   },
   {
    "duration": 32,
    "start_time": "2022-11-24T10:44:15.435Z"
   },
   {
    "duration": 18,
    "start_time": "2022-11-24T10:44:15.469Z"
   },
   {
    "duration": 35,
    "start_time": "2022-11-24T10:44:15.489Z"
   },
   {
    "duration": 55,
    "start_time": "2022-11-24T10:44:15.526Z"
   },
   {
    "duration": 18,
    "start_time": "2022-11-24T10:44:15.584Z"
   },
   {
    "duration": 39,
    "start_time": "2022-11-24T10:44:15.604Z"
   },
   {
    "duration": 9,
    "start_time": "2022-11-24T10:44:15.645Z"
   },
   {
    "duration": 6,
    "start_time": "2022-11-24T10:44:15.656Z"
   },
   {
    "duration": 17,
    "start_time": "2022-11-24T10:44:15.663Z"
   },
   {
    "duration": 48,
    "start_time": "2022-11-24T10:44:15.682Z"
   },
   {
    "duration": 942,
    "start_time": "2022-11-24T10:44:15.731Z"
   },
   {
    "duration": 6,
    "start_time": "2022-11-24T10:44:16.674Z"
   },
   {
    "duration": 502,
    "start_time": "2022-11-24T10:44:16.682Z"
   },
   {
    "duration": 12,
    "start_time": "2022-11-24T10:44:17.186Z"
   },
   {
    "duration": 34,
    "start_time": "2022-11-24T10:44:17.208Z"
   },
   {
    "duration": 24,
    "start_time": "2022-11-24T10:44:17.244Z"
   },
   {
    "duration": 267,
    "start_time": "2022-11-24T10:44:17.271Z"
   },
   {
    "duration": 20,
    "start_time": "2022-11-24T10:44:17.540Z"
   },
   {
    "duration": 41,
    "start_time": "2022-11-24T10:44:17.562Z"
   },
   {
    "duration": 17,
    "start_time": "2022-11-24T10:44:17.609Z"
   },
   {
    "duration": 8,
    "start_time": "2022-11-24T10:44:17.629Z"
   },
   {
    "duration": 27,
    "start_time": "2022-11-24T10:44:17.639Z"
   },
   {
    "duration": 75,
    "start_time": "2022-11-24T10:44:17.670Z"
   },
   {
    "duration": 358,
    "start_time": "2022-11-24T10:44:17.746Z"
   },
   {
    "duration": 104,
    "start_time": "2022-11-24T10:44:18.107Z"
   },
   {
    "duration": 12,
    "start_time": "2022-11-24T10:44:18.213Z"
   },
   {
    "duration": 629,
    "start_time": "2022-11-24T10:44:18.227Z"
   },
   {
    "duration": 4,
    "start_time": "2022-11-24T10:44:18.858Z"
   },
   {
    "duration": 41,
    "start_time": "2022-11-24T10:44:18.863Z"
   },
   {
    "duration": 25,
    "start_time": "2022-11-24T10:44:18.908Z"
   },
   {
    "duration": 27,
    "start_time": "2022-11-24T10:44:18.935Z"
   },
   {
    "duration": 5,
    "start_time": "2022-11-24T10:44:18.964Z"
   },
   {
    "duration": 60,
    "start_time": "2022-11-24T10:44:18.970Z"
   },
   {
    "duration": 26,
    "start_time": "2022-11-24T10:44:19.032Z"
   },
   {
    "duration": 59,
    "start_time": "2022-11-24T10:44:19.060Z"
   },
   {
    "duration": 7,
    "start_time": "2022-11-24T10:44:19.122Z"
   },
   {
    "duration": 883,
    "start_time": "2022-11-24T10:44:19.131Z"
   },
   {
    "duration": 559,
    "start_time": "2022-11-24T10:44:20.015Z"
   },
   {
    "duration": 615,
    "start_time": "2022-11-24T10:44:20.576Z"
   },
   {
    "duration": 46,
    "start_time": "2022-11-24T10:44:21.193Z"
   },
   {
    "duration": 5,
    "start_time": "2022-11-24T10:44:21.241Z"
   },
   {
    "duration": 36,
    "start_time": "2022-11-24T10:44:21.247Z"
   },
   {
    "duration": 48,
    "start_time": "2022-11-24T10:44:21.285Z"
   },
   {
    "duration": 22,
    "start_time": "2022-11-24T10:44:21.334Z"
   },
   {
    "duration": 6,
    "start_time": "2022-11-24T10:54:37.192Z"
   },
   {
    "duration": 21,
    "start_time": "2022-11-24T10:54:38.018Z"
   },
   {
    "duration": 7,
    "start_time": "2022-11-24T10:54:44.687Z"
   },
   {
    "duration": 23,
    "start_time": "2022-11-24T10:54:45.665Z"
   },
   {
    "duration": 5,
    "start_time": "2022-11-24T10:55:59.533Z"
   },
   {
    "duration": 33,
    "start_time": "2022-11-24T10:55:59.890Z"
   },
   {
    "duration": 35,
    "start_time": "2022-11-24T10:56:00.986Z"
   },
   {
    "duration": 24,
    "start_time": "2022-11-24T10:56:01.920Z"
   },
   {
    "duration": 29,
    "start_time": "2022-11-24T10:56:15.654Z"
   },
   {
    "duration": 33,
    "start_time": "2022-11-24T10:56:17.666Z"
   },
   {
    "duration": 46,
    "start_time": "2022-11-24T10:56:32.189Z"
   },
   {
    "duration": 15,
    "start_time": "2022-11-24T10:56:32.793Z"
   },
   {
    "duration": 29,
    "start_time": "2022-11-24T10:56:33.320Z"
   },
   {
    "duration": 45,
    "start_time": "2022-11-24T10:56:35.739Z"
   },
   {
    "duration": 33,
    "start_time": "2022-11-24T10:56:35.943Z"
   },
   {
    "duration": 37,
    "start_time": "2022-11-24T10:57:01.477Z"
   },
   {
    "duration": 33,
    "start_time": "2022-11-24T10:57:03.389Z"
   },
   {
    "duration": 105,
    "start_time": "2022-11-24T10:57:26.566Z"
   },
   {
    "duration": 34,
    "start_time": "2022-11-24T10:57:29.505Z"
   },
   {
    "duration": 30,
    "start_time": "2022-11-24T10:57:29.986Z"
   },
   {
    "duration": 30,
    "start_time": "2022-11-24T10:57:37.211Z"
   },
   {
    "duration": 27,
    "start_time": "2022-11-24T10:57:37.503Z"
   },
   {
    "duration": 5,
    "start_time": "2022-11-24T10:58:28.934Z"
   },
   {
    "duration": 32,
    "start_time": "2022-11-24T10:58:29.879Z"
   },
   {
    "duration": 31,
    "start_time": "2022-11-24T10:58:30.954Z"
   },
   {
    "duration": 36,
    "start_time": "2022-11-24T10:58:31.650Z"
   },
   {
    "duration": 1229,
    "start_time": "2022-11-24T17:08:53.776Z"
   },
   {
    "duration": 290,
    "start_time": "2022-11-24T17:08:55.007Z"
   },
   {
    "duration": 11,
    "start_time": "2022-11-24T17:08:55.299Z"
   },
   {
    "duration": 11,
    "start_time": "2022-11-24T17:08:55.312Z"
   },
   {
    "duration": 21,
    "start_time": "2022-11-24T17:08:55.324Z"
   },
   {
    "duration": 52,
    "start_time": "2022-11-24T17:08:55.347Z"
   },
   {
    "duration": 17,
    "start_time": "2022-11-24T17:08:55.401Z"
   },
   {
    "duration": 9,
    "start_time": "2022-11-24T17:08:55.420Z"
   },
   {
    "duration": 66,
    "start_time": "2022-11-24T17:08:55.430Z"
   },
   {
    "duration": 15,
    "start_time": "2022-11-24T17:08:55.498Z"
   },
   {
    "duration": 34,
    "start_time": "2022-11-24T17:08:55.515Z"
   },
   {
    "duration": 10,
    "start_time": "2022-11-24T17:08:55.551Z"
   },
   {
    "duration": 3,
    "start_time": "2022-11-24T17:08:55.578Z"
   },
   {
    "duration": 19,
    "start_time": "2022-11-24T17:08:55.583Z"
   },
   {
    "duration": 11,
    "start_time": "2022-11-24T17:08:55.604Z"
   },
   {
    "duration": 792,
    "start_time": "2022-11-24T17:08:55.617Z"
   },
   {
    "duration": 5,
    "start_time": "2022-11-24T17:08:56.411Z"
   },
   {
    "duration": 472,
    "start_time": "2022-11-24T17:08:56.418Z"
   },
   {
    "duration": 4,
    "start_time": "2022-11-24T17:08:56.892Z"
   },
   {
    "duration": 19,
    "start_time": "2022-11-24T17:08:56.897Z"
   },
   {
    "duration": 15,
    "start_time": "2022-11-24T17:08:56.918Z"
   },
   {
    "duration": 245,
    "start_time": "2022-11-24T17:08:56.935Z"
   },
   {
    "duration": 22,
    "start_time": "2022-11-24T17:08:57.182Z"
   },
   {
    "duration": 18,
    "start_time": "2022-11-24T17:08:57.206Z"
   },
   {
    "duration": 17,
    "start_time": "2022-11-24T17:08:57.226Z"
   },
   {
    "duration": 34,
    "start_time": "2022-11-24T17:08:57.245Z"
   },
   {
    "duration": 26,
    "start_time": "2022-11-24T17:08:57.281Z"
   },
   {
    "duration": 43,
    "start_time": "2022-11-24T17:08:57.311Z"
   },
   {
    "duration": 176,
    "start_time": "2022-11-24T17:08:57.356Z"
   },
   {
    "duration": 48,
    "start_time": "2022-11-24T17:08:57.534Z"
   },
   {
    "duration": 564,
    "start_time": "2022-11-24T17:08:57.584Z"
   },
   {
    "duration": 4,
    "start_time": "2022-11-24T17:08:58.151Z"
   },
   {
    "duration": 39,
    "start_time": "2022-11-24T17:08:58.157Z"
   },
   {
    "duration": 25,
    "start_time": "2022-11-24T17:08:58.197Z"
   },
   {
    "duration": 23,
    "start_time": "2022-11-24T17:08:58.224Z"
   },
   {
    "duration": 5,
    "start_time": "2022-11-24T17:08:58.248Z"
   },
   {
    "duration": 33,
    "start_time": "2022-11-24T17:08:58.278Z"
   },
   {
    "duration": 23,
    "start_time": "2022-11-24T17:08:58.313Z"
   },
   {
    "duration": 64,
    "start_time": "2022-11-24T17:08:58.337Z"
   },
   {
    "duration": 8,
    "start_time": "2022-11-24T17:08:58.403Z"
   },
   {
    "duration": 889,
    "start_time": "2022-11-24T17:08:58.413Z"
   },
   {
    "duration": 493,
    "start_time": "2022-11-24T17:08:59.304Z"
   },
   {
    "duration": 538,
    "start_time": "2022-11-24T17:08:59.799Z"
   },
   {
    "duration": 27,
    "start_time": "2022-11-24T17:09:00.339Z"
   },
   {
    "duration": 20,
    "start_time": "2022-11-24T17:09:00.379Z"
   },
   {
    "duration": 76,
    "start_time": "2022-11-24T17:09:00.401Z"
   },
   {
    "duration": 34,
    "start_time": "2022-11-24T17:09:00.479Z"
   },
   {
    "duration": 53,
    "start_time": "2022-11-24T17:09:00.514Z"
   },
   {
    "duration": 32,
    "start_time": "2022-11-24T17:18:26.591Z"
   },
   {
    "duration": 952,
    "start_time": "2022-11-24T17:20:46.640Z"
   },
   {
    "duration": 360,
    "start_time": "2022-11-24T17:20:47.594Z"
   },
   {
    "duration": 9,
    "start_time": "2022-11-24T17:20:47.956Z"
   },
   {
    "duration": 17,
    "start_time": "2022-11-24T17:20:47.967Z"
   },
   {
    "duration": 19,
    "start_time": "2022-11-24T17:20:47.986Z"
   },
   {
    "duration": 28,
    "start_time": "2022-11-24T17:20:48.006Z"
   },
   {
    "duration": 15,
    "start_time": "2022-11-24T17:20:48.035Z"
   },
   {
    "duration": 7,
    "start_time": "2022-11-24T17:20:48.052Z"
   },
   {
    "duration": 43,
    "start_time": "2022-11-24T17:20:48.060Z"
   },
   {
    "duration": 14,
    "start_time": "2022-11-24T17:20:48.105Z"
   },
   {
    "duration": 30,
    "start_time": "2022-11-24T17:20:48.121Z"
   },
   {
    "duration": 9,
    "start_time": "2022-11-24T17:20:48.152Z"
   },
   {
    "duration": 3,
    "start_time": "2022-11-24T17:20:48.178Z"
   },
   {
    "duration": 21,
    "start_time": "2022-11-24T17:20:48.182Z"
   },
   {
    "duration": 8,
    "start_time": "2022-11-24T17:20:48.205Z"
   },
   {
    "duration": 27,
    "start_time": "2022-11-24T17:20:48.215Z"
   },
   {
    "duration": 675,
    "start_time": "2022-11-24T17:20:58.991Z"
   },
   {
    "duration": 4,
    "start_time": "2022-11-24T17:21:03.031Z"
   },
   {
    "duration": 379,
    "start_time": "2022-11-24T17:21:04.145Z"
   },
   {
    "duration": 3,
    "start_time": "2022-11-24T17:21:05.930Z"
   },
   {
    "duration": 19,
    "start_time": "2022-11-24T17:21:06.336Z"
   },
   {
    "duration": 18,
    "start_time": "2022-11-24T17:21:06.767Z"
   },
   {
    "duration": 211,
    "start_time": "2022-11-24T17:21:07.423Z"
   },
   {
    "duration": 21,
    "start_time": "2022-11-24T17:21:08.160Z"
   },
   {
    "duration": 16,
    "start_time": "2022-11-24T17:21:10.634Z"
   },
   {
    "duration": 15,
    "start_time": "2022-11-24T17:21:11.443Z"
   },
   {
    "duration": 9,
    "start_time": "2022-11-24T17:21:12.128Z"
   },
   {
    "duration": 20,
    "start_time": "2022-11-24T17:21:12.784Z"
   },
   {
    "duration": 50,
    "start_time": "2022-11-24T17:21:17.997Z"
   },
   {
    "duration": 157,
    "start_time": "2022-11-24T17:21:19.291Z"
   },
   {
    "duration": 36,
    "start_time": "2022-11-24T17:21:36.517Z"
   },
   {
    "duration": 101,
    "start_time": "2022-11-24T17:25:13.817Z"
   },
   {
    "duration": 1069,
    "start_time": "2022-11-24T17:25:25.473Z"
   },
   {
    "duration": 359,
    "start_time": "2022-11-24T17:25:26.543Z"
   },
   {
    "duration": 10,
    "start_time": "2022-11-24T17:25:26.904Z"
   },
   {
    "duration": 7,
    "start_time": "2022-11-24T17:25:26.916Z"
   },
   {
    "duration": 21,
    "start_time": "2022-11-24T17:25:26.925Z"
   },
   {
    "duration": 52,
    "start_time": "2022-11-24T17:25:26.948Z"
   },
   {
    "duration": 15,
    "start_time": "2022-11-24T17:25:27.002Z"
   },
   {
    "duration": 6,
    "start_time": "2022-11-24T17:25:27.019Z"
   },
   {
    "duration": 37,
    "start_time": "2022-11-24T17:25:27.027Z"
   },
   {
    "duration": 14,
    "start_time": "2022-11-24T17:25:27.077Z"
   },
   {
    "duration": 30,
    "start_time": "2022-11-24T17:25:27.093Z"
   },
   {
    "duration": 9,
    "start_time": "2022-11-24T17:25:27.124Z"
   },
   {
    "duration": 5,
    "start_time": "2022-11-24T17:25:27.135Z"
   },
   {
    "duration": 38,
    "start_time": "2022-11-24T17:25:27.142Z"
   },
   {
    "duration": 10,
    "start_time": "2022-11-24T17:25:27.181Z"
   },
   {
    "duration": 25,
    "start_time": "2022-11-24T17:25:27.192Z"
   },
   {
    "duration": 692,
    "start_time": "2022-11-24T17:25:27.219Z"
   },
   {
    "duration": 4,
    "start_time": "2022-11-24T17:25:27.913Z"
   },
   {
    "duration": 388,
    "start_time": "2022-11-24T17:25:27.918Z"
   },
   {
    "duration": 3,
    "start_time": "2022-11-24T17:25:28.308Z"
   },
   {
    "duration": 17,
    "start_time": "2022-11-24T17:25:28.313Z"
   },
   {
    "duration": 11,
    "start_time": "2022-11-24T17:25:28.332Z"
   },
   {
    "duration": 216,
    "start_time": "2022-11-24T17:25:28.345Z"
   },
   {
    "duration": 26,
    "start_time": "2022-11-24T17:25:28.563Z"
   },
   {
    "duration": 17,
    "start_time": "2022-11-24T17:25:28.590Z"
   },
   {
    "duration": 17,
    "start_time": "2022-11-24T17:25:28.609Z"
   },
   {
    "duration": 9,
    "start_time": "2022-11-24T17:25:28.628Z"
   },
   {
    "duration": 42,
    "start_time": "2022-11-24T17:25:28.640Z"
   },
   {
    "duration": 34,
    "start_time": "2022-11-24T17:25:28.684Z"
   },
   {
    "duration": 163,
    "start_time": "2022-11-24T17:25:28.720Z"
   },
   {
    "duration": 38,
    "start_time": "2022-11-24T17:25:28.884Z"
   },
   {
    "duration": 542,
    "start_time": "2022-11-24T17:25:28.979Z"
   },
   {
    "duration": 4,
    "start_time": "2022-11-24T17:25:29.522Z"
   },
   {
    "duration": 28,
    "start_time": "2022-11-24T17:25:29.527Z"
   },
   {
    "duration": 36,
    "start_time": "2022-11-24T17:25:29.556Z"
   },
   {
    "duration": 21,
    "start_time": "2022-11-24T17:25:29.593Z"
   },
   {
    "duration": 5,
    "start_time": "2022-11-24T17:25:29.616Z"
   },
   {
    "duration": 28,
    "start_time": "2022-11-24T17:25:29.622Z"
   },
   {
    "duration": 36,
    "start_time": "2022-11-24T17:25:29.652Z"
   },
   {
    "duration": 28,
    "start_time": "2022-11-24T17:25:29.690Z"
   },
   {
    "duration": 6,
    "start_time": "2022-11-24T17:25:29.719Z"
   },
   {
    "duration": 777,
    "start_time": "2022-11-24T17:25:29.726Z"
   },
   {
    "duration": 469,
    "start_time": "2022-11-24T17:25:30.504Z"
   },
   {
    "duration": 588,
    "start_time": "2022-11-24T17:25:30.974Z"
   },
   {
    "duration": 416,
    "start_time": "2022-11-24T17:28:23.685Z"
   },
   {
    "duration": 130,
    "start_time": "2022-11-24T17:29:34.680Z"
   },
   {
    "duration": 173,
    "start_time": "2022-11-24T17:29:55.488Z"
   },
   {
    "duration": 254,
    "start_time": "2022-11-24T17:30:10.145Z"
   },
   {
    "duration": 574,
    "start_time": "2022-11-24T17:30:35.719Z"
   },
   {
    "duration": 490,
    "start_time": "2022-11-24T17:30:46.540Z"
   },
   {
    "duration": 600,
    "start_time": "2022-11-24T17:43:36.279Z"
   },
   {
    "duration": 1275,
    "start_time": "2022-11-24T17:43:55.065Z"
   },
   {
    "duration": 71,
    "start_time": "2022-11-24T17:45:09.597Z"
   },
   {
    "duration": 71,
    "start_time": "2022-11-24T17:45:25.912Z"
   },
   {
    "duration": 69,
    "start_time": "2022-11-24T17:45:42.707Z"
   },
   {
    "duration": 530,
    "start_time": "2022-11-24T17:46:00.130Z"
   },
   {
    "duration": 1177,
    "start_time": "2022-11-24T17:46:08.894Z"
   },
   {
    "duration": 879,
    "start_time": "2022-11-24T17:52:00.986Z"
   },
   {
    "duration": 1452,
    "start_time": "2022-11-24T17:52:28.127Z"
   },
   {
    "duration": 1245,
    "start_time": "2022-11-24T17:52:53.814Z"
   },
   {
    "duration": 32,
    "start_time": "2022-11-24T18:08:07.183Z"
   },
   {
    "duration": 66,
    "start_time": "2022-11-24T18:09:09.272Z"
   },
   {
    "duration": 72,
    "start_time": "2022-11-24T18:09:22.643Z"
   },
   {
    "duration": 82,
    "start_time": "2022-11-24T18:09:32.763Z"
   },
   {
    "duration": 30,
    "start_time": "2022-11-24T18:13:27.292Z"
   },
   {
    "duration": 20,
    "start_time": "2022-11-24T18:14:40.768Z"
   },
   {
    "duration": 29,
    "start_time": "2022-11-24T18:15:56.203Z"
   },
   {
    "duration": 16,
    "start_time": "2022-11-24T18:16:19.056Z"
   },
   {
    "duration": 19,
    "start_time": "2022-11-24T18:16:24.107Z"
   },
   {
    "duration": 26,
    "start_time": "2022-11-24T18:17:24.009Z"
   },
   {
    "duration": 21,
    "start_time": "2022-11-24T18:24:46.909Z"
   },
   {
    "duration": 2976,
    "start_time": "2022-11-24T19:18:43.660Z"
   },
   {
    "duration": 10,
    "start_time": "2022-11-24T19:19:55.198Z"
   },
   {
    "duration": 2981,
    "start_time": "2022-11-24T19:20:01.955Z"
   },
   {
    "duration": 12,
    "start_time": "2022-11-24T19:20:04.938Z"
   },
   {
    "duration": 3477,
    "start_time": "2022-11-24T19:20:25.160Z"
   },
   {
    "duration": 3233,
    "start_time": "2022-11-24T19:20:31.292Z"
   },
   {
    "duration": 1022,
    "start_time": "2022-11-24T19:39:48.286Z"
   },
   {
    "duration": 340,
    "start_time": "2022-11-24T19:39:49.310Z"
   },
   {
    "duration": 10,
    "start_time": "2022-11-24T19:39:49.652Z"
   },
   {
    "duration": 17,
    "start_time": "2022-11-24T19:39:49.664Z"
   },
   {
    "duration": 17,
    "start_time": "2022-11-24T19:39:49.684Z"
   },
   {
    "duration": 34,
    "start_time": "2022-11-24T19:39:49.703Z"
   },
   {
    "duration": 15,
    "start_time": "2022-11-24T19:39:49.739Z"
   },
   {
    "duration": 2,
    "start_time": "2022-11-24T19:39:49.778Z"
   },
   {
    "duration": 39,
    "start_time": "2022-11-24T19:39:49.782Z"
   },
   {
    "duration": 16,
    "start_time": "2022-11-24T19:39:49.823Z"
   },
   {
    "duration": 48,
    "start_time": "2022-11-24T19:39:49.841Z"
   },
   {
    "duration": 9,
    "start_time": "2022-11-24T19:39:49.891Z"
   },
   {
    "duration": 5,
    "start_time": "2022-11-24T19:39:49.902Z"
   },
   {
    "duration": 16,
    "start_time": "2022-11-24T19:39:49.912Z"
   },
   {
    "duration": 11,
    "start_time": "2022-11-24T19:39:49.930Z"
   },
   {
    "duration": 40,
    "start_time": "2022-11-24T19:39:49.942Z"
   },
   {
    "duration": 709,
    "start_time": "2022-11-24T19:39:49.984Z"
   },
   {
    "duration": 5,
    "start_time": "2022-11-24T19:39:50.694Z"
   },
   {
    "duration": 446,
    "start_time": "2022-11-24T19:39:50.702Z"
   },
   {
    "duration": 5,
    "start_time": "2022-11-24T19:39:51.151Z"
   },
   {
    "duration": 38,
    "start_time": "2022-11-24T19:39:51.158Z"
   },
   {
    "duration": 17,
    "start_time": "2022-11-24T19:39:51.198Z"
   },
   {
    "duration": 263,
    "start_time": "2022-11-24T19:39:51.218Z"
   },
   {
    "duration": 23,
    "start_time": "2022-11-24T19:39:51.482Z"
   },
   {
    "duration": 32,
    "start_time": "2022-11-24T19:39:51.507Z"
   },
   {
    "duration": 22,
    "start_time": "2022-11-24T19:39:51.541Z"
   },
   {
    "duration": 18,
    "start_time": "2022-11-24T19:39:51.565Z"
   },
   {
    "duration": 31,
    "start_time": "2022-11-24T19:39:51.585Z"
   },
   {
    "duration": 71,
    "start_time": "2022-11-24T19:39:51.617Z"
   },
   {
    "duration": 156,
    "start_time": "2022-11-24T19:39:51.690Z"
   },
   {
    "duration": 41,
    "start_time": "2022-11-24T19:39:51.849Z"
   },
   {
    "duration": 748,
    "start_time": "2022-11-24T19:39:51.892Z"
   },
   {
    "duration": 4,
    "start_time": "2022-11-24T19:39:52.642Z"
   },
   {
    "duration": 33,
    "start_time": "2022-11-24T19:39:52.648Z"
   },
   {
    "duration": 32,
    "start_time": "2022-11-24T19:39:52.683Z"
   },
   {
    "duration": 21,
    "start_time": "2022-11-24T19:39:52.716Z"
   },
   {
    "duration": 6,
    "start_time": "2022-11-24T19:39:52.739Z"
   },
   {
    "duration": 68,
    "start_time": "2022-11-24T19:39:52.747Z"
   },
   {
    "duration": 34,
    "start_time": "2022-11-24T19:39:52.817Z"
   },
   {
    "duration": 45,
    "start_time": "2022-11-24T19:39:52.852Z"
   },
   {
    "duration": 26,
    "start_time": "2022-11-24T19:39:52.903Z"
   },
   {
    "duration": 23,
    "start_time": "2022-11-24T19:39:52.931Z"
   },
   {
    "duration": 56,
    "start_time": "2022-11-24T19:39:52.956Z"
   },
   {
    "duration": 39,
    "start_time": "2022-11-24T19:39:53.015Z"
   },
   {
    "duration": 7,
    "start_time": "2022-11-24T19:39:53.056Z"
   },
   {
    "duration": 1628,
    "start_time": "2022-11-24T19:39:53.077Z"
   },
   {
    "duration": 927,
    "start_time": "2022-11-24T19:39:54.707Z"
   },
   {
    "duration": 1361,
    "start_time": "2022-11-24T19:39:55.636Z"
   },
   {
    "duration": 38,
    "start_time": "2022-11-24T19:39:56.999Z"
   },
   {
    "duration": 6,
    "start_time": "2022-11-24T19:39:57.038Z"
   },
   {
    "duration": 44,
    "start_time": "2022-11-24T19:39:57.045Z"
   },
   {
    "duration": 30,
    "start_time": "2022-11-24T19:39:57.091Z"
   },
   {
    "duration": 41,
    "start_time": "2022-11-24T19:39:57.123Z"
   },
   {
    "duration": 1011,
    "start_time": "2022-11-24T22:04:48.976Z"
   },
   {
    "duration": 434,
    "start_time": "2022-11-24T22:04:49.989Z"
   },
   {
    "duration": 11,
    "start_time": "2022-11-24T22:04:50.425Z"
   },
   {
    "duration": 10,
    "start_time": "2022-11-24T22:04:50.438Z"
   },
   {
    "duration": 30,
    "start_time": "2022-11-24T22:04:50.449Z"
   },
   {
    "duration": 32,
    "start_time": "2022-11-24T22:04:50.480Z"
   },
   {
    "duration": 16,
    "start_time": "2022-11-24T22:04:50.514Z"
   },
   {
    "duration": 6,
    "start_time": "2022-11-24T22:04:50.532Z"
   },
   {
    "duration": 53,
    "start_time": "2022-11-24T22:04:50.539Z"
   },
   {
    "duration": 13,
    "start_time": "2022-11-24T22:04:50.595Z"
   },
   {
    "duration": 30,
    "start_time": "2022-11-24T22:04:50.610Z"
   },
   {
    "duration": 9,
    "start_time": "2022-11-24T22:04:50.642Z"
   },
   {
    "duration": 33,
    "start_time": "2022-11-24T22:04:50.653Z"
   },
   {
    "duration": 17,
    "start_time": "2022-11-24T22:04:50.688Z"
   },
   {
    "duration": 9,
    "start_time": "2022-11-24T22:04:50.707Z"
   },
   {
    "duration": 29,
    "start_time": "2022-11-24T22:04:50.718Z"
   },
   {
    "duration": 755,
    "start_time": "2022-11-24T22:04:50.749Z"
   },
   {
    "duration": 5,
    "start_time": "2022-11-24T22:04:51.506Z"
   },
   {
    "duration": 421,
    "start_time": "2022-11-24T22:04:51.513Z"
   },
   {
    "duration": 3,
    "start_time": "2022-11-24T22:04:51.935Z"
   },
   {
    "duration": 21,
    "start_time": "2022-11-24T22:04:51.940Z"
   },
   {
    "duration": 20,
    "start_time": "2022-11-24T22:04:51.962Z"
   },
   {
    "duration": 221,
    "start_time": "2022-11-24T22:04:51.984Z"
   },
   {
    "duration": 20,
    "start_time": "2022-11-24T22:04:52.206Z"
   },
   {
    "duration": 20,
    "start_time": "2022-11-24T22:04:52.227Z"
   },
   {
    "duration": 35,
    "start_time": "2022-11-24T22:04:52.249Z"
   },
   {
    "duration": 7,
    "start_time": "2022-11-24T22:04:52.286Z"
   },
   {
    "duration": 23,
    "start_time": "2022-11-24T22:04:52.297Z"
   },
   {
    "duration": 37,
    "start_time": "2022-11-24T22:04:52.322Z"
   },
   {
    "duration": 153,
    "start_time": "2022-11-24T22:04:52.378Z"
   },
   {
    "duration": 51,
    "start_time": "2022-11-24T22:04:52.533Z"
   },
   {
    "duration": 553,
    "start_time": "2022-11-24T22:04:52.585Z"
   },
   {
    "duration": 4,
    "start_time": "2022-11-24T22:04:53.140Z"
   },
   {
    "duration": 33,
    "start_time": "2022-11-24T22:04:53.146Z"
   },
   {
    "duration": 26,
    "start_time": "2022-11-24T22:04:53.181Z"
   },
   {
    "duration": 24,
    "start_time": "2022-11-24T22:04:53.208Z"
   },
   {
    "duration": 4,
    "start_time": "2022-11-24T22:04:53.234Z"
   },
   {
    "duration": 58,
    "start_time": "2022-11-24T22:04:53.240Z"
   },
   {
    "duration": 31,
    "start_time": "2022-11-24T22:04:53.300Z"
   },
   {
    "duration": 22,
    "start_time": "2022-11-24T22:04:53.333Z"
   },
   {
    "duration": 38,
    "start_time": "2022-11-24T22:04:53.357Z"
   },
   {
    "duration": 20,
    "start_time": "2022-11-24T22:04:53.397Z"
   },
   {
    "duration": 17,
    "start_time": "2022-11-24T22:04:53.419Z"
   },
   {
    "duration": 53,
    "start_time": "2022-11-24T22:04:53.437Z"
   },
   {
    "duration": 6,
    "start_time": "2022-11-24T22:04:53.492Z"
   },
   {
    "duration": 1708,
    "start_time": "2022-11-24T22:04:53.499Z"
   },
   {
    "duration": 1123,
    "start_time": "2022-11-24T22:04:55.209Z"
   },
   {
    "duration": 1409,
    "start_time": "2022-11-24T22:04:56.334Z"
   },
   {
    "duration": 39,
    "start_time": "2022-11-24T22:04:57.744Z"
   },
   {
    "duration": 6,
    "start_time": "2022-11-24T22:04:57.785Z"
   },
   {
    "duration": 29,
    "start_time": "2022-11-24T22:04:57.792Z"
   },
   {
    "duration": 31,
    "start_time": "2022-11-24T22:04:57.823Z"
   },
   {
    "duration": 37,
    "start_time": "2022-11-24T22:04:57.855Z"
   },
   {
    "duration": 13,
    "start_time": "2022-11-24T22:11:12.674Z"
   },
   {
    "duration": 3,
    "start_time": "2022-11-24T22:13:04.544Z"
   },
   {
    "duration": 3,
    "start_time": "2022-11-24T22:15:54.366Z"
   },
   {
    "duration": 5,
    "start_time": "2022-11-24T22:16:16.074Z"
   },
   {
    "duration": 20,
    "start_time": "2022-11-24T22:16:49.913Z"
   },
   {
    "duration": 4,
    "start_time": "2022-11-24T22:16:58.460Z"
   },
   {
    "duration": 10,
    "start_time": "2022-11-24T22:17:38.251Z"
   },
   {
    "duration": 12,
    "start_time": "2022-11-24T22:18:12.449Z"
   },
   {
    "duration": 29,
    "start_time": "2022-11-24T22:20:45.456Z"
   },
   {
    "duration": 3,
    "start_time": "2022-11-24T22:20:46.012Z"
   },
   {
    "duration": 5,
    "start_time": "2022-11-24T22:20:46.623Z"
   },
   {
    "duration": 25,
    "start_time": "2022-11-24T22:20:47.192Z"
   },
   {
    "duration": 9,
    "start_time": "2022-11-24T22:20:47.788Z"
   },
   {
    "duration": 33,
    "start_time": "2022-11-24T22:21:18.516Z"
   },
   {
    "duration": 13,
    "start_time": "2022-11-24T22:21:34.269Z"
   },
   {
    "duration": 4,
    "start_time": "2022-11-24T22:23:31.065Z"
   },
   {
    "duration": 5,
    "start_time": "2022-11-24T22:23:31.724Z"
   },
   {
    "duration": 17,
    "start_time": "2022-11-24T22:23:33.121Z"
   },
   {
    "duration": 16,
    "start_time": "2022-11-24T22:23:34.453Z"
   },
   {
    "duration": 9,
    "start_time": "2022-11-24T22:23:43.122Z"
   },
   {
    "duration": 4,
    "start_time": "2022-11-24T22:24:07.042Z"
   },
   {
    "duration": 75,
    "start_time": "2022-11-24T22:26:40.833Z"
   },
   {
    "duration": 975,
    "start_time": "2022-11-24T22:32:46.532Z"
   },
   {
    "duration": 382,
    "start_time": "2022-11-24T22:32:47.509Z"
   },
   {
    "duration": 11,
    "start_time": "2022-11-24T22:32:47.892Z"
   },
   {
    "duration": 8,
    "start_time": "2022-11-24T22:32:47.904Z"
   },
   {
    "duration": 18,
    "start_time": "2022-11-24T22:32:47.914Z"
   },
   {
    "duration": 54,
    "start_time": "2022-11-24T22:32:47.933Z"
   },
   {
    "duration": 16,
    "start_time": "2022-11-24T22:32:47.988Z"
   },
   {
    "duration": 4,
    "start_time": "2022-11-24T22:32:48.006Z"
   },
   {
    "duration": 36,
    "start_time": "2022-11-24T22:32:48.012Z"
   },
   {
    "duration": 28,
    "start_time": "2022-11-24T22:32:48.051Z"
   },
   {
    "duration": 31,
    "start_time": "2022-11-24T22:32:48.081Z"
   },
   {
    "duration": 12,
    "start_time": "2022-11-24T22:32:48.113Z"
   },
   {
    "duration": 11,
    "start_time": "2022-11-24T22:32:48.126Z"
   },
   {
    "duration": 20,
    "start_time": "2022-11-24T22:32:48.138Z"
   },
   {
    "duration": 19,
    "start_time": "2022-11-24T22:32:48.160Z"
   },
   {
    "duration": 23,
    "start_time": "2022-11-24T22:32:48.181Z"
   },
   {
    "duration": 712,
    "start_time": "2022-11-24T22:32:48.205Z"
   },
   {
    "duration": 5,
    "start_time": "2022-11-24T22:32:48.918Z"
   },
   {
    "duration": 436,
    "start_time": "2022-11-24T22:32:48.924Z"
   },
   {
    "duration": 3,
    "start_time": "2022-11-24T22:32:49.362Z"
   },
   {
    "duration": 24,
    "start_time": "2022-11-24T22:32:49.366Z"
   },
   {
    "duration": 12,
    "start_time": "2022-11-24T22:32:49.392Z"
   },
   {
    "duration": 217,
    "start_time": "2022-11-24T22:32:49.405Z"
   },
   {
    "duration": 20,
    "start_time": "2022-11-24T22:32:49.623Z"
   },
   {
    "duration": 16,
    "start_time": "2022-11-24T22:32:49.644Z"
   },
   {
    "duration": 30,
    "start_time": "2022-11-24T22:32:49.661Z"
   },
   {
    "duration": 7,
    "start_time": "2022-11-24T22:32:49.693Z"
   },
   {
    "duration": 20,
    "start_time": "2022-11-24T22:32:49.704Z"
   },
   {
    "duration": 60,
    "start_time": "2022-11-24T22:32:49.726Z"
   },
   {
    "duration": 147,
    "start_time": "2022-11-24T22:32:49.787Z"
   },
   {
    "duration": 45,
    "start_time": "2022-11-24T22:32:49.936Z"
   },
   {
    "duration": 540,
    "start_time": "2022-11-24T22:32:49.982Z"
   },
   {
    "duration": 4,
    "start_time": "2022-11-24T22:32:50.523Z"
   },
   {
    "duration": 26,
    "start_time": "2022-11-24T22:32:50.529Z"
   },
   {
    "duration": 39,
    "start_time": "2022-11-24T22:32:50.556Z"
   },
   {
    "duration": 21,
    "start_time": "2022-11-24T22:32:50.597Z"
   },
   {
    "duration": 5,
    "start_time": "2022-11-24T22:32:50.619Z"
   },
   {
    "duration": 36,
    "start_time": "2022-11-24T22:32:50.625Z"
   },
   {
    "duration": 41,
    "start_time": "2022-11-24T22:32:50.662Z"
   },
   {
    "duration": 21,
    "start_time": "2022-11-24T22:32:50.705Z"
   },
   {
    "duration": 20,
    "start_time": "2022-11-24T22:32:50.728Z"
   },
   {
    "duration": 50,
    "start_time": "2022-11-24T22:32:50.749Z"
   },
   {
    "duration": 18,
    "start_time": "2022-11-24T22:32:50.801Z"
   },
   {
    "duration": 29,
    "start_time": "2022-11-24T22:32:50.821Z"
   },
   {
    "duration": 30,
    "start_time": "2022-11-24T22:32:50.852Z"
   },
   {
    "duration": 1636,
    "start_time": "2022-11-24T22:32:50.883Z"
   },
   {
    "duration": 870,
    "start_time": "2022-11-24T22:32:52.520Z"
   },
   {
    "duration": 1203,
    "start_time": "2022-11-24T22:32:53.392Z"
   },
   {
    "duration": 27,
    "start_time": "2022-11-24T22:32:54.597Z"
   },
   {
    "duration": 12,
    "start_time": "2022-11-24T22:32:54.625Z"
   },
   {
    "duration": 9,
    "start_time": "2022-11-24T22:32:54.639Z"
   },
   {
    "duration": 29,
    "start_time": "2022-11-24T22:32:54.649Z"
   },
   {
    "duration": 27,
    "start_time": "2022-11-24T22:32:54.680Z"
   },
   {
    "duration": 29,
    "start_time": "2022-11-24T22:32:54.708Z"
   },
   {
    "duration": 22,
    "start_time": "2022-11-24T22:32:54.738Z"
   },
   {
    "duration": 28,
    "start_time": "2022-11-24T22:38:28.455Z"
   },
   {
    "duration": 9,
    "start_time": "2022-11-24T22:38:30.766Z"
   },
   {
    "duration": 4,
    "start_time": "2022-11-24T22:41:24.374Z"
   },
   {
    "duration": 13,
    "start_time": "2022-11-24T22:41:54.453Z"
   },
   {
    "duration": 8,
    "start_time": "2022-11-24T22:42:10.201Z"
   },
   {
    "duration": 5,
    "start_time": "2022-11-24T22:44:03.303Z"
   },
   {
    "duration": 29,
    "start_time": "2022-11-24T22:44:36.645Z"
   },
   {
    "duration": 12,
    "start_time": "2022-11-24T22:44:37.925Z"
   },
   {
    "duration": 4,
    "start_time": "2022-11-24T22:44:38.555Z"
   },
   {
    "duration": 4,
    "start_time": "2022-11-24T22:44:39.445Z"
   },
   {
    "duration": 13,
    "start_time": "2022-11-24T22:44:40.150Z"
   },
   {
    "duration": 67,
    "start_time": "2022-11-24T22:44:41.860Z"
   },
   {
    "duration": 8,
    "start_time": "2022-11-24T22:45:01.301Z"
   },
   {
    "duration": 9,
    "start_time": "2022-11-24T22:47:12.318Z"
   },
   {
    "duration": 22,
    "start_time": "2022-11-24T22:47:25.291Z"
   },
   {
    "duration": 9,
    "start_time": "2022-11-24T22:47:33.692Z"
   },
   {
    "duration": 9,
    "start_time": "2022-11-24T22:47:46.877Z"
   },
   {
    "duration": 11,
    "start_time": "2022-11-24T22:47:56.941Z"
   },
   {
    "duration": 71,
    "start_time": "2022-11-24T22:51:23.416Z"
   },
   {
    "duration": 7,
    "start_time": "2022-11-24T22:51:44.140Z"
   },
   {
    "duration": 370,
    "start_time": "2022-11-24T22:53:51.764Z"
   },
   {
    "duration": 17,
    "start_time": "2022-11-24T22:54:12.060Z"
   },
   {
    "duration": 1020,
    "start_time": "2022-11-24T22:54:36.292Z"
   },
   {
    "duration": 440,
    "start_time": "2022-11-24T22:54:37.314Z"
   },
   {
    "duration": 10,
    "start_time": "2022-11-24T22:54:37.756Z"
   },
   {
    "duration": 14,
    "start_time": "2022-11-24T22:54:37.768Z"
   },
   {
    "duration": 17,
    "start_time": "2022-11-24T22:54:37.784Z"
   },
   {
    "duration": 30,
    "start_time": "2022-11-24T22:54:37.803Z"
   },
   {
    "duration": 16,
    "start_time": "2022-11-24T22:54:37.834Z"
   },
   {
    "duration": 28,
    "start_time": "2022-11-24T22:54:37.851Z"
   },
   {
    "duration": 39,
    "start_time": "2022-11-24T22:54:37.880Z"
   },
   {
    "duration": 13,
    "start_time": "2022-11-24T22:54:37.922Z"
   },
   {
    "duration": 43,
    "start_time": "2022-11-24T22:54:37.936Z"
   },
   {
    "duration": 9,
    "start_time": "2022-11-24T22:54:37.981Z"
   },
   {
    "duration": 6,
    "start_time": "2022-11-24T22:54:37.991Z"
   },
   {
    "duration": 16,
    "start_time": "2022-11-24T22:54:37.999Z"
   },
   {
    "duration": 9,
    "start_time": "2022-11-24T22:54:38.017Z"
   },
   {
    "duration": 25,
    "start_time": "2022-11-24T22:54:38.028Z"
   },
   {
    "duration": 696,
    "start_time": "2022-11-24T22:54:38.055Z"
   },
   {
    "duration": 4,
    "start_time": "2022-11-24T22:54:38.752Z"
   },
   {
    "duration": 425,
    "start_time": "2022-11-24T22:54:38.758Z"
   },
   {
    "duration": 3,
    "start_time": "2022-11-24T22:54:39.184Z"
   },
   {
    "duration": 18,
    "start_time": "2022-11-24T22:54:39.188Z"
   },
   {
    "duration": 13,
    "start_time": "2022-11-24T22:54:39.207Z"
   },
   {
    "duration": 221,
    "start_time": "2022-11-24T22:54:39.221Z"
   },
   {
    "duration": 18,
    "start_time": "2022-11-24T22:54:39.444Z"
   },
   {
    "duration": 24,
    "start_time": "2022-11-24T22:54:39.464Z"
   },
   {
    "duration": 14,
    "start_time": "2022-11-24T22:54:39.490Z"
   },
   {
    "duration": 6,
    "start_time": "2022-11-24T22:54:39.506Z"
   },
   {
    "duration": 19,
    "start_time": "2022-11-24T22:54:39.515Z"
   },
   {
    "duration": 64,
    "start_time": "2022-11-24T22:54:39.535Z"
   },
   {
    "duration": 150,
    "start_time": "2022-11-24T22:54:39.601Z"
   },
   {
    "duration": 40,
    "start_time": "2022-11-24T22:54:39.752Z"
   },
   {
    "duration": 517,
    "start_time": "2022-11-24T22:54:39.793Z"
   },
   {
    "duration": 4,
    "start_time": "2022-11-24T22:54:40.312Z"
   },
   {
    "duration": 24,
    "start_time": "2022-11-24T22:54:40.317Z"
   },
   {
    "duration": 36,
    "start_time": "2022-11-24T22:54:40.342Z"
   },
   {
    "duration": 20,
    "start_time": "2022-11-24T22:54:40.379Z"
   },
   {
    "duration": 4,
    "start_time": "2022-11-24T22:54:40.401Z"
   },
   {
    "duration": 32,
    "start_time": "2022-11-24T22:54:40.406Z"
   },
   {
    "duration": 43,
    "start_time": "2022-11-24T22:54:40.440Z"
   },
   {
    "duration": 20,
    "start_time": "2022-11-24T22:54:40.484Z"
   },
   {
    "duration": 19,
    "start_time": "2022-11-24T22:54:40.506Z"
   },
   {
    "duration": 18,
    "start_time": "2022-11-24T22:54:40.527Z"
   },
   {
    "duration": 44,
    "start_time": "2022-11-24T22:54:40.547Z"
   },
   {
    "duration": 31,
    "start_time": "2022-11-24T22:54:40.592Z"
   },
   {
    "duration": 5,
    "start_time": "2022-11-24T22:54:40.625Z"
   },
   {
    "duration": 1410,
    "start_time": "2022-11-24T22:54:40.631Z"
   },
   {
    "duration": 897,
    "start_time": "2022-11-24T22:54:42.043Z"
   },
   {
    "duration": 1229,
    "start_time": "2022-11-24T22:54:42.941Z"
   },
   {
    "duration": 31,
    "start_time": "2022-11-24T22:54:44.171Z"
   },
   {
    "duration": 10,
    "start_time": "2022-11-24T22:54:44.204Z"
   },
   {
    "duration": 4,
    "start_time": "2022-11-24T22:54:44.215Z"
   },
   {
    "duration": 8,
    "start_time": "2022-11-24T22:54:44.220Z"
   },
   {
    "duration": 24,
    "start_time": "2022-11-24T22:54:44.230Z"
   },
   {
    "duration": 29,
    "start_time": "2022-11-24T22:54:44.277Z"
   },
   {
    "duration": 21,
    "start_time": "2022-11-24T22:54:44.308Z"
   },
   {
    "duration": 1077,
    "start_time": "2022-11-24T22:55:15.654Z"
   },
   {
    "duration": 358,
    "start_time": "2022-11-24T22:55:16.733Z"
   },
   {
    "duration": 11,
    "start_time": "2022-11-24T22:55:17.095Z"
   },
   {
    "duration": 23,
    "start_time": "2022-11-24T22:55:17.108Z"
   },
   {
    "duration": 37,
    "start_time": "2022-11-24T22:55:17.133Z"
   },
   {
    "duration": 48,
    "start_time": "2022-11-24T22:55:17.172Z"
   },
   {
    "duration": 18,
    "start_time": "2022-11-24T22:55:17.222Z"
   },
   {
    "duration": 32,
    "start_time": "2022-11-24T22:55:17.241Z"
   },
   {
    "duration": 56,
    "start_time": "2022-11-24T22:55:17.274Z"
   },
   {
    "duration": 43,
    "start_time": "2022-11-24T22:55:17.332Z"
   },
   {
    "duration": 47,
    "start_time": "2022-11-24T22:55:17.376Z"
   },
   {
    "duration": 10,
    "start_time": "2022-11-24T22:55:17.425Z"
   },
   {
    "duration": 25,
    "start_time": "2022-11-24T22:55:17.438Z"
   },
   {
    "duration": 33,
    "start_time": "2022-11-24T22:55:17.465Z"
   },
   {
    "duration": 27,
    "start_time": "2022-11-24T22:55:17.500Z"
   },
   {
    "duration": 39,
    "start_time": "2022-11-24T22:55:17.530Z"
   },
   {
    "duration": 689,
    "start_time": "2022-11-24T22:55:17.571Z"
   },
   {
    "duration": 6,
    "start_time": "2022-11-24T22:55:18.262Z"
   },
   {
    "duration": 468,
    "start_time": "2022-11-24T22:55:18.279Z"
   },
   {
    "duration": 3,
    "start_time": "2022-11-24T22:55:18.749Z"
   },
   {
    "duration": 40,
    "start_time": "2022-11-24T22:55:18.753Z"
   },
   {
    "duration": 38,
    "start_time": "2022-11-24T22:55:18.795Z"
   },
   {
    "duration": 233,
    "start_time": "2022-11-24T22:55:18.834Z"
   },
   {
    "duration": 27,
    "start_time": "2022-11-24T22:55:19.069Z"
   },
   {
    "duration": 43,
    "start_time": "2022-11-24T22:55:19.098Z"
   },
   {
    "duration": 22,
    "start_time": "2022-11-24T22:55:19.143Z"
   },
   {
    "duration": 24,
    "start_time": "2022-11-24T22:55:19.166Z"
   },
   {
    "duration": 47,
    "start_time": "2022-11-24T22:55:19.191Z"
   },
   {
    "duration": 57,
    "start_time": "2022-11-24T22:55:19.240Z"
   },
   {
    "duration": 152,
    "start_time": "2022-11-24T22:55:19.298Z"
   },
   {
    "duration": 46,
    "start_time": "2022-11-24T22:55:19.452Z"
   },
   {
    "duration": 517,
    "start_time": "2022-11-24T22:55:19.499Z"
   },
   {
    "duration": 4,
    "start_time": "2022-11-24T22:55:20.018Z"
   },
   {
    "duration": 50,
    "start_time": "2022-11-24T22:55:20.024Z"
   },
   {
    "duration": 31,
    "start_time": "2022-11-24T22:55:20.075Z"
   },
   {
    "duration": 22,
    "start_time": "2022-11-24T22:55:20.108Z"
   },
   {
    "duration": 24,
    "start_time": "2022-11-24T22:55:20.131Z"
   },
   {
    "duration": 58,
    "start_time": "2022-11-24T22:55:20.156Z"
   },
   {
    "duration": 31,
    "start_time": "2022-11-24T22:55:20.215Z"
   },
   {
    "duration": 22,
    "start_time": "2022-11-24T22:55:20.249Z"
   },
   {
    "duration": 23,
    "start_time": "2022-11-24T22:55:20.272Z"
   },
   {
    "duration": 21,
    "start_time": "2022-11-24T22:55:20.296Z"
   },
   {
    "duration": 25,
    "start_time": "2022-11-24T22:55:20.318Z"
   },
   {
    "duration": 56,
    "start_time": "2022-11-24T22:55:20.344Z"
   },
   {
    "duration": 6,
    "start_time": "2022-11-24T22:55:20.402Z"
   },
   {
    "duration": 1468,
    "start_time": "2022-11-24T22:55:20.410Z"
   },
   {
    "duration": 847,
    "start_time": "2022-11-24T22:55:21.880Z"
   },
   {
    "duration": 1113,
    "start_time": "2022-11-24T22:55:22.728Z"
   },
   {
    "duration": 27,
    "start_time": "2022-11-24T22:55:23.843Z"
   },
   {
    "duration": 14,
    "start_time": "2022-11-24T22:55:23.877Z"
   },
   {
    "duration": 12,
    "start_time": "2022-11-24T22:55:23.893Z"
   },
   {
    "duration": 13,
    "start_time": "2022-11-24T22:55:23.907Z"
   },
   {
    "duration": 35,
    "start_time": "2022-11-24T22:55:23.921Z"
   },
   {
    "duration": 46,
    "start_time": "2022-11-24T22:55:23.958Z"
   },
   {
    "duration": 20,
    "start_time": "2022-11-24T22:55:24.006Z"
   },
   {
    "duration": 3,
    "start_time": "2022-11-24T22:56:11.296Z"
   },
   {
    "duration": 4,
    "start_time": "2022-11-24T22:56:18.598Z"
   },
   {
    "duration": 4,
    "start_time": "2022-11-24T22:57:11.040Z"
   },
   {
    "duration": 2,
    "start_time": "2022-11-24T22:57:28.348Z"
   },
   {
    "duration": 2,
    "start_time": "2022-11-24T22:57:44.759Z"
   },
   {
    "duration": 3,
    "start_time": "2022-11-24T22:57:46.790Z"
   },
   {
    "duration": 4,
    "start_time": "2022-11-24T22:57:51.972Z"
   },
   {
    "duration": 4,
    "start_time": "2022-11-24T22:57:52.440Z"
   },
   {
    "duration": 4,
    "start_time": "2022-11-24T22:58:09.155Z"
   },
   {
    "duration": 3,
    "start_time": "2022-11-24T22:58:09.633Z"
   },
   {
    "duration": 4,
    "start_time": "2022-11-24T22:58:45.148Z"
   },
   {
    "duration": 16,
    "start_time": "2022-11-24T22:59:26.940Z"
   },
   {
    "duration": 14,
    "start_time": "2022-11-24T22:59:36.729Z"
   },
   {
    "duration": 3,
    "start_time": "2022-11-24T23:02:47.298Z"
   },
   {
    "duration": 11,
    "start_time": "2022-11-24T23:04:26.496Z"
   },
   {
    "duration": 17,
    "start_time": "2022-11-24T23:05:02.310Z"
   },
   {
    "duration": 1034,
    "start_time": "2022-11-24T23:05:23.965Z"
   },
   {
    "duration": 323,
    "start_time": "2022-11-24T23:05:25.001Z"
   },
   {
    "duration": 10,
    "start_time": "2022-11-24T23:05:25.325Z"
   },
   {
    "duration": 8,
    "start_time": "2022-11-24T23:05:25.337Z"
   },
   {
    "duration": 21,
    "start_time": "2022-11-24T23:05:25.346Z"
   },
   {
    "duration": 30,
    "start_time": "2022-11-24T23:05:25.378Z"
   },
   {
    "duration": 16,
    "start_time": "2022-11-24T23:05:25.410Z"
   },
   {
    "duration": 5,
    "start_time": "2022-11-24T23:05:25.427Z"
   },
   {
    "duration": 52,
    "start_time": "2022-11-24T23:05:25.434Z"
   },
   {
    "duration": 17,
    "start_time": "2022-11-24T23:05:25.488Z"
   },
   {
    "duration": 30,
    "start_time": "2022-11-24T23:05:25.507Z"
   },
   {
    "duration": 9,
    "start_time": "2022-11-24T23:05:25.538Z"
   },
   {
    "duration": 6,
    "start_time": "2022-11-24T23:05:25.549Z"
   },
   {
    "duration": 31,
    "start_time": "2022-11-24T23:05:25.556Z"
   },
   {
    "duration": 9,
    "start_time": "2022-11-24T23:05:25.589Z"
   },
   {
    "duration": 33,
    "start_time": "2022-11-24T23:05:25.599Z"
   },
   {
    "duration": 731,
    "start_time": "2022-11-24T23:05:25.633Z"
   },
   {
    "duration": 12,
    "start_time": "2022-11-24T23:05:26.366Z"
   },
   {
    "duration": 427,
    "start_time": "2022-11-24T23:05:26.379Z"
   },
   {
    "duration": 3,
    "start_time": "2022-11-24T23:05:26.807Z"
   },
   {
    "duration": 17,
    "start_time": "2022-11-24T23:05:26.812Z"
   },
   {
    "duration": 13,
    "start_time": "2022-11-24T23:05:26.830Z"
   },
   {
    "duration": 221,
    "start_time": "2022-11-24T23:05:26.844Z"
   },
   {
    "duration": 22,
    "start_time": "2022-11-24T23:05:27.067Z"
   },
   {
    "duration": 17,
    "start_time": "2022-11-24T23:05:27.091Z"
   },
   {
    "duration": 16,
    "start_time": "2022-11-24T23:05:27.110Z"
   },
   {
    "duration": 8,
    "start_time": "2022-11-24T23:05:27.127Z"
   },
   {
    "duration": 49,
    "start_time": "2022-11-24T23:05:27.139Z"
   },
   {
    "duration": 37,
    "start_time": "2022-11-24T23:05:27.190Z"
   },
   {
    "duration": 164,
    "start_time": "2022-11-24T23:05:27.228Z"
   },
   {
    "duration": 34,
    "start_time": "2022-11-24T23:05:27.394Z"
   },
   {
    "duration": 520,
    "start_time": "2022-11-24T23:05:27.430Z"
   },
   {
    "duration": 4,
    "start_time": "2022-11-24T23:05:27.951Z"
   },
   {
    "duration": 30,
    "start_time": "2022-11-24T23:05:27.957Z"
   },
   {
    "duration": 21,
    "start_time": "2022-11-24T23:05:27.989Z"
   },
   {
    "duration": 21,
    "start_time": "2022-11-24T23:05:28.012Z"
   },
   {
    "duration": 4,
    "start_time": "2022-11-24T23:05:28.035Z"
   },
   {
    "duration": 54,
    "start_time": "2022-11-24T23:05:28.041Z"
   },
   {
    "duration": 31,
    "start_time": "2022-11-24T23:05:28.097Z"
   },
   {
    "duration": 21,
    "start_time": "2022-11-24T23:05:28.129Z"
   },
   {
    "duration": 39,
    "start_time": "2022-11-24T23:05:28.152Z"
   },
   {
    "duration": 19,
    "start_time": "2022-11-24T23:05:28.193Z"
   },
   {
    "duration": 18,
    "start_time": "2022-11-24T23:05:28.213Z"
   },
   {
    "duration": 53,
    "start_time": "2022-11-24T23:05:28.233Z"
   },
   {
    "duration": 6,
    "start_time": "2022-11-24T23:05:28.287Z"
   },
   {
    "duration": 1549,
    "start_time": "2022-11-24T23:05:28.294Z"
   },
   {
    "duration": 897,
    "start_time": "2022-11-24T23:05:29.844Z"
   },
   {
    "duration": 1169,
    "start_time": "2022-11-24T23:05:30.743Z"
   },
   {
    "duration": 27,
    "start_time": "2022-11-24T23:05:31.914Z"
   },
   {
    "duration": 10,
    "start_time": "2022-11-24T23:05:31.942Z"
   },
   {
    "duration": 30,
    "start_time": "2022-11-24T23:05:31.954Z"
   },
   {
    "duration": 6,
    "start_time": "2022-11-24T23:05:31.985Z"
   },
   {
    "duration": 26,
    "start_time": "2022-11-24T23:05:31.992Z"
   },
   {
    "duration": 29,
    "start_time": "2022-11-24T23:05:32.020Z"
   },
   {
    "duration": 38,
    "start_time": "2022-11-24T23:05:32.051Z"
   },
   {
    "duration": 4,
    "start_time": "2022-11-24T23:05:32.091Z"
   },
   {
    "duration": 10,
    "start_time": "2022-11-24T23:05:32.096Z"
   },
   {
    "duration": 6,
    "start_time": "2022-11-24T23:05:32.107Z"
   },
   {
    "duration": 1065,
    "start_time": "2022-11-24T23:07:33.644Z"
   },
   {
    "duration": 356,
    "start_time": "2022-11-24T23:07:34.711Z"
   },
   {
    "duration": 10,
    "start_time": "2022-11-24T23:07:35.069Z"
   },
   {
    "duration": 16,
    "start_time": "2022-11-24T23:07:35.081Z"
   },
   {
    "duration": 22,
    "start_time": "2022-11-24T23:07:35.098Z"
   },
   {
    "duration": 33,
    "start_time": "2022-11-24T23:07:35.121Z"
   },
   {
    "duration": 23,
    "start_time": "2022-11-24T23:07:35.155Z"
   },
   {
    "duration": 3,
    "start_time": "2022-11-24T23:07:35.179Z"
   },
   {
    "duration": 38,
    "start_time": "2022-11-24T23:07:35.183Z"
   },
   {
    "duration": 14,
    "start_time": "2022-11-24T23:07:35.223Z"
   },
   {
    "duration": 53,
    "start_time": "2022-11-24T23:07:35.238Z"
   },
   {
    "duration": 10,
    "start_time": "2022-11-24T23:07:35.293Z"
   },
   {
    "duration": 5,
    "start_time": "2022-11-24T23:07:35.305Z"
   },
   {
    "duration": 16,
    "start_time": "2022-11-24T23:07:35.312Z"
   },
   {
    "duration": 9,
    "start_time": "2022-11-24T23:07:35.330Z"
   },
   {
    "duration": 41,
    "start_time": "2022-11-24T23:07:35.341Z"
   },
   {
    "duration": 716,
    "start_time": "2022-11-24T23:07:35.383Z"
   },
   {
    "duration": 4,
    "start_time": "2022-11-24T23:07:36.101Z"
   },
   {
    "duration": 414,
    "start_time": "2022-11-24T23:07:36.106Z"
   },
   {
    "duration": 3,
    "start_time": "2022-11-24T23:07:36.522Z"
   },
   {
    "duration": 18,
    "start_time": "2022-11-24T23:07:36.526Z"
   },
   {
    "duration": 12,
    "start_time": "2022-11-24T23:07:36.546Z"
   },
   {
    "duration": 250,
    "start_time": "2022-11-24T23:07:36.560Z"
   },
   {
    "duration": 23,
    "start_time": "2022-11-24T23:07:36.812Z"
   },
   {
    "duration": 20,
    "start_time": "2022-11-24T23:07:36.836Z"
   },
   {
    "duration": 37,
    "start_time": "2022-11-24T23:07:36.858Z"
   },
   {
    "duration": 9,
    "start_time": "2022-11-24T23:07:36.897Z"
   },
   {
    "duration": 24,
    "start_time": "2022-11-24T23:07:36.910Z"
   },
   {
    "duration": 71,
    "start_time": "2022-11-24T23:07:36.936Z"
   },
   {
    "duration": 174,
    "start_time": "2022-11-24T23:07:37.008Z"
   },
   {
    "duration": 39,
    "start_time": "2022-11-24T23:07:37.184Z"
   },
   {
    "duration": 531,
    "start_time": "2022-11-24T23:07:37.279Z"
   },
   {
    "duration": 4,
    "start_time": "2022-11-24T23:07:37.812Z"
   },
   {
    "duration": 25,
    "start_time": "2022-11-24T23:07:37.817Z"
   },
   {
    "duration": 37,
    "start_time": "2022-11-24T23:07:37.843Z"
   },
   {
    "duration": 20,
    "start_time": "2022-11-24T23:07:37.882Z"
   },
   {
    "duration": 4,
    "start_time": "2022-11-24T23:07:37.904Z"
   },
   {
    "duration": 32,
    "start_time": "2022-11-24T23:07:37.909Z"
   },
   {
    "duration": 49,
    "start_time": "2022-11-24T23:07:37.942Z"
   },
   {
    "duration": 23,
    "start_time": "2022-11-24T23:07:37.993Z"
   },
   {
    "duration": 19,
    "start_time": "2022-11-24T23:07:38.017Z"
   },
   {
    "duration": 46,
    "start_time": "2022-11-24T23:07:38.037Z"
   },
   {
    "duration": 17,
    "start_time": "2022-11-24T23:07:38.085Z"
   },
   {
    "duration": 29,
    "start_time": "2022-11-24T23:07:38.104Z"
   },
   {
    "duration": 5,
    "start_time": "2022-11-24T23:07:38.135Z"
   },
   {
    "duration": 1537,
    "start_time": "2022-11-24T23:07:38.141Z"
   },
   {
    "duration": 859,
    "start_time": "2022-11-24T23:07:39.680Z"
   },
   {
    "duration": 1162,
    "start_time": "2022-11-24T23:07:40.541Z"
   },
   {
    "duration": 28,
    "start_time": "2022-11-24T23:07:41.705Z"
   },
   {
    "duration": 11,
    "start_time": "2022-11-24T23:07:41.734Z"
   },
   {
    "duration": 34,
    "start_time": "2022-11-24T23:07:41.747Z"
   },
   {
    "duration": 6,
    "start_time": "2022-11-24T23:07:41.782Z"
   },
   {
    "duration": 25,
    "start_time": "2022-11-24T23:07:41.789Z"
   },
   {
    "duration": 28,
    "start_time": "2022-11-24T23:07:41.815Z"
   },
   {
    "duration": 107,
    "start_time": "2022-11-24T23:07:41.845Z"
   },
   {
    "duration": 0,
    "start_time": "2022-11-24T23:07:41.954Z"
   },
   {
    "duration": 0,
    "start_time": "2022-11-24T23:07:41.955Z"
   },
   {
    "duration": 0,
    "start_time": "2022-11-24T23:07:41.956Z"
   },
   {
    "duration": 23,
    "start_time": "2022-11-24T23:08:16.550Z"
   },
   {
    "duration": 17,
    "start_time": "2022-11-24T23:09:30.465Z"
   },
   {
    "duration": 85,
    "start_time": "2022-11-24T23:10:46.468Z"
   },
   {
    "duration": 11,
    "start_time": "2022-11-24T23:10:52.942Z"
   },
   {
    "duration": 94,
    "start_time": "2022-11-24T23:11:37.790Z"
   },
   {
    "duration": 1096,
    "start_time": "2022-11-24T23:16:54.980Z"
   },
   {
    "duration": 523,
    "start_time": "2022-11-24T23:16:56.078Z"
   },
   {
    "duration": 11,
    "start_time": "2022-11-24T23:16:56.603Z"
   },
   {
    "duration": 12,
    "start_time": "2022-11-24T23:16:56.617Z"
   },
   {
    "duration": 24,
    "start_time": "2022-11-24T23:16:56.631Z"
   },
   {
    "duration": 50,
    "start_time": "2022-11-24T23:16:56.657Z"
   },
   {
    "duration": 20,
    "start_time": "2022-11-24T23:16:56.708Z"
   },
   {
    "duration": 6,
    "start_time": "2022-11-24T23:16:56.730Z"
   },
   {
    "duration": 62,
    "start_time": "2022-11-24T23:16:56.738Z"
   },
   {
    "duration": 16,
    "start_time": "2022-11-24T23:16:56.804Z"
   },
   {
    "duration": 56,
    "start_time": "2022-11-24T23:16:56.822Z"
   },
   {
    "duration": 11,
    "start_time": "2022-11-24T23:16:56.880Z"
   },
   {
    "duration": 7,
    "start_time": "2022-11-24T23:16:56.893Z"
   },
   {
    "duration": 20,
    "start_time": "2022-11-24T23:16:56.902Z"
   },
   {
    "duration": 15,
    "start_time": "2022-11-24T23:16:56.924Z"
   },
   {
    "duration": 49,
    "start_time": "2022-11-24T23:16:56.941Z"
   },
   {
    "duration": 764,
    "start_time": "2022-11-24T23:16:56.992Z"
   },
   {
    "duration": 6,
    "start_time": "2022-11-24T23:16:57.757Z"
   },
   {
    "duration": 462,
    "start_time": "2022-11-24T23:16:57.764Z"
   },
   {
    "duration": 4,
    "start_time": "2022-11-24T23:16:58.228Z"
   },
   {
    "duration": 15,
    "start_time": "2022-11-24T23:16:58.234Z"
   },
   {
    "duration": 33,
    "start_time": "2022-11-24T23:16:58.251Z"
   },
   {
    "duration": 242,
    "start_time": "2022-11-24T23:16:58.286Z"
   },
   {
    "duration": 23,
    "start_time": "2022-11-24T23:16:58.530Z"
   },
   {
    "duration": 36,
    "start_time": "2022-11-24T23:16:58.554Z"
   },
   {
    "duration": 19,
    "start_time": "2022-11-24T23:16:58.591Z"
   },
   {
    "duration": 7,
    "start_time": "2022-11-24T23:16:58.612Z"
   },
   {
    "duration": 19,
    "start_time": "2022-11-24T23:16:58.623Z"
   },
   {
    "duration": 74,
    "start_time": "2022-11-24T23:16:58.644Z"
   },
   {
    "duration": 185,
    "start_time": "2022-11-24T23:16:58.719Z"
   },
   {
    "duration": 77,
    "start_time": "2022-11-24T23:16:58.905Z"
   },
   {
    "duration": 618,
    "start_time": "2022-11-24T23:16:58.984Z"
   },
   {
    "duration": 5,
    "start_time": "2022-11-24T23:16:59.603Z"
   },
   {
    "duration": 30,
    "start_time": "2022-11-24T23:16:59.610Z"
   },
   {
    "duration": 42,
    "start_time": "2022-11-24T23:16:59.642Z"
   },
   {
    "duration": 23,
    "start_time": "2022-11-24T23:16:59.686Z"
   },
   {
    "duration": 5,
    "start_time": "2022-11-24T23:16:59.710Z"
   },
   {
    "duration": 46,
    "start_time": "2022-11-24T23:16:59.717Z"
   },
   {
    "duration": 47,
    "start_time": "2022-11-24T23:16:59.765Z"
   },
   {
    "duration": 25,
    "start_time": "2022-11-24T23:16:59.814Z"
   },
   {
    "duration": 44,
    "start_time": "2022-11-24T23:16:59.841Z"
   },
   {
    "duration": 22,
    "start_time": "2022-11-24T23:16:59.887Z"
   },
   {
    "duration": 20,
    "start_time": "2022-11-24T23:16:59.910Z"
   },
   {
    "duration": 58,
    "start_time": "2022-11-24T23:16:59.932Z"
   },
   {
    "duration": 6,
    "start_time": "2022-11-24T23:16:59.992Z"
   },
   {
    "duration": 1725,
    "start_time": "2022-11-24T23:17:00.000Z"
   },
   {
    "duration": 904,
    "start_time": "2022-11-24T23:17:01.727Z"
   },
   {
    "duration": 1129,
    "start_time": "2022-11-24T23:17:02.633Z"
   },
   {
    "duration": 34,
    "start_time": "2022-11-24T23:17:03.763Z"
   },
   {
    "duration": 11,
    "start_time": "2022-11-24T23:17:03.799Z"
   },
   {
    "duration": 19,
    "start_time": "2022-11-24T23:17:03.812Z"
   },
   {
    "duration": 5,
    "start_time": "2022-11-24T23:17:03.832Z"
   },
   {
    "duration": 50,
    "start_time": "2022-11-24T23:17:03.839Z"
   },
   {
    "duration": 37,
    "start_time": "2022-11-24T23:17:03.891Z"
   },
   {
    "duration": 17,
    "start_time": "2022-11-24T23:17:03.930Z"
   },
   {
    "duration": 43,
    "start_time": "2022-11-24T23:17:03.949Z"
   },
   {
    "duration": 10,
    "start_time": "2022-11-24T23:17:03.994Z"
   },
   {
    "duration": 21,
    "start_time": "2022-11-24T23:17:04.006Z"
   },
   {
    "duration": 10,
    "start_time": "2022-11-24T23:17:04.029Z"
   },
   {
    "duration": 994,
    "start_time": "2022-11-25T00:13:46.588Z"
   },
   {
    "duration": 433,
    "start_time": "2022-11-25T00:13:47.584Z"
   },
   {
    "duration": 10,
    "start_time": "2022-11-25T00:13:48.019Z"
   },
   {
    "duration": 12,
    "start_time": "2022-11-25T00:13:48.031Z"
   },
   {
    "duration": 17,
    "start_time": "2022-11-25T00:13:48.045Z"
   },
   {
    "duration": 31,
    "start_time": "2022-11-25T00:13:48.077Z"
   },
   {
    "duration": 16,
    "start_time": "2022-11-25T00:13:48.109Z"
   },
   {
    "duration": 6,
    "start_time": "2022-11-25T00:13:48.126Z"
   },
   {
    "duration": 52,
    "start_time": "2022-11-25T00:13:48.133Z"
   },
   {
    "duration": 14,
    "start_time": "2022-11-25T00:13:48.187Z"
   },
   {
    "duration": 31,
    "start_time": "2022-11-25T00:13:48.202Z"
   },
   {
    "duration": 10,
    "start_time": "2022-11-25T00:13:48.234Z"
   },
   {
    "duration": 8,
    "start_time": "2022-11-25T00:13:48.246Z"
   },
   {
    "duration": 34,
    "start_time": "2022-11-25T00:13:48.256Z"
   },
   {
    "duration": 14,
    "start_time": "2022-11-25T00:13:48.291Z"
   },
   {
    "duration": 28,
    "start_time": "2022-11-25T00:13:48.306Z"
   },
   {
    "duration": 685,
    "start_time": "2022-11-25T00:13:48.336Z"
   },
   {
    "duration": 5,
    "start_time": "2022-11-25T00:13:49.022Z"
   },
   {
    "duration": 418,
    "start_time": "2022-11-25T00:13:49.029Z"
   },
   {
    "duration": 3,
    "start_time": "2022-11-25T00:13:49.449Z"
   },
   {
    "duration": 25,
    "start_time": "2022-11-25T00:13:49.453Z"
   },
   {
    "duration": 13,
    "start_time": "2022-11-25T00:13:49.479Z"
   },
   {
    "duration": 215,
    "start_time": "2022-11-25T00:13:49.494Z"
   },
   {
    "duration": 18,
    "start_time": "2022-11-25T00:13:49.711Z"
   },
   {
    "duration": 15,
    "start_time": "2022-11-25T00:13:49.731Z"
   },
   {
    "duration": 34,
    "start_time": "2022-11-25T00:13:49.747Z"
   },
   {
    "duration": 7,
    "start_time": "2022-11-25T00:13:49.782Z"
   },
   {
    "duration": 18,
    "start_time": "2022-11-25T00:13:49.793Z"
   },
   {
    "duration": 37,
    "start_time": "2022-11-25T00:13:49.813Z"
   },
   {
    "duration": 156,
    "start_time": "2022-11-25T00:13:49.851Z"
   },
   {
    "duration": 34,
    "start_time": "2022-11-25T00:13:50.009Z"
   },
   {
    "duration": 507,
    "start_time": "2022-11-25T00:13:50.078Z"
   },
   {
    "duration": 4,
    "start_time": "2022-11-25T00:13:50.587Z"
   },
   {
    "duration": 26,
    "start_time": "2022-11-25T00:13:50.592Z"
   },
   {
    "duration": 21,
    "start_time": "2022-11-25T00:13:50.619Z"
   },
   {
    "duration": 40,
    "start_time": "2022-11-25T00:13:50.642Z"
   },
   {
    "duration": 4,
    "start_time": "2022-11-25T00:13:50.683Z"
   },
   {
    "duration": 33,
    "start_time": "2022-11-25T00:13:50.689Z"
   },
   {
    "duration": 29,
    "start_time": "2022-11-25T00:13:50.724Z"
   },
   {
    "duration": 40,
    "start_time": "2022-11-25T00:13:50.755Z"
   },
   {
    "duration": 18,
    "start_time": "2022-11-25T00:13:50.797Z"
   },
   {
    "duration": 20,
    "start_time": "2022-11-25T00:13:50.817Z"
   },
   {
    "duration": 41,
    "start_time": "2022-11-25T00:13:50.838Z"
   },
   {
    "duration": 29,
    "start_time": "2022-11-25T00:13:50.880Z"
   },
   {
    "duration": 5,
    "start_time": "2022-11-25T00:13:50.911Z"
   },
   {
    "duration": 1480,
    "start_time": "2022-11-25T00:13:50.918Z"
   },
   {
    "duration": 813,
    "start_time": "2022-11-25T00:13:52.400Z"
   },
   {
    "duration": 1130,
    "start_time": "2022-11-25T00:13:53.215Z"
   },
   {
    "duration": 35,
    "start_time": "2022-11-25T00:13:54.347Z"
   },
   {
    "duration": 10,
    "start_time": "2022-11-25T00:13:54.384Z"
   },
   {
    "duration": 16,
    "start_time": "2022-11-25T00:13:54.395Z"
   },
   {
    "duration": 5,
    "start_time": "2022-11-25T00:13:54.412Z"
   },
   {
    "duration": 24,
    "start_time": "2022-11-25T00:13:54.419Z"
   },
   {
    "duration": 51,
    "start_time": "2022-11-25T00:13:54.445Z"
   },
   {
    "duration": 9,
    "start_time": "2022-11-25T00:13:54.498Z"
   },
   {
    "duration": 23,
    "start_time": "2022-11-25T00:13:54.508Z"
   },
   {
    "duration": 1083,
    "start_time": "2022-11-25T11:30:04.830Z"
   },
   {
    "duration": 407,
    "start_time": "2022-11-25T11:30:05.915Z"
   },
   {
    "duration": 15,
    "start_time": "2022-11-25T11:30:06.323Z"
   },
   {
    "duration": 8,
    "start_time": "2022-11-25T11:30:06.340Z"
   },
   {
    "duration": 27,
    "start_time": "2022-11-25T11:30:06.350Z"
   },
   {
    "duration": 30,
    "start_time": "2022-11-25T11:30:06.379Z"
   },
   {
    "duration": 33,
    "start_time": "2022-11-25T11:30:06.411Z"
   },
   {
    "duration": 4,
    "start_time": "2022-11-25T11:30:06.446Z"
   },
   {
    "duration": 40,
    "start_time": "2022-11-25T11:30:06.452Z"
   },
   {
    "duration": 18,
    "start_time": "2022-11-25T11:30:06.495Z"
   },
   {
    "duration": 36,
    "start_time": "2022-11-25T11:30:06.537Z"
   },
   {
    "duration": 13,
    "start_time": "2022-11-25T11:30:06.575Z"
   },
   {
    "duration": 3,
    "start_time": "2022-11-25T11:30:06.590Z"
   },
   {
    "duration": 18,
    "start_time": "2022-11-25T11:30:06.594Z"
   },
   {
    "duration": 30,
    "start_time": "2022-11-25T11:30:06.614Z"
   },
   {
    "duration": 23,
    "start_time": "2022-11-25T11:30:06.646Z"
   },
   {
    "duration": 716,
    "start_time": "2022-11-25T11:30:06.671Z"
   },
   {
    "duration": 5,
    "start_time": "2022-11-25T11:30:07.388Z"
   },
   {
    "duration": 435,
    "start_time": "2022-11-25T11:30:07.394Z"
   },
   {
    "duration": 3,
    "start_time": "2022-11-25T11:30:07.838Z"
   },
   {
    "duration": 19,
    "start_time": "2022-11-25T11:30:07.843Z"
   },
   {
    "duration": 16,
    "start_time": "2022-11-25T11:30:07.864Z"
   },
   {
    "duration": 242,
    "start_time": "2022-11-25T11:30:07.882Z"
   },
   {
    "duration": 30,
    "start_time": "2022-11-25T11:30:08.126Z"
   },
   {
    "duration": 19,
    "start_time": "2022-11-25T11:30:08.158Z"
   },
   {
    "duration": 16,
    "start_time": "2022-11-25T11:30:08.178Z"
   },
   {
    "duration": 8,
    "start_time": "2022-11-25T11:30:08.196Z"
   },
   {
    "duration": 21,
    "start_time": "2022-11-25T11:30:08.237Z"
   },
   {
    "duration": 39,
    "start_time": "2022-11-25T11:30:08.260Z"
   },
   {
    "duration": 440,
    "start_time": "2022-11-25T11:30:08.301Z"
   },
   {
    "duration": 39,
    "start_time": "2022-11-25T11:30:08.743Z"
   },
   {
    "duration": 687,
    "start_time": "2022-11-25T11:30:08.784Z"
   },
   {
    "duration": 5,
    "start_time": "2022-11-25T11:30:09.473Z"
   },
   {
    "duration": 30,
    "start_time": "2022-11-25T11:30:09.479Z"
   },
   {
    "duration": 39,
    "start_time": "2022-11-25T11:30:09.511Z"
   },
   {
    "duration": 21,
    "start_time": "2022-11-25T11:30:09.552Z"
   },
   {
    "duration": 4,
    "start_time": "2022-11-25T11:30:09.575Z"
   },
   {
    "duration": 36,
    "start_time": "2022-11-25T11:30:09.580Z"
   },
   {
    "duration": 35,
    "start_time": "2022-11-25T11:30:09.636Z"
   },
   {
    "duration": 24,
    "start_time": "2022-11-25T11:30:09.673Z"
   },
   {
    "duration": 41,
    "start_time": "2022-11-25T11:30:09.698Z"
   },
   {
    "duration": 21,
    "start_time": "2022-11-25T11:30:09.741Z"
   },
   {
    "duration": 19,
    "start_time": "2022-11-25T11:30:09.763Z"
   },
   {
    "duration": 57,
    "start_time": "2022-11-25T11:30:09.783Z"
   },
   {
    "duration": 7,
    "start_time": "2022-11-25T11:30:09.842Z"
   },
   {
    "duration": 1540,
    "start_time": "2022-11-25T11:30:09.850Z"
   },
   {
    "duration": 929,
    "start_time": "2022-11-25T11:30:11.392Z"
   },
   {
    "duration": 1232,
    "start_time": "2022-11-25T11:30:12.323Z"
   },
   {
    "duration": 34,
    "start_time": "2022-11-25T11:30:13.556Z"
   },
   {
    "duration": 14,
    "start_time": "2022-11-25T11:30:13.591Z"
   },
   {
    "duration": 45,
    "start_time": "2022-11-25T11:30:13.606Z"
   },
   {
    "duration": 6,
    "start_time": "2022-11-25T11:30:13.653Z"
   },
   {
    "duration": 29,
    "start_time": "2022-11-25T11:30:13.661Z"
   },
   {
    "duration": 51,
    "start_time": "2022-11-25T11:30:13.692Z"
   },
   {
    "duration": 9,
    "start_time": "2022-11-25T11:30:13.745Z"
   },
   {
    "duration": 25,
    "start_time": "2022-11-25T11:30:13.756Z"
   },
   {
    "duration": 1155,
    "start_time": "2022-11-25T12:16:21.815Z"
   },
   {
    "duration": 11247,
    "start_time": "2022-11-25T12:16:22.972Z"
   },
   {
    "duration": 0,
    "start_time": "2022-11-25T12:16:34.222Z"
   },
   {
    "duration": 0,
    "start_time": "2022-11-25T12:16:34.223Z"
   },
   {
    "duration": 0,
    "start_time": "2022-11-25T12:16:34.224Z"
   },
   {
    "duration": 0,
    "start_time": "2022-11-25T12:16:34.225Z"
   },
   {
    "duration": 0,
    "start_time": "2022-11-25T12:16:34.227Z"
   },
   {
    "duration": 0,
    "start_time": "2022-11-25T12:16:34.228Z"
   },
   {
    "duration": 0,
    "start_time": "2022-11-25T12:16:34.229Z"
   },
   {
    "duration": 0,
    "start_time": "2022-11-25T12:16:34.231Z"
   },
   {
    "duration": 0,
    "start_time": "2022-11-25T12:16:34.232Z"
   },
   {
    "duration": 0,
    "start_time": "2022-11-25T12:16:34.233Z"
   },
   {
    "duration": 0,
    "start_time": "2022-11-25T12:16:34.234Z"
   },
   {
    "duration": 0,
    "start_time": "2022-11-25T12:16:34.236Z"
   },
   {
    "duration": 0,
    "start_time": "2022-11-25T12:16:34.237Z"
   },
   {
    "duration": 0,
    "start_time": "2022-11-25T12:16:34.238Z"
   },
   {
    "duration": 0,
    "start_time": "2022-11-25T12:16:34.240Z"
   },
   {
    "duration": 0,
    "start_time": "2022-11-25T12:16:34.241Z"
   },
   {
    "duration": 0,
    "start_time": "2022-11-25T12:16:34.242Z"
   },
   {
    "duration": 0,
    "start_time": "2022-11-25T12:16:34.278Z"
   },
   {
    "duration": 0,
    "start_time": "2022-11-25T12:16:34.279Z"
   },
   {
    "duration": 0,
    "start_time": "2022-11-25T12:16:34.280Z"
   },
   {
    "duration": 0,
    "start_time": "2022-11-25T12:16:34.281Z"
   },
   {
    "duration": 1,
    "start_time": "2022-11-25T12:16:34.282Z"
   },
   {
    "duration": 0,
    "start_time": "2022-11-25T12:16:34.284Z"
   },
   {
    "duration": 0,
    "start_time": "2022-11-25T12:16:34.285Z"
   },
   {
    "duration": 0,
    "start_time": "2022-11-25T12:16:34.286Z"
   },
   {
    "duration": 0,
    "start_time": "2022-11-25T12:16:34.288Z"
   },
   {
    "duration": 0,
    "start_time": "2022-11-25T12:16:34.289Z"
   },
   {
    "duration": 1,
    "start_time": "2022-11-25T12:16:34.290Z"
   },
   {
    "duration": 0,
    "start_time": "2022-11-25T12:16:34.293Z"
   },
   {
    "duration": 0,
    "start_time": "2022-11-25T12:16:34.294Z"
   },
   {
    "duration": 0,
    "start_time": "2022-11-25T12:16:34.294Z"
   },
   {
    "duration": 0,
    "start_time": "2022-11-25T12:16:34.296Z"
   },
   {
    "duration": 0,
    "start_time": "2022-11-25T12:16:34.297Z"
   },
   {
    "duration": 0,
    "start_time": "2022-11-25T12:16:34.298Z"
   },
   {
    "duration": 0,
    "start_time": "2022-11-25T12:16:34.300Z"
   },
   {
    "duration": 0,
    "start_time": "2022-11-25T12:16:34.301Z"
   },
   {
    "duration": 0,
    "start_time": "2022-11-25T12:16:34.302Z"
   },
   {
    "duration": 0,
    "start_time": "2022-11-25T12:16:34.304Z"
   },
   {
    "duration": 0,
    "start_time": "2022-11-25T12:16:34.305Z"
   },
   {
    "duration": 0,
    "start_time": "2022-11-25T12:16:34.306Z"
   },
   {
    "duration": 0,
    "start_time": "2022-11-25T12:16:34.307Z"
   },
   {
    "duration": 0,
    "start_time": "2022-11-25T12:16:34.308Z"
   },
   {
    "duration": 0,
    "start_time": "2022-11-25T12:16:34.309Z"
   },
   {
    "duration": 0,
    "start_time": "2022-11-25T12:16:34.311Z"
   },
   {
    "duration": 0,
    "start_time": "2022-11-25T12:16:34.312Z"
   },
   {
    "duration": 0,
    "start_time": "2022-11-25T12:16:34.313Z"
   },
   {
    "duration": 0,
    "start_time": "2022-11-25T12:16:34.314Z"
   },
   {
    "duration": 0,
    "start_time": "2022-11-25T12:16:34.378Z"
   },
   {
    "duration": 0,
    "start_time": "2022-11-25T12:16:34.379Z"
   },
   {
    "duration": 0,
    "start_time": "2022-11-25T12:16:34.380Z"
   },
   {
    "duration": 0,
    "start_time": "2022-11-25T12:16:34.381Z"
   },
   {
    "duration": 0,
    "start_time": "2022-11-25T12:16:34.382Z"
   },
   {
    "duration": 0,
    "start_time": "2022-11-25T12:16:34.383Z"
   },
   {
    "duration": 0,
    "start_time": "2022-11-25T12:16:34.384Z"
   },
   {
    "duration": 8,
    "start_time": "2022-11-25T12:17:20.857Z"
   },
   {
    "duration": 964,
    "start_time": "2022-11-25T12:17:47.437Z"
   },
   {
    "duration": 454,
    "start_time": "2022-11-25T12:17:48.403Z"
   },
   {
    "duration": 11,
    "start_time": "2022-11-25T12:17:48.859Z"
   },
   {
    "duration": 8,
    "start_time": "2022-11-25T12:17:48.879Z"
   },
   {
    "duration": 19,
    "start_time": "2022-11-25T12:17:48.889Z"
   },
   {
    "duration": 35,
    "start_time": "2022-11-25T12:17:48.910Z"
   },
   {
    "duration": 45,
    "start_time": "2022-11-25T12:17:48.947Z"
   },
   {
    "duration": 15,
    "start_time": "2022-11-25T12:17:48.994Z"
   },
   {
    "duration": 49,
    "start_time": "2022-11-25T12:17:49.010Z"
   },
   {
    "duration": 22,
    "start_time": "2022-11-25T12:17:49.061Z"
   },
   {
    "duration": 36,
    "start_time": "2022-11-25T12:17:49.085Z"
   },
   {
    "duration": 9,
    "start_time": "2022-11-25T12:17:49.123Z"
   },
   {
    "duration": 6,
    "start_time": "2022-11-25T12:17:49.134Z"
   },
   {
    "duration": 22,
    "start_time": "2022-11-25T12:17:49.142Z"
   },
   {
    "duration": 16,
    "start_time": "2022-11-25T12:17:49.165Z"
   },
   {
    "duration": 30,
    "start_time": "2022-11-25T12:17:49.183Z"
   },
   {
    "duration": 701,
    "start_time": "2022-11-25T12:17:49.215Z"
   },
   {
    "duration": 5,
    "start_time": "2022-11-25T12:17:49.918Z"
   },
   {
    "duration": 405,
    "start_time": "2022-11-25T12:17:49.925Z"
   },
   {
    "duration": 4,
    "start_time": "2022-11-25T12:17:50.332Z"
   },
   {
    "duration": 14,
    "start_time": "2022-11-25T12:17:50.338Z"
   },
   {
    "duration": 32,
    "start_time": "2022-11-25T12:17:50.354Z"
   },
   {
    "duration": 230,
    "start_time": "2022-11-25T12:17:50.388Z"
   },
   {
    "duration": 20,
    "start_time": "2022-11-25T12:17:50.620Z"
   },
   {
    "duration": 17,
    "start_time": "2022-11-25T12:17:50.642Z"
   },
   {
    "duration": 17,
    "start_time": "2022-11-25T12:17:50.677Z"
   },
   {
    "duration": 8,
    "start_time": "2022-11-25T12:17:50.696Z"
   },
   {
    "duration": 20,
    "start_time": "2022-11-25T12:17:50.708Z"
   },
   {
    "duration": 70,
    "start_time": "2022-11-25T12:17:50.730Z"
   },
   {
    "duration": 146,
    "start_time": "2022-11-25T12:17:50.802Z"
   },
   {
    "duration": 41,
    "start_time": "2022-11-25T12:17:50.950Z"
   },
   {
    "duration": 539,
    "start_time": "2022-11-25T12:17:50.993Z"
   },
   {
    "duration": 4,
    "start_time": "2022-11-25T12:17:51.534Z"
   },
   {
    "duration": 27,
    "start_time": "2022-11-25T12:17:51.539Z"
   },
   {
    "duration": 28,
    "start_time": "2022-11-25T12:17:51.568Z"
   },
   {
    "duration": 20,
    "start_time": "2022-11-25T12:17:51.597Z"
   },
   {
    "duration": 4,
    "start_time": "2022-11-25T12:17:51.619Z"
   },
   {
    "duration": 55,
    "start_time": "2022-11-25T12:17:51.625Z"
   },
   {
    "duration": 31,
    "start_time": "2022-11-25T12:17:51.682Z"
   },
   {
    "duration": 22,
    "start_time": "2022-11-25T12:17:51.715Z"
   },
   {
    "duration": 44,
    "start_time": "2022-11-25T12:17:51.738Z"
   },
   {
    "duration": 19,
    "start_time": "2022-11-25T12:17:51.784Z"
   },
   {
    "duration": 17,
    "start_time": "2022-11-25T12:17:51.805Z"
   },
   {
    "duration": 30,
    "start_time": "2022-11-25T12:17:51.824Z"
   },
   {
    "duration": 7,
    "start_time": "2022-11-25T12:17:51.878Z"
   },
   {
    "duration": 1493,
    "start_time": "2022-11-25T12:17:51.886Z"
   },
   {
    "duration": 914,
    "start_time": "2022-11-25T12:17:53.381Z"
   },
   {
    "duration": 1271,
    "start_time": "2022-11-25T12:17:54.296Z"
   },
   {
    "duration": 756,
    "start_time": "2022-11-25T12:17:55.568Z"
   },
   {
    "duration": 0,
    "start_time": "2022-11-25T12:17:56.325Z"
   },
   {
    "duration": 0,
    "start_time": "2022-11-25T12:17:56.326Z"
   },
   {
    "duration": 0,
    "start_time": "2022-11-25T12:17:56.327Z"
   },
   {
    "duration": 0,
    "start_time": "2022-11-25T12:17:56.329Z"
   },
   {
    "duration": 0,
    "start_time": "2022-11-25T12:17:56.330Z"
   },
   {
    "duration": 0,
    "start_time": "2022-11-25T12:17:56.331Z"
   },
   {
    "duration": 0,
    "start_time": "2022-11-25T12:17:56.332Z"
   },
   {
    "duration": 0,
    "start_time": "2022-11-25T12:17:56.333Z"
   },
   {
    "duration": 22,
    "start_time": "2022-11-25T12:20:16.727Z"
   },
   {
    "duration": 149,
    "start_time": "2022-11-25T12:20:25.195Z"
   },
   {
    "duration": 681,
    "start_time": "2022-11-25T12:22:05.359Z"
   },
   {
    "duration": 1065,
    "start_time": "2022-11-25T18:21:54.504Z"
   },
   {
    "duration": 312,
    "start_time": "2022-11-25T18:21:55.571Z"
   },
   {
    "duration": 11,
    "start_time": "2022-11-25T18:21:55.885Z"
   },
   {
    "duration": 8,
    "start_time": "2022-11-25T18:21:55.898Z"
   },
   {
    "duration": 19,
    "start_time": "2022-11-25T18:21:55.908Z"
   },
   {
    "duration": 54,
    "start_time": "2022-11-25T18:21:55.929Z"
   },
   {
    "duration": 17,
    "start_time": "2022-11-25T18:21:55.985Z"
   },
   {
    "duration": 9,
    "start_time": "2022-11-25T18:21:56.004Z"
   },
   {
    "duration": 46,
    "start_time": "2022-11-25T18:21:56.014Z"
   },
   {
    "duration": 22,
    "start_time": "2022-11-25T18:21:56.063Z"
   },
   {
    "duration": 33,
    "start_time": "2022-11-25T18:21:56.087Z"
   },
   {
    "duration": 12,
    "start_time": "2022-11-25T18:21:56.122Z"
   },
   {
    "duration": 10,
    "start_time": "2022-11-25T18:21:56.136Z"
   },
   {
    "duration": 34,
    "start_time": "2022-11-25T18:21:56.148Z"
   },
   {
    "duration": 11,
    "start_time": "2022-11-25T18:21:56.184Z"
   },
   {
    "duration": 27,
    "start_time": "2022-11-25T18:21:56.197Z"
   },
   {
    "duration": 827,
    "start_time": "2022-11-25T18:21:56.226Z"
   },
   {
    "duration": 5,
    "start_time": "2022-11-25T18:21:57.055Z"
   },
   {
    "duration": 462,
    "start_time": "2022-11-25T18:21:57.061Z"
   },
   {
    "duration": 3,
    "start_time": "2022-11-25T18:21:57.525Z"
   },
   {
    "duration": 33,
    "start_time": "2022-11-25T18:21:57.530Z"
   },
   {
    "duration": 21,
    "start_time": "2022-11-25T18:21:57.566Z"
   },
   {
    "duration": 293,
    "start_time": "2022-11-25T18:21:57.589Z"
   },
   {
    "duration": 23,
    "start_time": "2022-11-25T18:21:57.884Z"
   },
   {
    "duration": 22,
    "start_time": "2022-11-25T18:21:57.908Z"
   },
   {
    "duration": 47,
    "start_time": "2022-11-25T18:21:57.932Z"
   },
   {
    "duration": 9,
    "start_time": "2022-11-25T18:21:57.981Z"
   },
   {
    "duration": 34,
    "start_time": "2022-11-25T18:21:57.995Z"
   },
   {
    "duration": 62,
    "start_time": "2022-11-25T18:21:58.031Z"
   },
   {
    "duration": 185,
    "start_time": "2022-11-25T18:21:58.095Z"
   },
   {
    "duration": 98,
    "start_time": "2022-11-25T18:21:58.283Z"
   },
   {
    "duration": 611,
    "start_time": "2022-11-25T18:21:58.384Z"
   },
   {
    "duration": 4,
    "start_time": "2022-11-25T18:21:58.997Z"
   },
   {
    "duration": 31,
    "start_time": "2022-11-25T18:21:59.003Z"
   },
   {
    "duration": 43,
    "start_time": "2022-11-25T18:21:59.035Z"
   },
   {
    "duration": 24,
    "start_time": "2022-11-25T18:21:59.080Z"
   },
   {
    "duration": 5,
    "start_time": "2022-11-25T18:21:59.106Z"
   },
   {
    "duration": 45,
    "start_time": "2022-11-25T18:21:59.112Z"
   },
   {
    "duration": 51,
    "start_time": "2022-11-25T18:21:59.159Z"
   },
   {
    "duration": 25,
    "start_time": "2022-11-25T18:21:59.212Z"
   },
   {
    "duration": 47,
    "start_time": "2022-11-25T18:21:59.239Z"
   },
   {
    "duration": 23,
    "start_time": "2022-11-25T18:21:59.288Z"
   },
   {
    "duration": 20,
    "start_time": "2022-11-25T18:21:59.312Z"
   },
   {
    "duration": 60,
    "start_time": "2022-11-25T18:21:59.333Z"
   },
   {
    "duration": 6,
    "start_time": "2022-11-25T18:21:59.395Z"
   },
   {
    "duration": 1853,
    "start_time": "2022-11-25T18:21:59.403Z"
   },
   {
    "duration": 921,
    "start_time": "2022-11-25T18:22:01.258Z"
   },
   {
    "duration": 1272,
    "start_time": "2022-11-25T18:22:02.181Z"
   },
   {
    "duration": 794,
    "start_time": "2022-11-25T18:22:03.454Z"
   },
   {
    "duration": 0,
    "start_time": "2022-11-25T18:22:04.249Z"
   },
   {
    "duration": 0,
    "start_time": "2022-11-25T18:22:04.250Z"
   },
   {
    "duration": 0,
    "start_time": "2022-11-25T18:22:04.251Z"
   },
   {
    "duration": 0,
    "start_time": "2022-11-25T18:22:04.252Z"
   },
   {
    "duration": 0,
    "start_time": "2022-11-25T18:22:04.253Z"
   },
   {
    "duration": 0,
    "start_time": "2022-11-25T18:22:04.254Z"
   },
   {
    "duration": 0,
    "start_time": "2022-11-25T18:22:04.255Z"
   },
   {
    "duration": 0,
    "start_time": "2022-11-25T18:22:04.256Z"
   },
   {
    "duration": 16,
    "start_time": "2022-11-25T18:22:19.632Z"
   },
   {
    "duration": 1203,
    "start_time": "2022-11-27T15:28:32.580Z"
   },
   {
    "duration": 463,
    "start_time": "2022-11-27T15:28:33.786Z"
   },
   {
    "duration": 17,
    "start_time": "2022-11-27T15:28:34.251Z"
   },
   {
    "duration": 17,
    "start_time": "2022-11-27T15:28:34.270Z"
   },
   {
    "duration": 33,
    "start_time": "2022-11-27T15:28:34.289Z"
   },
   {
    "duration": 35,
    "start_time": "2022-11-27T15:28:34.325Z"
   },
   {
    "duration": 17,
    "start_time": "2022-11-27T15:28:34.362Z"
   },
   {
    "duration": 6,
    "start_time": "2022-11-27T15:28:34.381Z"
   },
   {
    "duration": 66,
    "start_time": "2022-11-27T15:28:34.388Z"
   },
   {
    "duration": 16,
    "start_time": "2022-11-27T15:28:34.457Z"
   },
   {
    "duration": 47,
    "start_time": "2022-11-27T15:28:34.475Z"
   },
   {
    "duration": 11,
    "start_time": "2022-11-27T15:28:34.524Z"
   },
   {
    "duration": 8,
    "start_time": "2022-11-27T15:28:34.536Z"
   },
   {
    "duration": 19,
    "start_time": "2022-11-27T15:28:34.545Z"
   },
   {
    "duration": 10,
    "start_time": "2022-11-27T15:28:34.565Z"
   },
   {
    "duration": 46,
    "start_time": "2022-11-27T15:28:34.577Z"
   },
   {
    "duration": 769,
    "start_time": "2022-11-27T15:28:34.625Z"
   },
   {
    "duration": 5,
    "start_time": "2022-11-27T15:28:35.396Z"
   },
   {
    "duration": 450,
    "start_time": "2022-11-27T15:28:35.403Z"
   },
   {
    "duration": 4,
    "start_time": "2022-11-27T15:28:35.854Z"
   },
   {
    "duration": 22,
    "start_time": "2022-11-27T15:28:35.859Z"
   },
   {
    "duration": 16,
    "start_time": "2022-11-27T15:28:35.883Z"
   },
   {
    "duration": 249,
    "start_time": "2022-11-27T15:28:35.902Z"
   },
   {
    "duration": 19,
    "start_time": "2022-11-27T15:28:36.152Z"
   },
   {
    "duration": 17,
    "start_time": "2022-11-27T15:28:36.173Z"
   },
   {
    "duration": 41,
    "start_time": "2022-11-27T15:28:36.191Z"
   },
   {
    "duration": 8,
    "start_time": "2022-11-27T15:28:36.233Z"
   },
   {
    "duration": 21,
    "start_time": "2022-11-27T15:28:36.245Z"
   },
   {
    "duration": 64,
    "start_time": "2022-11-27T15:28:36.267Z"
   },
   {
    "duration": 134,
    "start_time": "2022-11-27T15:28:36.333Z"
   },
   {
    "duration": 69,
    "start_time": "2022-11-27T15:28:36.469Z"
   },
   {
    "duration": 553,
    "start_time": "2022-11-27T15:28:36.540Z"
   },
   {
    "duration": 5,
    "start_time": "2022-11-27T15:28:37.094Z"
   },
   {
    "duration": 34,
    "start_time": "2022-11-27T15:28:37.100Z"
   },
   {
    "duration": 23,
    "start_time": "2022-11-27T15:28:37.136Z"
   },
   {
    "duration": 22,
    "start_time": "2022-11-27T15:28:37.160Z"
   },
   {
    "duration": 5,
    "start_time": "2022-11-27T15:28:37.184Z"
   },
   {
    "duration": 58,
    "start_time": "2022-11-27T15:28:37.190Z"
   },
   {
    "duration": 33,
    "start_time": "2022-11-27T15:28:37.249Z"
   },
   {
    "duration": 42,
    "start_time": "2022-11-27T15:28:37.284Z"
   },
   {
    "duration": 20,
    "start_time": "2022-11-27T15:28:37.328Z"
   },
   {
    "duration": 20,
    "start_time": "2022-11-27T15:28:37.349Z"
   },
   {
    "duration": 18,
    "start_time": "2022-11-27T15:28:37.371Z"
   },
   {
    "duration": 58,
    "start_time": "2022-11-27T15:28:37.391Z"
   },
   {
    "duration": 7,
    "start_time": "2022-11-27T15:28:37.451Z"
   },
   {
    "duration": 1539,
    "start_time": "2022-11-27T15:28:37.459Z"
   },
   {
    "duration": 952,
    "start_time": "2022-11-27T15:28:39.000Z"
   },
   {
    "duration": 1258,
    "start_time": "2022-11-27T15:28:39.954Z"
   },
   {
    "duration": 786,
    "start_time": "2022-11-27T15:28:41.213Z"
   },
   {
    "duration": 1,
    "start_time": "2022-11-27T15:28:42.000Z"
   },
   {
    "duration": 0,
    "start_time": "2022-11-27T15:28:42.002Z"
   },
   {
    "duration": 0,
    "start_time": "2022-11-27T15:28:42.003Z"
   },
   {
    "duration": 0,
    "start_time": "2022-11-27T15:28:42.004Z"
   },
   {
    "duration": 0,
    "start_time": "2022-11-27T15:28:42.005Z"
   },
   {
    "duration": 0,
    "start_time": "2022-11-27T15:28:42.022Z"
   },
   {
    "duration": 0,
    "start_time": "2022-11-27T15:28:42.023Z"
   },
   {
    "duration": 0,
    "start_time": "2022-11-27T15:28:42.024Z"
   },
   {
    "duration": 1031,
    "start_time": "2022-11-27T15:50:32.268Z"
   },
   {
    "duration": 364,
    "start_time": "2022-11-27T15:50:33.301Z"
   },
   {
    "duration": 11,
    "start_time": "2022-11-27T15:50:33.667Z"
   },
   {
    "duration": 13,
    "start_time": "2022-11-27T15:50:33.680Z"
   },
   {
    "duration": 28,
    "start_time": "2022-11-27T15:50:33.695Z"
   },
   {
    "duration": 33,
    "start_time": "2022-11-27T15:50:33.725Z"
   },
   {
    "duration": 18,
    "start_time": "2022-11-27T15:50:33.760Z"
   },
   {
    "duration": 4,
    "start_time": "2022-11-27T15:50:33.780Z"
   },
   {
    "duration": 71,
    "start_time": "2022-11-27T15:50:33.786Z"
   },
   {
    "duration": 18,
    "start_time": "2022-11-27T15:50:33.860Z"
   },
   {
    "duration": 49,
    "start_time": "2022-11-27T15:50:33.880Z"
   },
   {
    "duration": 10,
    "start_time": "2022-11-27T15:50:33.931Z"
   },
   {
    "duration": 4,
    "start_time": "2022-11-27T15:50:33.942Z"
   },
   {
    "duration": 30,
    "start_time": "2022-11-27T15:50:33.948Z"
   },
   {
    "duration": 14,
    "start_time": "2022-11-27T15:50:33.980Z"
   },
   {
    "duration": 39,
    "start_time": "2022-11-27T15:50:33.995Z"
   },
   {
    "duration": 765,
    "start_time": "2022-11-27T15:50:34.036Z"
   },
   {
    "duration": 5,
    "start_time": "2022-11-27T15:50:34.802Z"
   },
   {
    "duration": 440,
    "start_time": "2022-11-27T15:50:34.808Z"
   },
   {
    "duration": 3,
    "start_time": "2022-11-27T15:50:35.250Z"
   },
   {
    "duration": 16,
    "start_time": "2022-11-27T15:50:35.254Z"
   },
   {
    "duration": 12,
    "start_time": "2022-11-27T15:50:35.272Z"
   },
   {
    "duration": 243,
    "start_time": "2022-11-27T15:50:35.286Z"
   },
   {
    "duration": 22,
    "start_time": "2022-11-27T15:50:35.531Z"
   },
   {
    "duration": 17,
    "start_time": "2022-11-27T15:50:35.555Z"
   },
   {
    "duration": 22,
    "start_time": "2022-11-27T15:50:35.573Z"
   },
   {
    "duration": 27,
    "start_time": "2022-11-27T15:50:35.596Z"
   },
   {
    "duration": 20,
    "start_time": "2022-11-27T15:50:35.627Z"
   },
   {
    "duration": 39,
    "start_time": "2022-11-27T15:50:35.649Z"
   },
   {
    "duration": 185,
    "start_time": "2022-11-27T15:50:35.689Z"
   },
   {
    "duration": 52,
    "start_time": "2022-11-27T15:50:35.876Z"
   },
   {
    "duration": 526,
    "start_time": "2022-11-27T15:50:35.929Z"
   },
   {
    "duration": 4,
    "start_time": "2022-11-27T15:50:36.456Z"
   },
   {
    "duration": 26,
    "start_time": "2022-11-27T15:50:36.462Z"
   },
   {
    "duration": 35,
    "start_time": "2022-11-27T15:50:36.489Z"
   },
   {
    "duration": 23,
    "start_time": "2022-11-27T15:50:36.526Z"
   },
   {
    "duration": 5,
    "start_time": "2022-11-27T15:50:36.550Z"
   },
   {
    "duration": 31,
    "start_time": "2022-11-27T15:50:36.556Z"
   },
   {
    "duration": 56,
    "start_time": "2022-11-27T15:50:36.588Z"
   },
   {
    "duration": 21,
    "start_time": "2022-11-27T15:50:36.646Z"
   },
   {
    "duration": 19,
    "start_time": "2022-11-27T15:50:36.669Z"
   },
   {
    "duration": 48,
    "start_time": "2022-11-27T15:50:36.689Z"
   },
   {
    "duration": 20,
    "start_time": "2022-11-27T15:50:36.739Z"
   },
   {
    "duration": 35,
    "start_time": "2022-11-27T15:50:36.760Z"
   },
   {
    "duration": 8,
    "start_time": "2022-11-27T15:50:36.821Z"
   },
   {
    "duration": 1564,
    "start_time": "2022-11-27T15:50:36.831Z"
   },
   {
    "duration": 887,
    "start_time": "2022-11-27T15:50:38.396Z"
   },
   {
    "duration": 1240,
    "start_time": "2022-11-27T15:50:39.285Z"
   },
   {
    "duration": 733,
    "start_time": "2022-11-27T15:50:40.526Z"
   },
   {
    "duration": 0,
    "start_time": "2022-11-27T15:50:41.261Z"
   },
   {
    "duration": 0,
    "start_time": "2022-11-27T15:50:41.262Z"
   },
   {
    "duration": 0,
    "start_time": "2022-11-27T15:50:41.264Z"
   },
   {
    "duration": 0,
    "start_time": "2022-11-27T15:50:41.265Z"
   },
   {
    "duration": 0,
    "start_time": "2022-11-27T15:50:41.267Z"
   },
   {
    "duration": 0,
    "start_time": "2022-11-27T15:50:41.268Z"
   },
   {
    "duration": 0,
    "start_time": "2022-11-27T15:50:41.270Z"
   },
   {
    "duration": 0,
    "start_time": "2022-11-27T15:50:41.271Z"
   },
   {
    "duration": 769,
    "start_time": "2022-11-27T15:55:10.469Z"
   },
   {
    "duration": 852,
    "start_time": "2022-11-27T15:55:28.889Z"
   },
   {
    "duration": 852,
    "start_time": "2022-11-27T15:55:45.414Z"
   },
   {
    "duration": 862,
    "start_time": "2022-11-27T15:55:54.061Z"
   },
   {
    "duration": 1115,
    "start_time": "2022-11-27T15:56:14.523Z"
   },
   {
    "duration": 513,
    "start_time": "2022-11-27T15:56:15.640Z"
   },
   {
    "duration": 11,
    "start_time": "2022-11-27T15:56:16.155Z"
   },
   {
    "duration": 8,
    "start_time": "2022-11-27T15:56:16.169Z"
   },
   {
    "duration": 20,
    "start_time": "2022-11-27T15:56:16.178Z"
   },
   {
    "duration": 51,
    "start_time": "2022-11-27T15:56:16.199Z"
   },
   {
    "duration": 16,
    "start_time": "2022-11-27T15:56:16.251Z"
   },
   {
    "duration": 7,
    "start_time": "2022-11-27T15:56:16.269Z"
   },
   {
    "duration": 53,
    "start_time": "2022-11-27T15:56:16.277Z"
   },
   {
    "duration": 14,
    "start_time": "2022-11-27T15:56:16.332Z"
   },
   {
    "duration": 32,
    "start_time": "2022-11-27T15:56:16.347Z"
   },
   {
    "duration": 13,
    "start_time": "2022-11-27T15:56:16.380Z"
   },
   {
    "duration": 4,
    "start_time": "2022-11-27T15:56:16.396Z"
   },
   {
    "duration": 14,
    "start_time": "2022-11-27T15:56:16.423Z"
   },
   {
    "duration": 13,
    "start_time": "2022-11-27T15:56:16.439Z"
   },
   {
    "duration": 24,
    "start_time": "2022-11-27T15:56:16.454Z"
   },
   {
    "duration": 725,
    "start_time": "2022-11-27T15:56:16.480Z"
   },
   {
    "duration": 5,
    "start_time": "2022-11-27T15:56:17.207Z"
   },
   {
    "duration": 439,
    "start_time": "2022-11-27T15:56:17.222Z"
   },
   {
    "duration": 3,
    "start_time": "2022-11-27T15:56:17.662Z"
   },
   {
    "duration": 16,
    "start_time": "2022-11-27T15:56:17.666Z"
   },
   {
    "duration": 13,
    "start_time": "2022-11-27T15:56:17.684Z"
   },
   {
    "duration": 246,
    "start_time": "2022-11-27T15:56:17.699Z"
   },
   {
    "duration": 20,
    "start_time": "2022-11-27T15:56:17.947Z"
   },
   {
    "duration": 17,
    "start_time": "2022-11-27T15:56:17.968Z"
   },
   {
    "duration": 36,
    "start_time": "2022-11-27T15:56:17.987Z"
   },
   {
    "duration": 7,
    "start_time": "2022-11-27T15:56:18.025Z"
   },
   {
    "duration": 21,
    "start_time": "2022-11-27T15:56:18.033Z"
   },
   {
    "duration": 38,
    "start_time": "2022-11-27T15:56:18.055Z"
   },
   {
    "duration": 147,
    "start_time": "2022-11-27T15:56:18.095Z"
   },
   {
    "duration": 80,
    "start_time": "2022-11-27T15:56:18.243Z"
   },
   {
    "duration": 513,
    "start_time": "2022-11-27T15:56:18.325Z"
   },
   {
    "duration": 4,
    "start_time": "2022-11-27T15:56:18.839Z"
   },
   {
    "duration": 26,
    "start_time": "2022-11-27T15:56:18.845Z"
   },
   {
    "duration": 24,
    "start_time": "2022-11-27T15:56:18.873Z"
   },
   {
    "duration": 42,
    "start_time": "2022-11-27T15:56:18.898Z"
   },
   {
    "duration": 4,
    "start_time": "2022-11-27T15:56:18.942Z"
   },
   {
    "duration": 36,
    "start_time": "2022-11-27T15:56:18.947Z"
   },
   {
    "duration": 56,
    "start_time": "2022-11-27T15:56:18.985Z"
   },
   {
    "duration": 28,
    "start_time": "2022-11-27T15:56:19.044Z"
   },
   {
    "duration": 20,
    "start_time": "2022-11-27T15:56:19.074Z"
   },
   {
    "duration": 48,
    "start_time": "2022-11-27T15:56:19.096Z"
   },
   {
    "duration": 19,
    "start_time": "2022-11-27T15:56:19.145Z"
   },
   {
    "duration": 35,
    "start_time": "2022-11-27T15:56:19.165Z"
   },
   {
    "duration": 9,
    "start_time": "2022-11-27T15:56:19.223Z"
   },
   {
    "duration": 1701,
    "start_time": "2022-11-27T15:56:19.234Z"
   },
   {
    "duration": 1005,
    "start_time": "2022-11-27T15:56:20.937Z"
   },
   {
    "duration": 1211,
    "start_time": "2022-11-27T15:56:21.945Z"
   },
   {
    "duration": 703,
    "start_time": "2022-11-27T15:56:23.158Z"
   },
   {
    "duration": 29,
    "start_time": "2022-11-27T15:56:23.863Z"
   },
   {
    "duration": 11,
    "start_time": "2022-11-27T15:56:23.894Z"
   },
   {
    "duration": 17,
    "start_time": "2022-11-27T15:56:23.923Z"
   },
   {
    "duration": 5,
    "start_time": "2022-11-27T15:56:23.943Z"
   },
   {
    "duration": 24,
    "start_time": "2022-11-27T15:56:23.950Z"
   },
   {
    "duration": 57,
    "start_time": "2022-11-27T15:56:23.976Z"
   },
   {
    "duration": 10,
    "start_time": "2022-11-27T15:56:24.036Z"
   },
   {
    "duration": 38,
    "start_time": "2022-11-27T15:56:24.048Z"
   },
   {
    "duration": 2452,
    "start_time": "2023-01-14T20:15:23.594Z"
   },
   {
    "duration": 41,
    "start_time": "2023-01-14T20:15:29.825Z"
   },
   {
    "duration": 1077,
    "start_time": "2023-01-14T20:15:34.070Z"
   },
   {
    "duration": 2529,
    "start_time": "2023-01-14T20:15:35.149Z"
   },
   {
    "duration": 41,
    "start_time": "2023-01-14T20:15:37.680Z"
   },
   {
    "duration": 441,
    "start_time": "2023-01-14T20:15:37.724Z"
   },
   {
    "duration": 11,
    "start_time": "2023-01-14T20:15:38.167Z"
   },
   {
    "duration": 9,
    "start_time": "2023-01-14T20:15:38.179Z"
   },
   {
    "duration": 26,
    "start_time": "2023-01-14T20:15:38.190Z"
   },
   {
    "duration": 30,
    "start_time": "2023-01-14T20:15:38.218Z"
   },
   {
    "duration": 30,
    "start_time": "2023-01-14T20:15:38.249Z"
   },
   {
    "duration": 3,
    "start_time": "2023-01-14T20:15:38.281Z"
   },
   {
    "duration": 41,
    "start_time": "2023-01-14T20:15:38.285Z"
   },
   {
    "duration": 14,
    "start_time": "2023-01-14T20:15:38.328Z"
   },
   {
    "duration": 52,
    "start_time": "2023-01-14T20:15:38.344Z"
   },
   {
    "duration": 10,
    "start_time": "2023-01-14T20:15:38.398Z"
   },
   {
    "duration": 21,
    "start_time": "2023-01-14T20:15:38.409Z"
   },
   {
    "duration": 19,
    "start_time": "2023-01-14T20:15:38.432Z"
   },
   {
    "duration": 11,
    "start_time": "2023-01-14T20:15:38.452Z"
   },
   {
    "duration": 45,
    "start_time": "2023-01-14T20:15:38.464Z"
   },
   {
    "duration": 741,
    "start_time": "2023-01-14T20:15:38.511Z"
   },
   {
    "duration": 4,
    "start_time": "2023-01-14T20:15:39.254Z"
   },
   {
    "duration": 355,
    "start_time": "2023-01-14T20:15:39.259Z"
   },
   {
    "duration": 4,
    "start_time": "2023-01-14T20:15:39.615Z"
   },
   {
    "duration": 16,
    "start_time": "2023-01-14T20:15:39.620Z"
   },
   {
    "duration": 13,
    "start_time": "2023-01-14T20:15:39.637Z"
   },
   {
    "duration": 230,
    "start_time": "2023-01-14T20:15:39.652Z"
   },
   {
    "duration": 21,
    "start_time": "2023-01-14T20:15:39.884Z"
   },
   {
    "duration": 17,
    "start_time": "2023-01-14T20:15:39.907Z"
   },
   {
    "duration": 16,
    "start_time": "2023-01-14T20:15:39.928Z"
   },
   {
    "duration": 38,
    "start_time": "2023-01-14T20:15:39.945Z"
   },
   {
    "duration": 20,
    "start_time": "2023-01-14T20:15:39.985Z"
   },
   {
    "duration": 39,
    "start_time": "2023-01-14T20:15:40.007Z"
   },
   {
    "duration": 881,
    "start_time": "2023-01-14T20:15:40.048Z"
   },
   {
    "duration": 63,
    "start_time": "2023-01-14T20:15:40.931Z"
   },
   {
    "duration": 503,
    "start_time": "2023-01-14T20:15:40.995Z"
   },
   {
    "duration": 5,
    "start_time": "2023-01-14T20:15:41.499Z"
   },
   {
    "duration": 98,
    "start_time": "2023-01-14T20:15:41.505Z"
   },
   {
    "duration": 78,
    "start_time": "2023-01-14T20:15:41.605Z"
   },
   {
    "duration": 94,
    "start_time": "2023-01-14T20:15:41.684Z"
   },
   {
    "duration": 6,
    "start_time": "2023-01-14T20:15:41.780Z"
   },
   {
    "duration": 110,
    "start_time": "2023-01-14T20:15:41.788Z"
   },
   {
    "duration": 102,
    "start_time": "2023-01-14T20:15:41.900Z"
   },
   {
    "duration": 96,
    "start_time": "2023-01-14T20:15:42.004Z"
   },
   {
    "duration": 84,
    "start_time": "2023-01-14T20:15:42.102Z"
   },
   {
    "duration": 52,
    "start_time": "2023-01-14T20:15:42.187Z"
   },
   {
    "duration": 50,
    "start_time": "2023-01-14T20:15:42.240Z"
   },
   {
    "duration": 29,
    "start_time": "2023-01-14T20:15:42.292Z"
   },
   {
    "duration": 6,
    "start_time": "2023-01-14T20:15:42.322Z"
   },
   {
    "duration": 1504,
    "start_time": "2023-01-14T20:15:42.329Z"
   },
   {
    "duration": 974,
    "start_time": "2023-01-14T20:15:43.835Z"
   },
   {
    "duration": 1161,
    "start_time": "2023-01-14T20:15:44.811Z"
   },
   {
    "duration": 684,
    "start_time": "2023-01-14T20:15:45.973Z"
   },
   {
    "duration": 34,
    "start_time": "2023-01-14T20:15:46.658Z"
   },
   {
    "duration": 11,
    "start_time": "2023-01-14T20:15:46.694Z"
   },
   {
    "duration": 27,
    "start_time": "2023-01-14T20:15:46.706Z"
   },
   {
    "duration": 5,
    "start_time": "2023-01-14T20:15:46.735Z"
   },
   {
    "duration": 47,
    "start_time": "2023-01-14T20:15:46.742Z"
   },
   {
    "duration": 31,
    "start_time": "2023-01-14T20:15:46.791Z"
   },
   {
    "duration": 9,
    "start_time": "2023-01-14T20:15:46.824Z"
   },
   {
    "duration": 32,
    "start_time": "2023-01-14T20:15:46.835Z"
   }
  ],
  "kernelspec": {
   "display_name": "Python 3 (ipykernel)",
   "language": "python",
   "name": "python3"
  },
  "language_info": {
   "codemirror_mode": {
    "name": "ipython",
    "version": 3
   },
   "file_extension": ".py",
   "mimetype": "text/x-python",
   "name": "python",
   "nbconvert_exporter": "python",
   "pygments_lexer": "ipython3",
   "version": "3.9.5"
  },
  "toc": {
   "base_numbering": 1,
   "nav_menu": {},
   "number_sections": true,
   "sideBar": true,
   "skip_h1_title": true,
   "title_cell": "Table of Contents",
   "title_sidebar": "Contents",
   "toc_cell": false,
   "toc_position": {},
   "toc_section_display": true,
   "toc_window_display": true
  }
 },
 "nbformat": 4,
 "nbformat_minor": 2
}
