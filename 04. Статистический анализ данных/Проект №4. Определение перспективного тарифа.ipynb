{
 "cells": [
  {
   "cell_type": "markdown",
   "metadata": {},
   "source": [
    "# Определение перспективного тарифа для телеком-компании\n",
    "\n",
    "**Цель:** Определить выгодный тарифный план для корректировки рекламного бюджета.\n",
    "\n",
    "**Выборка:** Данные 500 пользователей тарифных планов «Смарт» и «Ультра»: кто они, откуда, каким тарифом пользуются, сколько звонков и сообщений каждый отправил за 2018 год.\n",
    "\n",
    "**Примечание:** «Мегалайн» всегда округляет секунды до минут, а мегабайты — до гигабайт:\n",
    "\n",
    "Каждый звонок округляется отдельно: даже если он длился всего 1 секунду, будет засчитан как 1 минута.\n",
    "Для веб-трафика отдельные сессии не считаются. Вместо этого общая сумма за месяц округляется в бо́льшую сторону. Если абонент использует 1025 мегабайт в этом месяце, с него возьмут плату за 2 гигабайта."
   ]
  },
  {
   "cell_type": "markdown",
   "metadata": {},
   "source": [
    "## Описание данных\n",
    "### Таблица users (информация о пользователях):\n",
    "* **user_id** — уникальный идентификатор пользователя\n",
    "* **first_name** — имя пользователя\n",
    "* **last_name** — фамилия пользователя\n",
    "* **age** — возраст пользователя (годы)\n",
    "* **reg_date** — дата подключения тарифа (день, месяц, год)\n",
    "* **churn_date** — дата прекращения пользования тарифом (если значение пропущено, то тариф ещё действовал на момент выгрузки данных)\n",
    "* **city** — город проживания пользователя\n",
    "* **tariff** — название тарифного плана\n",
    "### Таблица calls (информация о звонках):\n",
    "* **id** — уникальный номер звонка\n",
    "* **call_date** — дата звонка\n",
    "* **duration** — длительность звонка в минутах\n",
    "* **user_id** — идентификатор пользователя, сделавшего звонок\n",
    "### Таблица messages (информация о сообщениях):\n",
    "* **id** — уникальный номер сообщения\n",
    "* **message_date** — дата сообщения\n",
    "* **user_id** — идентификатор пользователя, отправившего сообщение\n",
    "### Таблица internet (информация об интернет-сессиях):\n",
    "* **id** — уникальный номер сессии\n",
    "* **mb_used** — объём потраченного за сессию интернет-трафика (в мегабайтах)\n",
    "* **session_date** — дата интернет-сессии\n",
    "* **user_id** — идентификатор пользователя\n",
    "### Таблица tariffs (информация о тарифах):\n",
    "* **tariff_name** — название тарифа\n",
    "* **rub_monthly_fee** — ежемесячная абонентская плата в рублях\n",
    "* **minutes_included** — количество минут разговора в месяц, включённых в абонентскую плату\n",
    "* **messages_included** — количество сообщений в месяц, включённых в абонентскую плату\n",
    "* **mb_per_month_included** — объём интернет-трафика, включённого в абонентскую плату (в мегабайтах)\n",
    "* **rub_per_minute** — стоимость минуты разговора сверх тарифного пакета (например, если в тарифе 100 минут разговора в месяц, то со 101 минуты будет взиматься плата)\n",
    "* **rub_per_message** — стоимость отправки сообщения сверх тарифного пакета\n",
    "* **rub_per_gb** — стоимость дополнительного гигабайта интернет-трафика сверх тарифного пакета (1 гигабайт = 1024 мегабайта)"
   ]
  },
  {
   "cell_type": "code",
   "execution_count": 1,
   "metadata": {},
   "outputs": [],
   "source": [
    "# импорт библиотек \n",
    "import pandas as pd\n",
    "import matplotlib.pyplot as plt\n",
    "import seaborn as sns\n",
    "import numpy as np\n",
    "from scipy import stats as st"
   ]
  },
  {
   "cell_type": "code",
   "execution_count": 2,
   "metadata": {},
   "outputs": [],
   "source": [
    "# чтение файлов\n",
    "calls = pd.read_csv('/datasets/calls.csv')\n",
    "internet = pd.read_csv('/datasets/internet.csv')\n",
    "messages = pd.read_csv('/datasets/messages.csv')\n",
    "tariffs = pd.read_csv('/datasets/tariffs.csv')\n",
    "users = pd.read_csv('/datasets/users.csv')"
   ]
  },
  {
   "cell_type": "markdown",
   "metadata": {},
   "source": [
    "## Открытие файлов. Изучение общей информации"
   ]
  },
  {
   "cell_type": "markdown",
   "metadata": {},
   "source": [
    "<a id='intro'></a>"
   ]
  },
  {
   "cell_type": "markdown",
   "metadata": {},
   "source": [
    "### Таблица calls"
   ]
  },
  {
   "cell_type": "code",
   "execution_count": 3,
   "metadata": {},
   "outputs": [
    {
     "name": "stdout",
     "output_type": "stream",
     "text": [
      "         id   call_date  duration  user_id\n",
      "0    1000_0  2018-07-25      0.00     1000\n",
      "1    1000_1  2018-08-17      0.00     1000\n",
      "2    1000_2  2018-06-11      2.85     1000\n",
      "3    1000_3  2018-09-21     13.80     1000\n",
      "4    1000_4  2018-12-15      5.18     1000\n",
      "5    1000_5  2018-11-02      0.00     1000\n",
      "6    1000_6  2018-10-18      0.00     1000\n",
      "7    1000_7  2018-08-22     18.31     1000\n",
      "8    1000_8  2018-09-15     18.44     1000\n",
      "9    1000_9  2018-08-15      0.00     1000\n",
      "10  1000_10  2018-08-22      5.03     1000\n",
      "11  1000_11  2018-05-28     18.82     1000\n",
      "12  1000_12  2018-07-05      2.02     1000\n",
      "13  1000_13  2018-09-29      7.15     1000\n",
      "14  1000_14  2018-12-11      9.13     1000\n",
      "\n",
      "<class 'pandas.core.frame.DataFrame'>\n",
      "RangeIndex: 202607 entries, 0 to 202606\n",
      "Data columns (total 4 columns):\n",
      " #   Column     Non-Null Count   Dtype  \n",
      "---  ------     --------------   -----  \n",
      " 0   id         202607 non-null  object \n",
      " 1   call_date  202607 non-null  object \n",
      " 2   duration   202607 non-null  float64\n",
      " 3   user_id    202607 non-null  int64  \n",
      "dtypes: float64(1), int64(1), object(2)\n",
      "memory usage: 6.2+ MB\n",
      "None\n",
      "\n",
      "количество пропущенных значений: id           0\n",
      "call_date    0\n",
      "duration     0\n",
      "user_id      0\n",
      "dtype: int64\n",
      "\n",
      "количество дубликатов: 0\n",
      "\n",
      "число строк и столбцов: (202607, 4)\n",
      "\n",
      "count         202607\n",
      "unique           365\n",
      "top       2018-12-31\n",
      "freq            1435\n",
      "Name: call_date, dtype: object\n",
      "count    202607.000000\n",
      "mean          6.755887\n",
      "std           5.843365\n",
      "min           0.000000\n",
      "25%           1.300000\n",
      "50%           6.000000\n",
      "75%          10.700000\n",
      "max          38.000000\n",
      "Name: duration, dtype: float64\n"
     ]
    }
   ],
   "source": [
    "print(calls.head(15)) # получение первых 15 строк датафрейма\n",
    "print('')\n",
    "print(calls.info()) # получение общей информации\n",
    "print('')\n",
    "print('количество пропущенных значений:', calls.isna().sum())\n",
    "print('')\n",
    "print('количество дубликатов:', calls.duplicated().sum())\n",
    "print('')\n",
    "print('число строк и столбцов:', calls.shape)\n",
    "print()\n",
    "print(calls['call_date'].describe())\n",
    "print(calls['duration'].describe());"
   ]
  },
  {
   "cell_type": "markdown",
   "metadata": {},
   "source": [
    "**Вывод:** аномальных значений не выявлено, дубликатов и пропусков нет. период изучения данных 1 год: с первого января 2018 года по 31 декабря 2018. Необходимо перевести тип данных столбца call_date (дата звонка) из object в datetime64.\n",
    "В данных есть звонки с нулевой продолжительностью. Это не ошибка: нулями обозначены пропущенные звонки, поэтому их не нужно удалять. «Мегалайн» всегда округляет секунды до минут. Каждый звонок округляется отдельно: даже если он длился всего 1 секунду, будет засчитан как 1 минута. Поэтому округлим в большую сторону до минуты все звонки при помощи np.ceil:"
   ]
  },
  {
   "cell_type": "code",
   "execution_count": 4,
   "metadata": {},
   "outputs": [
    {
     "data": {
      "text/html": [
       "<div>\n",
       "<style scoped>\n",
       "    .dataframe tbody tr th:only-of-type {\n",
       "        vertical-align: middle;\n",
       "    }\n",
       "\n",
       "    .dataframe tbody tr th {\n",
       "        vertical-align: top;\n",
       "    }\n",
       "\n",
       "    .dataframe thead th {\n",
       "        text-align: right;\n",
       "    }\n",
       "</style>\n",
       "<table border=\"1\" class=\"dataframe\">\n",
       "  <thead>\n",
       "    <tr style=\"text-align: right;\">\n",
       "      <th></th>\n",
       "      <th>id</th>\n",
       "      <th>call_date</th>\n",
       "      <th>duration</th>\n",
       "      <th>user_id</th>\n",
       "    </tr>\n",
       "  </thead>\n",
       "  <tbody>\n",
       "    <tr>\n",
       "      <th>0</th>\n",
       "      <td>1000_0</td>\n",
       "      <td>2018-07-25</td>\n",
       "      <td>0</td>\n",
       "      <td>1000</td>\n",
       "    </tr>\n",
       "    <tr>\n",
       "      <th>1</th>\n",
       "      <td>1000_1</td>\n",
       "      <td>2018-08-17</td>\n",
       "      <td>0</td>\n",
       "      <td>1000</td>\n",
       "    </tr>\n",
       "    <tr>\n",
       "      <th>2</th>\n",
       "      <td>1000_2</td>\n",
       "      <td>2018-06-11</td>\n",
       "      <td>3</td>\n",
       "      <td>1000</td>\n",
       "    </tr>\n",
       "    <tr>\n",
       "      <th>3</th>\n",
       "      <td>1000_3</td>\n",
       "      <td>2018-09-21</td>\n",
       "      <td>14</td>\n",
       "      <td>1000</td>\n",
       "    </tr>\n",
       "    <tr>\n",
       "      <th>4</th>\n",
       "      <td>1000_4</td>\n",
       "      <td>2018-12-15</td>\n",
       "      <td>6</td>\n",
       "      <td>1000</td>\n",
       "    </tr>\n",
       "  </tbody>\n",
       "</table>\n",
       "</div>"
      ],
      "text/plain": [
       "       id   call_date  duration  user_id\n",
       "0  1000_0  2018-07-25         0     1000\n",
       "1  1000_1  2018-08-17         0     1000\n",
       "2  1000_2  2018-06-11         3     1000\n",
       "3  1000_3  2018-09-21        14     1000\n",
       "4  1000_4  2018-12-15         6     1000"
      ]
     },
     "execution_count": 4,
     "metadata": {},
     "output_type": "execute_result"
    }
   ],
   "source": [
    "calls['duration'] = np.ceil(calls['duration']) # применение метода\n",
    "calls['duration'] = calls['duration'].astype(int) # изменение типа данных в целочисленный\n",
    "calls.head()  # проверка метода"
   ]
  },
  {
   "cell_type": "code",
   "execution_count": 5,
   "metadata": {},
   "outputs": [
    {
     "name": "stdout",
     "output_type": "stream",
     "text": [
      "<class 'pandas.core.frame.DataFrame'>\n",
      "RangeIndex: 202607 entries, 0 to 202606\n",
      "Data columns (total 4 columns):\n",
      " #   Column     Non-Null Count   Dtype         \n",
      "---  ------     --------------   -----         \n",
      " 0   id         202607 non-null  object        \n",
      " 1   call_date  202607 non-null  datetime64[ns]\n",
      " 2   duration   202607 non-null  int64         \n",
      " 3   user_id    202607 non-null  int64         \n",
      "dtypes: datetime64[ns](1), int64(2), object(1)\n",
      "memory usage: 6.2+ MB\n",
      "None\n"
     ]
    }
   ],
   "source": [
    "calls['call_date'] = pd.to_datetime(calls['call_date'],  format='%Y-%m-%d') # приведение к типу даты\n",
    "print(calls.info()) # проверка метода"
   ]
  },
  {
   "cell_type": "markdown",
   "metadata": {},
   "source": [
    "В дальнейшем все расчеты будут происходить помесячно. Поэтому добавлю столбец с месяцем в необходимые таблицы"
   ]
  },
  {
   "cell_type": "code",
   "execution_count": 6,
   "metadata": {},
   "outputs": [
    {
     "data": {
      "text/html": [
       "<div>\n",
       "<style scoped>\n",
       "    .dataframe tbody tr th:only-of-type {\n",
       "        vertical-align: middle;\n",
       "    }\n",
       "\n",
       "    .dataframe tbody tr th {\n",
       "        vertical-align: top;\n",
       "    }\n",
       "\n",
       "    .dataframe thead th {\n",
       "        text-align: right;\n",
       "    }\n",
       "</style>\n",
       "<table border=\"1\" class=\"dataframe\">\n",
       "  <thead>\n",
       "    <tr style=\"text-align: right;\">\n",
       "      <th></th>\n",
       "      <th>id</th>\n",
       "      <th>call_date</th>\n",
       "      <th>duration</th>\n",
       "      <th>user_id</th>\n",
       "      <th>month</th>\n",
       "    </tr>\n",
       "  </thead>\n",
       "  <tbody>\n",
       "    <tr>\n",
       "      <th>0</th>\n",
       "      <td>1000_0</td>\n",
       "      <td>2018-07-25</td>\n",
       "      <td>0</td>\n",
       "      <td>1000</td>\n",
       "      <td>7</td>\n",
       "    </tr>\n",
       "    <tr>\n",
       "      <th>1</th>\n",
       "      <td>1000_1</td>\n",
       "      <td>2018-08-17</td>\n",
       "      <td>0</td>\n",
       "      <td>1000</td>\n",
       "      <td>8</td>\n",
       "    </tr>\n",
       "    <tr>\n",
       "      <th>2</th>\n",
       "      <td>1000_2</td>\n",
       "      <td>2018-06-11</td>\n",
       "      <td>3</td>\n",
       "      <td>1000</td>\n",
       "      <td>6</td>\n",
       "    </tr>\n",
       "    <tr>\n",
       "      <th>3</th>\n",
       "      <td>1000_3</td>\n",
       "      <td>2018-09-21</td>\n",
       "      <td>14</td>\n",
       "      <td>1000</td>\n",
       "      <td>9</td>\n",
       "    </tr>\n",
       "    <tr>\n",
       "      <th>4</th>\n",
       "      <td>1000_4</td>\n",
       "      <td>2018-12-15</td>\n",
       "      <td>6</td>\n",
       "      <td>1000</td>\n",
       "      <td>12</td>\n",
       "    </tr>\n",
       "  </tbody>\n",
       "</table>\n",
       "</div>"
      ],
      "text/plain": [
       "       id  call_date  duration  user_id  month\n",
       "0  1000_0 2018-07-25         0     1000      7\n",
       "1  1000_1 2018-08-17         0     1000      8\n",
       "2  1000_2 2018-06-11         3     1000      6\n",
       "3  1000_3 2018-09-21        14     1000      9\n",
       "4  1000_4 2018-12-15         6     1000     12"
      ]
     },
     "execution_count": 6,
     "metadata": {},
     "output_type": "execute_result"
    }
   ],
   "source": [
    "calls['month'] = calls['call_date'].dt.month # добавление столбца месяц\n",
    "calls.head()  # проверка метода"
   ]
  },
  {
   "cell_type": "markdown",
   "metadata": {},
   "source": [
    "### internet"
   ]
  },
  {
   "cell_type": "code",
   "execution_count": 7,
   "metadata": {},
   "outputs": [
    {
     "name": "stdout",
     "output_type": "stream",
     "text": [
      "    Unnamed: 0       id  mb_used session_date  user_id\n",
      "0            0   1000_0   112.95   2018-11-25     1000\n",
      "1            1   1000_1  1052.81   2018-09-07     1000\n",
      "2            2   1000_2  1197.26   2018-06-25     1000\n",
      "3            3   1000_3   550.27   2018-08-22     1000\n",
      "4            4   1000_4   302.56   2018-09-24     1000\n",
      "5            5   1000_5   399.97   2018-10-02     1000\n",
      "6            6   1000_6   540.08   2018-09-07     1000\n",
      "7            7   1000_7   415.70   2018-07-11     1000\n",
      "8            8   1000_8   505.40   2018-10-08     1000\n",
      "9            9   1000_9   345.54   2018-09-03     1000\n",
      "10          10  1000_10   385.14   2018-09-27     1000\n",
      "11          11  1000_11     0.00   2018-08-28     1000\n",
      "12          12  1000_12   375.87   2018-06-20     1000\n",
      "13          13  1000_13   393.83   2018-08-09     1000\n",
      "14          14  1000_14   180.64   2018-08-11     1000\n",
      "\n",
      "<class 'pandas.core.frame.DataFrame'>\n",
      "RangeIndex: 149396 entries, 0 to 149395\n",
      "Data columns (total 5 columns):\n",
      " #   Column        Non-Null Count   Dtype  \n",
      "---  ------        --------------   -----  \n",
      " 0   Unnamed: 0    149396 non-null  int64  \n",
      " 1   id            149396 non-null  object \n",
      " 2   mb_used       149396 non-null  float64\n",
      " 3   session_date  149396 non-null  object \n",
      " 4   user_id       149396 non-null  int64  \n",
      "dtypes: float64(1), int64(2), object(2)\n",
      "memory usage: 5.7+ MB\n",
      "None\n",
      "\n",
      "количество пропущенных значений: Unnamed: 0      0\n",
      "id              0\n",
      "mb_used         0\n",
      "session_date    0\n",
      "user_id         0\n",
      "dtype: int64\n",
      "количество дубликатов: 0\n",
      "число строк и столбцов: (149396, 5)\n",
      "          Unnamed: 0        mb_used        user_id\n",
      "count  149396.000000  149396.000000  149396.000000\n",
      "mean    74697.500000     370.192426    1252.099842\n",
      "std     43127.054745     278.300951     144.050823\n",
      "min         0.000000       0.000000    1000.000000\n",
      "25%     37348.750000     138.187500    1130.000000\n",
      "50%     74697.500000     348.015000    1251.000000\n",
      "75%    112046.250000     559.552500    1380.000000\n",
      "max    149395.000000    1724.830000    1499.000000\n",
      "\n",
      "count         149396\n",
      "unique           365\n",
      "top       2018-12-31\n",
      "freq            1057\n",
      "Name: session_date, dtype: object\n"
     ]
    }
   ],
   "source": [
    "print(internet.head(15))\n",
    "print()\n",
    "print(internet.info())\n",
    "print()\n",
    "print('количество пропущенных значений:', internet.isna().sum())\n",
    "print('количество дубликатов:', internet.duplicated().sum())\n",
    "print('число строк и столбцов:', internet.shape)\n",
    "print(internet.describe())\n",
    "print()\n",
    "print(internet['session_date'].describe());"
   ]
  },
  {
   "cell_type": "markdown",
   "metadata": {},
   "source": [
    "**Вывод:** аномальных значений не выявлено, дубликатов и пропусков нет. период изучения данных 1 год: с первого января 2018 года по 31 декабря 2018. Переведем тип данных столбца session_date (дата интернет-сессии) из object в datetime64 и добавим столбец с месяцем"
   ]
  },
  {
   "cell_type": "code",
   "execution_count": 8,
   "metadata": {},
   "outputs": [
    {
     "name": "stdout",
     "output_type": "stream",
     "text": [
      "<class 'pandas.core.frame.DataFrame'>\n",
      "RangeIndex: 149396 entries, 0 to 149395\n",
      "Data columns (total 6 columns):\n",
      " #   Column        Non-Null Count   Dtype         \n",
      "---  ------        --------------   -----         \n",
      " 0   Unnamed: 0    149396 non-null  int64         \n",
      " 1   id            149396 non-null  object        \n",
      " 2   mb_used       149396 non-null  float64       \n",
      " 3   session_date  149396 non-null  datetime64[ns]\n",
      " 4   user_id       149396 non-null  int64         \n",
      " 5   month         149396 non-null  int64         \n",
      "dtypes: datetime64[ns](1), float64(1), int64(3), object(1)\n",
      "memory usage: 6.8+ MB\n"
     ]
    }
   ],
   "source": [
    "internet['session_date'] = pd.to_datetime(internet['session_date'],  format='%Y-%m-%d') # приведение к типу даты\n",
    "\n",
    "internet['month'] = internet['session_date'].dt.month #добавление столбца месяц\n",
    "internet.info() # проверка методов"
   ]
  },
  {
   "cell_type": "markdown",
   "metadata": {},
   "source": [
    "### messages"
   ]
  },
  {
   "cell_type": "code",
   "execution_count": 9,
   "metadata": {},
   "outputs": [
    {
     "name": "stdout",
     "output_type": "stream",
     "text": [
      "         id message_date  user_id\n",
      "0    1000_0   2018-06-27     1000\n",
      "1    1000_1   2018-10-08     1000\n",
      "2    1000_2   2018-08-04     1000\n",
      "3    1000_3   2018-06-16     1000\n",
      "4    1000_4   2018-12-05     1000\n",
      "5    1000_5   2018-06-20     1000\n",
      "6    1000_6   2018-11-19     1000\n",
      "7    1000_7   2018-10-29     1000\n",
      "8    1000_8   2018-06-25     1000\n",
      "9    1000_9   2018-12-18     1000\n",
      "10  1000_10   2018-05-30     1000\n",
      "11  1000_11   2018-07-06     1000\n",
      "12  1000_12   2018-08-20     1000\n",
      "13  1000_13   2018-10-30     1000\n",
      "14  1000_14   2018-09-14     1000\n",
      "\n",
      "<class 'pandas.core.frame.DataFrame'>\n",
      "RangeIndex: 123036 entries, 0 to 123035\n",
      "Data columns (total 3 columns):\n",
      " #   Column        Non-Null Count   Dtype \n",
      "---  ------        --------------   ----- \n",
      " 0   id            123036 non-null  object\n",
      " 1   message_date  123036 non-null  object\n",
      " 2   user_id       123036 non-null  int64 \n",
      "dtypes: int64(1), object(2)\n",
      "memory usage: 2.8+ MB\n",
      "None\n",
      "\n",
      "количество пропущенных значений: id              0\n",
      "message_date    0\n",
      "user_id         0\n",
      "dtype: int64\n",
      "количество дубликатов: 0\n",
      "число строк и столбцов: (123036, 3)\n",
      "\n",
      "count         123036\n",
      "unique           364\n",
      "top       2018-12-31\n",
      "freq             859\n",
      "Name: message_date, dtype: object\n"
     ]
    }
   ],
   "source": [
    "print(messages.head(15))\n",
    "print()\n",
    "print(messages.info())\n",
    "print()\n",
    "print('количество пропущенных значений:', messages.isna().sum())\n",
    "print('количество дубликатов:', messages.duplicated().sum())\n",
    "print('число строк и столбцов:', messages.shape)\n",
    "print()\n",
    "print(messages['message_date'].describe());"
   ]
  },
  {
   "cell_type": "markdown",
   "metadata": {},
   "source": [
    "**Вывод:** аномальных значений не выявлено, дубликатов и пропусков нет. Переведем тип данных столбца message_date (дата сообщения) из object в datetime64. Добавим столбец с месяцем"
   ]
  },
  {
   "cell_type": "code",
   "execution_count": 10,
   "metadata": {},
   "outputs": [
    {
     "name": "stdout",
     "output_type": "stream",
     "text": [
      "<class 'pandas.core.frame.DataFrame'>\n",
      "RangeIndex: 123036 entries, 0 to 123035\n",
      "Data columns (total 4 columns):\n",
      " #   Column        Non-Null Count   Dtype         \n",
      "---  ------        --------------   -----         \n",
      " 0   id            123036 non-null  object        \n",
      " 1   message_date  123036 non-null  datetime64[ns]\n",
      " 2   user_id       123036 non-null  int64         \n",
      " 3   month         123036 non-null  int64         \n",
      "dtypes: datetime64[ns](1), int64(2), object(1)\n",
      "memory usage: 3.8+ MB\n"
     ]
    }
   ],
   "source": [
    "messages['message_date'] = pd.to_datetime(messages['message_date'],  format='%Y-%m-%d') # приведение к типу даты\n",
    "\n",
    "messages['month'] = messages['message_date'].dt.month #добавление столбца месяц\n",
    "messages.info()"
   ]
  },
  {
   "cell_type": "markdown",
   "metadata": {},
   "source": [
    "### users"
   ]
  },
  {
   "cell_type": "code",
   "execution_count": 11,
   "metadata": {},
   "outputs": [
    {
     "name": "stdout",
     "output_type": "stream",
     "text": [
      "    user_id  age churn_date              city first_name  last_name  \\\n",
      "0      1000   52        NaN         Краснодар     Рафаил  Верещагин   \n",
      "1      1001   41        NaN            Москва       Иван       Ежов   \n",
      "2      1002   59        NaN       Стерлитамак    Евгений  Абрамович   \n",
      "3      1003   23        NaN            Москва      Белла   Белякова   \n",
      "4      1004   68        NaN       Новокузнецк    Татьяна   Авдеенко   \n",
      "5      1005   67        NaN  Набережные Челны   Афанасий     Горлов   \n",
      "6      1006   21        NaN         Ульяновск     Леонид   Ермолаев   \n",
      "7      1007   65        NaN            Москва        Юна   Березина   \n",
      "8      1008   63        NaN         Челябинск     Рустэм  Пономарёв   \n",
      "9      1009   24        NaN             Пермь   Василиса    Блинова   \n",
      "10     1010   26        NaN            Тюмень     Эдуард    Кононов   \n",
      "11     1011   44        NaN            Самара   Веселина     Алёшко   \n",
      "12     1012   38        NaN   Санкт-Петербург     Варлам   Соловьев   \n",
      "13     1013   36        NaN           Иваново      Борис  Андреенко   \n",
      "14     1014   64        NaN         Чебоксары       Яков   Акинфьев   \n",
      "\n",
      "      reg_date tariff  \n",
      "0   2018-05-25  ultra  \n",
      "1   2018-11-01  smart  \n",
      "2   2018-06-17  smart  \n",
      "3   2018-08-17  ultra  \n",
      "4   2018-05-14  ultra  \n",
      "5   2018-01-25  smart  \n",
      "6   2018-02-26  smart  \n",
      "7   2018-04-19  smart  \n",
      "8   2018-12-19  smart  \n",
      "9   2018-03-22  smart  \n",
      "10  2018-08-05  smart  \n",
      "11  2018-03-19  smart  \n",
      "12  2018-03-28  smart  \n",
      "13  2018-11-14  ultra  \n",
      "14  2018-05-15  smart  \n",
      "\n",
      "<class 'pandas.core.frame.DataFrame'>\n",
      "RangeIndex: 500 entries, 0 to 499\n",
      "Data columns (total 8 columns):\n",
      " #   Column      Non-Null Count  Dtype \n",
      "---  ------      --------------  ----- \n",
      " 0   user_id     500 non-null    int64 \n",
      " 1   age         500 non-null    int64 \n",
      " 2   churn_date  38 non-null     object\n",
      " 3   city        500 non-null    object\n",
      " 4   first_name  500 non-null    object\n",
      " 5   last_name   500 non-null    object\n",
      " 6   reg_date    500 non-null    object\n",
      " 7   tariff      500 non-null    object\n",
      "dtypes: int64(2), object(6)\n",
      "memory usage: 31.4+ KB\n",
      "None\n",
      "\n",
      "количество пропущенных значений: user_id         0\n",
      "age             0\n",
      "churn_date    462\n",
      "city            0\n",
      "first_name      0\n",
      "last_name       0\n",
      "reg_date        0\n",
      "tariff          0\n",
      "dtype: int64\n",
      "количество дубликатов: 0\n",
      "число строк и столбцов: (500, 8)\n",
      "           user_id        age\n",
      "count   500.000000  500.00000\n",
      "mean   1249.500000   46.58800\n",
      "std     144.481833   16.66763\n",
      "min    1000.000000   18.00000\n",
      "25%    1124.750000   32.00000\n",
      "50%    1249.500000   46.00000\n",
      "75%    1374.250000   62.00000\n",
      "max    1499.000000   75.00000\n",
      "\n",
      "count            500\n",
      "unique           270\n",
      "top       2018-05-28\n",
      "freq               8\n",
      "Name: reg_date, dtype: object\n",
      "\n",
      "count             38\n",
      "unique            33\n",
      "top       2018-12-21\n",
      "freq               2\n",
      "Name: churn_date, dtype: object\n"
     ]
    }
   ],
   "source": [
    "print(users.head(15))\n",
    "print()\n",
    "print(users.info())\n",
    "print()\n",
    "print('количество пропущенных значений:', users.isna().sum())\n",
    "print('количество дубликатов:', users.duplicated().sum())\n",
    "print('число строк и столбцов:', users.shape)\n",
    "print(users.describe())\n",
    "print()\n",
    "print(users['reg_date'].describe())\n",
    "print()\n",
    "print(users['churn_date'].describe());"
   ]
  },
  {
   "cell_type": "markdown",
   "metadata": {},
   "source": [
    "**Вывод:** аномальных значений не выявлено, явных дубликатов нет. Пропущенные значения в столбце churn_date связана с тем, что пользователь все еще подключен к данному тарифу. максимальный возраст пользователя 75 лет, минимальный 18. Переведем тип данных столбцов reg_date и churn_date из object в datetime. Посмотрим сколько пользователь подключены к тарифу на момент исследования:"
   ]
  },
  {
   "cell_type": "code",
   "execution_count": 12,
   "metadata": {},
   "outputs": [
    {
     "name": "stdout",
     "output_type": "stream",
     "text": [
      "<class 'pandas.core.frame.DataFrame'>\n",
      "RangeIndex: 500 entries, 0 to 499\n",
      "Data columns (total 8 columns):\n",
      " #   Column      Non-Null Count  Dtype         \n",
      "---  ------      --------------  -----         \n",
      " 0   user_id     500 non-null    int64         \n",
      " 1   age         500 non-null    int64         \n",
      " 2   churn_date  38 non-null     datetime64[ns]\n",
      " 3   city        500 non-null    object        \n",
      " 4   first_name  500 non-null    object        \n",
      " 5   last_name   500 non-null    object        \n",
      " 6   reg_date    500 non-null    datetime64[ns]\n",
      " 7   tariff      500 non-null    object        \n",
      "dtypes: datetime64[ns](2), int64(2), object(4)\n",
      "memory usage: 31.4+ KB\n",
      "None\n"
     ]
    }
   ],
   "source": [
    "users['reg_date'] = pd.to_datetime(users['reg_date'],  format='%Y-%m-%d') \n",
    "users['churn_date'] = pd.to_datetime(users['churn_date'],  format='%Y-%m-%d') # приведение к типу даты\n",
    "print(users.info()) # проверка метода"
   ]
  },
  {
   "cell_type": "markdown",
   "metadata": {},
   "source": [
    "### tariffs"
   ]
  },
  {
   "cell_type": "markdown",
   "metadata": {},
   "source": [
    "**Описание тарифов**\n",
    "\n",
    "**Тариф «Смарт»**\n",
    "- Ежемесячная плата: 550 рублей\n",
    "- Включено: \n",
    "    - 500 минут разговора\n",
    "    - 50 сообщений \n",
    "    - 15 Гб интернет-трафика\n",
    "- Стоимость услуг сверх тарифного пакета:\n",
    "    - минута разговора: 3 рубля\n",
    "    - сообщение: 3 рубля\n",
    "    - 1 Гб интернет-трафика: 200 рублей\n",
    "\n",
    "**Тариф «Ультра»**\n",
    "- Ежемесячная плата: 1950 рублей\n",
    "- Включено: \n",
    "    - 3000 минут разговора\n",
    "    - 1000 сообщений \n",
    "    - 30 Гб интернет-трафика\n",
    "- Стоимость услуг сверх тарифного пакета:\n",
    "    - минута разговора: 1 рубль \n",
    "    - сообщение: 1 рубль \n",
    "    - 1 Гб интернет-трафика: 150 рублей\n",
    "    \n",
    "**Примечание**\n",
    "«Мегалайн» всегда округляет секунды до минут, а мегабайты — до гигабайт. Каждый звонок округляется отдельно: даже если он длился всего 1 секунду, будет засчитан как 1 минута.\n",
    "Для веб-трафика отдельные сессии не считаются. Вместо этого общая сумма за месяц округляется в бо́льшую сторону. Если абонент использует 1025 мегабайт в этом месяце, с него возьмут плату за 2 гигабайта. Неиспользованные за предыдущий месяц звонки, смс, интернет на следующий месяц не переносятся."
   ]
  },
  {
   "cell_type": "code",
   "execution_count": 13,
   "metadata": {},
   "outputs": [
    {
     "name": "stdout",
     "output_type": "stream",
     "text": [
      "   messages_included  mb_per_month_included  minutes_included  \\\n",
      "0                 50                  15360               500   \n",
      "1               1000                  30720              3000   \n",
      "\n",
      "   rub_monthly_fee  rub_per_gb  rub_per_message  rub_per_minute tariff_name  \n",
      "0              550         200                3               3       smart  \n",
      "1             1950         150                1               1       ultra  \n",
      "\n",
      "<class 'pandas.core.frame.DataFrame'>\n",
      "RangeIndex: 2 entries, 0 to 1\n",
      "Data columns (total 8 columns):\n",
      " #   Column                 Non-Null Count  Dtype \n",
      "---  ------                 --------------  ----- \n",
      " 0   messages_included      2 non-null      int64 \n",
      " 1   mb_per_month_included  2 non-null      int64 \n",
      " 2   minutes_included       2 non-null      int64 \n",
      " 3   rub_monthly_fee        2 non-null      int64 \n",
      " 4   rub_per_gb             2 non-null      int64 \n",
      " 5   rub_per_message        2 non-null      int64 \n",
      " 6   rub_per_minute         2 non-null      int64 \n",
      " 7   tariff_name            2 non-null      object\n",
      "dtypes: int64(7), object(1)\n",
      "memory usage: 256.0+ bytes\n",
      "None\n",
      "\n",
      "количество пропущенных значений: messages_included        0\n",
      "mb_per_month_included    0\n",
      "minutes_included         0\n",
      "rub_monthly_fee          0\n",
      "rub_per_gb               0\n",
      "rub_per_message          0\n",
      "rub_per_minute           0\n",
      "tariff_name              0\n",
      "dtype: int64\n",
      "количество дубликатов: 0\n",
      "число строк и столбцов: (2, 8)\n"
     ]
    }
   ],
   "source": [
    "print(tariffs)\n",
    "print()\n",
    "print(tariffs.info())\n",
    "print()\n",
    "print('количество пропущенных значений:', tariffs.isna().sum())\n",
    "print('количество дубликатов:', tariffs.duplicated().sum())\n",
    "print('число строк и столбцов:', tariffs.shape);"
   ]
  },
  {
   "cell_type": "markdown",
   "metadata": {},
   "source": [
    "**Вывод:** аномальных значений не выявлено, дубликатов и пропусков нет. Таблица описывает тарифы смарт и ультра и цены на них"
   ]
  },
  {
   "cell_type": "markdown",
   "metadata": {},
   "source": [
    "## Подготовка данных"
   ]
  },
  {
   "cell_type": "markdown",
   "metadata": {},
   "source": [
    "<a id='intro2'></a>"
   ]
  },
  {
   "cell_type": "markdown",
   "metadata": {},
   "source": [
    "Посчитайте для каждого пользователя:\n",
    "- количество сделанных звонков и израсходованных минут разговора по месяцам;\n",
    "- количество отправленных сообщений по месяцам;\n",
    "- объем израсходованного интернет-трафика по месяцам;\n",
    "- помесячную выручку с каждого пользователя (вычтите бесплатный лимит из суммарного количества звонков, сообщений и интернет-трафика; остаток умножьте на значение из тарифного плана; прибавьте абонентскую плату, соответствующую тарифному плану)."
   ]
  },
  {
   "cell_type": "code",
   "execution_count": 14,
   "metadata": {},
   "outputs": [
    {
     "data": {
      "text/plain": [
       "500"
      ]
     },
     "execution_count": 14,
     "metadata": {},
     "output_type": "execute_result"
    }
   ],
   "source": [
    "# создадим словарь, который будет содержать информацию о соответствии тарифа пользователю\n",
    "tarif_for_user = {}\n",
    "\n",
    "# напишем функцию для заполнения словаря\n",
    "def add_tarif_to_user(row):\n",
    "    tarif_for_user[row[0]] = row[7]\n",
    "    \n",
    "# применим функцию\n",
    "users.apply(add_tarif_to_user, axis=1)\n",
    "len(tarif_for_user)"
   ]
  },
  {
   "cell_type": "code",
   "execution_count": 15,
   "metadata": {},
   "outputs": [
    {
     "name": "stdout",
     "output_type": "stream",
     "text": [
      "Количество пользователей тарифа smart: 351\n",
      "Количество пользователей тарифа ultra: 149\n"
     ]
    }
   ],
   "source": [
    "# Посмотрим на распределения пользователей по тарифам:\n",
    "print('Количество пользователей тарифа smart:', len(users.query('tariff == \"smart\"')))\n",
    "print('Количество пользователей тарифа ultra:', len(users.query('tariff == \"ultra\"')))"
   ]
  },
  {
   "cell_type": "markdown",
   "metadata": {},
   "source": [
    "Получили словарь, в котором сопоставлены user_id и tariff. Добавим колонки с тарифами к calls, internet и messages."
   ]
  },
  {
   "cell_type": "code",
   "execution_count": 16,
   "metadata": {},
   "outputs": [],
   "source": [
    "# функция для добавления тарифа\n",
    "def add_tariff(row):\n",
    "    return tarif_for_user[row]\n",
    "\n",
    "for i in (calls, internet, messages):\n",
    "    i['tariff'] = i['user_id'].apply(add_tariff)"
   ]
  },
  {
   "cell_type": "code",
   "execution_count": 17,
   "metadata": {},
   "outputs": [
    {
     "data": {
      "text/html": [
       "<div>\n",
       "<style scoped>\n",
       "    .dataframe tbody tr th:only-of-type {\n",
       "        vertical-align: middle;\n",
       "    }\n",
       "\n",
       "    .dataframe tbody tr th {\n",
       "        vertical-align: top;\n",
       "    }\n",
       "\n",
       "    .dataframe thead th {\n",
       "        text-align: right;\n",
       "    }\n",
       "</style>\n",
       "<table border=\"1\" class=\"dataframe\">\n",
       "  <thead>\n",
       "    <tr style=\"text-align: right;\">\n",
       "      <th></th>\n",
       "      <th></th>\n",
       "      <th></th>\n",
       "      <th>minutes_calls</th>\n",
       "      <th>count_calls</th>\n",
       "    </tr>\n",
       "    <tr>\n",
       "      <th>user_id</th>\n",
       "      <th>tariff</th>\n",
       "      <th>month</th>\n",
       "      <th></th>\n",
       "      <th></th>\n",
       "    </tr>\n",
       "  </thead>\n",
       "  <tbody>\n",
       "    <tr>\n",
       "      <th rowspan=\"8\" valign=\"top\">1000</th>\n",
       "      <th rowspan=\"8\" valign=\"top\">ultra</th>\n",
       "      <th>5</th>\n",
       "      <td>159</td>\n",
       "      <td>22</td>\n",
       "    </tr>\n",
       "    <tr>\n",
       "      <th>6</th>\n",
       "      <td>172</td>\n",
       "      <td>43</td>\n",
       "    </tr>\n",
       "    <tr>\n",
       "      <th>7</th>\n",
       "      <td>340</td>\n",
       "      <td>47</td>\n",
       "    </tr>\n",
       "    <tr>\n",
       "      <th>8</th>\n",
       "      <td>408</td>\n",
       "      <td>52</td>\n",
       "    </tr>\n",
       "    <tr>\n",
       "      <th>9</th>\n",
       "      <td>466</td>\n",
       "      <td>58</td>\n",
       "    </tr>\n",
       "    <tr>\n",
       "      <th>10</th>\n",
       "      <td>350</td>\n",
       "      <td>57</td>\n",
       "    </tr>\n",
       "    <tr>\n",
       "      <th>11</th>\n",
       "      <td>338</td>\n",
       "      <td>43</td>\n",
       "    </tr>\n",
       "    <tr>\n",
       "      <th>12</th>\n",
       "      <td>333</td>\n",
       "      <td>46</td>\n",
       "    </tr>\n",
       "    <tr>\n",
       "      <th rowspan=\"2\" valign=\"top\">1001</th>\n",
       "      <th rowspan=\"2\" valign=\"top\">smart</th>\n",
       "      <th>11</th>\n",
       "      <td>430</td>\n",
       "      <td>59</td>\n",
       "    </tr>\n",
       "    <tr>\n",
       "      <th>12</th>\n",
       "      <td>414</td>\n",
       "      <td>63</td>\n",
       "    </tr>\n",
       "  </tbody>\n",
       "</table>\n",
       "</div>"
      ],
      "text/plain": [
       "                      minutes_calls  count_calls\n",
       "user_id tariff month                            \n",
       "1000    ultra  5                159           22\n",
       "               6                172           43\n",
       "               7                340           47\n",
       "               8                408           52\n",
       "               9                466           58\n",
       "               10               350           57\n",
       "               11               338           43\n",
       "               12               333           46\n",
       "1001    smart  11               430           59\n",
       "               12               414           63"
      ]
     },
     "execution_count": 17,
     "metadata": {},
     "output_type": "execute_result"
    }
   ],
   "source": [
    "# расчет звонков по месяцам для каждого пользователя\n",
    "\n",
    "calls_pivot = calls.pivot_table(index=['user_id', 'tariff', 'month'], values='duration', aggfunc=['sum', 'count'])\n",
    "calls_pivot.columns = ['minutes_calls', 'count_calls']\n",
    "calls_pivot.head(10)"
   ]
  },
  {
   "cell_type": "code",
   "execution_count": 18,
   "metadata": {},
   "outputs": [
    {
     "data": {
      "text/html": [
       "<div>\n",
       "<style scoped>\n",
       "    .dataframe tbody tr th:only-of-type {\n",
       "        vertical-align: middle;\n",
       "    }\n",
       "\n",
       "    .dataframe tbody tr th {\n",
       "        vertical-align: top;\n",
       "    }\n",
       "\n",
       "    .dataframe thead th {\n",
       "        text-align: right;\n",
       "    }\n",
       "</style>\n",
       "<table border=\"1\" class=\"dataframe\">\n",
       "  <thead>\n",
       "    <tr style=\"text-align: right;\">\n",
       "      <th></th>\n",
       "      <th></th>\n",
       "      <th></th>\n",
       "      <th>count_messages</th>\n",
       "    </tr>\n",
       "    <tr>\n",
       "      <th>user_id</th>\n",
       "      <th>tariff</th>\n",
       "      <th>month</th>\n",
       "      <th></th>\n",
       "    </tr>\n",
       "  </thead>\n",
       "  <tbody>\n",
       "    <tr>\n",
       "      <th rowspan=\"8\" valign=\"top\">1000</th>\n",
       "      <th rowspan=\"8\" valign=\"top\">ultra</th>\n",
       "      <th>5</th>\n",
       "      <td>22</td>\n",
       "    </tr>\n",
       "    <tr>\n",
       "      <th>6</th>\n",
       "      <td>60</td>\n",
       "    </tr>\n",
       "    <tr>\n",
       "      <th>7</th>\n",
       "      <td>75</td>\n",
       "    </tr>\n",
       "    <tr>\n",
       "      <th>8</th>\n",
       "      <td>81</td>\n",
       "    </tr>\n",
       "    <tr>\n",
       "      <th>9</th>\n",
       "      <td>57</td>\n",
       "    </tr>\n",
       "    <tr>\n",
       "      <th>10</th>\n",
       "      <td>73</td>\n",
       "    </tr>\n",
       "    <tr>\n",
       "      <th>11</th>\n",
       "      <td>58</td>\n",
       "    </tr>\n",
       "    <tr>\n",
       "      <th>12</th>\n",
       "      <td>70</td>\n",
       "    </tr>\n",
       "    <tr>\n",
       "      <th rowspan=\"2\" valign=\"top\">1002</th>\n",
       "      <th rowspan=\"2\" valign=\"top\">smart</th>\n",
       "      <th>6</th>\n",
       "      <td>4</td>\n",
       "    </tr>\n",
       "    <tr>\n",
       "      <th>7</th>\n",
       "      <td>11</td>\n",
       "    </tr>\n",
       "  </tbody>\n",
       "</table>\n",
       "</div>"
      ],
      "text/plain": [
       "                      count_messages\n",
       "user_id tariff month                \n",
       "1000    ultra  5                  22\n",
       "               6                  60\n",
       "               7                  75\n",
       "               8                  81\n",
       "               9                  57\n",
       "               10                 73\n",
       "               11                 58\n",
       "               12                 70\n",
       "1002    smart  6                   4\n",
       "               7                  11"
      ]
     },
     "execution_count": 18,
     "metadata": {},
     "output_type": "execute_result"
    }
   ],
   "source": [
    "# расчет сообщений по месяцам для каждого пользователя\n",
    "\n",
    "messages_pivot = messages.pivot_table(index=['user_id', 'tariff', 'month'], values='id', aggfunc=['count'])\n",
    "messages_pivot.columns = ['count_messages']\n",
    "messages_pivot.head(10)"
   ]
  },
  {
   "cell_type": "code",
   "execution_count": 19,
   "metadata": {},
   "outputs": [
    {
     "data": {
      "text/html": [
       "<div>\n",
       "<style scoped>\n",
       "    .dataframe tbody tr th:only-of-type {\n",
       "        vertical-align: middle;\n",
       "    }\n",
       "\n",
       "    .dataframe tbody tr th {\n",
       "        vertical-align: top;\n",
       "    }\n",
       "\n",
       "    .dataframe thead th {\n",
       "        text-align: right;\n",
       "    }\n",
       "</style>\n",
       "<table border=\"1\" class=\"dataframe\">\n",
       "  <thead>\n",
       "    <tr style=\"text-align: right;\">\n",
       "      <th></th>\n",
       "      <th></th>\n",
       "      <th></th>\n",
       "      <th>mb_used</th>\n",
       "    </tr>\n",
       "    <tr>\n",
       "      <th>user_id</th>\n",
       "      <th>tariff</th>\n",
       "      <th>month</th>\n",
       "      <th></th>\n",
       "    </tr>\n",
       "  </thead>\n",
       "  <tbody>\n",
       "    <tr>\n",
       "      <th rowspan=\"8\" valign=\"top\">1000</th>\n",
       "      <th rowspan=\"8\" valign=\"top\">ultra</th>\n",
       "      <th>5</th>\n",
       "      <td>2253.49</td>\n",
       "    </tr>\n",
       "    <tr>\n",
       "      <th>6</th>\n",
       "      <td>23233.77</td>\n",
       "    </tr>\n",
       "    <tr>\n",
       "      <th>7</th>\n",
       "      <td>14003.64</td>\n",
       "    </tr>\n",
       "    <tr>\n",
       "      <th>8</th>\n",
       "      <td>14055.93</td>\n",
       "    </tr>\n",
       "    <tr>\n",
       "      <th>9</th>\n",
       "      <td>14568.91</td>\n",
       "    </tr>\n",
       "    <tr>\n",
       "      <th>10</th>\n",
       "      <td>14702.49</td>\n",
       "    </tr>\n",
       "    <tr>\n",
       "      <th>11</th>\n",
       "      <td>14756.47</td>\n",
       "    </tr>\n",
       "    <tr>\n",
       "      <th>12</th>\n",
       "      <td>9817.61</td>\n",
       "    </tr>\n",
       "    <tr>\n",
       "      <th rowspan=\"2\" valign=\"top\">1001</th>\n",
       "      <th rowspan=\"2\" valign=\"top\">smart</th>\n",
       "      <th>11</th>\n",
       "      <td>18429.34</td>\n",
       "    </tr>\n",
       "    <tr>\n",
       "      <th>12</th>\n",
       "      <td>14036.66</td>\n",
       "    </tr>\n",
       "  </tbody>\n",
       "</table>\n",
       "</div>"
      ],
      "text/plain": [
       "                       mb_used\n",
       "user_id tariff month          \n",
       "1000    ultra  5       2253.49\n",
       "               6      23233.77\n",
       "               7      14003.64\n",
       "               8      14055.93\n",
       "               9      14568.91\n",
       "               10     14702.49\n",
       "               11     14756.47\n",
       "               12      9817.61\n",
       "1001    smart  11     18429.34\n",
       "               12     14036.66"
      ]
     },
     "execution_count": 19,
     "metadata": {},
     "output_type": "execute_result"
    }
   ],
   "source": [
    "# расчет интернет-трафика по месяцам для каждого пользователя\n",
    "internet_pivot = internet.pivot_table(index=['user_id', 'tariff', 'month'], values='mb_used', aggfunc='sum')\n",
    "internet_pivot.columns = ['mb_used']\n",
    "internet_pivot.head(10)"
   ]
  },
  {
   "cell_type": "markdown",
   "metadata": {},
   "source": [
    "Чтобы расчитать помесячную выручку с каждого пользователя составлю таблицу, в которой указана вся необходимая информация о пользователе: тариф, потраченные минуты звонков, смс, интернет:"
   ]
  },
  {
   "cell_type": "code",
   "execution_count": 20,
   "metadata": {},
   "outputs": [
    {
     "data": {
      "text/html": [
       "<div>\n",
       "<style scoped>\n",
       "    .dataframe tbody tr th:only-of-type {\n",
       "        vertical-align: middle;\n",
       "    }\n",
       "\n",
       "    .dataframe tbody tr th {\n",
       "        vertical-align: top;\n",
       "    }\n",
       "\n",
       "    .dataframe thead th {\n",
       "        text-align: right;\n",
       "    }\n",
       "</style>\n",
       "<table border=\"1\" class=\"dataframe\">\n",
       "  <thead>\n",
       "    <tr style=\"text-align: right;\">\n",
       "      <th></th>\n",
       "      <th>user_id</th>\n",
       "      <th>age</th>\n",
       "      <th>churn_date</th>\n",
       "      <th>city</th>\n",
       "      <th>first_name</th>\n",
       "      <th>last_name</th>\n",
       "      <th>reg_date</th>\n",
       "      <th>tariff</th>\n",
       "      <th>month</th>\n",
       "      <th>minutes_calls</th>\n",
       "      <th>count_calls</th>\n",
       "      <th>mb_used</th>\n",
       "      <th>count_messages</th>\n",
       "    </tr>\n",
       "  </thead>\n",
       "  <tbody>\n",
       "    <tr>\n",
       "      <th>0</th>\n",
       "      <td>1000</td>\n",
       "      <td>52.0</td>\n",
       "      <td>NaT</td>\n",
       "      <td>Краснодар</td>\n",
       "      <td>Рафаил</td>\n",
       "      <td>Верещагин</td>\n",
       "      <td>2018-05-25</td>\n",
       "      <td>ultra</td>\n",
       "      <td>5.0</td>\n",
       "      <td>159.0</td>\n",
       "      <td>22.0</td>\n",
       "      <td>2253.49</td>\n",
       "      <td>22.0</td>\n",
       "    </tr>\n",
       "    <tr>\n",
       "      <th>1</th>\n",
       "      <td>1000</td>\n",
       "      <td>52.0</td>\n",
       "      <td>NaT</td>\n",
       "      <td>Краснодар</td>\n",
       "      <td>Рафаил</td>\n",
       "      <td>Верещагин</td>\n",
       "      <td>2018-05-25</td>\n",
       "      <td>ultra</td>\n",
       "      <td>6.0</td>\n",
       "      <td>172.0</td>\n",
       "      <td>43.0</td>\n",
       "      <td>23233.77</td>\n",
       "      <td>60.0</td>\n",
       "    </tr>\n",
       "    <tr>\n",
       "      <th>2</th>\n",
       "      <td>1000</td>\n",
       "      <td>52.0</td>\n",
       "      <td>NaT</td>\n",
       "      <td>Краснодар</td>\n",
       "      <td>Рафаил</td>\n",
       "      <td>Верещагин</td>\n",
       "      <td>2018-05-25</td>\n",
       "      <td>ultra</td>\n",
       "      <td>7.0</td>\n",
       "      <td>340.0</td>\n",
       "      <td>47.0</td>\n",
       "      <td>14003.64</td>\n",
       "      <td>75.0</td>\n",
       "    </tr>\n",
       "    <tr>\n",
       "      <th>3</th>\n",
       "      <td>1000</td>\n",
       "      <td>52.0</td>\n",
       "      <td>NaT</td>\n",
       "      <td>Краснодар</td>\n",
       "      <td>Рафаил</td>\n",
       "      <td>Верещагин</td>\n",
       "      <td>2018-05-25</td>\n",
       "      <td>ultra</td>\n",
       "      <td>8.0</td>\n",
       "      <td>408.0</td>\n",
       "      <td>52.0</td>\n",
       "      <td>14055.93</td>\n",
       "      <td>81.0</td>\n",
       "    </tr>\n",
       "    <tr>\n",
       "      <th>4</th>\n",
       "      <td>1000</td>\n",
       "      <td>52.0</td>\n",
       "      <td>NaT</td>\n",
       "      <td>Краснодар</td>\n",
       "      <td>Рафаил</td>\n",
       "      <td>Верещагин</td>\n",
       "      <td>2018-05-25</td>\n",
       "      <td>ultra</td>\n",
       "      <td>9.0</td>\n",
       "      <td>466.0</td>\n",
       "      <td>58.0</td>\n",
       "      <td>14568.91</td>\n",
       "      <td>57.0</td>\n",
       "    </tr>\n",
       "  </tbody>\n",
       "</table>\n",
       "</div>"
      ],
      "text/plain": [
       "   user_id   age churn_date       city first_name  last_name   reg_date  \\\n",
       "0     1000  52.0        NaT  Краснодар     Рафаил  Верещагин 2018-05-25   \n",
       "1     1000  52.0        NaT  Краснодар     Рафаил  Верещагин 2018-05-25   \n",
       "2     1000  52.0        NaT  Краснодар     Рафаил  Верещагин 2018-05-25   \n",
       "3     1000  52.0        NaT  Краснодар     Рафаил  Верещагин 2018-05-25   \n",
       "4     1000  52.0        NaT  Краснодар     Рафаил  Верещагин 2018-05-25   \n",
       "\n",
       "  tariff  month  minutes_calls  count_calls   mb_used  count_messages  \n",
       "0  ultra    5.0          159.0         22.0   2253.49            22.0  \n",
       "1  ultra    6.0          172.0         43.0  23233.77            60.0  \n",
       "2  ultra    7.0          340.0         47.0  14003.64            75.0  \n",
       "3  ultra    8.0          408.0         52.0  14055.93            81.0  \n",
       "4  ultra    9.0          466.0         58.0  14568.91            57.0  "
      ]
     },
     "metadata": {},
     "output_type": "display_data"
    },
    {
     "name": "stdout",
     "output_type": "stream",
     "text": [
      "<class 'pandas.core.frame.DataFrame'>\n",
      "Int64Index: 3222 entries, 0 to 3221\n",
      "Data columns (total 13 columns):\n",
      " #   Column          Non-Null Count  Dtype         \n",
      "---  ------          --------------  -----         \n",
      " 0   user_id         3222 non-null   int64         \n",
      " 1   age             3182 non-null   float64       \n",
      " 2   churn_date      189 non-null    datetime64[ns]\n",
      " 3   city            3182 non-null   object        \n",
      " 4   first_name      3182 non-null   object        \n",
      " 5   last_name       3182 non-null   object        \n",
      " 6   reg_date        3182 non-null   datetime64[ns]\n",
      " 7   tariff          3222 non-null   object        \n",
      " 8   month           3214 non-null   float64       \n",
      " 9   minutes_calls   3174 non-null   float64       \n",
      " 10  count_calls     3174 non-null   float64       \n",
      " 11  mb_used         3203 non-null   float64       \n",
      " 12  count_messages  2717 non-null   float64       \n",
      "dtypes: datetime64[ns](2), float64(6), int64(1), object(4)\n",
      "memory usage: 352.4+ KB\n"
     ]
    }
   ],
   "source": [
    "data_merge = users.merge(calls_pivot.reset_index(), \n",
    "                         how='outer').merge(internet_pivot.reset_index(), \n",
    "                                           how='outer').merge(messages_pivot.reset_index(), \n",
    "                                                             how='outer')\n",
    "# обзор получившейся таблицы\n",
    "display(data_merge.head())\n",
    "data_merge.info()"
   ]
  },
  {
   "cell_type": "markdown",
   "metadata": {},
   "source": [
    "В даных обнаружены пропуски. Но если для столбца churn_date пропуски оправданны, то пропуски в month могут повлиять на вычисления. Если в ячейке есть nan, значит абонент не пользовался предоставленной связью. Заполним nan нулями. Уберем из таблицы данные со значением месяца = 0. У этих записей количество минут, смс и мб также равно 0, они внесут искажения в распределения."
   ]
  },
  {
   "cell_type": "code",
   "execution_count": 21,
   "metadata": {},
   "outputs": [
    {
     "name": "stdout",
     "output_type": "stream",
     "text": [
      "<class 'pandas.core.frame.DataFrame'>\n",
      "Int64Index: 3214 entries, 0 to 3221\n",
      "Data columns (total 13 columns):\n",
      " #   Column          Non-Null Count  Dtype  \n",
      "---  ------          --------------  -----  \n",
      " 0   user_id         3214 non-null   int64  \n",
      " 1   age             3214 non-null   float64\n",
      " 2   churn_date      3214 non-null   object \n",
      " 3   city            3214 non-null   object \n",
      " 4   first_name      3214 non-null   object \n",
      " 5   last_name       3214 non-null   object \n",
      " 6   reg_date        3214 non-null   object \n",
      " 7   tariff          3214 non-null   object \n",
      " 8   month           3214 non-null   int64  \n",
      " 9   minutes_calls   3214 non-null   float64\n",
      " 10  count_calls     3214 non-null   float64\n",
      " 11  mb_used         3214 non-null   float64\n",
      " 12  count_messages  3214 non-null   float64\n",
      "dtypes: float64(5), int64(2), object(6)\n",
      "memory usage: 351.5+ KB\n"
     ]
    }
   ],
   "source": [
    "data_merge = data_merge.fillna(0)\n",
    "data_merge = data_merge[data_merge['month'] != 0]\n",
    "data_merge['month'] = data_merge['month'].astype(int)\n",
    "data_merge.info()"
   ]
  },
  {
   "cell_type": "code",
   "execution_count": 22,
   "metadata": {},
   "outputs": [],
   "source": [
    "# Помесячная выручка с каждого пользователя:\n",
    "# вычтем бесплатный лимит из суммарного количества звонков, сообщений и интернет-трафика; \n",
    "# остаток умножим на значение из тарифного плана; прибавим абонентскую плату, \n",
    "# соответствующую тарифному плану\n",
    "\n",
    "def megaline_income(row):    \n",
    "    # произведем расчеты выручки для каждого тарифа\n",
    "    # определим функцию по проверке тарифа и расчета сумм к оплате для каждого абонента\n",
    "    def check(tariff):  \n",
    "        # расчет количества минут к оплате\n",
    "        minutes_for_pay = row[9] - tariffs[tariffs['tariff_name'] == tariff].iloc[0, 2]\n",
    "        if minutes_for_pay < 0:\n",
    "            minutes_for_pay = 0            \n",
    "        # расчет количества мегабайт к оплате\n",
    "        internet_for_pay = np.ceil((row[11] - tariffs[tariffs['tariff_name'] == tariff].iloc[0, 1]) / 1024)\n",
    "        if internet_for_pay < 0:\n",
    "            internet_for_pay = 0\n",
    "        # расчет количества сообщений к оплате\n",
    "        messages_for_pay = row[12] - tariffs[tariffs['tariff_name'] == tariff].iloc[0, 0]\n",
    "        if messages_for_pay < 0:\n",
    "            messages_for_pay = 0\n",
    "        return sum([minutes_for_pay * tariffs[tariffs['tariff_name'] == tariff].iloc[0, 6], \n",
    "                internet_for_pay * tariffs[tariffs['tariff_name'] == tariff].iloc[0, 4], \n",
    "                messages_for_pay * tariffs[tariffs['tariff_name'] == tariff].iloc[0, 5]])\n",
    "    # создадим переменную, в которую сохраним значения суммы оплаты минут, сообщений и мб сверх тарифа\n",
    "    result_cash = check(row[7])\n",
    "    return tariffs[tariffs['tariff_name'] == row[7]].iloc[0, 3] + result_cash"
   ]
  },
  {
   "cell_type": "markdown",
   "metadata": {},
   "source": [
    "Добавим в таблицу столбец income, в котором сохранена информация о выручке с каждого пользователя"
   ]
  },
  {
   "cell_type": "code",
   "execution_count": 23,
   "metadata": {},
   "outputs": [
    {
     "data": {
      "text/html": [
       "<div>\n",
       "<style scoped>\n",
       "    .dataframe tbody tr th:only-of-type {\n",
       "        vertical-align: middle;\n",
       "    }\n",
       "\n",
       "    .dataframe tbody tr th {\n",
       "        vertical-align: top;\n",
       "    }\n",
       "\n",
       "    .dataframe thead th {\n",
       "        text-align: right;\n",
       "    }\n",
       "</style>\n",
       "<table border=\"1\" class=\"dataframe\">\n",
       "  <thead>\n",
       "    <tr style=\"text-align: right;\">\n",
       "      <th></th>\n",
       "      <th>user_id</th>\n",
       "      <th>age</th>\n",
       "      <th>churn_date</th>\n",
       "      <th>city</th>\n",
       "      <th>first_name</th>\n",
       "      <th>last_name</th>\n",
       "      <th>reg_date</th>\n",
       "      <th>tariff</th>\n",
       "      <th>month</th>\n",
       "      <th>minutes_calls</th>\n",
       "      <th>count_calls</th>\n",
       "      <th>mb_used</th>\n",
       "      <th>count_messages</th>\n",
       "      <th>income</th>\n",
       "    </tr>\n",
       "  </thead>\n",
       "  <tbody>\n",
       "    <tr>\n",
       "      <th>0</th>\n",
       "      <td>1000</td>\n",
       "      <td>52.0</td>\n",
       "      <td>0</td>\n",
       "      <td>Краснодар</td>\n",
       "      <td>Рафаил</td>\n",
       "      <td>Верещагин</td>\n",
       "      <td>2018-05-25 00:00:00</td>\n",
       "      <td>ultra</td>\n",
       "      <td>5</td>\n",
       "      <td>159.0</td>\n",
       "      <td>22.0</td>\n",
       "      <td>2253.49</td>\n",
       "      <td>22.0</td>\n",
       "      <td>1950.0</td>\n",
       "    </tr>\n",
       "    <tr>\n",
       "      <th>1</th>\n",
       "      <td>1000</td>\n",
       "      <td>52.0</td>\n",
       "      <td>0</td>\n",
       "      <td>Краснодар</td>\n",
       "      <td>Рафаил</td>\n",
       "      <td>Верещагин</td>\n",
       "      <td>2018-05-25 00:00:00</td>\n",
       "      <td>ultra</td>\n",
       "      <td>6</td>\n",
       "      <td>172.0</td>\n",
       "      <td>43.0</td>\n",
       "      <td>23233.77</td>\n",
       "      <td>60.0</td>\n",
       "      <td>1950.0</td>\n",
       "    </tr>\n",
       "    <tr>\n",
       "      <th>2</th>\n",
       "      <td>1000</td>\n",
       "      <td>52.0</td>\n",
       "      <td>0</td>\n",
       "      <td>Краснодар</td>\n",
       "      <td>Рафаил</td>\n",
       "      <td>Верещагин</td>\n",
       "      <td>2018-05-25 00:00:00</td>\n",
       "      <td>ultra</td>\n",
       "      <td>7</td>\n",
       "      <td>340.0</td>\n",
       "      <td>47.0</td>\n",
       "      <td>14003.64</td>\n",
       "      <td>75.0</td>\n",
       "      <td>1950.0</td>\n",
       "    </tr>\n",
       "    <tr>\n",
       "      <th>3</th>\n",
       "      <td>1000</td>\n",
       "      <td>52.0</td>\n",
       "      <td>0</td>\n",
       "      <td>Краснодар</td>\n",
       "      <td>Рафаил</td>\n",
       "      <td>Верещагин</td>\n",
       "      <td>2018-05-25 00:00:00</td>\n",
       "      <td>ultra</td>\n",
       "      <td>8</td>\n",
       "      <td>408.0</td>\n",
       "      <td>52.0</td>\n",
       "      <td>14055.93</td>\n",
       "      <td>81.0</td>\n",
       "      <td>1950.0</td>\n",
       "    </tr>\n",
       "    <tr>\n",
       "      <th>4</th>\n",
       "      <td>1000</td>\n",
       "      <td>52.0</td>\n",
       "      <td>0</td>\n",
       "      <td>Краснодар</td>\n",
       "      <td>Рафаил</td>\n",
       "      <td>Верещагин</td>\n",
       "      <td>2018-05-25 00:00:00</td>\n",
       "      <td>ultra</td>\n",
       "      <td>9</td>\n",
       "      <td>466.0</td>\n",
       "      <td>58.0</td>\n",
       "      <td>14568.91</td>\n",
       "      <td>57.0</td>\n",
       "      <td>1950.0</td>\n",
       "    </tr>\n",
       "  </tbody>\n",
       "</table>\n",
       "</div>"
      ],
      "text/plain": [
       "   user_id   age churn_date       city first_name  last_name  \\\n",
       "0     1000  52.0          0  Краснодар     Рафаил  Верещагин   \n",
       "1     1000  52.0          0  Краснодар     Рафаил  Верещагин   \n",
       "2     1000  52.0          0  Краснодар     Рафаил  Верещагин   \n",
       "3     1000  52.0          0  Краснодар     Рафаил  Верещагин   \n",
       "4     1000  52.0          0  Краснодар     Рафаил  Верещагин   \n",
       "\n",
       "              reg_date tariff  month  minutes_calls  count_calls   mb_used  \\\n",
       "0  2018-05-25 00:00:00  ultra      5          159.0         22.0   2253.49   \n",
       "1  2018-05-25 00:00:00  ultra      6          172.0         43.0  23233.77   \n",
       "2  2018-05-25 00:00:00  ultra      7          340.0         47.0  14003.64   \n",
       "3  2018-05-25 00:00:00  ultra      8          408.0         52.0  14055.93   \n",
       "4  2018-05-25 00:00:00  ultra      9          466.0         58.0  14568.91   \n",
       "\n",
       "   count_messages  income  \n",
       "0            22.0  1950.0  \n",
       "1            60.0  1950.0  \n",
       "2            75.0  1950.0  \n",
       "3            81.0  1950.0  \n",
       "4            57.0  1950.0  "
      ]
     },
     "execution_count": 23,
     "metadata": {},
     "output_type": "execute_result"
    }
   ],
   "source": [
    "data_merge['income'] = data_merge.apply(megaline_income, axis=1)\n",
    "data_merge.head()"
   ]
  },
  {
   "cell_type": "markdown",
   "metadata": {},
   "source": [
    "## Анализ данных\n",
    "Опишите поведение клиентов оператора, исходя из выборки. Сколько минут разговора, сколько сообщений и какой объём интернет-трафика требуется пользователям каждого тарифа в месяц? Посчитайте среднее количество, дисперсию и стандартное отклонение. Постройте гистограммы. Опишите распределения."
   ]
  },
  {
   "cell_type": "markdown",
   "metadata": {},
   "source": [
    "<a id='intro3'></a>"
   ]
  },
  {
   "cell_type": "markdown",
   "metadata": {},
   "source": [
    "Сравним два тарифа за весь период исследования:"
   ]
  },
  {
   "cell_type": "code",
   "execution_count": 24,
   "metadata": {},
   "outputs": [
    {
     "data": {
      "text/html": [
       "<div>\n",
       "<style scoped>\n",
       "    .dataframe tbody tr th:only-of-type {\n",
       "        vertical-align: middle;\n",
       "    }\n",
       "\n",
       "    .dataframe tbody tr th {\n",
       "        vertical-align: top;\n",
       "    }\n",
       "\n",
       "    .dataframe thead th {\n",
       "        text-align: right;\n",
       "    }\n",
       "</style>\n",
       "<table border=\"1\" class=\"dataframe\">\n",
       "  <thead>\n",
       "    <tr style=\"text-align: right;\">\n",
       "      <th></th>\n",
       "      <th>Среднее количество сообщений</th>\n",
       "      <th>Среднее количество Мб</th>\n",
       "      <th>Среднее количество минут разговора</th>\n",
       "      <th>Стандартное отклонение (сообщения)</th>\n",
       "      <th>Стандартное отклонение (трафик Мб)</th>\n",
       "      <th>Стандартное отклонение (звонки)</th>\n",
       "      <th>Дисперсия (сообщения)</th>\n",
       "      <th>Дисперсия (трафик Мб)</th>\n",
       "      <th>Дисперсия (звонки)</th>\n",
       "    </tr>\n",
       "    <tr>\n",
       "      <th>tariff</th>\n",
       "      <th></th>\n",
       "      <th></th>\n",
       "      <th></th>\n",
       "      <th></th>\n",
       "      <th></th>\n",
       "      <th></th>\n",
       "      <th></th>\n",
       "      <th></th>\n",
       "      <th></th>\n",
       "    </tr>\n",
       "  </thead>\n",
       "  <tbody>\n",
       "    <tr>\n",
       "      <th>smart</th>\n",
       "      <td>33.384029</td>\n",
       "      <td>16208.386990</td>\n",
       "      <td>417.934948</td>\n",
       "      <td>28.227876</td>\n",
       "      <td>5870.476681</td>\n",
       "      <td>190.313730</td>\n",
       "      <td>796.812958</td>\n",
       "      <td>3.446250e+07</td>\n",
       "      <td>36219.315784</td>\n",
       "    </tr>\n",
       "    <tr>\n",
       "      <th>ultra</th>\n",
       "      <td>49.363452</td>\n",
       "      <td>19468.805208</td>\n",
       "      <td>526.623350</td>\n",
       "      <td>47.804457</td>\n",
       "      <td>10087.170752</td>\n",
       "      <td>317.606098</td>\n",
       "      <td>2285.266143</td>\n",
       "      <td>1.017510e+08</td>\n",
       "      <td>100873.633397</td>\n",
       "    </tr>\n",
       "  </tbody>\n",
       "</table>\n",
       "</div>"
      ],
      "text/plain": [
       "        Среднее количество сообщений  Среднее количество Мб  \\\n",
       "tariff                                                        \n",
       "smart                      33.384029           16208.386990   \n",
       "ultra                      49.363452           19468.805208   \n",
       "\n",
       "        Среднее количество минут разговора  \\\n",
       "tariff                                       \n",
       "smart                           417.934948   \n",
       "ultra                           526.623350   \n",
       "\n",
       "        Стандартное отклонение (сообщения)  \\\n",
       "tariff                                       \n",
       "smart                            28.227876   \n",
       "ultra                            47.804457   \n",
       "\n",
       "        Стандартное отклонение (трафик Мб)  Стандартное отклонение (звонки)  \\\n",
       "tariff                                                                        \n",
       "smart                          5870.476681                       190.313730   \n",
       "ultra                         10087.170752                       317.606098   \n",
       "\n",
       "        Дисперсия (сообщения)  Дисперсия (трафик Мб)  Дисперсия (звонки)  \n",
       "tariff                                                                    \n",
       "smart              796.812958           3.446250e+07        36219.315784  \n",
       "ultra             2285.266143           1.017510e+08       100873.633397  "
      ]
     },
     "execution_count": 24,
     "metadata": {},
     "output_type": "execute_result"
    }
   ],
   "source": [
    "table = data_merge.pivot_table(index='tariff', values=['minutes_calls', 'mb_used', 'count_messages'], aggfunc=['mean', 'std', 'var'])\n",
    "table.columns = ['Среднее количество сообщений',\n",
    "                      'Среднее количество Мб', \n",
    "                      'Среднее количество минут разговора',\n",
    "                      'Стандартное отклонение (сообщения)',\n",
    "                      'Стандартное отклонение (трафик Мб)',\n",
    "                      'Стандартное отклонение (звонки)',\n",
    "                      'Дисперсия (сообщения)',\n",
    "                      'Дисперсия (трафик Мб)',\n",
    "                      'Дисперсия (звонки)']\n",
    "table"
   ]
  },
  {
   "cell_type": "code",
   "execution_count": 25,
   "metadata": {},
   "outputs": [
    {
     "data": {
      "text/html": [
       "<div>\n",
       "<style scoped>\n",
       "    .dataframe tbody tr th:only-of-type {\n",
       "        vertical-align: middle;\n",
       "    }\n",
       "\n",
       "    .dataframe tbody tr th {\n",
       "        vertical-align: top;\n",
       "    }\n",
       "\n",
       "    .dataframe thead th {\n",
       "        text-align: right;\n",
       "    }\n",
       "</style>\n",
       "<table border=\"1\" class=\"dataframe\">\n",
       "  <thead>\n",
       "    <tr style=\"text-align: right;\">\n",
       "      <th></th>\n",
       "      <th>Среднее количество сообщений</th>\n",
       "      <th>Среднее количество Мб</th>\n",
       "      <th>Среднее количество минут разговора</th>\n",
       "      <th>Стандартное отклонение (сообщения)</th>\n",
       "      <th>Стандартное отклонение (трафик Мб)</th>\n",
       "      <th>Стандартное отклонение (звонки)</th>\n",
       "      <th>Дисперсия (сообщения)</th>\n",
       "      <th>Дисперсия (трафик Мб)</th>\n",
       "      <th>Дисперсия (звонки)</th>\n",
       "    </tr>\n",
       "    <tr>\n",
       "      <th>month</th>\n",
       "      <th></th>\n",
       "      <th></th>\n",
       "      <th></th>\n",
       "      <th></th>\n",
       "      <th></th>\n",
       "      <th></th>\n",
       "      <th></th>\n",
       "      <th></th>\n",
       "      <th></th>\n",
       "    </tr>\n",
       "  </thead>\n",
       "  <tbody>\n",
       "    <tr>\n",
       "      <th>1</th>\n",
       "      <td>18.235294</td>\n",
       "      <td>8513.717647</td>\n",
       "      <td>203.852941</td>\n",
       "      <td>16.197753</td>\n",
       "      <td>6444.681014</td>\n",
       "      <td>154.231454</td>\n",
       "      <td>262.367201</td>\n",
       "      <td>4.153391e+07</td>\n",
       "      <td>23787.341355</td>\n",
       "    </tr>\n",
       "    <tr>\n",
       "      <th>2</th>\n",
       "      <td>24.086207</td>\n",
       "      <td>11597.054310</td>\n",
       "      <td>298.689655</td>\n",
       "      <td>21.750809</td>\n",
       "      <td>6247.353833</td>\n",
       "      <td>190.820041</td>\n",
       "      <td>473.097701</td>\n",
       "      <td>3.902943e+07</td>\n",
       "      <td>36412.287961</td>\n",
       "    </tr>\n",
       "    <tr>\n",
       "      <th>3</th>\n",
       "      <td>31.857143</td>\n",
       "      <td>15104.159091</td>\n",
       "      <td>390.051948</td>\n",
       "      <td>26.804710</td>\n",
       "      <td>5828.237537</td>\n",
       "      <td>191.893604</td>\n",
       "      <td>718.492481</td>\n",
       "      <td>3.396835e+07</td>\n",
       "      <td>36823.155161</td>\n",
       "    </tr>\n",
       "    <tr>\n",
       "      <th>4</th>\n",
       "      <td>30.741071</td>\n",
       "      <td>13462.180625</td>\n",
       "      <td>367.133929</td>\n",
       "      <td>24.538532</td>\n",
       "      <td>5698.249092</td>\n",
       "      <td>186.489161</td>\n",
       "      <td>602.139559</td>\n",
       "      <td>3.247004e+07</td>\n",
       "      <td>34778.207127</td>\n",
       "    </tr>\n",
       "    <tr>\n",
       "      <th>5</th>\n",
       "      <td>33.773050</td>\n",
       "      <td>15805.184326</td>\n",
       "      <td>387.361702</td>\n",
       "      <td>27.036845</td>\n",
       "      <td>5978.231725</td>\n",
       "      <td>186.601343</td>\n",
       "      <td>730.990983</td>\n",
       "      <td>3.573925e+07</td>\n",
       "      <td>34820.061094</td>\n",
       "    </tr>\n",
       "    <tr>\n",
       "      <th>6</th>\n",
       "      <td>33.402439</td>\n",
       "      <td>15794.647988</td>\n",
       "      <td>395.640244</td>\n",
       "      <td>28.404337</td>\n",
       "      <td>5791.155586</td>\n",
       "      <td>175.336587</td>\n",
       "      <td>806.806374</td>\n",
       "      <td>3.353748e+07</td>\n",
       "      <td>30742.918861</td>\n",
       "    </tr>\n",
       "    <tr>\n",
       "      <th>7</th>\n",
       "      <td>33.751244</td>\n",
       "      <td>15743.150348</td>\n",
       "      <td>408.353234</td>\n",
       "      <td>28.282288</td>\n",
       "      <td>5897.154446</td>\n",
       "      <td>179.583601</td>\n",
       "      <td>799.887811</td>\n",
       "      <td>3.477643e+07</td>\n",
       "      <td>32250.269602</td>\n",
       "    </tr>\n",
       "    <tr>\n",
       "      <th>8</th>\n",
       "      <td>33.638298</td>\n",
       "      <td>16610.720085</td>\n",
       "      <td>421.468085</td>\n",
       "      <td>28.952677</td>\n",
       "      <td>5593.499133</td>\n",
       "      <td>186.530382</td>\n",
       "      <td>838.257501</td>\n",
       "      <td>3.128723e+07</td>\n",
       "      <td>34793.583379</td>\n",
       "    </tr>\n",
       "    <tr>\n",
       "      <th>9</th>\n",
       "      <td>33.638462</td>\n",
       "      <td>16303.578808</td>\n",
       "      <td>428.611538</td>\n",
       "      <td>28.117927</td>\n",
       "      <td>5196.115749</td>\n",
       "      <td>183.126576</td>\n",
       "      <td>790.617820</td>\n",
       "      <td>2.699962e+07</td>\n",
       "      <td>33535.342723</td>\n",
       "    </tr>\n",
       "    <tr>\n",
       "      <th>10</th>\n",
       "      <td>33.765306</td>\n",
       "      <td>16757.122891</td>\n",
       "      <td>426.136054</td>\n",
       "      <td>28.567673</td>\n",
       "      <td>5859.384492</td>\n",
       "      <td>188.128510</td>\n",
       "      <td>816.111966</td>\n",
       "      <td>3.433239e+07</td>\n",
       "      <td>35392.336375</td>\n",
       "    </tr>\n",
       "    <tr>\n",
       "      <th>11</th>\n",
       "      <td>34.075949</td>\n",
       "      <td>16895.696646</td>\n",
       "      <td>435.265823</td>\n",
       "      <td>28.389031</td>\n",
       "      <td>5340.273416</td>\n",
       "      <td>177.778618</td>\n",
       "      <td>805.937071</td>\n",
       "      <td>2.851852e+07</td>\n",
       "      <td>31605.237050</td>\n",
       "    </tr>\n",
       "    <tr>\n",
       "      <th>12</th>\n",
       "      <td>35.994065</td>\n",
       "      <td>18113.662047</td>\n",
       "      <td>478.560831</td>\n",
       "      <td>30.576990</td>\n",
       "      <td>5573.682673</td>\n",
       "      <td>199.245131</td>\n",
       "      <td>934.952346</td>\n",
       "      <td>3.106594e+07</td>\n",
       "      <td>39698.622033</td>\n",
       "    </tr>\n",
       "  </tbody>\n",
       "</table>\n",
       "</div>"
      ],
      "text/plain": [
       "       Среднее количество сообщений  Среднее количество Мб  \\\n",
       "month                                                        \n",
       "1                         18.235294            8513.717647   \n",
       "2                         24.086207           11597.054310   \n",
       "3                         31.857143           15104.159091   \n",
       "4                         30.741071           13462.180625   \n",
       "5                         33.773050           15805.184326   \n",
       "6                         33.402439           15794.647988   \n",
       "7                         33.751244           15743.150348   \n",
       "8                         33.638298           16610.720085   \n",
       "9                         33.638462           16303.578808   \n",
       "10                        33.765306           16757.122891   \n",
       "11                        34.075949           16895.696646   \n",
       "12                        35.994065           18113.662047   \n",
       "\n",
       "       Среднее количество минут разговора  Стандартное отклонение (сообщения)  \\\n",
       "month                                                                           \n",
       "1                              203.852941                           16.197753   \n",
       "2                              298.689655                           21.750809   \n",
       "3                              390.051948                           26.804710   \n",
       "4                              367.133929                           24.538532   \n",
       "5                              387.361702                           27.036845   \n",
       "6                              395.640244                           28.404337   \n",
       "7                              408.353234                           28.282288   \n",
       "8                              421.468085                           28.952677   \n",
       "9                              428.611538                           28.117927   \n",
       "10                             426.136054                           28.567673   \n",
       "11                             435.265823                           28.389031   \n",
       "12                             478.560831                           30.576990   \n",
       "\n",
       "       Стандартное отклонение (трафик Мб)  Стандартное отклонение (звонки)  \\\n",
       "month                                                                        \n",
       "1                             6444.681014                       154.231454   \n",
       "2                             6247.353833                       190.820041   \n",
       "3                             5828.237537                       191.893604   \n",
       "4                             5698.249092                       186.489161   \n",
       "5                             5978.231725                       186.601343   \n",
       "6                             5791.155586                       175.336587   \n",
       "7                             5897.154446                       179.583601   \n",
       "8                             5593.499133                       186.530382   \n",
       "9                             5196.115749                       183.126576   \n",
       "10                            5859.384492                       188.128510   \n",
       "11                            5340.273416                       177.778618   \n",
       "12                            5573.682673                       199.245131   \n",
       "\n",
       "       Дисперсия (сообщения)  Дисперсия (трафик Мб)  Дисперсия (звонки)  \n",
       "month                                                                    \n",
       "1                 262.367201           4.153391e+07        23787.341355  \n",
       "2                 473.097701           3.902943e+07        36412.287961  \n",
       "3                 718.492481           3.396835e+07        36823.155161  \n",
       "4                 602.139559           3.247004e+07        34778.207127  \n",
       "5                 730.990983           3.573925e+07        34820.061094  \n",
       "6                 806.806374           3.353748e+07        30742.918861  \n",
       "7                 799.887811           3.477643e+07        32250.269602  \n",
       "8                 838.257501           3.128723e+07        34793.583379  \n",
       "9                 790.617820           2.699962e+07        33535.342723  \n",
       "10                816.111966           3.433239e+07        35392.336375  \n",
       "11                805.937071           2.851852e+07        31605.237050  \n",
       "12                934.952346           3.106594e+07        39698.622033  "
      ]
     },
     "execution_count": 25,
     "metadata": {},
     "output_type": "execute_result"
    }
   ],
   "source": [
    "data_smart = data_merge.query('tariff == \"smart\"').pivot_table(index='month', \n",
    "                                                      values=['minutes_calls', 'mb_used', 'count_messages'],\n",
    "                                                      aggfunc=['mean', 'std', 'var'])\n",
    "data_smart.columns = ['Среднее количество сообщений',\n",
    "                      'Среднее количество Мб', \n",
    "                      'Среднее количество минут разговора',\n",
    "                      'Стандартное отклонение (сообщения)',\n",
    "                      'Стандартное отклонение (трафик Мб)',\n",
    "                      'Стандартное отклонение (звонки)',\n",
    "                      'Дисперсия (сообщения)',\n",
    "                      'Дисперсия (трафик Мб)',\n",
    "                      'Дисперсия (звонки)']\n",
    "data_smart"
   ]
  },
  {
   "cell_type": "code",
   "execution_count": 26,
   "metadata": {},
   "outputs": [
    {
     "data": {
      "text/html": [
       "<div>\n",
       "<style scoped>\n",
       "    .dataframe tbody tr th:only-of-type {\n",
       "        vertical-align: middle;\n",
       "    }\n",
       "\n",
       "    .dataframe tbody tr th {\n",
       "        vertical-align: top;\n",
       "    }\n",
       "\n",
       "    .dataframe thead th {\n",
       "        text-align: right;\n",
       "    }\n",
       "</style>\n",
       "<table border=\"1\" class=\"dataframe\">\n",
       "  <thead>\n",
       "    <tr style=\"text-align: right;\">\n",
       "      <th></th>\n",
       "      <th>Среднее количество сообщений</th>\n",
       "      <th>Среднее количество Мб</th>\n",
       "      <th>Среднее количество минут разговора</th>\n",
       "      <th>Стандартное отклонение (сообщения)</th>\n",
       "      <th>Стандартное отклонение (трафик Мб)</th>\n",
       "      <th>Стандартное отклонение (звонки)</th>\n",
       "      <th>Дисперсия (сообщения)</th>\n",
       "      <th>Дисперсия (трафик Мб)</th>\n",
       "      <th>Дисперсия (звонки)</th>\n",
       "    </tr>\n",
       "    <tr>\n",
       "      <th>month</th>\n",
       "      <th></th>\n",
       "      <th></th>\n",
       "      <th></th>\n",
       "      <th></th>\n",
       "      <th></th>\n",
       "      <th></th>\n",
       "      <th></th>\n",
       "      <th></th>\n",
       "      <th></th>\n",
       "    </tr>\n",
       "  </thead>\n",
       "  <tbody>\n",
       "    <tr>\n",
       "      <th>1</th>\n",
       "      <td>33.777778</td>\n",
       "      <td>13140.681111</td>\n",
       "      <td>428.111111</td>\n",
       "      <td>30.670742</td>\n",
       "      <td>6865.346875</td>\n",
       "      <td>269.757968</td>\n",
       "      <td>940.694444</td>\n",
       "      <td>4.713299e+07</td>\n",
       "      <td>72769.361111</td>\n",
       "    </tr>\n",
       "    <tr>\n",
       "      <th>2</th>\n",
       "      <td>21.958333</td>\n",
       "      <td>11775.937500</td>\n",
       "      <td>297.125000</td>\n",
       "      <td>26.773574</td>\n",
       "      <td>10644.643911</td>\n",
       "      <td>296.512528</td>\n",
       "      <td>716.824275</td>\n",
       "      <td>1.133084e+08</td>\n",
       "      <td>87919.679348</td>\n",
       "    </tr>\n",
       "    <tr>\n",
       "      <th>3</th>\n",
       "      <td>32.297297</td>\n",
       "      <td>17535.550270</td>\n",
       "      <td>489.648649</td>\n",
       "      <td>41.621886</td>\n",
       "      <td>10951.785885</td>\n",
       "      <td>333.743765</td>\n",
       "      <td>1732.381381</td>\n",
       "      <td>1.199416e+08</td>\n",
       "      <td>111384.900901</td>\n",
       "    </tr>\n",
       "    <tr>\n",
       "      <th>4</th>\n",
       "      <td>31.563636</td>\n",
       "      <td>16828.134364</td>\n",
       "      <td>458.018182</td>\n",
       "      <td>37.513831</td>\n",
       "      <td>9718.649845</td>\n",
       "      <td>267.682405</td>\n",
       "      <td>1407.287542</td>\n",
       "      <td>9.445215e+07</td>\n",
       "      <td>71653.870034</td>\n",
       "    </tr>\n",
       "    <tr>\n",
       "      <th>5</th>\n",
       "      <td>37.850746</td>\n",
       "      <td>19363.152985</td>\n",
       "      <td>510.328358</td>\n",
       "      <td>40.306874</td>\n",
       "      <td>10046.110214</td>\n",
       "      <td>289.603511</td>\n",
       "      <td>1624.644052</td>\n",
       "      <td>1.009243e+08</td>\n",
       "      <td>83870.193578</td>\n",
       "    </tr>\n",
       "    <tr>\n",
       "      <th>6</th>\n",
       "      <td>41.726190</td>\n",
       "      <td>18924.939286</td>\n",
       "      <td>479.702381</td>\n",
       "      <td>44.567899</td>\n",
       "      <td>9292.877495</td>\n",
       "      <td>302.549081</td>\n",
       "      <td>1986.297619</td>\n",
       "      <td>8.635757e+07</td>\n",
       "      <td>91535.946500</td>\n",
       "    </tr>\n",
       "    <tr>\n",
       "      <th>7</th>\n",
       "      <td>49.846154</td>\n",
       "      <td>20495.665165</td>\n",
       "      <td>545.791209</td>\n",
       "      <td>48.703621</td>\n",
       "      <td>10065.197069</td>\n",
       "      <td>307.119322</td>\n",
       "      <td>2372.042735</td>\n",
       "      <td>1.013082e+08</td>\n",
       "      <td>94322.278144</td>\n",
       "    </tr>\n",
       "    <tr>\n",
       "      <th>8</th>\n",
       "      <td>48.439252</td>\n",
       "      <td>19576.054673</td>\n",
       "      <td>510.775701</td>\n",
       "      <td>46.601923</td>\n",
       "      <td>10476.556411</td>\n",
       "      <td>312.980026</td>\n",
       "      <td>2171.739199</td>\n",
       "      <td>1.097582e+08</td>\n",
       "      <td>97956.496385</td>\n",
       "    </tr>\n",
       "    <tr>\n",
       "      <th>9</th>\n",
       "      <td>52.286957</td>\n",
       "      <td>19204.277130</td>\n",
       "      <td>539.443478</td>\n",
       "      <td>46.398874</td>\n",
       "      <td>9486.088282</td>\n",
       "      <td>325.141162</td>\n",
       "      <td>2152.855530</td>\n",
       "      <td>8.998587e+07</td>\n",
       "      <td>105716.775286</td>\n",
       "    </tr>\n",
       "    <tr>\n",
       "      <th>10</th>\n",
       "      <td>58.430894</td>\n",
       "      <td>20045.337317</td>\n",
       "      <td>558.081301</td>\n",
       "      <td>51.934398</td>\n",
       "      <td>9803.111743</td>\n",
       "      <td>326.289110</td>\n",
       "      <td>2697.181661</td>\n",
       "      <td>9.610100e+07</td>\n",
       "      <td>106464.583500</td>\n",
       "    </tr>\n",
       "    <tr>\n",
       "      <th>11</th>\n",
       "      <td>55.791045</td>\n",
       "      <td>19786.812463</td>\n",
       "      <td>541.380597</td>\n",
       "      <td>49.768951</td>\n",
       "      <td>9907.519251</td>\n",
       "      <td>310.757232</td>\n",
       "      <td>2476.948491</td>\n",
       "      <td>9.815894e+07</td>\n",
       "      <td>96570.057064</td>\n",
       "    </tr>\n",
       "    <tr>\n",
       "      <th>12</th>\n",
       "      <td>60.611511</td>\n",
       "      <td>21793.172590</td>\n",
       "      <td>592.805755</td>\n",
       "      <td>51.787821</td>\n",
       "      <td>10378.386547</td>\n",
       "      <td>342.456321</td>\n",
       "      <td>2681.978417</td>\n",
       "      <td>1.077109e+08</td>\n",
       "      <td>117276.331561</td>\n",
       "    </tr>\n",
       "  </tbody>\n",
       "</table>\n",
       "</div>"
      ],
      "text/plain": [
       "       Среднее количество сообщений  Среднее количество Мб  \\\n",
       "month                                                        \n",
       "1                         33.777778           13140.681111   \n",
       "2                         21.958333           11775.937500   \n",
       "3                         32.297297           17535.550270   \n",
       "4                         31.563636           16828.134364   \n",
       "5                         37.850746           19363.152985   \n",
       "6                         41.726190           18924.939286   \n",
       "7                         49.846154           20495.665165   \n",
       "8                         48.439252           19576.054673   \n",
       "9                         52.286957           19204.277130   \n",
       "10                        58.430894           20045.337317   \n",
       "11                        55.791045           19786.812463   \n",
       "12                        60.611511           21793.172590   \n",
       "\n",
       "       Среднее количество минут разговора  Стандартное отклонение (сообщения)  \\\n",
       "month                                                                           \n",
       "1                              428.111111                           30.670742   \n",
       "2                              297.125000                           26.773574   \n",
       "3                              489.648649                           41.621886   \n",
       "4                              458.018182                           37.513831   \n",
       "5                              510.328358                           40.306874   \n",
       "6                              479.702381                           44.567899   \n",
       "7                              545.791209                           48.703621   \n",
       "8                              510.775701                           46.601923   \n",
       "9                              539.443478                           46.398874   \n",
       "10                             558.081301                           51.934398   \n",
       "11                             541.380597                           49.768951   \n",
       "12                             592.805755                           51.787821   \n",
       "\n",
       "       Стандартное отклонение (трафик Мб)  Стандартное отклонение (звонки)  \\\n",
       "month                                                                        \n",
       "1                             6865.346875                       269.757968   \n",
       "2                            10644.643911                       296.512528   \n",
       "3                            10951.785885                       333.743765   \n",
       "4                             9718.649845                       267.682405   \n",
       "5                            10046.110214                       289.603511   \n",
       "6                             9292.877495                       302.549081   \n",
       "7                            10065.197069                       307.119322   \n",
       "8                            10476.556411                       312.980026   \n",
       "9                             9486.088282                       325.141162   \n",
       "10                            9803.111743                       326.289110   \n",
       "11                            9907.519251                       310.757232   \n",
       "12                           10378.386547                       342.456321   \n",
       "\n",
       "       Дисперсия (сообщения)  Дисперсия (трафик Мб)  Дисперсия (звонки)  \n",
       "month                                                                    \n",
       "1                 940.694444           4.713299e+07        72769.361111  \n",
       "2                 716.824275           1.133084e+08        87919.679348  \n",
       "3                1732.381381           1.199416e+08       111384.900901  \n",
       "4                1407.287542           9.445215e+07        71653.870034  \n",
       "5                1624.644052           1.009243e+08        83870.193578  \n",
       "6                1986.297619           8.635757e+07        91535.946500  \n",
       "7                2372.042735           1.013082e+08        94322.278144  \n",
       "8                2171.739199           1.097582e+08        97956.496385  \n",
       "9                2152.855530           8.998587e+07       105716.775286  \n",
       "10               2697.181661           9.610100e+07       106464.583500  \n",
       "11               2476.948491           9.815894e+07        96570.057064  \n",
       "12               2681.978417           1.077109e+08       117276.331561  "
      ]
     },
     "execution_count": 26,
     "metadata": {},
     "output_type": "execute_result"
    }
   ],
   "source": [
    "data_ultra = data_merge.query('tariff == \"ultra\"').pivot_table(index='month', \n",
    "                                                      values=['minutes_calls', 'mb_used', 'count_messages'],\n",
    "                                                      aggfunc=['mean', 'std', 'var'])\n",
    "data_ultra.columns = ['Среднее количество сообщений',\n",
    "                      'Среднее количество Мб', \n",
    "                      'Среднее количество минут разговора',\n",
    "                      'Стандартное отклонение (сообщения)',\n",
    "                      'Стандартное отклонение (трафик Мб)',\n",
    "                      'Стандартное отклонение (звонки)',\n",
    "                      'Дисперсия (сообщения)',\n",
    "                      'Дисперсия (трафик Мб)',\n",
    "                      'Дисперсия (звонки)']\n",
    "data_ultra"
   ]
  },
  {
   "cell_type": "markdown",
   "metadata": {},
   "source": [
    "Для визуализации данных построим гистограммы:"
   ]
  },
  {
   "cell_type": "markdown",
   "metadata": {},
   "source": [
    "**Гистограммы для тарифа ultra**"
   ]
  },
  {
   "cell_type": "code",
   "execution_count": 27,
   "metadata": {},
   "outputs": [
    {
     "data": {
      "image/png": "[encoded data removed]",
      "text/plain": [
       "<Figure size 432x288 with 1 Axes>"
      ]
     },
     "metadata": {
      "needs_background": "light"
     },
     "output_type": "display_data"
    }
   ],
   "source": [
    "data_merge.query('tariff == \"ultra\"')['minutes_calls'].hist(bins=80)\n",
    "plt.title(\"minutes_calls\")\n",
    "plt.xlabel(\"количество минут\")\n",
    "plt.ylabel(\"количество пользователей\");"
   ]
  },
  {
   "cell_type": "code",
   "execution_count": 28,
   "metadata": {},
   "outputs": [
    {
     "data": {
      "image/png": "[encoded data removed]",
      "text/plain": [
       "<Figure size 432x288 with 1 Axes>"
      ]
     },
     "metadata": {
      "needs_background": "light"
     },
     "output_type": "display_data"
    }
   ],
   "source": [
    "data_merge.query('tariff == \"ultra\"')['mb_used'].hist(bins=80)\n",
    "plt.title(\"mb_used\")\n",
    "plt.xlabel(\"количество трафика\")\n",
    "plt.ylabel(\"количество пользователей\");"
   ]
  },
  {
   "cell_type": "code",
   "execution_count": 29,
   "metadata": {},
   "outputs": [
    {
     "data": {
      "image/png": "[encoded data removed]",
      "text/plain": [
       "<Figure size 432x288 with 1 Axes>"
      ]
     },
     "metadata": {
      "needs_background": "light"
     },
     "output_type": "display_data"
    }
   ],
   "source": [
    "data_merge.query('tariff == \"ultra\"')['count_messages'].hist(bins=80)\n",
    "plt.title(\"count_messages\")\n",
    "plt.xlabel(\"количество сообщений\")\n",
    "plt.ylabel(\"количество пользователей\");"
   ]
  },
  {
   "cell_type": "markdown",
   "metadata": {},
   "source": [
    "**Гистограммы для тарифа smart**"
   ]
  },
  {
   "cell_type": "code",
   "execution_count": 30,
   "metadata": {},
   "outputs": [
    {
     "data": {
      "image/png": "[encoded data removed]",
      "text/plain": [
       "<Figure size 432x288 with 1 Axes>"
      ]
     },
     "metadata": {
      "needs_background": "light"
     },
     "output_type": "display_data"
    }
   ],
   "source": [
    "data_merge.query('tariff == \"smart\"')['minutes_calls'].hist(bins=80)\n",
    "plt.title(\"minutes_calls\")\n",
    "plt.xlabel(\"количество минут\")\n",
    "plt.ylabel(\"количество пользователей\");"
   ]
  },
  {
   "cell_type": "code",
   "execution_count": 31,
   "metadata": {},
   "outputs": [
    {
     "data": {
      "image/png": "[encoded data removed]",
      "text/plain": [
       "<Figure size 432x288 with 1 Axes>"
      ]
     },
     "metadata": {
      "needs_background": "light"
     },
     "output_type": "display_data"
    }
   ],
   "source": [
    "data_merge.query('tariff == \"smart\"')['mb_used'].hist(bins=80)\n",
    "plt.title(\"mb_used\")\n",
    "plt.xlabel(\"количество трафика\")\n",
    "plt.ylabel(\"количество пользователей\");"
   ]
  },
  {
   "cell_type": "code",
   "execution_count": 32,
   "metadata": {},
   "outputs": [
    {
     "data": {
      "image/png": "[encoded data removed]",
      "text/plain": [
       "<Figure size 432x288 with 1 Axes>"
      ]
     },
     "metadata": {
      "needs_background": "light"
     },
     "output_type": "display_data"
    }
   ],
   "source": [
    "data_merge.query('tariff == \"smart\"')['count_messages'].hist(bins=80)\n",
    "plt.title(\"count_messages\")\n",
    "plt.xlabel(\"количество сообщений\")\n",
    "plt.ylabel(\"количество пользователей\");"
   ]
  },
  {
   "cell_type": "markdown",
   "metadata": {},
   "source": [
    "**Вывод:**\n",
    "\n",
    "Распределения нормальные. \n",
    "\n",
    "Большинство пользователей тарифа **ultra** используют:\n",
    "- от 250 до 800 минут;\n",
    "- от 15000 до 25000 мб;\n",
    "- от 0 до 75 сообщений в месяц\n",
    "\n",
    "Большинство пользователей тарифа **smart** используют:\n",
    "- от 350 до 550 минут;\n",
    "- от 12500 до 22500 мб;\n",
    "- от 0 до 60 сообщений в месяц"
   ]
  },
  {
   "cell_type": "markdown",
   "metadata": {},
   "source": [
    "Посмотрим на распределения выручки по каждому тарифу на графике:"
   ]
  },
  {
   "cell_type": "code",
   "execution_count": 33,
   "metadata": {},
   "outputs": [
    {
     "data": {
      "image/png": "[encoded data removed]",
      "text/plain": [
       "<Figure size 432x288 with 1 Axes>"
      ]
     },
     "metadata": {
      "needs_background": "light"
     },
     "output_type": "display_data"
    }
   ],
   "source": [
    "data_merge.query('tariff == \"smart\"')['income'].plot(\n",
    "    kind='hist',\n",
    "    range=(0, 5000),\n",
    "    bins=25,\n",
    "    linewidth=5,\n",
    "    alpha=0.7,\n",
    "    label='smart',\n",
    "    grid=True,\n",
    "    legend=True,\n",
    ") \n",
    "data_merge.query('tariff == \"ultra\"')['income'].plot(\n",
    "    kind='hist',\n",
    "    range=(0, 5000),\n",
    "    bins=25,\n",
    "    linewidth=5,\n",
    "    alpha=0.7,\n",
    "    label='ultra',\n",
    "    grid=True,\n",
    "    legend=True,\n",
    "    title='Распределения выручки тарифов',\n",
    ")\n",
    "plt.xlabel(\"выручка\")\n",
    "plt.ylabel(\"количество пользователей\");"
   ]
  },
  {
   "cell_type": "markdown",
   "metadata": {},
   "source": [
    "**Вывод:**\n",
    "\n",
    "Большинство пользователей тарифа **ultra** платят фиксированную абоненскую плату 1950 рублей в месяц и не выходят за рамки своего тарифа. \n",
    "\n",
    "В тарифе **smart** пользователи довольно часто выходят за рамки тарифа и платят сверх абоненской платы"
   ]
  },
  {
   "cell_type": "markdown",
   "metadata": {},
   "source": [
    "## Проверка гипотез"
   ]
  },
  {
   "cell_type": "markdown",
   "metadata": {},
   "source": [
    "<a id='intro4'></a>"
   ]
  },
  {
   "cell_type": "markdown",
   "metadata": {},
   "source": [
    "### Средняя выручка пользователей тарифов «Ультра» и «Смарт» различаются"
   ]
  },
  {
   "cell_type": "markdown",
   "metadata": {},
   "source": [
    "**Нулевая гипотеза** - средняя выручка пользователей тарифов «Ультра» и «Смарт» равна.\n",
    "\n",
    "**Альтернативная гипотеза** - средняя выручка пользователей тарифов «Ультра» и «Смарт» различна.\n",
    "\n",
    "Для проверки гипотезы используем `scipy.stats.ttest_ind`, так как имеем две независимые генеральные совокупности."
   ]
  },
  {
   "cell_type": "code",
   "execution_count": 34,
   "metadata": {},
   "outputs": [
    {
     "name": "stdout",
     "output_type": "stream",
     "text": [
      "p-значение: 1.4229814360764067e-160\n",
      "Отвергаем нулевую гипотезу\n"
     ]
    }
   ],
   "source": [
    "alpha = .05 # критический уровень статистической значимости\n",
    "            # если p-value окажется меньше него - отвергнем гипотезу\n",
    "result = st.ttest_ind(data_merge[data_merge['tariff'] == 'smart']['income'], \n",
    "                      data_merge[data_merge['tariff'] == 'ultra']['income'])\n",
    "\n",
    "print('p-значение:', result.pvalue)\n",
    "\n",
    "if (result.pvalue < alpha):\n",
    "    print(\"Отвергаем нулевую гипотезу\")\n",
    "else:\n",
    "    print(\"Не получилось отвергнуть нулевую гипотезу\")"
   ]
  },
  {
   "cell_type": "markdown",
   "metadata": {},
   "source": [
    "**Вывод:** средняя выручка пользователей тарифов «Ультра» и «Смарт» различна."
   ]
  },
  {
   "cell_type": "markdown",
   "metadata": {},
   "source": [
    "### Cредняя выручка пользователей из Москвы отличается от выручки пользователей из других регионов."
   ]
  },
  {
   "cell_type": "markdown",
   "metadata": {},
   "source": [
    "**Нулевая гипотеза** - средняя выручка пользователей из Москвы и пользователей из других регионов равна.\n",
    "\n",
    "**Альтернативная гипотеза** - средняя выручка пользователей из Москвы и пользователей из других регионов различны.\n",
    "\n",
    "Для проверки гипотезы используем `st.ttest_ind`, так как имеем две независимые генеральные совокупности."
   ]
  },
  {
   "cell_type": "code",
   "execution_count": 35,
   "metadata": {},
   "outputs": [
    {
     "name": "stdout",
     "output_type": "stream",
     "text": [
      "p-значение: 0.559612503546864\n",
      "Не получилось отвергнуть нулевую гипотезу\n"
     ]
    }
   ],
   "source": [
    "result = st.ttest_ind(data_merge.query('city == \"Москва\"')['income'], \n",
    "                      data_merge.query('city != \"Москва\"')['income'])\n",
    "\n",
    "print('p-значение:', result.pvalue)\n",
    "\n",
    "if (result.pvalue < alpha):\n",
    "    print(\"Отвергаем нулевую гипотезу\")\n",
    "else:\n",
    "    print(\"Не получилось отвергнуть нулевую гипотезу\")"
   ]
  },
  {
   "cell_type": "markdown",
   "metadata": {},
   "source": [
    "**Вывод:** мы не можем отвергнуть нулевую гипотезу и исключить вероятность, что средняя выручка пользователей из Москвы и пользователей из других регионов равна"
   ]
  },
  {
   "cell_type": "markdown",
   "metadata": {},
   "source": [
    "### Лучший тариф"
   ]
  },
  {
   "cell_type": "markdown",
   "metadata": {},
   "source": [
    "Посмотрим на результаты пункта 5.1, которые говорят о том, что средние выручки не равны. Для ответа на главный вопрос **какой тариф лучше**, а точнее прносит больше денег компании, сравним средние выручки:"
   ]
  },
  {
   "cell_type": "code",
   "execution_count": 36,
   "metadata": {},
   "outputs": [
    {
     "name": "stdout",
     "output_type": "stream",
     "text": [
      "средняя выручка тарифа smart: 1289.9735307312696\n",
      "средняя выручка тарифа ultra: 2070.1522842639592\n"
     ]
    }
   ],
   "source": [
    "print('средняя выручка тарифа smart:', data_merge.query('tariff == \"smart\"')['income'].mean())\n",
    "print('средняя выручка тарифа ultra:', data_merge.query('tariff == \"ultra\"')['income'].mean())"
   ]
  },
  {
   "cell_type": "markdown",
   "metadata": {},
   "source": [
    "Очевидно, что тариф ultra принсит больше выручки, а значит он лучше."
   ]
  },
  {
   "cell_type": "markdown",
   "metadata": {},
   "source": [
    "## Общий вывод"
   ]
  },
  {
   "cell_type": "markdown",
   "metadata": {},
   "source": [
    "В данном проекте я анализировала поведение клиентов и решала задачу **какой тариф лучше.** Данные были предоставлены в пяти таблицах. Работа проводилась в несколько шагов:\n",
    "* [обзор данных](#intro)\n",
    "* [подготовка данных](#intro2)\n",
    "    - создала словарь для тарифов, которые соответствуют каждому пользователю\n",
    "    - создала несколько сводных таблиц\n",
    "    - заполнила и удалила пропуски\n",
    "    - расчитала выручку для каждого пользователя\n",
    "* [анализ данных](#intro3)\n",
    "* [проверка гипотез](#intro4)\n",
    "\n",
    "Чтобы проверить гипотезы я воспользовалась статистическими методами `scipy.stats.ttest_ind`\n",
    "\n",
    "70 % пользователей выборки используют тариф smart, 30 % - ultra\n",
    "\n",
    "На основе проведенного анализа и проверки гипотез, я сравнила средние выручки по тарифам. Сделан вывод, что тариф **ultra** лучше - приносит больше выручки."
   ]
  }
 ],
 "metadata": {
  "ExecuteTimeLog": [
   {
    "duration": 1343,
    "start_time": "2022-05-13T08:31:02.765Z"
   },
   {
    "duration": 181,
    "start_time": "2022-05-13T08:33:45.048Z"
   },
   {
    "duration": 3,
    "start_time": "2022-05-13T08:33:52.127Z"
   },
   {
    "duration": 118,
    "start_time": "2022-05-13T08:33:53.318Z"
   },
   {
    "duration": 388,
    "start_time": "2022-05-13T08:36:10.175Z"
   },
   {
    "duration": 391,
    "start_time": "2022-05-13T08:36:36.681Z"
   },
   {
    "duration": 1773,
    "start_time": "2022-05-14T09:44:39.667Z"
   },
   {
    "duration": 499,
    "start_time": "2022-05-14T09:44:41.443Z"
   },
   {
    "duration": 216,
    "start_time": "2022-05-14T09:44:41.944Z"
   },
   {
    "duration": 218,
    "start_time": "2022-05-14T09:45:11.282Z"
   },
   {
    "duration": 201,
    "start_time": "2022-05-14T09:45:22.880Z"
   },
   {
    "duration": 62,
    "start_time": "2022-05-14T09:51:05.501Z"
   },
   {
    "duration": 51,
    "start_time": "2022-05-14T09:51:28.053Z"
   },
   {
    "duration": 32,
    "start_time": "2022-05-14T09:51:43.395Z"
   },
   {
    "duration": 92,
    "start_time": "2022-05-14T09:52:24.039Z"
   },
   {
    "duration": 1565,
    "start_time": "2022-05-14T09:53:32.751Z"
   },
   {
    "duration": 498,
    "start_time": "2022-05-14T09:53:34.319Z"
   },
   {
    "duration": 226,
    "start_time": "2022-05-14T09:53:34.819Z"
   },
   {
    "duration": 100,
    "start_time": "2022-05-14T09:53:35.048Z"
   },
   {
    "duration": 56,
    "start_time": "2022-05-14T09:54:02.971Z"
   },
   {
    "duration": 208,
    "start_time": "2022-05-14T09:56:21.721Z"
   },
   {
    "duration": 57,
    "start_time": "2022-05-14T09:58:00.453Z"
   },
   {
    "duration": 208,
    "start_time": "2022-05-14T09:58:55.681Z"
   },
   {
    "duration": 213,
    "start_time": "2022-05-14T09:59:38.790Z"
   },
   {
    "duration": 220,
    "start_time": "2022-05-14T09:59:52.423Z"
   },
   {
    "duration": 1527,
    "start_time": "2022-05-14T10:00:36.160Z"
   },
   {
    "duration": 501,
    "start_time": "2022-05-14T10:00:37.690Z"
   },
   {
    "duration": 244,
    "start_time": "2022-05-14T10:00:38.194Z"
   },
   {
    "duration": 86,
    "start_time": "2022-05-14T10:00:38.442Z"
   },
   {
    "duration": 183,
    "start_time": "2022-05-14T10:00:38.530Z"
   },
   {
    "duration": 67,
    "start_time": "2022-05-14T10:00:38.715Z"
   },
   {
    "duration": 213,
    "start_time": "2022-05-14T10:02:04.216Z"
   },
   {
    "duration": 287,
    "start_time": "2022-05-14T10:03:56.668Z"
   },
   {
    "duration": 171,
    "start_time": "2022-05-14T10:04:08.019Z"
   },
   {
    "duration": 254,
    "start_time": "2022-05-14T10:09:30.922Z"
   },
   {
    "duration": 248,
    "start_time": "2022-05-14T10:09:42.281Z"
   },
   {
    "duration": 142,
    "start_time": "2022-05-14T10:13:29.925Z"
   },
   {
    "duration": 187,
    "start_time": "2022-05-14T10:14:23.996Z"
   },
   {
    "duration": 70,
    "start_time": "2022-05-14T10:17:42.049Z"
   },
   {
    "duration": 11,
    "start_time": "2022-05-14T10:23:28.988Z"
   },
   {
    "duration": 49,
    "start_time": "2022-05-14T10:23:51.771Z"
   },
   {
    "duration": 25,
    "start_time": "2022-05-14T10:25:16.469Z"
   },
   {
    "duration": 22,
    "start_time": "2022-05-14T10:25:52.134Z"
   },
   {
    "duration": 55,
    "start_time": "2022-05-14T10:27:33.403Z"
   },
   {
    "duration": 63,
    "start_time": "2022-05-14T10:28:02.652Z"
   },
   {
    "duration": 25,
    "start_time": "2022-05-14T10:30:53.452Z"
   },
   {
    "duration": 96,
    "start_time": "2022-05-15T14:20:16.506Z"
   },
   {
    "duration": 1843,
    "start_time": "2022-05-15T14:20:24.172Z"
   },
   {
    "duration": 1089,
    "start_time": "2022-05-15T14:20:26.018Z"
   },
   {
    "duration": 417,
    "start_time": "2022-05-15T14:20:27.110Z"
   },
   {
    "duration": 32,
    "start_time": "2022-05-15T14:20:27.532Z"
   },
   {
    "duration": 126,
    "start_time": "2022-05-15T14:20:27.567Z"
   },
   {
    "duration": 357,
    "start_time": "2022-05-15T14:20:27.695Z"
   },
   {
    "duration": 56,
    "start_time": "2022-05-15T14:20:28.054Z"
   },
   {
    "duration": 162,
    "start_time": "2022-05-15T14:20:28.112Z"
   },
   {
    "duration": 46,
    "start_time": "2022-05-15T14:20:28.276Z"
   },
   {
    "duration": 74,
    "start_time": "2022-05-15T14:20:28.325Z"
   },
   {
    "duration": 51,
    "start_time": "2022-05-15T14:20:28.402Z"
   },
   {
    "duration": 25,
    "start_time": "2022-05-15T14:20:28.456Z"
   },
   {
    "duration": 21,
    "start_time": "2022-05-15T14:20:30.995Z"
   },
   {
    "duration": 23,
    "start_time": "2022-05-15T14:27:41.622Z"
   },
   {
    "duration": 105,
    "start_time": "2022-05-15T14:30:00.375Z"
   },
   {
    "duration": 20,
    "start_time": "2022-05-15T14:30:09.108Z"
   },
   {
    "duration": 30,
    "start_time": "2022-05-15T14:30:24.855Z"
   },
   {
    "duration": 1741,
    "start_time": "2022-05-15T14:56:33.055Z"
   },
   {
    "duration": 514,
    "start_time": "2022-05-15T14:56:34.799Z"
   },
   {
    "duration": 236,
    "start_time": "2022-05-15T14:56:35.315Z"
   },
   {
    "duration": 16,
    "start_time": "2022-05-15T14:56:35.554Z"
   },
   {
    "duration": 74,
    "start_time": "2022-05-15T14:56:35.573Z"
   },
   {
    "duration": 219,
    "start_time": "2022-05-15T14:56:35.649Z"
   },
   {
    "duration": 63,
    "start_time": "2022-05-15T14:56:35.870Z"
   },
   {
    "duration": 130,
    "start_time": "2022-05-15T14:56:35.935Z"
   },
   {
    "duration": 59,
    "start_time": "2022-05-15T14:56:36.067Z"
   },
   {
    "duration": 68,
    "start_time": "2022-05-15T14:56:36.129Z"
   },
   {
    "duration": 20,
    "start_time": "2022-05-15T14:56:36.199Z"
   },
   {
    "duration": 25,
    "start_time": "2022-05-15T14:56:36.221Z"
   },
   {
    "duration": 56,
    "start_time": "2022-05-15T14:56:36.248Z"
   },
   {
    "duration": 38,
    "start_time": "2022-05-15T14:58:02.247Z"
   },
   {
    "duration": 140,
    "start_time": "2022-05-15T14:58:42.665Z"
   },
   {
    "duration": 16,
    "start_time": "2022-05-15T14:59:08.774Z"
   },
   {
    "duration": 22,
    "start_time": "2022-05-15T15:03:06.972Z"
   },
   {
    "duration": 213,
    "start_time": "2022-05-15T15:07:13.789Z"
   },
   {
    "duration": 24,
    "start_time": "2022-05-15T15:07:19.376Z"
   },
   {
    "duration": 37,
    "start_time": "2022-05-15T15:07:29.713Z"
   },
   {
    "duration": 24,
    "start_time": "2022-05-15T15:09:31.923Z"
   },
   {
    "duration": 43,
    "start_time": "2022-05-15T15:19:34.915Z"
   },
   {
    "duration": 35,
    "start_time": "2022-05-15T15:19:48.932Z"
   },
   {
    "duration": 417,
    "start_time": "2022-05-15T15:21:14.613Z"
   },
   {
    "duration": 417,
    "start_time": "2022-05-15T15:22:07.211Z"
   },
   {
    "duration": 79198,
    "start_time": "2022-05-15T15:26:01.540Z"
   },
   {
    "duration": 68,
    "start_time": "2022-05-15T15:52:44.988Z"
   },
   {
    "duration": 39,
    "start_time": "2022-05-15T15:53:25.657Z"
   },
   {
    "duration": 58,
    "start_time": "2022-05-15T15:54:00.327Z"
   },
   {
    "duration": 67,
    "start_time": "2022-05-15T15:56:04.842Z"
   },
   {
    "duration": 45,
    "start_time": "2022-05-15T15:58:23.869Z"
   },
   {
    "duration": 66,
    "start_time": "2022-05-15T16:01:52.915Z"
   },
   {
    "duration": 61,
    "start_time": "2022-05-15T16:02:07.927Z"
   },
   {
    "duration": 40,
    "start_time": "2022-05-15T16:03:01.638Z"
   },
   {
    "duration": 1355,
    "start_time": "2022-05-18T13:12:08.224Z"
   },
   {
    "duration": 1472,
    "start_time": "2022-05-18T13:12:09.581Z"
   },
   {
    "duration": 213,
    "start_time": "2022-05-18T13:12:34.118Z"
   },
   {
    "duration": 16,
    "start_time": "2022-05-18T13:17:30.788Z"
   },
   {
    "duration": 53,
    "start_time": "2022-05-18T13:21:45.021Z"
   },
   {
    "duration": 64,
    "start_time": "2022-05-18T13:22:01.906Z"
   },
   {
    "duration": 6,
    "start_time": "2022-05-18T13:25:14.253Z"
   },
   {
    "duration": 15,
    "start_time": "2022-05-18T13:28:31.438Z"
   },
   {
    "duration": 109,
    "start_time": "2022-05-18T13:58:18.681Z"
   },
   {
    "duration": 9,
    "start_time": "2022-05-18T13:58:31.341Z"
   },
   {
    "duration": 9,
    "start_time": "2022-05-18T13:58:42.159Z"
   },
   {
    "duration": 1233,
    "start_time": "2022-05-18T13:58:56.393Z"
   },
   {
    "duration": 1089,
    "start_time": "2022-05-18T13:58:57.628Z"
   },
   {
    "duration": 226,
    "start_time": "2022-05-18T13:58:58.719Z"
   },
   {
    "duration": 11,
    "start_time": "2022-05-18T13:58:58.947Z"
   },
   {
    "duration": 93,
    "start_time": "2022-05-18T13:58:58.960Z"
   },
   {
    "duration": 27,
    "start_time": "2022-05-18T13:58:59.054Z"
   },
   {
    "duration": 158,
    "start_time": "2022-05-18T13:58:59.083Z"
   },
   {
    "duration": 55,
    "start_time": "2022-05-18T13:58:59.243Z"
   },
   {
    "duration": 121,
    "start_time": "2022-05-18T13:58:59.300Z"
   },
   {
    "duration": 44,
    "start_time": "2022-05-18T13:58:59.424Z"
   },
   {
    "duration": 55,
    "start_time": "2022-05-18T13:58:59.469Z"
   },
   {
    "duration": 25,
    "start_time": "2022-05-18T13:58:59.526Z"
   },
   {
    "duration": 26,
    "start_time": "2022-05-18T13:58:59.553Z"
   },
   {
    "duration": 51,
    "start_time": "2022-05-18T13:58:59.581Z"
   },
   {
    "duration": 29,
    "start_time": "2022-05-18T13:58:59.633Z"
   },
   {
    "duration": 108,
    "start_time": "2022-05-18T13:58:59.664Z"
   },
   {
    "duration": 3,
    "start_time": "2022-05-18T13:58:59.774Z"
   },
   {
    "duration": 129,
    "start_time": "2022-05-18T13:58:59.778Z"
   },
   {
    "duration": 48,
    "start_time": "2022-05-18T13:58:59.909Z"
   },
   {
    "duration": 57,
    "start_time": "2022-05-18T13:58:59.959Z"
   },
   {
    "duration": 49,
    "start_time": "2022-05-18T13:59:00.018Z"
   },
   {
    "duration": 9,
    "start_time": "2022-05-18T13:59:00.069Z"
   },
   {
    "duration": 8707,
    "start_time": "2022-05-18T13:59:00.080Z"
   },
   {
    "duration": 0,
    "start_time": "2022-05-18T13:59:08.789Z"
   },
   {
    "duration": 0,
    "start_time": "2022-05-18T13:59:08.801Z"
   },
   {
    "duration": 0,
    "start_time": "2022-05-18T13:59:08.802Z"
   },
   {
    "duration": 0,
    "start_time": "2022-05-18T13:59:08.802Z"
   },
   {
    "duration": 0,
    "start_time": "2022-05-18T13:59:08.808Z"
   },
   {
    "duration": 9505,
    "start_time": "2022-05-18T14:00:07.417Z"
   },
   {
    "duration": 13,
    "start_time": "2022-05-18T14:00:25.679Z"
   },
   {
    "duration": 18,
    "start_time": "2022-05-18T14:01:03.495Z"
   },
   {
    "duration": 14,
    "start_time": "2022-05-18T14:01:17.097Z"
   },
   {
    "duration": 5,
    "start_time": "2022-05-18T14:03:06.959Z"
   },
   {
    "duration": 9105,
    "start_time": "2022-05-18T14:03:07.830Z"
   },
   {
    "duration": 23,
    "start_time": "2022-05-18T14:03:16.936Z"
   },
   {
    "duration": 4,
    "start_time": "2022-05-18T14:03:22.869Z"
   },
   {
    "duration": 33,
    "start_time": "2022-05-18T14:03:23.991Z"
   },
   {
    "duration": 31,
    "start_time": "2022-05-18T14:03:25.217Z"
   },
   {
    "duration": 1388,
    "start_time": "2022-05-19T16:49:06.994Z"
   },
   {
    "duration": 1423,
    "start_time": "2022-05-19T16:49:08.384Z"
   },
   {
    "duration": 202,
    "start_time": "2022-05-19T16:49:12.204Z"
   },
   {
    "duration": 14,
    "start_time": "2022-05-19T16:49:13.943Z"
   },
   {
    "duration": 70,
    "start_time": "2022-05-19T16:49:14.516Z"
   },
   {
    "duration": 30,
    "start_time": "2022-05-19T16:49:15.018Z"
   },
   {
    "duration": 164,
    "start_time": "2022-05-19T16:49:16.190Z"
   },
   {
    "duration": 60,
    "start_time": "2022-05-19T16:49:16.712Z"
   },
   {
    "duration": 93,
    "start_time": "2022-05-19T16:49:17.206Z"
   },
   {
    "duration": 49,
    "start_time": "2022-05-19T16:49:17.695Z"
   },
   {
    "duration": 34,
    "start_time": "2022-05-19T16:49:18.247Z"
   },
   {
    "duration": 6,
    "start_time": "2022-05-19T16:49:18.764Z"
   },
   {
    "duration": 15,
    "start_time": "2022-05-19T16:49:19.062Z"
   },
   {
    "duration": 18,
    "start_time": "2022-05-19T16:49:20.011Z"
   },
   {
    "duration": 13,
    "start_time": "2022-05-19T16:49:21.770Z"
   },
   {
    "duration": 104,
    "start_time": "2022-05-19T16:49:22.354Z"
   },
   {
    "duration": 3,
    "start_time": "2022-05-19T16:49:22.974Z"
   },
   {
    "duration": 100,
    "start_time": "2022-05-19T16:49:23.551Z"
   },
   {
    "duration": 51,
    "start_time": "2022-05-19T16:49:25.182Z"
   },
   {
    "duration": 46,
    "start_time": "2022-05-19T16:49:25.798Z"
   },
   {
    "duration": 36,
    "start_time": "2022-05-19T16:49:26.206Z"
   },
   {
    "duration": 8,
    "start_time": "2022-05-19T16:49:27.192Z"
   },
   {
    "duration": 8670,
    "start_time": "2022-05-19T16:49:27.761Z"
   },
   {
    "duration": 23,
    "start_time": "2022-05-19T16:49:36.433Z"
   },
   {
    "duration": 4,
    "start_time": "2022-05-19T16:49:36.458Z"
   },
   {
    "duration": 48,
    "start_time": "2022-05-19T16:49:36.464Z"
   },
   {
    "duration": 32,
    "start_time": "2022-05-19T16:49:36.514Z"
   },
   {
    "duration": 749,
    "start_time": "2022-05-19T17:13:49.189Z"
   },
   {
    "duration": 557,
    "start_time": "2022-05-19T17:14:15.296Z"
   },
   {
    "duration": 26,
    "start_time": "2022-05-19T17:15:25.645Z"
   },
   {
    "duration": 28,
    "start_time": "2022-05-19T17:16:10.804Z"
   },
   {
    "duration": 55,
    "start_time": "2022-05-19T17:17:02.042Z"
   },
   {
    "duration": 28,
    "start_time": "2022-05-19T17:19:02.432Z"
   },
   {
    "duration": 140,
    "start_time": "2022-05-19T17:19:40.860Z"
   },
   {
    "duration": 206,
    "start_time": "2022-05-19T17:20:17.234Z"
   },
   {
    "duration": 249,
    "start_time": "2022-05-19T17:20:33.046Z"
   },
   {
    "duration": 178,
    "start_time": "2022-05-19T17:20:41.190Z"
   },
   {
    "duration": 228,
    "start_time": "2022-05-19T17:20:47.466Z"
   },
   {
    "duration": 226,
    "start_time": "2022-05-19T17:23:07.280Z"
   },
   {
    "duration": 338,
    "start_time": "2022-05-19T17:25:59.147Z"
   },
   {
    "duration": 255,
    "start_time": "2022-05-19T17:26:50.509Z"
   },
   {
    "duration": 238,
    "start_time": "2022-05-19T17:28:38.274Z"
   },
   {
    "duration": 388,
    "start_time": "2022-05-19T17:29:05.649Z"
   },
   {
    "duration": 251,
    "start_time": "2022-05-19T17:30:59.813Z"
   },
   {
    "duration": 399,
    "start_time": "2022-05-19T17:31:46.933Z"
   },
   {
    "duration": 240,
    "start_time": "2022-05-19T17:33:43.933Z"
   },
   {
    "duration": 248,
    "start_time": "2022-05-19T17:33:44.576Z"
   },
   {
    "duration": 257,
    "start_time": "2022-05-19T17:34:20.034Z"
   },
   {
    "duration": 28282,
    "start_time": "2022-05-19T17:37:13.091Z"
   },
   {
    "duration": 146,
    "start_time": "2022-05-19T17:37:41.375Z"
   },
   {
    "duration": 222,
    "start_time": "2022-05-19T17:38:03.638Z"
   },
   {
    "duration": 149,
    "start_time": "2022-05-19T17:38:25.500Z"
   },
   {
    "duration": 153,
    "start_time": "2022-05-19T17:38:41.596Z"
   },
   {
    "duration": 150,
    "start_time": "2022-05-19T17:39:15.873Z"
   },
   {
    "duration": 151,
    "start_time": "2022-05-19T17:39:25.562Z"
   },
   {
    "duration": 217,
    "start_time": "2022-05-19T17:40:51.979Z"
   },
   {
    "duration": 232,
    "start_time": "2022-05-19T17:41:04.095Z"
   },
   {
    "duration": 149,
    "start_time": "2022-05-19T17:41:15.611Z"
   },
   {
    "duration": 243,
    "start_time": "2022-05-19T17:41:23.725Z"
   },
   {
    "duration": 15,
    "start_time": "2022-05-19T17:43:27.566Z"
   },
   {
    "duration": 35,
    "start_time": "2022-05-19T17:45:19.333Z"
   },
   {
    "duration": 17,
    "start_time": "2022-05-19T17:45:26.525Z"
   },
   {
    "duration": 151,
    "start_time": "2022-05-19T17:45:45.795Z"
   },
   {
    "duration": 153,
    "start_time": "2022-05-19T17:46:18.351Z"
   },
   {
    "duration": 227,
    "start_time": "2022-05-19T17:46:50.500Z"
   },
   {
    "duration": 313,
    "start_time": "2022-05-19T17:47:08.036Z"
   },
   {
    "duration": 271,
    "start_time": "2022-05-19T17:48:34.026Z"
   },
   {
    "duration": 158,
    "start_time": "2022-05-19T17:50:16.841Z"
   },
   {
    "duration": 145,
    "start_time": "2022-05-19T17:50:39.674Z"
   },
   {
    "duration": 166,
    "start_time": "2022-05-19T17:50:58.655Z"
   },
   {
    "duration": 130,
    "start_time": "2022-05-19T17:51:10.464Z"
   },
   {
    "duration": 132,
    "start_time": "2022-05-19T17:51:22.236Z"
   },
   {
    "duration": 16,
    "start_time": "2022-05-19T17:51:34.750Z"
   },
   {
    "duration": 238,
    "start_time": "2022-05-19T17:51:45.901Z"
   },
   {
    "duration": 266,
    "start_time": "2022-05-19T17:52:07.298Z"
   },
   {
    "duration": 238,
    "start_time": "2022-05-19T17:52:25.066Z"
   },
   {
    "duration": 8,
    "start_time": "2022-05-19T17:55:10.379Z"
   },
   {
    "duration": 22,
    "start_time": "2022-05-19T17:56:49.271Z"
   },
   {
    "duration": 13,
    "start_time": "2022-05-19T17:57:15.365Z"
   },
   {
    "duration": 17,
    "start_time": "2022-05-19T17:57:38.426Z"
   },
   {
    "duration": 42,
    "start_time": "2022-05-19T18:00:22.861Z"
   },
   {
    "duration": 16,
    "start_time": "2022-05-19T18:00:43.941Z"
   },
   {
    "duration": 9,
    "start_time": "2022-05-19T18:00:53.098Z"
   },
   {
    "duration": 12,
    "start_time": "2022-05-19T18:01:40.110Z"
   },
   {
    "duration": 10,
    "start_time": "2022-05-19T18:02:13.561Z"
   },
   {
    "duration": 1194,
    "start_time": "2022-05-19T18:07:35.847Z"
   },
   {
    "duration": 425,
    "start_time": "2022-05-19T18:07:37.043Z"
   },
   {
    "duration": 3,
    "start_time": "2022-05-19T18:07:56.565Z"
   },
   {
    "duration": 445,
    "start_time": "2022-05-19T18:08:24.734Z"
   },
   {
    "duration": 317,
    "start_time": "2022-05-19T18:10:15.808Z"
   },
   {
    "duration": 43,
    "start_time": "2022-05-19T18:18:31.460Z"
   },
   {
    "duration": 1161,
    "start_time": "2022-05-19T20:14:33.216Z"
   },
   {
    "duration": 443,
    "start_time": "2022-05-19T20:14:34.382Z"
   },
   {
    "duration": 190,
    "start_time": "2022-05-19T20:14:34.827Z"
   },
   {
    "duration": 13,
    "start_time": "2022-05-19T20:14:35.019Z"
   },
   {
    "duration": 71,
    "start_time": "2022-05-19T20:14:35.034Z"
   },
   {
    "duration": 34,
    "start_time": "2022-05-19T20:14:35.107Z"
   },
   {
    "duration": 156,
    "start_time": "2022-05-19T20:14:35.142Z"
   },
   {
    "duration": 54,
    "start_time": "2022-05-19T20:14:35.299Z"
   },
   {
    "duration": 105,
    "start_time": "2022-05-19T20:14:35.355Z"
   },
   {
    "duration": 55,
    "start_time": "2022-05-19T20:14:35.462Z"
   },
   {
    "duration": 31,
    "start_time": "2022-05-19T20:14:35.519Z"
   },
   {
    "duration": 34,
    "start_time": "2022-05-19T20:14:35.552Z"
   },
   {
    "duration": 69,
    "start_time": "2022-05-19T20:14:35.587Z"
   },
   {
    "duration": 49,
    "start_time": "2022-05-19T20:14:35.658Z"
   },
   {
    "duration": 115,
    "start_time": "2022-05-19T20:14:35.709Z"
   },
   {
    "duration": 3,
    "start_time": "2022-05-19T20:14:35.826Z"
   },
   {
    "duration": 122,
    "start_time": "2022-05-19T20:14:35.831Z"
   },
   {
    "duration": 47,
    "start_time": "2022-05-19T20:14:35.954Z"
   },
   {
    "duration": 44,
    "start_time": "2022-05-19T20:14:36.003Z"
   },
   {
    "duration": 53,
    "start_time": "2022-05-19T20:14:36.048Z"
   },
   {
    "duration": 7,
    "start_time": "2022-05-19T20:14:36.103Z"
   },
   {
    "duration": 8181,
    "start_time": "2022-05-19T20:14:36.111Z"
   },
   {
    "duration": 25,
    "start_time": "2022-05-19T20:14:44.299Z"
   },
   {
    "duration": 4,
    "start_time": "2022-05-19T20:14:44.325Z"
   },
   {
    "duration": 39,
    "start_time": "2022-05-19T20:14:44.330Z"
   },
   {
    "duration": 48,
    "start_time": "2022-05-19T20:14:44.371Z"
   },
   {
    "duration": 344,
    "start_time": "2022-05-19T20:14:44.421Z"
   },
   {
    "duration": 239,
    "start_time": "2022-05-19T20:14:44.768Z"
   },
   {
    "duration": 251,
    "start_time": "2022-05-19T20:14:45.009Z"
   },
   {
    "duration": 238,
    "start_time": "2022-05-19T20:14:45.262Z"
   },
   {
    "duration": 238,
    "start_time": "2022-05-19T20:14:45.501Z"
   },
   {
    "duration": 346,
    "start_time": "2022-05-19T20:14:45.741Z"
   },
   {
    "duration": 259,
    "start_time": "2022-05-19T20:14:46.088Z"
   },
   {
    "duration": 231,
    "start_time": "2022-05-19T20:14:46.349Z"
   },
   {
    "duration": 39,
    "start_time": "2022-05-19T20:14:46.582Z"
   },
   {
    "duration": 8,
    "start_time": "2022-05-19T20:14:46.623Z"
   },
   {
    "duration": 11,
    "start_time": "2022-05-19T20:14:46.633Z"
   },
   {
    "duration": 45,
    "start_time": "2022-05-19T20:14:46.646Z"
   },
   {
    "duration": 167,
    "start_time": "2022-05-19T20:19:13.750Z"
   },
   {
    "duration": 174,
    "start_time": "2022-05-19T20:19:34.155Z"
   },
   {
    "duration": 130,
    "start_time": "2022-05-19T20:20:41.311Z"
   },
   {
    "duration": 52,
    "start_time": "2022-05-19T20:22:31.846Z"
   },
   {
    "duration": 36,
    "start_time": "2022-05-19T20:24:21.102Z"
   },
   {
    "duration": 6,
    "start_time": "2022-05-19T20:32:40.656Z"
   },
   {
    "duration": 8389,
    "start_time": "2022-05-19T20:32:42.092Z"
   },
   {
    "duration": 24,
    "start_time": "2022-05-19T20:33:03.465Z"
   },
   {
    "duration": 18,
    "start_time": "2022-05-19T20:33:44.958Z"
   },
   {
    "duration": 20,
    "start_time": "2022-05-19T20:40:09.925Z"
   },
   {
    "duration": 29,
    "start_time": "2022-05-19T20:40:43.509Z"
   },
   {
    "duration": 1197,
    "start_time": "2022-05-19T20:41:07.433Z"
   },
   {
    "duration": 427,
    "start_time": "2022-05-19T20:41:08.631Z"
   },
   {
    "duration": 191,
    "start_time": "2022-05-19T20:41:09.060Z"
   },
   {
    "duration": 13,
    "start_time": "2022-05-19T20:41:09.254Z"
   },
   {
    "duration": 47,
    "start_time": "2022-05-19T20:41:09.283Z"
   },
   {
    "duration": 27,
    "start_time": "2022-05-19T20:41:09.332Z"
   },
   {
    "duration": 163,
    "start_time": "2022-05-19T20:41:09.360Z"
   },
   {
    "duration": 62,
    "start_time": "2022-05-19T20:41:09.524Z"
   },
   {
    "duration": 99,
    "start_time": "2022-05-19T20:41:09.588Z"
   },
   {
    "duration": 54,
    "start_time": "2022-05-19T20:41:09.691Z"
   },
   {
    "duration": 47,
    "start_time": "2022-05-19T20:41:09.747Z"
   },
   {
    "duration": 12,
    "start_time": "2022-05-19T20:41:09.796Z"
   },
   {
    "duration": 16,
    "start_time": "2022-05-19T20:41:09.810Z"
   },
   {
    "duration": 12,
    "start_time": "2022-05-19T20:41:09.828Z"
   },
   {
    "duration": 121,
    "start_time": "2022-05-19T20:41:09.841Z"
   },
   {
    "duration": 120,
    "start_time": "2022-05-19T20:41:09.964Z"
   },
   {
    "duration": 44,
    "start_time": "2022-05-19T20:41:10.086Z"
   },
   {
    "duration": 63,
    "start_time": "2022-05-19T20:41:10.131Z"
   },
   {
    "duration": 36,
    "start_time": "2022-05-19T20:41:10.195Z"
   },
   {
    "duration": 6,
    "start_time": "2022-05-19T20:41:10.233Z"
   },
   {
    "duration": 8404,
    "start_time": "2022-05-19T20:41:10.240Z"
   },
   {
    "duration": 8477,
    "start_time": "2022-05-19T20:41:21.122Z"
   },
   {
    "duration": 27,
    "start_time": "2022-05-19T20:41:29.601Z"
   },
   {
    "duration": 44,
    "start_time": "2022-05-19T20:48:10.269Z"
   },
   {
    "duration": 1163,
    "start_time": "2022-05-19T20:49:22.458Z"
   },
   {
    "duration": 427,
    "start_time": "2022-05-19T20:49:23.622Z"
   },
   {
    "duration": 188,
    "start_time": "2022-05-19T20:49:24.051Z"
   },
   {
    "duration": 13,
    "start_time": "2022-05-19T20:49:24.241Z"
   },
   {
    "duration": 57,
    "start_time": "2022-05-19T20:49:24.255Z"
   },
   {
    "duration": 27,
    "start_time": "2022-05-19T20:49:24.314Z"
   },
   {
    "duration": 160,
    "start_time": "2022-05-19T20:49:24.343Z"
   },
   {
    "duration": 52,
    "start_time": "2022-05-19T20:49:24.505Z"
   },
   {
    "duration": 103,
    "start_time": "2022-05-19T20:49:24.559Z"
   },
   {
    "duration": 54,
    "start_time": "2022-05-19T20:49:24.665Z"
   },
   {
    "duration": 30,
    "start_time": "2022-05-19T20:49:24.721Z"
   },
   {
    "duration": 32,
    "start_time": "2022-05-19T20:49:24.753Z"
   },
   {
    "duration": 16,
    "start_time": "2022-05-19T20:49:24.786Z"
   },
   {
    "duration": 17,
    "start_time": "2022-05-19T20:49:24.804Z"
   },
   {
    "duration": 112,
    "start_time": "2022-05-19T20:49:24.823Z"
   },
   {
    "duration": 105,
    "start_time": "2022-05-19T20:49:24.936Z"
   },
   {
    "duration": 57,
    "start_time": "2022-05-19T20:49:25.042Z"
   },
   {
    "duration": 42,
    "start_time": "2022-05-19T20:49:25.101Z"
   },
   {
    "duration": 59,
    "start_time": "2022-05-19T20:49:30.064Z"
   },
   {
    "duration": 527,
    "start_time": "2022-05-19T20:57:31.666Z"
   },
   {
    "duration": 416,
    "start_time": "2022-05-19T20:58:01.308Z"
   },
   {
    "duration": 1133,
    "start_time": "2022-05-19T20:59:40.191Z"
   },
   {
    "duration": 425,
    "start_time": "2022-05-19T20:59:41.325Z"
   },
   {
    "duration": 192,
    "start_time": "2022-05-19T20:59:41.751Z"
   },
   {
    "duration": 13,
    "start_time": "2022-05-19T20:59:41.946Z"
   },
   {
    "duration": 65,
    "start_time": "2022-05-19T20:59:41.961Z"
   },
   {
    "duration": 28,
    "start_time": "2022-05-19T20:59:42.028Z"
   },
   {
    "duration": 158,
    "start_time": "2022-05-19T20:59:42.058Z"
   },
   {
    "duration": 51,
    "start_time": "2022-05-19T20:59:42.218Z"
   },
   {
    "duration": 103,
    "start_time": "2022-05-19T20:59:42.283Z"
   },
   {
    "duration": 44,
    "start_time": "2022-05-19T20:59:42.389Z"
   },
   {
    "duration": 50,
    "start_time": "2022-05-19T20:59:42.435Z"
   },
   {
    "duration": 14,
    "start_time": "2022-05-19T20:59:42.487Z"
   },
   {
    "duration": 15,
    "start_time": "2022-05-19T20:59:42.503Z"
   },
   {
    "duration": 11,
    "start_time": "2022-05-19T20:59:42.520Z"
   },
   {
    "duration": 115,
    "start_time": "2022-05-19T20:59:42.533Z"
   },
   {
    "duration": 105,
    "start_time": "2022-05-19T20:59:42.650Z"
   },
   {
    "duration": 51,
    "start_time": "2022-05-19T20:59:42.757Z"
   },
   {
    "duration": 43,
    "start_time": "2022-05-19T20:59:42.810Z"
   },
   {
    "duration": 61,
    "start_time": "2022-05-19T20:59:42.854Z"
   },
   {
    "duration": 35,
    "start_time": "2022-05-19T20:59:48.460Z"
   },
   {
    "duration": 16,
    "start_time": "2022-05-19T21:00:15.594Z"
   },
   {
    "duration": 6,
    "start_time": "2022-05-19T21:01:39.973Z"
   },
   {
    "duration": 9071,
    "start_time": "2022-05-19T21:01:49.030Z"
   },
   {
    "duration": 8299,
    "start_time": "2022-05-19T21:02:59.303Z"
   },
   {
    "duration": 177,
    "start_time": "2022-05-19T21:09:59.644Z"
   },
   {
    "duration": 4,
    "start_time": "2022-05-19T21:10:08.920Z"
   },
   {
    "duration": 57,
    "start_time": "2022-05-19T21:10:12.270Z"
   },
   {
    "duration": 35,
    "start_time": "2022-05-19T21:14:45.363Z"
   },
   {
    "duration": 35,
    "start_time": "2022-05-19T21:15:38.116Z"
   },
   {
    "duration": 259,
    "start_time": "2022-05-19T21:17:23.183Z"
   },
   {
    "duration": 620,
    "start_time": "2022-05-19T21:31:48.576Z"
   },
   {
    "duration": 231,
    "start_time": "2022-05-19T21:32:11.786Z"
   },
   {
    "duration": 242,
    "start_time": "2022-05-19T21:32:34.521Z"
   },
   {
    "duration": 239,
    "start_time": "2022-05-19T21:35:29.651Z"
   },
   {
    "duration": 8,
    "start_time": "2022-05-19T21:47:22.352Z"
   },
   {
    "duration": 10,
    "start_time": "2022-05-19T21:56:11.020Z"
   },
   {
    "duration": 9,
    "start_time": "2022-05-19T22:03:45.602Z"
   },
   {
    "duration": 44,
    "start_time": "2022-05-19T22:31:04.166Z"
   },
   {
    "duration": 33,
    "start_time": "2022-05-19T22:32:18.196Z"
   },
   {
    "duration": 40,
    "start_time": "2022-05-19T22:32:38.014Z"
   },
   {
    "duration": 29,
    "start_time": "2022-05-19T22:32:42.994Z"
   },
   {
    "duration": 33,
    "start_time": "2022-05-19T22:33:10.235Z"
   },
   {
    "duration": 55,
    "start_time": "2022-05-19T22:33:23.243Z"
   },
   {
    "duration": 1159,
    "start_time": "2022-05-19T22:47:09.359Z"
   },
   {
    "duration": 424,
    "start_time": "2022-05-19T22:47:10.519Z"
   },
   {
    "duration": 195,
    "start_time": "2022-05-19T22:47:10.945Z"
   },
   {
    "duration": 12,
    "start_time": "2022-05-19T22:47:11.142Z"
   },
   {
    "duration": 59,
    "start_time": "2022-05-19T22:47:11.155Z"
   },
   {
    "duration": 27,
    "start_time": "2022-05-19T22:47:11.216Z"
   },
   {
    "duration": 154,
    "start_time": "2022-05-19T22:47:11.244Z"
   },
   {
    "duration": 52,
    "start_time": "2022-05-19T22:47:11.399Z"
   },
   {
    "duration": 102,
    "start_time": "2022-05-19T22:47:11.453Z"
   },
   {
    "duration": 49,
    "start_time": "2022-05-19T22:47:11.557Z"
   },
   {
    "duration": 30,
    "start_time": "2022-05-19T22:47:11.607Z"
   },
   {
    "duration": 12,
    "start_time": "2022-05-19T22:47:11.638Z"
   },
   {
    "duration": 46,
    "start_time": "2022-05-19T22:47:11.651Z"
   },
   {
    "duration": 13,
    "start_time": "2022-05-19T22:47:11.701Z"
   },
   {
    "duration": 100,
    "start_time": "2022-05-19T22:47:11.715Z"
   },
   {
    "duration": 108,
    "start_time": "2022-05-19T22:47:11.817Z"
   },
   {
    "duration": 43,
    "start_time": "2022-05-19T22:47:11.927Z"
   },
   {
    "duration": 43,
    "start_time": "2022-05-19T22:47:11.982Z"
   },
   {
    "duration": 63,
    "start_time": "2022-05-19T22:47:12.027Z"
   },
   {
    "duration": 40,
    "start_time": "2022-05-19T22:47:12.092Z"
   },
   {
    "duration": 6,
    "start_time": "2022-05-19T22:47:12.134Z"
   },
   {
    "duration": 7902,
    "start_time": "2022-05-19T22:47:12.142Z"
   },
   {
    "duration": 42,
    "start_time": "2022-05-19T22:47:20.045Z"
   },
   {
    "duration": 31,
    "start_time": "2022-05-19T22:47:20.089Z"
   },
   {
    "duration": 251,
    "start_time": "2022-05-19T22:47:20.121Z"
   },
   {
    "duration": 227,
    "start_time": "2022-05-19T22:47:20.374Z"
   },
   {
    "duration": 244,
    "start_time": "2022-05-19T22:47:20.603Z"
   },
   {
    "duration": 232,
    "start_time": "2022-05-19T22:47:20.848Z"
   },
   {
    "duration": 245,
    "start_time": "2022-05-19T22:47:21.081Z"
   },
   {
    "duration": 357,
    "start_time": "2022-05-19T22:47:21.327Z"
   },
   {
    "duration": 245,
    "start_time": "2022-05-19T22:47:21.685Z"
   },
   {
    "duration": 8,
    "start_time": "2022-05-19T22:47:21.932Z"
   },
   {
    "duration": 12,
    "start_time": "2022-05-19T22:47:21.941Z"
   },
   {
    "duration": 30,
    "start_time": "2022-05-19T22:47:21.954Z"
   },
   {
    "duration": 102,
    "start_time": "2022-05-19T23:00:14.199Z"
   },
   {
    "duration": 9,
    "start_time": "2022-05-19T23:00:59.679Z"
   },
   {
    "duration": 9,
    "start_time": "2022-05-19T23:03:00.178Z"
   },
   {
    "duration": 7,
    "start_time": "2022-05-19T23:03:49.341Z"
   },
   {
    "duration": 1122,
    "start_time": "2022-05-20T18:51:54.008Z"
   },
   {
    "duration": 449,
    "start_time": "2022-05-20T18:51:55.133Z"
   },
   {
    "duration": 173,
    "start_time": "2022-05-20T18:51:55.584Z"
   },
   {
    "duration": 12,
    "start_time": "2022-05-20T18:51:55.768Z"
   },
   {
    "duration": 41,
    "start_time": "2022-05-20T18:51:55.781Z"
   },
   {
    "duration": 33,
    "start_time": "2022-05-20T18:51:55.824Z"
   },
   {
    "duration": 139,
    "start_time": "2022-05-20T18:51:55.858Z"
   },
   {
    "duration": 67,
    "start_time": "2022-05-20T18:51:55.998Z"
   },
   {
    "duration": 93,
    "start_time": "2022-05-20T18:51:56.067Z"
   },
   {
    "duration": 47,
    "start_time": "2022-05-20T18:51:56.163Z"
   },
   {
    "duration": 47,
    "start_time": "2022-05-20T18:51:56.212Z"
   },
   {
    "duration": 16,
    "start_time": "2022-05-20T18:51:56.260Z"
   },
   {
    "duration": 25,
    "start_time": "2022-05-20T18:51:56.277Z"
   },
   {
    "duration": 13,
    "start_time": "2022-05-20T18:51:56.303Z"
   },
   {
    "duration": 7,
    "start_time": "2022-05-20T18:51:56.318Z"
   },
   {
    "duration": 110,
    "start_time": "2022-05-20T18:51:56.327Z"
   },
   {
    "duration": 99,
    "start_time": "2022-05-20T18:51:56.439Z"
   },
   {
    "duration": 50,
    "start_time": "2022-05-20T18:51:56.539Z"
   },
   {
    "duration": 42,
    "start_time": "2022-05-20T18:51:56.591Z"
   },
   {
    "duration": 65,
    "start_time": "2022-05-20T18:51:56.635Z"
   },
   {
    "duration": 53,
    "start_time": "2022-05-20T18:51:56.702Z"
   },
   {
    "duration": 7,
    "start_time": "2022-05-20T18:51:56.758Z"
   },
   {
    "duration": 9004,
    "start_time": "2022-05-20T18:51:56.768Z"
   },
   {
    "duration": 31,
    "start_time": "2022-05-20T18:52:05.773Z"
   },
   {
    "duration": 62,
    "start_time": "2022-05-20T18:52:05.806Z"
   },
   {
    "duration": 248,
    "start_time": "2022-05-20T18:52:05.870Z"
   },
   {
    "duration": 246,
    "start_time": "2022-05-20T18:52:06.119Z"
   },
   {
    "duration": 232,
    "start_time": "2022-05-20T18:52:06.370Z"
   },
   {
    "duration": 259,
    "start_time": "2022-05-20T18:52:06.604Z"
   },
   {
    "duration": 246,
    "start_time": "2022-05-20T18:52:06.868Z"
   },
   {
    "duration": 345,
    "start_time": "2022-05-20T18:52:07.116Z"
   },
   {
    "duration": 261,
    "start_time": "2022-05-20T18:52:07.463Z"
   },
   {
    "duration": 9,
    "start_time": "2022-05-20T18:52:07.726Z"
   },
   {
    "duration": 29,
    "start_time": "2022-05-20T18:52:07.737Z"
   },
   {
    "duration": 15,
    "start_time": "2022-05-20T18:52:07.768Z"
   },
   {
    "duration": 57,
    "start_time": "2022-05-20T20:20:56.723Z"
   },
   {
    "duration": 1417,
    "start_time": "2022-05-20T20:21:14.140Z"
   },
   {
    "duration": 769,
    "start_time": "2022-05-20T20:21:15.559Z"
   },
   {
    "duration": 215,
    "start_time": "2022-05-20T20:21:16.330Z"
   },
   {
    "duration": 34,
    "start_time": "2022-05-20T20:21:16.547Z"
   },
   {
    "duration": 54,
    "start_time": "2022-05-20T20:21:16.583Z"
   },
   {
    "duration": 46,
    "start_time": "2022-05-20T20:21:16.639Z"
   },
   {
    "duration": 168,
    "start_time": "2022-05-20T20:21:16.686Z"
   },
   {
    "duration": 61,
    "start_time": "2022-05-20T20:21:16.869Z"
   },
   {
    "duration": 118,
    "start_time": "2022-05-20T20:21:16.932Z"
   },
   {
    "duration": 58,
    "start_time": "2022-05-20T20:21:17.053Z"
   },
   {
    "duration": 60,
    "start_time": "2022-05-20T20:21:17.113Z"
   },
   {
    "duration": 15,
    "start_time": "2022-05-20T20:21:17.174Z"
   },
   {
    "duration": 20,
    "start_time": "2022-05-20T20:21:17.191Z"
   },
   {
    "duration": 13,
    "start_time": "2022-05-20T20:21:17.213Z"
   },
   {
    "duration": 8,
    "start_time": "2022-05-20T20:21:17.228Z"
   },
   {
    "duration": 140,
    "start_time": "2022-05-20T20:21:17.239Z"
   },
   {
    "duration": 123,
    "start_time": "2022-05-20T20:21:17.380Z"
   },
   {
    "duration": 43,
    "start_time": "2022-05-20T20:21:17.505Z"
   },
   {
    "duration": 60,
    "start_time": "2022-05-20T20:21:17.550Z"
   },
   {
    "duration": 65,
    "start_time": "2022-05-20T20:21:17.611Z"
   },
   {
    "duration": 110,
    "start_time": "2022-05-20T20:21:17.678Z"
   },
   {
    "duration": 5,
    "start_time": "2022-05-20T20:21:17.790Z"
   },
   {
    "duration": 8882,
    "start_time": "2022-05-20T20:21:17.797Z"
   },
   {
    "duration": 36,
    "start_time": "2022-05-20T20:21:26.682Z"
   },
   {
    "duration": 29,
    "start_time": "2022-05-20T20:21:26.721Z"
   },
   {
    "duration": 29,
    "start_time": "2022-05-20T20:24:15.715Z"
   },
   {
    "duration": 40,
    "start_time": "2022-05-20T20:27:55.976Z"
   },
   {
    "duration": 243,
    "start_time": "2022-05-20T20:30:43.271Z"
   },
   {
    "duration": 32,
    "start_time": "2022-05-20T20:33:24.378Z"
   },
   {
    "duration": 31,
    "start_time": "2022-05-20T20:34:30.815Z"
   },
   {
    "duration": 39,
    "start_time": "2022-05-20T20:41:57.513Z"
   },
   {
    "duration": 29,
    "start_time": "2022-05-20T20:46:09.063Z"
   },
   {
    "duration": 1185,
    "start_time": "2022-05-20T20:46:56.537Z"
   },
   {
    "duration": 390,
    "start_time": "2022-05-20T20:46:57.724Z"
   },
   {
    "duration": 193,
    "start_time": "2022-05-20T20:46:58.115Z"
   },
   {
    "duration": 13,
    "start_time": "2022-05-20T20:46:58.311Z"
   },
   {
    "duration": 67,
    "start_time": "2022-05-20T20:46:58.325Z"
   },
   {
    "duration": 29,
    "start_time": "2022-05-20T20:46:58.394Z"
   },
   {
    "duration": 168,
    "start_time": "2022-05-20T20:46:58.425Z"
   },
   {
    "duration": 54,
    "start_time": "2022-05-20T20:46:58.595Z"
   },
   {
    "duration": 104,
    "start_time": "2022-05-20T20:46:58.664Z"
   },
   {
    "duration": 49,
    "start_time": "2022-05-20T20:46:58.771Z"
   },
   {
    "duration": 57,
    "start_time": "2022-05-20T20:46:58.822Z"
   },
   {
    "duration": 18,
    "start_time": "2022-05-20T20:46:58.882Z"
   },
   {
    "duration": 30,
    "start_time": "2022-05-20T20:46:58.902Z"
   },
   {
    "duration": 37,
    "start_time": "2022-05-20T20:46:58.934Z"
   },
   {
    "duration": 16,
    "start_time": "2022-05-20T20:46:58.973Z"
   },
   {
    "duration": 145,
    "start_time": "2022-05-20T20:46:58.991Z"
   },
   {
    "duration": 104,
    "start_time": "2022-05-20T20:46:59.139Z"
   },
   {
    "duration": 54,
    "start_time": "2022-05-20T20:46:59.245Z"
   },
   {
    "duration": 42,
    "start_time": "2022-05-20T20:46:59.301Z"
   },
   {
    "duration": 62,
    "start_time": "2022-05-20T20:46:59.345Z"
   },
   {
    "duration": 56,
    "start_time": "2022-05-20T20:46:59.409Z"
   },
   {
    "duration": 10,
    "start_time": "2022-05-20T20:46:59.467Z"
   },
   {
    "duration": 8889,
    "start_time": "2022-05-20T20:46:59.479Z"
   },
   {
    "duration": 28,
    "start_time": "2022-05-20T20:47:08.370Z"
   },
   {
    "duration": 33,
    "start_time": "2022-05-20T20:47:08.400Z"
   },
   {
    "duration": 58,
    "start_time": "2022-05-20T20:47:08.435Z"
   },
   {
    "duration": 268,
    "start_time": "2022-05-20T20:47:08.494Z"
   },
   {
    "duration": 309,
    "start_time": "2022-05-20T20:47:08.766Z"
   },
   {
    "duration": 270,
    "start_time": "2022-05-20T20:47:09.077Z"
   },
   {
    "duration": 239,
    "start_time": "2022-05-20T20:47:09.349Z"
   },
   {
    "duration": 234,
    "start_time": "2022-05-20T20:47:09.590Z"
   },
   {
    "duration": 363,
    "start_time": "2022-05-20T20:47:09.826Z"
   },
   {
    "duration": 277,
    "start_time": "2022-05-20T20:47:10.190Z"
   },
   {
    "duration": 9,
    "start_time": "2022-05-20T20:47:10.468Z"
   },
   {
    "duration": 16,
    "start_time": "2022-05-20T20:47:10.479Z"
   },
   {
    "duration": 25,
    "start_time": "2022-05-20T20:47:10.496Z"
   },
   {
    "duration": 25,
    "start_time": "2022-05-20T20:47:55.714Z"
   },
   {
    "duration": 9,
    "start_time": "2022-05-20T20:48:12.272Z"
   },
   {
    "duration": 10,
    "start_time": "2022-05-20T20:48:29.283Z"
   },
   {
    "duration": 11,
    "start_time": "2022-05-20T20:48:39.735Z"
   },
   {
    "duration": 27,
    "start_time": "2022-05-20T20:56:02.029Z"
   },
   {
    "duration": 15,
    "start_time": "2022-05-20T20:56:15.930Z"
   },
   {
    "duration": 120,
    "start_time": "2022-05-20T21:11:27.906Z"
   },
   {
    "duration": 1170,
    "start_time": "2022-05-20T21:11:50.661Z"
   },
   {
    "duration": 407,
    "start_time": "2022-05-20T21:11:51.833Z"
   },
   {
    "duration": 206,
    "start_time": "2022-05-20T21:11:52.242Z"
   },
   {
    "duration": 25,
    "start_time": "2022-05-20T21:11:52.450Z"
   },
   {
    "duration": 48,
    "start_time": "2022-05-20T21:11:52.480Z"
   },
   {
    "duration": 43,
    "start_time": "2022-05-20T21:11:52.530Z"
   },
   {
    "duration": 151,
    "start_time": "2022-05-20T21:11:52.575Z"
   },
   {
    "duration": 70,
    "start_time": "2022-05-20T21:11:52.727Z"
   },
   {
    "duration": 109,
    "start_time": "2022-05-20T21:11:52.798Z"
   },
   {
    "duration": 75,
    "start_time": "2022-05-20T21:11:52.910Z"
   },
   {
    "duration": 40,
    "start_time": "2022-05-20T21:11:52.987Z"
   },
   {
    "duration": 14,
    "start_time": "2022-05-20T21:11:53.028Z"
   },
   {
    "duration": 28,
    "start_time": "2022-05-20T21:11:53.066Z"
   },
   {
    "duration": 21,
    "start_time": "2022-05-20T21:11:53.096Z"
   },
   {
    "duration": 9,
    "start_time": "2022-05-20T21:11:53.119Z"
   },
   {
    "duration": 125,
    "start_time": "2022-05-20T21:11:53.131Z"
   },
   {
    "duration": 100,
    "start_time": "2022-05-20T21:11:53.259Z"
   },
   {
    "duration": 50,
    "start_time": "2022-05-20T21:11:53.361Z"
   },
   {
    "duration": 67,
    "start_time": "2022-05-20T21:11:53.413Z"
   },
   {
    "duration": 53,
    "start_time": "2022-05-20T21:11:53.482Z"
   },
   {
    "duration": 129,
    "start_time": "2022-05-20T21:11:56.648Z"
   },
   {
    "duration": 6,
    "start_time": "2022-05-20T21:16:03.696Z"
   },
   {
    "duration": 42,
    "start_time": "2022-05-20T21:44:10.895Z"
   },
   {
    "duration": 43,
    "start_time": "2022-05-20T21:51:00.009Z"
   },
   {
    "duration": 1189,
    "start_time": "2022-05-20T21:52:14.485Z"
   },
   {
    "duration": 412,
    "start_time": "2022-05-20T21:52:15.676Z"
   },
   {
    "duration": 198,
    "start_time": "2022-05-20T21:52:16.090Z"
   },
   {
    "duration": 13,
    "start_time": "2022-05-20T21:52:16.290Z"
   },
   {
    "duration": 59,
    "start_time": "2022-05-20T21:52:16.305Z"
   },
   {
    "duration": 29,
    "start_time": "2022-05-20T21:52:16.366Z"
   },
   {
    "duration": 157,
    "start_time": "2022-05-20T21:52:16.397Z"
   },
   {
    "duration": 66,
    "start_time": "2022-05-20T21:52:16.555Z"
   },
   {
    "duration": 102,
    "start_time": "2022-05-20T21:52:16.623Z"
   },
   {
    "duration": 56,
    "start_time": "2022-05-20T21:52:16.727Z"
   },
   {
    "duration": 32,
    "start_time": "2022-05-20T21:52:16.784Z"
   },
   {
    "duration": 15,
    "start_time": "2022-05-20T21:52:16.818Z"
   },
   {
    "duration": 42,
    "start_time": "2022-05-20T21:52:16.834Z"
   },
   {
    "duration": 14,
    "start_time": "2022-05-20T21:52:16.879Z"
   },
   {
    "duration": 9,
    "start_time": "2022-05-20T21:52:16.894Z"
   },
   {
    "duration": 121,
    "start_time": "2022-05-20T21:52:16.904Z"
   },
   {
    "duration": 108,
    "start_time": "2022-05-20T21:52:17.027Z"
   },
   {
    "duration": 61,
    "start_time": "2022-05-20T21:52:17.136Z"
   },
   {
    "duration": 43,
    "start_time": "2022-05-20T21:52:17.199Z"
   },
   {
    "duration": 60,
    "start_time": "2022-05-20T21:52:17.244Z"
   },
   {
    "duration": 181,
    "start_time": "2022-05-20T21:52:17.307Z"
   },
   {
    "duration": 0,
    "start_time": "2022-05-20T21:52:17.490Z"
   },
   {
    "duration": 0,
    "start_time": "2022-05-20T21:52:17.491Z"
   },
   {
    "duration": 0,
    "start_time": "2022-05-20T21:52:17.492Z"
   },
   {
    "duration": 0,
    "start_time": "2022-05-20T21:52:17.494Z"
   },
   {
    "duration": 0,
    "start_time": "2022-05-20T21:52:17.495Z"
   },
   {
    "duration": 0,
    "start_time": "2022-05-20T21:52:17.496Z"
   },
   {
    "duration": 0,
    "start_time": "2022-05-20T21:52:17.498Z"
   },
   {
    "duration": 0,
    "start_time": "2022-05-20T21:52:17.499Z"
   },
   {
    "duration": 0,
    "start_time": "2022-05-20T21:52:17.501Z"
   },
   {
    "duration": 0,
    "start_time": "2022-05-20T21:52:17.502Z"
   },
   {
    "duration": 0,
    "start_time": "2022-05-20T21:52:17.504Z"
   },
   {
    "duration": 0,
    "start_time": "2022-05-20T21:52:17.505Z"
   },
   {
    "duration": 0,
    "start_time": "2022-05-20T21:52:17.507Z"
   },
   {
    "duration": 0,
    "start_time": "2022-05-20T21:52:17.509Z"
   },
   {
    "duration": 0,
    "start_time": "2022-05-20T21:52:17.510Z"
   },
   {
    "duration": 42,
    "start_time": "2022-05-20T21:55:19.659Z"
   },
   {
    "duration": 27,
    "start_time": "2022-05-20T21:57:24.833Z"
   },
   {
    "duration": 45,
    "start_time": "2022-05-20T21:57:47.255Z"
   },
   {
    "duration": 1184,
    "start_time": "2022-05-20T22:01:16.542Z"
   },
   {
    "duration": 411,
    "start_time": "2022-05-20T22:01:17.728Z"
   },
   {
    "duration": 209,
    "start_time": "2022-05-20T22:01:18.141Z"
   },
   {
    "duration": 19,
    "start_time": "2022-05-20T22:01:18.352Z"
   },
   {
    "duration": 46,
    "start_time": "2022-05-20T22:01:18.373Z"
   },
   {
    "duration": 43,
    "start_time": "2022-05-20T22:01:18.421Z"
   },
   {
    "duration": 154,
    "start_time": "2022-05-20T22:01:18.466Z"
   },
   {
    "duration": 62,
    "start_time": "2022-05-20T22:01:18.621Z"
   },
   {
    "duration": 106,
    "start_time": "2022-05-20T22:01:18.685Z"
   },
   {
    "duration": 53,
    "start_time": "2022-05-20T22:01:18.794Z"
   },
   {
    "duration": 62,
    "start_time": "2022-05-20T22:01:18.848Z"
   },
   {
    "duration": 17,
    "start_time": "2022-05-20T22:01:18.912Z"
   },
   {
    "duration": 47,
    "start_time": "2022-05-20T22:01:18.932Z"
   },
   {
    "duration": 18,
    "start_time": "2022-05-20T22:01:18.981Z"
   },
   {
    "duration": 17,
    "start_time": "2022-05-20T22:01:19.001Z"
   },
   {
    "duration": 120,
    "start_time": "2022-05-20T22:01:19.020Z"
   },
   {
    "duration": 114,
    "start_time": "2022-05-20T22:01:19.142Z"
   },
   {
    "duration": 49,
    "start_time": "2022-05-20T22:01:19.258Z"
   },
   {
    "duration": 59,
    "start_time": "2022-05-20T22:01:19.309Z"
   },
   {
    "duration": 33,
    "start_time": "2022-05-20T22:01:22.344Z"
   },
   {
    "duration": 45,
    "start_time": "2022-05-20T22:02:40.473Z"
   },
   {
    "duration": 132,
    "start_time": "2022-05-20T22:03:11.317Z"
   },
   {
    "duration": 28,
    "start_time": "2022-05-20T22:03:27.522Z"
   },
   {
    "duration": 29,
    "start_time": "2022-05-20T22:04:02.375Z"
   },
   {
    "duration": 47,
    "start_time": "2022-05-20T22:07:46.422Z"
   },
   {
    "duration": 44,
    "start_time": "2022-05-20T22:09:27.549Z"
   },
   {
    "duration": 30,
    "start_time": "2022-05-20T22:09:51.913Z"
   },
   {
    "duration": 1197,
    "start_time": "2022-05-20T22:11:56.035Z"
   },
   {
    "duration": 398,
    "start_time": "2022-05-20T22:11:57.234Z"
   },
   {
    "duration": 188,
    "start_time": "2022-05-20T22:11:57.634Z"
   },
   {
    "duration": 12,
    "start_time": "2022-05-20T22:11:57.824Z"
   },
   {
    "duration": 61,
    "start_time": "2022-05-20T22:11:57.838Z"
   },
   {
    "duration": 29,
    "start_time": "2022-05-20T22:11:57.901Z"
   },
   {
    "duration": 155,
    "start_time": "2022-05-20T22:11:57.932Z"
   },
   {
    "duration": 59,
    "start_time": "2022-05-20T22:11:58.089Z"
   },
   {
    "duration": 101,
    "start_time": "2022-05-20T22:11:58.164Z"
   },
   {
    "duration": 44,
    "start_time": "2022-05-20T22:11:58.267Z"
   },
   {
    "duration": 31,
    "start_time": "2022-05-20T22:11:58.312Z"
   },
   {
    "duration": 15,
    "start_time": "2022-05-20T22:11:58.365Z"
   },
   {
    "duration": 18,
    "start_time": "2022-05-20T22:11:58.382Z"
   },
   {
    "duration": 15,
    "start_time": "2022-05-20T22:11:58.401Z"
   },
   {
    "duration": 8,
    "start_time": "2022-05-20T22:11:58.418Z"
   },
   {
    "duration": 122,
    "start_time": "2022-05-20T22:11:58.427Z"
   },
   {
    "duration": 106,
    "start_time": "2022-05-20T22:11:58.551Z"
   },
   {
    "duration": 44,
    "start_time": "2022-05-20T22:11:58.665Z"
   },
   {
    "duration": 57,
    "start_time": "2022-05-20T22:11:58.711Z"
   },
   {
    "duration": 45,
    "start_time": "2022-05-20T22:11:58.770Z"
   },
   {
    "duration": 1200,
    "start_time": "2022-05-20T22:13:44.467Z"
   },
   {
    "duration": 437,
    "start_time": "2022-05-20T22:13:45.669Z"
   },
   {
    "duration": 222,
    "start_time": "2022-05-20T22:13:46.107Z"
   },
   {
    "duration": 14,
    "start_time": "2022-05-20T22:13:46.332Z"
   },
   {
    "duration": 50,
    "start_time": "2022-05-20T22:13:46.364Z"
   },
   {
    "duration": 50,
    "start_time": "2022-05-20T22:13:46.416Z"
   },
   {
    "duration": 174,
    "start_time": "2022-05-20T22:13:46.467Z"
   },
   {
    "duration": 61,
    "start_time": "2022-05-20T22:13:46.643Z"
   },
   {
    "duration": 111,
    "start_time": "2022-05-20T22:13:46.706Z"
   },
   {
    "duration": 59,
    "start_time": "2022-05-20T22:13:46.820Z"
   },
   {
    "duration": 35,
    "start_time": "2022-05-20T22:13:46.881Z"
   },
   {
    "duration": 15,
    "start_time": "2022-05-20T22:13:46.918Z"
   },
   {
    "duration": 43,
    "start_time": "2022-05-20T22:13:46.934Z"
   },
   {
    "duration": 14,
    "start_time": "2022-05-20T22:13:46.979Z"
   },
   {
    "duration": 9,
    "start_time": "2022-05-20T22:13:46.994Z"
   },
   {
    "duration": 126,
    "start_time": "2022-05-20T22:13:47.005Z"
   },
   {
    "duration": 121,
    "start_time": "2022-05-20T22:13:47.133Z"
   },
   {
    "duration": 53,
    "start_time": "2022-05-20T22:13:47.256Z"
   },
   {
    "duration": 60,
    "start_time": "2022-05-20T22:13:47.311Z"
   },
   {
    "duration": 142,
    "start_time": "2022-05-20T22:13:47.373Z"
   },
   {
    "duration": 18,
    "start_time": "2022-05-20T22:14:04.975Z"
   },
   {
    "duration": 1214,
    "start_time": "2022-05-20T22:19:00.944Z"
   },
   {
    "duration": 413,
    "start_time": "2022-05-20T22:19:02.164Z"
   },
   {
    "duration": 205,
    "start_time": "2022-05-20T22:19:02.579Z"
   },
   {
    "duration": 12,
    "start_time": "2022-05-20T22:19:02.786Z"
   },
   {
    "duration": 64,
    "start_time": "2022-05-20T22:19:02.800Z"
   },
   {
    "duration": 31,
    "start_time": "2022-05-20T22:19:02.866Z"
   },
   {
    "duration": 173,
    "start_time": "2022-05-20T22:19:02.899Z"
   },
   {
    "duration": 55,
    "start_time": "2022-05-20T22:19:03.074Z"
   },
   {
    "duration": 116,
    "start_time": "2022-05-20T22:19:03.131Z"
   },
   {
    "duration": 54,
    "start_time": "2022-05-20T22:19:03.250Z"
   },
   {
    "duration": 33,
    "start_time": "2022-05-20T22:19:03.306Z"
   },
   {
    "duration": 33,
    "start_time": "2022-05-20T22:19:03.341Z"
   },
   {
    "duration": 17,
    "start_time": "2022-05-20T22:19:03.376Z"
   },
   {
    "duration": 13,
    "start_time": "2022-05-20T22:19:03.395Z"
   },
   {
    "duration": 9,
    "start_time": "2022-05-20T22:19:03.409Z"
   },
   {
    "duration": 123,
    "start_time": "2022-05-20T22:19:03.420Z"
   },
   {
    "duration": 110,
    "start_time": "2022-05-20T22:19:03.545Z"
   },
   {
    "duration": 55,
    "start_time": "2022-05-20T22:19:03.658Z"
   },
   {
    "duration": 64,
    "start_time": "2022-05-20T22:19:03.715Z"
   },
   {
    "duration": 47,
    "start_time": "2022-05-20T22:19:07.274Z"
   },
   {
    "duration": 48,
    "start_time": "2022-05-20T22:19:54.062Z"
   },
   {
    "duration": 49,
    "start_time": "2022-05-20T22:32:47.384Z"
   },
   {
    "duration": 1194,
    "start_time": "2022-05-20T22:34:37.435Z"
   },
   {
    "duration": 439,
    "start_time": "2022-05-20T22:34:38.630Z"
   },
   {
    "duration": 207,
    "start_time": "2022-05-20T22:34:39.070Z"
   },
   {
    "duration": 15,
    "start_time": "2022-05-20T22:34:39.280Z"
   },
   {
    "duration": 48,
    "start_time": "2022-05-20T22:34:39.296Z"
   },
   {
    "duration": 44,
    "start_time": "2022-05-20T22:34:39.345Z"
   },
   {
    "duration": 161,
    "start_time": "2022-05-20T22:34:39.391Z"
   },
   {
    "duration": 61,
    "start_time": "2022-05-20T22:34:39.554Z"
   },
   {
    "duration": 111,
    "start_time": "2022-05-20T22:34:39.617Z"
   },
   {
    "duration": 59,
    "start_time": "2022-05-20T22:34:39.731Z"
   },
   {
    "duration": 34,
    "start_time": "2022-05-20T22:34:39.792Z"
   },
   {
    "duration": 14,
    "start_time": "2022-05-20T22:34:39.827Z"
   },
   {
    "duration": 17,
    "start_time": "2022-05-20T22:34:39.865Z"
   },
   {
    "duration": 13,
    "start_time": "2022-05-20T22:34:39.884Z"
   },
   {
    "duration": 8,
    "start_time": "2022-05-20T22:34:39.899Z"
   },
   {
    "duration": 121,
    "start_time": "2022-05-20T22:34:39.908Z"
   },
   {
    "duration": 111,
    "start_time": "2022-05-20T22:34:40.030Z"
   },
   {
    "duration": 57,
    "start_time": "2022-05-20T22:34:40.143Z"
   },
   {
    "duration": 44,
    "start_time": "2022-05-20T22:34:40.202Z"
   },
   {
    "duration": 65,
    "start_time": "2022-05-20T22:34:40.248Z"
   },
   {
    "duration": 57,
    "start_time": "2022-05-20T22:34:40.315Z"
   },
   {
    "duration": 6,
    "start_time": "2022-05-20T22:34:40.375Z"
   },
   {
    "duration": 9716,
    "start_time": "2022-05-20T22:34:40.382Z"
   },
   {
    "duration": 29,
    "start_time": "2022-05-20T22:34:50.100Z"
   },
   {
    "duration": 53,
    "start_time": "2022-05-20T22:34:50.131Z"
   },
   {
    "duration": 35,
    "start_time": "2022-05-20T22:34:50.185Z"
   },
   {
    "duration": 326,
    "start_time": "2022-05-20T22:34:50.222Z"
   },
   {
    "duration": 247,
    "start_time": "2022-05-20T22:34:50.552Z"
   },
   {
    "duration": 251,
    "start_time": "2022-05-20T22:34:50.801Z"
   },
   {
    "duration": 244,
    "start_time": "2022-05-20T22:34:51.054Z"
   },
   {
    "duration": 243,
    "start_time": "2022-05-20T22:34:51.300Z"
   },
   {
    "duration": 346,
    "start_time": "2022-05-20T22:34:51.544Z"
   },
   {
    "duration": 256,
    "start_time": "2022-05-20T22:34:51.891Z"
   },
   {
    "duration": 16,
    "start_time": "2022-05-20T22:34:52.149Z"
   },
   {
    "duration": 11,
    "start_time": "2022-05-20T22:34:52.167Z"
   },
   {
    "duration": 13,
    "start_time": "2022-05-20T22:34:52.179Z"
   },
   {
    "duration": 1216,
    "start_time": "2022-05-20T22:42:48.987Z"
   },
   {
    "duration": 418,
    "start_time": "2022-05-20T22:42:50.204Z"
   },
   {
    "duration": 204,
    "start_time": "2022-05-20T22:42:50.624Z"
   },
   {
    "duration": 12,
    "start_time": "2022-05-20T22:42:50.830Z"
   },
   {
    "duration": 59,
    "start_time": "2022-05-20T22:42:50.843Z"
   },
   {
    "duration": 28,
    "start_time": "2022-05-20T22:42:50.904Z"
   },
   {
    "duration": 165,
    "start_time": "2022-05-20T22:42:50.934Z"
   },
   {
    "duration": 64,
    "start_time": "2022-05-20T22:42:51.100Z"
   },
   {
    "duration": 105,
    "start_time": "2022-05-20T22:42:51.166Z"
   },
   {
    "duration": 45,
    "start_time": "2022-05-20T22:42:51.274Z"
   },
   {
    "duration": 53,
    "start_time": "2022-05-20T22:42:51.321Z"
   },
   {
    "duration": 13,
    "start_time": "2022-05-20T22:42:51.376Z"
   },
   {
    "duration": 18,
    "start_time": "2022-05-20T22:42:51.391Z"
   },
   {
    "duration": 12,
    "start_time": "2022-05-20T22:42:51.411Z"
   },
   {
    "duration": 8,
    "start_time": "2022-05-20T22:42:51.425Z"
   },
   {
    "duration": 91,
    "start_time": "2022-05-20T22:42:51.465Z"
   },
   {
    "duration": 104,
    "start_time": "2022-05-20T22:42:51.564Z"
   },
   {
    "duration": 46,
    "start_time": "2022-05-20T22:42:51.670Z"
   },
   {
    "duration": 65,
    "start_time": "2022-05-20T22:42:51.718Z"
   },
   {
    "duration": 50,
    "start_time": "2022-05-20T22:42:51.784Z"
   },
   {
    "duration": 61,
    "start_time": "2022-05-20T22:42:51.836Z"
   },
   {
    "duration": 7,
    "start_time": "2022-05-20T22:42:51.899Z"
   },
   {
    "duration": 8704,
    "start_time": "2022-05-20T22:42:51.907Z"
   },
   {
    "duration": 29,
    "start_time": "2022-05-20T22:43:00.613Z"
   },
   {
    "duration": 52,
    "start_time": "2022-05-20T22:43:00.643Z"
   },
   {
    "duration": 45,
    "start_time": "2022-05-20T22:43:00.697Z"
   },
   {
    "duration": 338,
    "start_time": "2022-05-20T22:43:00.744Z"
   },
   {
    "duration": 256,
    "start_time": "2022-05-20T22:43:01.087Z"
   },
   {
    "duration": 244,
    "start_time": "2022-05-20T22:43:01.345Z"
   },
   {
    "duration": 253,
    "start_time": "2022-05-20T22:43:01.590Z"
   },
   {
    "duration": 255,
    "start_time": "2022-05-20T22:43:01.845Z"
   },
   {
    "duration": 369,
    "start_time": "2022-05-20T22:43:02.103Z"
   },
   {
    "duration": 273,
    "start_time": "2022-05-20T22:43:02.474Z"
   },
   {
    "duration": 8,
    "start_time": "2022-05-20T22:43:02.749Z"
   },
   {
    "duration": 12,
    "start_time": "2022-05-20T22:43:02.766Z"
   },
   {
    "duration": 9,
    "start_time": "2022-05-20T22:43:02.780Z"
   },
   {
    "duration": 1170,
    "start_time": "2022-05-20T22:47:23.349Z"
   },
   {
    "duration": 393,
    "start_time": "2022-05-20T22:47:24.521Z"
   },
   {
    "duration": 192,
    "start_time": "2022-05-20T22:47:24.915Z"
   },
   {
    "duration": 12,
    "start_time": "2022-05-20T22:47:25.109Z"
   },
   {
    "duration": 61,
    "start_time": "2022-05-20T22:47:25.123Z"
   },
   {
    "duration": 28,
    "start_time": "2022-05-20T22:47:25.185Z"
   },
   {
    "duration": 152,
    "start_time": "2022-05-20T22:47:25.215Z"
   },
   {
    "duration": 57,
    "start_time": "2022-05-20T22:47:25.369Z"
   },
   {
    "duration": 114,
    "start_time": "2022-05-20T22:47:25.428Z"
   },
   {
    "duration": 59,
    "start_time": "2022-05-20T22:47:25.545Z"
   },
   {
    "duration": 33,
    "start_time": "2022-05-20T22:47:25.606Z"
   },
   {
    "duration": 32,
    "start_time": "2022-05-20T22:47:25.641Z"
   },
   {
    "duration": 21,
    "start_time": "2022-05-20T22:47:25.675Z"
   },
   {
    "duration": 15,
    "start_time": "2022-05-20T22:47:25.698Z"
   },
   {
    "duration": 11,
    "start_time": "2022-05-20T22:47:25.715Z"
   },
   {
    "duration": 125,
    "start_time": "2022-05-20T22:47:25.727Z"
   },
   {
    "duration": 103,
    "start_time": "2022-05-20T22:47:25.854Z"
   },
   {
    "duration": 44,
    "start_time": "2022-05-20T22:47:25.964Z"
   },
   {
    "duration": 55,
    "start_time": "2022-05-20T22:47:26.010Z"
   },
   {
    "duration": 50,
    "start_time": "2022-05-20T22:47:26.067Z"
   },
   {
    "duration": 59,
    "start_time": "2022-05-20T22:47:26.118Z"
   },
   {
    "duration": 6,
    "start_time": "2022-05-20T22:47:26.178Z"
   },
   {
    "duration": 8639,
    "start_time": "2022-05-20T22:47:26.186Z"
   },
   {
    "duration": 40,
    "start_time": "2022-05-20T22:47:34.827Z"
   },
   {
    "duration": 34,
    "start_time": "2022-05-20T22:47:34.869Z"
   },
   {
    "duration": 31,
    "start_time": "2022-05-20T22:47:34.905Z"
   },
   {
    "duration": 345,
    "start_time": "2022-05-20T22:47:34.938Z"
   },
   {
    "duration": 234,
    "start_time": "2022-05-20T22:47:35.286Z"
   },
   {
    "duration": 236,
    "start_time": "2022-05-20T22:47:35.521Z"
   },
   {
    "duration": 241,
    "start_time": "2022-05-20T22:47:35.765Z"
   },
   {
    "duration": 245,
    "start_time": "2022-05-20T22:47:36.007Z"
   },
   {
    "duration": 337,
    "start_time": "2022-05-20T22:47:36.254Z"
   },
   {
    "duration": 259,
    "start_time": "2022-05-20T22:47:36.593Z"
   },
   {
    "duration": 14,
    "start_time": "2022-05-20T22:47:36.854Z"
   },
   {
    "duration": 11,
    "start_time": "2022-05-20T22:47:36.869Z"
   },
   {
    "duration": 10,
    "start_time": "2022-05-20T22:47:36.881Z"
   },
   {
    "duration": 1064,
    "start_time": "2022-05-21T12:39:39.741Z"
   },
   {
    "duration": 383,
    "start_time": "2022-05-21T12:39:40.807Z"
   },
   {
    "duration": 161,
    "start_time": "2022-05-21T12:39:41.192Z"
   },
   {
    "duration": 13,
    "start_time": "2022-05-21T12:39:41.355Z"
   },
   {
    "duration": 41,
    "start_time": "2022-05-21T12:39:41.369Z"
   },
   {
    "duration": 24,
    "start_time": "2022-05-21T12:39:41.411Z"
   },
   {
    "duration": 157,
    "start_time": "2022-05-21T12:39:41.437Z"
   },
   {
    "duration": 74,
    "start_time": "2022-05-21T12:39:41.596Z"
   },
   {
    "duration": 90,
    "start_time": "2022-05-21T12:39:41.673Z"
   },
   {
    "duration": 39,
    "start_time": "2022-05-21T12:39:41.765Z"
   },
   {
    "duration": 27,
    "start_time": "2022-05-21T12:39:41.806Z"
   },
   {
    "duration": 41,
    "start_time": "2022-05-21T12:39:41.834Z"
   },
   {
    "duration": 16,
    "start_time": "2022-05-21T12:39:41.876Z"
   },
   {
    "duration": 12,
    "start_time": "2022-05-21T12:39:41.894Z"
   },
   {
    "duration": 7,
    "start_time": "2022-05-21T12:39:41.907Z"
   },
   {
    "duration": 111,
    "start_time": "2022-05-21T12:39:41.915Z"
   },
   {
    "duration": 87,
    "start_time": "2022-05-21T12:39:42.028Z"
   },
   {
    "duration": 46,
    "start_time": "2022-05-21T12:39:42.117Z"
   },
   {
    "duration": 37,
    "start_time": "2022-05-21T12:39:42.165Z"
   },
   {
    "duration": 18,
    "start_time": "2022-05-21T12:39:42.203Z"
   },
   {
    "duration": 117,
    "start_time": "2022-05-21T12:39:42.222Z"
   },
   {
    "duration": 0,
    "start_time": "2022-05-21T12:39:42.341Z"
   },
   {
    "duration": 0,
    "start_time": "2022-05-21T12:39:42.342Z"
   },
   {
    "duration": 0,
    "start_time": "2022-05-21T12:39:42.344Z"
   },
   {
    "duration": 0,
    "start_time": "2022-05-21T12:39:42.345Z"
   },
   {
    "duration": 0,
    "start_time": "2022-05-21T12:39:42.346Z"
   },
   {
    "duration": 0,
    "start_time": "2022-05-21T12:39:42.359Z"
   },
   {
    "duration": 0,
    "start_time": "2022-05-21T12:39:42.360Z"
   },
   {
    "duration": 0,
    "start_time": "2022-05-21T12:39:42.361Z"
   },
   {
    "duration": 0,
    "start_time": "2022-05-21T12:39:42.362Z"
   },
   {
    "duration": 0,
    "start_time": "2022-05-21T12:39:42.363Z"
   },
   {
    "duration": 0,
    "start_time": "2022-05-21T12:39:42.365Z"
   },
   {
    "duration": 0,
    "start_time": "2022-05-21T12:39:42.365Z"
   },
   {
    "duration": 0,
    "start_time": "2022-05-21T12:39:42.367Z"
   },
   {
    "duration": 0,
    "start_time": "2022-05-21T12:39:42.367Z"
   },
   {
    "duration": 0,
    "start_time": "2022-05-21T12:39:42.368Z"
   },
   {
    "duration": 0,
    "start_time": "2022-05-21T12:39:42.370Z"
   },
   {
    "duration": 0,
    "start_time": "2022-05-21T12:39:42.370Z"
   },
   {
    "duration": 21,
    "start_time": "2022-05-21T12:39:56.428Z"
   },
   {
    "duration": 14,
    "start_time": "2022-05-21T12:40:28.519Z"
   },
   {
    "duration": 15,
    "start_time": "2022-05-21T12:40:29.122Z"
   },
   {
    "duration": 21,
    "start_time": "2022-05-21T12:42:07.685Z"
   },
   {
    "duration": 24,
    "start_time": "2022-05-21T12:42:08.800Z"
   },
   {
    "duration": 14,
    "start_time": "2022-05-21T12:42:43.279Z"
   },
   {
    "duration": 52,
    "start_time": "2022-05-21T12:43:00.206Z"
   },
   {
    "duration": 31,
    "start_time": "2022-05-21T12:43:31.105Z"
   },
   {
    "duration": 38,
    "start_time": "2022-05-21T12:44:24.197Z"
   },
   {
    "duration": 43,
    "start_time": "2022-05-21T12:45:20.313Z"
   },
   {
    "duration": 35,
    "start_time": "2022-05-21T12:45:58.001Z"
   },
   {
    "duration": 1051,
    "start_time": "2022-05-21T12:46:03.534Z"
   },
   {
    "duration": 372,
    "start_time": "2022-05-21T12:46:04.586Z"
   },
   {
    "duration": 174,
    "start_time": "2022-05-21T12:46:04.959Z"
   },
   {
    "duration": 11,
    "start_time": "2022-05-21T12:46:05.134Z"
   },
   {
    "duration": 41,
    "start_time": "2022-05-21T12:46:05.158Z"
   },
   {
    "duration": 25,
    "start_time": "2022-05-21T12:46:05.200Z"
   },
   {
    "duration": 137,
    "start_time": "2022-05-21T12:46:05.226Z"
   },
   {
    "duration": 45,
    "start_time": "2022-05-21T12:46:05.364Z"
   },
   {
    "duration": 95,
    "start_time": "2022-05-21T12:46:05.411Z"
   },
   {
    "duration": 51,
    "start_time": "2022-05-21T12:46:05.508Z"
   },
   {
    "duration": 29,
    "start_time": "2022-05-21T12:46:05.561Z"
   },
   {
    "duration": 11,
    "start_time": "2022-05-21T12:46:05.592Z"
   },
   {
    "duration": 21,
    "start_time": "2022-05-21T12:46:05.605Z"
   },
   {
    "duration": 33,
    "start_time": "2022-05-21T12:46:05.628Z"
   },
   {
    "duration": 11,
    "start_time": "2022-05-21T12:46:05.662Z"
   },
   {
    "duration": 86,
    "start_time": "2022-05-21T12:46:05.674Z"
   },
   {
    "duration": 84,
    "start_time": "2022-05-21T12:46:05.762Z"
   },
   {
    "duration": 56,
    "start_time": "2022-05-21T12:46:05.848Z"
   },
   {
    "duration": 39,
    "start_time": "2022-05-21T12:46:05.905Z"
   },
   {
    "duration": 54,
    "start_time": "2022-05-21T12:46:05.945Z"
   },
   {
    "duration": 36,
    "start_time": "2022-05-21T12:46:06.001Z"
   },
   {
    "duration": 21,
    "start_time": "2022-05-21T12:46:06.038Z"
   },
   {
    "duration": 7595,
    "start_time": "2022-05-21T12:46:06.061Z"
   },
   {
    "duration": 27,
    "start_time": "2022-05-21T12:46:13.659Z"
   },
   {
    "duration": 34,
    "start_time": "2022-05-21T12:46:13.687Z"
   },
   {
    "duration": 47,
    "start_time": "2022-05-21T12:46:13.722Z"
   },
   {
    "duration": 275,
    "start_time": "2022-05-21T12:46:13.770Z"
   },
   {
    "duration": 195,
    "start_time": "2022-05-21T12:46:14.046Z"
   },
   {
    "duration": 199,
    "start_time": "2022-05-21T12:46:14.243Z"
   },
   {
    "duration": 201,
    "start_time": "2022-05-21T12:46:14.443Z"
   },
   {
    "duration": 203,
    "start_time": "2022-05-21T12:46:14.645Z"
   },
   {
    "duration": 301,
    "start_time": "2022-05-21T12:46:14.850Z"
   },
   {
    "duration": 219,
    "start_time": "2022-05-21T12:46:15.152Z"
   },
   {
    "duration": 8,
    "start_time": "2022-05-21T12:46:15.372Z"
   },
   {
    "duration": 10,
    "start_time": "2022-05-21T12:46:15.381Z"
   },
   {
    "duration": 7,
    "start_time": "2022-05-21T12:46:15.393Z"
   },
   {
    "duration": 1046,
    "start_time": "2022-05-21T12:48:53.530Z"
   },
   {
    "duration": 391,
    "start_time": "2022-05-21T12:48:54.578Z"
   },
   {
    "duration": 175,
    "start_time": "2022-05-21T12:48:54.971Z"
   },
   {
    "duration": 15,
    "start_time": "2022-05-21T12:48:55.147Z"
   },
   {
    "duration": 41,
    "start_time": "2022-05-21T12:48:55.163Z"
   },
   {
    "duration": 24,
    "start_time": "2022-05-21T12:48:55.205Z"
   },
   {
    "duration": 140,
    "start_time": "2022-05-21T12:48:55.231Z"
   },
   {
    "duration": 46,
    "start_time": "2022-05-21T12:48:55.373Z"
   },
   {
    "duration": 95,
    "start_time": "2022-05-21T12:48:55.420Z"
   },
   {
    "duration": 47,
    "start_time": "2022-05-21T12:48:55.516Z"
   },
   {
    "duration": 26,
    "start_time": "2022-05-21T12:48:55.564Z"
   },
   {
    "duration": 11,
    "start_time": "2022-05-21T12:48:55.591Z"
   },
   {
    "duration": 17,
    "start_time": "2022-05-21T12:48:55.603Z"
   },
   {
    "duration": 10,
    "start_time": "2022-05-21T12:48:55.623Z"
   },
   {
    "duration": 6,
    "start_time": "2022-05-21T12:48:55.660Z"
   },
   {
    "duration": 91,
    "start_time": "2022-05-21T12:48:55.668Z"
   },
   {
    "duration": 83,
    "start_time": "2022-05-21T12:48:55.760Z"
   },
   {
    "duration": 59,
    "start_time": "2022-05-21T12:48:55.845Z"
   },
   {
    "duration": 40,
    "start_time": "2022-05-21T12:48:55.905Z"
   },
   {
    "duration": 50,
    "start_time": "2022-05-21T12:48:55.946Z"
   },
   {
    "duration": 34,
    "start_time": "2022-05-21T12:48:55.997Z"
   },
   {
    "duration": 5,
    "start_time": "2022-05-21T12:48:56.033Z"
   },
   {
    "duration": 7550,
    "start_time": "2022-05-21T12:48:56.059Z"
   },
   {
    "duration": 24,
    "start_time": "2022-05-21T12:49:03.610Z"
   },
   {
    "duration": 39,
    "start_time": "2022-05-21T12:49:03.635Z"
   },
   {
    "duration": 30,
    "start_time": "2022-05-21T12:49:03.675Z"
   },
   {
    "duration": 283,
    "start_time": "2022-05-21T12:49:03.706Z"
   },
   {
    "duration": 203,
    "start_time": "2022-05-21T12:49:03.990Z"
   },
   {
    "duration": 202,
    "start_time": "2022-05-21T12:49:04.194Z"
   },
   {
    "duration": 202,
    "start_time": "2022-05-21T12:49:04.398Z"
   },
   {
    "duration": 208,
    "start_time": "2022-05-21T12:49:04.601Z"
   },
   {
    "duration": 290,
    "start_time": "2022-05-21T12:49:04.810Z"
   },
   {
    "duration": 234,
    "start_time": "2022-05-21T12:49:05.102Z"
   },
   {
    "duration": 8,
    "start_time": "2022-05-21T12:49:05.337Z"
   },
   {
    "duration": 26,
    "start_time": "2022-05-21T12:49:05.347Z"
   },
   {
    "duration": 10,
    "start_time": "2022-05-21T12:49:05.374Z"
   },
   {
    "duration": 1088,
    "start_time": "2023-01-14T13:04:03.604Z"
   },
   {
    "duration": 1040,
    "start_time": "2023-01-14T13:04:04.697Z"
   },
   {
    "duration": 180,
    "start_time": "2023-01-14T13:04:05.739Z"
   },
   {
    "duration": 15,
    "start_time": "2023-01-14T13:04:05.921Z"
   },
   {
    "duration": 80,
    "start_time": "2023-01-14T13:04:05.937Z"
   },
   {
    "duration": 36,
    "start_time": "2023-01-14T13:04:06.019Z"
   },
   {
    "duration": 186,
    "start_time": "2023-01-14T13:04:06.057Z"
   },
   {
    "duration": 63,
    "start_time": "2023-01-14T13:04:06.245Z"
   },
   {
    "duration": 93,
    "start_time": "2023-01-14T13:04:06.309Z"
   },
   {
    "duration": 43,
    "start_time": "2023-01-14T13:04:06.404Z"
   },
   {
    "duration": 52,
    "start_time": "2023-01-14T13:04:06.449Z"
   },
   {
    "duration": 14,
    "start_time": "2023-01-14T13:04:06.503Z"
   },
   {
    "duration": 21,
    "start_time": "2023-01-14T13:04:06.519Z"
   },
   {
    "duration": 30,
    "start_time": "2023-01-14T13:04:06.542Z"
   },
   {
    "duration": 13,
    "start_time": "2023-01-14T13:04:06.573Z"
   },
   {
    "duration": 89,
    "start_time": "2023-01-14T13:04:06.596Z"
   },
   {
    "duration": 96,
    "start_time": "2023-01-14T13:04:06.686Z"
   },
   {
    "duration": 52,
    "start_time": "2023-01-14T13:04:06.783Z"
   },
   {
    "duration": 42,
    "start_time": "2023-01-14T13:04:06.837Z"
   },
   {
    "duration": 58,
    "start_time": "2023-01-14T13:04:06.881Z"
   },
   {
    "duration": 55,
    "start_time": "2023-01-14T13:04:06.941Z"
   },
   {
    "duration": 6,
    "start_time": "2023-01-14T13:04:06.998Z"
   },
   {
    "duration": 8427,
    "start_time": "2023-01-14T13:04:07.006Z"
   },
   {
    "duration": 30,
    "start_time": "2023-01-14T13:04:15.435Z"
   },
   {
    "duration": 54,
    "start_time": "2023-01-14T13:04:15.467Z"
   },
   {
    "duration": 34,
    "start_time": "2023-01-14T13:04:15.523Z"
   },
   {
    "duration": 255,
    "start_time": "2023-01-14T13:04:15.559Z"
   },
   {
    "duration": 261,
    "start_time": "2023-01-14T13:04:15.816Z"
   },
   {
    "duration": 265,
    "start_time": "2023-01-14T13:04:16.079Z"
   },
   {
    "duration": 300,
    "start_time": "2023-01-14T13:04:16.346Z"
   },
   {
    "duration": 225,
    "start_time": "2023-01-14T13:04:16.647Z"
   },
   {
    "duration": 225,
    "start_time": "2023-01-14T13:04:16.874Z"
   },
   {
    "duration": 249,
    "start_time": "2023-01-14T13:04:17.100Z"
   },
   {
    "duration": 8,
    "start_time": "2023-01-14T13:04:17.350Z"
   },
   {
    "duration": 9,
    "start_time": "2023-01-14T13:04:17.360Z"
   },
   {
    "duration": 30,
    "start_time": "2023-01-14T13:04:17.371Z"
   }
  ],
  "kernelspec": {
   "display_name": "Python 3 (ipykernel)",
   "language": "python",
   "name": "python3"
  },
  "language_info": {
   "codemirror_mode": {
    "name": "ipython",
    "version": 3
   },
   "file_extension": ".py",
   "mimetype": "text/x-python",
   "name": "python",
   "nbconvert_exporter": "python",
   "pygments_lexer": "ipython3",
   "version": "3.9.5"
  },
  "toc": {
   "base_numbering": 1,
   "nav_menu": {},
   "number_sections": true,
   "sideBar": true,
   "skip_h1_title": true,
   "title_cell": "Table of Contents",
   "title_sidebar": "Contents",
   "toc_cell": false,
   "toc_position": {
    "height": "477px",
    "left": "32px",
    "top": "111.125px",
    "width": "255.594px"
   },
   "toc_section_display": true,
   "toc_window_display": true
  }
 },
 "nbformat": 4,
 "nbformat_minor": 2
}
